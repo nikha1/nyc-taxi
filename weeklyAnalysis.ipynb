{
 "cells": [
  {
   "cell_type": "code",
   "execution_count": 1,
   "metadata": {
    "collapsed": true
   },
   "outputs": [],
   "source": [
    "import os as os\n",
    "import pandas as pd\n",
    "import numpy as np\n",
    "from scipy import stats, integrate\n",
    "import matplotlib.pyplot as plt\n",
    "import matplotlib as mpl\n",
    "import seaborn as sns\n",
    "from statsmodels.distributions.empirical_distribution import ECDF\n",
    "import datetime as dt\n",
    "plt.style.use('seaborn-whitegrid')\n",
    "\n",
    "plt.rcParams['image.cmap'] = 'blue'\n",
    "\n",
    "#sns.set_context('notebook',font_scale=2)\n",
    "sns.set_style(\"whitegrid\")\n",
    "% matplotlib inline"
   ]
  },
  {
   "cell_type": "code",
   "execution_count": 2,
   "metadata": {
    "collapsed": false
   },
   "outputs": [],
   "source": [
    "taxidata = pd.read_csv('data/oneweekfrom20130107.csv', parse_dates=True)"
   ]
  },
  {
   "cell_type": "code",
   "execution_count": 3,
   "metadata": {
    "collapsed": false
   },
   "outputs": [
    {
     "name": "stdout",
     "output_type": "stream",
     "text": [
      "<class 'pandas.core.frame.DataFrame'>\n",
      "RangeIndex: 3265929 entries, 0 to 3265928\n",
      "Data columns (total 21 columns):\n",
      "Unnamed: 0            int64\n",
      "Unnamed: 0.1          int64\n",
      "medallion             int64\n",
      "hack_license          int64\n",
      "vendor_id             object\n",
      "rate_code             int64\n",
      "store_and_fwd_flag    object\n",
      "pickup_datetime       object\n",
      "dropoff_datetime      object\n",
      "passenger_count       int64\n",
      "trip_time_in_secs     int64\n",
      "trip_distance         float64\n",
      "pickup_longitude      float64\n",
      "pickup_latitude       float64\n",
      "dropoff_longitude     float64\n",
      "dropoff_latitude      float64\n",
      "payment_type          object\n",
      "pfare_amount          float64\n",
      "surcharge             float64\n",
      "tip_amount            float64\n",
      "total_amount          float64\n",
      "dtypes: float64(9), int64(7), object(5)\n",
      "memory usage: 523.3+ MB\n"
     ]
    }
   ],
   "source": [
    "taxidata.info()"
   ]
  },
  {
   "cell_type": "markdown",
   "metadata": {},
   "source": [
    "So parsing doe not work, do it manually:"
   ]
  },
  {
   "cell_type": "code",
   "execution_count": 4,
   "metadata": {
    "collapsed": true
   },
   "outputs": [],
   "source": [
    "taxidata['pickup_datetime'] =pd.to_datetime(taxidata['pickup_datetime'], format = '%Y-%m-%d %H:%M:%S')\n",
    "taxidata['dropoff_datetime'] =pd.to_datetime(taxidata['dropoff_datetime'], format = '%Y-%m-%d %H:%M:%S')"
   ]
  },
  {
   "cell_type": "code",
   "execution_count": 5,
   "metadata": {
    "collapsed": false
   },
   "outputs": [
    {
     "data": {
      "text/html": [
       "<div>\n",
       "<table border=\"1\" class=\"dataframe\">\n",
       "  <thead>\n",
       "    <tr style=\"text-align: right;\">\n",
       "      <th></th>\n",
       "      <th>count</th>\n",
       "      <th>mean</th>\n",
       "      <th>std</th>\n",
       "      <th>min</th>\n",
       "      <th>25%</th>\n",
       "      <th>50%</th>\n",
       "      <th>75%</th>\n",
       "      <th>max</th>\n",
       "    </tr>\n",
       "  </thead>\n",
       "  <tbody>\n",
       "    <tr>\n",
       "      <th>Unnamed: 0</th>\n",
       "      <td>3265929.0</td>\n",
       "      <td>4.235736e+06</td>\n",
       "      <td>942792.637992</td>\n",
       "      <td>2.602772e+06</td>\n",
       "      <td>3.419254e+06</td>\n",
       "      <td>4.235736e+06</td>\n",
       "      <td>5.052218e+06</td>\n",
       "      <td>5.868700e+06</td>\n",
       "    </tr>\n",
       "    <tr>\n",
       "      <th>Unnamed: 0.1</th>\n",
       "      <td>3265929.0</td>\n",
       "      <td>4.235737e+06</td>\n",
       "      <td>942792.637992</td>\n",
       "      <td>2.602773e+06</td>\n",
       "      <td>3.419255e+06</td>\n",
       "      <td>4.235737e+06</td>\n",
       "      <td>5.052219e+06</td>\n",
       "      <td>5.868701e+06</td>\n",
       "    </tr>\n",
       "    <tr>\n",
       "      <th>medallion</th>\n",
       "      <td>3265929.0</td>\n",
       "      <td>2.013006e+09</td>\n",
       "      <td>3662.811412</td>\n",
       "      <td>2.013000e+09</td>\n",
       "      <td>2.013003e+09</td>\n",
       "      <td>2.013006e+09</td>\n",
       "      <td>2.013009e+09</td>\n",
       "      <td>2.013013e+09</td>\n",
       "    </tr>\n",
       "    <tr>\n",
       "      <th>hack_license</th>\n",
       "      <td>3265929.0</td>\n",
       "      <td>2.013014e+09</td>\n",
       "      <td>8375.177708</td>\n",
       "      <td>2.013000e+09</td>\n",
       "      <td>2.013007e+09</td>\n",
       "      <td>2.013014e+09</td>\n",
       "      <td>2.013021e+09</td>\n",
       "      <td>2.013030e+09</td>\n",
       "    </tr>\n",
       "    <tr>\n",
       "      <th>rate_code</th>\n",
       "      <td>3265929.0</td>\n",
       "      <td>1.033506e+00</td>\n",
       "      <td>0.349912</td>\n",
       "      <td>0.000000e+00</td>\n",
       "      <td>1.000000e+00</td>\n",
       "      <td>1.000000e+00</td>\n",
       "      <td>1.000000e+00</td>\n",
       "      <td>2.100000e+02</td>\n",
       "    </tr>\n",
       "    <tr>\n",
       "      <th>passenger_count</th>\n",
       "      <td>3265929.0</td>\n",
       "      <td>1.684586e+00</td>\n",
       "      <td>1.360830</td>\n",
       "      <td>0.000000e+00</td>\n",
       "      <td>1.000000e+00</td>\n",
       "      <td>1.000000e+00</td>\n",
       "      <td>2.000000e+00</td>\n",
       "      <td>2.550000e+02</td>\n",
       "    </tr>\n",
       "    <tr>\n",
       "      <th>trip_time_in_secs</th>\n",
       "      <td>3265929.0</td>\n",
       "      <td>6.835442e+02</td>\n",
       "      <td>494.571365</td>\n",
       "      <td>0.000000e+00</td>\n",
       "      <td>3.600000e+02</td>\n",
       "      <td>5.560000e+02</td>\n",
       "      <td>8.800000e+02</td>\n",
       "      <td>1.068000e+04</td>\n",
       "    </tr>\n",
       "    <tr>\n",
       "      <th>trip_distance</th>\n",
       "      <td>3265929.0</td>\n",
       "      <td>2.759258e+00</td>\n",
       "      <td>3.260096</td>\n",
       "      <td>0.000000e+00</td>\n",
       "      <td>1.010000e+00</td>\n",
       "      <td>1.700000e+00</td>\n",
       "      <td>3.050000e+00</td>\n",
       "      <td>9.960000e+01</td>\n",
       "    </tr>\n",
       "    <tr>\n",
       "      <th>pickup_longitude</th>\n",
       "      <td>3265929.0</td>\n",
       "      <td>-7.262467e+01</td>\n",
       "      <td>10.106291</td>\n",
       "      <td>-2.249272e+03</td>\n",
       "      <td>-7.399187e+01</td>\n",
       "      <td>-7.398157e+01</td>\n",
       "      <td>-7.396671e+01</td>\n",
       "      <td>0.000000e+00</td>\n",
       "    </tr>\n",
       "    <tr>\n",
       "      <th>pickup_latitude</th>\n",
       "      <td>3265929.0</td>\n",
       "      <td>4.000632e+01</td>\n",
       "      <td>9.333506</td>\n",
       "      <td>-3.547921e+03</td>\n",
       "      <td>4.073537e+01</td>\n",
       "      <td>4.075310e+01</td>\n",
       "      <td>4.076752e+01</td>\n",
       "      <td>3.310365e+03</td>\n",
       "    </tr>\n",
       "    <tr>\n",
       "      <th>dropoff_longitude</th>\n",
       "      <td>3265911.0</td>\n",
       "      <td>-7.257707e+01</td>\n",
       "      <td>10.540788</td>\n",
       "      <td>-2.350956e+03</td>\n",
       "      <td>-7.399115e+01</td>\n",
       "      <td>-7.398001e+01</td>\n",
       "      <td>-7.396381e+01</td>\n",
       "      <td>2.084300e+03</td>\n",
       "    </tr>\n",
       "    <tr>\n",
       "      <th>dropoff_latitude</th>\n",
       "      <td>3265911.0</td>\n",
       "      <td>3.997879e+01</td>\n",
       "      <td>8.490421</td>\n",
       "      <td>-3.547921e+03</td>\n",
       "      <td>4.073465e+01</td>\n",
       "      <td>4.075365e+01</td>\n",
       "      <td>4.076839e+01</td>\n",
       "      <td>3.210338e+03</td>\n",
       "    </tr>\n",
       "    <tr>\n",
       "      <th>pfare_amount</th>\n",
       "      <td>3265929.0</td>\n",
       "      <td>1.163908e+01</td>\n",
       "      <td>9.546686</td>\n",
       "      <td>2.500000e+00</td>\n",
       "      <td>6.500000e+00</td>\n",
       "      <td>9.000000e+00</td>\n",
       "      <td>1.300000e+01</td>\n",
       "      <td>5.000000e+02</td>\n",
       "    </tr>\n",
       "    <tr>\n",
       "      <th>surcharge</th>\n",
       "      <td>3265929.0</td>\n",
       "      <td>3.252027e-01</td>\n",
       "      <td>0.370270</td>\n",
       "      <td>0.000000e+00</td>\n",
       "      <td>0.000000e+00</td>\n",
       "      <td>0.000000e+00</td>\n",
       "      <td>5.000000e-01</td>\n",
       "      <td>3.000000e+00</td>\n",
       "    </tr>\n",
       "    <tr>\n",
       "      <th>tip_amount</th>\n",
       "      <td>3265929.0</td>\n",
       "      <td>1.269877e+00</td>\n",
       "      <td>2.032800</td>\n",
       "      <td>0.000000e+00</td>\n",
       "      <td>0.000000e+00</td>\n",
       "      <td>9.000000e-01</td>\n",
       "      <td>2.000000e+00</td>\n",
       "      <td>2.000000e+02</td>\n",
       "    </tr>\n",
       "    <tr>\n",
       "      <th>total_amount</th>\n",
       "      <td>3265929.0</td>\n",
       "      <td>1.393224e+01</td>\n",
       "      <td>11.352621</td>\n",
       "      <td>2.500000e+00</td>\n",
       "      <td>7.700000e+00</td>\n",
       "      <td>1.050000e+01</td>\n",
       "      <td>1.550000e+01</td>\n",
       "      <td>5.000000e+02</td>\n",
       "    </tr>\n",
       "  </tbody>\n",
       "</table>\n",
       "</div>"
      ],
      "text/plain": [
       "                       count          mean            std           min  \\\n",
       "Unnamed: 0         3265929.0  4.235736e+06  942792.637992  2.602772e+06   \n",
       "Unnamed: 0.1       3265929.0  4.235737e+06  942792.637992  2.602773e+06   \n",
       "medallion          3265929.0  2.013006e+09    3662.811412  2.013000e+09   \n",
       "hack_license       3265929.0  2.013014e+09    8375.177708  2.013000e+09   \n",
       "rate_code          3265929.0  1.033506e+00       0.349912  0.000000e+00   \n",
       "passenger_count    3265929.0  1.684586e+00       1.360830  0.000000e+00   \n",
       "trip_time_in_secs  3265929.0  6.835442e+02     494.571365  0.000000e+00   \n",
       "trip_distance      3265929.0  2.759258e+00       3.260096  0.000000e+00   \n",
       "pickup_longitude   3265929.0 -7.262467e+01      10.106291 -2.249272e+03   \n",
       "pickup_latitude    3265929.0  4.000632e+01       9.333506 -3.547921e+03   \n",
       "dropoff_longitude  3265911.0 -7.257707e+01      10.540788 -2.350956e+03   \n",
       "dropoff_latitude   3265911.0  3.997879e+01       8.490421 -3.547921e+03   \n",
       "pfare_amount       3265929.0  1.163908e+01       9.546686  2.500000e+00   \n",
       "surcharge          3265929.0  3.252027e-01       0.370270  0.000000e+00   \n",
       "tip_amount         3265929.0  1.269877e+00       2.032800  0.000000e+00   \n",
       "total_amount       3265929.0  1.393224e+01      11.352621  2.500000e+00   \n",
       "\n",
       "                            25%           50%           75%           max  \n",
       "Unnamed: 0         3.419254e+06  4.235736e+06  5.052218e+06  5.868700e+06  \n",
       "Unnamed: 0.1       3.419255e+06  4.235737e+06  5.052219e+06  5.868701e+06  \n",
       "medallion          2.013003e+09  2.013006e+09  2.013009e+09  2.013013e+09  \n",
       "hack_license       2.013007e+09  2.013014e+09  2.013021e+09  2.013030e+09  \n",
       "rate_code          1.000000e+00  1.000000e+00  1.000000e+00  2.100000e+02  \n",
       "passenger_count    1.000000e+00  1.000000e+00  2.000000e+00  2.550000e+02  \n",
       "trip_time_in_secs  3.600000e+02  5.560000e+02  8.800000e+02  1.068000e+04  \n",
       "trip_distance      1.010000e+00  1.700000e+00  3.050000e+00  9.960000e+01  \n",
       "pickup_longitude  -7.399187e+01 -7.398157e+01 -7.396671e+01  0.000000e+00  \n",
       "pickup_latitude    4.073537e+01  4.075310e+01  4.076752e+01  3.310365e+03  \n",
       "dropoff_longitude -7.399115e+01 -7.398001e+01 -7.396381e+01  2.084300e+03  \n",
       "dropoff_latitude   4.073465e+01  4.075365e+01  4.076839e+01  3.210338e+03  \n",
       "pfare_amount       6.500000e+00  9.000000e+00  1.300000e+01  5.000000e+02  \n",
       "surcharge          0.000000e+00  0.000000e+00  5.000000e-01  3.000000e+00  \n",
       "tip_amount         0.000000e+00  9.000000e-01  2.000000e+00  2.000000e+02  \n",
       "total_amount       7.700000e+00  1.050000e+01  1.550000e+01  5.000000e+02  "
      ]
     },
     "execution_count": 5,
     "metadata": {},
     "output_type": "execute_result"
    }
   ],
   "source": [
    "taxidata.describe().transpose()"
   ]
  },
  {
   "cell_type": "code",
   "execution_count": 6,
   "metadata": {
    "collapsed": false
   },
   "outputs": [
    {
     "data": {
      "text/html": [
       "<div>\n",
       "<table border=\"1\" class=\"dataframe\">\n",
       "  <thead>\n",
       "    <tr style=\"text-align: right;\">\n",
       "      <th></th>\n",
       "      <th>Unnamed: 0</th>\n",
       "      <th>Unnamed: 0.1</th>\n",
       "      <th>medallion</th>\n",
       "      <th>hack_license</th>\n",
       "      <th>vendor_id</th>\n",
       "      <th>rate_code</th>\n",
       "      <th>store_and_fwd_flag</th>\n",
       "      <th>pickup_datetime</th>\n",
       "      <th>dropoff_datetime</th>\n",
       "      <th>passenger_count</th>\n",
       "      <th>...</th>\n",
       "      <th>trip_distance</th>\n",
       "      <th>pickup_longitude</th>\n",
       "      <th>pickup_latitude</th>\n",
       "      <th>dropoff_longitude</th>\n",
       "      <th>dropoff_latitude</th>\n",
       "      <th>payment_type</th>\n",
       "      <th>pfare_amount</th>\n",
       "      <th>surcharge</th>\n",
       "      <th>tip_amount</th>\n",
       "      <th>total_amount</th>\n",
       "    </tr>\n",
       "  </thead>\n",
       "  <tbody>\n",
       "    <tr>\n",
       "      <th>0</th>\n",
       "      <td>2602772</td>\n",
       "      <td>2602773</td>\n",
       "      <td>2013001380</td>\n",
       "      <td>2013001377</td>\n",
       "      <td>VTS</td>\n",
       "      <td>1</td>\n",
       "      <td>NaN</td>\n",
       "      <td>2013-01-07</td>\n",
       "      <td>2013-01-07 00:12:00</td>\n",
       "      <td>2</td>\n",
       "      <td>...</td>\n",
       "      <td>4.24</td>\n",
       "      <td>-73.987915</td>\n",
       "      <td>40.754730</td>\n",
       "      <td>-73.957382</td>\n",
       "      <td>40.782902</td>\n",
       "      <td>CSH</td>\n",
       "      <td>13.5</td>\n",
       "      <td>0.5</td>\n",
       "      <td>0.00</td>\n",
       "      <td>14.50</td>\n",
       "    </tr>\n",
       "    <tr>\n",
       "      <th>1</th>\n",
       "      <td>2602773</td>\n",
       "      <td>2602774</td>\n",
       "      <td>2013005435</td>\n",
       "      <td>2013005432</td>\n",
       "      <td>VTS</td>\n",
       "      <td>1</td>\n",
       "      <td>NaN</td>\n",
       "      <td>2013-01-07</td>\n",
       "      <td>2013-01-07 00:04:00</td>\n",
       "      <td>3</td>\n",
       "      <td>...</td>\n",
       "      <td>1.51</td>\n",
       "      <td>-73.984917</td>\n",
       "      <td>40.736370</td>\n",
       "      <td>-73.984917</td>\n",
       "      <td>40.736370</td>\n",
       "      <td>CRD</td>\n",
       "      <td>6.0</td>\n",
       "      <td>0.5</td>\n",
       "      <td>1.30</td>\n",
       "      <td>8.30</td>\n",
       "    </tr>\n",
       "    <tr>\n",
       "      <th>2</th>\n",
       "      <td>2602774</td>\n",
       "      <td>2602775</td>\n",
       "      <td>2013002440</td>\n",
       "      <td>2013002437</td>\n",
       "      <td>VTS</td>\n",
       "      <td>1</td>\n",
       "      <td>NaN</td>\n",
       "      <td>2013-01-07</td>\n",
       "      <td>2013-01-07 00:15:00</td>\n",
       "      <td>6</td>\n",
       "      <td>...</td>\n",
       "      <td>4.86</td>\n",
       "      <td>-73.988365</td>\n",
       "      <td>40.720261</td>\n",
       "      <td>-73.920486</td>\n",
       "      <td>40.702522</td>\n",
       "      <td>CSH</td>\n",
       "      <td>16.5</td>\n",
       "      <td>0.5</td>\n",
       "      <td>0.00</td>\n",
       "      <td>17.50</td>\n",
       "    </tr>\n",
       "    <tr>\n",
       "      <th>3</th>\n",
       "      <td>2602775</td>\n",
       "      <td>2602776</td>\n",
       "      <td>2013007092</td>\n",
       "      <td>2013007088</td>\n",
       "      <td>VTS</td>\n",
       "      <td>1</td>\n",
       "      <td>NaN</td>\n",
       "      <td>2013-01-07</td>\n",
       "      <td>2013-01-07 00:14:00</td>\n",
       "      <td>1</td>\n",
       "      <td>...</td>\n",
       "      <td>6.33</td>\n",
       "      <td>-73.989822</td>\n",
       "      <td>40.702522</td>\n",
       "      <td>-74.009789</td>\n",
       "      <td>40.737411</td>\n",
       "      <td>CRD</td>\n",
       "      <td>20.0</td>\n",
       "      <td>0.5</td>\n",
       "      <td>4.10</td>\n",
       "      <td>25.10</td>\n",
       "    </tr>\n",
       "    <tr>\n",
       "      <th>4</th>\n",
       "      <td>2602776</td>\n",
       "      <td>2602777</td>\n",
       "      <td>2013003235</td>\n",
       "      <td>2013003231</td>\n",
       "      <td>VTS</td>\n",
       "      <td>1</td>\n",
       "      <td>NaN</td>\n",
       "      <td>2013-01-07</td>\n",
       "      <td>2013-01-07 00:06:00</td>\n",
       "      <td>1</td>\n",
       "      <td>...</td>\n",
       "      <td>1.70</td>\n",
       "      <td>-74.005730</td>\n",
       "      <td>40.717567</td>\n",
       "      <td>-74.006401</td>\n",
       "      <td>40.739521</td>\n",
       "      <td>CRD</td>\n",
       "      <td>7.0</td>\n",
       "      <td>0.5</td>\n",
       "      <td>1.88</td>\n",
       "      <td>9.88</td>\n",
       "    </tr>\n",
       "  </tbody>\n",
       "</table>\n",
       "<p>5 rows × 21 columns</p>\n",
       "</div>"
      ],
      "text/plain": [
       "   Unnamed: 0  Unnamed: 0.1   medallion  hack_license vendor_id  rate_code  \\\n",
       "0     2602772       2602773  2013001380    2013001377       VTS          1   \n",
       "1     2602773       2602774  2013005435    2013005432       VTS          1   \n",
       "2     2602774       2602775  2013002440    2013002437       VTS          1   \n",
       "3     2602775       2602776  2013007092    2013007088       VTS          1   \n",
       "4     2602776       2602777  2013003235    2013003231       VTS          1   \n",
       "\n",
       "  store_and_fwd_flag pickup_datetime    dropoff_datetime  passenger_count  \\\n",
       "0                NaN      2013-01-07 2013-01-07 00:12:00                2   \n",
       "1                NaN      2013-01-07 2013-01-07 00:04:00                3   \n",
       "2                NaN      2013-01-07 2013-01-07 00:15:00                6   \n",
       "3                NaN      2013-01-07 2013-01-07 00:14:00                1   \n",
       "4                NaN      2013-01-07 2013-01-07 00:06:00                1   \n",
       "\n",
       "       ...       trip_distance  pickup_longitude  pickup_latitude  \\\n",
       "0      ...                4.24        -73.987915        40.754730   \n",
       "1      ...                1.51        -73.984917        40.736370   \n",
       "2      ...                4.86        -73.988365        40.720261   \n",
       "3      ...                6.33        -73.989822        40.702522   \n",
       "4      ...                1.70        -74.005730        40.717567   \n",
       "\n",
       "   dropoff_longitude  dropoff_latitude  payment_type pfare_amount  surcharge  \\\n",
       "0         -73.957382         40.782902           CSH         13.5        0.5   \n",
       "1         -73.984917         40.736370           CRD          6.0        0.5   \n",
       "2         -73.920486         40.702522           CSH         16.5        0.5   \n",
       "3         -74.009789         40.737411           CRD         20.0        0.5   \n",
       "4         -74.006401         40.739521           CRD          7.0        0.5   \n",
       "\n",
       "   tip_amount  total_amount  \n",
       "0        0.00         14.50  \n",
       "1        1.30          8.30  \n",
       "2        0.00         17.50  \n",
       "3        4.10         25.10  \n",
       "4        1.88          9.88  \n",
       "\n",
       "[5 rows x 21 columns]"
      ]
     },
     "execution_count": 6,
     "metadata": {},
     "output_type": "execute_result"
    }
   ],
   "source": [
    "taxidata.head()"
   ]
  },
  {
   "cell_type": "code",
   "execution_count": 7,
   "metadata": {
    "collapsed": false
   },
   "outputs": [],
   "source": [
    "payments = taxidata.payment_type.value_counts()"
   ]
  },
  {
   "cell_type": "code",
   "execution_count": 8,
   "metadata": {
    "collapsed": false
   },
   "outputs": [
    {
     "data": {
      "text/plain": [
       "CRD    0.528261\n",
       "CSH    0.468309\n",
       "NOC    0.002203\n",
       "DIS    0.000782\n",
       "UNK    0.000446\n",
       "Name: payment_type, dtype: float64"
      ]
     },
     "execution_count": 8,
     "metadata": {},
     "output_type": "execute_result"
    }
   ],
   "source": [
    "payments/len(taxidata)"
   ]
  },
  {
   "cell_type": "markdown",
   "metadata": {},
   "source": [
    "# <font color = 'red'> Drop NOC, DIS, UNK? </font color>"
   ]
  },
  {
   "cell_type": "markdown",
   "metadata": {},
   "source": [
    "# <font color = 'blue'>  So thats the statistic about payments. Remember, there are to tips recorded for cash payment. </font color>"
   ]
  },
  {
   "cell_type": "markdown",
   "metadata": {},
   "source": [
    "We are not interested in the following features (they do not add any further information):"
   ]
  },
  {
   "cell_type": "code",
   "execution_count": 9,
   "metadata": {
    "collapsed": false
   },
   "outputs": [],
   "source": [
    "taxidata = taxidata.drop(['Unnamed: 0', 'Unnamed: 0.1','vendor_id', \n",
    "               'rate_code', 'store_and_fwd_flag',  'pfare_amount', 'payment_type', \n",
    "               'surcharge'], axis=1)"
   ]
  },
  {
   "cell_type": "code",
   "execution_count": 10,
   "metadata": {
    "collapsed": false
   },
   "outputs": [
    {
     "data": {
      "text/html": [
       "<div>\n",
       "<table border=\"1\" class=\"dataframe\">\n",
       "  <thead>\n",
       "    <tr style=\"text-align: right;\">\n",
       "      <th></th>\n",
       "      <th>count</th>\n",
       "      <th>mean</th>\n",
       "      <th>std</th>\n",
       "      <th>min</th>\n",
       "      <th>25%</th>\n",
       "      <th>50%</th>\n",
       "      <th>75%</th>\n",
       "      <th>max</th>\n",
       "    </tr>\n",
       "  </thead>\n",
       "  <tbody>\n",
       "    <tr>\n",
       "      <th>medallion</th>\n",
       "      <td>3265929.0</td>\n",
       "      <td>2.013006e+09</td>\n",
       "      <td>3662.811412</td>\n",
       "      <td>2.013000e+09</td>\n",
       "      <td>2.013003e+09</td>\n",
       "      <td>2.013006e+09</td>\n",
       "      <td>2.013009e+09</td>\n",
       "      <td>2.013013e+09</td>\n",
       "    </tr>\n",
       "    <tr>\n",
       "      <th>hack_license</th>\n",
       "      <td>3265929.0</td>\n",
       "      <td>2.013014e+09</td>\n",
       "      <td>8375.177708</td>\n",
       "      <td>2.013000e+09</td>\n",
       "      <td>2.013007e+09</td>\n",
       "      <td>2.013014e+09</td>\n",
       "      <td>2.013021e+09</td>\n",
       "      <td>2.013030e+09</td>\n",
       "    </tr>\n",
       "    <tr>\n",
       "      <th>passenger_count</th>\n",
       "      <td>3265929.0</td>\n",
       "      <td>1.684586e+00</td>\n",
       "      <td>1.360830</td>\n",
       "      <td>0.000000e+00</td>\n",
       "      <td>1.000000e+00</td>\n",
       "      <td>1.000000e+00</td>\n",
       "      <td>2.000000e+00</td>\n",
       "      <td>2.550000e+02</td>\n",
       "    </tr>\n",
       "    <tr>\n",
       "      <th>trip_time_in_secs</th>\n",
       "      <td>3265929.0</td>\n",
       "      <td>6.835442e+02</td>\n",
       "      <td>494.571365</td>\n",
       "      <td>0.000000e+00</td>\n",
       "      <td>3.600000e+02</td>\n",
       "      <td>5.560000e+02</td>\n",
       "      <td>8.800000e+02</td>\n",
       "      <td>1.068000e+04</td>\n",
       "    </tr>\n",
       "    <tr>\n",
       "      <th>trip_distance</th>\n",
       "      <td>3265929.0</td>\n",
       "      <td>2.759258e+00</td>\n",
       "      <td>3.260096</td>\n",
       "      <td>0.000000e+00</td>\n",
       "      <td>1.010000e+00</td>\n",
       "      <td>1.700000e+00</td>\n",
       "      <td>3.050000e+00</td>\n",
       "      <td>9.960000e+01</td>\n",
       "    </tr>\n",
       "    <tr>\n",
       "      <th>pickup_longitude</th>\n",
       "      <td>3265929.0</td>\n",
       "      <td>-7.262467e+01</td>\n",
       "      <td>10.106291</td>\n",
       "      <td>-2.249272e+03</td>\n",
       "      <td>-7.399187e+01</td>\n",
       "      <td>-7.398157e+01</td>\n",
       "      <td>-7.396671e+01</td>\n",
       "      <td>0.000000e+00</td>\n",
       "    </tr>\n",
       "    <tr>\n",
       "      <th>pickup_latitude</th>\n",
       "      <td>3265929.0</td>\n",
       "      <td>4.000632e+01</td>\n",
       "      <td>9.333506</td>\n",
       "      <td>-3.547921e+03</td>\n",
       "      <td>4.073537e+01</td>\n",
       "      <td>4.075310e+01</td>\n",
       "      <td>4.076752e+01</td>\n",
       "      <td>3.310365e+03</td>\n",
       "    </tr>\n",
       "    <tr>\n",
       "      <th>dropoff_longitude</th>\n",
       "      <td>3265911.0</td>\n",
       "      <td>-7.257707e+01</td>\n",
       "      <td>10.540788</td>\n",
       "      <td>-2.350956e+03</td>\n",
       "      <td>-7.399115e+01</td>\n",
       "      <td>-7.398001e+01</td>\n",
       "      <td>-7.396381e+01</td>\n",
       "      <td>2.084300e+03</td>\n",
       "    </tr>\n",
       "    <tr>\n",
       "      <th>dropoff_latitude</th>\n",
       "      <td>3265911.0</td>\n",
       "      <td>3.997879e+01</td>\n",
       "      <td>8.490421</td>\n",
       "      <td>-3.547921e+03</td>\n",
       "      <td>4.073465e+01</td>\n",
       "      <td>4.075365e+01</td>\n",
       "      <td>4.076839e+01</td>\n",
       "      <td>3.210338e+03</td>\n",
       "    </tr>\n",
       "    <tr>\n",
       "      <th>tip_amount</th>\n",
       "      <td>3265929.0</td>\n",
       "      <td>1.269877e+00</td>\n",
       "      <td>2.032800</td>\n",
       "      <td>0.000000e+00</td>\n",
       "      <td>0.000000e+00</td>\n",
       "      <td>9.000000e-01</td>\n",
       "      <td>2.000000e+00</td>\n",
       "      <td>2.000000e+02</td>\n",
       "    </tr>\n",
       "    <tr>\n",
       "      <th>total_amount</th>\n",
       "      <td>3265929.0</td>\n",
       "      <td>1.393224e+01</td>\n",
       "      <td>11.352621</td>\n",
       "      <td>2.500000e+00</td>\n",
       "      <td>7.700000e+00</td>\n",
       "      <td>1.050000e+01</td>\n",
       "      <td>1.550000e+01</td>\n",
       "      <td>5.000000e+02</td>\n",
       "    </tr>\n",
       "  </tbody>\n",
       "</table>\n",
       "</div>"
      ],
      "text/plain": [
       "                       count          mean          std           min  \\\n",
       "medallion          3265929.0  2.013006e+09  3662.811412  2.013000e+09   \n",
       "hack_license       3265929.0  2.013014e+09  8375.177708  2.013000e+09   \n",
       "passenger_count    3265929.0  1.684586e+00     1.360830  0.000000e+00   \n",
       "trip_time_in_secs  3265929.0  6.835442e+02   494.571365  0.000000e+00   \n",
       "trip_distance      3265929.0  2.759258e+00     3.260096  0.000000e+00   \n",
       "pickup_longitude   3265929.0 -7.262467e+01    10.106291 -2.249272e+03   \n",
       "pickup_latitude    3265929.0  4.000632e+01     9.333506 -3.547921e+03   \n",
       "dropoff_longitude  3265911.0 -7.257707e+01    10.540788 -2.350956e+03   \n",
       "dropoff_latitude   3265911.0  3.997879e+01     8.490421 -3.547921e+03   \n",
       "tip_amount         3265929.0  1.269877e+00     2.032800  0.000000e+00   \n",
       "total_amount       3265929.0  1.393224e+01    11.352621  2.500000e+00   \n",
       "\n",
       "                            25%           50%           75%           max  \n",
       "medallion          2.013003e+09  2.013006e+09  2.013009e+09  2.013013e+09  \n",
       "hack_license       2.013007e+09  2.013014e+09  2.013021e+09  2.013030e+09  \n",
       "passenger_count    1.000000e+00  1.000000e+00  2.000000e+00  2.550000e+02  \n",
       "trip_time_in_secs  3.600000e+02  5.560000e+02  8.800000e+02  1.068000e+04  \n",
       "trip_distance      1.010000e+00  1.700000e+00  3.050000e+00  9.960000e+01  \n",
       "pickup_longitude  -7.399187e+01 -7.398157e+01 -7.396671e+01  0.000000e+00  \n",
       "pickup_latitude    4.073537e+01  4.075310e+01  4.076752e+01  3.310365e+03  \n",
       "dropoff_longitude -7.399115e+01 -7.398001e+01 -7.396381e+01  2.084300e+03  \n",
       "dropoff_latitude   4.073465e+01  4.075365e+01  4.076839e+01  3.210338e+03  \n",
       "tip_amount         0.000000e+00  9.000000e-01  2.000000e+00  2.000000e+02  \n",
       "total_amount       7.700000e+00  1.050000e+01  1.550000e+01  5.000000e+02  "
      ]
     },
     "execution_count": 10,
     "metadata": {},
     "output_type": "execute_result"
    }
   ],
   "source": [
    "taxidata.describe().transpose()"
   ]
  },
  {
   "cell_type": "markdown",
   "metadata": {},
   "source": [
    "# Check for missing and false data:"
   ]
  },
  {
   "cell_type": "code",
   "execution_count": 11,
   "metadata": {
    "collapsed": false
   },
   "outputs": [
    {
     "data": {
      "text/plain": [
       "medallion             0\n",
       "hack_license          0\n",
       "pickup_datetime       0\n",
       "dropoff_datetime      0\n",
       "passenger_count       0\n",
       "trip_time_in_secs     0\n",
       "trip_distance         0\n",
       "pickup_longitude      0\n",
       "pickup_latitude       0\n",
       "dropoff_longitude    18\n",
       "dropoff_latitude     18\n",
       "tip_amount            0\n",
       "total_amount          0\n",
       "dtype: int64"
      ]
     },
     "execution_count": 11,
     "metadata": {},
     "output_type": "execute_result"
    }
   ],
   "source": [
    "taxidata.isnull().sum()"
   ]
  },
  {
   "cell_type": "markdown",
   "metadata": {},
   "source": [
    "So there is not that much data missing. That's quite surprising, maybe it's wrong."
   ]
  },
  {
   "cell_type": "code",
   "execution_count": 12,
   "metadata": {
    "collapsed": false
   },
   "outputs": [
    {
     "data": {
      "text/plain": [
       "medallion                  0\n",
       "hack_license               0\n",
       "pickup_datetime            0\n",
       "dropoff_datetime           0\n",
       "passenger_count           41\n",
       "trip_time_in_secs       7469\n",
       "trip_distance          18403\n",
       "pickup_longitude       59605\n",
       "pickup_latitude        59102\n",
       "dropoff_longitude      61733\n",
       "dropoff_latitude       61229\n",
       "tip_amount           1584618\n",
       "total_amount               0\n",
       "dtype: int64"
      ]
     },
     "execution_count": 12,
     "metadata": {},
     "output_type": "execute_result"
    }
   ],
   "source": [
    "(taxidata==0).sum()"
   ]
  },
  {
   "cell_type": "markdown",
   "metadata": {},
   "source": [
    "So we have many zeros in the data. How much percent?"
   ]
  },
  {
   "cell_type": "code",
   "execution_count": 13,
   "metadata": {
    "collapsed": false
   },
   "outputs": [
    {
     "data": {
      "text/plain": [
       "medallion            0.000000\n",
       "hack_license         0.000000\n",
       "pickup_datetime      0.000000\n",
       "dropoff_datetime     0.000000\n",
       "passenger_count      0.000013\n",
       "trip_time_in_secs    0.002287\n",
       "trip_distance        0.005635\n",
       "pickup_longitude     0.018251\n",
       "pickup_latitude      0.018097\n",
       "dropoff_longitude    0.018902\n",
       "dropoff_latitude     0.018748\n",
       "tip_amount           0.485197\n",
       "total_amount         0.000000\n",
       "dtype: float64"
      ]
     },
     "execution_count": 13,
     "metadata": {},
     "output_type": "execute_result"
    }
   ],
   "source": [
    "(taxidata==0).sum()/len(taxidata)"
   ]
  },
  {
   "cell_type": "markdown",
   "metadata": {},
   "source": [
    "# <font color = 'blue' > Most of the zeros are missing data. So flag them as NaN (means also NA) to be consistent! </font color>"
   ]
  },
  {
   "cell_type": "code",
   "execution_count": 14,
   "metadata": {
    "collapsed": false
   },
   "outputs": [],
   "source": [
    "taxidata = taxidata.replace(np.float64(0), np.nan);"
   ]
  },
  {
   "cell_type": "code",
   "execution_count": 15,
   "metadata": {
    "collapsed": false
   },
   "outputs": [
    {
     "data": {
      "text/plain": [
       "medallion                  0\n",
       "hack_license               0\n",
       "pickup_datetime            0\n",
       "dropoff_datetime           0\n",
       "passenger_count           41\n",
       "trip_time_in_secs       7469\n",
       "trip_distance          18403\n",
       "pickup_longitude       59605\n",
       "pickup_latitude        59102\n",
       "dropoff_longitude      61751\n",
       "dropoff_latitude       61247\n",
       "tip_amount           1584618\n",
       "total_amount               0\n",
       "dtype: int64"
      ]
     },
     "execution_count": 15,
     "metadata": {},
     "output_type": "execute_result"
    }
   ],
   "source": [
    "taxidata.isnull().sum()"
   ]
  },
  {
   "cell_type": "markdown",
   "metadata": {},
   "source": [
    "Identify the the cases without geo data and remove them from our data to be processed."
   ]
  },
  {
   "cell_type": "code",
   "execution_count": 16,
   "metadata": {
    "collapsed": true
   },
   "outputs": [],
   "source": [
    "anomaly = taxidata.loc[(taxidata['dropoff_longitude'].isnull()) | (taxidata['dropoff_latitude'].isnull()) | \n",
    "                       (taxidata['pickup_longitude'].isnull()) | (taxidata['pickup_latitude'].isnull())]\n",
    "taxidata = taxidata.drop(anomaly.index)"
   ]
  },
  {
   "cell_type": "code",
   "execution_count": 17,
   "metadata": {
    "collapsed": true
   },
   "outputs": [],
   "source": [
    "anomaly['flag'] = 'geo_NA'"
   ]
  },
  {
   "cell_type": "code",
   "execution_count": 18,
   "metadata": {
    "collapsed": false
   },
   "outputs": [
    {
     "data": {
      "text/plain": [
       "medallion                  0\n",
       "hack_license               0\n",
       "pickup_datetime            0\n",
       "dropoff_datetime           0\n",
       "passenger_count           17\n",
       "trip_time_in_secs       2144\n",
       "trip_distance          13098\n",
       "pickup_longitude           0\n",
       "pickup_latitude            0\n",
       "dropoff_longitude          0\n",
       "dropoff_latitude           0\n",
       "tip_amount           1552688\n",
       "total_amount               0\n",
       "dtype: int64"
      ]
     },
     "execution_count": 18,
     "metadata": {},
     "output_type": "execute_result"
    }
   ],
   "source": [
    "taxidata.isnull().sum()"
   ]
  },
  {
   "cell_type": "markdown",
   "metadata": {},
   "source": [
    "So how many percent of data are left to be processed?"
   ]
  },
  {
   "cell_type": "code",
   "execution_count": 19,
   "metadata": {
    "collapsed": false
   },
   "outputs": [
    {
     "data": {
      "text/plain": [
       "0.9804744683671935"
      ]
     },
     "execution_count": 19,
     "metadata": {},
     "output_type": "execute_result"
    }
   ],
   "source": [
    "len(taxidata)/(len(taxidata)+len(anomaly))"
   ]
  },
  {
   "cell_type": "markdown",
   "metadata": {},
   "source": [
    "# <font color = 'blue'> So we only dropped 2% of the data because of missing geo tags. Someone could search the 'anomaly'-data for patterns, e.g. for fraud detection. We are also going to drop all the unrecognized trip_distances because we cannot (exactly) generate them (an approximation would be possible). Missing values in trip_time_in_secs can be generated. </font color>"
   ]
  },
  {
   "cell_type": "code",
   "execution_count": 20,
   "metadata": {
    "collapsed": false
   },
   "outputs": [],
   "source": [
    "#taxidata.loc[(taxidata['trip_distance'].isnull())]\n",
    "#print(len(anomaly))\n",
    "anomaly = anomaly.append(taxidata.loc[(taxidata['trip_distance'].isnull())])\n",
    "#anomaly.tail()\n",
    "#taxidata = taxidata.drop(anomaly.index)"
   ]
  },
  {
   "cell_type": "code",
   "execution_count": 21,
   "metadata": {
    "collapsed": false
   },
   "outputs": [
    {
     "data": {
      "text/html": [
       "<div>\n",
       "<table border=\"1\" class=\"dataframe\">\n",
       "  <thead>\n",
       "    <tr style=\"text-align: right;\">\n",
       "      <th></th>\n",
       "      <th>dropoff_datetime</th>\n",
       "      <th>dropoff_latitude</th>\n",
       "      <th>dropoff_longitude</th>\n",
       "      <th>flag</th>\n",
       "      <th>hack_license</th>\n",
       "      <th>medallion</th>\n",
       "      <th>passenger_count</th>\n",
       "      <th>pickup_datetime</th>\n",
       "      <th>pickup_latitude</th>\n",
       "      <th>pickup_longitude</th>\n",
       "      <th>tip_amount</th>\n",
       "      <th>total_amount</th>\n",
       "      <th>trip_distance</th>\n",
       "      <th>trip_time_in_secs</th>\n",
       "    </tr>\n",
       "  </thead>\n",
       "  <tbody>\n",
       "    <tr>\n",
       "      <th>3265501</th>\n",
       "      <td>2013-01-13 23:57:33</td>\n",
       "      <td>40.710545</td>\n",
       "      <td>-74.013443</td>\n",
       "      <td>NaN</td>\n",
       "      <td>2013007949</td>\n",
       "      <td>2013007953</td>\n",
       "      <td>2.0</td>\n",
       "      <td>2013-01-13 23:57:17</td>\n",
       "      <td>40.710499</td>\n",
       "      <td>-74.013458</td>\n",
       "      <td>14.32</td>\n",
       "      <td>71.62</td>\n",
       "      <td>NaN</td>\n",
       "      <td>16.0</td>\n",
       "    </tr>\n",
       "    <tr>\n",
       "      <th>3265507</th>\n",
       "      <td>2013-01-13 23:57:22</td>\n",
       "      <td>40.705894</td>\n",
       "      <td>-74.006660</td>\n",
       "      <td>NaN</td>\n",
       "      <td>2013002046</td>\n",
       "      <td>2013002049</td>\n",
       "      <td>1.0</td>\n",
       "      <td>2013-01-13 23:57:20</td>\n",
       "      <td>40.705894</td>\n",
       "      <td>-74.006660</td>\n",
       "      <td>7.50</td>\n",
       "      <td>60.00</td>\n",
       "      <td>NaN</td>\n",
       "      <td>2.0</td>\n",
       "    </tr>\n",
       "    <tr>\n",
       "      <th>3265626</th>\n",
       "      <td>2013-01-13 23:58:00</td>\n",
       "      <td>40.719223</td>\n",
       "      <td>-73.987015</td>\n",
       "      <td>NaN</td>\n",
       "      <td>2013030283</td>\n",
       "      <td>2013010476</td>\n",
       "      <td>1.0</td>\n",
       "      <td>2013-01-13 23:58:00</td>\n",
       "      <td>40.719227</td>\n",
       "      <td>-73.987038</td>\n",
       "      <td>13.00</td>\n",
       "      <td>70.30</td>\n",
       "      <td>NaN</td>\n",
       "      <td>NaN</td>\n",
       "    </tr>\n",
       "    <tr>\n",
       "      <th>3265655</th>\n",
       "      <td>2013-01-13 23:58:22</td>\n",
       "      <td>40.739307</td>\n",
       "      <td>-73.979889</td>\n",
       "      <td>NaN</td>\n",
       "      <td>2013007009</td>\n",
       "      <td>2013010587</td>\n",
       "      <td>1.0</td>\n",
       "      <td>2013-01-13 23:58:03</td>\n",
       "      <td>40.739300</td>\n",
       "      <td>-73.979881</td>\n",
       "      <td>NaN</td>\n",
       "      <td>3.50</td>\n",
       "      <td>NaN</td>\n",
       "      <td>18.0</td>\n",
       "    </tr>\n",
       "    <tr>\n",
       "      <th>3265707</th>\n",
       "      <td>2013-01-14 00:01:27</td>\n",
       "      <td>40.747421</td>\n",
       "      <td>-73.990158</td>\n",
       "      <td>NaN</td>\n",
       "      <td>2013028238</td>\n",
       "      <td>2013008346</td>\n",
       "      <td>1.0</td>\n",
       "      <td>2013-01-13 23:58:35</td>\n",
       "      <td>40.747421</td>\n",
       "      <td>-73.990158</td>\n",
       "      <td>NaN</td>\n",
       "      <td>90.00</td>\n",
       "      <td>NaN</td>\n",
       "      <td>172.0</td>\n",
       "    </tr>\n",
       "  </tbody>\n",
       "</table>\n",
       "</div>"
      ],
      "text/plain": [
       "           dropoff_datetime  dropoff_latitude  dropoff_longitude flag  \\\n",
       "3265501 2013-01-13 23:57:33         40.710545         -74.013443  NaN   \n",
       "3265507 2013-01-13 23:57:22         40.705894         -74.006660  NaN   \n",
       "3265626 2013-01-13 23:58:00         40.719223         -73.987015  NaN   \n",
       "3265655 2013-01-13 23:58:22         40.739307         -73.979889  NaN   \n",
       "3265707 2013-01-14 00:01:27         40.747421         -73.990158  NaN   \n",
       "\n",
       "         hack_license   medallion  passenger_count     pickup_datetime  \\\n",
       "3265501    2013007949  2013007953              2.0 2013-01-13 23:57:17   \n",
       "3265507    2013002046  2013002049              1.0 2013-01-13 23:57:20   \n",
       "3265626    2013030283  2013010476              1.0 2013-01-13 23:58:00   \n",
       "3265655    2013007009  2013010587              1.0 2013-01-13 23:58:03   \n",
       "3265707    2013028238  2013008346              1.0 2013-01-13 23:58:35   \n",
       "\n",
       "         pickup_latitude  pickup_longitude  tip_amount  total_amount  \\\n",
       "3265501        40.710499        -74.013458       14.32         71.62   \n",
       "3265507        40.705894        -74.006660        7.50         60.00   \n",
       "3265626        40.719227        -73.987038       13.00         70.30   \n",
       "3265655        40.739300        -73.979881         NaN          3.50   \n",
       "3265707        40.747421        -73.990158         NaN         90.00   \n",
       "\n",
       "         trip_distance  trip_time_in_secs  \n",
       "3265501            NaN               16.0  \n",
       "3265507            NaN                2.0  \n",
       "3265626            NaN                NaN  \n",
       "3265655            NaN               18.0  \n",
       "3265707            NaN              172.0  "
      ]
     },
     "execution_count": 21,
     "metadata": {},
     "output_type": "execute_result"
    }
   ],
   "source": [
    "anomaly.tail()"
   ]
  },
  {
   "cell_type": "code",
   "execution_count": 22,
   "metadata": {
    "collapsed": false
   },
   "outputs": [],
   "source": [
    "#anomaly.iloc[taxidata.loc[(taxidata['trip_distance'].isnull().index]['flag'] = 'trip_dist_NA'\n",
    "# Be carefol! Do not work on the view but on the data! There is a difference between [col1, col2] and [col1][col2]!\n",
    "anomaly.loc[taxidata.loc[(taxidata['trip_distance'].isnull())].index,'flag'] = 'trip_dist_NA'"
   ]
  },
  {
   "cell_type": "code",
   "execution_count": 23,
   "metadata": {
    "collapsed": false
   },
   "outputs": [
    {
     "data": {
      "text/html": [
       "<div>\n",
       "<table border=\"1\" class=\"dataframe\">\n",
       "  <thead>\n",
       "    <tr style=\"text-align: right;\">\n",
       "      <th></th>\n",
       "      <th>dropoff_datetime</th>\n",
       "      <th>dropoff_latitude</th>\n",
       "      <th>dropoff_longitude</th>\n",
       "      <th>flag</th>\n",
       "      <th>hack_license</th>\n",
       "      <th>medallion</th>\n",
       "      <th>passenger_count</th>\n",
       "      <th>pickup_datetime</th>\n",
       "      <th>pickup_latitude</th>\n",
       "      <th>pickup_longitude</th>\n",
       "      <th>tip_amount</th>\n",
       "      <th>total_amount</th>\n",
       "      <th>trip_distance</th>\n",
       "      <th>trip_time_in_secs</th>\n",
       "    </tr>\n",
       "  </thead>\n",
       "  <tbody>\n",
       "    <tr>\n",
       "      <th>3265501</th>\n",
       "      <td>2013-01-13 23:57:33</td>\n",
       "      <td>40.710545</td>\n",
       "      <td>-74.013443</td>\n",
       "      <td>trip_dist_NA</td>\n",
       "      <td>2013007949</td>\n",
       "      <td>2013007953</td>\n",
       "      <td>2.0</td>\n",
       "      <td>2013-01-13 23:57:17</td>\n",
       "      <td>40.710499</td>\n",
       "      <td>-74.013458</td>\n",
       "      <td>14.32</td>\n",
       "      <td>71.62</td>\n",
       "      <td>NaN</td>\n",
       "      <td>16.0</td>\n",
       "    </tr>\n",
       "    <tr>\n",
       "      <th>3265507</th>\n",
       "      <td>2013-01-13 23:57:22</td>\n",
       "      <td>40.705894</td>\n",
       "      <td>-74.006660</td>\n",
       "      <td>trip_dist_NA</td>\n",
       "      <td>2013002046</td>\n",
       "      <td>2013002049</td>\n",
       "      <td>1.0</td>\n",
       "      <td>2013-01-13 23:57:20</td>\n",
       "      <td>40.705894</td>\n",
       "      <td>-74.006660</td>\n",
       "      <td>7.50</td>\n",
       "      <td>60.00</td>\n",
       "      <td>NaN</td>\n",
       "      <td>2.0</td>\n",
       "    </tr>\n",
       "    <tr>\n",
       "      <th>3265626</th>\n",
       "      <td>2013-01-13 23:58:00</td>\n",
       "      <td>40.719223</td>\n",
       "      <td>-73.987015</td>\n",
       "      <td>trip_dist_NA</td>\n",
       "      <td>2013030283</td>\n",
       "      <td>2013010476</td>\n",
       "      <td>1.0</td>\n",
       "      <td>2013-01-13 23:58:00</td>\n",
       "      <td>40.719227</td>\n",
       "      <td>-73.987038</td>\n",
       "      <td>13.00</td>\n",
       "      <td>70.30</td>\n",
       "      <td>NaN</td>\n",
       "      <td>NaN</td>\n",
       "    </tr>\n",
       "    <tr>\n",
       "      <th>3265655</th>\n",
       "      <td>2013-01-13 23:58:22</td>\n",
       "      <td>40.739307</td>\n",
       "      <td>-73.979889</td>\n",
       "      <td>trip_dist_NA</td>\n",
       "      <td>2013007009</td>\n",
       "      <td>2013010587</td>\n",
       "      <td>1.0</td>\n",
       "      <td>2013-01-13 23:58:03</td>\n",
       "      <td>40.739300</td>\n",
       "      <td>-73.979881</td>\n",
       "      <td>NaN</td>\n",
       "      <td>3.50</td>\n",
       "      <td>NaN</td>\n",
       "      <td>18.0</td>\n",
       "    </tr>\n",
       "    <tr>\n",
       "      <th>3265707</th>\n",
       "      <td>2013-01-14 00:01:27</td>\n",
       "      <td>40.747421</td>\n",
       "      <td>-73.990158</td>\n",
       "      <td>trip_dist_NA</td>\n",
       "      <td>2013028238</td>\n",
       "      <td>2013008346</td>\n",
       "      <td>1.0</td>\n",
       "      <td>2013-01-13 23:58:35</td>\n",
       "      <td>40.747421</td>\n",
       "      <td>-73.990158</td>\n",
       "      <td>NaN</td>\n",
       "      <td>90.00</td>\n",
       "      <td>NaN</td>\n",
       "      <td>172.0</td>\n",
       "    </tr>\n",
       "  </tbody>\n",
       "</table>\n",
       "</div>"
      ],
      "text/plain": [
       "           dropoff_datetime  dropoff_latitude  dropoff_longitude  \\\n",
       "3265501 2013-01-13 23:57:33         40.710545         -74.013443   \n",
       "3265507 2013-01-13 23:57:22         40.705894         -74.006660   \n",
       "3265626 2013-01-13 23:58:00         40.719223         -73.987015   \n",
       "3265655 2013-01-13 23:58:22         40.739307         -73.979889   \n",
       "3265707 2013-01-14 00:01:27         40.747421         -73.990158   \n",
       "\n",
       "                 flag  hack_license   medallion  passenger_count  \\\n",
       "3265501  trip_dist_NA    2013007949  2013007953              2.0   \n",
       "3265507  trip_dist_NA    2013002046  2013002049              1.0   \n",
       "3265626  trip_dist_NA    2013030283  2013010476              1.0   \n",
       "3265655  trip_dist_NA    2013007009  2013010587              1.0   \n",
       "3265707  trip_dist_NA    2013028238  2013008346              1.0   \n",
       "\n",
       "            pickup_datetime  pickup_latitude  pickup_longitude  tip_amount  \\\n",
       "3265501 2013-01-13 23:57:17        40.710499        -74.013458       14.32   \n",
       "3265507 2013-01-13 23:57:20        40.705894        -74.006660        7.50   \n",
       "3265626 2013-01-13 23:58:00        40.719227        -73.987038       13.00   \n",
       "3265655 2013-01-13 23:58:03        40.739300        -73.979881         NaN   \n",
       "3265707 2013-01-13 23:58:35        40.747421        -73.990158         NaN   \n",
       "\n",
       "         total_amount  trip_distance  trip_time_in_secs  \n",
       "3265501         71.62            NaN               16.0  \n",
       "3265507         60.00            NaN                2.0  \n",
       "3265626         70.30            NaN                NaN  \n",
       "3265655          3.50            NaN               18.0  \n",
       "3265707         90.00            NaN              172.0  "
      ]
     },
     "execution_count": 23,
     "metadata": {},
     "output_type": "execute_result"
    }
   ],
   "source": [
    "anomaly.tail()"
   ]
  },
  {
   "cell_type": "code",
   "execution_count": 24,
   "metadata": {
    "collapsed": false
   },
   "outputs": [],
   "source": [
    "taxidata = taxidata.drop(anomaly.index, errors='ignore') # ignore uncontained labels"
   ]
  },
  {
   "cell_type": "code",
   "execution_count": 25,
   "metadata": {
    "collapsed": false
   },
   "outputs": [
    {
     "data": {
      "text/plain": [
       "medallion                  0\n",
       "hack_license               0\n",
       "pickup_datetime            0\n",
       "dropoff_datetime           0\n",
       "passenger_count           15\n",
       "trip_time_in_secs       1095\n",
       "trip_distance              0\n",
       "pickup_longitude           0\n",
       "pickup_latitude            0\n",
       "dropoff_longitude          0\n",
       "dropoff_latitude           0\n",
       "tip_amount           1543912\n",
       "total_amount               0\n",
       "dtype: int64"
      ]
     },
     "execution_count": 25,
     "metadata": {},
     "output_type": "execute_result"
    }
   ],
   "source": [
    "taxidata.isnull().sum()"
   ]
  },
  {
   "cell_type": "code",
   "execution_count": 26,
   "metadata": {
    "collapsed": false
   },
   "outputs": [
    {
     "data": {
      "text/plain": [
       "0.023536029105348022"
      ]
     },
     "execution_count": 26,
     "metadata": {},
     "output_type": "execute_result"
    }
   ],
   "source": [
    "1-len(taxidata)/(len(taxidata)+len(anomaly))"
   ]
  },
  {
   "cell_type": "markdown",
   "metadata": {},
   "source": [
    "We already know that there is some data missing in trip_time_in_secs. Therefore we generate it through the information we have from the pickup- and dropoff-datetimes."
   ]
  },
  {
   "cell_type": "code",
   "execution_count": 27,
   "metadata": {
    "collapsed": false
   },
   "outputs": [
    {
     "name": "stdout",
     "output_type": "stream",
     "text": [
      "<class 'pandas.core.frame.DataFrame'>\n",
      "Int64Index: 1095 entries, 3204 to 3263562\n",
      "Data columns (total 13 columns):\n",
      "medallion            1095 non-null int64\n",
      "hack_license         1095 non-null int64\n",
      "pickup_datetime      1095 non-null datetime64[ns]\n",
      "dropoff_datetime     1095 non-null datetime64[ns]\n",
      "passenger_count      1095 non-null float64\n",
      "trip_time_in_secs    0 non-null float64\n",
      "trip_distance        1095 non-null float64\n",
      "pickup_longitude     1095 non-null float64\n",
      "pickup_latitude      1095 non-null float64\n",
      "dropoff_longitude    1095 non-null float64\n",
      "dropoff_latitude     1095 non-null float64\n",
      "tip_amount           147 non-null float64\n",
      "total_amount         1095 non-null float64\n",
      "dtypes: datetime64[ns](2), float64(9), int64(2)\n",
      "memory usage: 119.8 KB\n"
     ]
    },
    {
     "data": {
      "text/html": [
       "<div>\n",
       "<table border=\"1\" class=\"dataframe\">\n",
       "  <thead>\n",
       "    <tr style=\"text-align: right;\">\n",
       "      <th></th>\n",
       "      <th>medallion</th>\n",
       "      <th>hack_license</th>\n",
       "      <th>pickup_datetime</th>\n",
       "      <th>dropoff_datetime</th>\n",
       "      <th>passenger_count</th>\n",
       "      <th>trip_time_in_secs</th>\n",
       "      <th>trip_distance</th>\n",
       "      <th>pickup_longitude</th>\n",
       "      <th>pickup_latitude</th>\n",
       "      <th>dropoff_longitude</th>\n",
       "      <th>dropoff_latitude</th>\n",
       "      <th>tip_amount</th>\n",
       "      <th>total_amount</th>\n",
       "    </tr>\n",
       "  </thead>\n",
       "  <tbody>\n",
       "    <tr>\n",
       "      <th>2944954</th>\n",
       "      <td>2013002518</td>\n",
       "      <td>2013002515</td>\n",
       "      <td>2013-01-13 05:48:00</td>\n",
       "      <td>2013-01-13 05:48:00</td>\n",
       "      <td>5.0</td>\n",
       "      <td>NaN</td>\n",
       "      <td>0.19</td>\n",
       "      <td>-73.949493</td>\n",
       "      <td>40.640923</td>\n",
       "      <td>-73.950829</td>\n",
       "      <td>40.640842</td>\n",
       "      <td>NaN</td>\n",
       "      <td>3.5</td>\n",
       "    </tr>\n",
       "    <tr>\n",
       "      <th>2945287</th>\n",
       "      <td>2013001434</td>\n",
       "      <td>2013001431</td>\n",
       "      <td>2013-01-13 05:53:00</td>\n",
       "      <td>2013-01-13 05:53:00</td>\n",
       "      <td>2.0</td>\n",
       "      <td>NaN</td>\n",
       "      <td>0.12</td>\n",
       "      <td>-73.965797</td>\n",
       "      <td>40.650429</td>\n",
       "      <td>-73.965141</td>\n",
       "      <td>40.650688</td>\n",
       "      <td>8.0</td>\n",
       "      <td>48.5</td>\n",
       "    </tr>\n",
       "    <tr>\n",
       "      <th>2946076</th>\n",
       "      <td>2013008845</td>\n",
       "      <td>2013028305</td>\n",
       "      <td>2013-01-13 06:04:00</td>\n",
       "      <td>2013-01-13 06:04:00</td>\n",
       "      <td>1.0</td>\n",
       "      <td>NaN</td>\n",
       "      <td>0.01</td>\n",
       "      <td>-73.973885</td>\n",
       "      <td>40.794327</td>\n",
       "      <td>-73.973907</td>\n",
       "      <td>40.794312</td>\n",
       "      <td>NaN</td>\n",
       "      <td>3.0</td>\n",
       "    </tr>\n",
       "    <tr>\n",
       "      <th>2946265</th>\n",
       "      <td>2013003719</td>\n",
       "      <td>2013003715</td>\n",
       "      <td>2013-01-13 06:07:00</td>\n",
       "      <td>2013-01-13 06:07:00</td>\n",
       "      <td>1.0</td>\n",
       "      <td>NaN</td>\n",
       "      <td>0.31</td>\n",
       "      <td>-73.972237</td>\n",
       "      <td>40.786392</td>\n",
       "      <td>-73.972733</td>\n",
       "      <td>40.785816</td>\n",
       "      <td>NaN</td>\n",
       "      <td>3.5</td>\n",
       "    </tr>\n",
       "    <tr>\n",
       "      <th>2947830</th>\n",
       "      <td>2013002947</td>\n",
       "      <td>2013012377</td>\n",
       "      <td>2013-01-13 06:31:00</td>\n",
       "      <td>2013-01-13 06:31:00</td>\n",
       "      <td>6.0</td>\n",
       "      <td>NaN</td>\n",
       "      <td>0.41</td>\n",
       "      <td>-73.991348</td>\n",
       "      <td>40.755516</td>\n",
       "      <td>-73.989021</td>\n",
       "      <td>40.758438</td>\n",
       "      <td>NaN</td>\n",
       "      <td>4.0</td>\n",
       "    </tr>\n",
       "    <tr>\n",
       "      <th>2948743</th>\n",
       "      <td>2013002188</td>\n",
       "      <td>2013001539</td>\n",
       "      <td>2013-01-13 06:43:00</td>\n",
       "      <td>2013-01-13 06:43:00</td>\n",
       "      <td>5.0</td>\n",
       "      <td>NaN</td>\n",
       "      <td>0.34</td>\n",
       "      <td>-73.981628</td>\n",
       "      <td>40.752281</td>\n",
       "      <td>-73.986534</td>\n",
       "      <td>40.749607</td>\n",
       "      <td>NaN</td>\n",
       "      <td>3.5</td>\n",
       "    </tr>\n",
       "    <tr>\n",
       "      <th>2949566</th>\n",
       "      <td>2013000141</td>\n",
       "      <td>2013000141</td>\n",
       "      <td>2013-01-13 06:54:00</td>\n",
       "      <td>2013-01-13 06:54:00</td>\n",
       "      <td>5.0</td>\n",
       "      <td>NaN</td>\n",
       "      <td>0.02</td>\n",
       "      <td>-73.966682</td>\n",
       "      <td>40.799030</td>\n",
       "      <td>-73.966682</td>\n",
       "      <td>40.799030</td>\n",
       "      <td>NaN</td>\n",
       "      <td>3.0</td>\n",
       "    </tr>\n",
       "    <tr>\n",
       "      <th>2949701</th>\n",
       "      <td>2013000572</td>\n",
       "      <td>2013012260</td>\n",
       "      <td>2013-01-13 06:56:00</td>\n",
       "      <td>2013-01-13 06:56:00</td>\n",
       "      <td>1.0</td>\n",
       "      <td>NaN</td>\n",
       "      <td>0.13</td>\n",
       "      <td>-74.006813</td>\n",
       "      <td>40.735771</td>\n",
       "      <td>-74.007370</td>\n",
       "      <td>40.735626</td>\n",
       "      <td>NaN</td>\n",
       "      <td>3.0</td>\n",
       "    </tr>\n",
       "    <tr>\n",
       "      <th>2949782</th>\n",
       "      <td>2013011102</td>\n",
       "      <td>2013014679</td>\n",
       "      <td>2013-01-13 06:57:00</td>\n",
       "      <td>2013-01-13 06:57:00</td>\n",
       "      <td>1.0</td>\n",
       "      <td>NaN</td>\n",
       "      <td>1.95</td>\n",
       "      <td>-73.975067</td>\n",
       "      <td>40.757706</td>\n",
       "      <td>-74.000092</td>\n",
       "      <td>40.758617</td>\n",
       "      <td>NaN</td>\n",
       "      <td>9.5</td>\n",
       "    </tr>\n",
       "    <tr>\n",
       "      <th>2950729</th>\n",
       "      <td>2013006669</td>\n",
       "      <td>2013014147</td>\n",
       "      <td>2013-01-13 07:09:00</td>\n",
       "      <td>2013-01-13 07:09:00</td>\n",
       "      <td>1.0</td>\n",
       "      <td>NaN</td>\n",
       "      <td>0.05</td>\n",
       "      <td>-73.973656</td>\n",
       "      <td>40.738422</td>\n",
       "      <td>-73.973656</td>\n",
       "      <td>40.738422</td>\n",
       "      <td>NaN</td>\n",
       "      <td>5.5</td>\n",
       "    </tr>\n",
       "    <tr>\n",
       "      <th>2950754</th>\n",
       "      <td>2013006669</td>\n",
       "      <td>2013006665</td>\n",
       "      <td>2013-01-13 07:09:00</td>\n",
       "      <td>2013-01-13 07:09:00</td>\n",
       "      <td>1.0</td>\n",
       "      <td>NaN</td>\n",
       "      <td>0.90</td>\n",
       "      <td>-73.979225</td>\n",
       "      <td>40.747093</td>\n",
       "      <td>-73.929260</td>\n",
       "      <td>40.850357</td>\n",
       "      <td>4.0</td>\n",
       "      <td>33.5</td>\n",
       "    </tr>\n",
       "    <tr>\n",
       "      <th>2950837</th>\n",
       "      <td>2013007756</td>\n",
       "      <td>2013007752</td>\n",
       "      <td>2013-01-13 07:10:00</td>\n",
       "      <td>2013-01-13 07:10:00</td>\n",
       "      <td>1.0</td>\n",
       "      <td>NaN</td>\n",
       "      <td>0.35</td>\n",
       "      <td>-73.949509</td>\n",
       "      <td>40.776958</td>\n",
       "      <td>-73.949738</td>\n",
       "      <td>40.777092</td>\n",
       "      <td>NaN</td>\n",
       "      <td>3.5</td>\n",
       "    </tr>\n",
       "    <tr>\n",
       "      <th>2960216</th>\n",
       "      <td>2013006841</td>\n",
       "      <td>2013025297</td>\n",
       "      <td>2013-01-13 08:37:00</td>\n",
       "      <td>2013-01-13 08:37:00</td>\n",
       "      <td>6.0</td>\n",
       "      <td>NaN</td>\n",
       "      <td>0.01</td>\n",
       "      <td>-73.987045</td>\n",
       "      <td>40.757702</td>\n",
       "      <td>-73.781784</td>\n",
       "      <td>40.644463</td>\n",
       "      <td>NaN</td>\n",
       "      <td>57.3</td>\n",
       "    </tr>\n",
       "    <tr>\n",
       "      <th>2960226</th>\n",
       "      <td>2013007172</td>\n",
       "      <td>2013022067</td>\n",
       "      <td>2013-01-13 08:37:00</td>\n",
       "      <td>2013-01-13 08:37:00</td>\n",
       "      <td>1.0</td>\n",
       "      <td>NaN</td>\n",
       "      <td>0.01</td>\n",
       "      <td>-73.989143</td>\n",
       "      <td>40.763325</td>\n",
       "      <td>-73.989143</td>\n",
       "      <td>40.763306</td>\n",
       "      <td>NaN</td>\n",
       "      <td>3.0</td>\n",
       "    </tr>\n",
       "    <tr>\n",
       "      <th>2961323</th>\n",
       "      <td>2013011073</td>\n",
       "      <td>2013014383</td>\n",
       "      <td>2013-01-13 08:44:00</td>\n",
       "      <td>2013-01-13 08:44:00</td>\n",
       "      <td>6.0</td>\n",
       "      <td>NaN</td>\n",
       "      <td>0.17</td>\n",
       "      <td>-73.942856</td>\n",
       "      <td>40.806599</td>\n",
       "      <td>-73.942116</td>\n",
       "      <td>40.806286</td>\n",
       "      <td>0.5</td>\n",
       "      <td>3.5</td>\n",
       "    </tr>\n",
       "    <tr>\n",
       "      <th>2963425</th>\n",
       "      <td>2013007111</td>\n",
       "      <td>2013011195</td>\n",
       "      <td>2013-01-13 08:56:00</td>\n",
       "      <td>2013-01-13 08:56:00</td>\n",
       "      <td>1.0</td>\n",
       "      <td>NaN</td>\n",
       "      <td>0.17</td>\n",
       "      <td>-73.783539</td>\n",
       "      <td>40.643951</td>\n",
       "      <td>-73.783539</td>\n",
       "      <td>40.643951</td>\n",
       "      <td>NaN</td>\n",
       "      <td>3.0</td>\n",
       "    </tr>\n",
       "    <tr>\n",
       "      <th>2964929</th>\n",
       "      <td>2013000667</td>\n",
       "      <td>2013000664</td>\n",
       "      <td>2013-01-13 09:05:00</td>\n",
       "      <td>2013-01-13 09:05:00</td>\n",
       "      <td>1.0</td>\n",
       "      <td>NaN</td>\n",
       "      <td>0.31</td>\n",
       "      <td>-73.975883</td>\n",
       "      <td>40.788906</td>\n",
       "      <td>-73.976746</td>\n",
       "      <td>40.788101</td>\n",
       "      <td>NaN</td>\n",
       "      <td>3.5</td>\n",
       "    </tr>\n",
       "    <tr>\n",
       "      <th>2965960</th>\n",
       "      <td>2013000269</td>\n",
       "      <td>2013011766</td>\n",
       "      <td>2013-01-13 09:11:00</td>\n",
       "      <td>2013-01-13 09:11:00</td>\n",
       "      <td>1.0</td>\n",
       "      <td>NaN</td>\n",
       "      <td>0.35</td>\n",
       "      <td>-73.956810</td>\n",
       "      <td>40.774910</td>\n",
       "      <td>-73.956299</td>\n",
       "      <td>40.775585</td>\n",
       "      <td>0.6</td>\n",
       "      <td>4.1</td>\n",
       "    </tr>\n",
       "    <tr>\n",
       "      <th>2969567</th>\n",
       "      <td>2013009757</td>\n",
       "      <td>2013016492</td>\n",
       "      <td>2013-01-13 09:30:00</td>\n",
       "      <td>2013-01-13 09:30:00</td>\n",
       "      <td>3.0</td>\n",
       "      <td>NaN</td>\n",
       "      <td>0.07</td>\n",
       "      <td>-73.955460</td>\n",
       "      <td>40.779587</td>\n",
       "      <td>-73.956863</td>\n",
       "      <td>40.780102</td>\n",
       "      <td>NaN</td>\n",
       "      <td>3.0</td>\n",
       "    </tr>\n",
       "    <tr>\n",
       "      <th>2970590</th>\n",
       "      <td>2013005800</td>\n",
       "      <td>2013019823</td>\n",
       "      <td>2013-01-13 09:35:00</td>\n",
       "      <td>2013-01-13 09:35:00</td>\n",
       "      <td>2.0</td>\n",
       "      <td>NaN</td>\n",
       "      <td>0.32</td>\n",
       "      <td>-73.974098</td>\n",
       "      <td>40.769447</td>\n",
       "      <td>-73.974098</td>\n",
       "      <td>40.769447</td>\n",
       "      <td>NaN</td>\n",
       "      <td>3.5</td>\n",
       "    </tr>\n",
       "  </tbody>\n",
       "</table>\n",
       "</div>"
      ],
      "text/plain": [
       "          medallion  hack_license     pickup_datetime    dropoff_datetime  \\\n",
       "2944954  2013002518    2013002515 2013-01-13 05:48:00 2013-01-13 05:48:00   \n",
       "2945287  2013001434    2013001431 2013-01-13 05:53:00 2013-01-13 05:53:00   \n",
       "2946076  2013008845    2013028305 2013-01-13 06:04:00 2013-01-13 06:04:00   \n",
       "2946265  2013003719    2013003715 2013-01-13 06:07:00 2013-01-13 06:07:00   \n",
       "2947830  2013002947    2013012377 2013-01-13 06:31:00 2013-01-13 06:31:00   \n",
       "2948743  2013002188    2013001539 2013-01-13 06:43:00 2013-01-13 06:43:00   \n",
       "2949566  2013000141    2013000141 2013-01-13 06:54:00 2013-01-13 06:54:00   \n",
       "2949701  2013000572    2013012260 2013-01-13 06:56:00 2013-01-13 06:56:00   \n",
       "2949782  2013011102    2013014679 2013-01-13 06:57:00 2013-01-13 06:57:00   \n",
       "2950729  2013006669    2013014147 2013-01-13 07:09:00 2013-01-13 07:09:00   \n",
       "2950754  2013006669    2013006665 2013-01-13 07:09:00 2013-01-13 07:09:00   \n",
       "2950837  2013007756    2013007752 2013-01-13 07:10:00 2013-01-13 07:10:00   \n",
       "2960216  2013006841    2013025297 2013-01-13 08:37:00 2013-01-13 08:37:00   \n",
       "2960226  2013007172    2013022067 2013-01-13 08:37:00 2013-01-13 08:37:00   \n",
       "2961323  2013011073    2013014383 2013-01-13 08:44:00 2013-01-13 08:44:00   \n",
       "2963425  2013007111    2013011195 2013-01-13 08:56:00 2013-01-13 08:56:00   \n",
       "2964929  2013000667    2013000664 2013-01-13 09:05:00 2013-01-13 09:05:00   \n",
       "2965960  2013000269    2013011766 2013-01-13 09:11:00 2013-01-13 09:11:00   \n",
       "2969567  2013009757    2013016492 2013-01-13 09:30:00 2013-01-13 09:30:00   \n",
       "2970590  2013005800    2013019823 2013-01-13 09:35:00 2013-01-13 09:35:00   \n",
       "\n",
       "         passenger_count  trip_time_in_secs  trip_distance  pickup_longitude  \\\n",
       "2944954              5.0                NaN           0.19        -73.949493   \n",
       "2945287              2.0                NaN           0.12        -73.965797   \n",
       "2946076              1.0                NaN           0.01        -73.973885   \n",
       "2946265              1.0                NaN           0.31        -73.972237   \n",
       "2947830              6.0                NaN           0.41        -73.991348   \n",
       "2948743              5.0                NaN           0.34        -73.981628   \n",
       "2949566              5.0                NaN           0.02        -73.966682   \n",
       "2949701              1.0                NaN           0.13        -74.006813   \n",
       "2949782              1.0                NaN           1.95        -73.975067   \n",
       "2950729              1.0                NaN           0.05        -73.973656   \n",
       "2950754              1.0                NaN           0.90        -73.979225   \n",
       "2950837              1.0                NaN           0.35        -73.949509   \n",
       "2960216              6.0                NaN           0.01        -73.987045   \n",
       "2960226              1.0                NaN           0.01        -73.989143   \n",
       "2961323              6.0                NaN           0.17        -73.942856   \n",
       "2963425              1.0                NaN           0.17        -73.783539   \n",
       "2964929              1.0                NaN           0.31        -73.975883   \n",
       "2965960              1.0                NaN           0.35        -73.956810   \n",
       "2969567              3.0                NaN           0.07        -73.955460   \n",
       "2970590              2.0                NaN           0.32        -73.974098   \n",
       "\n",
       "         pickup_latitude  dropoff_longitude  dropoff_latitude  tip_amount  \\\n",
       "2944954        40.640923         -73.950829         40.640842         NaN   \n",
       "2945287        40.650429         -73.965141         40.650688         8.0   \n",
       "2946076        40.794327         -73.973907         40.794312         NaN   \n",
       "2946265        40.786392         -73.972733         40.785816         NaN   \n",
       "2947830        40.755516         -73.989021         40.758438         NaN   \n",
       "2948743        40.752281         -73.986534         40.749607         NaN   \n",
       "2949566        40.799030         -73.966682         40.799030         NaN   \n",
       "2949701        40.735771         -74.007370         40.735626         NaN   \n",
       "2949782        40.757706         -74.000092         40.758617         NaN   \n",
       "2950729        40.738422         -73.973656         40.738422         NaN   \n",
       "2950754        40.747093         -73.929260         40.850357         4.0   \n",
       "2950837        40.776958         -73.949738         40.777092         NaN   \n",
       "2960216        40.757702         -73.781784         40.644463         NaN   \n",
       "2960226        40.763325         -73.989143         40.763306         NaN   \n",
       "2961323        40.806599         -73.942116         40.806286         0.5   \n",
       "2963425        40.643951         -73.783539         40.643951         NaN   \n",
       "2964929        40.788906         -73.976746         40.788101         NaN   \n",
       "2965960        40.774910         -73.956299         40.775585         0.6   \n",
       "2969567        40.779587         -73.956863         40.780102         NaN   \n",
       "2970590        40.769447         -73.974098         40.769447         NaN   \n",
       "\n",
       "         total_amount  \n",
       "2944954           3.5  \n",
       "2945287          48.5  \n",
       "2946076           3.0  \n",
       "2946265           3.5  \n",
       "2947830           4.0  \n",
       "2948743           3.5  \n",
       "2949566           3.0  \n",
       "2949701           3.0  \n",
       "2949782           9.5  \n",
       "2950729           5.5  \n",
       "2950754          33.5  \n",
       "2950837           3.5  \n",
       "2960216          57.3  \n",
       "2960226           3.0  \n",
       "2961323           3.5  \n",
       "2963425           3.0  \n",
       "2964929           3.5  \n",
       "2965960           4.1  \n",
       "2969567           3.0  \n",
       "2970590           3.5  "
      ]
     },
     "execution_count": 27,
     "metadata": {},
     "output_type": "execute_result"
    }
   ],
   "source": [
    "taxidata.loc[taxidata.trip_time_in_secs.isnull()].info()\n",
    "taxidata.loc[taxidata.trip_time_in_secs.isnull()].iloc[995:1015]\n",
    "#taxidata.loc[taxidata.trip_time_in_secs.isnull(), 'dropoff_datetime']# - \\\n",
    "#taxidata.loc[taxidata.trip_time_in_secs.isnull(),'pickup_datetime']"
   ]
  },
  {
   "cell_type": "markdown",
   "metadata": {},
   "source": [
    "We can see via a quick inspection, that the datetimes in pickup and dropoff are equal. So we cannot reproduce the trip times. We can also see that there are trips where the geodata are the same for pickup and dropoff. Is there some fraud going on here? If all that is payed with cash, it could be money laundering. "
   ]
  },
  {
   "cell_type": "markdown",
   "metadata": {},
   "source": [
    "# <font color = 'red'> Where trip_time = 0, pickup_geo needs to be the same as dropoff_geo. Is this fulfilled? </font color>"
   ]
  },
  {
   "cell_type": "markdown",
   "metadata": {},
   "source": [
    "# <font color = 'blue'> This are strange data. Pickup and dropoff are sometimes the same in geodata and in datetime. Furthermore, the total amount shows high variation in the same distance (e.g. 0.01 miles for 57.3\\$ and 3.0\\$). We'll put all of that in the anomaly-data. </font color>"
   ]
  },
  {
   "cell_type": "code",
   "execution_count": 28,
   "metadata": {
    "collapsed": false
   },
   "outputs": [
    {
     "data": {
      "text/plain": [
       "Timedelta('0 days 00:24:03')"
      ]
     },
     "execution_count": 28,
     "metadata": {},
     "output_type": "execute_result"
    }
   ],
   "source": [
    "(taxidata.loc[taxidata.trip_time_in_secs.isnull(), 'dropoff_datetime']- \\\n",
    "taxidata.loc[taxidata.trip_time_in_secs.isnull(),'pickup_datetime']).sum()"
   ]
  },
  {
   "cell_type": "code",
   "execution_count": 29,
   "metadata": {
    "collapsed": false
   },
   "outputs": [],
   "source": [
    "anomaly = anomaly.append(taxidata.loc[(taxidata['trip_time_in_secs'].isnull())])\n",
    "anomaly.loc[taxidata.loc[(taxidata['trip_time_in_secs'].isnull())].index,'flag'] = 'trip_time_NA'\n",
    "taxidata = taxidata.drop(anomaly.index, errors='ignore') # ignore uncontained labels / indices"
   ]
  },
  {
   "cell_type": "code",
   "execution_count": 30,
   "metadata": {
    "collapsed": false
   },
   "outputs": [
    {
     "data": {
      "text/html": [
       "<div>\n",
       "<table border=\"1\" class=\"dataframe\">\n",
       "  <thead>\n",
       "    <tr style=\"text-align: right;\">\n",
       "      <th></th>\n",
       "      <th>dropoff_datetime</th>\n",
       "      <th>dropoff_latitude</th>\n",
       "      <th>dropoff_longitude</th>\n",
       "      <th>flag</th>\n",
       "      <th>hack_license</th>\n",
       "      <th>medallion</th>\n",
       "      <th>passenger_count</th>\n",
       "      <th>pickup_datetime</th>\n",
       "      <th>pickup_latitude</th>\n",
       "      <th>pickup_longitude</th>\n",
       "      <th>tip_amount</th>\n",
       "      <th>total_amount</th>\n",
       "      <th>trip_distance</th>\n",
       "      <th>trip_time_in_secs</th>\n",
       "    </tr>\n",
       "  </thead>\n",
       "  <tbody>\n",
       "    <tr>\n",
       "      <th>3247520</th>\n",
       "      <td>2013-01-13 22:40:00</td>\n",
       "      <td>40.736046</td>\n",
       "      <td>-73.989349</td>\n",
       "      <td>trip_time_NA</td>\n",
       "      <td>2013020834</td>\n",
       "      <td>2013005240</td>\n",
       "      <td>6.0</td>\n",
       "      <td>2013-01-13 22:40:00</td>\n",
       "      <td>40.738895</td>\n",
       "      <td>-73.987343</td>\n",
       "      <td>NaN</td>\n",
       "      <td>4.5</td>\n",
       "      <td>0.44</td>\n",
       "      <td>NaN</td>\n",
       "    </tr>\n",
       "    <tr>\n",
       "      <th>3258283</th>\n",
       "      <td>2013-01-13 23:22:00</td>\n",
       "      <td>40.772289</td>\n",
       "      <td>-73.956009</td>\n",
       "      <td>trip_time_NA</td>\n",
       "      <td>2013009929</td>\n",
       "      <td>2013009929</td>\n",
       "      <td>5.0</td>\n",
       "      <td>2013-01-13 23:22:00</td>\n",
       "      <td>40.772316</td>\n",
       "      <td>-73.955986</td>\n",
       "      <td>NaN</td>\n",
       "      <td>3.5</td>\n",
       "      <td>0.08</td>\n",
       "      <td>NaN</td>\n",
       "    </tr>\n",
       "    <tr>\n",
       "      <th>3260133</th>\n",
       "      <td>2013-01-13 23:30:00</td>\n",
       "      <td>40.648781</td>\n",
       "      <td>-73.785507</td>\n",
       "      <td>trip_time_NA</td>\n",
       "      <td>2013001165</td>\n",
       "      <td>2013001168</td>\n",
       "      <td>1.0</td>\n",
       "      <td>2013-01-13 23:30:00</td>\n",
       "      <td>40.648514</td>\n",
       "      <td>-73.785347</td>\n",
       "      <td>NaN</td>\n",
       "      <td>3.5</td>\n",
       "      <td>0.04</td>\n",
       "      <td>NaN</td>\n",
       "    </tr>\n",
       "    <tr>\n",
       "      <th>3261028</th>\n",
       "      <td>2013-01-13 23:34:00</td>\n",
       "      <td>40.645409</td>\n",
       "      <td>-73.776665</td>\n",
       "      <td>trip_time_NA</td>\n",
       "      <td>2013005170</td>\n",
       "      <td>2013005173</td>\n",
       "      <td>2.0</td>\n",
       "      <td>2013-01-13 23:34:00</td>\n",
       "      <td>40.645367</td>\n",
       "      <td>-73.776627</td>\n",
       "      <td>NaN</td>\n",
       "      <td>3.5</td>\n",
       "      <td>0.05</td>\n",
       "      <td>NaN</td>\n",
       "    </tr>\n",
       "    <tr>\n",
       "      <th>3263562</th>\n",
       "      <td>2013-01-13 23:47:00</td>\n",
       "      <td>40.763348</td>\n",
       "      <td>-73.928284</td>\n",
       "      <td>trip_time_NA</td>\n",
       "      <td>2013016853</td>\n",
       "      <td>2013005133</td>\n",
       "      <td>1.0</td>\n",
       "      <td>2013-01-13 23:47:00</td>\n",
       "      <td>40.763344</td>\n",
       "      <td>-73.928284</td>\n",
       "      <td>NaN</td>\n",
       "      <td>3.5</td>\n",
       "      <td>0.04</td>\n",
       "      <td>NaN</td>\n",
       "    </tr>\n",
       "  </tbody>\n",
       "</table>\n",
       "</div>"
      ],
      "text/plain": [
       "           dropoff_datetime  dropoff_latitude  dropoff_longitude  \\\n",
       "3247520 2013-01-13 22:40:00         40.736046         -73.989349   \n",
       "3258283 2013-01-13 23:22:00         40.772289         -73.956009   \n",
       "3260133 2013-01-13 23:30:00         40.648781         -73.785507   \n",
       "3261028 2013-01-13 23:34:00         40.645409         -73.776665   \n",
       "3263562 2013-01-13 23:47:00         40.763348         -73.928284   \n",
       "\n",
       "                 flag  hack_license   medallion  passenger_count  \\\n",
       "3247520  trip_time_NA    2013020834  2013005240              6.0   \n",
       "3258283  trip_time_NA    2013009929  2013009929              5.0   \n",
       "3260133  trip_time_NA    2013001165  2013001168              1.0   \n",
       "3261028  trip_time_NA    2013005170  2013005173              2.0   \n",
       "3263562  trip_time_NA    2013016853  2013005133              1.0   \n",
       "\n",
       "            pickup_datetime  pickup_latitude  pickup_longitude  tip_amount  \\\n",
       "3247520 2013-01-13 22:40:00        40.738895        -73.987343         NaN   \n",
       "3258283 2013-01-13 23:22:00        40.772316        -73.955986         NaN   \n",
       "3260133 2013-01-13 23:30:00        40.648514        -73.785347         NaN   \n",
       "3261028 2013-01-13 23:34:00        40.645367        -73.776627         NaN   \n",
       "3263562 2013-01-13 23:47:00        40.763344        -73.928284         NaN   \n",
       "\n",
       "         total_amount  trip_distance  trip_time_in_secs  \n",
       "3247520           4.5           0.44                NaN  \n",
       "3258283           3.5           0.08                NaN  \n",
       "3260133           3.5           0.04                NaN  \n",
       "3261028           3.5           0.05                NaN  \n",
       "3263562           3.5           0.04                NaN  "
      ]
     },
     "execution_count": 30,
     "metadata": {},
     "output_type": "execute_result"
    }
   ],
   "source": [
    "anomaly.tail()"
   ]
  },
  {
   "cell_type": "code",
   "execution_count": 31,
   "metadata": {
    "collapsed": false
   },
   "outputs": [
    {
     "data": {
      "text/plain": [
       "0.02387130889863187"
      ]
     },
     "execution_count": 31,
     "metadata": {},
     "output_type": "execute_result"
    }
   ],
   "source": [
    "1-len(taxidata)/(len(taxidata)+len(anomaly))"
   ]
  },
  {
   "cell_type": "markdown",
   "metadata": {},
   "source": [
    "# <font color = 'blue'> So all in all, we dropped about 2.4% of the data. </font color>"
   ]
  },
  {
   "cell_type": "code",
   "execution_count": 32,
   "metadata": {
    "collapsed": false
   },
   "outputs": [
    {
     "data": {
      "text/plain": [
       "medallion                  0\n",
       "hack_license               0\n",
       "pickup_datetime            0\n",
       "dropoff_datetime           0\n",
       "passenger_count           15\n",
       "trip_time_in_secs          0\n",
       "trip_distance              0\n",
       "pickup_longitude           0\n",
       "pickup_latitude            0\n",
       "dropoff_longitude          0\n",
       "dropoff_latitude           0\n",
       "tip_amount           1542964\n",
       "total_amount               0\n",
       "dtype: int64"
      ]
     },
     "execution_count": 32,
     "metadata": {},
     "output_type": "execute_result"
    }
   ],
   "source": [
    "taxidata.isnull().sum()"
   ]
  },
  {
   "cell_type": "markdown",
   "metadata": {},
   "source": [
    "We can deal with that. External investigation of the anomaly is recommended."
   ]
  },
  {
   "cell_type": "markdown",
   "metadata": {},
   "source": [
    "# Start validating the non-anomaly data: Valid trip_time, valid distance?"
   ]
  },
  {
   "cell_type": "code",
   "execution_count": 33,
   "metadata": {
    "collapsed": false
   },
   "outputs": [],
   "source": [
    "taxidata['diff_calc_rec_time'] = taxidata.dropoff_datetime - taxidata.pickup_datetime - \\\n",
    "    pd.to_timedelta(taxidata['trip_time_in_secs'], unit='s')"
   ]
  },
  {
   "cell_type": "code",
   "execution_count": 34,
   "metadata": {
    "collapsed": false
   },
   "outputs": [
    {
     "data": {
      "text/plain": [
       "count    3.187967e+06\n",
       "mean     6.862127e+02\n",
       "std      4.913252e+02\n",
       "min      1.000000e+00\n",
       "25%      3.600000e+02\n",
       "50%      5.600000e+02\n",
       "75%      8.830000e+02\n",
       "max      1.068000e+04\n",
       "Name: trip_time_in_secs, dtype: float64"
      ]
     },
     "execution_count": 34,
     "metadata": {},
     "output_type": "execute_result"
    }
   ],
   "source": [
    "taxidata.trip_time_in_secs.describe()"
   ]
  },
  {
   "cell_type": "markdown",
   "metadata": {},
   "source": [
    "Okay, even here we have unreasonable trip_times. We'll identify those trips later via avg_velocity."
   ]
  },
  {
   "cell_type": "code",
   "execution_count": 35,
   "metadata": {
    "collapsed": false
   },
   "outputs": [
    {
     "data": {
      "text/plain": [
       "count                   3187967\n",
       "mean     0 days 00:00:01.708074\n",
       "std      0 days 00:11:30.114537\n",
       "min           -1 days +23:20:13\n",
       "25%             0 days 00:00:00\n",
       "50%             0 days 00:00:00\n",
       "75%             0 days 00:00:01\n",
       "max            14 days 00:00:34\n",
       "Name: diff_calc_rec_time, dtype: object"
      ]
     },
     "execution_count": 35,
     "metadata": {},
     "output_type": "execute_result"
    }
   ],
   "source": [
    "taxidata.diff_calc_rec_time.describe()"
   ]
  },
  {
   "cell_type": "code",
   "execution_count": 36,
   "metadata": {
    "collapsed": false
   },
   "outputs": [
    {
     "data": {
      "text/plain": [
       "0.0001       4.0000\n",
       "0.0100     104.0000\n",
       "0.9500    1605.0000\n",
       "0.9900    2465.0000\n",
       "0.9999    6000.2034\n",
       "Name: trip_time_in_secs, dtype: float64"
      ]
     },
     "execution_count": 36,
     "metadata": {},
     "output_type": "execute_result"
    }
   ],
   "source": [
    "taxidata.trip_time_in_secs.quantile([.0001,.01, .95, .99, .9999])"
   ]
  },
  {
   "cell_type": "markdown",
   "metadata": {},
   "source": [
    "# <font color = 'red'> An ECDF with logarithmic scale might be suitable right here for identifying unreasonably small trip_times. Have a look at the average amount per time! </font color>"
   ]
  },
  {
   "cell_type": "code",
   "execution_count": 37,
   "metadata": {
    "collapsed": true
   },
   "outputs": [],
   "source": [
    "taxidata['avg_amount_per_minute'] = taxidata.total_amount / (taxidata.trip_time_in_secs / 60.0)"
   ]
  },
  {
   "cell_type": "code",
   "execution_count": 38,
   "metadata": {
    "collapsed": false
   },
   "outputs": [
    {
     "name": "stdout",
     "output_type": "stream",
     "text": [
      "Min:0.0189553496209\n",
      "Max:6000.0\n"
     ]
    },
    {
     "data": {
      "image/png": "[encoded data removed]",
      "text/plain": [
       "<matplotlib.figure.Figure at 0x7f8571fdd240>"
      ]
     },
     "metadata": {},
     "output_type": "display_data"
    }
   ],
   "source": [
    "h = taxidata.avg_amount_per_minute\n",
    "plt.figure(figsize=(20,10))\n",
    "plt.hist(h, normed=False, stacked=True, bins=40, range=[0 , 100], )\n",
    "    #, histtype='stepfilled')\n",
    "plt.yscale('log')\n",
    "plt.ylabel('log(freq x)', fontsize=40)\n",
    "plt.xlabel('x = avg_amount_per_minute', fontsize=40)\n",
    "print('Min:' +  str(min(h)) + '\\nMax:' +  str(max(h)))\n",
    "plt.yticks(fontsize=40)\n",
    "plt.xticks(fontsize=40)\n",
    "plt.locator_params(axis = 'x', nbins = 20)\n",
    "plt.show()"
   ]
  },
  {
   "cell_type": "code",
   "execution_count": 39,
   "metadata": {
    "collapsed": false
   },
   "outputs": [
    {
     "data": {
      "text/html": [
       "<div>\n",
       "<table border=\"1\" class=\"dataframe\">\n",
       "  <thead>\n",
       "    <tr style=\"text-align: right;\">\n",
       "      <th></th>\n",
       "      <th>medallion</th>\n",
       "      <th>hack_license</th>\n",
       "      <th>pickup_datetime</th>\n",
       "      <th>dropoff_datetime</th>\n",
       "      <th>passenger_count</th>\n",
       "      <th>trip_time_in_secs</th>\n",
       "      <th>trip_distance</th>\n",
       "      <th>pickup_longitude</th>\n",
       "      <th>pickup_latitude</th>\n",
       "      <th>dropoff_longitude</th>\n",
       "      <th>dropoff_latitude</th>\n",
       "      <th>tip_amount</th>\n",
       "      <th>total_amount</th>\n",
       "      <th>diff_calc_rec_time</th>\n",
       "      <th>avg_amount_per_minute</th>\n",
       "    </tr>\n",
       "  </thead>\n",
       "  <tbody>\n",
       "    <tr>\n",
       "      <th>0</th>\n",
       "      <td>2013001380</td>\n",
       "      <td>2013001377</td>\n",
       "      <td>2013-01-07</td>\n",
       "      <td>2013-01-07 00:12:00</td>\n",
       "      <td>2.0</td>\n",
       "      <td>720.0</td>\n",
       "      <td>4.24</td>\n",
       "      <td>-73.987915</td>\n",
       "      <td>40.754730</td>\n",
       "      <td>-73.957382</td>\n",
       "      <td>40.782902</td>\n",
       "      <td>NaN</td>\n",
       "      <td>14.50</td>\n",
       "      <td>0 days</td>\n",
       "      <td>1.208333</td>\n",
       "    </tr>\n",
       "    <tr>\n",
       "      <th>1</th>\n",
       "      <td>2013005435</td>\n",
       "      <td>2013005432</td>\n",
       "      <td>2013-01-07</td>\n",
       "      <td>2013-01-07 00:04:00</td>\n",
       "      <td>3.0</td>\n",
       "      <td>240.0</td>\n",
       "      <td>1.51</td>\n",
       "      <td>-73.984917</td>\n",
       "      <td>40.736370</td>\n",
       "      <td>-73.984917</td>\n",
       "      <td>40.736370</td>\n",
       "      <td>1.30</td>\n",
       "      <td>8.30</td>\n",
       "      <td>0 days</td>\n",
       "      <td>2.075000</td>\n",
       "    </tr>\n",
       "    <tr>\n",
       "      <th>2</th>\n",
       "      <td>2013002440</td>\n",
       "      <td>2013002437</td>\n",
       "      <td>2013-01-07</td>\n",
       "      <td>2013-01-07 00:15:00</td>\n",
       "      <td>6.0</td>\n",
       "      <td>900.0</td>\n",
       "      <td>4.86</td>\n",
       "      <td>-73.988365</td>\n",
       "      <td>40.720261</td>\n",
       "      <td>-73.920486</td>\n",
       "      <td>40.702522</td>\n",
       "      <td>NaN</td>\n",
       "      <td>17.50</td>\n",
       "      <td>0 days</td>\n",
       "      <td>1.166667</td>\n",
       "    </tr>\n",
       "    <tr>\n",
       "      <th>3</th>\n",
       "      <td>2013007092</td>\n",
       "      <td>2013007088</td>\n",
       "      <td>2013-01-07</td>\n",
       "      <td>2013-01-07 00:14:00</td>\n",
       "      <td>1.0</td>\n",
       "      <td>840.0</td>\n",
       "      <td>6.33</td>\n",
       "      <td>-73.989822</td>\n",
       "      <td>40.702522</td>\n",
       "      <td>-74.009789</td>\n",
       "      <td>40.737411</td>\n",
       "      <td>4.10</td>\n",
       "      <td>25.10</td>\n",
       "      <td>0 days</td>\n",
       "      <td>1.792857</td>\n",
       "    </tr>\n",
       "    <tr>\n",
       "      <th>4</th>\n",
       "      <td>2013003235</td>\n",
       "      <td>2013003231</td>\n",
       "      <td>2013-01-07</td>\n",
       "      <td>2013-01-07 00:06:00</td>\n",
       "      <td>1.0</td>\n",
       "      <td>360.0</td>\n",
       "      <td>1.70</td>\n",
       "      <td>-74.005730</td>\n",
       "      <td>40.717567</td>\n",
       "      <td>-74.006401</td>\n",
       "      <td>40.739521</td>\n",
       "      <td>1.88</td>\n",
       "      <td>9.88</td>\n",
       "      <td>0 days</td>\n",
       "      <td>1.646667</td>\n",
       "    </tr>\n",
       "  </tbody>\n",
       "</table>\n",
       "</div>"
      ],
      "text/plain": [
       "    medallion  hack_license pickup_datetime    dropoff_datetime  \\\n",
       "0  2013001380    2013001377      2013-01-07 2013-01-07 00:12:00   \n",
       "1  2013005435    2013005432      2013-01-07 2013-01-07 00:04:00   \n",
       "2  2013002440    2013002437      2013-01-07 2013-01-07 00:15:00   \n",
       "3  2013007092    2013007088      2013-01-07 2013-01-07 00:14:00   \n",
       "4  2013003235    2013003231      2013-01-07 2013-01-07 00:06:00   \n",
       "\n",
       "   passenger_count  trip_time_in_secs  trip_distance  pickup_longitude  \\\n",
       "0              2.0              720.0           4.24        -73.987915   \n",
       "1              3.0              240.0           1.51        -73.984917   \n",
       "2              6.0              900.0           4.86        -73.988365   \n",
       "3              1.0              840.0           6.33        -73.989822   \n",
       "4              1.0              360.0           1.70        -74.005730   \n",
       "\n",
       "   pickup_latitude  dropoff_longitude  dropoff_latitude  tip_amount  \\\n",
       "0        40.754730         -73.957382         40.782902         NaN   \n",
       "1        40.736370         -73.984917         40.736370        1.30   \n",
       "2        40.720261         -73.920486         40.702522         NaN   \n",
       "3        40.702522         -74.009789         40.737411        4.10   \n",
       "4        40.717567         -74.006401         40.739521        1.88   \n",
       "\n",
       "   total_amount  diff_calc_rec_time  avg_amount_per_minute  \n",
       "0         14.50              0 days               1.208333  \n",
       "1          8.30              0 days               2.075000  \n",
       "2         17.50              0 days               1.166667  \n",
       "3         25.10              0 days               1.792857  \n",
       "4          9.88              0 days               1.646667  "
      ]
     },
     "execution_count": 39,
     "metadata": {},
     "output_type": "execute_result"
    }
   ],
   "source": [
    "taxidata.head()"
   ]
  },
  {
   "cell_type": "code",
   "execution_count": 40,
   "metadata": {
    "collapsed": false
   },
   "outputs": [
    {
     "data": {
      "text/plain": [
       "count    3.187967e+06\n",
       "mean     1.417456e+00\n",
       "std      1.000623e+01\n",
       "min      1.895535e-02\n",
       "25%      1.003226e+00\n",
       "50%      1.203209e+00\n",
       "75%      1.497619e+00\n",
       "max      6.000000e+03\n",
       "Name: avg_amount_per_minute, dtype: float64"
      ]
     },
     "execution_count": 40,
     "metadata": {},
     "output_type": "execute_result"
    }
   ],
   "source": [
    "taxidata.avg_amount_per_minute.describe()"
   ]
  },
  {
   "cell_type": "code",
   "execution_count": 41,
   "metadata": {
    "collapsed": false
   },
   "outputs": [
    {
     "data": {
      "text/plain": [
       "0.0001    0.074964\n",
       "0.0100    0.714286\n",
       "0.9500    2.186916\n",
       "0.9900    3.250000\n",
       "0.9950    4.000000\n",
       "Name: avg_amount_per_minute, dtype: float64"
      ]
     },
     "execution_count": 41,
     "metadata": {},
     "output_type": "execute_result"
    }
   ],
   "source": [
    "taxidata.avg_amount_per_minute.quantile([.0001,.01, .95, .99, .995])"
   ]
  },
  {
   "cell_type": "code",
   "execution_count": 42,
   "metadata": {
    "collapsed": false
   },
   "outputs": [
    {
     "name": "stdout",
     "output_type": "stream",
     "text": [
      "0.04941779199731533\n"
     ]
    }
   ],
   "source": [
    "anomaly = anomaly.append(taxidata.loc[(taxidata['avg_amount_per_minute'] > 2.5)])\n",
    "anomaly.loc[taxidata.loc[(taxidata['avg_amount_per_minute'] > 2.5)].index,'flag'] = 'too_fast'\n",
    "taxidata = taxidata.drop(anomaly.index, errors='ignore') # ignore uncontained labels / indices\n",
    "print(1-len(taxidata)/(len(taxidata)+len(anomaly)))"
   ]
  },
  {
   "cell_type": "code",
   "execution_count": 44,
   "metadata": {
    "collapsed": false
   },
   "outputs": [
    {
     "data": {
      "text/plain": [
       "avg_amount_per_minute                    NaN\n",
       "diff_calc_rec_time                       NaT\n",
       "dropoff_datetime         2013-01-13 20:36:00\n",
       "dropoff_latitude                     40.7256\n",
       "dropoff_longitude                   -74.0052\n",
       "flag                            trip_time_NA\n",
       "hack_license                      2013029479\n",
       "medallion                         2013003292\n",
       "passenger_count                            1\n",
       "pickup_datetime          2013-01-13 20:36:00\n",
       "pickup_latitude                      40.7257\n",
       "pickup_longitude                    -74.0057\n",
       "tip_amount                               NaN\n",
       "total_amount                            52.5\n",
       "trip_distance                           0.05\n",
       "trip_time_in_secs                        NaN\n",
       "Name: 3212817, dtype: object"
      ]
     },
     "execution_count": 44,
     "metadata": {},
     "output_type": "execute_result"
    }
   ],
   "source": [
    "#anomaly.loc[(anomaly['pickup_datetime'] == anomaly['dropoff_datetime'])].tail(15)\n",
    "#anomaly.loc[3265892]\n",
    "anomaly.loc[3212817]"
   ]
  },
  {
   "cell_type": "markdown",
   "metadata": {},
   "source": [
    "# <font color = 'red' > Inspect trip amount instead of total amount </font color>"
   ]
  },
  {
   "cell_type": "code",
   "execution_count": 39,
   "metadata": {
    "collapsed": false
   },
   "outputs": [
    {
     "data": {
      "text/plain": [
       "count    3.187967e+06\n",
       "mean     2.362426e-02\n",
       "std      1.667706e-01\n",
       "min      3.159225e-04\n",
       "25%      1.672043e-02\n",
       "50%      2.005348e-02\n",
       "75%      2.496032e-02\n",
       "max      1.000000e+02\n",
       "Name: avg_amount_per_second, dtype: float64"
      ]
     },
     "execution_count": 39,
     "metadata": {},
     "output_type": "execute_result"
    }
   ],
   "source": [
    "taxidata.avg_amount_per_second.describe()"
   ]
  },
  {
   "cell_type": "markdown",
   "metadata": {},
   "source": [
    "# <font color = 'red'> Use official taxi fares from NYC taxi website </font color>"
   ]
  },
  {
   "cell_type": "code",
   "execution_count": 49,
   "metadata": {
    "collapsed": false
   },
   "outputs": [
    {
     "data": {
      "text/plain": [
       "<matplotlib.text.Text at 0x7f0015c71d30>"
      ]
     },
     "execution_count": 49,
     "metadata": {},
     "output_type": "execute_result"
    },
    {
     "data": {
      "image/png": "[encoded data removed]",
      "text/plain": [
       "<matplotlib.figure.Figure at 0x7f0017e8e828>"
      ]
     },
     "metadata": {},
     "output_type": "display_data"
    }
   ],
   "source": [
    "plt.figure(figsize=(20,10))\n",
    "sns.boxplot(np.log(taxidata.avg_amount_per_second)/np.log(2))\n",
    "sns.axlabel('avg_amount_per_sec', '')\n",
    "sns.plt.title('Boxplot of avg_amount_per_sec')"
   ]
  },
  {
   "cell_type": "markdown",
   "metadata": {},
   "source": [
    "Ok, there are a few outliers! One must decide where the the 'normal' area begins."
   ]
  },
  {
   "cell_type": "markdown",
   "metadata": {},
   "source": [
    "# <font color = 'red' > Go on here! Linear Regression might be recommended! Use logarithmic y-axis for the histogram.</font color>"
   ]
  },
  {
   "cell_type": "code",
   "execution_count": null,
   "metadata": {
    "collapsed": true
   },
   "outputs": [],
   "source": []
  },
  {
   "cell_type": "code",
   "execution_count": 41,
   "metadata": {
    "collapsed": false
   },
   "outputs": [],
   "source": [
    "time_diffs = (taxidata.diff_calc_rec_time / np.timedelta64(1,'h')) # display the time diffs in hours"
   ]
  },
  {
   "cell_type": "code",
   "execution_count": 43,
   "metadata": {
    "collapsed": false
   },
   "outputs": [
    {
     "data": {
      "text/plain": [
       "count    3.187967e+06\n",
       "mean     4.744650e-04\n",
       "std      1.916985e-01\n",
       "min     -6.630556e-01\n",
       "25%      0.000000e+00\n",
       "50%      0.000000e+00\n",
       "75%      2.777778e-04\n",
       "max      3.360094e+02\n",
       "Name: diff_calc_rec_time, dtype: float64"
      ]
     },
     "execution_count": 43,
     "metadata": {},
     "output_type": "execute_result"
    }
   ],
   "source": [
    "time_diffs.describe()"
   ]
  },
  {
   "cell_type": "markdown",
   "metadata": {},
   "source": [
    "Let's make a boxplot out of that:"
   ]
  },
  {
   "cell_type": "code",
   "execution_count": 56,
   "metadata": {
    "collapsed": false
   },
   "outputs": [
    {
     "data": {
      "text/plain": [
       "<matplotlib.text.Text at 0x7f173550d278>"
      ]
     },
     "execution_count": 56,
     "metadata": {},
     "output_type": "execute_result"
    },
    {
     "data": {
      "image/png": "[encoded data removed]",
      "text/plain": [
       "<matplotlib.figure.Figure at 0x7f1735961cf8>"
      ]
     },
     "metadata": {},
     "output_type": "display_data"
    }
   ],
   "source": [
    "sns.boxplot(time_diffs)\n",
    "sns.axlabel('diff_calc_rec_time in [h]', '')\n",
    "sns.plt.title('Boxplot of time differences')"
   ]
  },
  {
   "cell_type": "code",
   "execution_count": 57,
   "metadata": {
    "collapsed": false
   },
   "outputs": [
    {
     "data": {
      "text/plain": [
       "0.0001   -0.000556\n",
       "0.9500    0.000278\n",
       "0.9900    0.000278\n",
       "0.9999    0.678027\n",
       "Name: diff_calc_rec_time, dtype: float64"
      ]
     },
     "execution_count": 57,
     "metadata": {},
     "output_type": "execute_result"
    }
   ],
   "source": [
    "time_diffs.quantile([.0001, .95, .99, .9999])"
   ]
  },
  {
   "cell_type": "markdown",
   "metadata": {},
   "source": [
    "# <font color = blue> Okay, so we have some negative difference right here. We have also unreasonably small trip_times.  But it seems ok in most cases. </font color>"
   ]
  },
  {
   "cell_type": "markdown",
   "metadata": {},
   "source": [
    "# <font color = 'blue'> So 99% of the differences are less than 0.0003h (i.e. less than 2 seconds). So we cut off all the trips that show more deviation. </font color>"
   ]
  },
  {
   "cell_type": "code",
   "execution_count": 44,
   "metadata": {
    "collapsed": false
   },
   "outputs": [
    {
     "ename": "TypeError",
     "evalue": "invalid type comparison",
     "output_type": "error",
     "traceback": [
      "\u001b[1;31m---------------------------------------------------------------------------\u001b[0m",
      "\u001b[1;31mTypeError\u001b[0m                                 Traceback (most recent call last)",
      "\u001b[1;32m<ipython-input-44-470c1b3a3417>\u001b[0m in \u001b[0;36m<module>\u001b[1;34m()\u001b[0m\n\u001b[1;32m----> 1\u001b[1;33m taxidata.loc[(taxidata.diff_calc_rec_time < np.float64(0.0)) | \n\u001b[0m\u001b[0;32m      2\u001b[0m               (taxidata.diff_calc_rec_time > np.float64(0.0003))]\n",
      "\u001b[1;32m/home/niklas/anaconda3/lib/python3.5/site-packages/pandas/core/ops.py\u001b[0m in \u001b[0;36mwrapper\u001b[1;34m(self, other, axis)\u001b[0m\n\u001b[0;32m    759\u001b[0m                 \u001b[0mother\u001b[0m \u001b[1;33m=\u001b[0m \u001b[0mnp\u001b[0m\u001b[1;33m.\u001b[0m\u001b[0masarray\u001b[0m\u001b[1;33m(\u001b[0m\u001b[0mother\u001b[0m\u001b[1;33m)\u001b[0m\u001b[1;33m\u001b[0m\u001b[0m\n\u001b[0;32m    760\u001b[0m \u001b[1;33m\u001b[0m\u001b[0m\n\u001b[1;32m--> 761\u001b[1;33m             \u001b[0mres\u001b[0m \u001b[1;33m=\u001b[0m \u001b[0mna_op\u001b[0m\u001b[1;33m(\u001b[0m\u001b[0mvalues\u001b[0m\u001b[1;33m,\u001b[0m \u001b[0mother\u001b[0m\u001b[1;33m)\u001b[0m\u001b[1;33m\u001b[0m\u001b[0m\n\u001b[0m\u001b[0;32m    762\u001b[0m             \u001b[1;32mif\u001b[0m \u001b[0misscalar\u001b[0m\u001b[1;33m(\u001b[0m\u001b[0mres\u001b[0m\u001b[1;33m)\u001b[0m\u001b[1;33m:\u001b[0m\u001b[1;33m\u001b[0m\u001b[0m\n\u001b[0;32m    763\u001b[0m                 raise TypeError('Could not compare %s type with Series' %\n",
      "\u001b[1;32m/home/niklas/anaconda3/lib/python3.5/site-packages/pandas/core/ops.py\u001b[0m in \u001b[0;36mna_op\u001b[1;34m(x, y)\u001b[0m\n\u001b[0;32m    688\u001b[0m             \u001b[1;31m# integer comparisons\u001b[0m\u001b[1;33m\u001b[0m\u001b[1;33m\u001b[0m\u001b[0m\n\u001b[0;32m    689\u001b[0m             \u001b[1;32mif\u001b[0m \u001b[0mis_datetimelike_v_numeric\u001b[0m\u001b[1;33m(\u001b[0m\u001b[0mx\u001b[0m\u001b[1;33m,\u001b[0m \u001b[0my\u001b[0m\u001b[1;33m)\u001b[0m\u001b[1;33m:\u001b[0m\u001b[1;33m\u001b[0m\u001b[0m\n\u001b[1;32m--> 690\u001b[1;33m                 \u001b[1;32mraise\u001b[0m \u001b[0mTypeError\u001b[0m\u001b[1;33m(\u001b[0m\u001b[1;34m\"invalid type comparison\"\u001b[0m\u001b[1;33m)\u001b[0m\u001b[1;33m\u001b[0m\u001b[0m\n\u001b[0m\u001b[0;32m    691\u001b[0m \u001b[1;33m\u001b[0m\u001b[0m\n\u001b[0;32m    692\u001b[0m             \u001b[1;31m# numpy does not like comparisons vs None\u001b[0m\u001b[1;33m\u001b[0m\u001b[1;33m\u001b[0m\u001b[0m\n",
      "\u001b[1;31mTypeError\u001b[0m: invalid type comparison"
     ]
    }
   ],
   "source": [
    "taxidata.loc[(taxidata.diff_calc_rec_time < np.float64(0.0)) | \n",
    "              (taxidata.diff_calc_rec_time > np.float64(0.0003))]"
   ]
  },
  {
   "cell_type": "code",
   "execution_count": null,
   "metadata": {
    "collapsed": true
   },
   "outputs": [],
   "source": [
    "anomaly.append(taxidata.loc[(taxidata.diff_calc_rec_time < 0) |  (taxidata.diff_calc_rec_time > 0.0003)]"
   ]
  },
  {
   "cell_type": "markdown",
   "metadata": {},
   "source": [
    "## Calculate average velocity:"
   ]
  },
  {
   "cell_type": "code",
   "execution_count": 48,
   "metadata": {
    "collapsed": true
   },
   "outputs": [],
   "source": [
    "taxidata['avg_velo'] = taxidata.trip_distance / (taxidata.trip_time_in_secs / 3600.0)"
   ]
  },
  {
   "cell_type": "code",
   "execution_count": 49,
   "metadata": {
    "collapsed": false
   },
   "outputs": [
    {
     "data": {
      "text/html": [
       "<div>\n",
       "<table border=\"1\" class=\"dataframe\">\n",
       "  <thead>\n",
       "    <tr style=\"text-align: right;\">\n",
       "      <th></th>\n",
       "      <th>medallion</th>\n",
       "      <th>hack_license</th>\n",
       "      <th>pickup_datetime</th>\n",
       "      <th>dropoff_datetime</th>\n",
       "      <th>passenger_count</th>\n",
       "      <th>trip_time_in_secs</th>\n",
       "      <th>trip_distance</th>\n",
       "      <th>pickup_longitude</th>\n",
       "      <th>pickup_latitude</th>\n",
       "      <th>dropoff_longitude</th>\n",
       "      <th>dropoff_latitude</th>\n",
       "      <th>tip_amount</th>\n",
       "      <th>total_amount</th>\n",
       "      <th>diff_calc_rec_time</th>\n",
       "      <th>avg_velo</th>\n",
       "    </tr>\n",
       "  </thead>\n",
       "  <tbody>\n",
       "    <tr>\n",
       "      <th>0</th>\n",
       "      <td>2013001380</td>\n",
       "      <td>2013001377</td>\n",
       "      <td>2013-01-07</td>\n",
       "      <td>2013-01-07 00:12:00</td>\n",
       "      <td>2.0</td>\n",
       "      <td>720.0</td>\n",
       "      <td>4.24</td>\n",
       "      <td>-73.987915</td>\n",
       "      <td>40.754730</td>\n",
       "      <td>-73.957382</td>\n",
       "      <td>40.782902</td>\n",
       "      <td>NaN</td>\n",
       "      <td>14.50</td>\n",
       "      <td>0 days</td>\n",
       "      <td>21.200000</td>\n",
       "    </tr>\n",
       "    <tr>\n",
       "      <th>1</th>\n",
       "      <td>2013005435</td>\n",
       "      <td>2013005432</td>\n",
       "      <td>2013-01-07</td>\n",
       "      <td>2013-01-07 00:04:00</td>\n",
       "      <td>3.0</td>\n",
       "      <td>240.0</td>\n",
       "      <td>1.51</td>\n",
       "      <td>-73.984917</td>\n",
       "      <td>40.736370</td>\n",
       "      <td>-73.984917</td>\n",
       "      <td>40.736370</td>\n",
       "      <td>1.30</td>\n",
       "      <td>8.30</td>\n",
       "      <td>0 days</td>\n",
       "      <td>22.650000</td>\n",
       "    </tr>\n",
       "    <tr>\n",
       "      <th>2</th>\n",
       "      <td>2013002440</td>\n",
       "      <td>2013002437</td>\n",
       "      <td>2013-01-07</td>\n",
       "      <td>2013-01-07 00:15:00</td>\n",
       "      <td>6.0</td>\n",
       "      <td>900.0</td>\n",
       "      <td>4.86</td>\n",
       "      <td>-73.988365</td>\n",
       "      <td>40.720261</td>\n",
       "      <td>-73.920486</td>\n",
       "      <td>40.702522</td>\n",
       "      <td>NaN</td>\n",
       "      <td>17.50</td>\n",
       "      <td>0 days</td>\n",
       "      <td>19.440000</td>\n",
       "    </tr>\n",
       "    <tr>\n",
       "      <th>3</th>\n",
       "      <td>2013007092</td>\n",
       "      <td>2013007088</td>\n",
       "      <td>2013-01-07</td>\n",
       "      <td>2013-01-07 00:14:00</td>\n",
       "      <td>1.0</td>\n",
       "      <td>840.0</td>\n",
       "      <td>6.33</td>\n",
       "      <td>-73.989822</td>\n",
       "      <td>40.702522</td>\n",
       "      <td>-74.009789</td>\n",
       "      <td>40.737411</td>\n",
       "      <td>4.10</td>\n",
       "      <td>25.10</td>\n",
       "      <td>0 days</td>\n",
       "      <td>27.128571</td>\n",
       "    </tr>\n",
       "    <tr>\n",
       "      <th>4</th>\n",
       "      <td>2013003235</td>\n",
       "      <td>2013003231</td>\n",
       "      <td>2013-01-07</td>\n",
       "      <td>2013-01-07 00:06:00</td>\n",
       "      <td>1.0</td>\n",
       "      <td>360.0</td>\n",
       "      <td>1.70</td>\n",
       "      <td>-74.005730</td>\n",
       "      <td>40.717567</td>\n",
       "      <td>-74.006401</td>\n",
       "      <td>40.739521</td>\n",
       "      <td>1.88</td>\n",
       "      <td>9.88</td>\n",
       "      <td>0 days</td>\n",
       "      <td>17.000000</td>\n",
       "    </tr>\n",
       "  </tbody>\n",
       "</table>\n",
       "</div>"
      ],
      "text/plain": [
       "    medallion  hack_license pickup_datetime    dropoff_datetime  \\\n",
       "0  2013001380    2013001377      2013-01-07 2013-01-07 00:12:00   \n",
       "1  2013005435    2013005432      2013-01-07 2013-01-07 00:04:00   \n",
       "2  2013002440    2013002437      2013-01-07 2013-01-07 00:15:00   \n",
       "3  2013007092    2013007088      2013-01-07 2013-01-07 00:14:00   \n",
       "4  2013003235    2013003231      2013-01-07 2013-01-07 00:06:00   \n",
       "\n",
       "   passenger_count  trip_time_in_secs  trip_distance  pickup_longitude  \\\n",
       "0              2.0              720.0           4.24        -73.987915   \n",
       "1              3.0              240.0           1.51        -73.984917   \n",
       "2              6.0              900.0           4.86        -73.988365   \n",
       "3              1.0              840.0           6.33        -73.989822   \n",
       "4              1.0              360.0           1.70        -74.005730   \n",
       "\n",
       "   pickup_latitude  dropoff_longitude  dropoff_latitude  tip_amount  \\\n",
       "0        40.754730         -73.957382         40.782902         NaN   \n",
       "1        40.736370         -73.984917         40.736370        1.30   \n",
       "2        40.720261         -73.920486         40.702522         NaN   \n",
       "3        40.702522         -74.009789         40.737411        4.10   \n",
       "4        40.717567         -74.006401         40.739521        1.88   \n",
       "\n",
       "   total_amount  diff_calc_rec_time   avg_velo  \n",
       "0         14.50              0 days  21.200000  \n",
       "1          8.30              0 days  22.650000  \n",
       "2         17.50              0 days  19.440000  \n",
       "3         25.10              0 days  27.128571  \n",
       "4          9.88              0 days  17.000000  "
      ]
     },
     "execution_count": 49,
     "metadata": {},
     "output_type": "execute_result"
    }
   ],
   "source": [
    "taxidata.head()"
   ]
  },
  {
   "cell_type": "code",
   "execution_count": 50,
   "metadata": {
    "collapsed": false
   },
   "outputs": [
    {
     "data": {
      "text/plain": [
       "count    3.187967e+06\n",
       "mean     1.472316e+01\n",
       "std      1.580775e+02\n",
       "min      3.000000e-02\n",
       "25%      9.171975e+00\n",
       "50%      1.204013e+01\n",
       "75%      1.610000e+01\n",
       "max      8.496000e+04\n",
       "Name: avg_velo, dtype: float64"
      ]
     },
     "execution_count": 50,
     "metadata": {},
     "output_type": "execute_result"
    }
   ],
   "source": [
    "taxidata.avg_velo.describe()"
   ]
  },
  {
   "cell_type": "code",
   "execution_count": 57,
   "metadata": {
    "collapsed": false
   },
   "outputs": [
    {
     "data": {
      "text/plain": [
       "<matplotlib.text.Text at 0x7f92d65e6dd8>"
      ]
     },
     "execution_count": 57,
     "metadata": {},
     "output_type": "execute_result"
    },
    {
     "data": {
      "image/png": "[encoded data removed]",
      "text/plain": [
       "<matplotlib.figure.Figure at 0x7f92d7063518>"
      ]
     },
     "metadata": {},
     "output_type": "display_data"
    }
   ],
   "source": [
    "sns.boxplot(taxidata.avg_velo.values)\n",
    "sns.axlabel('avg_velocities', '')\n",
    "sns.plt.title('Boxplot of avg velocities')"
   ]
  },
  {
   "cell_type": "code",
   "execution_count": 80,
   "metadata": {
    "collapsed": false
   },
   "outputs": [
    {
     "data": {
      "text/plain": [
       "(array([  3.21807872e-02,   5.46866530e-02,   1.00423592e-02,\n",
       "          2.51430939e-03,   5.06929873e-04,   4.01777236e-05,\n",
       "          9.16554321e-06,   7.43915664e-06,   6.71721317e-06,\n",
       "          5.46165931e-06]),\n",
       " array([   0.,   10.,   20.,   30.,   40.,   50.,   60.,   70.,   80.,\n",
       "          90.,  100.]),\n",
       " <a list of 1 Patch objects>)"
      ]
     },
     "execution_count": 80,
     "metadata": {},
     "output_type": "execute_result"
    },
    {
     "data": {
      "image/png": "[encoded data removed]",
      "text/plain": [
       "<matplotlib.figure.Figure at 0x7f92d54e21d0>"
      ]
     },
     "metadata": {},
     "output_type": "display_data"
    }
   ],
   "source": [
    "plt.hist(taxidata.avg_velo.values, normed=True, stacked=True, range=[0 ,100.0], histtype='stepfilled')"
   ]
  },
  {
   "cell_type": "markdown",
   "metadata": {},
   "source": [
    "# <font color = 'red'>Make this a relative frequency!</font color>"
   ]
  },
  {
   "cell_type": "code",
   "execution_count": 89,
   "metadata": {
    "collapsed": false
   },
   "outputs": [
    {
     "data": {
      "text/plain": [
       "count    3.202160e+06\n",
       "mean     4.074874e+01\n",
       "std      4.588263e+00\n",
       "min     -3.181078e+03\n",
       "25%      4.073690e+01\n",
       "50%      4.075378e+01\n",
       "75%      4.076790e+01\n",
       "max      3.210345e+03\n",
       "Name: pickup_latitude, dtype: float64"
      ]
     },
     "execution_count": 89,
     "metadata": {},
     "output_type": "execute_result"
    }
   ],
   "source": [
    "taxidata.pickup_latitude.describe()"
   ]
  },
  {
   "cell_type": "code",
   "execution_count": 48,
   "metadata": {
    "collapsed": false
   },
   "outputs": [
    {
     "data": {
      "text/plain": [
       "<matplotlib.figure.Figure at 0x7f8577370710>"
      ]
     },
     "metadata": {},
     "output_type": "display_data"
    },
    {
     "data": {
      "image/png": "[encoded data removed]",
      "text/plain": [
       "<matplotlib.figure.Figure at 0x7f85773701d0>"
      ]
     },
     "metadata": {},
     "output_type": "display_data"
    }
   ],
   "source": [
    "x = taxidata.pickup_latitude\n",
    "y = taxidata.pickup_longitude\n",
    "\n",
    "H, xedges, yedges = np.histogram2d(x, y, bins=150, range=[ [x.quantile(.05), x.quantile(.95)], \n",
    "        [y.quantile(.05), y.quantile(.95)]], normed=False, weights=None)\n",
    "\n",
    "plt.jet()\n",
    "fig = plt.figure(figsize=(20, 10))\n",
    "#ax.set_title('pcolormesh: exact bin edges')\n",
    "X, Y = np.meshgrid(xedges, yedges)\n",
    "mesh = plt.pcolormesh(X, Y, H)\n",
    "plt.colorbar(mesh)\n",
    "#ax.set_aspect('equal')\n",
    "plt.savefig('figure.pdf', format='pdf')\n",
    "plt.savefig('figure.png', format='png')"
   ]
  },
  {
   "cell_type": "code",
   "execution_count": 179,
   "metadata": {
    "collapsed": false
   },
   "outputs": [
    {
     "data": {
      "text/plain": [
       "numpy.ndarray"
      ]
     },
     "execution_count": 179,
     "metadata": {},
     "output_type": "execute_result"
    }
   ],
   "source": [
    "type(H)"
   ]
  },
  {
   "cell_type": "code",
   "execution_count": 200,
   "metadata": {
    "collapsed": false
   },
   "outputs": [
    {
     "name": "stdout",
     "output_type": "stream",
     "text": [
      "(150, 150)\n",
      "22500\n",
      "10113.0\n"
     ]
    }
   ],
   "source": [
    "print(H.shape)\n",
    "print(H.size)\n",
    "print(H.max())"
   ]
  },
  {
   "cell_type": "code",
   "execution_count": 201,
   "metadata": {
    "collapsed": false
   },
   "outputs": [
    {
     "name": "stdout",
     "output_type": "stream",
     "text": [
      "(array([78]), array([28]))\n"
     ]
    },
    {
     "data": {
      "text/plain": [
       "10113.0"
      ]
     },
     "execution_count": 201,
     "metadata": {},
     "output_type": "execute_result"
    }
   ],
   "source": [
    "indices = np.where(H == H.max())\n",
    "print(indices)\n",
    "H[78,28]"
   ]
  },
  {
   "cell_type": "code",
   "execution_count": 214,
   "metadata": {
    "collapsed": true
   },
   "outputs": [],
   "source": [
    "H_shape = H.reshape(1,150*150)\n",
    "H_shape.sort()"
   ]
  },
  {
   "cell_type": "code",
   "execution_count": 216,
   "metadata": {
    "collapsed": false
   },
   "outputs": [
    {
     "data": {
      "text/plain": [
       "array([ 0.,  0.,  0.,  0.,  0.,  0.])"
      ]
     },
     "execution_count": 216,
     "metadata": {},
     "output_type": "execute_result"
    }
   ],
   "source": [
    "np.percentile(H_shape, [.5, .7, .8, .9, .95, .9999999])"
   ]
  },
  {
   "cell_type": "code",
   "execution_count": 233,
   "metadata": {
    "collapsed": false
   },
   "outputs": [
    {
     "name": "stdout",
     "output_type": "stream",
     "text": [
      "[[     0.      0.      0. ...,   6023.   6304.  10113.]]\n",
      "DescribeResult(nobs=22500, minmax=(array([ 0.]), array([ 10113.])), mean=array([ 118.95875556]), variance=array([ 75596.28880062]), skewness=array([ 6.31623486]), kurtosis=array([ 114.90322824]))\n"
     ]
    }
   ],
   "source": [
    "print(H_shape)\n",
    "print(stats.describe(H_shape, axis=1))"
   ]
  },
  {
   "cell_type": "markdown",
   "metadata": {},
   "source": [
    "# Ideas: make ndarray to dict (with coordinates), sort according to frequency, check the most frequent places and bring them together with geodata. Apply k-means somewhere?"
   ]
  },
  {
   "cell_type": "code",
   "execution_count": 146,
   "metadata": {
    "collapsed": false
   },
   "outputs": [
    {
     "name": "stdout",
     "output_type": "stream",
     "text": [
      "['seaborn-darkgrid', 'seaborn-ticks', 'fivethirtyeight', 'classic', 'bmh', 'seaborn-dark', 'seaborn-deep', 'grayscale', 'seaborn-muted', 'seaborn-poster', 'seaborn-colorblind', 'seaborn-whitegrid', 'seaborn-pastel', 'seaborn-dark-palette', 'seaborn-notebook', 'dark_background', 'seaborn-talk', 'seaborn-bright', 'ggplot', 'seaborn-paper', 'seaborn-white']\n"
     ]
    },
    {
     "data": {
      "text/plain": [
       "['Accent',\n",
       " 'Accent_r',\n",
       " 'Blues',\n",
       " 'Blues_r',\n",
       " 'BrBG',\n",
       " 'BrBG_r',\n",
       " 'BuGn',\n",
       " 'BuGn_r',\n",
       " 'BuPu',\n",
       " 'BuPu_r',\n",
       " 'CMRmap',\n",
       " 'CMRmap_r',\n",
       " 'Dark2',\n",
       " 'Dark2_r',\n",
       " 'GnBu',\n",
       " 'GnBu_r',\n",
       " 'Greens',\n",
       " 'Greens_r',\n",
       " 'Greys',\n",
       " 'Greys_r',\n",
       " 'OrRd',\n",
       " 'OrRd_r',\n",
       " 'Oranges',\n",
       " 'Oranges_r',\n",
       " 'PRGn',\n",
       " 'PRGn_r',\n",
       " 'Paired',\n",
       " 'Paired_r',\n",
       " 'Pastel1',\n",
       " 'Pastel1_r',\n",
       " 'Pastel2',\n",
       " 'Pastel2_r',\n",
       " 'PiYG',\n",
       " 'PiYG_r',\n",
       " 'PuBu',\n",
       " 'PuBuGn',\n",
       " 'PuBuGn_r',\n",
       " 'PuBu_r',\n",
       " 'PuOr',\n",
       " 'PuOr_r',\n",
       " 'PuRd',\n",
       " 'PuRd_r',\n",
       " 'Purples',\n",
       " 'Purples_r',\n",
       " 'RdBu',\n",
       " 'RdBu_r',\n",
       " 'RdGy',\n",
       " 'RdGy_r',\n",
       " 'RdPu',\n",
       " 'RdPu_r',\n",
       " 'RdYlBu',\n",
       " 'RdYlBu_r',\n",
       " 'RdYlGn',\n",
       " 'RdYlGn_r',\n",
       " 'Reds',\n",
       " 'Reds_r',\n",
       " 'Set1',\n",
       " 'Set1_r',\n",
       " 'Set2',\n",
       " 'Set2_r',\n",
       " 'Set3',\n",
       " 'Set3_r',\n",
       " 'Spectral',\n",
       " 'Spectral_r',\n",
       " 'Wistia',\n",
       " 'Wistia_r',\n",
       " 'YlGn',\n",
       " 'YlGnBu',\n",
       " 'YlGnBu_r',\n",
       " 'YlGn_r',\n",
       " 'YlOrBr',\n",
       " 'YlOrBr_r',\n",
       " 'YlOrRd',\n",
       " 'YlOrRd_r',\n",
       " 'afmhot',\n",
       " 'afmhot_r',\n",
       " 'autumn',\n",
       " 'autumn_r',\n",
       " 'binary',\n",
       " 'binary_r',\n",
       " 'bone',\n",
       " 'bone_r',\n",
       " 'brg',\n",
       " 'brg_r',\n",
       " 'bwr',\n",
       " 'bwr_r',\n",
       " 'cool',\n",
       " 'cool_r',\n",
       " 'coolwarm',\n",
       " 'coolwarm_r',\n",
       " 'copper',\n",
       " 'copper_r',\n",
       " 'cubehelix',\n",
       " 'cubehelix_r',\n",
       " 'flag',\n",
       " 'flag_r',\n",
       " 'gist_earth',\n",
       " 'gist_earth_r',\n",
       " 'gist_gray',\n",
       " 'gist_gray_r',\n",
       " 'gist_heat',\n",
       " 'gist_heat_r',\n",
       " 'gist_ncar',\n",
       " 'gist_ncar_r',\n",
       " 'gist_rainbow',\n",
       " 'gist_rainbow_r',\n",
       " 'gist_stern',\n",
       " 'gist_stern_r',\n",
       " 'gist_yarg',\n",
       " 'gist_yarg_r',\n",
       " 'gnuplot',\n",
       " 'gnuplot2',\n",
       " 'gnuplot2_r',\n",
       " 'gnuplot_r',\n",
       " 'gray',\n",
       " 'gray_r',\n",
       " 'hot',\n",
       " 'hot_r',\n",
       " 'hsv',\n",
       " 'hsv_r',\n",
       " 'inferno',\n",
       " 'inferno_r',\n",
       " 'jet',\n",
       " 'jet_r',\n",
       " 'magma',\n",
       " 'magma_r',\n",
       " 'nipy_spectral',\n",
       " 'nipy_spectral_r',\n",
       " 'ocean',\n",
       " 'ocean_r',\n",
       " 'pink',\n",
       " 'pink_r',\n",
       " 'plasma',\n",
       " 'plasma_r',\n",
       " 'prism',\n",
       " 'prism_r',\n",
       " 'rainbow',\n",
       " 'rainbow_r',\n",
       " 'seismic',\n",
       " 'seismic_r',\n",
       " 'spectral',\n",
       " 'spectral_r',\n",
       " 'spring',\n",
       " 'spring_r',\n",
       " 'summer',\n",
       " 'summer_r',\n",
       " 'terrain',\n",
       " 'terrain_r',\n",
       " 'viridis',\n",
       " 'viridis_r',\n",
       " 'winter',\n",
       " 'winter_r']"
      ]
     },
     "execution_count": 146,
     "metadata": {},
     "output_type": "execute_result"
    }
   ],
   "source": [
    "print(plt.style.available)\n",
    "plt.colormaps()"
   ]
  },
  {
   "cell_type": "markdown",
   "metadata": {},
   "source": [
    "\n",
    "x = taxidata.pickup_latitude\n",
    "y = taxidata.pickup_longitude\n",
    "\n",
    "\n",
    "#setup the 2D grid with Numpy\n",
    "x, y = np.meshgrid(x, y)\n",
    "\n",
    "#convert intensity (list of lists) to a numpy array for plotting\n",
    "intensity = np.array(intensity)\n",
    "\n",
    "#now just plug the data into pcolormesh, it's that easy!\n",
    "plt.pcolormesh(x, y, intensity)\n",
    "plt.colorbar() #need a colorbar to show the intensity scale\n",
    "plt.show() #boom"
   ]
  },
  {
   "cell_type": "markdown",
   "metadata": {},
   "source": [
    "## here's our data to plot, all normal Python lists"
   ]
  },
  {
   "cell_type": "markdown",
   "metadata": {},
   "source": [
    "Select one day:"
   ]
  },
  {
   "cell_type": "code",
   "execution_count": 31,
   "metadata": {
    "collapsed": false
   },
   "outputs": [],
   "source": [
    "oneday = taxiweek[(taxiweek['pickup_datetime'] > '2013-01-07 00:00') & (taxiweek['pickup_datetime'] < '2013-01-07 23:59')]"
   ]
  },
  {
   "cell_type": "code",
   "execution_count": 33,
   "metadata": {
    "collapsed": false
   },
   "outputs": [
    {
     "data": {
      "text/html": [
       "<div>\n",
       "<table border=\"1\" class=\"dataframe\">\n",
       "  <thead>\n",
       "    <tr style=\"text-align: right;\">\n",
       "      <th></th>\n",
       "      <th>Unnamed: 0</th>\n",
       "      <th>medallion</th>\n",
       "      <th>hack_license</th>\n",
       "      <th>pickup_datetime</th>\n",
       "      <th>dropoff_datetime</th>\n",
       "      <th>passenger_count</th>\n",
       "      <th>trip_time_in_secs</th>\n",
       "      <th>trip_distance</th>\n",
       "      <th>pickup_longitude</th>\n",
       "      <th>pickup_latitude</th>\n",
       "      <th>dropoff_longitude</th>\n",
       "      <th>dropoff_latitude</th>\n",
       "      <th>payment_type</th>\n",
       "      <th>pfare_amount</th>\n",
       "      <th>surcharge</th>\n",
       "      <th>tip_amount</th>\n",
       "      <th>total_amount</th>\n",
       "    </tr>\n",
       "  </thead>\n",
       "  <tbody>\n",
       "    <tr>\n",
       "      <th>91</th>\n",
       "      <td>2602865</td>\n",
       "      <td>2013000476</td>\n",
       "      <td>2013023780</td>\n",
       "      <td>2013-01-07 00:00:01</td>\n",
       "      <td>2013-01-07 00:06:18</td>\n",
       "      <td>1.0</td>\n",
       "      <td>376.0</td>\n",
       "      <td>1.1</td>\n",
       "      <td>-73.968872</td>\n",
       "      <td>40.798531</td>\n",
       "      <td>-73.955879</td>\n",
       "      <td>40.800400</td>\n",
       "      <td>CSH</td>\n",
       "      <td>7.0</td>\n",
       "      <td>0.5</td>\n",
       "      <td>NaN</td>\n",
       "      <td>8.0</td>\n",
       "    </tr>\n",
       "    <tr>\n",
       "      <th>92</th>\n",
       "      <td>2602866</td>\n",
       "      <td>2013007185</td>\n",
       "      <td>2013019337</td>\n",
       "      <td>2013-01-07 00:00:01</td>\n",
       "      <td>2013-01-07 00:04:31</td>\n",
       "      <td>1.0</td>\n",
       "      <td>269.0</td>\n",
       "      <td>1.3</td>\n",
       "      <td>-74.001038</td>\n",
       "      <td>40.746243</td>\n",
       "      <td>-74.003067</td>\n",
       "      <td>40.731213</td>\n",
       "      <td>CSH</td>\n",
       "      <td>6.0</td>\n",
       "      <td>0.5</td>\n",
       "      <td>NaN</td>\n",
       "      <td>7.0</td>\n",
       "    </tr>\n",
       "    <tr>\n",
       "      <th>93</th>\n",
       "      <td>2602867</td>\n",
       "      <td>2013009072</td>\n",
       "      <td>2013026640</td>\n",
       "      <td>2013-01-07 00:00:04</td>\n",
       "      <td>2013-01-07 00:11:45</td>\n",
       "      <td>1.0</td>\n",
       "      <td>700.0</td>\n",
       "      <td>4.3</td>\n",
       "      <td>-73.956818</td>\n",
       "      <td>40.771019</td>\n",
       "      <td>-73.914642</td>\n",
       "      <td>40.763660</td>\n",
       "      <td>CSH</td>\n",
       "      <td>14.5</td>\n",
       "      <td>0.5</td>\n",
       "      <td>NaN</td>\n",
       "      <td>15.5</td>\n",
       "    </tr>\n",
       "    <tr>\n",
       "      <th>94</th>\n",
       "      <td>2602868</td>\n",
       "      <td>2013003999</td>\n",
       "      <td>2013024383</td>\n",
       "      <td>2013-01-07 00:00:04</td>\n",
       "      <td>2013-01-07 00:08:39</td>\n",
       "      <td>1.0</td>\n",
       "      <td>514.0</td>\n",
       "      <td>1.7</td>\n",
       "      <td>-73.971947</td>\n",
       "      <td>40.762646</td>\n",
       "      <td>-73.987793</td>\n",
       "      <td>40.776264</td>\n",
       "      <td>CRD</td>\n",
       "      <td>9.0</td>\n",
       "      <td>0.5</td>\n",
       "      <td>1.0</td>\n",
       "      <td>11.0</td>\n",
       "    </tr>\n",
       "    <tr>\n",
       "      <th>95</th>\n",
       "      <td>2602869</td>\n",
       "      <td>2013004328</td>\n",
       "      <td>2013003946</td>\n",
       "      <td>2013-01-07 00:00:04</td>\n",
       "      <td>2013-01-07 00:08:40</td>\n",
       "      <td>1.0</td>\n",
       "      <td>515.0</td>\n",
       "      <td>1.6</td>\n",
       "      <td>-73.974541</td>\n",
       "      <td>40.732578</td>\n",
       "      <td>-73.994499</td>\n",
       "      <td>40.724937</td>\n",
       "      <td>CSH</td>\n",
       "      <td>8.5</td>\n",
       "      <td>0.5</td>\n",
       "      <td>NaN</td>\n",
       "      <td>9.5</td>\n",
       "    </tr>\n",
       "  </tbody>\n",
       "</table>\n",
       "</div>"
      ],
      "text/plain": [
       "    Unnamed: 0   medallion  hack_license     pickup_datetime  \\\n",
       "91     2602865  2013000476    2013023780 2013-01-07 00:00:01   \n",
       "92     2602866  2013007185    2013019337 2013-01-07 00:00:01   \n",
       "93     2602867  2013009072    2013026640 2013-01-07 00:00:04   \n",
       "94     2602868  2013003999    2013024383 2013-01-07 00:00:04   \n",
       "95     2602869  2013004328    2013003946 2013-01-07 00:00:04   \n",
       "\n",
       "      dropoff_datetime  passenger_count  trip_time_in_secs  trip_distance  \\\n",
       "91 2013-01-07 00:06:18              1.0              376.0            1.1   \n",
       "92 2013-01-07 00:04:31              1.0              269.0            1.3   \n",
       "93 2013-01-07 00:11:45              1.0              700.0            4.3   \n",
       "94 2013-01-07 00:08:39              1.0              514.0            1.7   \n",
       "95 2013-01-07 00:08:40              1.0              515.0            1.6   \n",
       "\n",
       "    pickup_longitude  pickup_latitude  dropoff_longitude  dropoff_latitude  \\\n",
       "91        -73.968872        40.798531         -73.955879         40.800400   \n",
       "92        -74.001038        40.746243         -74.003067         40.731213   \n",
       "93        -73.956818        40.771019         -73.914642         40.763660   \n",
       "94        -73.971947        40.762646         -73.987793         40.776264   \n",
       "95        -73.974541        40.732578         -73.994499         40.724937   \n",
       "\n",
       "   payment_type  pfare_amount  surcharge  tip_amount  total_amount  \n",
       "91          CSH           7.0        0.5         NaN           8.0  \n",
       "92          CSH           6.0        0.5         NaN           7.0  \n",
       "93          CSH          14.5        0.5         NaN          15.5  \n",
       "94          CRD           9.0        0.5         1.0          11.0  \n",
       "95          CSH           8.5        0.5         NaN           9.5  "
      ]
     },
     "execution_count": 33,
     "metadata": {},
     "output_type": "execute_result"
    }
   ],
   "source": [
    "oneday.head()"
   ]
  },
  {
   "cell_type": "code",
   "execution_count": 40,
   "metadata": {
    "collapsed": false
   },
   "outputs": [
    {
     "data": {
      "text/plain": [
       "(734875.0000115741, 734875.9992939815)"
      ]
     },
     "execution_count": 40,
     "metadata": {},
     "output_type": "execute_result"
    },
    {
     "data": {
      "image/png": "[encoded data removed]",
      "text/plain": [
       "<matplotlib.figure.Figure at 0x7f2412882908>"
      ]
     },
     "metadata": {},
     "output_type": "display_data"
    }
   ],
   "source": [
    "plt.figure(figsize=(20,10))\n",
    "ax = plt.scatter(oneday.pickup_datetime.values, oneday.trip_time_in_secs.values)\n",
    "plt.xlim(oneday.pickup_datetime.values.min(), oneday.pickup_datetime.values.max())"
   ]
  },
  {
   "cell_type": "code",
   "execution_count": 41,
   "metadata": {
    "collapsed": false
   },
   "outputs": [
    {
     "data": {
      "text/plain": [
       "(734875.0000115741, 734875.9992939815)"
      ]
     },
     "execution_count": 41,
     "metadata": {},
     "output_type": "execute_result"
    },
    {
     "data": {
      "image/png": "[encoded data removed]",
      "text/plain": [
       "<matplotlib.figure.Figure at 0x7f240ef212b0>"
      ]
     },
     "metadata": {},
     "output_type": "display_data"
    }
   ],
   "source": [
    "plt.figure(figsize=(20,10))\n",
    "ax = plt.scatter(oneday.pickup_datetime.values, oneday.total_amount.values)\n",
    "plt.xlim(oneday.pickup_datetime.values.min(), oneday.pickup_datetime.values.max())"
   ]
  },
  {
   "cell_type": "code",
   "execution_count": null,
   "metadata": {
    "collapsed": true
   },
   "outputs": [],
   "source": []
  }
 ],
 "metadata": {
  "kernelspec": {
   "display_name": "Python 3",
   "language": "python",
   "name": "python3"
  },
  "language_info": {
   "codemirror_mode": {
    "name": "ipython",
    "version": 3
   },
   "file_extension": ".py",
   "mimetype": "text/x-python",
   "name": "python",
   "nbconvert_exporter": "python",
   "pygments_lexer": "ipython3",
   "version": "3.5.1"
  }
 },
 "nbformat": 4,
 "nbformat_minor": 0
}
