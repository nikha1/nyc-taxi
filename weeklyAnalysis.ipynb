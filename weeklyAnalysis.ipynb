{
 "cells": [
  {
   "cell_type": "code",
   "execution_count": 1,
   "metadata": {
    "collapsed": false
   },
   "outputs": [],
   "source": [
    "import os as os\n",
    "import pandas as pd\n",
    "import numpy as np\n",
    "from scipy import stats, integrate\n",
    "import matplotlib.pyplot as plt\n",
    "import matplotlib as mpl\n",
    "import seaborn as sns\n",
    "from statsmodels.distributions.empirical_distribution import ECDF\n",
    "import datetime as dt\n",
    "plt.style.use('seaborn-whitegrid')\n",
    "\n",
    "plt.rcParams['image.cmap'] = 'blue'\n",
    "\n",
    "#sns.set_context('notebook',font_scale=2)\n",
    "sns.set_style(\"whitegrid\")\n",
    "% matplotlib inline\n",
    "plt.rcParams['font.size'] = 22\n",
    "plt.rcParams.update({'figure.figsize': (20,10)})\n",
    "plt.rcParams.update({'axes.titlesize': 'large'})\n",
    "plt.rcParams.update({'axes.labelsize': 'large'})\n",
    "# mpl.rcParams.keys()"
   ]
  },
  {
   "cell_type": "code",
   "execution_count": 2,
   "metadata": {
    "collapsed": false,
    "scrolled": true
   },
   "outputs": [
    {
     "name": "stdout",
     "output_type": "stream",
     "text": [
      "2014-05 - Citi Bike trip data.csv\t  taxi_tree_test_X_20130506-12.csv\r\n",
      "bike_20140505_with_dist_and_avg_velo.csv  taxi_tree_test_X.csv\r\n",
      "bike_20140505_with_dist.csv\t\t  taxi_tree_test_Xy_20130506-12.csv\r\n",
      "bike_20140505_with_dist_velo.csv\t  taxi_tree_test_Xy.csv\r\n",
      "bike_oneweekfrom20140505.csv\t\t  taxi_tree_test_Xy_sample.csv\r\n",
      "data_jan13.csv\t\t\t\t  taxi_tree_test_y_20130506-12.csv\r\n",
      "README.txt\t\t\t\t  taxi_tree_test_y.csv\r\n",
      "taxi_oneweekfrom20130107.csv\t\t  yellow_tripdata_2013-05.csv\r\n",
      "taxi_oneweekfrom20130506.csv\t\t  yellow_tripdata_2014-05.csv\r\n",
      "taxi_oneweekfrom20140505.csv\r\n"
     ]
    }
   ],
   "source": [
    "!cd data && ls"
   ]
  },
  {
   "cell_type": "markdown",
   "metadata": {},
   "source": [
    "Use the bash =)"
   ]
  },
  {
   "cell_type": "code",
   "execution_count": 3,
   "metadata": {
    "collapsed": false
   },
   "outputs": [],
   "source": [
    "data = pd.read_csv('data/taxi_oneweekfrom20130506.csv', index_col=0, parse_dates=True)"
   ]
  },
  {
   "cell_type": "code",
   "execution_count": 4,
   "metadata": {
    "collapsed": false
   },
   "outputs": [
    {
     "name": "stdout",
     "output_type": "stream",
     "text": [
      "<class 'pandas.core.frame.DataFrame'>\n",
      "Int64Index: 3534632 entries, 0 to 3534631\n",
      "Data columns (total 18 columns):\n",
      "vendor_id             object\n",
      "pickup_datetime       object\n",
      "dropoff_datetime      object\n",
      "passenger_count       int64\n",
      "trip_distance         float64\n",
      "pickup_longitude      float64\n",
      "pickup_latitude       float64\n",
      "rate_code             int64\n",
      "store_and_fwd_flag    object\n",
      "dropoff_longitude     float64\n",
      "dropoff_latitude      float64\n",
      "payment_type          object\n",
      "fare_amount           float64\n",
      "surcharge             float64\n",
      "mta_tax               float64\n",
      "tip_amount            float64\n",
      "tolls_amount          float64\n",
      "total_amount          float64\n",
      "dtypes: float64(11), int64(2), object(5)\n",
      "memory usage: 512.4+ MB\n"
     ]
    }
   ],
   "source": [
    "data.info()"
   ]
  },
  {
   "cell_type": "markdown",
   "metadata": {},
   "source": [
    "So parsing does not work, do it manually:"
   ]
  },
  {
   "cell_type": "code",
   "execution_count": 5,
   "metadata": {
    "collapsed": false
   },
   "outputs": [],
   "source": [
    "data['pickup_datetime'] =pd.to_datetime(data['pickup_datetime'], format = '%Y-%m-%d %H:%M:%S')\n",
    "data['dropoff_datetime'] =pd.to_datetime(data['dropoff_datetime'], format = '%Y-%m-%d %H:%M:%S')"
   ]
  },
  {
   "cell_type": "code",
   "execution_count": 6,
   "metadata": {
    "collapsed": false
   },
   "outputs": [
    {
     "data": {
      "text/html": [
       "<div>\n",
       "<table border=\"1\" class=\"dataframe\">\n",
       "  <thead>\n",
       "    <tr style=\"text-align: right;\">\n",
       "      <th></th>\n",
       "      <th>count</th>\n",
       "      <th>mean</th>\n",
       "      <th>std</th>\n",
       "      <th>min</th>\n",
       "      <th>25%</th>\n",
       "      <th>50%</th>\n",
       "      <th>75%</th>\n",
       "      <th>max</th>\n",
       "    </tr>\n",
       "  </thead>\n",
       "  <tbody>\n",
       "    <tr>\n",
       "      <th>passenger_count</th>\n",
       "      <td>3534632.0</td>\n",
       "      <td>1.708266</td>\n",
       "      <td>1.380270</td>\n",
       "      <td>0.000000</td>\n",
       "      <td>1.000000</td>\n",
       "      <td>1.000000</td>\n",
       "      <td>2.000000</td>\n",
       "      <td>6.000000</td>\n",
       "    </tr>\n",
       "    <tr>\n",
       "      <th>trip_distance</th>\n",
       "      <td>3534632.0</td>\n",
       "      <td>2.875593</td>\n",
       "      <td>3.343748</td>\n",
       "      <td>0.000000</td>\n",
       "      <td>1.050000</td>\n",
       "      <td>1.800000</td>\n",
       "      <td>3.200000</td>\n",
       "      <td>100.000000</td>\n",
       "    </tr>\n",
       "    <tr>\n",
       "      <th>pickup_longitude</th>\n",
       "      <td>3534632.0</td>\n",
       "      <td>-72.621180</td>\n",
       "      <td>10.142067</td>\n",
       "      <td>-1625.033333</td>\n",
       "      <td>-73.992272</td>\n",
       "      <td>-73.981786</td>\n",
       "      <td>-73.966735</td>\n",
       "      <td>40.867882</td>\n",
       "    </tr>\n",
       "    <tr>\n",
       "      <th>pickup_latitude</th>\n",
       "      <td>3534632.0</td>\n",
       "      <td>39.981485</td>\n",
       "      <td>6.522288</td>\n",
       "      <td>-3113.281477</td>\n",
       "      <td>40.734916</td>\n",
       "      <td>40.752702</td>\n",
       "      <td>40.767551</td>\n",
       "      <td>2047.454950</td>\n",
       "    </tr>\n",
       "    <tr>\n",
       "      <th>rate_code</th>\n",
       "      <td>3534632.0</td>\n",
       "      <td>1.032870</td>\n",
       "      <td>0.345708</td>\n",
       "      <td>0.000000</td>\n",
       "      <td>1.000000</td>\n",
       "      <td>1.000000</td>\n",
       "      <td>1.000000</td>\n",
       "      <td>210.000000</td>\n",
       "    </tr>\n",
       "    <tr>\n",
       "      <th>dropoff_longitude</th>\n",
       "      <td>3534618.0</td>\n",
       "      <td>-72.575137</td>\n",
       "      <td>10.450838</td>\n",
       "      <td>-2038.393545</td>\n",
       "      <td>-73.991547</td>\n",
       "      <td>-73.980110</td>\n",
       "      <td>-73.963510</td>\n",
       "      <td>2386.995232</td>\n",
       "    </tr>\n",
       "    <tr>\n",
       "      <th>dropoff_latitude</th>\n",
       "      <td>3534618.0</td>\n",
       "      <td>39.952355</td>\n",
       "      <td>7.665360</td>\n",
       "      <td>-3114.304505</td>\n",
       "      <td>40.733845</td>\n",
       "      <td>40.753077</td>\n",
       "      <td>40.768337</td>\n",
       "      <td>3210.392762</td>\n",
       "    </tr>\n",
       "    <tr>\n",
       "      <th>fare_amount</th>\n",
       "      <td>3534632.0</td>\n",
       "      <td>12.491013</td>\n",
       "      <td>10.078369</td>\n",
       "      <td>2.500000</td>\n",
       "      <td>6.500000</td>\n",
       "      <td>9.500000</td>\n",
       "      <td>14.500000</td>\n",
       "      <td>500.000000</td>\n",
       "    </tr>\n",
       "    <tr>\n",
       "      <th>surcharge</th>\n",
       "      <td>3534632.0</td>\n",
       "      <td>0.320163</td>\n",
       "      <td>0.362772</td>\n",
       "      <td>0.000000</td>\n",
       "      <td>0.000000</td>\n",
       "      <td>0.000000</td>\n",
       "      <td>0.500000</td>\n",
       "      <td>9.500000</td>\n",
       "    </tr>\n",
       "    <tr>\n",
       "      <th>mta_tax</th>\n",
       "      <td>3534632.0</td>\n",
       "      <td>0.498208</td>\n",
       "      <td>0.029876</td>\n",
       "      <td>0.000000</td>\n",
       "      <td>0.500000</td>\n",
       "      <td>0.500000</td>\n",
       "      <td>0.500000</td>\n",
       "      <td>0.500000</td>\n",
       "    </tr>\n",
       "    <tr>\n",
       "      <th>tip_amount</th>\n",
       "      <td>3534632.0</td>\n",
       "      <td>1.366541</td>\n",
       "      <td>2.157769</td>\n",
       "      <td>0.000000</td>\n",
       "      <td>0.000000</td>\n",
       "      <td>1.000000</td>\n",
       "      <td>2.000000</td>\n",
       "      <td>155.500000</td>\n",
       "    </tr>\n",
       "    <tr>\n",
       "      <th>tolls_amount</th>\n",
       "      <td>3534632.0</td>\n",
       "      <td>0.260422</td>\n",
       "      <td>1.221513</td>\n",
       "      <td>0.000000</td>\n",
       "      <td>0.000000</td>\n",
       "      <td>0.000000</td>\n",
       "      <td>0.000000</td>\n",
       "      <td>20.000000</td>\n",
       "    </tr>\n",
       "    <tr>\n",
       "      <th>total_amount</th>\n",
       "      <td>3534632.0</td>\n",
       "      <td>14.936348</td>\n",
       "      <td>12.109785</td>\n",
       "      <td>2.500000</td>\n",
       "      <td>8.000000</td>\n",
       "      <td>11.300000</td>\n",
       "      <td>16.750000</td>\n",
       "      <td>500.000000</td>\n",
       "    </tr>\n",
       "  </tbody>\n",
       "</table>\n",
       "</div>"
      ],
      "text/plain": [
       "                       count       mean        std          min        25%  \\\n",
       "passenger_count    3534632.0   1.708266   1.380270     0.000000   1.000000   \n",
       "trip_distance      3534632.0   2.875593   3.343748     0.000000   1.050000   \n",
       "pickup_longitude   3534632.0 -72.621180  10.142067 -1625.033333 -73.992272   \n",
       "pickup_latitude    3534632.0  39.981485   6.522288 -3113.281477  40.734916   \n",
       "rate_code          3534632.0   1.032870   0.345708     0.000000   1.000000   \n",
       "dropoff_longitude  3534618.0 -72.575137  10.450838 -2038.393545 -73.991547   \n",
       "dropoff_latitude   3534618.0  39.952355   7.665360 -3114.304505  40.733845   \n",
       "fare_amount        3534632.0  12.491013  10.078369     2.500000   6.500000   \n",
       "surcharge          3534632.0   0.320163   0.362772     0.000000   0.000000   \n",
       "mta_tax            3534632.0   0.498208   0.029876     0.000000   0.500000   \n",
       "tip_amount         3534632.0   1.366541   2.157769     0.000000   0.000000   \n",
       "tolls_amount       3534632.0   0.260422   1.221513     0.000000   0.000000   \n",
       "total_amount       3534632.0  14.936348  12.109785     2.500000   8.000000   \n",
       "\n",
       "                         50%        75%          max  \n",
       "passenger_count     1.000000   2.000000     6.000000  \n",
       "trip_distance       1.800000   3.200000   100.000000  \n",
       "pickup_longitude  -73.981786 -73.966735    40.867882  \n",
       "pickup_latitude    40.752702  40.767551  2047.454950  \n",
       "rate_code           1.000000   1.000000   210.000000  \n",
       "dropoff_longitude -73.980110 -73.963510  2386.995232  \n",
       "dropoff_latitude   40.753077  40.768337  3210.392762  \n",
       "fare_amount         9.500000  14.500000   500.000000  \n",
       "surcharge           0.000000   0.500000     9.500000  \n",
       "mta_tax             0.500000   0.500000     0.500000  \n",
       "tip_amount          1.000000   2.000000   155.500000  \n",
       "tolls_amount        0.000000   0.000000    20.000000  \n",
       "total_amount       11.300000  16.750000   500.000000  "
      ]
     },
     "execution_count": 6,
     "metadata": {},
     "output_type": "execute_result"
    }
   ],
   "source": [
    "data.describe().transpose()"
   ]
  },
  {
   "cell_type": "code",
   "execution_count": 7,
   "metadata": {
    "collapsed": false
   },
   "outputs": [
    {
     "data": {
      "text/html": [
       "<div>\n",
       "<table border=\"1\" class=\"dataframe\">\n",
       "  <thead>\n",
       "    <tr style=\"text-align: right;\">\n",
       "      <th></th>\n",
       "      <th>vendor_id</th>\n",
       "      <th>pickup_datetime</th>\n",
       "      <th>dropoff_datetime</th>\n",
       "      <th>passenger_count</th>\n",
       "      <th>trip_distance</th>\n",
       "      <th>pickup_longitude</th>\n",
       "      <th>pickup_latitude</th>\n",
       "      <th>rate_code</th>\n",
       "      <th>store_and_fwd_flag</th>\n",
       "      <th>dropoff_longitude</th>\n",
       "      <th>dropoff_latitude</th>\n",
       "      <th>payment_type</th>\n",
       "      <th>fare_amount</th>\n",
       "      <th>surcharge</th>\n",
       "      <th>mta_tax</th>\n",
       "      <th>tip_amount</th>\n",
       "      <th>tolls_amount</th>\n",
       "      <th>total_amount</th>\n",
       "    </tr>\n",
       "  </thead>\n",
       "  <tbody>\n",
       "    <tr>\n",
       "      <th>0</th>\n",
       "      <td>VTS</td>\n",
       "      <td>2013-05-06</td>\n",
       "      <td>2013-05-06 00:10:00</td>\n",
       "      <td>1</td>\n",
       "      <td>2.65</td>\n",
       "      <td>-73.981070</td>\n",
       "      <td>40.766047</td>\n",
       "      <td>1</td>\n",
       "      <td>NaN</td>\n",
       "      <td>-73.981362</td>\n",
       "      <td>40.738092</td>\n",
       "      <td>CRD</td>\n",
       "      <td>10.5</td>\n",
       "      <td>0.5</td>\n",
       "      <td>0.5</td>\n",
       "      <td>2.20</td>\n",
       "      <td>0.0</td>\n",
       "      <td>13.70</td>\n",
       "    </tr>\n",
       "    <tr>\n",
       "      <th>1</th>\n",
       "      <td>VTS</td>\n",
       "      <td>2013-05-06</td>\n",
       "      <td>2013-05-06 00:06:00</td>\n",
       "      <td>5</td>\n",
       "      <td>1.86</td>\n",
       "      <td>-73.986312</td>\n",
       "      <td>40.760487</td>\n",
       "      <td>1</td>\n",
       "      <td>NaN</td>\n",
       "      <td>-74.005082</td>\n",
       "      <td>40.743372</td>\n",
       "      <td>CSH</td>\n",
       "      <td>7.5</td>\n",
       "      <td>0.5</td>\n",
       "      <td>0.5</td>\n",
       "      <td>0.00</td>\n",
       "      <td>0.0</td>\n",
       "      <td>8.50</td>\n",
       "    </tr>\n",
       "    <tr>\n",
       "      <th>2</th>\n",
       "      <td>VTS</td>\n",
       "      <td>2013-05-06</td>\n",
       "      <td>2013-05-06 00:04:00</td>\n",
       "      <td>1</td>\n",
       "      <td>0.90</td>\n",
       "      <td>-73.989388</td>\n",
       "      <td>40.731577</td>\n",
       "      <td>1</td>\n",
       "      <td>NaN</td>\n",
       "      <td>-73.986102</td>\n",
       "      <td>40.740732</td>\n",
       "      <td>CSH</td>\n",
       "      <td>5.5</td>\n",
       "      <td>0.5</td>\n",
       "      <td>0.5</td>\n",
       "      <td>0.00</td>\n",
       "      <td>0.0</td>\n",
       "      <td>6.50</td>\n",
       "    </tr>\n",
       "    <tr>\n",
       "      <th>3</th>\n",
       "      <td>VTS</td>\n",
       "      <td>2013-05-06</td>\n",
       "      <td>2013-05-06 00:08:00</td>\n",
       "      <td>1</td>\n",
       "      <td>2.59</td>\n",
       "      <td>-73.994590</td>\n",
       "      <td>40.751857</td>\n",
       "      <td>1</td>\n",
       "      <td>NaN</td>\n",
       "      <td>-73.963470</td>\n",
       "      <td>40.765912</td>\n",
       "      <td>CSH</td>\n",
       "      <td>9.5</td>\n",
       "      <td>0.5</td>\n",
       "      <td>0.5</td>\n",
       "      <td>0.00</td>\n",
       "      <td>0.0</td>\n",
       "      <td>10.50</td>\n",
       "    </tr>\n",
       "    <tr>\n",
       "      <th>4</th>\n",
       "      <td>VTS</td>\n",
       "      <td>2013-05-06</td>\n",
       "      <td>2013-05-06 00:29:00</td>\n",
       "      <td>1</td>\n",
       "      <td>18.26</td>\n",
       "      <td>-73.783327</td>\n",
       "      <td>40.648510</td>\n",
       "      <td>1</td>\n",
       "      <td>NaN</td>\n",
       "      <td>-73.974808</td>\n",
       "      <td>40.624810</td>\n",
       "      <td>CRD</td>\n",
       "      <td>51.5</td>\n",
       "      <td>0.5</td>\n",
       "      <td>0.5</td>\n",
       "      <td>6.75</td>\n",
       "      <td>0.0</td>\n",
       "      <td>59.25</td>\n",
       "    </tr>\n",
       "  </tbody>\n",
       "</table>\n",
       "</div>"
      ],
      "text/plain": [
       "  vendor_id pickup_datetime    dropoff_datetime  passenger_count  \\\n",
       "0       VTS      2013-05-06 2013-05-06 00:10:00                1   \n",
       "1       VTS      2013-05-06 2013-05-06 00:06:00                5   \n",
       "2       VTS      2013-05-06 2013-05-06 00:04:00                1   \n",
       "3       VTS      2013-05-06 2013-05-06 00:08:00                1   \n",
       "4       VTS      2013-05-06 2013-05-06 00:29:00                1   \n",
       "\n",
       "   trip_distance  pickup_longitude  pickup_latitude  rate_code  \\\n",
       "0           2.65        -73.981070        40.766047          1   \n",
       "1           1.86        -73.986312        40.760487          1   \n",
       "2           0.90        -73.989388        40.731577          1   \n",
       "3           2.59        -73.994590        40.751857          1   \n",
       "4          18.26        -73.783327        40.648510          1   \n",
       "\n",
       "  store_and_fwd_flag  dropoff_longitude  dropoff_latitude payment_type  \\\n",
       "0                NaN         -73.981362         40.738092          CRD   \n",
       "1                NaN         -74.005082         40.743372          CSH   \n",
       "2                NaN         -73.986102         40.740732          CSH   \n",
       "3                NaN         -73.963470         40.765912          CSH   \n",
       "4                NaN         -73.974808         40.624810          CRD   \n",
       "\n",
       "   fare_amount  surcharge  mta_tax  tip_amount  tolls_amount  total_amount  \n",
       "0         10.5        0.5      0.5        2.20           0.0         13.70  \n",
       "1          7.5        0.5      0.5        0.00           0.0          8.50  \n",
       "2          5.5        0.5      0.5        0.00           0.0          6.50  \n",
       "3          9.5        0.5      0.5        0.00           0.0         10.50  \n",
       "4         51.5        0.5      0.5        6.75           0.0         59.25  "
      ]
     },
     "execution_count": 7,
     "metadata": {},
     "output_type": "execute_result"
    }
   ],
   "source": [
    "data.head()"
   ]
  },
  {
   "cell_type": "code",
   "execution_count": 8,
   "metadata": {
    "collapsed": false
   },
   "outputs": [],
   "source": [
    "payments = data.payment_type.value_counts()"
   ]
  },
  {
   "cell_type": "code",
   "execution_count": 9,
   "metadata": {
    "collapsed": false
   },
   "outputs": [
    {
     "data": {
      "text/plain": [
       "CRD    0.537525\n",
       "CSH    0.459272\n",
       "NOC    0.002171\n",
       "DIS    0.000694\n",
       "UNK    0.000339\n",
       "Name: payment_type, dtype: float64"
      ]
     },
     "execution_count": 9,
     "metadata": {},
     "output_type": "execute_result"
    }
   ],
   "source": [
    "payments/len(data)"
   ]
  },
  {
   "cell_type": "code",
   "execution_count": 10,
   "metadata": {
    "collapsed": false
   },
   "outputs": [
    {
     "data": {
      "text/plain": [
       "0.00     9.535745e-01\n",
       "5.33     4.322657e-02\n",
       "10.25    1.000670e-03\n",
       "2.44     4.175824e-04\n",
       "8.25     3.850472e-04\n",
       "10.66    2.648083e-04\n",
       "4.80     9.760563e-05\n",
       "7.50     8.345989e-05\n",
       "15.58    7.016289e-05\n",
       "15.99    6.591917e-05\n",
       "15.00    3.904225e-05\n",
       "15.25    3.762768e-05\n",
       "13.25    3.564728e-05\n",
       "14.25    3.281813e-05\n",
       "12.25    3.196938e-05\n",
       "13.00    2.998898e-05\n",
       "2.00     2.319902e-05\n",
       "13.58    2.291611e-05\n",
       "12.00    2.291611e-05\n",
       "14.00    1.867238e-05\n",
       "5.00     1.782364e-05\n",
       "16.25    1.612615e-05\n",
       "12.75    1.527740e-05\n",
       "5.30     1.471157e-05\n",
       "16.00    1.357991e-05\n",
       "14.75    1.273117e-05\n",
       "17.00    1.159951e-05\n",
       "14.55    1.103368e-05\n",
       "12.40    1.046785e-05\n",
       "16.50    1.018494e-05\n",
       "             ...     \n",
       "8.24     2.829149e-07\n",
       "5.74     2.829149e-07\n",
       "17.99    2.829149e-07\n",
       "12.58    2.829149e-07\n",
       "16.16    2.829149e-07\n",
       "5.31     2.829149e-07\n",
       "0.06     2.829149e-07\n",
       "13.06    2.829149e-07\n",
       "12.97    2.829149e-07\n",
       "6.80     2.829149e-07\n",
       "4.30     2.829149e-07\n",
       "4.55     2.829149e-07\n",
       "12.22    2.829149e-07\n",
       "17.80    2.829149e-07\n",
       "13.80    2.829149e-07\n",
       "16.58    2.829149e-07\n",
       "11.05    2.829149e-07\n",
       "8.55     2.829149e-07\n",
       "11.22    2.829149e-07\n",
       "13.30    2.829149e-07\n",
       "5.22     2.829149e-07\n",
       "14.80    2.829149e-07\n",
       "11.30    2.829149e-07\n",
       "17.14    2.829149e-07\n",
       "15.39    2.829149e-07\n",
       "12.89    2.829149e-07\n",
       "5.39     2.829149e-07\n",
       "4.14     2.829149e-07\n",
       "14.30    2.829149e-07\n",
       "12.42    2.829149e-07\n",
       "Name: tolls_amount, dtype: float64"
      ]
     },
     "execution_count": 10,
     "metadata": {},
     "output_type": "execute_result"
    }
   ],
   "source": [
    "data.tolls_amount.value_counts()/len(data)"
   ]
  },
  {
   "cell_type": "markdown",
   "metadata": {},
   "source": [
    "So 95% of the drives do not deal with tolls. We will drop the column then."
   ]
  },
  {
   "cell_type": "markdown",
   "metadata": {},
   "source": [
    "# <font color = 'blue'>  So thats the statistic about payments. Remember, there are to tips recorded for cash payment. </font color>"
   ]
  },
  {
   "cell_type": "markdown",
   "metadata": {},
   "source": [
    "We are not interested in the following features (they do not add any further information):"
   ]
  },
  {
   "cell_type": "code",
   "execution_count": 11,
   "metadata": {
    "collapsed": false
   },
   "outputs": [],
   "source": [
    "data = data.drop(['vendor_id', 'rate_code', 'store_and_fwd_flag','payment_type','mta_tax', 'tolls_amount',\n",
    "               'surcharge'], axis=1)"
   ]
  },
  {
   "cell_type": "code",
   "execution_count": 12,
   "metadata": {
    "collapsed": false
   },
   "outputs": [
    {
     "data": {
      "text/html": [
       "<div>\n",
       "<table border=\"1\" class=\"dataframe\">\n",
       "  <thead>\n",
       "    <tr style=\"text-align: right;\">\n",
       "      <th></th>\n",
       "      <th>count</th>\n",
       "      <th>mean</th>\n",
       "      <th>std</th>\n",
       "      <th>min</th>\n",
       "      <th>25%</th>\n",
       "      <th>50%</th>\n",
       "      <th>75%</th>\n",
       "      <th>max</th>\n",
       "    </tr>\n",
       "  </thead>\n",
       "  <tbody>\n",
       "    <tr>\n",
       "      <th>passenger_count</th>\n",
       "      <td>3534632.0</td>\n",
       "      <td>1.708266</td>\n",
       "      <td>1.380270</td>\n",
       "      <td>0.000000</td>\n",
       "      <td>1.000000</td>\n",
       "      <td>1.000000</td>\n",
       "      <td>2.000000</td>\n",
       "      <td>6.000000</td>\n",
       "    </tr>\n",
       "    <tr>\n",
       "      <th>trip_distance</th>\n",
       "      <td>3534632.0</td>\n",
       "      <td>2.875593</td>\n",
       "      <td>3.343748</td>\n",
       "      <td>0.000000</td>\n",
       "      <td>1.050000</td>\n",
       "      <td>1.800000</td>\n",
       "      <td>3.200000</td>\n",
       "      <td>100.000000</td>\n",
       "    </tr>\n",
       "    <tr>\n",
       "      <th>pickup_longitude</th>\n",
       "      <td>3534632.0</td>\n",
       "      <td>-72.621180</td>\n",
       "      <td>10.142067</td>\n",
       "      <td>-1625.033333</td>\n",
       "      <td>-73.992272</td>\n",
       "      <td>-73.981786</td>\n",
       "      <td>-73.966735</td>\n",
       "      <td>40.867882</td>\n",
       "    </tr>\n",
       "    <tr>\n",
       "      <th>pickup_latitude</th>\n",
       "      <td>3534632.0</td>\n",
       "      <td>39.981485</td>\n",
       "      <td>6.522288</td>\n",
       "      <td>-3113.281477</td>\n",
       "      <td>40.734916</td>\n",
       "      <td>40.752702</td>\n",
       "      <td>40.767551</td>\n",
       "      <td>2047.454950</td>\n",
       "    </tr>\n",
       "    <tr>\n",
       "      <th>dropoff_longitude</th>\n",
       "      <td>3534618.0</td>\n",
       "      <td>-72.575137</td>\n",
       "      <td>10.450838</td>\n",
       "      <td>-2038.393545</td>\n",
       "      <td>-73.991547</td>\n",
       "      <td>-73.980110</td>\n",
       "      <td>-73.963510</td>\n",
       "      <td>2386.995232</td>\n",
       "    </tr>\n",
       "    <tr>\n",
       "      <th>dropoff_latitude</th>\n",
       "      <td>3534618.0</td>\n",
       "      <td>39.952355</td>\n",
       "      <td>7.665360</td>\n",
       "      <td>-3114.304505</td>\n",
       "      <td>40.733845</td>\n",
       "      <td>40.753077</td>\n",
       "      <td>40.768337</td>\n",
       "      <td>3210.392762</td>\n",
       "    </tr>\n",
       "    <tr>\n",
       "      <th>fare_amount</th>\n",
       "      <td>3534632.0</td>\n",
       "      <td>12.491013</td>\n",
       "      <td>10.078369</td>\n",
       "      <td>2.500000</td>\n",
       "      <td>6.500000</td>\n",
       "      <td>9.500000</td>\n",
       "      <td>14.500000</td>\n",
       "      <td>500.000000</td>\n",
       "    </tr>\n",
       "    <tr>\n",
       "      <th>tip_amount</th>\n",
       "      <td>3534632.0</td>\n",
       "      <td>1.366541</td>\n",
       "      <td>2.157769</td>\n",
       "      <td>0.000000</td>\n",
       "      <td>0.000000</td>\n",
       "      <td>1.000000</td>\n",
       "      <td>2.000000</td>\n",
       "      <td>155.500000</td>\n",
       "    </tr>\n",
       "    <tr>\n",
       "      <th>total_amount</th>\n",
       "      <td>3534632.0</td>\n",
       "      <td>14.936348</td>\n",
       "      <td>12.109785</td>\n",
       "      <td>2.500000</td>\n",
       "      <td>8.000000</td>\n",
       "      <td>11.300000</td>\n",
       "      <td>16.750000</td>\n",
       "      <td>500.000000</td>\n",
       "    </tr>\n",
       "  </tbody>\n",
       "</table>\n",
       "</div>"
      ],
      "text/plain": [
       "                       count       mean        std          min        25%  \\\n",
       "passenger_count    3534632.0   1.708266   1.380270     0.000000   1.000000   \n",
       "trip_distance      3534632.0   2.875593   3.343748     0.000000   1.050000   \n",
       "pickup_longitude   3534632.0 -72.621180  10.142067 -1625.033333 -73.992272   \n",
       "pickup_latitude    3534632.0  39.981485   6.522288 -3113.281477  40.734916   \n",
       "dropoff_longitude  3534618.0 -72.575137  10.450838 -2038.393545 -73.991547   \n",
       "dropoff_latitude   3534618.0  39.952355   7.665360 -3114.304505  40.733845   \n",
       "fare_amount        3534632.0  12.491013  10.078369     2.500000   6.500000   \n",
       "tip_amount         3534632.0   1.366541   2.157769     0.000000   0.000000   \n",
       "total_amount       3534632.0  14.936348  12.109785     2.500000   8.000000   \n",
       "\n",
       "                         50%        75%          max  \n",
       "passenger_count     1.000000   2.000000     6.000000  \n",
       "trip_distance       1.800000   3.200000   100.000000  \n",
       "pickup_longitude  -73.981786 -73.966735    40.867882  \n",
       "pickup_latitude    40.752702  40.767551  2047.454950  \n",
       "dropoff_longitude -73.980110 -73.963510  2386.995232  \n",
       "dropoff_latitude   40.753077  40.768337  3210.392762  \n",
       "fare_amount         9.500000  14.500000   500.000000  \n",
       "tip_amount          1.000000   2.000000   155.500000  \n",
       "total_amount       11.300000  16.750000   500.000000  "
      ]
     },
     "execution_count": 12,
     "metadata": {},
     "output_type": "execute_result"
    }
   ],
   "source": [
    "data.describe().transpose()"
   ]
  },
  {
   "cell_type": "markdown",
   "metadata": {},
   "source": [
    "# First, we want to generate the trip_time because this is our target."
   ]
  },
  {
   "cell_type": "code",
   "execution_count": 13,
   "metadata": {
    "collapsed": false
   },
   "outputs": [
    {
     "data": {
      "text/html": [
       "<div>\n",
       "<table border=\"1\" class=\"dataframe\">\n",
       "  <thead>\n",
       "    <tr style=\"text-align: right;\">\n",
       "      <th></th>\n",
       "      <th>pickup_datetime</th>\n",
       "      <th>dropoff_datetime</th>\n",
       "      <th>passenger_count</th>\n",
       "      <th>trip_distance</th>\n",
       "      <th>pickup_longitude</th>\n",
       "      <th>pickup_latitude</th>\n",
       "      <th>dropoff_longitude</th>\n",
       "      <th>dropoff_latitude</th>\n",
       "      <th>fare_amount</th>\n",
       "      <th>tip_amount</th>\n",
       "      <th>total_amount</th>\n",
       "      <th>trip_time</th>\n",
       "    </tr>\n",
       "  </thead>\n",
       "  <tbody>\n",
       "    <tr>\n",
       "      <th>0</th>\n",
       "      <td>2013-05-06</td>\n",
       "      <td>2013-05-06 00:10:00</td>\n",
       "      <td>1</td>\n",
       "      <td>2.65</td>\n",
       "      <td>-73.981070</td>\n",
       "      <td>40.766047</td>\n",
       "      <td>-73.981362</td>\n",
       "      <td>40.738092</td>\n",
       "      <td>10.5</td>\n",
       "      <td>2.20</td>\n",
       "      <td>13.70</td>\n",
       "      <td>00:10:00</td>\n",
       "    </tr>\n",
       "    <tr>\n",
       "      <th>1</th>\n",
       "      <td>2013-05-06</td>\n",
       "      <td>2013-05-06 00:06:00</td>\n",
       "      <td>5</td>\n",
       "      <td>1.86</td>\n",
       "      <td>-73.986312</td>\n",
       "      <td>40.760487</td>\n",
       "      <td>-74.005082</td>\n",
       "      <td>40.743372</td>\n",
       "      <td>7.5</td>\n",
       "      <td>0.00</td>\n",
       "      <td>8.50</td>\n",
       "      <td>00:06:00</td>\n",
       "    </tr>\n",
       "    <tr>\n",
       "      <th>2</th>\n",
       "      <td>2013-05-06</td>\n",
       "      <td>2013-05-06 00:04:00</td>\n",
       "      <td>1</td>\n",
       "      <td>0.90</td>\n",
       "      <td>-73.989388</td>\n",
       "      <td>40.731577</td>\n",
       "      <td>-73.986102</td>\n",
       "      <td>40.740732</td>\n",
       "      <td>5.5</td>\n",
       "      <td>0.00</td>\n",
       "      <td>6.50</td>\n",
       "      <td>00:04:00</td>\n",
       "    </tr>\n",
       "    <tr>\n",
       "      <th>3</th>\n",
       "      <td>2013-05-06</td>\n",
       "      <td>2013-05-06 00:08:00</td>\n",
       "      <td>1</td>\n",
       "      <td>2.59</td>\n",
       "      <td>-73.994590</td>\n",
       "      <td>40.751857</td>\n",
       "      <td>-73.963470</td>\n",
       "      <td>40.765912</td>\n",
       "      <td>9.5</td>\n",
       "      <td>0.00</td>\n",
       "      <td>10.50</td>\n",
       "      <td>00:08:00</td>\n",
       "    </tr>\n",
       "    <tr>\n",
       "      <th>4</th>\n",
       "      <td>2013-05-06</td>\n",
       "      <td>2013-05-06 00:29:00</td>\n",
       "      <td>1</td>\n",
       "      <td>18.26</td>\n",
       "      <td>-73.783327</td>\n",
       "      <td>40.648510</td>\n",
       "      <td>-73.974808</td>\n",
       "      <td>40.624810</td>\n",
       "      <td>51.5</td>\n",
       "      <td>6.75</td>\n",
       "      <td>59.25</td>\n",
       "      <td>00:29:00</td>\n",
       "    </tr>\n",
       "  </tbody>\n",
       "</table>\n",
       "</div>"
      ],
      "text/plain": [
       "  pickup_datetime    dropoff_datetime  passenger_count  trip_distance  \\\n",
       "0      2013-05-06 2013-05-06 00:10:00                1           2.65   \n",
       "1      2013-05-06 2013-05-06 00:06:00                5           1.86   \n",
       "2      2013-05-06 2013-05-06 00:04:00                1           0.90   \n",
       "3      2013-05-06 2013-05-06 00:08:00                1           2.59   \n",
       "4      2013-05-06 2013-05-06 00:29:00                1          18.26   \n",
       "\n",
       "   pickup_longitude  pickup_latitude  dropoff_longitude  dropoff_latitude  \\\n",
       "0        -73.981070        40.766047         -73.981362         40.738092   \n",
       "1        -73.986312        40.760487         -74.005082         40.743372   \n",
       "2        -73.989388        40.731577         -73.986102         40.740732   \n",
       "3        -73.994590        40.751857         -73.963470         40.765912   \n",
       "4        -73.783327        40.648510         -73.974808         40.624810   \n",
       "\n",
       "   fare_amount  tip_amount  total_amount  trip_time  \n",
       "0         10.5        2.20         13.70   00:10:00  \n",
       "1          7.5        0.00          8.50   00:06:00  \n",
       "2          5.5        0.00          6.50   00:04:00  \n",
       "3          9.5        0.00         10.50   00:08:00  \n",
       "4         51.5        6.75         59.25   00:29:00  "
      ]
     },
     "execution_count": 13,
     "metadata": {},
     "output_type": "execute_result"
    }
   ],
   "source": [
    "data['trip_time']=data.dropoff_datetime-data.pickup_datetime\n",
    "data.head()"
   ]
  },
  {
   "cell_type": "code",
   "execution_count": 14,
   "metadata": {
    "collapsed": false
   },
   "outputs": [
    {
     "name": "stdout",
     "output_type": "stream",
     "text": [
      "<class 'pandas.core.frame.DataFrame'>\n",
      "Int64Index: 3534632 entries, 0 to 3534631\n",
      "Data columns (total 12 columns):\n",
      "pickup_datetime      datetime64[ns]\n",
      "dropoff_datetime     datetime64[ns]\n",
      "passenger_count      int64\n",
      "trip_distance        float64\n",
      "pickup_longitude     float64\n",
      "pickup_latitude      float64\n",
      "dropoff_longitude    float64\n",
      "dropoff_latitude     float64\n",
      "fare_amount          float64\n",
      "tip_amount           float64\n",
      "total_amount         float64\n",
      "trip_time            timedelta64[ns]\n",
      "dtypes: datetime64[ns](2), float64(8), int64(1), timedelta64[ns](1)\n",
      "memory usage: 350.6 MB\n"
     ]
    }
   ],
   "source": [
    "data.info()"
   ]
  },
  {
   "cell_type": "markdown",
   "metadata": {},
   "source": [
    "# Check for missing and false data:"
   ]
  },
  {
   "cell_type": "code",
   "execution_count": 15,
   "metadata": {
    "collapsed": false
   },
   "outputs": [
    {
     "data": {
      "text/plain": [
       "pickup_datetime       0\n",
       "dropoff_datetime      0\n",
       "passenger_count       0\n",
       "trip_distance         0\n",
       "pickup_longitude      0\n",
       "pickup_latitude       0\n",
       "dropoff_longitude    14\n",
       "dropoff_latitude     14\n",
       "fare_amount           0\n",
       "tip_amount            0\n",
       "total_amount          0\n",
       "trip_time             0\n",
       "dtype: int64"
      ]
     },
     "execution_count": 15,
     "metadata": {},
     "output_type": "execute_result"
    }
   ],
   "source": [
    "data.isnull().sum()"
   ]
  },
  {
   "cell_type": "markdown",
   "metadata": {},
   "source": [
    "So there is not that much data missing. That's quite surprising, maybe it's wrong."
   ]
  },
  {
   "cell_type": "code",
   "execution_count": 16,
   "metadata": {
    "collapsed": false
   },
   "outputs": [
    {
     "data": {
      "text/plain": [
       "pickup_datetime            0\n",
       "dropoff_datetime           0\n",
       "passenger_count           31\n",
       "trip_distance          39596\n",
       "pickup_longitude       61811\n",
       "pickup_latitude        61403\n",
       "dropoff_longitude      63932\n",
       "dropoff_latitude       63565\n",
       "fare_amount                0\n",
       "tip_amount           1690455\n",
       "total_amount               0\n",
       "trip_time              10653\n",
       "dtype: int64"
      ]
     },
     "execution_count": 16,
     "metadata": {},
     "output_type": "execute_result"
    }
   ],
   "source": [
    "(data==0).sum()"
   ]
  },
  {
   "cell_type": "markdown",
   "metadata": {},
   "source": [
    "So we have many zeros in the data. How much percent?"
   ]
  },
  {
   "cell_type": "code",
   "execution_count": 17,
   "metadata": {
    "collapsed": false
   },
   "outputs": [
    {
     "data": {
      "text/plain": [
       "pickup_datetime      0.000000\n",
       "dropoff_datetime     0.000000\n",
       "passenger_count      0.000009\n",
       "trip_distance        0.011202\n",
       "pickup_longitude     0.017487\n",
       "pickup_latitude      0.017372\n",
       "dropoff_longitude    0.018087\n",
       "dropoff_latitude     0.017983\n",
       "fare_amount          0.000000\n",
       "tip_amount           0.478255\n",
       "total_amount         0.000000\n",
       "trip_time            0.003014\n",
       "dtype: float64"
      ]
     },
     "execution_count": 17,
     "metadata": {},
     "output_type": "execute_result"
    }
   ],
   "source": [
    "(data==0).sum()/len(data)"
   ]
  },
  {
   "cell_type": "markdown",
   "metadata": {},
   "source": [
    "# <font color = 'blue' > Most of the zeros are missing data. So flag them as NaN (means also NA) to be consistent! </font color>"
   ]
  },
  {
   "cell_type": "code",
   "execution_count": 18,
   "metadata": {
    "collapsed": false
   },
   "outputs": [],
   "source": [
    "data = data.replace(np.float64(0), np.nan);"
   ]
  },
  {
   "cell_type": "code",
   "execution_count": 19,
   "metadata": {
    "collapsed": false
   },
   "outputs": [
    {
     "data": {
      "text/plain": [
       "pickup_datetime            0\n",
       "dropoff_datetime           0\n",
       "passenger_count           31\n",
       "trip_distance          39596\n",
       "pickup_longitude       61811\n",
       "pickup_latitude        61403\n",
       "dropoff_longitude      63946\n",
       "dropoff_latitude       63579\n",
       "fare_amount                0\n",
       "tip_amount           1690455\n",
       "total_amount               0\n",
       "trip_time              10653\n",
       "dtype: int64"
      ]
     },
     "execution_count": 19,
     "metadata": {},
     "output_type": "execute_result"
    }
   ],
   "source": [
    "data.isnull().sum()"
   ]
  },
  {
   "cell_type": "markdown",
   "metadata": {},
   "source": [
    "Quick pverview about the trip_times"
   ]
  },
  {
   "cell_type": "code",
   "execution_count": 20,
   "metadata": {
    "collapsed": false
   },
   "outputs": [
    {
     "data": {
      "text/plain": [
       "(array([  1.61220300e+06,   1.29468100e+06,   4.12814000e+05,\n",
       "          1.25617000e+05,   4.35840000e+04,   1.94290000e+04,\n",
       "          8.85200000e+03,   3.73500000e+03,   1.60400000e+03,\n",
       "          7.39000000e+02,   3.57000000e+02,   1.34000000e+02,\n",
       "          8.20000000e+01,   5.00000000e+01,   3.10000000e+01,\n",
       "          2.10000000e+01,   1.50000000e+01,   7.00000000e+00,\n",
       "          2.00000000e+00,   1.00000000e+00,   1.00000000e+00,\n",
       "          1.00000000e+00,   0.00000000e+00,   0.00000000e+00,\n",
       "          0.00000000e+00,   0.00000000e+00,   0.00000000e+00,\n",
       "          1.00000000e+00,   0.00000000e+00,   1.00000000e+00]),\n",
       " array([   0.,   10.,   20.,   30.,   40.,   50.,   60.,   70.,   80.,\n",
       "          90.,  100.,  110.,  120.,  130.,  140.,  150.,  160.,  170.,\n",
       "         180.,  190.,  200.,  210.,  220.,  230.,  240.,  250.,  260.,\n",
       "         270.,  280.,  290.,  300.]),\n",
       " <a list of 30 Patch objects>)"
      ]
     },
     "execution_count": 20,
     "metadata": {},
     "output_type": "execute_result"
    },
    {
     "data": {
      "image/png": "[encoded data removed]",
      "text/plain": [
       "<matplotlib.figure.Figure at 0x7fda20f669e8>"
      ]
     },
     "metadata": {},
     "output_type": "display_data"
    }
   ],
   "source": [
    "plt.hist(data['trip_time'] / np.timedelta64(1, 'm'), bins=30, range=[0, 300])\n",
    "#plt.yscale('log')"
   ]
  },
  {
   "cell_type": "code",
   "execution_count": 21,
   "metadata": {
    "collapsed": false
   },
   "outputs": [
    {
     "data": {
      "text/plain": [
       "5840"
      ]
     },
     "execution_count": 21,
     "metadata": {},
     "output_type": "execute_result"
    }
   ],
   "source": [
    "len(data.trip_time.value_counts().values)"
   ]
  },
  {
   "cell_type": "markdown",
   "metadata": {},
   "source": [
    "That many unique values do we have in trip_time."
   ]
  },
  {
   "cell_type": "markdown",
   "metadata": {},
   "source": [
    "Identify the the cases without geo data and remove them from our data to be processed."
   ]
  },
  {
   "cell_type": "code",
   "execution_count": 22,
   "metadata": {
    "collapsed": true
   },
   "outputs": [],
   "source": [
    "anomaly = data.loc[(data['dropoff_longitude'].isnull()) | (data['dropoff_latitude'].isnull()) | \n",
    "                       (data['pickup_longitude'].isnull()) | (data['pickup_latitude'].isnull())]\n",
    "data = data.drop(anomaly.index)"
   ]
  },
  {
   "cell_type": "code",
   "execution_count": 23,
   "metadata": {
    "collapsed": true
   },
   "outputs": [],
   "source": [
    "anomaly['flag'] = 'geo_NA'"
   ]
  },
  {
   "cell_type": "code",
   "execution_count": 24,
   "metadata": {
    "collapsed": false
   },
   "outputs": [
    {
     "data": {
      "text/plain": [
       "pickup_datetime            0\n",
       "dropoff_datetime           0\n",
       "passenger_count           12\n",
       "trip_distance          32873\n",
       "pickup_longitude           0\n",
       "pickup_latitude            0\n",
       "dropoff_longitude          0\n",
       "dropoff_latitude           0\n",
       "fare_amount                0\n",
       "tip_amount           1656902\n",
       "total_amount               0\n",
       "trip_time               3864\n",
       "dtype: int64"
      ]
     },
     "execution_count": 24,
     "metadata": {},
     "output_type": "execute_result"
    }
   ],
   "source": [
    "data.isnull().sum()"
   ]
  },
  {
   "cell_type": "markdown",
   "metadata": {},
   "source": [
    "So how many percent of data are left to be processed?"
   ]
  },
  {
   "cell_type": "code",
   "execution_count": 25,
   "metadata": {
    "collapsed": false
   },
   "outputs": [
    {
     "data": {
      "text/plain": [
       "0.981279805082962"
      ]
     },
     "execution_count": 25,
     "metadata": {},
     "output_type": "execute_result"
    }
   ],
   "source": [
    "len(data)/(len(data)+len(anomaly))"
   ]
  },
  {
   "cell_type": "code",
   "execution_count": 26,
   "metadata": {
    "collapsed": false
   },
   "outputs": [
    {
     "data": {
      "text/html": [
       "<div>\n",
       "<table border=\"1\" class=\"dataframe\">\n",
       "  <thead>\n",
       "    <tr style=\"text-align: right;\">\n",
       "      <th></th>\n",
       "      <th>pickup_datetime</th>\n",
       "      <th>dropoff_datetime</th>\n",
       "      <th>passenger_count</th>\n",
       "      <th>trip_distance</th>\n",
       "      <th>pickup_longitude</th>\n",
       "      <th>pickup_latitude</th>\n",
       "      <th>dropoff_longitude</th>\n",
       "      <th>dropoff_latitude</th>\n",
       "      <th>fare_amount</th>\n",
       "      <th>tip_amount</th>\n",
       "      <th>total_amount</th>\n",
       "      <th>trip_time</th>\n",
       "      <th>flag</th>\n",
       "    </tr>\n",
       "  </thead>\n",
       "  <tbody>\n",
       "    <tr>\n",
       "      <th>3534421</th>\n",
       "      <td>2013-05-12 23:58:56</td>\n",
       "      <td>2013-05-13 00:05:43</td>\n",
       "      <td>1.0</td>\n",
       "      <td>2.0</td>\n",
       "      <td>NaN</td>\n",
       "      <td>NaN</td>\n",
       "      <td>NaN</td>\n",
       "      <td>NaN</td>\n",
       "      <td>8.0</td>\n",
       "      <td>1.8</td>\n",
       "      <td>10.8</td>\n",
       "      <td>00:06:47</td>\n",
       "      <td>geo_NA</td>\n",
       "    </tr>\n",
       "    <tr>\n",
       "      <th>3534518</th>\n",
       "      <td>2013-05-12 23:59:02</td>\n",
       "      <td>2013-05-13 00:16:03</td>\n",
       "      <td>3.0</td>\n",
       "      <td>6.1</td>\n",
       "      <td>NaN</td>\n",
       "      <td>NaN</td>\n",
       "      <td>NaN</td>\n",
       "      <td>NaN</td>\n",
       "      <td>15.0</td>\n",
       "      <td>NaN</td>\n",
       "      <td>16.0</td>\n",
       "      <td>00:17:01</td>\n",
       "      <td>geo_NA</td>\n",
       "    </tr>\n",
       "    <tr>\n",
       "      <th>3534615</th>\n",
       "      <td>2013-05-12 23:59:52</td>\n",
       "      <td>2013-05-13 00:23:15</td>\n",
       "      <td>1.0</td>\n",
       "      <td>5.4</td>\n",
       "      <td>NaN</td>\n",
       "      <td>NaN</td>\n",
       "      <td>NaN</td>\n",
       "      <td>NaN</td>\n",
       "      <td>20.5</td>\n",
       "      <td>NaN</td>\n",
       "      <td>21.5</td>\n",
       "      <td>00:23:23</td>\n",
       "      <td>geo_NA</td>\n",
       "    </tr>\n",
       "    <tr>\n",
       "      <th>3534618</th>\n",
       "      <td>2013-05-12 23:59:54</td>\n",
       "      <td>2013-05-13 00:07:45</td>\n",
       "      <td>1.0</td>\n",
       "      <td>1.8</td>\n",
       "      <td>NaN</td>\n",
       "      <td>NaN</td>\n",
       "      <td>NaN</td>\n",
       "      <td>NaN</td>\n",
       "      <td>8.0</td>\n",
       "      <td>NaN</td>\n",
       "      <td>9.0</td>\n",
       "      <td>00:07:51</td>\n",
       "      <td>geo_NA</td>\n",
       "    </tr>\n",
       "    <tr>\n",
       "      <th>3534623</th>\n",
       "      <td>2013-05-12 23:59:56</td>\n",
       "      <td>2013-05-13 00:14:28</td>\n",
       "      <td>1.0</td>\n",
       "      <td>7.6</td>\n",
       "      <td>NaN</td>\n",
       "      <td>NaN</td>\n",
       "      <td>NaN</td>\n",
       "      <td>NaN</td>\n",
       "      <td>23.0</td>\n",
       "      <td>NaN</td>\n",
       "      <td>24.0</td>\n",
       "      <td>00:14:32</td>\n",
       "      <td>geo_NA</td>\n",
       "    </tr>\n",
       "  </tbody>\n",
       "</table>\n",
       "</div>"
      ],
      "text/plain": [
       "            pickup_datetime    dropoff_datetime  passenger_count  \\\n",
       "3534421 2013-05-12 23:58:56 2013-05-13 00:05:43              1.0   \n",
       "3534518 2013-05-12 23:59:02 2013-05-13 00:16:03              3.0   \n",
       "3534615 2013-05-12 23:59:52 2013-05-13 00:23:15              1.0   \n",
       "3534618 2013-05-12 23:59:54 2013-05-13 00:07:45              1.0   \n",
       "3534623 2013-05-12 23:59:56 2013-05-13 00:14:28              1.0   \n",
       "\n",
       "         trip_distance  pickup_longitude  pickup_latitude  dropoff_longitude  \\\n",
       "3534421            2.0               NaN              NaN                NaN   \n",
       "3534518            6.1               NaN              NaN                NaN   \n",
       "3534615            5.4               NaN              NaN                NaN   \n",
       "3534618            1.8               NaN              NaN                NaN   \n",
       "3534623            7.6               NaN              NaN                NaN   \n",
       "\n",
       "         dropoff_latitude  fare_amount  tip_amount  total_amount  trip_time  \\\n",
       "3534421               NaN          8.0         1.8          10.8   00:06:47   \n",
       "3534518               NaN         15.0         NaN          16.0   00:17:01   \n",
       "3534615               NaN         20.5         NaN          21.5   00:23:23   \n",
       "3534618               NaN          8.0         NaN           9.0   00:07:51   \n",
       "3534623               NaN         23.0         NaN          24.0   00:14:32   \n",
       "\n",
       "           flag  \n",
       "3534421  geo_NA  \n",
       "3534518  geo_NA  \n",
       "3534615  geo_NA  \n",
       "3534618  geo_NA  \n",
       "3534623  geo_NA  "
      ]
     },
     "execution_count": 26,
     "metadata": {},
     "output_type": "execute_result"
    }
   ],
   "source": [
    "anomaly.tail()"
   ]
  },
  {
   "cell_type": "markdown",
   "metadata": {},
   "source": [
    "# <font color = 'blue'> So we only dropped 2% of the data because of missing geo tags. Someone could search the 'anomaly'-data for patterns, e.g. for fraud detection. We are also going to drop all the unrecognized trip_distances because we cannot (exactly) generate them (an approximation would be possible). </font color>"
   ]
  },
  {
   "cell_type": "code",
   "execution_count": 27,
   "metadata": {
    "collapsed": false
   },
   "outputs": [
    {
     "data": {
      "text/html": [
       "<div>\n",
       "<table border=\"1\" class=\"dataframe\">\n",
       "  <thead>\n",
       "    <tr style=\"text-align: right;\">\n",
       "      <th></th>\n",
       "      <th>dropoff_datetime</th>\n",
       "      <th>dropoff_latitude</th>\n",
       "      <th>dropoff_longitude</th>\n",
       "      <th>fare_amount</th>\n",
       "      <th>flag</th>\n",
       "      <th>passenger_count</th>\n",
       "      <th>pickup_datetime</th>\n",
       "      <th>pickup_latitude</th>\n",
       "      <th>pickup_longitude</th>\n",
       "      <th>tip_amount</th>\n",
       "      <th>total_amount</th>\n",
       "      <th>trip_distance</th>\n",
       "      <th>trip_time</th>\n",
       "    </tr>\n",
       "  </thead>\n",
       "  <tbody>\n",
       "    <tr>\n",
       "      <th>3534334</th>\n",
       "      <td>2013-05-13 00:03:12</td>\n",
       "      <td>40.749736</td>\n",
       "      <td>-73.978713</td>\n",
       "      <td>5.5</td>\n",
       "      <td>trip_dist_NA</td>\n",
       "      <td>1.0</td>\n",
       "      <td>2013-05-12 23:58:16</td>\n",
       "      <td>40.754459</td>\n",
       "      <td>-73.964803</td>\n",
       "      <td>NaN</td>\n",
       "      <td>6.5</td>\n",
       "      <td>NaN</td>\n",
       "      <td>00:04:56</td>\n",
       "    </tr>\n",
       "    <tr>\n",
       "      <th>3534517</th>\n",
       "      <td>2013-05-13 00:13:53</td>\n",
       "      <td>40.690212</td>\n",
       "      <td>-73.978735</td>\n",
       "      <td>14.0</td>\n",
       "      <td>trip_dist_NA</td>\n",
       "      <td>1.0</td>\n",
       "      <td>2013-05-12 23:59:01</td>\n",
       "      <td>40.733297</td>\n",
       "      <td>-73.987381</td>\n",
       "      <td>NaN</td>\n",
       "      <td>15.0</td>\n",
       "      <td>NaN</td>\n",
       "      <td>00:14:52</td>\n",
       "    </tr>\n",
       "    <tr>\n",
       "      <th>3534607</th>\n",
       "      <td>2013-05-13 00:05:02</td>\n",
       "      <td>40.744680</td>\n",
       "      <td>-73.999020</td>\n",
       "      <td>6.0</td>\n",
       "      <td>trip_dist_NA</td>\n",
       "      <td>1.0</td>\n",
       "      <td>2013-05-12 23:59:50</td>\n",
       "      <td>40.733435</td>\n",
       "      <td>-74.002994</td>\n",
       "      <td>NaN</td>\n",
       "      <td>7.0</td>\n",
       "      <td>NaN</td>\n",
       "      <td>00:05:12</td>\n",
       "    </tr>\n",
       "    <tr>\n",
       "      <th>3534612</th>\n",
       "      <td>2013-05-13 00:09:30</td>\n",
       "      <td>40.706187</td>\n",
       "      <td>-74.013075</td>\n",
       "      <td>9.5</td>\n",
       "      <td>trip_dist_NA</td>\n",
       "      <td>1.0</td>\n",
       "      <td>2013-05-12 23:59:52</td>\n",
       "      <td>40.729327</td>\n",
       "      <td>-73.992207</td>\n",
       "      <td>NaN</td>\n",
       "      <td>10.5</td>\n",
       "      <td>NaN</td>\n",
       "      <td>00:09:38</td>\n",
       "    </tr>\n",
       "    <tr>\n",
       "      <th>3534626</th>\n",
       "      <td>2013-05-13 00:00:28</td>\n",
       "      <td>40.757354</td>\n",
       "      <td>-73.967262</td>\n",
       "      <td>58.0</td>\n",
       "      <td>trip_dist_NA</td>\n",
       "      <td>1.0</td>\n",
       "      <td>2013-05-12 23:59:58</td>\n",
       "      <td>40.757354</td>\n",
       "      <td>-73.967262</td>\n",
       "      <td>11.6</td>\n",
       "      <td>69.6</td>\n",
       "      <td>NaN</td>\n",
       "      <td>00:00:30</td>\n",
       "    </tr>\n",
       "  </tbody>\n",
       "</table>\n",
       "</div>"
      ],
      "text/plain": [
       "           dropoff_datetime  dropoff_latitude  dropoff_longitude  fare_amount  \\\n",
       "3534334 2013-05-13 00:03:12         40.749736         -73.978713          5.5   \n",
       "3534517 2013-05-13 00:13:53         40.690212         -73.978735         14.0   \n",
       "3534607 2013-05-13 00:05:02         40.744680         -73.999020          6.0   \n",
       "3534612 2013-05-13 00:09:30         40.706187         -74.013075          9.5   \n",
       "3534626 2013-05-13 00:00:28         40.757354         -73.967262         58.0   \n",
       "\n",
       "                 flag  passenger_count     pickup_datetime  pickup_latitude  \\\n",
       "3534334  trip_dist_NA              1.0 2013-05-12 23:58:16        40.754459   \n",
       "3534517  trip_dist_NA              1.0 2013-05-12 23:59:01        40.733297   \n",
       "3534607  trip_dist_NA              1.0 2013-05-12 23:59:50        40.733435   \n",
       "3534612  trip_dist_NA              1.0 2013-05-12 23:59:52        40.729327   \n",
       "3534626  trip_dist_NA              1.0 2013-05-12 23:59:58        40.757354   \n",
       "\n",
       "         pickup_longitude  tip_amount  total_amount  trip_distance  trip_time  \n",
       "3534334        -73.964803         NaN           6.5            NaN   00:04:56  \n",
       "3534517        -73.987381         NaN          15.0            NaN   00:14:52  \n",
       "3534607        -74.002994         NaN           7.0            NaN   00:05:12  \n",
       "3534612        -73.992207         NaN          10.5            NaN   00:09:38  \n",
       "3534626        -73.967262        11.6          69.6            NaN   00:00:30  "
      ]
     },
     "execution_count": 27,
     "metadata": {},
     "output_type": "execute_result"
    }
   ],
   "source": [
    "#taxidata.loc[(taxidata['trip_distance'].isnull())]\n",
    "#print(len(anomaly))\n",
    "anomaly = anomaly.append(data.loc[(data['trip_distance'].isnull())])\n",
    "anomaly.loc[data.loc[(data['trip_distance'].isnull())].index,'flag'] = 'trip_dist_NA'\n",
    "anomaly.tail()"
   ]
  },
  {
   "cell_type": "code",
   "execution_count": 28,
   "metadata": {
    "collapsed": false
   },
   "outputs": [],
   "source": [
    "data = data.drop(anomaly.index, errors='ignore') # ignore uncontained labels"
   ]
  },
  {
   "cell_type": "code",
   "execution_count": 29,
   "metadata": {
    "collapsed": false
   },
   "outputs": [
    {
     "data": {
      "text/plain": [
       "pickup_datetime            0\n",
       "dropoff_datetime           0\n",
       "passenger_count            9\n",
       "trip_distance              0\n",
       "pickup_longitude           0\n",
       "pickup_latitude            0\n",
       "dropoff_longitude          0\n",
       "dropoff_latitude           0\n",
       "fare_amount                0\n",
       "tip_amount           1638285\n",
       "total_amount               0\n",
       "trip_time               2922\n",
       "dtype: int64"
      ]
     },
     "execution_count": 29,
     "metadata": {},
     "output_type": "execute_result"
    }
   ],
   "source": [
    "data.isnull().sum()"
   ]
  },
  {
   "cell_type": "code",
   "execution_count": 30,
   "metadata": {
    "collapsed": false
   },
   "outputs": [
    {
     "data": {
      "text/plain": [
       "0.028020455877726502"
      ]
     },
     "execution_count": 30,
     "metadata": {},
     "output_type": "execute_result"
    }
   ],
   "source": [
    "1-len(data)/(len(data)+len(anomaly))"
   ]
  },
  {
   "cell_type": "markdown",
   "metadata": {},
   "source": [
    "# Drop all the columns with trip_time.isnull() "
   ]
  },
  {
   "cell_type": "code",
   "execution_count": 31,
   "metadata": {
    "collapsed": false
   },
   "outputs": [
    {
     "data": {
      "text/html": [
       "<div>\n",
       "<table border=\"1\" class=\"dataframe\">\n",
       "  <thead>\n",
       "    <tr style=\"text-align: right;\">\n",
       "      <th></th>\n",
       "      <th>dropoff_datetime</th>\n",
       "      <th>dropoff_latitude</th>\n",
       "      <th>dropoff_longitude</th>\n",
       "      <th>fare_amount</th>\n",
       "      <th>flag</th>\n",
       "      <th>passenger_count</th>\n",
       "      <th>pickup_datetime</th>\n",
       "      <th>pickup_latitude</th>\n",
       "      <th>pickup_longitude</th>\n",
       "      <th>tip_amount</th>\n",
       "      <th>total_amount</th>\n",
       "      <th>trip_distance</th>\n",
       "      <th>trip_time</th>\n",
       "    </tr>\n",
       "  </thead>\n",
       "  <tbody>\n",
       "    <tr>\n",
       "      <th>3525186</th>\n",
       "      <td>2013-05-12 23:22:39</td>\n",
       "      <td>40.763210</td>\n",
       "      <td>-73.962524</td>\n",
       "      <td>7.0</td>\n",
       "      <td>trip_time_NA</td>\n",
       "      <td>1.0</td>\n",
       "      <td>2013-05-12 23:22:39</td>\n",
       "      <td>40.759930</td>\n",
       "      <td>-73.975325</td>\n",
       "      <td>NaN</td>\n",
       "      <td>8.0</td>\n",
       "      <td>1.30</td>\n",
       "      <td>NaT</td>\n",
       "    </tr>\n",
       "    <tr>\n",
       "      <th>3529613</th>\n",
       "      <td>2013-05-12 23:38:46</td>\n",
       "      <td>40.734109</td>\n",
       "      <td>-73.983598</td>\n",
       "      <td>5.0</td>\n",
       "      <td>trip_time_NA</td>\n",
       "      <td>1.0</td>\n",
       "      <td>2013-05-12 23:38:46</td>\n",
       "      <td>40.742107</td>\n",
       "      <td>-73.974624</td>\n",
       "      <td>1.2</td>\n",
       "      <td>7.2</td>\n",
       "      <td>1.00</td>\n",
       "      <td>NaT</td>\n",
       "    </tr>\n",
       "    <tr>\n",
       "      <th>3530873</th>\n",
       "      <td>2013-05-12 23:43:59</td>\n",
       "      <td>40.643328</td>\n",
       "      <td>-73.950397</td>\n",
       "      <td>34.0</td>\n",
       "      <td>trip_time_NA</td>\n",
       "      <td>1.0</td>\n",
       "      <td>2013-05-12 23:43:59</td>\n",
       "      <td>40.727880</td>\n",
       "      <td>-74.001728</td>\n",
       "      <td>NaN</td>\n",
       "      <td>35.0</td>\n",
       "      <td>9.90</td>\n",
       "      <td>NaT</td>\n",
       "    </tr>\n",
       "    <tr>\n",
       "      <th>3531118</th>\n",
       "      <td>2013-05-12 23:45:00</td>\n",
       "      <td>40.755222</td>\n",
       "      <td>-73.928660</td>\n",
       "      <td>3.0</td>\n",
       "      <td>trip_time_NA</td>\n",
       "      <td>1.0</td>\n",
       "      <td>2013-05-12 23:45:00</td>\n",
       "      <td>40.753865</td>\n",
       "      <td>-73.929723</td>\n",
       "      <td>NaN</td>\n",
       "      <td>4.0</td>\n",
       "      <td>0.15</td>\n",
       "      <td>NaT</td>\n",
       "    </tr>\n",
       "    <tr>\n",
       "      <th>3531331</th>\n",
       "      <td>2013-05-12 23:45:56</td>\n",
       "      <td>40.773872</td>\n",
       "      <td>-73.948701</td>\n",
       "      <td>5.5</td>\n",
       "      <td>trip_time_NA</td>\n",
       "      <td>1.0</td>\n",
       "      <td>2013-05-12 23:45:56</td>\n",
       "      <td>40.766625</td>\n",
       "      <td>-73.962938</td>\n",
       "      <td>NaN</td>\n",
       "      <td>6.5</td>\n",
       "      <td>1.20</td>\n",
       "      <td>NaT</td>\n",
       "    </tr>\n",
       "  </tbody>\n",
       "</table>\n",
       "</div>"
      ],
      "text/plain": [
       "           dropoff_datetime  dropoff_latitude  dropoff_longitude  fare_amount  \\\n",
       "3525186 2013-05-12 23:22:39         40.763210         -73.962524          7.0   \n",
       "3529613 2013-05-12 23:38:46         40.734109         -73.983598          5.0   \n",
       "3530873 2013-05-12 23:43:59         40.643328         -73.950397         34.0   \n",
       "3531118 2013-05-12 23:45:00         40.755222         -73.928660          3.0   \n",
       "3531331 2013-05-12 23:45:56         40.773872         -73.948701          5.5   \n",
       "\n",
       "                 flag  passenger_count     pickup_datetime  pickup_latitude  \\\n",
       "3525186  trip_time_NA              1.0 2013-05-12 23:22:39        40.759930   \n",
       "3529613  trip_time_NA              1.0 2013-05-12 23:38:46        40.742107   \n",
       "3530873  trip_time_NA              1.0 2013-05-12 23:43:59        40.727880   \n",
       "3531118  trip_time_NA              1.0 2013-05-12 23:45:00        40.753865   \n",
       "3531331  trip_time_NA              1.0 2013-05-12 23:45:56        40.766625   \n",
       "\n",
       "         pickup_longitude  tip_amount  total_amount  trip_distance  trip_time  \n",
       "3525186        -73.975325         NaN           8.0           1.30        NaT  \n",
       "3529613        -73.974624         1.2           7.2           1.00        NaT  \n",
       "3530873        -74.001728         NaN          35.0           9.90        NaT  \n",
       "3531118        -73.929723         NaN           4.0           0.15        NaT  \n",
       "3531331        -73.962938         NaN           6.5           1.20        NaT  "
      ]
     },
     "execution_count": 31,
     "metadata": {},
     "output_type": "execute_result"
    }
   ],
   "source": [
    "anomaly = anomaly.append(data.loc[(data['trip_time'].isnull())])\n",
    "anomaly.loc[data.loc[(data['trip_time'].isnull())].index,'flag'] = 'trip_time_NA'\n",
    "anomaly.tail()"
   ]
  },
  {
   "cell_type": "code",
   "execution_count": 32,
   "metadata": {
    "collapsed": true
   },
   "outputs": [],
   "source": [
    "data = data.drop(anomaly.index, errors='ignore') # ignore uncontained labels"
   ]
  },
  {
   "cell_type": "markdown",
   "metadata": {},
   "source": [
    "# This is quite unreasonable. We have dropoff_datetime = pickup_datetime and the geo-coords of pickup and dropoff do not match! trip_time equals NaT here."
   ]
  },
  {
   "cell_type": "code",
   "execution_count": 33,
   "metadata": {
    "collapsed": false
   },
   "outputs": [
    {
     "data": {
      "text/html": [
       "<div>\n",
       "<table border=\"1\" class=\"dataframe\">\n",
       "  <thead>\n",
       "    <tr style=\"text-align: right;\">\n",
       "      <th></th>\n",
       "      <th>count</th>\n",
       "      <th>mean</th>\n",
       "      <th>std</th>\n",
       "      <th>min</th>\n",
       "      <th>25%</th>\n",
       "      <th>50%</th>\n",
       "      <th>75%</th>\n",
       "      <th>max</th>\n",
       "    </tr>\n",
       "  </thead>\n",
       "  <tbody>\n",
       "    <tr>\n",
       "      <th>passenger_count</th>\n",
       "      <td>3.43266e+06</td>\n",
       "      <td>1.71448</td>\n",
       "      <td>1.38599</td>\n",
       "      <td>1</td>\n",
       "      <td>1</td>\n",
       "      <td>1</td>\n",
       "      <td>2</td>\n",
       "      <td>6</td>\n",
       "    </tr>\n",
       "    <tr>\n",
       "      <th>trip_distance</th>\n",
       "      <td>3.43267e+06</td>\n",
       "      <td>2.91113</td>\n",
       "      <td>3.34836</td>\n",
       "      <td>0.01</td>\n",
       "      <td>1.09</td>\n",
       "      <td>1.8</td>\n",
       "      <td>3.21</td>\n",
       "      <td>100</td>\n",
       "    </tr>\n",
       "    <tr>\n",
       "      <th>pickup_longitude</th>\n",
       "      <td>3.43267e+06</td>\n",
       "      <td>-73.9154</td>\n",
       "      <td>2.68755</td>\n",
       "      <td>-736.5</td>\n",
       "      <td>-73.9925</td>\n",
       "      <td>-73.9821</td>\n",
       "      <td>-73.968</td>\n",
       "      <td>40.8679</td>\n",
       "    </tr>\n",
       "    <tr>\n",
       "      <th>pickup_latitude</th>\n",
       "      <td>3.43267e+06</td>\n",
       "      <td>40.6919</td>\n",
       "      <td>2.91217</td>\n",
       "      <td>-74.0378</td>\n",
       "      <td>40.7365</td>\n",
       "      <td>40.7534</td>\n",
       "      <td>40.7679</td>\n",
       "      <td>2047.45</td>\n",
       "    </tr>\n",
       "    <tr>\n",
       "      <th>dropoff_longitude</th>\n",
       "      <td>3.43267e+06</td>\n",
       "      <td>-73.913</td>\n",
       "      <td>2.98107</td>\n",
       "      <td>-740.173</td>\n",
       "      <td>-73.9918</td>\n",
       "      <td>-73.9806</td>\n",
       "      <td>-73.9651</td>\n",
       "      <td>2387</td>\n",
       "    </tr>\n",
       "    <tr>\n",
       "      <th>dropoff_latitude</th>\n",
       "      <td>3.43267e+06</td>\n",
       "      <td>40.6899</td>\n",
       "      <td>3.43265</td>\n",
       "      <td>-3084.28</td>\n",
       "      <td>40.7353</td>\n",
       "      <td>40.7538</td>\n",
       "      <td>40.7686</td>\n",
       "      <td>473.982</td>\n",
       "    </tr>\n",
       "    <tr>\n",
       "      <th>fare_amount</th>\n",
       "      <td>3.43267e+06</td>\n",
       "      <td>12.4022</td>\n",
       "      <td>9.71666</td>\n",
       "      <td>2.5</td>\n",
       "      <td>6.5</td>\n",
       "      <td>9.5</td>\n",
       "      <td>14.5</td>\n",
       "      <td>382.75</td>\n",
       "    </tr>\n",
       "    <tr>\n",
       "      <th>tip_amount</th>\n",
       "      <td>1.79648e+06</td>\n",
       "      <td>2.59194</td>\n",
       "      <td>2.29176</td>\n",
       "      <td>0.01</td>\n",
       "      <td>1.3</td>\n",
       "      <td>2</td>\n",
       "      <td>3</td>\n",
       "      <td>155.5</td>\n",
       "    </tr>\n",
       "    <tr>\n",
       "      <th>total_amount</th>\n",
       "      <td>3.43267e+06</td>\n",
       "      <td>14.834</td>\n",
       "      <td>11.7278</td>\n",
       "      <td>2.5</td>\n",
       "      <td>8</td>\n",
       "      <td>11.3</td>\n",
       "      <td>16.7</td>\n",
       "      <td>382.76</td>\n",
       "    </tr>\n",
       "    <tr>\n",
       "      <th>trip_time</th>\n",
       "      <td>3432668</td>\n",
       "      <td>0 days 00:13:02.243506</td>\n",
       "      <td>0 days 00:27:26.535018</td>\n",
       "      <td>0 days 00:00:01</td>\n",
       "      <td>0 days 00:06:24</td>\n",
       "      <td>0 days 00:10:34</td>\n",
       "      <td>0 days 00:16:50</td>\n",
       "      <td>11 days 00:45:28</td>\n",
       "    </tr>\n",
       "  </tbody>\n",
       "</table>\n",
       "</div>"
      ],
      "text/plain": [
       "                         count                    mean  \\\n",
       "passenger_count    3.43266e+06                 1.71448   \n",
       "trip_distance      3.43267e+06                 2.91113   \n",
       "pickup_longitude   3.43267e+06                -73.9154   \n",
       "pickup_latitude    3.43267e+06                 40.6919   \n",
       "dropoff_longitude  3.43267e+06                 -73.913   \n",
       "dropoff_latitude   3.43267e+06                 40.6899   \n",
       "fare_amount        3.43267e+06                 12.4022   \n",
       "tip_amount         1.79648e+06                 2.59194   \n",
       "total_amount       3.43267e+06                  14.834   \n",
       "trip_time              3432668  0 days 00:13:02.243506   \n",
       "\n",
       "                                      std              min              25%  \\\n",
       "passenger_count                   1.38599                1                1   \n",
       "trip_distance                     3.34836             0.01             1.09   \n",
       "pickup_longitude                  2.68755           -736.5         -73.9925   \n",
       "pickup_latitude                   2.91217         -74.0378          40.7365   \n",
       "dropoff_longitude                 2.98107         -740.173         -73.9918   \n",
       "dropoff_latitude                  3.43265         -3084.28          40.7353   \n",
       "fare_amount                       9.71666              2.5              6.5   \n",
       "tip_amount                        2.29176             0.01              1.3   \n",
       "total_amount                      11.7278              2.5                8   \n",
       "trip_time          0 days 00:27:26.535018  0 days 00:00:01  0 days 00:06:24   \n",
       "\n",
       "                               50%              75%               max  \n",
       "passenger_count                  1                2                 6  \n",
       "trip_distance                  1.8             3.21               100  \n",
       "pickup_longitude          -73.9821          -73.968           40.8679  \n",
       "pickup_latitude            40.7534          40.7679           2047.45  \n",
       "dropoff_longitude         -73.9806         -73.9651              2387  \n",
       "dropoff_latitude           40.7538          40.7686           473.982  \n",
       "fare_amount                    9.5             14.5            382.75  \n",
       "tip_amount                       2                3             155.5  \n",
       "total_amount                  11.3             16.7            382.76  \n",
       "trip_time          0 days 00:10:34  0 days 00:16:50  11 days 00:45:28  "
      ]
     },
     "execution_count": 33,
     "metadata": {},
     "output_type": "execute_result"
    }
   ],
   "source": [
    "data.describe().transpose()"
   ]
  },
  {
   "cell_type": "code",
   "execution_count": 34,
   "metadata": {
    "collapsed": false
   },
   "outputs": [
    {
     "data": {
      "text/plain": [
       "(array([  4.14860000e+04,   2.47244000e+05,   4.11413000e+05,\n",
       "          4.47479000e+05,   4.18108000e+05,   3.64416000e+05,\n",
       "          3.02291000e+05,   2.45960000e+05,   1.96811000e+05,\n",
       "          1.57134000e+05,   1.23172000e+05,   9.75690000e+04,\n",
       "          7.55190000e+04,   5.99140000e+04,   4.69780000e+04,\n",
       "          3.66970000e+04,   2.90370000e+04,   2.32160000e+04,\n",
       "          1.81990000e+04,   1.47690000e+04,   1.18490000e+04,\n",
       "          9.75400000e+03,   7.90100000e+03,   6.83100000e+03,\n",
       "          5.64600000e+03,   4.78400000e+03,   4.11200000e+03,\n",
       "          3.75100000e+03,   3.13700000e+03,   2.76200000e+03,\n",
       "          2.28500000e+03,   1.89500000e+03,   1.59500000e+03,\n",
       "          1.43000000e+03,   1.15200000e+03,   1.03000000e+03,\n",
       "          8.11000000e+02,   7.01000000e+02,   5.63000000e+02,\n",
       "          4.33000000e+02,   3.88000000e+02,   3.50000000e+02,\n",
       "          2.88000000e+02,   2.23000000e+02,   2.36000000e+02,\n",
       "          1.84000000e+02,   1.59000000e+02,   1.33000000e+02,\n",
       "          1.06000000e+02,   1.35000000e+02]),\n",
       " array([   0.,    2.,    4.,    6.,    8.,   10.,   12.,   14.,   16.,\n",
       "          18.,   20.,   22.,   24.,   26.,   28.,   30.,   32.,   34.,\n",
       "          36.,   38.,   40.,   42.,   44.,   46.,   48.,   50.,   52.,\n",
       "          54.,   56.,   58.,   60.,   62.,   64.,   66.,   68.,   70.,\n",
       "          72.,   74.,   76.,   78.,   80.,   82.,   84.,   86.,   88.,\n",
       "          90.,   92.,   94.,   96.,   98.,  100.]),\n",
       " <a list of 50 Patch objects>)"
      ]
     },
     "execution_count": 34,
     "metadata": {},
     "output_type": "execute_result"
    },
    {
     "data": {
      "image/png": "[encoded data removed]",
      "text/plain": [
       "<matplotlib.figure.Figure at 0x7fda2185f198>"
      ]
     },
     "metadata": {},
     "output_type": "display_data"
    }
   ],
   "source": [
    "plt.hist(data.trip_time.values / np.timedelta64(1, 'm'), bins=50, range=[0,100])"
   ]
  },
  {
   "cell_type": "code",
   "execution_count": 35,
   "metadata": {
    "collapsed": false
   },
   "outputs": [
    {
     "name": "stdout",
     "output_type": "stream",
     "text": [
      "count                   3432668\n",
      "mean     0 days 00:13:02.243506\n",
      "std      0 days 00:27:26.535018\n",
      "min             0 days 00:00:01\n",
      "25%             0 days 00:06:24\n",
      "50%             0 days 00:10:34\n",
      "75%             0 days 00:16:50\n",
      "max            11 days 00:45:28\n",
      "Name: trip_time, dtype: object\n"
     ]
    },
    {
     "data": {
      "text/plain": [
       "array([  1.7945    ,   3.        ,   4.        ,   5.        ,\n",
       "         6.4       ,  10.56666667,  16.83333333,  21.        ,\n",
       "        31.        ,  49.08883333])"
      ]
     },
     "execution_count": 35,
     "metadata": {},
     "output_type": "execute_result"
    }
   ],
   "source": [
    "print(data.trip_time.describe())\n",
    "np.percentile(data.trip_time, [1,5,10,15,25,50,75,85,95,99]) / np.timedelta64(1,'m')"
   ]
  },
  {
   "cell_type": "markdown",
   "metadata": {},
   "source": [
    "# We sometimes have some unreasonably small trip_times."
   ]
  },
  {
   "cell_type": "code",
   "execution_count": 36,
   "metadata": {
    "collapsed": false
   },
   "outputs": [
    {
     "data": {
      "text/html": [
       "<div>\n",
       "<table border=\"1\" class=\"dataframe\">\n",
       "  <thead>\n",
       "    <tr style=\"text-align: right;\">\n",
       "      <th></th>\n",
       "      <th>dropoff_datetime</th>\n",
       "      <th>dropoff_latitude</th>\n",
       "      <th>dropoff_longitude</th>\n",
       "      <th>fare_amount</th>\n",
       "      <th>flag</th>\n",
       "      <th>passenger_count</th>\n",
       "      <th>pickup_datetime</th>\n",
       "      <th>pickup_latitude</th>\n",
       "      <th>pickup_longitude</th>\n",
       "      <th>tip_amount</th>\n",
       "      <th>total_amount</th>\n",
       "      <th>trip_distance</th>\n",
       "      <th>trip_time</th>\n",
       "    </tr>\n",
       "  </thead>\n",
       "  <tbody>\n",
       "    <tr>\n",
       "      <th>3525186</th>\n",
       "      <td>2013-05-12 23:22:39</td>\n",
       "      <td>40.763210</td>\n",
       "      <td>-73.962524</td>\n",
       "      <td>7.0</td>\n",
       "      <td>trip_time_NA</td>\n",
       "      <td>1.0</td>\n",
       "      <td>2013-05-12 23:22:39</td>\n",
       "      <td>40.759930</td>\n",
       "      <td>-73.975325</td>\n",
       "      <td>NaN</td>\n",
       "      <td>8.0</td>\n",
       "      <td>1.30</td>\n",
       "      <td>NaT</td>\n",
       "    </tr>\n",
       "    <tr>\n",
       "      <th>3529613</th>\n",
       "      <td>2013-05-12 23:38:46</td>\n",
       "      <td>40.734109</td>\n",
       "      <td>-73.983598</td>\n",
       "      <td>5.0</td>\n",
       "      <td>trip_time_NA</td>\n",
       "      <td>1.0</td>\n",
       "      <td>2013-05-12 23:38:46</td>\n",
       "      <td>40.742107</td>\n",
       "      <td>-73.974624</td>\n",
       "      <td>1.2</td>\n",
       "      <td>7.2</td>\n",
       "      <td>1.00</td>\n",
       "      <td>NaT</td>\n",
       "    </tr>\n",
       "    <tr>\n",
       "      <th>3530873</th>\n",
       "      <td>2013-05-12 23:43:59</td>\n",
       "      <td>40.643328</td>\n",
       "      <td>-73.950397</td>\n",
       "      <td>34.0</td>\n",
       "      <td>trip_time_NA</td>\n",
       "      <td>1.0</td>\n",
       "      <td>2013-05-12 23:43:59</td>\n",
       "      <td>40.727880</td>\n",
       "      <td>-74.001728</td>\n",
       "      <td>NaN</td>\n",
       "      <td>35.0</td>\n",
       "      <td>9.90</td>\n",
       "      <td>NaT</td>\n",
       "    </tr>\n",
       "    <tr>\n",
       "      <th>3531118</th>\n",
       "      <td>2013-05-12 23:45:00</td>\n",
       "      <td>40.755222</td>\n",
       "      <td>-73.928660</td>\n",
       "      <td>3.0</td>\n",
       "      <td>trip_time_NA</td>\n",
       "      <td>1.0</td>\n",
       "      <td>2013-05-12 23:45:00</td>\n",
       "      <td>40.753865</td>\n",
       "      <td>-73.929723</td>\n",
       "      <td>NaN</td>\n",
       "      <td>4.0</td>\n",
       "      <td>0.15</td>\n",
       "      <td>NaT</td>\n",
       "    </tr>\n",
       "    <tr>\n",
       "      <th>3531331</th>\n",
       "      <td>2013-05-12 23:45:56</td>\n",
       "      <td>40.773872</td>\n",
       "      <td>-73.948701</td>\n",
       "      <td>5.5</td>\n",
       "      <td>trip_time_NA</td>\n",
       "      <td>1.0</td>\n",
       "      <td>2013-05-12 23:45:56</td>\n",
       "      <td>40.766625</td>\n",
       "      <td>-73.962938</td>\n",
       "      <td>NaN</td>\n",
       "      <td>6.5</td>\n",
       "      <td>1.20</td>\n",
       "      <td>NaT</td>\n",
       "    </tr>\n",
       "  </tbody>\n",
       "</table>\n",
       "</div>"
      ],
      "text/plain": [
       "           dropoff_datetime  dropoff_latitude  dropoff_longitude  fare_amount  \\\n",
       "3525186 2013-05-12 23:22:39         40.763210         -73.962524          7.0   \n",
       "3529613 2013-05-12 23:38:46         40.734109         -73.983598          5.0   \n",
       "3530873 2013-05-12 23:43:59         40.643328         -73.950397         34.0   \n",
       "3531118 2013-05-12 23:45:00         40.755222         -73.928660          3.0   \n",
       "3531331 2013-05-12 23:45:56         40.773872         -73.948701          5.5   \n",
       "\n",
       "                 flag  passenger_count     pickup_datetime  pickup_latitude  \\\n",
       "3525186  trip_time_NA              1.0 2013-05-12 23:22:39        40.759930   \n",
       "3529613  trip_time_NA              1.0 2013-05-12 23:38:46        40.742107   \n",
       "3530873  trip_time_NA              1.0 2013-05-12 23:43:59        40.727880   \n",
       "3531118  trip_time_NA              1.0 2013-05-12 23:45:00        40.753865   \n",
       "3531331  trip_time_NA              1.0 2013-05-12 23:45:56        40.766625   \n",
       "\n",
       "         pickup_longitude  tip_amount  total_amount  trip_distance  trip_time  \n",
       "3525186        -73.975325         NaN           8.0           1.30        NaT  \n",
       "3529613        -73.974624         1.2           7.2           1.00        NaT  \n",
       "3530873        -74.001728         NaN          35.0           9.90        NaT  \n",
       "3531118        -73.929723         NaN           4.0           0.15        NaT  \n",
       "3531331        -73.962938         NaN           6.5           1.20        NaT  "
      ]
     },
     "execution_count": 36,
     "metadata": {},
     "output_type": "execute_result"
    }
   ],
   "source": [
    "anomaly.tail()"
   ]
  },
  {
   "cell_type": "code",
   "execution_count": 37,
   "metadata": {
    "collapsed": false
   },
   "outputs": [
    {
     "data": {
      "text/plain": [
       "0.028847133166903904"
      ]
     },
     "execution_count": 37,
     "metadata": {},
     "output_type": "execute_result"
    }
   ],
   "source": [
    "1-len(data)/(len(data)+len(anomaly))"
   ]
  },
  {
   "cell_type": "markdown",
   "metadata": {},
   "source": [
    "# <font color = 'blue'> So all in all, we dropped less than 3% of the data. </font color>"
   ]
  },
  {
   "cell_type": "code",
   "execution_count": 38,
   "metadata": {
    "collapsed": false
   },
   "outputs": [
    {
     "data": {
      "text/plain": [
       "pickup_datetime            0\n",
       "dropoff_datetime           0\n",
       "passenger_count            9\n",
       "trip_distance              0\n",
       "pickup_longitude           0\n",
       "pickup_latitude            0\n",
       "dropoff_longitude          0\n",
       "dropoff_latitude           0\n",
       "fare_amount                0\n",
       "tip_amount           1636185\n",
       "total_amount               0\n",
       "trip_time                  0\n",
       "dtype: int64"
      ]
     },
     "execution_count": 38,
     "metadata": {},
     "output_type": "execute_result"
    }
   ],
   "source": [
    "data.isnull().sum()"
   ]
  },
  {
   "cell_type": "markdown",
   "metadata": {},
   "source": [
    "# We can deal with that. External investigation of the anomaly is recommended."
   ]
  },
  {
   "cell_type": "markdown",
   "metadata": {},
   "source": [
    "# Start validating the non-anomaly data: Valid trip_time, valid distance?"
   ]
  },
  {
   "cell_type": "markdown",
   "metadata": {},
   "source": [
    "Correct the avg amount for the initial charge. "
   ]
  },
  {
   "cell_type": "code",
   "execution_count": 39,
   "metadata": {
    "collapsed": true
   },
   "outputs": [],
   "source": [
    "data['avg_amount_per_minute'] = (data.fare_amount-2.5) / (data.trip_time / np.timedelta64(1,'m'))"
   ]
  },
  {
   "cell_type": "code",
   "execution_count": 40,
   "metadata": {
    "collapsed": false
   },
   "outputs": [
    {
     "data": {
      "text/plain": [
       "count    3.432668e+06\n",
       "mean     7.865239e-01\n",
       "std      6.410160e+00\n",
       "min      0.000000e+00\n",
       "25%      5.769231e-01\n",
       "50%      6.629834e-01\n",
       "75%      7.857143e-01\n",
       "max      6.450000e+03\n",
       "Name: avg_amount_per_minute, dtype: float64"
      ]
     },
     "execution_count": 40,
     "metadata": {},
     "output_type": "execute_result"
    }
   ],
   "source": [
    "data.avg_amount_per_minute.describe()"
   ]
  },
  {
   "cell_type": "code",
   "execution_count": 41,
   "metadata": {
    "collapsed": false
   },
   "outputs": [
    {
     "name": "stdout",
     "output_type": "stream",
     "text": [
      "Min:0.0\n",
      "Max:6450.0\n"
     ]
    },
    {
     "data": {
      "image/png": "[encoded data removed]",
      "text/plain": [
       "<matplotlib.figure.Figure at 0x7fda22b0bf60>"
      ]
     },
     "metadata": {},
     "output_type": "display_data"
    }
   ],
   "source": [
    "h = data.avg_amount_per_minute\n",
    "plt.figure(figsize=(20,10))\n",
    "plt.hist(h, normed=False, stacked=True, bins=40, range=[0 , 100], )\n",
    "    #, histtype='stepfilled')\n",
    "plt.yscale('log')\n",
    "plt.ylabel('log(freq x)', fontsize=40)\n",
    "plt.xlabel('x = avg_amount_per_minute', fontsize=40)\n",
    "print('Min:' +  str(min(h)) + '\\nMax:' +  str(max(h)))\n",
    "plt.yticks(fontsize=40)\n",
    "plt.xticks(fontsize=40)\n",
    "plt.locator_params(axis = 'x', nbins = 20)\n",
    "plt.show()"
   ]
  },
  {
   "cell_type": "code",
   "execution_count": 42,
   "metadata": {
    "collapsed": false
   },
   "outputs": [
    {
     "data": {
      "text/html": [
       "<div>\n",
       "<table border=\"1\" class=\"dataframe\">\n",
       "  <thead>\n",
       "    <tr style=\"text-align: right;\">\n",
       "      <th></th>\n",
       "      <th>pickup_datetime</th>\n",
       "      <th>dropoff_datetime</th>\n",
       "      <th>passenger_count</th>\n",
       "      <th>trip_distance</th>\n",
       "      <th>pickup_longitude</th>\n",
       "      <th>pickup_latitude</th>\n",
       "      <th>dropoff_longitude</th>\n",
       "      <th>dropoff_latitude</th>\n",
       "      <th>fare_amount</th>\n",
       "      <th>tip_amount</th>\n",
       "      <th>total_amount</th>\n",
       "      <th>trip_time</th>\n",
       "      <th>avg_amount_per_minute</th>\n",
       "    </tr>\n",
       "  </thead>\n",
       "  <tbody>\n",
       "    <tr>\n",
       "      <th>0</th>\n",
       "      <td>2013-05-06</td>\n",
       "      <td>2013-05-06 00:10:00</td>\n",
       "      <td>1.0</td>\n",
       "      <td>2.65</td>\n",
       "      <td>-73.981070</td>\n",
       "      <td>40.766047</td>\n",
       "      <td>-73.981362</td>\n",
       "      <td>40.738092</td>\n",
       "      <td>10.5</td>\n",
       "      <td>2.20</td>\n",
       "      <td>13.70</td>\n",
       "      <td>00:10:00</td>\n",
       "      <td>0.800000</td>\n",
       "    </tr>\n",
       "    <tr>\n",
       "      <th>1</th>\n",
       "      <td>2013-05-06</td>\n",
       "      <td>2013-05-06 00:06:00</td>\n",
       "      <td>5.0</td>\n",
       "      <td>1.86</td>\n",
       "      <td>-73.986312</td>\n",
       "      <td>40.760487</td>\n",
       "      <td>-74.005082</td>\n",
       "      <td>40.743372</td>\n",
       "      <td>7.5</td>\n",
       "      <td>NaN</td>\n",
       "      <td>8.50</td>\n",
       "      <td>00:06:00</td>\n",
       "      <td>0.833333</td>\n",
       "    </tr>\n",
       "    <tr>\n",
       "      <th>2</th>\n",
       "      <td>2013-05-06</td>\n",
       "      <td>2013-05-06 00:04:00</td>\n",
       "      <td>1.0</td>\n",
       "      <td>0.90</td>\n",
       "      <td>-73.989388</td>\n",
       "      <td>40.731577</td>\n",
       "      <td>-73.986102</td>\n",
       "      <td>40.740732</td>\n",
       "      <td>5.5</td>\n",
       "      <td>NaN</td>\n",
       "      <td>6.50</td>\n",
       "      <td>00:04:00</td>\n",
       "      <td>0.750000</td>\n",
       "    </tr>\n",
       "    <tr>\n",
       "      <th>3</th>\n",
       "      <td>2013-05-06</td>\n",
       "      <td>2013-05-06 00:08:00</td>\n",
       "      <td>1.0</td>\n",
       "      <td>2.59</td>\n",
       "      <td>-73.994590</td>\n",
       "      <td>40.751857</td>\n",
       "      <td>-73.963470</td>\n",
       "      <td>40.765912</td>\n",
       "      <td>9.5</td>\n",
       "      <td>NaN</td>\n",
       "      <td>10.50</td>\n",
       "      <td>00:08:00</td>\n",
       "      <td>0.875000</td>\n",
       "    </tr>\n",
       "    <tr>\n",
       "      <th>4</th>\n",
       "      <td>2013-05-06</td>\n",
       "      <td>2013-05-06 00:29:00</td>\n",
       "      <td>1.0</td>\n",
       "      <td>18.26</td>\n",
       "      <td>-73.783327</td>\n",
       "      <td>40.648510</td>\n",
       "      <td>-73.974808</td>\n",
       "      <td>40.624810</td>\n",
       "      <td>51.5</td>\n",
       "      <td>6.75</td>\n",
       "      <td>59.25</td>\n",
       "      <td>00:29:00</td>\n",
       "      <td>1.689655</td>\n",
       "    </tr>\n",
       "  </tbody>\n",
       "</table>\n",
       "</div>"
      ],
      "text/plain": [
       "  pickup_datetime    dropoff_datetime  passenger_count  trip_distance  \\\n",
       "0      2013-05-06 2013-05-06 00:10:00              1.0           2.65   \n",
       "1      2013-05-06 2013-05-06 00:06:00              5.0           1.86   \n",
       "2      2013-05-06 2013-05-06 00:04:00              1.0           0.90   \n",
       "3      2013-05-06 2013-05-06 00:08:00              1.0           2.59   \n",
       "4      2013-05-06 2013-05-06 00:29:00              1.0          18.26   \n",
       "\n",
       "   pickup_longitude  pickup_latitude  dropoff_longitude  dropoff_latitude  \\\n",
       "0        -73.981070        40.766047         -73.981362         40.738092   \n",
       "1        -73.986312        40.760487         -74.005082         40.743372   \n",
       "2        -73.989388        40.731577         -73.986102         40.740732   \n",
       "3        -73.994590        40.751857         -73.963470         40.765912   \n",
       "4        -73.783327        40.648510         -73.974808         40.624810   \n",
       "\n",
       "   fare_amount  tip_amount  total_amount  trip_time  avg_amount_per_minute  \n",
       "0         10.5        2.20         13.70   00:10:00               0.800000  \n",
       "1          7.5         NaN          8.50   00:06:00               0.833333  \n",
       "2          5.5         NaN          6.50   00:04:00               0.750000  \n",
       "3          9.5         NaN         10.50   00:08:00               0.875000  \n",
       "4         51.5        6.75         59.25   00:29:00               1.689655  "
      ]
     },
     "execution_count": 42,
     "metadata": {},
     "output_type": "execute_result"
    }
   ],
   "source": [
    "data.head()"
   ]
  },
  {
   "cell_type": "code",
   "execution_count": 43,
   "metadata": {
    "collapsed": false
   },
   "outputs": [
    {
     "data": {
      "text/plain": [
       "0.0001    0.000000\n",
       "0.0100    0.437318\n",
       "0.5000    0.662983\n",
       "0.7500    0.785714\n",
       "0.9500    1.151163\n",
       "0.9750    1.344677\n",
       "0.9900    1.605263\n",
       "0.9950    1.847222\n",
       "Name: avg_amount_per_minute, dtype: float64"
      ]
     },
     "execution_count": 43,
     "metadata": {},
     "output_type": "execute_result"
    }
   ],
   "source": [
    "data.avg_amount_per_minute.quantile([.0001,.01, .5, .75, .95, .975, .99, .995])"
   ]
  },
  {
   "cell_type": "markdown",
   "metadata": {},
   "source": [
    "# Compare to http://www.nyc.gov/html/tlc/html/passenger/taxicab_rate.shtml . We have a strict lower bound with .5 \\$ per minute (taxi waiting in congestion). 2.5 \\$ per minute match roughly 1 miles / minute (no static fares included!). So the taxi would drive 60 mp/h.  We take this as an upper bound."
   ]
  },
  {
   "cell_type": "code",
   "execution_count": 44,
   "metadata": {
    "collapsed": false
   },
   "outputs": [
    {
     "name": "stdout",
     "output_type": "stream",
     "text": [
      "0.06037092404527544\n"
     ]
    }
   ],
   "source": [
    "lb = 0.5\n",
    "ub = 2.5\n",
    "anomaly = anomaly.append(data.loc[(data['avg_amount_per_minute'] > ub) | (data['avg_amount_per_minute'] < lb)])\n",
    "#anomaly.loc[\n",
    "anomaly.loc[data.loc[(data['avg_amount_per_minute'] > ub)].index,'flag'] = 'too fast'\n",
    "anomaly.loc[data.loc[(data['avg_amount_per_minute'] < lb)].index,'flag'] = 'too slow'\n",
    "data = data.drop(anomaly.index, errors='ignore') # ignore uncontained labels / indices\n",
    "print(1-len(data)/(len(data)+len(anomaly)))"
   ]
  },
  {
   "cell_type": "markdown",
   "metadata": {},
   "source": [
    "So we dropped around 6% of the data."
   ]
  },
  {
   "cell_type": "code",
   "execution_count": 45,
   "metadata": {
    "collapsed": false
   },
   "outputs": [
    {
     "data": {
      "text/plain": [
       "count    3.321243e+06\n",
       "mean     7.244103e-01\n",
       "std      2.173654e-01\n",
       "min      5.000000e-01\n",
       "25%      5.833333e-01\n",
       "50%      6.666667e-01\n",
       "75%      7.916667e-01\n",
       "max      2.500000e+00\n",
       "Name: avg_amount_per_minute, dtype: float64"
      ]
     },
     "execution_count": 45,
     "metadata": {},
     "output_type": "execute_result"
    }
   ],
   "source": [
    "data.avg_amount_per_minute.describe()"
   ]
  },
  {
   "cell_type": "code",
   "execution_count": 46,
   "metadata": {
    "collapsed": false
   },
   "outputs": [
    {
     "data": {
      "text/html": [
       "<div>\n",
       "<table border=\"1\" class=\"dataframe\">\n",
       "  <thead>\n",
       "    <tr style=\"text-align: right;\">\n",
       "      <th></th>\n",
       "      <th>avg_amount_per_minute</th>\n",
       "      <th>dropoff_datetime</th>\n",
       "      <th>dropoff_latitude</th>\n",
       "      <th>dropoff_longitude</th>\n",
       "      <th>fare_amount</th>\n",
       "      <th>flag</th>\n",
       "      <th>passenger_count</th>\n",
       "      <th>pickup_datetime</th>\n",
       "      <th>pickup_latitude</th>\n",
       "      <th>pickup_longitude</th>\n",
       "      <th>tip_amount</th>\n",
       "      <th>total_amount</th>\n",
       "      <th>trip_distance</th>\n",
       "      <th>trip_time</th>\n",
       "    </tr>\n",
       "  </thead>\n",
       "  <tbody>\n",
       "    <tr>\n",
       "      <th>3534347</th>\n",
       "      <td>3.571429</td>\n",
       "      <td>2013-05-13 00:17:15</td>\n",
       "      <td>40.721621</td>\n",
       "      <td>-74.033262</td>\n",
       "      <td>70.0</td>\n",
       "      <td>too fast</td>\n",
       "      <td>1.0</td>\n",
       "      <td>2013-05-12 23:58:21</td>\n",
       "      <td>40.725023</td>\n",
       "      <td>-74.007006</td>\n",
       "      <td>2.00</td>\n",
       "      <td>80.25</td>\n",
       "      <td>3.40</td>\n",
       "      <td>00:18:54</td>\n",
       "    </tr>\n",
       "    <tr>\n",
       "      <th>3534376</th>\n",
       "      <td>297.000000</td>\n",
       "      <td>2013-05-12 23:58:46</td>\n",
       "      <td>40.761277</td>\n",
       "      <td>-73.993425</td>\n",
       "      <td>52.0</td>\n",
       "      <td>too fast</td>\n",
       "      <td>1.0</td>\n",
       "      <td>2013-05-12 23:58:36</td>\n",
       "      <td>40.761278</td>\n",
       "      <td>-73.993303</td>\n",
       "      <td>11.55</td>\n",
       "      <td>69.38</td>\n",
       "      <td>0.90</td>\n",
       "      <td>00:00:10</td>\n",
       "    </tr>\n",
       "    <tr>\n",
       "      <th>3534378</th>\n",
       "      <td>0.410959</td>\n",
       "      <td>2013-05-13 00:07:08</td>\n",
       "      <td>40.724592</td>\n",
       "      <td>-73.981777</td>\n",
       "      <td>6.0</td>\n",
       "      <td>too slow</td>\n",
       "      <td>1.0</td>\n",
       "      <td>2013-05-12 23:58:37</td>\n",
       "      <td>40.735385</td>\n",
       "      <td>-73.991185</td>\n",
       "      <td>1.40</td>\n",
       "      <td>8.40</td>\n",
       "      <td>1.10</td>\n",
       "      <td>00:08:31</td>\n",
       "    </tr>\n",
       "    <tr>\n",
       "      <th>3534514</th>\n",
       "      <td>2.605263</td>\n",
       "      <td>2013-05-13 00:18:00</td>\n",
       "      <td>40.792230</td>\n",
       "      <td>-73.946103</td>\n",
       "      <td>52.0</td>\n",
       "      <td>too fast</td>\n",
       "      <td>1.0</td>\n",
       "      <td>2013-05-12 23:59:00</td>\n",
       "      <td>40.666372</td>\n",
       "      <td>-73.793397</td>\n",
       "      <td>10.40</td>\n",
       "      <td>68.23</td>\n",
       "      <td>16.11</td>\n",
       "      <td>00:19:00</td>\n",
       "    </tr>\n",
       "    <tr>\n",
       "      <th>3534548</th>\n",
       "      <td>9.110429</td>\n",
       "      <td>2013-05-13 00:04:42</td>\n",
       "      <td>40.755859</td>\n",
       "      <td>-73.972549</td>\n",
       "      <td>52.0</td>\n",
       "      <td>too fast</td>\n",
       "      <td>1.0</td>\n",
       "      <td>2013-05-12 23:59:16</td>\n",
       "      <td>40.740766</td>\n",
       "      <td>-73.944841</td>\n",
       "      <td>11.56</td>\n",
       "      <td>69.39</td>\n",
       "      <td>2.50</td>\n",
       "      <td>00:05:26</td>\n",
       "    </tr>\n",
       "  </tbody>\n",
       "</table>\n",
       "</div>"
      ],
      "text/plain": [
       "         avg_amount_per_minute    dropoff_datetime  dropoff_latitude  \\\n",
       "3534347               3.571429 2013-05-13 00:17:15         40.721621   \n",
       "3534376             297.000000 2013-05-12 23:58:46         40.761277   \n",
       "3534378               0.410959 2013-05-13 00:07:08         40.724592   \n",
       "3534514               2.605263 2013-05-13 00:18:00         40.792230   \n",
       "3534548               9.110429 2013-05-13 00:04:42         40.755859   \n",
       "\n",
       "         dropoff_longitude  fare_amount      flag  passenger_count  \\\n",
       "3534347         -74.033262         70.0  too fast              1.0   \n",
       "3534376         -73.993425         52.0  too fast              1.0   \n",
       "3534378         -73.981777          6.0  too slow              1.0   \n",
       "3534514         -73.946103         52.0  too fast              1.0   \n",
       "3534548         -73.972549         52.0  too fast              1.0   \n",
       "\n",
       "            pickup_datetime  pickup_latitude  pickup_longitude  tip_amount  \\\n",
       "3534347 2013-05-12 23:58:21        40.725023        -74.007006        2.00   \n",
       "3534376 2013-05-12 23:58:36        40.761278        -73.993303       11.55   \n",
       "3534378 2013-05-12 23:58:37        40.735385        -73.991185        1.40   \n",
       "3534514 2013-05-12 23:59:00        40.666372        -73.793397       10.40   \n",
       "3534548 2013-05-12 23:59:16        40.740766        -73.944841       11.56   \n",
       "\n",
       "         total_amount  trip_distance  trip_time  \n",
       "3534347         80.25           3.40   00:18:54  \n",
       "3534376         69.38           0.90   00:00:10  \n",
       "3534378          8.40           1.10   00:08:31  \n",
       "3534514         68.23          16.11   00:19:00  \n",
       "3534548         69.39           2.50   00:05:26  "
      ]
     },
     "execution_count": 46,
     "metadata": {},
     "output_type": "execute_result"
    }
   ],
   "source": [
    "anomaly.tail()"
   ]
  },
  {
   "cell_type": "markdown",
   "metadata": {},
   "source": [
    "# <font color = 'red' > Drop even more columns (e.g. tip)? </font color>"
   ]
  },
  {
   "cell_type": "code",
   "execution_count": 47,
   "metadata": {
    "collapsed": false
   },
   "outputs": [
    {
     "data": {
      "text/plain": [
       "<matplotlib.colorbar.Colorbar at 0x7fda23888cf8>"
      ]
     },
     "execution_count": 47,
     "metadata": {},
     "output_type": "execute_result"
    },
    {
     "data": {
      "text/plain": [
       "<matplotlib.figure.Figure at 0x7fda232d0860>"
      ]
     },
     "metadata": {},
     "output_type": "display_data"
    },
    {
     "data": {
      "image/png": "[encoded data removed]",
      "text/plain": [
       "<matplotlib.figure.Figure at 0x7fda232d9668>"
      ]
     },
     "metadata": {},
     "output_type": "display_data"
    }
   ],
   "source": [
    "x = data.pickup_latitude\n",
    "y = data.pickup_longitude\n",
    "\n",
    "H, xedges, yedges = np.histogram2d(x, y, bins=25, range=[ [x.quantile(.05), x.quantile(.95)], \n",
    "        [y.quantile(.05), y.quantile(.95)]], normed=False, weights=None)\n",
    "\n",
    "plt.jet()\n",
    "fig = plt.figure(figsize=(20, 10))\n",
    "#ax.set_title('pcolormesh: exact bin edges')\n",
    "X, Y = np.meshgrid(xedges, yedges)\n",
    "mesh = plt.pcolormesh(X, Y, H)\n",
    "plt.colorbar(mesh)\n",
    "#ax.set_aspect('equal')\n",
    "#plt.savefig('figure.pdf', format='pdf')\n",
    "#plt.savefig('figure.png', format='png')"
   ]
  },
  {
   "cell_type": "code",
   "execution_count": 48,
   "metadata": {
    "collapsed": false
   },
   "outputs": [
    {
     "data": {
      "text/plain": [
       "numpy.ndarray"
      ]
     },
     "execution_count": 48,
     "metadata": {},
     "output_type": "execute_result"
    }
   ],
   "source": [
    "type(H)"
   ]
  },
  {
   "cell_type": "code",
   "execution_count": 49,
   "metadata": {
    "collapsed": false
   },
   "outputs": [
    {
     "name": "stdout",
     "output_type": "stream",
     "text": [
      "(25, 25)\n",
      "625\n",
      "37933.0\n"
     ]
    }
   ],
   "source": [
    "print(H.shape)\n",
    "print(H.size)\n",
    "print(H.max())"
   ]
  },
  {
   "cell_type": "code",
   "execution_count": 50,
   "metadata": {
    "collapsed": false
   },
   "outputs": [
    {
     "name": "stdout",
     "output_type": "stream",
     "text": [
      "(26,)\n"
     ]
    },
    {
     "data": {
      "text/plain": [
       "40.709567"
      ]
     },
     "execution_count": 50,
     "metadata": {},
     "output_type": "execute_result"
    }
   ],
   "source": [
    "print(xedges.shape)\n",
    "xedges[0]"
   ]
  },
  {
   "cell_type": "code",
   "execution_count": 51,
   "metadata": {
    "collapsed": false
   },
   "outputs": [
    {
     "name": "stdout",
     "output_type": "stream",
     "text": [
      "[ 40.709567  40.71272   40.715873  40.719026  40.722179  40.725332\n",
      "  40.728485  40.731638  40.734791  40.737944  40.741097  40.74425\n",
      "  40.747403  40.750556  40.753709  40.756862  40.760015  40.763168\n",
      "  40.766321  40.769474  40.772627  40.77578   40.778933  40.782086\n",
      "  40.785239  40.788392]\n",
      "[-74.0069   -74.004115 -74.00133  -73.998545 -73.99576  -73.992975\n",
      " -73.99019  -73.987405 -73.98462  -73.981835 -73.97905  -73.976265\n",
      " -73.97348  -73.970695 -73.96791  -73.965125 -73.96234  -73.959555\n",
      " -73.95677  -73.953985 -73.9512   -73.948415 -73.94563  -73.942845\n",
      " -73.94006  -73.937275]\n"
     ]
    }
   ],
   "source": [
    "print(xedges)\n",
    "print(yedges)"
   ]
  },
  {
   "cell_type": "code",
   "execution_count": 52,
   "metadata": {
    "collapsed": false
   },
   "outputs": [
    {
     "name": "stdout",
     "output_type": "stream",
     "text": [
      "538.3904451566326\n"
     ]
    }
   ],
   "source": [
    "from geopy.distance import vincenty\n",
    "newport_ri = (41.49008, -71.312796)\n",
    "cleveland_oh = (41.499498, -81.695391)\n",
    "print(vincenty(newport_ri, cleveland_oh).miles)\n",
    "#538.3904451566326"
   ]
  },
  {
   "cell_type": "code",
   "execution_count": 53,
   "metadata": {
    "collapsed": false
   },
   "outputs": [
    {
     "name": "stdout",
     "output_type": "stream",
     "text": [
      "Current bin width:\n",
      "421.87442874986147\n"
     ]
    }
   ],
   "source": [
    "print('Current bin width:')\n",
    "print(vincenty((xedges[0], yedges[0]), (xedges[1], yedges[1])).meters)"
   ]
  },
  {
   "cell_type": "code",
   "execution_count": 54,
   "metadata": {
    "collapsed": false
   },
   "outputs": [],
   "source": [
    "distances = (-1)*np.ones(len(xedges)-1)\n",
    "for x in range(0,len(xedges)-1, 1):\n",
    "    distances[x] = vincenty((xedges[x], yedges[x]), (xedges[x+1], yedges[x+1])).meters"
   ]
  },
  {
   "cell_type": "code",
   "execution_count": 55,
   "metadata": {
    "collapsed": false
   },
   "outputs": [
    {
     "name": "stdout",
     "output_type": "stream",
     "text": [
      "Sizes of all bins in meters:\n"
     ]
    },
    {
     "data": {
      "text/plain": [
       "array([ 421.87442875,  421.86839554,  421.86236213,  421.85632854,\n",
       "        421.85029475,  421.84426078,  421.83822661,  421.83219225,\n",
       "        421.82615771,  421.82012297,  421.81408804,  421.80805293,\n",
       "        421.80201762,  421.79598212,  421.78994644,  421.78391056,\n",
       "        421.77787449,  421.77183824,  421.76580179,  421.75976516,\n",
       "        421.75372833,  421.74769132,  421.74165411,  421.73561672,\n",
       "        421.72957914])"
      ]
     },
     "execution_count": 55,
     "metadata": {},
     "output_type": "execute_result"
    }
   ],
   "source": [
    "print('Sizes of all bins in meters:')\n",
    "distances"
   ]
  },
  {
   "cell_type": "code",
   "execution_count": 56,
   "metadata": {
    "collapsed": false
   },
   "outputs": [
    {
     "name": "stdout",
     "output_type": "stream",
     "text": [
      "2047.45495,40.867882\n",
      "473.981648,2386.995232\n"
     ]
    }
   ],
   "source": [
    "print(str(max(data.pickup_latitude)) +','+ str(max(data.pickup_longitude)))\n",
    "print(str(max(data.dropoff_latitude)) +','+ str(max(data.dropoff_longitude)))"
   ]
  },
  {
   "cell_type": "markdown",
   "metadata": {},
   "source": [
    "# What is going on here? Surprising values in lon/lat?"
   ]
  },
  {
   "cell_type": "markdown",
   "metadata": {},
   "source": [
    "# Only look at trips in a given bounding box\n"
   ]
  },
  {
   "cell_type": "code",
   "execution_count": 57,
   "metadata": {
    "collapsed": false
   },
   "outputs": [],
   "source": [
    "jfk_geodata = (40.641547, -73.778118)\n",
    "ridgefield_geodata = (40.856406, -74.020642)\n",
    "data_in_box = data.loc[(data['dropoff_latitude'] > jfk_geodata[0]) & \n",
    "                       (data['dropoff_longitude'] < jfk_geodata[1]) &\n",
    "                       (data['dropoff_latitude'] < ridgefield_geodata[0]) & \n",
    "                       (data['dropoff_longitude'] > ridgefield_geodata[1]) & \n",
    "                       (data['pickup_latitude'] > jfk_geodata[0]) & \n",
    "                       (data['pickup_longitude'] < jfk_geodata[1]) &\n",
    "                       (data['pickup_latitude'] < ridgefield_geodata[0]) & \n",
    "                       (data['pickup_longitude'] > ridgefield_geodata[1])         \n",
    "                       ]\n",
    "# taxidata = taxidata.drop(anomaly.index)"
   ]
  },
  {
   "cell_type": "markdown",
   "metadata": {},
   "source": [
    "<font color = 'red'> Be careful! They use negative (lat, long), not East/West! </font color>"
   ]
  },
  {
   "cell_type": "code",
   "execution_count": 58,
   "metadata": {
    "collapsed": false
   },
   "outputs": [
    {
     "data": {
      "text/html": [
       "<div>\n",
       "<table border=\"1\" class=\"dataframe\">\n",
       "  <thead>\n",
       "    <tr style=\"text-align: right;\">\n",
       "      <th></th>\n",
       "      <th>pickup_datetime</th>\n",
       "      <th>dropoff_datetime</th>\n",
       "      <th>passenger_count</th>\n",
       "      <th>trip_distance</th>\n",
       "      <th>pickup_longitude</th>\n",
       "      <th>pickup_latitude</th>\n",
       "      <th>dropoff_longitude</th>\n",
       "      <th>dropoff_latitude</th>\n",
       "      <th>fare_amount</th>\n",
       "      <th>tip_amount</th>\n",
       "      <th>total_amount</th>\n",
       "      <th>trip_time</th>\n",
       "      <th>avg_amount_per_minute</th>\n",
       "    </tr>\n",
       "  </thead>\n",
       "  <tbody>\n",
       "    <tr>\n",
       "      <th>0</th>\n",
       "      <td>2013-05-06</td>\n",
       "      <td>2013-05-06 00:10:00</td>\n",
       "      <td>1.0</td>\n",
       "      <td>2.65</td>\n",
       "      <td>-73.981070</td>\n",
       "      <td>40.766047</td>\n",
       "      <td>-73.981362</td>\n",
       "      <td>40.738092</td>\n",
       "      <td>10.5</td>\n",
       "      <td>2.2</td>\n",
       "      <td>13.7</td>\n",
       "      <td>00:10:00</td>\n",
       "      <td>0.800000</td>\n",
       "    </tr>\n",
       "    <tr>\n",
       "      <th>1</th>\n",
       "      <td>2013-05-06</td>\n",
       "      <td>2013-05-06 00:06:00</td>\n",
       "      <td>5.0</td>\n",
       "      <td>1.86</td>\n",
       "      <td>-73.986312</td>\n",
       "      <td>40.760487</td>\n",
       "      <td>-74.005082</td>\n",
       "      <td>40.743372</td>\n",
       "      <td>7.5</td>\n",
       "      <td>NaN</td>\n",
       "      <td>8.5</td>\n",
       "      <td>00:06:00</td>\n",
       "      <td>0.833333</td>\n",
       "    </tr>\n",
       "    <tr>\n",
       "      <th>2</th>\n",
       "      <td>2013-05-06</td>\n",
       "      <td>2013-05-06 00:04:00</td>\n",
       "      <td>1.0</td>\n",
       "      <td>0.90</td>\n",
       "      <td>-73.989388</td>\n",
       "      <td>40.731577</td>\n",
       "      <td>-73.986102</td>\n",
       "      <td>40.740732</td>\n",
       "      <td>5.5</td>\n",
       "      <td>NaN</td>\n",
       "      <td>6.5</td>\n",
       "      <td>00:04:00</td>\n",
       "      <td>0.750000</td>\n",
       "    </tr>\n",
       "    <tr>\n",
       "      <th>3</th>\n",
       "      <td>2013-05-06</td>\n",
       "      <td>2013-05-06 00:08:00</td>\n",
       "      <td>1.0</td>\n",
       "      <td>2.59</td>\n",
       "      <td>-73.994590</td>\n",
       "      <td>40.751857</td>\n",
       "      <td>-73.963470</td>\n",
       "      <td>40.765912</td>\n",
       "      <td>9.5</td>\n",
       "      <td>NaN</td>\n",
       "      <td>10.5</td>\n",
       "      <td>00:08:00</td>\n",
       "      <td>0.875000</td>\n",
       "    </tr>\n",
       "    <tr>\n",
       "      <th>5</th>\n",
       "      <td>2013-05-06</td>\n",
       "      <td>2013-05-06 00:14:00</td>\n",
       "      <td>3.0</td>\n",
       "      <td>4.86</td>\n",
       "      <td>-73.965532</td>\n",
       "      <td>40.717052</td>\n",
       "      <td>-73.972442</td>\n",
       "      <td>40.743247</td>\n",
       "      <td>16.5</td>\n",
       "      <td>NaN</td>\n",
       "      <td>17.5</td>\n",
       "      <td>00:14:00</td>\n",
       "      <td>1.000000</td>\n",
       "    </tr>\n",
       "  </tbody>\n",
       "</table>\n",
       "</div>"
      ],
      "text/plain": [
       "  pickup_datetime    dropoff_datetime  passenger_count  trip_distance  \\\n",
       "0      2013-05-06 2013-05-06 00:10:00              1.0           2.65   \n",
       "1      2013-05-06 2013-05-06 00:06:00              5.0           1.86   \n",
       "2      2013-05-06 2013-05-06 00:04:00              1.0           0.90   \n",
       "3      2013-05-06 2013-05-06 00:08:00              1.0           2.59   \n",
       "5      2013-05-06 2013-05-06 00:14:00              3.0           4.86   \n",
       "\n",
       "   pickup_longitude  pickup_latitude  dropoff_longitude  dropoff_latitude  \\\n",
       "0        -73.981070        40.766047         -73.981362         40.738092   \n",
       "1        -73.986312        40.760487         -74.005082         40.743372   \n",
       "2        -73.989388        40.731577         -73.986102         40.740732   \n",
       "3        -73.994590        40.751857         -73.963470         40.765912   \n",
       "5        -73.965532        40.717052         -73.972442         40.743247   \n",
       "\n",
       "   fare_amount  tip_amount  total_amount  trip_time  avg_amount_per_minute  \n",
       "0         10.5         2.2          13.7   00:10:00               0.800000  \n",
       "1          7.5         NaN           8.5   00:06:00               0.833333  \n",
       "2          5.5         NaN           6.5   00:04:00               0.750000  \n",
       "3          9.5         NaN          10.5   00:08:00               0.875000  \n",
       "5         16.5         NaN          17.5   00:14:00               1.000000  "
      ]
     },
     "execution_count": 58,
     "metadata": {},
     "output_type": "execute_result"
    }
   ],
   "source": [
    "data_in_box.head()"
   ]
  },
  {
   "cell_type": "code",
   "execution_count": 59,
   "metadata": {
    "collapsed": false
   },
   "outputs": [
    {
     "data": {
      "text/plain": [
       "0.9834670332763968"
      ]
     },
     "execution_count": 59,
     "metadata": {},
     "output_type": "execute_result"
    }
   ],
   "source": [
    "jfk_geodata < ridgefield_geodata\n",
    "len(data_in_box)/len(data)"
   ]
  },
  {
   "cell_type": "markdown",
   "metadata": {},
   "source": [
    "So we've omitted about 2% of the data because the trips do not start and end in the box"
   ]
  },
  {
   "cell_type": "code",
   "execution_count": 60,
   "metadata": {
    "collapsed": false
   },
   "outputs": [
    {
     "data": {
      "text/plain": [
       "<matplotlib.colorbar.Colorbar at 0x7fda2518e0b8>"
      ]
     },
     "execution_count": 60,
     "metadata": {},
     "output_type": "execute_result"
    },
    {
     "data": {
      "text/plain": [
       "<matplotlib.figure.Figure at 0x7fda248d5518>"
      ]
     },
     "metadata": {},
     "output_type": "display_data"
    },
    {
     "data": {
      "image/png": "[encoded data removed]",
      "text/plain": [
       "<matplotlib.figure.Figure at 0x7fda248d5cc0>"
      ]
     },
     "metadata": {},
     "output_type": "display_data"
    }
   ],
   "source": [
    "x = data_in_box.pickup_latitude\n",
    "y = data_in_box.pickup_longitude\n",
    "\n",
    "H, xedges, yedges = np.histogram2d(x, y, bins=100, normed=False, weights=None)\n",
    "\n",
    "plt.jet()\n",
    "fig = plt.figure(figsize=(20, 10))\n",
    "#ax.set_title('pcolormesh: exact bin edges')\n",
    "X, Y = np.meshgrid(xedges, yedges)\n",
    "mesh = plt.pcolormesh(X, Y, H)\n",
    "plt.colorbar(mesh)\n",
    "#ax.set_aspect('equal')\n",
    "#plt.savefig('figure.pdf', format='pdf')\n",
    "#plt.savefig('figure.png', format='png')"
   ]
  },
  {
   "cell_type": "code",
   "execution_count": 61,
   "metadata": {
    "collapsed": false
   },
   "outputs": [
    {
     "name": "stdout",
     "output_type": "stream",
     "text": [
      "(100, 100)\n",
      "10000\n",
      "25011.0\n",
      "(101,)\n",
      "[ 40.641548    40.64369611  40.64584422  40.64799233  40.65014044\n",
      "  40.65228855  40.65443666  40.65658477  40.65873288  40.66088099\n",
      "  40.6630291   40.66517721  40.66732532  40.66947343  40.67162154\n",
      "  40.67376965  40.67591776  40.67806587  40.68021398  40.68236209\n",
      "  40.6845102   40.68665831  40.68880642  40.69095453  40.69310264\n",
      "  40.69525075  40.69739886  40.69954697  40.70169508  40.70384319\n",
      "  40.7059913   40.70813941  40.71028752  40.71243563  40.71458374\n",
      "  40.71673185  40.71887996  40.72102807  40.72317618  40.72532429\n",
      "  40.7274724   40.72962051  40.73176862  40.73391673  40.73606484\n",
      "  40.73821295  40.74036106  40.74250917  40.74465728  40.74680539\n",
      "  40.7489535   40.75110161  40.75324972  40.75539783  40.75754594\n",
      "  40.75969405  40.76184216  40.76399027  40.76613838  40.76828649\n",
      "  40.7704346   40.77258271  40.77473082  40.77687893  40.77902704\n",
      "  40.78117515  40.78332326  40.78547137  40.78761948  40.78976759\n",
      "  40.7919157   40.79406381  40.79621192  40.79836003  40.80050814\n",
      "  40.80265625  40.80480436  40.80695247  40.80910058  40.81124869\n",
      "  40.8133968   40.81554491  40.81769302  40.81984113  40.82198924\n",
      "  40.82413735  40.82628546  40.82843357  40.83058168  40.83272979\n",
      "  40.8348779   40.83702601  40.83917412  40.84132223  40.84347034\n",
      "  40.84561845  40.84776656  40.84991467  40.85206278  40.85421089\n",
      "  40.856359  ]\n",
      "[-74.02063   -74.0182049 -74.0157798 -74.0133547 -74.0109296 -74.0085045\n",
      " -74.0060794 -74.0036543 -74.0012292 -73.9988041 -73.996379  -73.9939539\n",
      " -73.9915288 -73.9891037 -73.9866786 -73.9842535 -73.9818284 -73.9794033\n",
      " -73.9769782 -73.9745531 -73.972128  -73.9697029 -73.9672778 -73.9648527\n",
      " -73.9624276 -73.9600025 -73.9575774 -73.9551523 -73.9527272 -73.9503021\n",
      " -73.947877  -73.9454519 -73.9430268 -73.9406017 -73.9381766 -73.9357515\n",
      " -73.9333264 -73.9309013 -73.9284762 -73.9260511 -73.923626  -73.9212009\n",
      " -73.9187758 -73.9163507 -73.9139256 -73.9115005 -73.9090754 -73.9066503\n",
      " -73.9042252 -73.9018001 -73.899375  -73.8969499 -73.8945248 -73.8920997\n",
      " -73.8896746 -73.8872495 -73.8848244 -73.8823993 -73.8799742 -73.8775491\n",
      " -73.875124  -73.8726989 -73.8702738 -73.8678487 -73.8654236 -73.8629985\n",
      " -73.8605734 -73.8581483 -73.8557232 -73.8532981 -73.850873  -73.8484479\n",
      " -73.8460228 -73.8435977 -73.8411726 -73.8387475 -73.8363224 -73.8338973\n",
      " -73.8314722 -73.8290471 -73.826622  -73.8241969 -73.8217718 -73.8193467\n",
      " -73.8169216 -73.8144965 -73.8120714 -73.8096463 -73.8072212 -73.8047961\n",
      " -73.802371  -73.7999459 -73.7975208 -73.7950957 -73.7926706 -73.7902455\n",
      " -73.7878204 -73.7853953 -73.7829702 -73.7805451 -73.77812  ]\n",
      "Sizes of all bins in meters:\n"
     ]
    },
    {
     "data": {
      "text/plain": [
       "array([ 314.61402538,  314.609805  ,  314.6055845 ,  314.6013639 ,\n",
       "        314.59714319,  314.59292237,  314.58870145,  314.58448042,\n",
       "        314.58025928,  314.57603803,  314.57181668,  314.56759522,\n",
       "        314.56337366,  314.55915198,  314.5549302 ,  314.55070832,\n",
       "        314.54648632,  314.54226422,  314.53804202,  314.5338197 ,\n",
       "        314.52959728,  314.52537475,  314.52115212,  314.51692937,\n",
       "        314.51270653,  314.50848357,  314.50426051,  314.50003734,\n",
       "        314.49581407,  314.49159069,  314.4873672 ,  314.4831436 ,\n",
       "        314.4789199 ,  314.47469609,  314.47047218,  314.46624816,\n",
       "        314.46202403,  314.4577998 ,  314.45357545,  314.44935101,\n",
       "        314.44512645,  314.44090179,  314.43667703,  314.43245216,\n",
       "        314.42822718,  314.42400209,  314.4197769 ,  314.4155516 ,\n",
       "        314.4113262 ,  314.40710069,  314.40287507,  314.39864935,\n",
       "        314.39442352,  314.39019758,  314.38597154,  314.38174539,\n",
       "        314.37751914,  314.37329278,  314.36906631,  314.36483974,\n",
       "        314.36061307,  314.35638628,  314.35215939,  314.34793239,\n",
       "        314.34370529,  314.33947808,  314.33525077,  314.33102335,\n",
       "        314.32679583,  314.32256819,  314.31834046,  314.31411261,\n",
       "        314.30988467,  314.30565661,  314.30142845,  314.29720018,\n",
       "        314.29297181,  314.28874333,  314.28451475,  314.28028606,\n",
       "        314.27605727,  314.27182837,  314.26759936,  314.26337025,\n",
       "        314.25914103,  314.25491171,  314.25068228,  314.24645274,\n",
       "        314.24222311,  314.23799336,  314.23376351,  314.22953355,\n",
       "        314.22530349,  314.22107333,  314.21684306,  314.21261268,\n",
       "        314.2083822 ,  314.20415161,  314.19992091,  314.19569012])"
      ]
     },
     "execution_count": 61,
     "metadata": {},
     "output_type": "execute_result"
    }
   ],
   "source": [
    "print(H.shape)\n",
    "print(H.size)\n",
    "print(H.max())\n",
    "print(xedges.shape)\n",
    "print(xedges)\n",
    "print(yedges)\n",
    "\n",
    "distances = (-1)*np.ones(len(xedges)-1)\n",
    "for x in range(0,len(xedges)-1, 1):\n",
    "    distances[x] = vincenty((xedges[x], yedges[x]), (xedges[x+1], yedges[x+1])).meters\n",
    "    \n",
    "print('Sizes of all bins in meters:')\n",
    "distances"
   ]
  },
  {
   "cell_type": "code",
   "execution_count": 62,
   "metadata": {
    "collapsed": false
   },
   "outputs": [
    {
     "data": {
      "text/plain": [
       "0.55589999999999995"
      ]
     },
     "execution_count": 62,
     "metadata": {},
     "output_type": "execute_result"
    }
   ],
   "source": [
    "(H==0).sum()/H.size"
   ]
  },
  {
   "cell_type": "markdown",
   "metadata": {},
   "source": [
    "# So we know that 55% of the bins have 0 pickups in it."
   ]
  },
  {
   "cell_type": "markdown",
   "metadata": {},
   "source": [
    "## Let's take a first look at the distribution if the target variable which we want to estimate:"
   ]
  },
  {
   "cell_type": "code",
   "execution_count": 63,
   "metadata": {
    "collapsed": false
   },
   "outputs": [
    {
     "data": {
      "image/png": "[encoded data removed]",
      "text/plain": [
       "<matplotlib.figure.Figure at 0x7fda2519bac8>"
      ]
     },
     "metadata": {},
     "output_type": "display_data"
    }
   ],
   "source": [
    "h = data_in_box.trip_time.values / np.timedelta64(1, 'm')\n",
    "plt.figure(figsize=(20,10))\n",
    "plt.hist(h, normed=False,  bins=150)\n",
    "    #, histtype='stepfilled')\n",
    "#plt.yscale('log')\n",
    "#plt.ylabel('log(freq x)', fontsize=40)\n",
    "#plt.xlabel('x = avg_amount_per_minute', fontsize=40)\n",
    "#print('Min:' +  str(min(h)) + '\\nMax:' +  str(max(h)))\n",
    "plt.yticks(fontsize=40)\n",
    "plt.xticks(fontsize=40)\n",
    "#plt.locator_params(axis = 'x', nbins = 20)\n",
    "plt.show()"
   ]
  },
  {
   "cell_type": "code",
   "execution_count": 64,
   "metadata": {
    "collapsed": false
   },
   "outputs": [
    {
     "data": {
      "text/html": [
       "<div>\n",
       "<table border=\"1\" class=\"dataframe\">\n",
       "  <thead>\n",
       "    <tr style=\"text-align: right;\">\n",
       "      <th></th>\n",
       "      <th>pickup_datetime</th>\n",
       "      <th>dropoff_datetime</th>\n",
       "      <th>passenger_count</th>\n",
       "      <th>trip_distance</th>\n",
       "      <th>pickup_longitude</th>\n",
       "      <th>pickup_latitude</th>\n",
       "      <th>dropoff_longitude</th>\n",
       "      <th>dropoff_latitude</th>\n",
       "      <th>fare_amount</th>\n",
       "      <th>tip_amount</th>\n",
       "      <th>total_amount</th>\n",
       "      <th>trip_time</th>\n",
       "      <th>avg_amount_per_minute</th>\n",
       "    </tr>\n",
       "  </thead>\n",
       "  <tbody>\n",
       "    <tr>\n",
       "      <th>0</th>\n",
       "      <td>2013-05-06</td>\n",
       "      <td>2013-05-06 00:10:00</td>\n",
       "      <td>1.0</td>\n",
       "      <td>2.65</td>\n",
       "      <td>-73.981070</td>\n",
       "      <td>40.766047</td>\n",
       "      <td>-73.981362</td>\n",
       "      <td>40.738092</td>\n",
       "      <td>10.5</td>\n",
       "      <td>2.2</td>\n",
       "      <td>13.7</td>\n",
       "      <td>00:10:00</td>\n",
       "      <td>0.800000</td>\n",
       "    </tr>\n",
       "    <tr>\n",
       "      <th>1</th>\n",
       "      <td>2013-05-06</td>\n",
       "      <td>2013-05-06 00:06:00</td>\n",
       "      <td>5.0</td>\n",
       "      <td>1.86</td>\n",
       "      <td>-73.986312</td>\n",
       "      <td>40.760487</td>\n",
       "      <td>-74.005082</td>\n",
       "      <td>40.743372</td>\n",
       "      <td>7.5</td>\n",
       "      <td>NaN</td>\n",
       "      <td>8.5</td>\n",
       "      <td>00:06:00</td>\n",
       "      <td>0.833333</td>\n",
       "    </tr>\n",
       "    <tr>\n",
       "      <th>2</th>\n",
       "      <td>2013-05-06</td>\n",
       "      <td>2013-05-06 00:04:00</td>\n",
       "      <td>1.0</td>\n",
       "      <td>0.90</td>\n",
       "      <td>-73.989388</td>\n",
       "      <td>40.731577</td>\n",
       "      <td>-73.986102</td>\n",
       "      <td>40.740732</td>\n",
       "      <td>5.5</td>\n",
       "      <td>NaN</td>\n",
       "      <td>6.5</td>\n",
       "      <td>00:04:00</td>\n",
       "      <td>0.750000</td>\n",
       "    </tr>\n",
       "    <tr>\n",
       "      <th>3</th>\n",
       "      <td>2013-05-06</td>\n",
       "      <td>2013-05-06 00:08:00</td>\n",
       "      <td>1.0</td>\n",
       "      <td>2.59</td>\n",
       "      <td>-73.994590</td>\n",
       "      <td>40.751857</td>\n",
       "      <td>-73.963470</td>\n",
       "      <td>40.765912</td>\n",
       "      <td>9.5</td>\n",
       "      <td>NaN</td>\n",
       "      <td>10.5</td>\n",
       "      <td>00:08:00</td>\n",
       "      <td>0.875000</td>\n",
       "    </tr>\n",
       "    <tr>\n",
       "      <th>5</th>\n",
       "      <td>2013-05-06</td>\n",
       "      <td>2013-05-06 00:14:00</td>\n",
       "      <td>3.0</td>\n",
       "      <td>4.86</td>\n",
       "      <td>-73.965532</td>\n",
       "      <td>40.717052</td>\n",
       "      <td>-73.972442</td>\n",
       "      <td>40.743247</td>\n",
       "      <td>16.5</td>\n",
       "      <td>NaN</td>\n",
       "      <td>17.5</td>\n",
       "      <td>00:14:00</td>\n",
       "      <td>1.000000</td>\n",
       "    </tr>\n",
       "  </tbody>\n",
       "</table>\n",
       "</div>"
      ],
      "text/plain": [
       "  pickup_datetime    dropoff_datetime  passenger_count  trip_distance  \\\n",
       "0      2013-05-06 2013-05-06 00:10:00              1.0           2.65   \n",
       "1      2013-05-06 2013-05-06 00:06:00              5.0           1.86   \n",
       "2      2013-05-06 2013-05-06 00:04:00              1.0           0.90   \n",
       "3      2013-05-06 2013-05-06 00:08:00              1.0           2.59   \n",
       "5      2013-05-06 2013-05-06 00:14:00              3.0           4.86   \n",
       "\n",
       "   pickup_longitude  pickup_latitude  dropoff_longitude  dropoff_latitude  \\\n",
       "0        -73.981070        40.766047         -73.981362         40.738092   \n",
       "1        -73.986312        40.760487         -74.005082         40.743372   \n",
       "2        -73.989388        40.731577         -73.986102         40.740732   \n",
       "3        -73.994590        40.751857         -73.963470         40.765912   \n",
       "5        -73.965532        40.717052         -73.972442         40.743247   \n",
       "\n",
       "   fare_amount  tip_amount  total_amount  trip_time  avg_amount_per_minute  \n",
       "0         10.5         2.2          13.7   00:10:00               0.800000  \n",
       "1          7.5         NaN           8.5   00:06:00               0.833333  \n",
       "2          5.5         NaN           6.5   00:04:00               0.750000  \n",
       "3          9.5         NaN          10.5   00:08:00               0.875000  \n",
       "5         16.5         NaN          17.5   00:14:00               1.000000  "
      ]
     },
     "execution_count": 64,
     "metadata": {},
     "output_type": "execute_result"
    }
   ],
   "source": [
    "data_in_box.head()"
   ]
  },
  {
   "cell_type": "code",
   "execution_count": 65,
   "metadata": {
    "collapsed": false
   },
   "outputs": [],
   "source": [
    "#data_in_box['pickup_datetime'].dt.dayofweek\n",
    "#tdata_in_box['pickup_datetime'].dt.hourb\n",
    "#data_in_box['pickup_datetime'].dt.month # year, month, day, hour, minute, second, microsecond, and tzinfo.\n",
    "#data_in_box['pickup_datetime'].dt.day"
   ]
  },
  {
   "cell_type": "markdown",
   "metadata": {},
   "source": [
    "# Make a new dataframe with features and targets to train the model"
   ]
  },
  {
   "cell_type": "code",
   "execution_count": 66,
   "metadata": {
    "collapsed": false
   },
   "outputs": [],
   "source": [
    "time_regression_df = pd.DataFrame([#data_in_box['pickup_datetime'].dt.day,\n",
    "                          data_in_box['pickup_datetime'].dt.dayofweek,\n",
    "                          data_in_box['pickup_datetime'].dt.hour,\n",
    "                          data_in_box['pickup_latitude'],\n",
    "                          data_in_box['pickup_longitude'],\n",
    "                          data_in_box['dropoff_latitude'],\n",
    "                          data_in_box['dropoff_longitude'],\n",
    "                          np.ceil(data_in_box['trip_time']/np.timedelta64(1, 'm')),\n",
    "                         ]).T"
   ]
  },
  {
   "cell_type": "code",
   "execution_count": 67,
   "metadata": {
    "collapsed": true
   },
   "outputs": [],
   "source": [
    "time_regression_df.columns = [#'pickup_datetime_day', \n",
    "                                 'pickup_datetime_dayofweek', 'pickup_datetime_hour',\n",
    "                                 'pickup_latitude', 'pickup_longitude', 'dropoff_latitude', 'dropoff_longitude',\n",
    "                                 'trip_time_in_mins']"
   ]
  },
  {
   "cell_type": "markdown",
   "metadata": {},
   "source": [
    "Use minutes for prediction instead of seconds (ceil the time). Definitley more robust than seconds!"
   ]
  },
  {
   "cell_type": "code",
   "execution_count": 68,
   "metadata": {
    "collapsed": false
   },
   "outputs": [
    {
     "data": {
      "text/html": [
       "<div>\n",
       "<table border=\"1\" class=\"dataframe\">\n",
       "  <thead>\n",
       "    <tr style=\"text-align: right;\">\n",
       "      <th></th>\n",
       "      <th>pickup_datetime_dayofweek</th>\n",
       "      <th>pickup_datetime_hour</th>\n",
       "      <th>pickup_latitude</th>\n",
       "      <th>pickup_longitude</th>\n",
       "      <th>dropoff_latitude</th>\n",
       "      <th>dropoff_longitude</th>\n",
       "      <th>trip_time_in_mins</th>\n",
       "    </tr>\n",
       "  </thead>\n",
       "  <tbody>\n",
       "    <tr>\n",
       "      <th>3534627</th>\n",
       "      <td>6.0</td>\n",
       "      <td>23.0</td>\n",
       "      <td>40.744021</td>\n",
       "      <td>-73.999512</td>\n",
       "      <td>40.825470</td>\n",
       "      <td>-73.953479</td>\n",
       "      <td>15.0</td>\n",
       "    </tr>\n",
       "    <tr>\n",
       "      <th>3534628</th>\n",
       "      <td>6.0</td>\n",
       "      <td>23.0</td>\n",
       "      <td>40.741475</td>\n",
       "      <td>-73.981322</td>\n",
       "      <td>40.751637</td>\n",
       "      <td>-73.975838</td>\n",
       "      <td>3.0</td>\n",
       "    </tr>\n",
       "    <tr>\n",
       "      <th>3534629</th>\n",
       "      <td>6.0</td>\n",
       "      <td>23.0</td>\n",
       "      <td>40.770077</td>\n",
       "      <td>-73.863887</td>\n",
       "      <td>40.644504</td>\n",
       "      <td>-73.963537</td>\n",
       "      <td>22.0</td>\n",
       "    </tr>\n",
       "    <tr>\n",
       "      <th>3534630</th>\n",
       "      <td>6.0</td>\n",
       "      <td>23.0</td>\n",
       "      <td>40.736240</td>\n",
       "      <td>-73.990593</td>\n",
       "      <td>40.744194</td>\n",
       "      <td>-73.985401</td>\n",
       "      <td>5.0</td>\n",
       "    </tr>\n",
       "    <tr>\n",
       "      <th>3534631</th>\n",
       "      <td>6.0</td>\n",
       "      <td>23.0</td>\n",
       "      <td>40.772929</td>\n",
       "      <td>-73.949516</td>\n",
       "      <td>40.728967</td>\n",
       "      <td>-73.988787</td>\n",
       "      <td>15.0</td>\n",
       "    </tr>\n",
       "  </tbody>\n",
       "</table>\n",
       "</div>"
      ],
      "text/plain": [
       "         pickup_datetime_dayofweek  pickup_datetime_hour  pickup_latitude  \\\n",
       "3534627                        6.0                  23.0        40.744021   \n",
       "3534628                        6.0                  23.0        40.741475   \n",
       "3534629                        6.0                  23.0        40.770077   \n",
       "3534630                        6.0                  23.0        40.736240   \n",
       "3534631                        6.0                  23.0        40.772929   \n",
       "\n",
       "         pickup_longitude  dropoff_latitude  dropoff_longitude  \\\n",
       "3534627        -73.999512         40.825470         -73.953479   \n",
       "3534628        -73.981322         40.751637         -73.975838   \n",
       "3534629        -73.863887         40.644504         -73.963537   \n",
       "3534630        -73.990593         40.744194         -73.985401   \n",
       "3534631        -73.949516         40.728967         -73.988787   \n",
       "\n",
       "         trip_time_in_mins  \n",
       "3534627               15.0  \n",
       "3534628                3.0  \n",
       "3534629               22.0  \n",
       "3534630                5.0  \n",
       "3534631               15.0  "
      ]
     },
     "execution_count": 68,
     "metadata": {},
     "output_type": "execute_result"
    }
   ],
   "source": [
    "time_regression_df.tail()"
   ]
  },
  {
   "cell_type": "code",
   "execution_count": 69,
   "metadata": {
    "collapsed": false
   },
   "outputs": [
    {
     "data": {
      "text/html": [
       "<div>\n",
       "<table border=\"1\" class=\"dataframe\">\n",
       "  <thead>\n",
       "    <tr style=\"text-align: right;\">\n",
       "      <th></th>\n",
       "      <th>pickup_datetime_dayofweek</th>\n",
       "      <th>pickup_datetime_hour</th>\n",
       "      <th>pickup_latitude</th>\n",
       "      <th>pickup_longitude</th>\n",
       "      <th>dropoff_latitude</th>\n",
       "      <th>dropoff_longitude</th>\n",
       "      <th>trip_time_in_mins</th>\n",
       "    </tr>\n",
       "  </thead>\n",
       "  <tbody>\n",
       "    <tr>\n",
       "      <th>0</th>\n",
       "      <td>0.0</td>\n",
       "      <td>0.0</td>\n",
       "      <td>40.766047</td>\n",
       "      <td>-73.981070</td>\n",
       "      <td>40.738092</td>\n",
       "      <td>-73.981362</td>\n",
       "      <td>10.0</td>\n",
       "    </tr>\n",
       "    <tr>\n",
       "      <th>1</th>\n",
       "      <td>0.0</td>\n",
       "      <td>0.0</td>\n",
       "      <td>40.760487</td>\n",
       "      <td>-73.986312</td>\n",
       "      <td>40.743372</td>\n",
       "      <td>-74.005082</td>\n",
       "      <td>6.0</td>\n",
       "    </tr>\n",
       "    <tr>\n",
       "      <th>2</th>\n",
       "      <td>0.0</td>\n",
       "      <td>0.0</td>\n",
       "      <td>40.731577</td>\n",
       "      <td>-73.989388</td>\n",
       "      <td>40.740732</td>\n",
       "      <td>-73.986102</td>\n",
       "      <td>4.0</td>\n",
       "    </tr>\n",
       "    <tr>\n",
       "      <th>3</th>\n",
       "      <td>0.0</td>\n",
       "      <td>0.0</td>\n",
       "      <td>40.751857</td>\n",
       "      <td>-73.994590</td>\n",
       "      <td>40.765912</td>\n",
       "      <td>-73.963470</td>\n",
       "      <td>8.0</td>\n",
       "    </tr>\n",
       "    <tr>\n",
       "      <th>5</th>\n",
       "      <td>0.0</td>\n",
       "      <td>0.0</td>\n",
       "      <td>40.717052</td>\n",
       "      <td>-73.965532</td>\n",
       "      <td>40.743247</td>\n",
       "      <td>-73.972442</td>\n",
       "      <td>14.0</td>\n",
       "    </tr>\n",
       "  </tbody>\n",
       "</table>\n",
       "</div>"
      ],
      "text/plain": [
       "   pickup_datetime_dayofweek  pickup_datetime_hour  pickup_latitude  \\\n",
       "0                        0.0                   0.0        40.766047   \n",
       "1                        0.0                   0.0        40.760487   \n",
       "2                        0.0                   0.0        40.731577   \n",
       "3                        0.0                   0.0        40.751857   \n",
       "5                        0.0                   0.0        40.717052   \n",
       "\n",
       "   pickup_longitude  dropoff_latitude  dropoff_longitude  trip_time_in_mins  \n",
       "0        -73.981070         40.738092         -73.981362               10.0  \n",
       "1        -73.986312         40.743372         -74.005082                6.0  \n",
       "2        -73.989388         40.740732         -73.986102                4.0  \n",
       "3        -73.994590         40.765912         -73.963470                8.0  \n",
       "5        -73.965532         40.743247         -73.972442               14.0  "
      ]
     },
     "execution_count": 69,
     "metadata": {},
     "output_type": "execute_result"
    }
   ],
   "source": [
    "time_regression_df.head()"
   ]
  },
  {
   "cell_type": "code",
   "execution_count": 70,
   "metadata": {
    "collapsed": false
   },
   "outputs": [
    {
     "data": {
      "text/html": [
       "<div>\n",
       "<table border=\"1\" class=\"dataframe\">\n",
       "  <thead>\n",
       "    <tr style=\"text-align: right;\">\n",
       "      <th></th>\n",
       "      <th>pickup_datetime_dayofweek</th>\n",
       "      <th>pickup_datetime_hour</th>\n",
       "      <th>pickup_latitude</th>\n",
       "      <th>pickup_longitude</th>\n",
       "      <th>dropoff_latitude</th>\n",
       "      <th>dropoff_longitude</th>\n",
       "    </tr>\n",
       "  </thead>\n",
       "  <tbody>\n",
       "    <tr>\n",
       "      <th>count</th>\n",
       "      <td>3.266333e+06</td>\n",
       "      <td>3.266333e+06</td>\n",
       "      <td>3.266333e+06</td>\n",
       "      <td>3.266333e+06</td>\n",
       "      <td>3.266333e+06</td>\n",
       "      <td>3.266333e+06</td>\n",
       "    </tr>\n",
       "    <tr>\n",
       "      <th>mean</th>\n",
       "      <td>3.039328e+00</td>\n",
       "      <td>1.350386e+01</td>\n",
       "      <td>4.075136e+01</td>\n",
       "      <td>-7.397645e+01</td>\n",
       "      <td>4.075162e+01</td>\n",
       "      <td>-7.397513e+01</td>\n",
       "    </tr>\n",
       "    <tr>\n",
       "      <th>std</th>\n",
       "      <td>1.961083e+00</td>\n",
       "      <td>6.552920e+00</td>\n",
       "      <td>2.582007e-02</td>\n",
       "      <td>3.135320e-02</td>\n",
       "      <td>2.840570e-02</td>\n",
       "      <td>3.012289e-02</td>\n",
       "    </tr>\n",
       "    <tr>\n",
       "      <th>min</th>\n",
       "      <td>0.000000e+00</td>\n",
       "      <td>0.000000e+00</td>\n",
       "      <td>4.064155e+01</td>\n",
       "      <td>-7.402063e+01</td>\n",
       "      <td>4.064155e+01</td>\n",
       "      <td>-7.402057e+01</td>\n",
       "    </tr>\n",
       "    <tr>\n",
       "      <th>25%</th>\n",
       "      <td>1.000000e+00</td>\n",
       "      <td>9.000000e+00</td>\n",
       "      <td>4.073668e+01</td>\n",
       "      <td>-7.399259e+01</td>\n",
       "      <td>4.073577e+01</td>\n",
       "      <td>-7.399176e+01</td>\n",
       "    </tr>\n",
       "    <tr>\n",
       "      <th>50%</th>\n",
       "      <td>3.000000e+00</td>\n",
       "      <td>1.400000e+01</td>\n",
       "      <td>4.075343e+01</td>\n",
       "      <td>-7.398216e+01</td>\n",
       "      <td>4.075387e+01</td>\n",
       "      <td>-7.398066e+01</td>\n",
       "    </tr>\n",
       "    <tr>\n",
       "      <th>75%</th>\n",
       "      <td>5.000000e+00</td>\n",
       "      <td>1.900000e+01</td>\n",
       "      <td>4.076813e+01</td>\n",
       "      <td>-7.396825e+01</td>\n",
       "      <td>4.076884e+01</td>\n",
       "      <td>-7.396539e+01</td>\n",
       "    </tr>\n",
       "    <tr>\n",
       "      <th>max</th>\n",
       "      <td>6.000000e+00</td>\n",
       "      <td>2.300000e+01</td>\n",
       "      <td>4.085636e+01</td>\n",
       "      <td>-7.377812e+01</td>\n",
       "      <td>4.085640e+01</td>\n",
       "      <td>-7.377812e+01</td>\n",
       "    </tr>\n",
       "  </tbody>\n",
       "</table>\n",
       "</div>"
      ],
      "text/plain": [
       "       pickup_datetime_dayofweek  pickup_datetime_hour  pickup_latitude  \\\n",
       "count               3.266333e+06          3.266333e+06     3.266333e+06   \n",
       "mean                3.039328e+00          1.350386e+01     4.075136e+01   \n",
       "std                 1.961083e+00          6.552920e+00     2.582007e-02   \n",
       "min                 0.000000e+00          0.000000e+00     4.064155e+01   \n",
       "25%                 1.000000e+00          9.000000e+00     4.073668e+01   \n",
       "50%                 3.000000e+00          1.400000e+01     4.075343e+01   \n",
       "75%                 5.000000e+00          1.900000e+01     4.076813e+01   \n",
       "max                 6.000000e+00          2.300000e+01     4.085636e+01   \n",
       "\n",
       "       pickup_longitude  dropoff_latitude  dropoff_longitude  \n",
       "count      3.266333e+06      3.266333e+06       3.266333e+06  \n",
       "mean      -7.397645e+01      4.075162e+01      -7.397513e+01  \n",
       "std        3.135320e-02      2.840570e-02       3.012289e-02  \n",
       "min       -7.402063e+01      4.064155e+01      -7.402057e+01  \n",
       "25%       -7.399259e+01      4.073577e+01      -7.399176e+01  \n",
       "50%       -7.398216e+01      4.075387e+01      -7.398066e+01  \n",
       "75%       -7.396825e+01      4.076884e+01      -7.396539e+01  \n",
       "max       -7.377812e+01      4.085640e+01      -7.377812e+01  "
      ]
     },
     "execution_count": 70,
     "metadata": {},
     "output_type": "execute_result"
    }
   ],
   "source": [
    "time_regression_df.ix[:,0:6].describe()"
   ]
  },
  {
   "cell_type": "code",
   "execution_count": 71,
   "metadata": {
    "collapsed": false
   },
   "outputs": [
    {
     "name": "stdout",
     "output_type": "stream",
     "text": [
      "7.0      216659\n",
      "6.0      212922\n",
      "8.0      212253\n",
      "9.0      203203\n",
      "5.0      198847\n",
      "10.0     190577\n",
      "11.0     176963\n",
      "4.0      167658\n",
      "12.0     161870\n",
      "13.0     146481\n",
      "14.0     132243\n",
      "15.0     118781\n",
      "3.0      115848\n",
      "16.0     106682\n",
      "17.0      94945\n",
      "18.0      84644\n",
      "19.0      75749\n",
      "20.0      67035\n",
      "21.0      58914\n",
      "2.0       55534\n",
      "22.0      52250\n",
      "23.0      46464\n",
      "24.0      40736\n",
      "25.0      35394\n",
      "26.0      31199\n",
      "27.0      27649\n",
      "28.0      24524\n",
      "29.0      21292\n",
      "30.0      18618\n",
      "31.0      16680\n",
      "          ...  \n",
      "120.0         3\n",
      "123.0         2\n",
      "143.0         2\n",
      "145.0         2\n",
      "128.0         2\n",
      "138.0         2\n",
      "121.0         2\n",
      "119.0         2\n",
      "118.0         2\n",
      "157.0         1\n",
      "156.0         1\n",
      "154.0         1\n",
      "153.0         1\n",
      "148.0         1\n",
      "160.0         1\n",
      "164.0         1\n",
      "137.0         1\n",
      "178.0         1\n",
      "136.0         1\n",
      "134.0         1\n",
      "133.0         1\n",
      "132.0         1\n",
      "131.0         1\n",
      "130.0         1\n",
      "129.0         1\n",
      "125.0         1\n",
      "124.0         1\n",
      "117.0         1\n",
      "115.0         1\n",
      "279.0         1\n",
      "Name: trip_time_in_mins, dtype: int64\n",
      "148\n"
     ]
    }
   ],
   "source": [
    "print(time_regression_df.trip_time_in_mins.value_counts())\n",
    "print(len(time_regression_df.trip_time_in_mins.value_counts()))"
   ]
  },
  {
   "cell_type": "markdown",
   "metadata": {},
   "source": [
    "So we hace 148 different times to predict."
   ]
  },
  {
   "cell_type": "code",
   "execution_count": 72,
   "metadata": {
    "collapsed": false
   },
   "outputs": [
    {
     "data": {
      "image/png": "[encoded data removed]",
      "text/plain": [
       "<matplotlib.figure.Figure at 0x7fda26d59048>"
      ]
     },
     "metadata": {},
     "output_type": "display_data"
    }
   ],
   "source": [
    "plt.hist(time_regression_df.trip_time_in_mins.values, bins=50, range = [0,100])\n",
    "plt.locator_params(axis = 'x', nbins = 20)"
   ]
  },
  {
   "cell_type": "code",
   "execution_count": 73,
   "metadata": {
    "collapsed": false
   },
   "outputs": [
    {
     "data": {
      "text/plain": [
       "0.05     3.0\n",
       "0.95    30.0\n",
       "Name: trip_time_in_mins, dtype: float64"
      ]
     },
     "execution_count": 73,
     "metadata": {},
     "output_type": "execute_result"
    }
   ],
   "source": [
    "time_regression_df.trip_time_in_mins.quantile([0.05, 0.95])"
   ]
  },
  {
   "cell_type": "markdown",
   "metadata": {},
   "source": [
    "# Split the data into a training dataset and a test dataset. Evaluate the performance of the decision tree on the test data"
   ]
  },
  {
   "cell_type": "code",
   "execution_count": 74,
   "metadata": {
    "collapsed": false
   },
   "outputs": [],
   "source": [
    "hour_stats = time_regression_df.groupby(time_regression_df.pickup_datetime_hour)"
   ]
  },
  {
   "cell_type": "code",
   "execution_count": 75,
   "metadata": {
    "collapsed": false
   },
   "outputs": [
    {
     "data": {
      "image/png": "[encoded data removed]",
      "text/plain": [
       "<matplotlib.figure.Figure at 0x7fda232cde48>"
      ]
     },
     "metadata": {},
     "output_type": "display_data"
    }
   ],
   "source": [
    "plt.bar(left = hour_stats.pickup_datetime_hour.count().keys(), height=hour_stats.pickup_datetime_hour.count().values/7, \n",
    "       tick_label=hour_stats.pickup_datetime_hour.count().keys(), align='center')\n",
    "plt.title('Avg. pickups per hour')\n",
    "plt.xlabel('datetime_hour')\n",
    "plt.ylabel('frequency')\n",
    "plt.savefig('avg_pickups_per_hour.png')"
   ]
  },
  {
   "cell_type": "code",
   "execution_count": 76,
   "metadata": {
    "collapsed": false
   },
   "outputs": [
    {
     "name": "stdout",
     "output_type": "stream",
     "text": [
      "Avg. pickups per half-hour (summarized over 1 week)\n"
     ]
    },
    {
     "data": {
      "text/plain": [
       "pickup_datetime_hour\n",
       "0.0      9498.000000\n",
       "1.0      6936.000000\n",
       "2.0      4986.357143\n",
       "3.0      3496.357143\n",
       "4.0      2482.285714\n",
       "5.0      2151.500000\n",
       "6.0      4909.357143\n",
       "7.0      9031.214286\n",
       "8.0     10726.285714\n",
       "9.0     11130.571429\n",
       "10.0    10944.857143\n",
       "11.0    11205.857143\n",
       "12.0    11487.642857\n",
       "13.0    10997.642857\n",
       "14.0    11269.785714\n",
       "15.0    10798.785714\n",
       "16.0     8841.285714\n",
       "17.0    10963.857143\n",
       "18.0    13860.857143\n",
       "19.0    14584.714286\n",
       "20.0    14010.142857\n",
       "21.0    13788.142857\n",
       "22.0    13446.642857\n",
       "23.0    11761.357143\n",
       "Name: pickup_datetime_hour, dtype: float64"
      ]
     },
     "execution_count": 76,
     "metadata": {},
     "output_type": "execute_result"
    }
   ],
   "source": [
    "print('Avg. pickups per half-hour (summarized over 1 week)')\n",
    "hour_stats.pickup_datetime_hour.count()/14"
   ]
  },
  {
   "cell_type": "code",
   "execution_count": 84,
   "metadata": {
    "collapsed": false
   },
   "outputs": [
    {
     "data": {
      "text/html": [
       "<div>\n",
       "<table border=\"1\" class=\"dataframe\">\n",
       "  <thead>\n",
       "    <tr style=\"text-align: right;\">\n",
       "      <th></th>\n",
       "      <th>pickup_datetime_dayofweek</th>\n",
       "      <th>pickup_latitude</th>\n",
       "      <th>pickup_longitude</th>\n",
       "      <th>dropoff_latitude</th>\n",
       "      <th>dropoff_longitude</th>\n",
       "      <th>trip_time_in_mins</th>\n",
       "    </tr>\n",
       "  </thead>\n",
       "  <tbody>\n",
       "    <tr>\n",
       "      <th>0.5</th>\n",
       "      <td>10954.357143</td>\n",
       "      <td>10954.357143</td>\n",
       "      <td>10954.357143</td>\n",
       "      <td>10954.357143</td>\n",
       "      <td>10954.357143</td>\n",
       "      <td>10954.357143</td>\n",
       "    </tr>\n",
       "  </tbody>\n",
       "</table>\n",
       "</div>"
      ],
      "text/plain": [
       "     pickup_datetime_dayofweek  pickup_latitude  pickup_longitude  \\\n",
       "0.5               10954.357143     10954.357143      10954.357143   \n",
       "\n",
       "     dropoff_latitude  dropoff_longitude  trip_time_in_mins  \n",
       "0.5      10954.357143       10954.357143       10954.357143  "
      ]
     },
     "execution_count": 84,
     "metadata": {},
     "output_type": "execute_result"
    }
   ],
   "source": [
    "(hour_stats.count()/14).quantile([.5])"
   ]
  },
  {
   "cell_type": "code",
   "execution_count": 87,
   "metadata": {
    "collapsed": false
   },
   "outputs": [
    {
     "data": {
      "text/plain": [
       "(array([ 2.,  1.,  2.,  1.,  0.,  3.,  2.,  8.,  0.,  5.]),\n",
       " array([  2151.5       ,   3394.82142857,   4638.14285714,   5881.46428571,\n",
       "          7124.78571429,   8368.10714286,   9611.42857143,  10854.75      ,\n",
       "         12098.07142857,  13341.39285714,  14584.71428571]),\n",
       " <a list of 10 Patch objects>)"
      ]
     },
     "execution_count": 87,
     "metadata": {},
     "output_type": "execute_result"
    },
    {
     "data": {
      "image/png": "[encoded data removed]",
      "text/plain": [
       "<matplotlib.figure.Figure at 0x7fda26d8bb00>"
      ]
     },
     "metadata": {},
     "output_type": "display_data"
    }
   ],
   "source": [
    "plt.hist(hour_stats.pickup_datetime_hour.count()/14)"
   ]
  },
  {
   "cell_type": "code",
   "execution_count": 88,
   "metadata": {
    "collapsed": false
   },
   "outputs": [
    {
     "data": {
      "text/plain": [
       "0         0.0\n",
       "1         0.0\n",
       "2         0.0\n",
       "3         0.0\n",
       "5         0.0\n",
       "12129     0.0\n",
       "12130     0.0\n",
       "12131     0.0\n",
       "12132     0.0\n",
       "12133     0.0\n",
       "19711     0.0\n",
       "19712     0.0\n",
       "19713     0.0\n",
       "19714     0.0\n",
       "19715     0.0\n",
       "23945     0.0\n",
       "23946     0.0\n",
       "23947     0.0\n",
       "23948     0.0\n",
       "23949     0.0\n",
       "26968     0.0\n",
       "26969     0.0\n",
       "26970     0.0\n",
       "26971     0.0\n",
       "26972     0.0\n",
       "30082     0.0\n",
       "30083     0.0\n",
       "30084     0.0\n",
       "30085     0.0\n",
       "30086     0.0\n",
       "         ... \n",
       "309100    0.0\n",
       "309101    0.0\n",
       "309102    0.0\n",
       "309103    0.0\n",
       "309104    0.0\n",
       "340232    0.0\n",
       "340233    0.0\n",
       "340234    0.0\n",
       "340235    0.0\n",
       "340236    0.0\n",
       "370324    0.0\n",
       "370325    0.0\n",
       "370326    0.0\n",
       "370327    0.0\n",
       "370328    0.0\n",
       "398331    0.0\n",
       "398332    0.0\n",
       "398333    0.0\n",
       "398334    0.0\n",
       "398335    0.0\n",
       "425495    0.0\n",
       "425496    0.0\n",
       "425497    0.0\n",
       "425498    0.0\n",
       "425499    0.0\n",
       "450242    0.0\n",
       "450243    0.0\n",
       "450244    0.0\n",
       "450245    0.0\n",
       "450246    0.0\n",
       "Name: pickup_datetime_dayofweek, dtype: float64"
      ]
     },
     "execution_count": 88,
     "metadata": {},
     "output_type": "execute_result"
    }
   ],
   "source": [
    "hour_stats['pickup_datetime_dayofweek'].head()"
   ]
  },
  {
   "cell_type": "code",
   "execution_count": 75,
   "metadata": {
    "collapsed": false
   },
   "outputs": [],
   "source": [
    "from sklearn import cross_validation as cv\n",
    "y = time_regression_df[\"trip_time_in_mins\"]\n",
    "X = time_regression_df.ix[:,0:6]\n",
    "X_train, X_test, y_train, y_test = cv.train_test_split(X, y,test_size=0.1,random_state=0) "
   ]
  },
  {
   "cell_type": "code",
   "execution_count": 76,
   "metadata": {
    "collapsed": false
   },
   "outputs": [
    {
     "data": {
      "text/html": [
       "<div>\n",
       "<table border=\"1\" class=\"dataframe\">\n",
       "  <thead>\n",
       "    <tr style=\"text-align: right;\">\n",
       "      <th></th>\n",
       "      <th>pickup_datetime_dayofweek</th>\n",
       "      <th>pickup_datetime_hour</th>\n",
       "      <th>pickup_latitude</th>\n",
       "      <th>pickup_longitude</th>\n",
       "      <th>dropoff_latitude</th>\n",
       "      <th>dropoff_longitude</th>\n",
       "    </tr>\n",
       "  </thead>\n",
       "  <tbody>\n",
       "    <tr>\n",
       "      <th>2972051</th>\n",
       "      <td>5.0</td>\n",
       "      <td>20.0</td>\n",
       "      <td>40.759390</td>\n",
       "      <td>-73.970105</td>\n",
       "      <td>40.787357</td>\n",
       "      <td>-73.970247</td>\n",
       "    </tr>\n",
       "    <tr>\n",
       "      <th>1357753</th>\n",
       "      <td>2.0</td>\n",
       "      <td>20.0</td>\n",
       "      <td>40.745082</td>\n",
       "      <td>-73.985037</td>\n",
       "      <td>40.735312</td>\n",
       "      <td>-73.987955</td>\n",
       "    </tr>\n",
       "    <tr>\n",
       "      <th>340293</th>\n",
       "      <td>0.0</td>\n",
       "      <td>19.0</td>\n",
       "      <td>40.721210</td>\n",
       "      <td>-74.008468</td>\n",
       "      <td>40.727780</td>\n",
       "      <td>-73.993192</td>\n",
       "    </tr>\n",
       "    <tr>\n",
       "      <th>1824941</th>\n",
       "      <td>3.0</td>\n",
       "      <td>18.0</td>\n",
       "      <td>40.819377</td>\n",
       "      <td>-73.951947</td>\n",
       "      <td>40.767631</td>\n",
       "      <td>-73.966563</td>\n",
       "    </tr>\n",
       "    <tr>\n",
       "      <th>1298476</th>\n",
       "      <td>2.0</td>\n",
       "      <td>18.0</td>\n",
       "      <td>40.800847</td>\n",
       "      <td>-73.967847</td>\n",
       "      <td>40.806457</td>\n",
       "      <td>-73.964812</td>\n",
       "    </tr>\n",
       "  </tbody>\n",
       "</table>\n",
       "</div>"
      ],
      "text/plain": [
       "         pickup_datetime_dayofweek  pickup_datetime_hour  pickup_latitude  \\\n",
       "2972051                        5.0                  20.0        40.759390   \n",
       "1357753                        2.0                  20.0        40.745082   \n",
       "340293                         0.0                  19.0        40.721210   \n",
       "1824941                        3.0                  18.0        40.819377   \n",
       "1298476                        2.0                  18.0        40.800847   \n",
       "\n",
       "         pickup_longitude  dropoff_latitude  dropoff_longitude  \n",
       "2972051        -73.970105         40.787357         -73.970247  \n",
       "1357753        -73.985037         40.735312         -73.987955  \n",
       "340293         -74.008468         40.727780         -73.993192  \n",
       "1824941        -73.951947         40.767631         -73.966563  \n",
       "1298476        -73.967847         40.806457         -73.964812  "
      ]
     },
     "execution_count": 76,
     "metadata": {},
     "output_type": "execute_result"
    }
   ],
   "source": [
    "X_test.head()"
   ]
  },
  {
   "cell_type": "code",
   "execution_count": 77,
   "metadata": {
    "collapsed": false
   },
   "outputs": [
    {
     "data": {
      "text/plain": [
       "2972051    11.0\n",
       "1357753    16.0\n",
       "340293      9.0\n",
       "1824941    22.0\n",
       "1298476     3.0\n",
       "Name: trip_time_in_mins, dtype: float64"
      ]
     },
     "execution_count": 77,
     "metadata": {},
     "output_type": "execute_result"
    }
   ],
   "source": [
    "y_test.head()"
   ]
  },
  {
   "cell_type": "code",
   "execution_count": 78,
   "metadata": {
    "collapsed": false
   },
   "outputs": [],
   "source": [
    "Xy_test = pd.concat([X_test, y_test], axis=1)"
   ]
  },
  {
   "cell_type": "code",
   "execution_count": 79,
   "metadata": {
    "collapsed": false
   },
   "outputs": [
    {
     "data": {
      "text/html": [
       "<div>\n",
       "<table border=\"1\" class=\"dataframe\">\n",
       "  <thead>\n",
       "    <tr style=\"text-align: right;\">\n",
       "      <th></th>\n",
       "      <th>pickup_datetime_dayofweek</th>\n",
       "      <th>pickup_datetime_hour</th>\n",
       "      <th>pickup_latitude</th>\n",
       "      <th>pickup_longitude</th>\n",
       "      <th>dropoff_latitude</th>\n",
       "      <th>dropoff_longitude</th>\n",
       "      <th>trip_time_in_mins</th>\n",
       "    </tr>\n",
       "  </thead>\n",
       "  <tbody>\n",
       "    <tr>\n",
       "      <th>2972051</th>\n",
       "      <td>5.0</td>\n",
       "      <td>20.0</td>\n",
       "      <td>40.759390</td>\n",
       "      <td>-73.970105</td>\n",
       "      <td>40.787357</td>\n",
       "      <td>-73.970247</td>\n",
       "      <td>11.0</td>\n",
       "    </tr>\n",
       "    <tr>\n",
       "      <th>1357753</th>\n",
       "      <td>2.0</td>\n",
       "      <td>20.0</td>\n",
       "      <td>40.745082</td>\n",
       "      <td>-73.985037</td>\n",
       "      <td>40.735312</td>\n",
       "      <td>-73.987955</td>\n",
       "      <td>16.0</td>\n",
       "    </tr>\n",
       "    <tr>\n",
       "      <th>340293</th>\n",
       "      <td>0.0</td>\n",
       "      <td>19.0</td>\n",
       "      <td>40.721210</td>\n",
       "      <td>-74.008468</td>\n",
       "      <td>40.727780</td>\n",
       "      <td>-73.993192</td>\n",
       "      <td>9.0</td>\n",
       "    </tr>\n",
       "    <tr>\n",
       "      <th>1824941</th>\n",
       "      <td>3.0</td>\n",
       "      <td>18.0</td>\n",
       "      <td>40.819377</td>\n",
       "      <td>-73.951947</td>\n",
       "      <td>40.767631</td>\n",
       "      <td>-73.966563</td>\n",
       "      <td>22.0</td>\n",
       "    </tr>\n",
       "    <tr>\n",
       "      <th>1298476</th>\n",
       "      <td>2.0</td>\n",
       "      <td>18.0</td>\n",
       "      <td>40.800847</td>\n",
       "      <td>-73.967847</td>\n",
       "      <td>40.806457</td>\n",
       "      <td>-73.964812</td>\n",
       "      <td>3.0</td>\n",
       "    </tr>\n",
       "  </tbody>\n",
       "</table>\n",
       "</div>"
      ],
      "text/plain": [
       "         pickup_datetime_dayofweek  pickup_datetime_hour  pickup_latitude  \\\n",
       "2972051                        5.0                  20.0        40.759390   \n",
       "1357753                        2.0                  20.0        40.745082   \n",
       "340293                         0.0                  19.0        40.721210   \n",
       "1824941                        3.0                  18.0        40.819377   \n",
       "1298476                        2.0                  18.0        40.800847   \n",
       "\n",
       "         pickup_longitude  dropoff_latitude  dropoff_longitude  \\\n",
       "2972051        -73.970105         40.787357         -73.970247   \n",
       "1357753        -73.985037         40.735312         -73.987955   \n",
       "340293         -74.008468         40.727780         -73.993192   \n",
       "1824941        -73.951947         40.767631         -73.966563   \n",
       "1298476        -73.967847         40.806457         -73.964812   \n",
       "\n",
       "         trip_time_in_mins  \n",
       "2972051               11.0  \n",
       "1357753               16.0  \n",
       "340293                 9.0  \n",
       "1824941               22.0  \n",
       "1298476                3.0  "
      ]
     },
     "execution_count": 79,
     "metadata": {},
     "output_type": "execute_result"
    }
   ],
   "source": [
    "Xy_test.head()"
   ]
  },
  {
   "cell_type": "code",
   "execution_count": 80,
   "metadata": {
    "collapsed": true
   },
   "outputs": [],
   "source": [
    "Xy_test.to_csv('taxi_tree_test_Xy_20130506-12.csv')\n",
    "X_test.to_csv('taxi_tree_test_X_20130506-12.csv')\n",
    "y_test.to_csv('taxi_tree_test_y_20130506-12.csv')"
   ]
  },
  {
   "cell_type": "code",
   "execution_count": 81,
   "metadata": {
    "collapsed": true
   },
   "outputs": [],
   "source": [
    "# Xy_test_sample = Xy_test.sample(10000, random_state=99)"
   ]
  },
  {
   "cell_type": "code",
   "execution_count": 82,
   "metadata": {
    "collapsed": true
   },
   "outputs": [],
   "source": [
    "# Xy_test_sample.to_csv('taxi_tree_test_Xy_sample.csv')"
   ]
  },
  {
   "cell_type": "code",
   "execution_count": 83,
   "metadata": {
    "collapsed": false
   },
   "outputs": [],
   "source": [
    "# Xy_test_sample.head()"
   ]
  },
  {
   "cell_type": "code",
   "execution_count": 84,
   "metadata": {
    "collapsed": false
   },
   "outputs": [
    {
     "name": "stdout",
     "output_type": "stream",
     "text": [
      "(2939699, 6)\n",
      "17638194\n",
      "(326634, 6)\n",
      "(3266333, 6)\n",
      "3266333\n"
     ]
    }
   ],
   "source": [
    "print(X_train.shape)\n",
    "print(X_train.size)\n",
    "print(X_test.shape)\n",
    "print(X.shape)\n",
    "print(X_train.shape[0]+X_test.shape[0])"
   ]
  },
  {
   "cell_type": "code",
   "execution_count": 102,
   "metadata": {
    "collapsed": true
   },
   "outputs": [],
   "source": [
    "import time\n",
    "t = time.time()"
   ]
  },
  {
   "cell_type": "code",
   "execution_count": 103,
   "metadata": {
    "collapsed": false
   },
   "outputs": [
    {
     "name": "stdout",
     "output_type": "stream",
     "text": [
      "Automatically created module for IPython interactive environment\n"
     ]
    },
    {
     "data": {
      "text/plain": [
       "DecisionTreeRegressor(criterion='mse', max_depth=30, max_features=None,\n",
       "           max_leaf_nodes=None, min_samples_leaf=1, min_samples_split=3,\n",
       "           min_weight_fraction_leaf=0.0, presort=False, random_state=99,\n",
       "           splitter='best')"
      ]
     },
     "execution_count": 103,
     "metadata": {},
     "output_type": "execute_result"
    }
   ],
   "source": [
    "print(__doc__)\n",
    "\n",
    "# Import the necessary modules and libraries\n",
    "from sklearn.tree import DecisionTreeRegressor\n",
    "import numpy as np\n",
    "import matplotlib.pyplot as plt\n",
    "\n",
    "#features = ['pickup_latitude', 'pickup_longitude', 'dropoff_latitude', 'dropoff_longitude','pickup_datetime']\n",
    "#print(\"* features:\", features, sep=\"\\n\")\n",
    "\n",
    "\n",
    "regtree = DecisionTreeRegressor(min_samples_split=3, random_state=99, max_depth=30)# formerly 15. 15 is reasonable, \n",
    "# 30 brings best results\n",
    "                                                                                     # random states: 99\n",
    "regtree.fit(X_train, y_train)\n",
    "\n",
    "\n"
   ]
  },
  {
   "cell_type": "code",
   "execution_count": 104,
   "metadata": {
    "collapsed": false
   },
   "outputs": [
    {
     "name": "stdout",
     "output_type": "stream",
     "text": [
      "35.05194664001465\n"
     ]
    }
   ],
   "source": [
    "elapsed = time.time() - t\n",
    "print(elapsed)"
   ]
  },
  {
   "cell_type": "code",
   "execution_count": 105,
   "metadata": {
    "collapsed": false
   },
   "outputs": [
    {
     "data": {
      "text/plain": [
       "0.62772305011083662"
      ]
     },
     "execution_count": 105,
     "metadata": {},
     "output_type": "execute_result"
    }
   ],
   "source": [
    "regtree.score(X_test, y_test)"
   ]
  },
  {
   "cell_type": "code",
   "execution_count": 90,
   "metadata": {
    "collapsed": false
   },
   "outputs": [],
   "source": [
    "# do not export for depth = 30. It's too complex!\n",
    "from sklearn import tree\n",
    "tree.export_graphviz(regtree, out_file='figures/tree_d15.dot', feature_names=time_regression_df.ix[:,0:6].columns, class_names=time_regression_df.columns[6])    "
   ]
  },
  {
   "cell_type": "code",
   "execution_count": 149,
   "metadata": {
    "collapsed": false
   },
   "outputs": [
    {
     "name": "stdout",
     "output_type": "stream",
     "text": [
      "[ 4  6  5 ..., -2 -2 -2]\n",
      "[ 1  2  3 ..., -1 -1 -1]\n",
      "[15818 12497  6154 ...,    -1    -1    -1]\n"
     ]
    }
   ],
   "source": [
    "print(regtree.tree_.feature)\n",
    "print(regtree.tree_.children_left)\n",
    "print(regtree.tree_.children_right)"
   ]
  },
  {
   "cell_type": "markdown",
   "metadata": {},
   "source": [
    "Prepare a dictionary to look uop the features that are splitted in the nodes"
   ]
  },
  {
   "cell_type": "code",
   "execution_count": 150,
   "metadata": {
    "collapsed": false
   },
   "outputs": [
    {
     "name": "stdout",
     "output_type": "stream",
     "text": [
      "{0: 'pickup_datetime_day', 1: 'pickup_datetime_dayofweek', 2: 'pickup_datetime_hour', 3: 'pickup_latitude', 4: 'pickup_longitude', 5: 'dropoff_latitude', 6: 'dropoff_longitude'}\n"
     ]
    }
   ],
   "source": [
    "feature_dict = {}\n",
    "for i in range(0,7):\n",
    "    feature_dict[i] = time_regression_df.ix[:,i].name\n",
    "print(feature_dict)"
   ]
  },
  {
   "cell_type": "code",
   "execution_count": 97,
   "metadata": {
    "collapsed": false
   },
   "outputs": [],
   "source": [
    "feature_splits = list(regtree.tree_.feature)\n",
    "for i in range(0,len(regtree.tree_.feature)):\n",
    "    if feature_splits[i] >= 0:\n",
    "        feature_splits[i] = feature_dict[feature_splits[i]]"
   ]
  },
  {
   "cell_type": "code",
   "execution_count": 98,
   "metadata": {
    "collapsed": false
   },
   "outputs": [
    {
     "name": "stdout",
     "output_type": "stream",
     "text": [
      "['pickup_longitude', 'dropoff_longitude', 'dropoff_latitude', 'pickup_latitude', 'pickup_latitude', 'dropoff_longitude', 'pickup_longitude', 'dropoff_latitude', 'pickup_latitude', 'dropoff_latitude', -2, -2, 'dropoff_latitude', -2, -2, 'pickup_longitude', 'dropoff_longitude', -2, -2, 'pickup_latitude', -2, -2, 'dropoff_longitude', 'pickup_longitude', 'pickup_datetime_hour', -2, -2, 'pickup_datetime_day', -2, -2, 'dropoff_latitude', 'pickup_latitude', -2, -2, 'pickup_latitude', -2, -2, 'pickup_longitude', 'dropoff_longitude', 'dropoff_latitude', 'pickup_latitude', -2, -2, 'dropoff_longitude', -2, -2, 'dropoff_longitude', 'pickup_datetime_hour', -2, -2, 'pickup_datetime_hour', -2, -2, 'pickup_latitude', 'dropoff_longitude', 'pickup_latitude', -2, -2, 'pickup_longitude', -2, -2, 'dropoff_latitude', 'dropoff_latitude', -2, -2, 'dropoff_longitude', -2, -2, 'dropoff_latitude', 'dropoff_latitude', 'dropoff_longitude', 'pickup_datetime_hour', 'dropoff_latitude', -2, -2, 'dropoff_latitude', -2, -2, 'pickup_datetime_hour', 'dropoff_latitude', -2, -2, 'pickup_datetime_hour', -2, -2, 'dropoff_longitude', 'pickup_datetime_hour', 'dropoff_latitude', -2, -2, 'pickup_datetime_hour', -2, -2, 'pickup_longitude', 'pickup_datetime_hour', -2, -2, 'dropoff_latitude', -2, -2, 'dropoff_longitude', 'pickup_datetime_hour', 'dropoff_longitude', 'pickup_longitude', -2, -2, 'pickup_longitude', -2, -2, 'pickup_datetime_hour', 'pickup_datetime_day', -2, -2, 'dropoff_longitude', -2, -2, 'pickup_longitude', 'dropoff_longitude', 'pickup_longitude', -2, -2, 'dropoff_longitude', -2, -2, 'dropoff_longitude', 'pickup_longitude', -2, -2, -2, 'dropoff_latitude', 'pickup_latitude', 'dropoff_latitude', 'dropoff_longitude', 'pickup_datetime_hour', 'dropoff_latitude', -2, -2, 'pickup_datetime_hour', -2, -2, 'dropoff_longitude', 'pickup_datetime_hour', -2, -2, 'dropoff_longitude', -2, -2, 'dropoff_longitude', 'pickup_datetime_hour', 'dropoff_latitude', -2, -2, 'dropoff_latitude', -2, -2, 'pickup_datetime_hour', 'dropoff_longitude', -2, -2, 'pickup_datetime_hour', -2, -2, 'pickup_latitude', 'dropoff_latitude', 'dropoff_longitude', 'pickup_datetime_hour', -2, -2, 'pickup_datetime_hour', -2, -2, 'dropoff_longitude', 'pickup_datetime_hour', -2, -2, 'pickup_datetime_hour', -2, -2, 'dropoff_latitude', 'dropoff_latitude', -2, 'dropoff_longitude', -2, -2, 'pickup_latitude', 'dropoff_longitude', -2, -2, 'pickup_latitude', -2, -2, 'pickup_latitude', 'dropoff_longitude', 'pickup_datetime_hour', 'pickup_latitude', 'dropoff_latitude', -2, -2, 'pickup_longitude', -2, -2, 'pickup_datetime_hour', 'pickup_longitude', -2, -2, 'pickup_latitude', -2, -2, 'dropoff_longitude', 'pickup_latitude', 'pickup_datetime_hour', -2, -2, 'pickup_datetime_hour', -2, -2, 'pickup_longitude', 'pickup_datetime_hour', -2, -2, 'pickup_longitude', -2, -2, 'pickup_latitude', 'pickup_datetime_hour', 'dropoff_longitude', 'pickup_datetime_hour', -2, -2, 'pickup_longitude', -2, -2, 'pickup_datetime_hour', 'dropoff_longitude', -2, -2, 'dropoff_longitude', -2, -2, 'pickup_latitude', 'dropoff_longitude', 'pickup_datetime_hour', -2, -2, 'dropoff_latitude', -2, -2, 'dropoff_longitude', 'pickup_latitude', -2, -2, 'pickup_latitude', -2, -2, 'pickup_latitude', 'dropoff_latitude', 'pickup_latitude', 'dropoff_latitude', 'pickup_latitude', 'pickup_latitude', 'dropoff_longitude', -2, -2, 'pickup_longitude', -2, -2, 'dropoff_latitude', 'pickup_longitude', -2, -2, 'pickup_longitude', -2, -2, 'pickup_latitude', 'pickup_datetime_hour', 'pickup_latitude', -2, -2, 'pickup_datetime_hour', -2, -2, 'dropoff_latitude', 'dropoff_longitude', -2, -2, 'pickup_datetime_hour', -2, -2, 'dropoff_latitude', 'pickup_latitude', 'dropoff_latitude', 'dropoff_longitude', -2, -2, 'dropoff_longitude', -2, -2, 'dropoff_longitude', 'pickup_longitude', -2, -2, 'pickup_longitude', -2, -2, 'pickup_latitude', 'dropoff_longitude', 'pickup_longitude', -2, -2, 'pickup_datetime_hour', -2, -2, 'dropoff_longitude', 'pickup_longitude', -2, -2, 'pickup_longitude', -2, -2, 'dropoff_latitude', 'pickup_latitude', 'pickup_datetime_hour', 'dropoff_longitude', 'pickup_latitude', -2, -2, -2, 'pickup_latitude', 'pickup_longitude', -2, -2, 'pickup_latitude', -2, -2, 'dropoff_longitude', 'pickup_latitude', 'pickup_longitude', -2, -2, 'pickup_longitude', -2, -2, 'pickup_datetime_hour', 'pickup_longitude', -2, -2, 'pickup_datetime_hour', -2, -2, 'dropoff_latitude', 'pickup_datetime_hour', 'pickup_datetime_hour', 'pickup_latitude', -2, -2, 'pickup_datetime_day', -2, -2, 'pickup_latitude', 'pickup_datetime_dayofweek', -2, -2, 'pickup_datetime_dayofweek', -2, -2, 'dropoff_latitude', 'pickup_latitude', 'dropoff_latitude', -2, -2, 'dropoff_longitude', -2, -2, 'pickup_latitude', 'pickup_longitude', -2, -2, 'dropoff_latitude', -2, -2, 'dropoff_longitude', 'pickup_datetime_hour', 'dropoff_longitude', 'pickup_longitude', 'dropoff_latitude', 'pickup_latitude', -2, -2, 'pickup_latitude', -2, -2, 'dropoff_longitude', 'dropoff_longitude', -2, -2, 'pickup_longitude', -2, -2, 'pickup_longitude', 'dropoff_latitude', 'pickup_longitude', -2, -2, 'dropoff_latitude', -2, -2, 'pickup_longitude', 'dropoff_latitude', -2, -2, 'pickup_longitude', -2, -2, 'dropoff_latitude', 'pickup_latitude', 'pickup_latitude', 'dropoff_longitude', -2, -2, 'dropoff_longitude', -2, -2, 'pickup_latitude', 'dropoff_longitude', -2, -2, 'pickup_datetime_hour', -2, -2, 'pickup_datetime_hour', 'pickup_datetime_dayofweek', 'dropoff_latitude', -2, -2, 'pickup_datetime_hour', -2, -2, 'dropoff_latitude', 'pickup_latitude', -2, -2, 'pickup_latitude', -2, -2, 'pickup_longitude', 'pickup_longitude', 'dropoff_latitude', 'pickup_datetime_hour', 'dropoff_longitude', -2, -2, 'pickup_datetime_hour', -2, -2, 'dropoff_longitude', 'pickup_longitude', -2, -2, 'dropoff_latitude', -2, -2, 'dropoff_longitude', 'dropoff_latitude', 'pickup_longitude', -2, -2, 'pickup_longitude', -2, -2, 'dropoff_latitude', 'pickup_datetime_hour', -2, -2, 'pickup_longitude', -2, -2, 'pickup_longitude', 'dropoff_longitude', 'pickup_latitude', 'dropoff_latitude', -2, -2, 'dropoff_latitude', -2, -2, 'pickup_latitude', 'dropoff_latitude', -2, -2, 'dropoff_latitude', -2, -2, 'dropoff_longitude', 'dropoff_latitude', 'pickup_datetime_hour', -2, -2, 'pickup_latitude', -2, -2, 'pickup_longitude', 'pickup_latitude', -2, -2, 'pickup_datetime_hour', -2, -2, 'dropoff_longitude', 'pickup_longitude', 'pickup_longitude', 'pickup_longitude', 'pickup_datetime_day', 'dropoff_longitude', 'pickup_longitude', 'pickup_datetime_hour', -2, -2, 'pickup_datetime_dayofweek', -2, -2, 'pickup_longitude', 'pickup_datetime_hour', -2, -2, 'pickup_datetime_hour', -2, -2, 'pickup_datetime_dayofweek', 'pickup_datetime_hour', 'pickup_latitude', -2, -2, 'dropoff_latitude', -2, -2, 'dropoff_latitude', 'pickup_longitude', -2, -2, 'pickup_datetime_hour', -2, -2, 'pickup_datetime_hour', 'dropoff_latitude', 'dropoff_longitude', 'dropoff_latitude', -2, -2, 'pickup_longitude', -2, -2, 'pickup_longitude', 'dropoff_latitude', -2, -2, 'dropoff_longitude', -2, -2, 'pickup_datetime_hour', 'dropoff_longitude', 'pickup_datetime_dayofweek', -2, -2, 'dropoff_latitude', -2, -2, 'dropoff_longitude', 'pickup_datetime_hour', -2, -2, 'dropoff_latitude', -2, -2, 'pickup_datetime_hour', 'dropoff_longitude', 'pickup_latitude', 'dropoff_latitude', 'pickup_longitude', -2, -2, 'dropoff_latitude', -2, -2, 'dropoff_latitude', 'pickup_longitude', -2, -2, 'pickup_longitude', -2, -2, 'dropoff_latitude', 'pickup_latitude', 'pickup_longitude', -2, -2, 'dropoff_latitude', -2, -2, 'pickup_latitude', 'pickup_latitude', -2, -2, 'dropoff_longitude', -2, -2, 'pickup_datetime_hour', 'dropoff_longitude', 'pickup_longitude', 'pickup_datetime_dayofweek', -2, -2, 'pickup_datetime_hour', -2, -2, 'dropoff_latitude', 'pickup_latitude', -2, -2, 'pickup_latitude', -2, -2, 'dropoff_longitude', 'dropoff_latitude', 'dropoff_longitude', -2, -2, 'pickup_latitude', -2, -2, 'dropoff_latitude', 'pickup_datetime_hour', -2, -2, 'pickup_latitude', -2, -2, 'pickup_longitude', 'pickup_latitude', 'dropoff_longitude', 'dropoff_latitude', 'pickup_latitude', 'pickup_datetime_dayofweek', -2, -2, 'pickup_latitude', -2, -2, -2, 'dropoff_latitude', 'dropoff_longitude', 'dropoff_latitude', -2, -2, 'pickup_latitude', -2, -2, 'dropoff_longitude', 'pickup_datetime_hour', -2, -2, -2, 'dropoff_latitude', 'pickup_datetime_hour', 'pickup_datetime_hour', 'dropoff_longitude', -2, -2, 'dropoff_longitude', -2, -2, -2, 'pickup_latitude', 'pickup_latitude', 'pickup_latitude', -2, -2, 'pickup_datetime_dayofweek', -2, -2, 'pickup_datetime_hour', 'pickup_datetime_hour', -2, -2, 'dropoff_latitude', -2, -2, 'dropoff_longitude', 'pickup_longitude', 'pickup_latitude', 'pickup_longitude', 'dropoff_latitude', -2, -2, -2, 'dropoff_longitude', 'dropoff_latitude', -2, -2, 'pickup_longitude', -2, -2, 'dropoff_latitude', 'pickup_latitude', 'pickup_latitude', -2, -2, 'dropoff_longitude', -2, -2, 'pickup_longitude', 'dropoff_longitude', -2, -2, 'dropoff_latitude', -2, -2, 'dropoff_latitude', 'dropoff_longitude', 'pickup_longitude', 'pickup_longitude', -2, -2, 'dropoff_longitude', -2, -2, 'pickup_datetime_hour', -2, 'dropoff_latitude', -2, -2, -2, 'dropoff_latitude', 'pickup_datetime_hour', 'pickup_datetime_hour', 'dropoff_longitude', 'dropoff_longitude', 'dropoff_latitude', -2, 'pickup_datetime_day', -2, -2, -2, 'pickup_latitude', 'pickup_latitude', 'pickup_longitude', -2, -2, 'pickup_datetime_dayofweek', -2, -2, 'pickup_longitude', 'dropoff_longitude', -2, -2, 'pickup_longitude', -2, -2, 'pickup_longitude', 'pickup_longitude', 'pickup_latitude', 'pickup_datetime_dayofweek', -2, -2, -2, 'pickup_latitude', 'dropoff_longitude', -2, -2, 'dropoff_latitude', -2, -2, 'pickup_datetime_day', -2, -2, 'pickup_longitude', 'pickup_datetime_hour', 'pickup_datetime_day', 'pickup_datetime_hour', 'dropoff_longitude', -2, -2, 'pickup_latitude', -2, -2, 'pickup_datetime_dayofweek', 'pickup_datetime_hour', -2, -2, 'pickup_datetime_day', -2, -2, 'pickup_datetime_hour', 'pickup_datetime_dayofweek', 'pickup_datetime_day', -2, -2, 'pickup_longitude', -2, -2, 'pickup_latitude', 'dropoff_latitude', -2, -2, 'dropoff_longitude', -2, -2, 'pickup_longitude', 'pickup_datetime_hour', 'pickup_datetime_day', 'pickup_datetime_day', -2, -2, 'pickup_longitude', -2, -2, 'pickup_latitude', 'pickup_datetime_hour', -2, -2, 'dropoff_longitude', -2, -2, 'pickup_longitude', 'pickup_latitude', 'dropoff_longitude', -2, -2, 'dropoff_longitude', -2, -2, -2, 'pickup_longitude', 'pickup_longitude', 'pickup_datetime_hour', 'pickup_datetime_hour', 'pickup_latitude', -2, 'pickup_datetime_hour', -2, -2, 'dropoff_longitude', 'pickup_latitude', -2, -2, -2, 'dropoff_longitude', -2, 'dropoff_latitude', 'pickup_longitude', -2, -2, 'pickup_datetime_hour', -2, -2, 'pickup_datetime_hour', 'pickup_datetime_hour', 'dropoff_latitude', 'pickup_longitude', -2, -2, 'pickup_datetime_hour', -2, -2, 'pickup_datetime_hour', 'pickup_datetime_hour', -2, -2, 'pickup_longitude', -2, -2, 'dropoff_latitude', 'pickup_datetime_hour', 'dropoff_latitude', -2, -2, -2, 'dropoff_longitude', -2, 'dropoff_longitude', -2, -2, 'dropoff_latitude', 'pickup_latitude', -2, 'pickup_latitude', -2, -2, 'pickup_datetime_day', -2, 'pickup_datetime_dayofweek', -2, 'pickup_longitude', -2, -2, 'pickup_latitude', 'dropoff_longitude', 'pickup_datetime_hour', 'pickup_datetime_dayofweek', 'pickup_datetime_dayofweek', 'dropoff_longitude', 'pickup_datetime_hour', 'pickup_datetime_hour', 'pickup_datetime_hour', -2, -2, 'dropoff_latitude', -2, -2, 'dropoff_longitude', 'pickup_longitude', -2, -2, 'dropoff_longitude', -2, -2, 'dropoff_latitude', 'dropoff_longitude', 'pickup_datetime_day', -2, -2, 'pickup_longitude', -2, -2, 'pickup_longitude', 'dropoff_longitude', -2, -2, -2, 'dropoff_longitude', 'pickup_datetime_dayofweek', 'pickup_datetime_hour', 'pickup_datetime_hour', -2, -2, 'dropoff_latitude', -2, -2, 'pickup_datetime_hour', 'pickup_datetime_hour', -2, -2, 'dropoff_latitude', -2, -2, 'dropoff_latitude', 'dropoff_longitude', 'dropoff_latitude', -2, -2, 'dropoff_longitude', -2, -2, 'pickup_datetime_hour', 'dropoff_longitude', -2, -2, 'pickup_datetime_hour', -2, -2, 'pickup_datetime_hour', 'dropoff_latitude', -2, 'pickup_latitude', -2, 'pickup_datetime_dayofweek', 'pickup_longitude', -2, -2, 'dropoff_longitude', -2, -2, 'dropoff_longitude', 'dropoff_longitude', -2, 'dropoff_longitude', 'dropoff_latitude', -2, -2, -2, 'pickup_datetime_hour', 'pickup_longitude', 'dropoff_latitude', -2, -2, 'dropoff_latitude', -2, -2, 'pickup_datetime_hour', 'dropoff_latitude', -2, -2, 'pickup_longitude', -2, -2, 'pickup_datetime_hour', 'dropoff_longitude', 'dropoff_latitude', 'dropoff_longitude', 'dropoff_latitude', 'pickup_datetime_dayofweek', -2, -2, 'dropoff_latitude', -2, -2, 'pickup_latitude', 'dropoff_latitude', -2, -2, 'pickup_datetime_hour', -2, -2, 'dropoff_longitude', 'dropoff_latitude', 'pickup_datetime_hour', -2, -2, 'dropoff_longitude', -2, -2, 'pickup_datetime_day', 'dropoff_longitude', -2, -2, 'dropoff_latitude', -2, -2, 'dropoff_latitude', 'dropoff_longitude', 'dropoff_latitude', 'pickup_latitude', -2, -2, 'pickup_datetime_dayofweek', -2, -2, 'dropoff_latitude', 'dropoff_longitude', -2, -2, 'dropoff_longitude', -2, -2, 'dropoff_latitude', 'pickup_latitude', 'dropoff_latitude', -2, -2, 'dropoff_longitude', -2, -2, 'pickup_datetime_dayofweek', 'pickup_longitude', -2, -2, 'dropoff_latitude', -2, -2, 'pickup_datetime_day', 'pickup_datetime_hour', 'dropoff_longitude', 'pickup_longitude', 'dropoff_latitude', -2, -2, 'pickup_datetime_day', -2, -2, 'pickup_datetime_dayofweek', 'pickup_datetime_day', -2, -2, 'pickup_latitude', -2, -2, 'dropoff_latitude', 'pickup_latitude', -2, 'pickup_longitude', -2, -2, 'dropoff_longitude', 'pickup_datetime_hour', -2, -2, 'dropoff_longitude', -2, -2, 'dropoff_longitude', 'pickup_datetime_hour', 'dropoff_longitude', 'pickup_longitude', -2, -2, 'dropoff_latitude', -2, -2, -2, 'dropoff_latitude', 'dropoff_longitude', 'dropoff_latitude', -2, -2, 'dropoff_latitude', -2, -2, 'dropoff_longitude', 'dropoff_longitude', -2, -2, 'pickup_datetime_hour', -2, -2, 'dropoff_latitude', 'dropoff_longitude', 'pickup_longitude', -2, 'dropoff_longitude', 'pickup_datetime_hour', 'dropoff_longitude', 'pickup_longitude', -2, -2, 'pickup_longitude', -2, -2, 'pickup_datetime_hour', 'pickup_longitude', -2, -2, -2, 'dropoff_longitude', 'dropoff_longitude', 'pickup_latitude', -2, -2, 'dropoff_longitude', -2, -2, 'dropoff_latitude', 'pickup_longitude', -2, -2, 'dropoff_latitude', -2, -2, 'pickup_longitude', 'dropoff_longitude', -2, -2, 'pickup_longitude', 'dropoff_latitude', 'pickup_latitude', 'dropoff_latitude', -2, -2, 'dropoff_latitude', -2, -2, 'dropoff_latitude', 'pickup_longitude', -2, -2, 'dropoff_longitude', -2, -2, -2, 'dropoff_latitude', 'dropoff_latitude', -2, 'dropoff_latitude', 'pickup_datetime_hour', 'pickup_datetime_day', 'dropoff_longitude', -2, -2, 'pickup_longitude', -2, -2, 'pickup_longitude', -2, 'dropoff_latitude', -2, -2, 'pickup_latitude', 'pickup_datetime_hour', 'pickup_latitude', -2, -2, 'dropoff_longitude', -2, -2, -2, 'dropoff_latitude', 'pickup_datetime_hour', 'pickup_datetime_hour', 'dropoff_latitude', -2, 'dropoff_latitude', -2, -2, 'pickup_longitude', 'dropoff_latitude', -2, -2, 'pickup_longitude', -2, -2, 'dropoff_latitude', 'pickup_longitude', 'pickup_datetime_hour', -2, -2, 'pickup_longitude', -2, -2, 'pickup_longitude', 'pickup_datetime_hour', -2, -2, -2, 'pickup_longitude', -2, 'pickup_longitude', 'dropoff_latitude', 'pickup_latitude', -2, -2, -2, -2, 'dropoff_longitude', 'dropoff_longitude', 'pickup_datetime_hour', 'pickup_latitude', 'pickup_datetime_hour', 'dropoff_longitude', -2, 'pickup_latitude', -2, 'dropoff_latitude', -2, -2, 'dropoff_latitude', 'pickup_longitude', -2, 'pickup_latitude', -2, -2, 'pickup_datetime_day', 'dropoff_longitude', -2, -2, -2, 'pickup_datetime_day', 'pickup_datetime_hour', 'dropoff_longitude', 'dropoff_latitude', -2, -2, 'dropoff_latitude', -2, -2, 'dropoff_latitude', 'dropoff_longitude', -2, -2, 'dropoff_longitude', -2, -2, 'pickup_datetime_dayofweek', 'dropoff_longitude', 'pickup_latitude', -2, -2, 'dropoff_latitude', -2, -2, 'pickup_datetime_dayofweek', 'dropoff_longitude', -2, -2, 'dropoff_longitude', -2, -2, 'pickup_datetime_hour', 'pickup_latitude', 'pickup_latitude', 'pickup_latitude', 'pickup_datetime_day', -2, -2, 'pickup_longitude', -2, -2, 'dropoff_longitude', 'pickup_latitude', -2, -2, 'dropoff_latitude', -2, -2, 'dropoff_latitude', 'dropoff_latitude', 'dropoff_latitude', -2, -2, 'dropoff_longitude', -2, -2, 'dropoff_longitude', 'dropoff_latitude', -2, -2, 'pickup_datetime_dayofweek', -2, -2, 'dropoff_longitude', 'pickup_datetime_dayofweek', 'pickup_longitude', 'dropoff_latitude', -2, -2, 'pickup_datetime_dayofweek', -2, -2, 'pickup_longitude', 'pickup_datetime_hour', -2, -2, 'pickup_longitude', -2, -2, 'pickup_latitude', 'dropoff_latitude', 'pickup_latitude', -2, -2, 'pickup_latitude', -2, -2, 'dropoff_latitude', 'dropoff_latitude', -2, -2, 'pickup_datetime_hour', -2, -2, 'dropoff_latitude', 'dropoff_latitude', 'pickup_latitude', -2, 'pickup_datetime_hour', 'dropoff_latitude', 'dropoff_longitude', -2, -2, 'dropoff_longitude', -2, -2, 'pickup_longitude', 'dropoff_latitude', -2, -2, -2, 'pickup_datetime_day', 'pickup_longitude', 'pickup_datetime_hour', -2, 'pickup_datetime_hour', -2, -2, 'dropoff_latitude', 'pickup_datetime_day', -2, -2, 'dropoff_latitude', -2, -2, 'dropoff_longitude', 'pickup_latitude', 'dropoff_latitude', -2, -2, 'pickup_datetime_hour', -2, -2, 'dropoff_latitude', 'dropoff_latitude', -2, -2, 'pickup_datetime_hour', -2, -2, 'dropoff_longitude', 'pickup_datetime_hour', 'pickup_longitude', 'pickup_datetime_dayofweek', 'dropoff_latitude', -2, -2, 'pickup_datetime_hour', -2, -2, 'pickup_latitude', 'pickup_latitude', -2, -2, 'pickup_latitude', -2, -2, 'dropoff_longitude', -2, 'dropoff_longitude', -2, 'pickup_latitude', -2, -2, 'dropoff_latitude', 'dropoff_latitude', 'pickup_longitude', 'pickup_datetime_hour', -2, -2, 'pickup_datetime_hour', -2, -2, 'dropoff_latitude', 'pickup_longitude', -2, -2, 'pickup_longitude', -2, -2, 'pickup_latitude', 'pickup_datetime_hour', -2, -2, 'dropoff_longitude', 'pickup_longitude', -2, -2, 'pickup_datetime_hour', -2, -2, 'dropoff_latitude', 'pickup_latitude', 'pickup_longitude', 'dropoff_longitude', 'dropoff_longitude', -2, 'pickup_datetime_day', 'pickup_longitude', -2, -2, -2, 'dropoff_latitude', 'pickup_datetime_dayofweek', -2, 'pickup_latitude', -2, -2, 'dropoff_longitude', 'dropoff_longitude', -2, -2, 'pickup_latitude', -2, -2, 'dropoff_latitude', 'pickup_longitude', -2, -2, -2, 'dropoff_latitude', 'dropoff_latitude', 'dropoff_longitude', 'dropoff_longitude', 'dropoff_latitude', -2, -2, -2, 'pickup_latitude', 'dropoff_latitude', -2, -2, 'pickup_longitude', -2, -2, 'dropoff_longitude', 'pickup_datetime_hour', 'pickup_longitude', -2, -2, 'pickup_longitude', -2, -2, 'pickup_latitude', 'pickup_datetime_hour', -2, -2, 'pickup_latitude', -2, -2, 'pickup_datetime_hour', 'pickup_datetime_hour', 'pickup_datetime_dayofweek', 'dropoff_latitude', -2, -2, 'dropoff_longitude', -2, -2, 'pickup_latitude', 'dropoff_longitude', -2, -2, 'pickup_datetime_hour', -2, -2, 'pickup_datetime_hour', 'dropoff_longitude', 'pickup_longitude', -2, -2, 'pickup_latitude', -2, -2, 'pickup_datetime_day', -2, 'dropoff_longitude', -2, -2, 'pickup_datetime_hour', 'pickup_latitude', -2, 'dropoff_longitude', 'pickup_longitude', 'pickup_latitude', 'pickup_longitude', -2, -2, -2, 'pickup_longitude', 'dropoff_latitude', -2, -2, 'pickup_latitude', -2, -2, 'dropoff_longitude', 'pickup_latitude', -2, 'dropoff_latitude', -2, -2, -2, 'dropoff_latitude', 'pickup_latitude', 'pickup_longitude', -2, 'dropoff_latitude', 'pickup_datetime_hour', -2, -2, 'pickup_datetime_hour', -2, -2, 'dropoff_longitude', 'dropoff_latitude', 'pickup_latitude', -2, -2, 'pickup_longitude', -2, -2, 'pickup_latitude', 'pickup_latitude', -2, -2, 'dropoff_latitude', -2, -2, 'pickup_latitude', 'dropoff_latitude', 'pickup_datetime_hour', 'dropoff_longitude', -2, -2, -2, 'dropoff_longitude', 'pickup_longitude', -2, -2, 'pickup_latitude', -2, -2, 'pickup_longitude', 'pickup_datetime_hour', -2, -2, 'pickup_latitude', 'pickup_longitude', -2, -2, 'dropoff_latitude', -2, -2]\n",
      "[-73.88609314 -73.87641144  40.71151733 ...,  40.83932495  -2.          -2.        ]\n"
     ]
    }
   ],
   "source": [
    "print(feature_splits)\n",
    "print(regtree.tree_.threshold)"
   ]
  },
  {
   "cell_type": "code",
   "execution_count": 99,
   "metadata": {
    "collapsed": false
   },
   "outputs": [],
   "source": [
    "# from http://stackoverflow.com/questions/20224526/how-to-extract-the-decision-rules-from-scikit-learn-decision-tree\n",
    "def get_code(tree, feature_names):\n",
    "        left      = tree.tree_.children_left\n",
    "        right     = tree.tree_.children_right\n",
    "        threshold = tree.tree_.threshold\n",
    "        features  = [feature_names[i] for i in tree.tree_.feature]\n",
    "        value = tree.tree_.value\n",
    "\n",
    "        def recurse(left, right, threshold, features, node):\n",
    "                if (threshold[node] != -2):\n",
    "                        print( \"if ( \" + features[node] + \" <= \" + str(threshold[node]) + \" ) {\")\n",
    "                        if left[node] != -1:\n",
    "                                recurse (left, right, threshold, features,left[node])\n",
    "                        print( \"} else {\")\n",
    "                        if right[node] != -1:\n",
    "                                recurse (left, right, threshold, features,right[node])\n",
    "                        print( \"}\")\n",
    "                else:\n",
    "                        print( \"return \" + str(value[node]))\n",
    "\n",
    "        recurse(left, right, threshold, features, 0)"
   ]
  },
  {
   "cell_type": "code",
   "execution_count": 100,
   "metadata": {
    "collapsed": false
   },
   "outputs": [],
   "source": [
    "# from http://stackoverflow.com/questions/20224526/how-to-extract-the-decision-rules-from-scikit-learn-decision-tree\n",
    "def get_code_matrix(tree, feature_names):\n",
    "        decision_list = []\n",
    "        left      = tree.tree_.children_left\n",
    "        right     = tree.tree_.children_right\n",
    "        threshold = tree.tree_.threshold\n",
    "        features  = [feature_names[i] for i in tree.tree_.feature]\n",
    "        value = tree.tree_.value\n",
    "        #frame =  pd.DataFrame(np.nan, columns=['leaf_no', range(1,tree.tree_.max_depth), 'value'])\n",
    "\n",
    "        def recurse(left, right, threshold, features, node):\n",
    "                if (threshold[node] != -2):\n",
    "                        decision_list.append({str(features[node]):threshold[node]})\n",
    "                        if left[node] != -1:\n",
    "                                recurse (left, right, threshold, features,left[node])\n",
    "                        decision_list.append({'back': -1})\n",
    "                        if right[node] != -1:\n",
    "                                recurse (left, right, threshold, features,right[node])\n",
    "                        decision_list.append({'back': -1})\n",
    "                else:\n",
    "                        decision_list.append({'leaf_val':value[node][0][0]})\n",
    "\n",
    "        recurse(left, right, threshold, features, 0) # root node\n",
    "        return decision_list"
   ]
  },
  {
   "cell_type": "code",
   "execution_count": 101,
   "metadata": {
    "collapsed": false
   },
   "outputs": [],
   "source": [
    "a = get_code_matrix(regtree, feature_names=time_regression_df.ix[:,0:7].columns)"
   ]
  },
  {
   "cell_type": "code",
   "execution_count": 102,
   "metadata": {
    "collapsed": false
   },
   "outputs": [
    {
     "data": {
      "text/plain": [
       "[{'pickup_longitude': -73.886093139648438},\n",
       " {'dropoff_longitude': -73.876411437988281},\n",
       " {'dropoff_latitude': 40.711517333984375},\n",
       " {'pickup_latitude': 40.735557556152344},\n",
       " {'pickup_latitude': 40.721664428710938},\n",
       " {'dropoff_longitude': -73.984504699707031},\n",
       " {'pickup_longitude': -73.966636657714844},\n",
       " {'dropoff_latitude': 40.701427459716797},\n",
       " {'pickup_latitude': 40.703460693359375},\n",
       " {'dropoff_latitude': 40.652553558349609},\n",
       " {'leaf_val': 13.16988416988417},\n",
       " {'back': -1},\n",
       " {'leaf_val': 8.0531899219095333},\n",
       " {'back': -1},\n",
       " {'back': -1},\n",
       " {'dropoff_latitude': 40.679161071777344},\n",
       " {'leaf_val': 19.431952662721894},\n",
       " {'back': -1},\n",
       " {'leaf_val': 13.591245376078914},\n",
       " {'back': -1}]"
      ]
     },
     "execution_count": 102,
     "metadata": {},
     "output_type": "execute_result"
    }
   ],
   "source": [
    "a[0:20]"
   ]
  },
  {
   "cell_type": "code",
   "execution_count": 103,
   "metadata": {
    "collapsed": false
   },
   "outputs": [
    {
     "data": {
      "text/plain": [
       "3213"
      ]
     },
     "execution_count": 103,
     "metadata": {},
     "output_type": "execute_result"
    }
   ],
   "source": [
    "len(a)"
   ]
  },
  {
   "cell_type": "code",
   "execution_count": 104,
   "metadata": {
    "collapsed": false
   },
   "outputs": [
    {
     "data": {
      "text/plain": [
       "[{'pickup_longitude': -73.886093139648438},\n",
       " {'dropoff_longitude': -73.876411437988281},\n",
       " {'dropoff_latitude': 40.711517333984375},\n",
       " {'pickup_latitude': 40.735557556152344},\n",
       " {'pickup_latitude': 40.721664428710938},\n",
       " {'dropoff_longitude': -73.984504699707031},\n",
       " {'pickup_longitude': -73.966636657714844},\n",
       " {'dropoff_latitude': 40.701427459716797},\n",
       " {'pickup_latitude': 40.703460693359375},\n",
       " {'dropoff_latitude': 40.652553558349609},\n",
       " {'leaf_val': 13.16988416988417},\n",
       " {'back': -1},\n",
       " {'leaf_val': 8.0531899219095333},\n",
       " {'back': -1},\n",
       " {'back': -1},\n",
       " {'dropoff_latitude': 40.679161071777344},\n",
       " {'leaf_val': 19.431952662721894},\n",
       " {'back': -1},\n",
       " {'leaf_val': 13.591245376078914},\n",
       " {'back': -1}]"
      ]
     },
     "execution_count": 104,
     "metadata": {},
     "output_type": "execute_result"
    }
   ],
   "source": [
    "a[0:20]"
   ]
  },
  {
   "cell_type": "code",
   "execution_count": 105,
   "metadata": {
    "collapsed": false
   },
   "outputs": [],
   "source": [
    "decisions = np.ndarray(shape=(2**regtree.tree_.max_depth, 2*regtree.tree_.max_depth+2), dtype = '<U30')"
   ]
  },
  {
   "cell_type": "code",
   "execution_count": 106,
   "metadata": {
    "collapsed": false
   },
   "outputs": [],
   "source": [
    "m = 0\n",
    "n = 0\n",
    "for i in range(0,len(a)):\n",
    "    if (list(a[i].values()) != [-1]):\n",
    "        #print(n)\n",
    "        #print(i)\n",
    "        #print('if')\n",
    "        #print(list(a[i].keys()) == ['leaf_val'])\n",
    "        #print(decisions[m,n])\n",
    "        decisions[m,2*n] = list(a[i].keys())[0]\n",
    "        decisions[m,2*n+1] = list(a[i].values())[0]\n",
    "        n = n+1\n",
    "        #print(n)\n",
    "    if (list(a[i].keys()) == ['leaf_val']):\n",
    "        #print('elif')\n",
    "        m = m+1\n",
    "        #print(n)\n",
    "    elif(list(a[i].values()) == [-1]):\n",
    "        #print('else')\n",
    "        n = n-1\n",
    "    #print(n,m)"
   ]
  },
  {
   "cell_type": "code",
   "execution_count": 107,
   "metadata": {
    "collapsed": false
   },
   "outputs": [
    {
     "data": {
      "text/plain": [
       "array([['pickup_longitude', '-73.8860931396', 'dropoff_longitude', ...,\n",
       "        '40.6525535583', 'leaf_val', '13.1698841699'],\n",
       "       ['', '', '', ..., '', 'leaf_val', '8.05318992191'],\n",
       "       ['', '', '', ..., '40.6791610718', 'leaf_val', '19.4319526627'],\n",
       "       ..., \n",
       "       ['', '', '', ..., '', '', ''],\n",
       "       ['', '', '', ..., '', '', ''],\n",
       "       ['', '', '', ..., '', '', '']], \n",
       "      dtype='<U30')"
      ]
     },
     "execution_count": 107,
     "metadata": {},
     "output_type": "execute_result"
    }
   ],
   "source": [
    "decisions"
   ]
  },
  {
   "cell_type": "code",
   "execution_count": 108,
   "metadata": {
    "collapsed": false
   },
   "outputs": [],
   "source": [
    "np.savetxt('decisions.txt', decisions, fmt='%s', delimiter=',')"
   ]
  },
  {
   "cell_type": "markdown",
   "metadata": {},
   "source": [
    "# decisions.nonzero(): Try somehow to replace the 'None'-values with 'same' or something like that"
   ]
  },
  {
   "cell_type": "code",
   "execution_count": 109,
   "metadata": {
    "collapsed": false
   },
   "outputs": [
    {
     "data": {
      "text/plain": [
       "array([['pickup_longitude', '-73.8860931396', 'dropoff_longitude', ...,\n",
       "        '40.6525535583', 'leaf_val', '13.1698841699'],\n",
       "       ['', '', '', ..., '', 'leaf_val', '8.05318992191'],\n",
       "       ['', '', '', ..., '40.6791610718', 'leaf_val', '19.4319526627'],\n",
       "       ..., \n",
       "       ['', '', '', ..., '', '', ''],\n",
       "       ['', '', '', ..., '', '', ''],\n",
       "       ['', '', '', ..., '', '', '']], \n",
       "      dtype='<U30')"
      ]
     },
     "execution_count": 109,
     "metadata": {},
     "output_type": "execute_result"
    }
   ],
   "source": [
    "decisions"
   ]
  },
  {
   "cell_type": "code",
   "execution_count": 106,
   "metadata": {
    "collapsed": true
   },
   "outputs": [],
   "source": [
    "t = time.time()"
   ]
  },
  {
   "cell_type": "code",
   "execution_count": 107,
   "metadata": {
    "collapsed": false
   },
   "outputs": [
    {
     "data": {
      "text/plain": [
       "RandomForestRegressor(bootstrap=True, criterion='mse', max_depth=30,\n",
       "           max_features='auto', max_leaf_nodes=None, min_samples_leaf=1,\n",
       "           min_samples_split=3, min_weight_fraction_leaf=0.0,\n",
       "           n_estimators=20, n_jobs=6, oob_score=False, random_state=99,\n",
       "           verbose=0, warm_start=False)"
      ]
     },
     "execution_count": 107,
     "metadata": {},
     "output_type": "execute_result"
    }
   ],
   "source": [
    "from sklearn.ensemble import RandomForestRegressor\n",
    "\n",
    "rd_regtree = RandomForestRegressor(n_estimators=20,n_jobs=6,min_samples_split=3, random_state=99, max_depth=30) \n",
    "#total sum of diff: 1132\n",
    "#rd_regtree = RandomForestRegressor(n_estimators=40,n_jobs=-1,min_samples_split=3, random_state=99, max_depth=11)\n",
    "#total sum of diff: 1129\n",
    "rd_regtree.fit(X_train, y_train)"
   ]
  },
  {
   "cell_type": "code",
   "execution_count": 108,
   "metadata": {
    "collapsed": false
   },
   "outputs": [
    {
     "name": "stdout",
     "output_type": "stream",
     "text": [
      "132.25388717651367\n"
     ]
    }
   ],
   "source": [
    "elapsed_rd_regtree = time.time() - t\n",
    "print(elapsed_rd_regtree)"
   ]
  },
  {
   "cell_type": "code",
   "execution_count": 109,
   "metadata": {
    "collapsed": false
   },
   "outputs": [
    {
     "name": "stdout",
     "output_type": "stream",
     "text": [
      "0.781197297783\n"
     ]
    }
   ],
   "source": [
    "print(rd_regtree.score(X_test, y_test))"
   ]
  },
  {
   "cell_type": "code",
   "execution_count": 110,
   "metadata": {
    "collapsed": false
   },
   "outputs": [
    {
     "name": "stdout",
     "output_type": "stream",
     "text": [
      "Perzentile(%):  [1, 5, 10, 15, 25, 50, 75, 90, 95, 99] \n",
      " [-16.28910841  -8.          -5.10597508  -3.9375      -2.           0.13333333\n",
      "   2.1875       5.           7.97222222  16.        ]\n",
      "Absolute time deviation (in 1k):  1137.1543402\n"
     ]
    },
    {
     "data": {
      "text/plain": [
       "<matplotlib.text.Text at 0x7fd241945128>"
      ]
     },
     "execution_count": 110,
     "metadata": {},
     "output_type": "execute_result"
    },
    {
     "data": {
      "image/png": "[encoded data removed]",
      "text/plain": [
       "<matplotlib.figure.Figure at 0x7fd1cc843908>"
      ]
     },
     "metadata": {},
     "output_type": "display_data"
    }
   ],
   "source": [
    "y_pred = regtree.predict(X_test)\n",
    "np.linalg.norm(np.ceil(y_pred)-y_test)\n",
    "diff = (y_pred-y_test)\n",
    "# plt.figure(figsize=(12,10)) # not needed. set values globally\n",
    "plt.hist(diff.values, bins=40)\n",
    "print('Perzentile(%): ', [1,5,10,15,25,50,75,90,95,99], '\\n', np.percentile(diff.values, [1,5,10,15,25,50,75,90,95,99]))\n",
    "print('Absolute time deviation (in 1k): ', sum(abs(diff))/1000)\n",
    "plt.title('Simple Decision Tree Regressor')\n",
    "plt.xlabel('deviation in minutes')\n",
    "plt.ylabel('frequency')"
   ]
  },
  {
   "cell_type": "code",
   "execution_count": 111,
   "metadata": {
    "collapsed": false
   },
   "outputs": [
    {
     "data": {
      "text/plain": [
       "['treelib/regtree_depth_30_PY27.pkl',\n",
       " 'treelib/regtree_depth_30_PY27.pkl_01.npy',\n",
       " 'treelib/regtree_depth_30_PY27.pkl_02.npy',\n",
       " 'treelib/regtree_depth_30_PY27.pkl_03.npy']"
      ]
     },
     "execution_count": 111,
     "metadata": {},
     "output_type": "execute_result"
    }
   ],
   "source": [
    "from sklearn.externals import joblib\n",
    "joblib.dump(regtree, 'treelib/regtree_depth_30_PY27.pkl', protocol=2) "
   ]
  },
  {
   "cell_type": "code",
   "execution_count": 112,
   "metadata": {
    "collapsed": false
   },
   "outputs": [
    {
     "data": {
      "text/plain": [
       "30"
      ]
     },
     "execution_count": 112,
     "metadata": {},
     "output_type": "execute_result"
    }
   ],
   "source": [
    "regtree.tree_.max_depth"
   ]
  },
  {
   "cell_type": "code",
   "execution_count": 113,
   "metadata": {
    "collapsed": false
   },
   "outputs": [
    {
     "name": "stdout",
     "output_type": "stream",
     "text": [
      "Perzentile(%):  [1, 5, 10, 15, 25, 50, 75, 90, 95, 99] \n",
      " [-14.01453106  -6.6752769   -4.14994509  -2.85833333  -1.41638855\n",
      "   0.49666667   2.09583333   3.8125       5.25416667   9.665     ]\n",
      "Absolute time deviation (in 1k):  889.788218541\n"
     ]
    },
    {
     "data": {
      "text/plain": [
       "<matplotlib.text.Text at 0x7fd24129b400>"
      ]
     },
     "execution_count": 113,
     "metadata": {},
     "output_type": "execute_result"
    },
    {
     "data": {
      "image/png": "[encoded data removed]",
      "text/plain": [
       "<matplotlib.figure.Figure at 0x7fd241c52668>"
      ]
     },
     "metadata": {},
     "output_type": "display_data"
    }
   ],
   "source": [
    "percentiles = [1,5,10,15,25,50,75,90,95,99]\n",
    "y_pred = rd_regtree.predict(X_test)\n",
    "np.linalg.norm(y_pred-y_test)\n",
    "diff = (y_pred-y_test)\n",
    "#plt.figure(figsize=(12,10))\n",
    "plt.hist(diff.values, bins=40)\n",
    "print('Perzentile(%): ', percentiles , '\\n', np.percentile(diff.values, percentiles))\n",
    "print('Absolute time deviation (in 1k): ', sum(abs(diff))/1000)\n",
    "plt.title('Random Forest Regressor: 20 trees')\n",
    "plt.xlabel('deviation in minutes')\n",
    "plt.ylabel('frequency')"
   ]
  },
  {
   "cell_type": "code",
   "execution_count": 114,
   "metadata": {
    "collapsed": false
   },
   "outputs": [
    {
     "data": {
      "text/plain": [
       "['randforlib/regtree_20x_depth_30_PY27.pkl.pkl',\n",
       " 'randforlib/regtree_20x_depth_30_PY27.pkl.pkl_01.npy',\n",
       " 'randforlib/regtree_20x_depth_30_PY27.pkl.pkl_02.npy',\n",
       " 'randforlib/regtree_20x_depth_30_PY27.pkl.pkl_03.npy',\n",
       " 'randforlib/regtree_20x_depth_30_PY27.pkl.pkl_04.npy',\n",
       " 'randforlib/regtree_20x_depth_30_PY27.pkl.pkl_05.npy',\n",
       " 'randforlib/regtree_20x_depth_30_PY27.pkl.pkl_06.npy',\n",
       " 'randforlib/regtree_20x_depth_30_PY27.pkl.pkl_07.npy',\n",
       " 'randforlib/regtree_20x_depth_30_PY27.pkl.pkl_08.npy',\n",
       " 'randforlib/regtree_20x_depth_30_PY27.pkl.pkl_09.npy',\n",
       " 'randforlib/regtree_20x_depth_30_PY27.pkl.pkl_10.npy',\n",
       " 'randforlib/regtree_20x_depth_30_PY27.pkl.pkl_11.npy',\n",
       " 'randforlib/regtree_20x_depth_30_PY27.pkl.pkl_12.npy',\n",
       " 'randforlib/regtree_20x_depth_30_PY27.pkl.pkl_13.npy',\n",
       " 'randforlib/regtree_20x_depth_30_PY27.pkl.pkl_14.npy',\n",
       " 'randforlib/regtree_20x_depth_30_PY27.pkl.pkl_15.npy',\n",
       " 'randforlib/regtree_20x_depth_30_PY27.pkl.pkl_16.npy',\n",
       " 'randforlib/regtree_20x_depth_30_PY27.pkl.pkl_17.npy',\n",
       " 'randforlib/regtree_20x_depth_30_PY27.pkl.pkl_18.npy',\n",
       " 'randforlib/regtree_20x_depth_30_PY27.pkl.pkl_19.npy',\n",
       " 'randforlib/regtree_20x_depth_30_PY27.pkl.pkl_20.npy',\n",
       " 'randforlib/regtree_20x_depth_30_PY27.pkl.pkl_21.npy',\n",
       " 'randforlib/regtree_20x_depth_30_PY27.pkl.pkl_22.npy',\n",
       " 'randforlib/regtree_20x_depth_30_PY27.pkl.pkl_23.npy',\n",
       " 'randforlib/regtree_20x_depth_30_PY27.pkl.pkl_24.npy',\n",
       " 'randforlib/regtree_20x_depth_30_PY27.pkl.pkl_25.npy',\n",
       " 'randforlib/regtree_20x_depth_30_PY27.pkl.pkl_26.npy',\n",
       " 'randforlib/regtree_20x_depth_30_PY27.pkl.pkl_27.npy',\n",
       " 'randforlib/regtree_20x_depth_30_PY27.pkl.pkl_28.npy',\n",
       " 'randforlib/regtree_20x_depth_30_PY27.pkl.pkl_29.npy',\n",
       " 'randforlib/regtree_20x_depth_30_PY27.pkl.pkl_30.npy',\n",
       " 'randforlib/regtree_20x_depth_30_PY27.pkl.pkl_31.npy',\n",
       " 'randforlib/regtree_20x_depth_30_PY27.pkl.pkl_32.npy',\n",
       " 'randforlib/regtree_20x_depth_30_PY27.pkl.pkl_33.npy',\n",
       " 'randforlib/regtree_20x_depth_30_PY27.pkl.pkl_34.npy',\n",
       " 'randforlib/regtree_20x_depth_30_PY27.pkl.pkl_35.npy',\n",
       " 'randforlib/regtree_20x_depth_30_PY27.pkl.pkl_36.npy',\n",
       " 'randforlib/regtree_20x_depth_30_PY27.pkl.pkl_37.npy',\n",
       " 'randforlib/regtree_20x_depth_30_PY27.pkl.pkl_38.npy',\n",
       " 'randforlib/regtree_20x_depth_30_PY27.pkl.pkl_39.npy',\n",
       " 'randforlib/regtree_20x_depth_30_PY27.pkl.pkl_40.npy',\n",
       " 'randforlib/regtree_20x_depth_30_PY27.pkl.pkl_41.npy',\n",
       " 'randforlib/regtree_20x_depth_30_PY27.pkl.pkl_42.npy',\n",
       " 'randforlib/regtree_20x_depth_30_PY27.pkl.pkl_43.npy',\n",
       " 'randforlib/regtree_20x_depth_30_PY27.pkl.pkl_44.npy',\n",
       " 'randforlib/regtree_20x_depth_30_PY27.pkl.pkl_45.npy',\n",
       " 'randforlib/regtree_20x_depth_30_PY27.pkl.pkl_46.npy',\n",
       " 'randforlib/regtree_20x_depth_30_PY27.pkl.pkl_47.npy',\n",
       " 'randforlib/regtree_20x_depth_30_PY27.pkl.pkl_48.npy',\n",
       " 'randforlib/regtree_20x_depth_30_PY27.pkl.pkl_49.npy',\n",
       " 'randforlib/regtree_20x_depth_30_PY27.pkl.pkl_50.npy',\n",
       " 'randforlib/regtree_20x_depth_30_PY27.pkl.pkl_51.npy',\n",
       " 'randforlib/regtree_20x_depth_30_PY27.pkl.pkl_52.npy',\n",
       " 'randforlib/regtree_20x_depth_30_PY27.pkl.pkl_53.npy',\n",
       " 'randforlib/regtree_20x_depth_30_PY27.pkl.pkl_54.npy',\n",
       " 'randforlib/regtree_20x_depth_30_PY27.pkl.pkl_55.npy',\n",
       " 'randforlib/regtree_20x_depth_30_PY27.pkl.pkl_56.npy',\n",
       " 'randforlib/regtree_20x_depth_30_PY27.pkl.pkl_57.npy',\n",
       " 'randforlib/regtree_20x_depth_30_PY27.pkl.pkl_58.npy',\n",
       " 'randforlib/regtree_20x_depth_30_PY27.pkl.pkl_59.npy',\n",
       " 'randforlib/regtree_20x_depth_30_PY27.pkl.pkl_60.npy']"
      ]
     },
     "execution_count": 114,
     "metadata": {},
     "output_type": "execute_result"
    }
   ],
   "source": [
    "from sklearn.externals import joblib\n",
    "joblib.dump(rd_regtree, 'randforlib/regtree_20x_depth_30_PY27.pkl.pkl', protocol=2)"
   ]
  },
  {
   "cell_type": "code",
   "execution_count": 115,
   "metadata": {
    "collapsed": false
   },
   "outputs": [
    {
     "name": "stdout",
     "output_type": "stream",
     "text": [
      "  adding: regtree_20x_depth_30_PY27.pkl.pkl (deflated 73%)\n",
      "  adding: regtree_20x_depth_30_PY27.pkl.pkl_01.npy (deflated 19%)\n",
      "  adding: regtree_20x_depth_30_PY27.pkl.pkl_02.npy (deflated 81%)\n",
      "  adding: regtree_20x_depth_30_PY27.pkl.pkl_03.npy (deflated 70%)\n",
      "  adding: regtree_20x_depth_30_PY27.pkl.pkl_04.npy (deflated 19%)\n",
      "  adding: regtree_20x_depth_30_PY27.pkl.pkl_05.npy (deflated 81%)\n",
      "  adding: regtree_20x_depth_30_PY27.pkl.pkl_06.npy (deflated 70%)\n",
      "  adding: regtree_20x_depth_30_PY27.pkl.pkl_07.npy (deflated 19%)\n",
      "  adding: regtree_20x_depth_30_PY27.pkl.pkl_08.npy (deflated 81%)\n",
      "  adding: regtree_20x_depth_30_PY27.pkl.pkl_09.npy (deflated 70%)\n",
      "  adding: regtree_20x_depth_30_PY27.pkl.pkl_10.npy (deflated 19%)\n",
      "  adding: regtree_20x_depth_30_PY27.pkl.pkl_11.npy (deflated 81%)\n",
      "  adding: regtree_20x_depth_30_PY27.pkl.pkl_12.npy (deflated 70%)\n",
      "  adding: regtree_20x_depth_30_PY27.pkl.pkl_13.npy (deflated 19%)\n",
      "  adding: regtree_20x_depth_30_PY27.pkl.pkl_14.npy (deflated 81%)\n",
      "  adding: regtree_20x_depth_30_PY27.pkl.pkl_15.npy (deflated 70%)\n",
      "  adding: regtree_20x_depth_30_PY27.pkl.pkl_16.npy (deflated 19%)\n",
      "  adding: regtree_20x_depth_30_PY27.pkl.pkl_17.npy (deflated 81%)\n",
      "  adding: regtree_20x_depth_30_PY27.pkl.pkl_18.npy (deflated 70%)\n",
      "  adding: regtree_20x_depth_30_PY27.pkl.pkl_19.npy (deflated 19%)\n",
      "  adding: regtree_20x_depth_30_PY27.pkl.pkl_20.npy (deflated 81%)\n",
      "  adding: regtree_20x_depth_30_PY27.pkl.pkl_21.npy (deflated 70%)\n",
      "  adding: regtree_20x_depth_30_PY27.pkl.pkl_22.npy (deflated 19%)\n",
      "  adding: regtree_20x_depth_30_PY27.pkl.pkl_23.npy (deflated 81%)\n",
      "  adding: regtree_20x_depth_30_PY27.pkl.pkl_24.npy (deflated 70%)\n",
      "  adding: regtree_20x_depth_30_PY27.pkl.pkl_25.npy (deflated 19%)\n",
      "  adding: regtree_20x_depth_30_PY27.pkl.pkl_26.npy (deflated 81%)\n",
      "  adding: regtree_20x_depth_30_PY27.pkl.pkl_27.npy (deflated 70%)\n",
      "  adding: regtree_20x_depth_30_PY27.pkl.pkl_28.npy (deflated 19%)\n",
      "  adding: regtree_20x_depth_30_PY27.pkl.pkl_29.npy (deflated 81%)\n",
      "  adding: regtree_20x_depth_30_PY27.pkl.pkl_30.npy (deflated 70%)\n",
      "  adding: regtree_20x_depth_30_PY27.pkl.pkl_31.npy (deflated 19%)\n",
      "  adding: regtree_20x_depth_30_PY27.pkl.pkl_32.npy (deflated 81%)\n",
      "  adding: regtree_20x_depth_30_PY27.pkl.pkl_33.npy (deflated 70%)\n",
      "  adding: regtree_20x_depth_30_PY27.pkl.pkl_34.npy (deflated 19%)\n",
      "  adding: regtree_20x_depth_30_PY27.pkl.pkl_35.npy (deflated 81%)\n",
      "  adding: regtree_20x_depth_30_PY27.pkl.pkl_36.npy (deflated 70%)\n",
      "  adding: regtree_20x_depth_30_PY27.pkl.pkl_37.npy (deflated 19%)\n",
      "  adding: regtree_20x_depth_30_PY27.pkl.pkl_38.npy (deflated 81%)\n",
      "  adding: regtree_20x_depth_30_PY27.pkl.pkl_39.npy (deflated 70%)\n",
      "  adding: regtree_20x_depth_30_PY27.pkl.pkl_40.npy (deflated 19%)\n",
      "  adding: regtree_20x_depth_30_PY27.pkl.pkl_41.npy (deflated 81%)\n",
      "  adding: regtree_20x_depth_30_PY27.pkl.pkl_42.npy (deflated 70%)\n",
      "  adding: regtree_20x_depth_30_PY27.pkl.pkl_43.npy (deflated 19%)\n",
      "  adding: regtree_20x_depth_30_PY27.pkl.pkl_44.npy (deflated 81%)\n",
      "  adding: regtree_20x_depth_30_PY27.pkl.pkl_45.npy (deflated 70%)\n",
      "  adding: regtree_20x_depth_30_PY27.pkl.pkl_46.npy (deflated 19%)\n",
      "  adding: regtree_20x_depth_30_PY27.pkl.pkl_47.npy (deflated 81%)\n",
      "  adding: regtree_20x_depth_30_PY27.pkl.pkl_48.npy (deflated 70%)\n",
      "  adding: regtree_20x_depth_30_PY27.pkl.pkl_49.npy (deflated 19%)\n",
      "  adding: regtree_20x_depth_30_PY27.pkl.pkl_50.npy (deflated 81%)\n",
      "  adding: regtree_20x_depth_30_PY27.pkl.pkl_51.npy (deflated 70%)\n",
      "  adding: regtree_20x_depth_30_PY27.pkl.pkl_52.npy (deflated 19%)\n",
      "  adding: regtree_20x_depth_30_PY27.pkl.pkl_53.npy (deflated 81%)\n",
      "  adding: regtree_20x_depth_30_PY27.pkl.pkl_54.npy (deflated 70%)\n",
      "  adding: regtree_20x_depth_30_PY27.pkl.pkl_55.npy (deflated 19%)\n",
      "  adding: regtree_20x_depth_30_PY27.pkl.pkl_56.npy (deflated 81%)\n",
      "  adding: regtree_20x_depth_30_PY27.pkl.pkl_57.npy (deflated 70%)\n",
      "  adding: regtree_20x_depth_30_PY27.pkl.pkl_58.npy (deflated 19%)\n",
      "  adding: regtree_20x_depth_30_PY27.pkl.pkl_59.npy (deflated 81%)\n",
      "  adding: regtree_20x_depth_30_PY27.pkl.pkl_60.npy (deflated 70%)\n"
     ]
    }
   ],
   "source": [
    "! cd randforlib && zip regtree_20x_depth_30.zip regtree_20x_depth_30_PY27.pkl.pkl*"
   ]
  },
  {
   "cell_type": "markdown",
   "metadata": {},
   "source": [
    "## Read as follows: Split # x results in the children_left[x] and children_right[x], etc. Means: go to the left, and then step by step to the right..."
   ]
  },
  {
   "cell_type": "code",
   "execution_count": 130,
   "metadata": {
    "collapsed": false
   },
   "outputs": [
    {
     "name": "stdout",
     "output_type": "stream",
     "text": [
      "cleft: [   1    2    3 ..., 1605   -1   -1]\n",
      "\n",
      " cright: [ 894  507  254 ..., 1606   -1   -1]\n",
      "\n",
      " [ 4  6  5 ...,  5 -2 -2] \n",
      "\n",
      " [-73.88609314 -73.87641144  40.71151733 ...,  40.83932495  -2.          -2.        ] \n",
      "\n",
      "\n"
     ]
    }
   ],
   "source": [
    "print('cleft: ' + str(regtree.tree_.children_left) + '\\n\\n', #array of left children\n",
    "      'cright: ' + str(regtree.tree_.children_right) + '\\n\\n', #array of right children\n",
    "    regtree.tree_.feature, '\\n\\n',#array of nodes splitting feature\n",
    "    regtree.tree_.threshold, '\\n\\n', #array of nodes splitting points\n",
    "    #regtree.tree_.value\n",
    "     ) #array of nodes values"
   ]
  },
  {
   "cell_type": "markdown",
   "metadata": {
    "collapsed": false
   },
   "source": [
    "numpy.ndarray(regtree.tree_.children_left #array of left children\n",
    "regtree.tree_.children_right #array of right children\n",
    "regtree.tree_.feature #array of nodes splitting feature\n",
    "regtree.tree_.threshold #array of nodes splitting points\n",
    "regtree.tree_.value #array of nodes values"
   ]
  },
  {
   "cell_type": "markdown",
   "metadata": {},
   "source": [
    "## Finding leaves:"
   ]
  },
  {
   "cell_type": "code",
   "execution_count": 131,
   "metadata": {
    "collapsed": false
   },
   "outputs": [
    {
     "name": "stdout",
     "output_type": "stream",
     "text": [
      "[0 0 0 ..., 0 1 1]\n"
     ]
    }
   ],
   "source": [
    "leaves = regtree.tree_.children_left*regtree.tree_.children_right\n",
    "for idx, a in enumerate(leaves):\n",
    "    if a==1:\n",
    "        x=1# do nothing\n",
    "    else:\n",
    "        leaves[idx] = 0\n",
    "print(leaves)"
   ]
  },
  {
   "cell_type": "markdown",
   "metadata": {},
   "source": [
    "## Now we've found the leaves"
   ]
  },
  {
   "cell_type": "code",
   "execution_count": 132,
   "metadata": {
    "collapsed": false
   },
   "outputs": [
    {
     "data": {
      "text/plain": [
       "array([ 0.00201552,  0.02067813,  0.05331978,  0.17284459,  0.30449187,\n",
       "        0.13772981,  0.3089203 ])"
      ]
     },
     "execution_count": 132,
     "metadata": {},
     "output_type": "execute_result"
    }
   ],
   "source": [
    "regtree.tree_.compute_feature_importances()"
   ]
  },
  {
   "cell_type": "markdown",
   "metadata": {},
   "source": [
    "# Seems that the first 3 features are quite irrelevant right now..."
   ]
  },
  {
   "cell_type": "code",
   "execution_count": 133,
   "metadata": {
    "collapsed": false
   },
   "outputs": [],
   "source": [
    "splits = regtree.tree_.threshold"
   ]
  },
  {
   "cell_type": "code",
   "execution_count": 134,
   "metadata": {
    "collapsed": false
   },
   "outputs": [
    {
     "name": "stdout",
     "output_type": "stream",
     "text": [
      "[  7.5  10.5   5.5   5.5   7.5   9.5  20.5   9.5  17.5   6.5   7.5  17.5\n",
      "  10.5   6.5  17.5   6.5   7.5   6.5  17.5   6.5   5.5   7.5   6.5   6.5\n",
      "  17.5  10.5   7.5   7.5   7.5   6.5  19.5   6.5   6.5  17.5   7.5   6.5\n",
      "   6.5   6.5  18.5  18.5   6.5  10.5   5.5   5.5   7.5  19.5  18.5   4.5\n",
      "  11.5   6.5  17.5   6.5   9.5   7.5   8.5   9.5   0.5  19.   14.5   4.5\n",
      "  17.5   9.5   6.5  17.5   2.5  20.5   6.5  18.5   3.5  14.5  20.5   4.5\n",
      "  14.   20.    9.5   2.5  17.5  15.5  11.   13.5  12.5   8.5   2.    1.5\n",
      "  10.5  16.5   6.5  14.5   4.5  14.5  11.5  17.5   4.5   7.5  17.5  10.5\n",
      "   7.5  19.   17.   13.5   8.5  18.5  19.5  12.5   8.5  15.5  14.5  22.5\n",
      "   7.5   3.5  13.5   4.5   1.5   9.5   6.5   3.5   6.5   3.5   8.5   6.5\n",
      "   9.5   8.5   6.5   7.5   0.5   5.5   8.5  10.5  17.5   3.5  16.5  14.5\n",
      "  11.5   3.5   2.5  11.5  18.5  10.5   4.5   6.5  19.5  22.5  19.5  15.5\n",
      "  21.   13.5   7.5  13.5  13.5   6.5  14.5  17.5  12.5   5.   10.5   7.5\n",
      "  10.5   3.5   4.5  18.5   7.5   4.5   5.5   3.   21.5  19.5  18.5  10.5\n",
      "   4.5  11.5   9.5  14.   21.5  18.5   4.5  12.5  12.5   6.   12.   17.5\n",
      "  11.5   1.5  16.5   3.5   6.5   2.5   4.    5.5  20.5   7.5   7.5  19.5\n",
      "  10.   22.5  17.5]\n"
     ]
    },
    {
     "data": {
      "text/plain": [
       "(array([ 10.,  21.,  36.,  27.,  22.,  18.,  12.,  20.,  19.,  10.]),\n",
       " array([  0.5,   2.7,   4.9,   7.1,   9.3,  11.5,  13.7,  15.9,  18.1,\n",
       "         20.3,  22.5]),\n",
       " <a list of 10 Patch objects>)"
      ]
     },
     "execution_count": 134,
     "metadata": {},
     "output_type": "execute_result"
    },
    {
     "data": {
      "image/png": "[encoded data removed]",
      "text/plain": [
       "<matplotlib.figure.Figure at 0x7fc2783a5dd8>"
      ]
     },
     "metadata": {},
     "output_type": "display_data"
    }
   ],
   "source": [
    "time_splits = splits[(splits>=0) & (splits<=24)]\n",
    "print(time_splits)\n",
    "plt.hist(time_splits)"
   ]
  },
  {
   "cell_type": "markdown",
   "metadata": {},
   "source": [
    "# Where are splits in the hour?"
   ]
  },
  {
   "cell_type": "markdown",
   "metadata": {},
   "source": [
    "# Filter the splits in longitudinal and latitudinal data"
   ]
  },
  {
   "cell_type": "code",
   "execution_count": 135,
   "metadata": {
    "collapsed": false
   },
   "outputs": [],
   "source": [
    "long_splits = splits[(splits>=-75) & (splits<=-70)]\n",
    "lat_splits = splits[(splits>=40) & (splits<=41)]"
   ]
  },
  {
   "cell_type": "markdown",
   "metadata": {},
   "source": [
    "# <font color = 'red'> The MSE of each node is stored in the 'impurity'-property. </font color>"
   ]
  },
  {
   "cell_type": "code",
   "execution_count": 136,
   "metadata": {
    "collapsed": false
   },
   "outputs": [],
   "source": [
    "#np.multiply(regtree.tree_.value, 1/ regtree.tree_.n_node_samples).size\n",
    "avg_time_dev = regtree.tree_.impurity.T  * leaves\n",
    "#avg_time_dev = (np.array(regtree.tree_.value)/np.array(regtree.tree_.n_node_samples)) *np.array(leaves)\n",
    "avg_time_dev = avg_time_dev[avg_time_dev!=0]"
   ]
  },
  {
   "cell_type": "code",
   "execution_count": 137,
   "metadata": {
    "collapsed": false
   },
   "outputs": [
    {
     "data": {
      "text/plain": [
       "array([  2.98089772e+01,   2.39769852e+01,   3.13388607e+01,\n",
       "         2.25332896e+01,   2.22804048e+01,   2.99869810e+01,\n",
       "         3.83369750e+01,   2.07098672e+01,   2.49863999e+01,\n",
       "         3.77843762e+01,   3.68750000e+00,   1.60710059e+01,\n",
       "         1.53722751e+01,   2.27125283e+01,   2.16740895e+01,\n",
       "         1.81328277e+01,   2.32361592e+01,   2.88596873e+01,\n",
       "         2.24318451e+01,   3.06682575e+01,   4.13069070e+01,\n",
       "         4.40175256e+01,   2.16962707e+01,   5.83257618e+01,\n",
       "         2.71539050e+01,   3.55195072e+01,   3.75072676e+01,\n",
       "         3.25642177e+01,   2.99232070e+01,   2.76129658e+01,\n",
       "         1.57879788e+01,   4.18594231e+01,   4.21534048e+01,\n",
       "         2.20587055e+01,   3.48223561e+01,   3.56734211e+01,\n",
       "         3.61657643e+01,   2.69355102e+01,   9.62162162e+01,\n",
       "         6.51634349e+01,   2.21484900e+01,   2.22534582e+01,\n",
       "         4.93639922e+01,   2.61742245e+01,   3.18070081e+01,\n",
       "         5.54020911e+01,   1.63907765e+01,   1.34724911e+01,\n",
       "         1.03401265e+01,   1.50102065e+01,   2.13562287e+01,\n",
       "         9.26723511e+00,   3.24670451e+01,   2.35444883e+01,\n",
       "         1.50235968e+01,   2.73051012e+01,   3.68921797e+01,\n",
       "         2.51120059e+01,   1.89134694e+01,   1.04000000e+02,\n",
       "         1.32353186e+01,   1.25632539e+01,   1.00000000e+02,\n",
       "         4.63439626e+01,   2.62396027e+01,   9.76088858e+01,\n",
       "         3.44364224e+01,   4.03968426e+01,   5.59341166e+01,\n",
       "         3.60000000e+01,   1.38952741e+02,   2.38839374e+01,\n",
       "         2.44081341e+01,   3.42202912e+01,   3.58916979e+01,\n",
       "         3.44985257e+01,   5.15095604e+01,   1.03762853e+02,\n",
       "         4.12090216e+01,   3.80183364e+01,   6.66828207e+01,\n",
       "         7.31330104e+01,   1.30695764e+02,   3.24770287e+01,\n",
       "         5.41119335e+01,   4.50190978e+01,   8.01531133e+01,\n",
       "         8.09012564e+01,   1.15573251e+02,   7.56706835e+01,\n",
       "         8.23479909e+01,   1.05684308e+02,   8.80828402e+01,\n",
       "         1.28459196e+01,   1.12740115e+01,   1.41798209e+01,\n",
       "         1.61600000e+01,   3.55065361e+01,   3.66616799e+01,\n",
       "         1.73410243e+01,   2.40902831e+01,   2.73105523e+01,\n",
       "         3.88718080e+01,   2.58442084e+01,   4.56328576e+01,\n",
       "         3.26130016e+01,   7.58204865e+01,   1.85484765e+01,\n",
       "         2.98750000e+01,   3.12869095e+01,   3.46899000e+01,\n",
       "         4.25040580e+01,   1.72188235e+01,   5.76007023e+01,\n",
       "         9.77097793e+01,   2.87152676e+01,   4.35331801e+01,\n",
       "         2.53557129e+01,   5.94784618e+01,   8.20269365e+01,\n",
       "         6.22438440e+01,   6.49193222e+01,   8.91244993e+01,\n",
       "         6.60572160e+01,   8.80399306e+01,   9.20000000e+01,\n",
       "         3.59953315e+01,   3.08254725e+01,   1.00000000e+00,\n",
       "         2.08761412e+01,   2.14697815e+01,   2.12884624e+01,\n",
       "         2.40091556e+01,   2.73420408e+01,   2.46495692e+01,\n",
       "         5.89161822e+01,   4.86718921e+01,   3.45896564e+01,\n",
       "         2.47410204e+01,   4.44132376e+01,   2.43027603e+01,\n",
       "         2.91600607e+01,   2.56613851e+01,   2.31677519e+01,\n",
       "         2.14040797e+01,   5.48703281e+01,   2.56278720e+01,\n",
       "         2.14796165e+01,   2.68392688e+01,   3.75920658e+01,\n",
       "         2.20740437e+01,   3.44330232e+01,   2.21548163e+01,\n",
       "         2.94142031e+01,   3.32558533e+01,   2.81078973e+01,\n",
       "         3.16034616e+01,   2.71202013e+01,   2.89000000e+02,\n",
       "         8.82798984e+01,   5.77655888e+01,   5.97761111e+01,\n",
       "         3.10394388e+01,   4.80441029e+01,   2.84457647e+01,\n",
       "         3.33788729e+01,   1.81254992e+01,   1.80918210e+01,\n",
       "         5.82230039e+01,   3.08775632e+01,   4.62157176e+01,\n",
       "         3.14298710e+01,   8.06581607e+01,   5.55714432e+01,\n",
       "         4.91956206e+01,   1.21941358e+02,   3.49804318e+01,\n",
       "         1.03231319e+02,   1.01045670e+02,   8.02341270e+01,\n",
       "         6.64485313e+01,   9.20400000e+01,   7.50617284e+01,\n",
       "         8.63139556e+01,   5.98125000e+01,   7.97656494e+01,\n",
       "         1.57125598e+01,   2.91219620e+01,   2.58308394e+01,\n",
       "         1.91145589e+01,   4.64315290e+01,   2.99252438e+01,\n",
       "         2.08379461e+01,   4.96575733e+01,   2.64717075e+01,\n",
       "         2.56383378e+01,   3.61757435e+01,   5.93743600e+01,\n",
       "         3.97931354e+01,   2.22655252e+01,   2.58333706e+01,\n",
       "         5.25843594e+01,   2.17106563e+01,   4.01825297e+01,\n",
       "         2.56890271e+01,   5.03782024e+01,   4.17459362e+01,\n",
       "         5.87976020e+01,   7.16257748e+01,   3.66350099e+01,\n",
       "         5.87908946e+01,   5.65797643e+01,   2.52153813e+01,\n",
       "         3.66329413e+01,   3.63391947e+01,   2.84832681e+01,\n",
       "         5.30573802e+01,   2.89418259e+01,   2.09278972e+01,\n",
       "         3.62037237e+01,   1.34038900e+02,   3.36411215e+01,\n",
       "         8.17824927e+01,   8.30555587e+01,   9.15743945e+01,\n",
       "         3.05652606e+01,   3.31385787e+01,   7.31896713e+01,\n",
       "         4.80894309e+01,   2.51735618e+01,   6.26105632e+01,\n",
       "         1.08218679e+02,   7.88426443e+01,   1.37459851e+01,\n",
       "         2.89134948e+01,   7.61813416e+01,   3.57667648e+01,\n",
       "         3.04014560e+01,   4.29375000e+01,   8.17732426e+01,\n",
       "         4.30565926e+01,   1.67354260e+01,   4.04909964e+01,\n",
       "         7.41433910e+01,   7.73967493e+01,   2.69463905e+01,\n",
       "         1.74021833e+01,   5.81738391e+01,   1.07618147e+02,\n",
       "         7.36518574e+01,   4.41672188e+01,   8.20786396e+01,\n",
       "         1.27455621e+02,   3.49600000e+01,   3.86400000e+01,\n",
       "         2.60828402e+01,   1.87720019e+02,   1.62985029e+02,\n",
       "         1.19937500e+02,   4.17698181e+01,   5.12653061e+01,\n",
       "         6.02018512e+01,   8.62016105e+01,   3.20292536e+01,\n",
       "         3.52814432e+01,   7.58710938e+01,   4.98788089e+01,\n",
       "         3.00000000e+01,   5.80555556e+00,   5.47222222e+00,\n",
       "         5.04471474e+01,   1.32923295e+02,   1.27282051e+02,\n",
       "         1.43251897e+02,   4.00035758e+01,   3.82418240e+01,\n",
       "         4.69910732e+01,   6.29413580e+01,   3.02500000e+01,\n",
       "         2.46666667e+01,   1.78774792e+01,   2.50433884e+01,\n",
       "         1.00000000e+00,   2.07450572e+01,   5.25000000e+00,\n",
       "         9.55102041e+00,   5.00000000e-01,   5.95555556e+01,\n",
       "         2.80555556e+01,   2.92267407e+01,   6.50000000e+00,\n",
       "         1.85600000e+01,   5.49427471e+01,   1.62037284e+02,\n",
       "         7.26655613e+01,   8.59538283e+01,   1.19097500e+02,\n",
       "         5.57843524e+01,   9.17466545e+01,   4.08402367e+01,\n",
       "         2.61614286e+01,   3.37836668e+01,   8.02469136e+00,\n",
       "         5.47755102e+01,   2.11049596e+01,   4.58222222e+01,\n",
       "         8.88888889e-01,   5.49822485e+01,   1.73711405e+01,\n",
       "         4.00000000e+00,   4.78241966e+01,   5.51200000e+01,\n",
       "         2.47555556e+01,   6.88888889e+00,   2.50000000e-01,\n",
       "         1.36000000e+00,   2.50000000e+01,   2.88888889e+00,\n",
       "         2.56000000e+01,   3.60000000e+01,   1.49722222e+01,\n",
       "         4.83826531e+01,   2.42430556e+01,   3.17777778e+01,\n",
       "         2.66666667e+00,   7.06942149e+01,   2.05671970e+01,\n",
       "         4.68888889e+01,   1.56222222e+02,   1.73593750e+01,\n",
       "         1.00000000e+00,   1.02222222e+01,   3.28888889e+01,\n",
       "         1.81600000e+01,   2.24970238e+01,   1.80863684e+01,\n",
       "         1.22693750e+01,   8.26666667e+01,   5.06469229e+01,\n",
       "         1.30000000e+01,   3.29302721e+01,   3.18750000e+00,\n",
       "         1.60000000e+01,   2.25000000e+00,   2.50000000e-01,\n",
       "         1.00000000e+00,   7.22618041e+01,   4.68441135e+01,\n",
       "         3.01894810e+01,   3.70247934e+00,   7.04503289e+01,\n",
       "         1.00000000e+02,   6.03945578e+01,   7.32135276e+01,\n",
       "         1.10222222e+02,   4.93299802e+01,   1.32250000e+02,\n",
       "         2.20019835e+01,   7.28055556e+01,   6.30442006e+01,\n",
       "         4.41355102e+01,   1.12334794e+02,   1.04054308e+02,\n",
       "         4.76365258e+01,   7.26461205e+01,   6.76586240e+01,\n",
       "         6.25893099e+01,   3.38704165e+01,   5.03417102e+01,\n",
       "         1.00000000e+00,   4.10718537e+01,   3.39230026e+01,\n",
       "         9.07099704e+01,   4.07875774e+01,   3.45935728e+01,\n",
       "         2.22500000e+01,   2.50000000e-01,   1.79648438e+01,\n",
       "         7.78698225e+00,   7.21388889e+01,   5.62500000e+01,\n",
       "         6.91111111e+01,   1.56213018e+01,   6.88888889e+00,\n",
       "         4.24000000e+00,   4.00000000e+00,   2.50000000e-01,\n",
       "         2.25000000e+00,   1.60000000e+01,   3.68750000e+00,\n",
       "         2.25950413e+01,   2.09097222e+01,   1.60000000e+01,\n",
       "         4.08480726e+01,   5.34214876e+01,   4.48254848e+01,\n",
       "         6.04444444e+01,   4.40000000e+00,   6.22222222e+00,\n",
       "         1.00000000e+00,   2.50000000e-01,   2.50000000e-01,\n",
       "         2.50000000e-01,   1.38888889e+02,   5.36580882e+01,\n",
       "         9.72704000e+01,   1.42369360e+02,   1.33858997e+02,\n",
       "         4.88000000e+02,   1.16612767e+02,   4.66666667e+00,\n",
       "         5.06093750e+01,   1.18055556e+01,   1.19893997e+02,\n",
       "         1.19687500e+02,   1.96950063e+02,   2.55982833e+02,\n",
       "         2.14340895e+02,   2.23321233e+02,   1.24951810e+02,\n",
       "         3.74352617e+02,   1.81859375e+02,   3.29086948e+02,\n",
       "         2.98196585e+02,   1.65106576e+02,   8.13904959e+01,\n",
       "         1.23251570e+02,   2.45000000e+01,   2.42945204e+02,\n",
       "         2.62361244e+02,   8.88888889e-01,   6.22222222e+00,\n",
       "         2.50000000e-01,   3.01838967e+02,   1.46752363e+02,\n",
       "         4.35833333e+01,   6.16000000e+00,   1.04222222e+02,\n",
       "         8.66666667e+00,   1.07122449e+02,   1.12750000e+02,\n",
       "         1.68028773e+02,   1.21590260e+02,   2.31296241e+02,\n",
       "         1.82265233e+02,   1.68851918e+02,   4.71440000e+02,\n",
       "         2.46058957e+02,   4.24234375e+02,   1.19044371e+02,\n",
       "         1.23953568e+02,   1.48888889e+01,   2.57852702e+02,\n",
       "         1.82715930e+02,   8.13218336e+01,   5.58817149e+01,\n",
       "         8.80396072e+01,   2.04771240e+02,   1.37444678e+02,\n",
       "         7.93147922e+01,   5.75000000e+01,   8.03203485e+01,\n",
       "         5.35865900e+01,   9.39555556e+00,   1.82250000e+02,\n",
       "         1.02670360e+02,   4.95822222e+01,   2.46400000e+01,\n",
       "         8.88888889e-01,   3.73593750e+01,   4.84900000e+01,\n",
       "         3.39773243e+02,   1.15555556e+01,   2.69482163e+02,\n",
       "         5.31437500e+02,   2.60527344e+02,   2.01187500e+02,\n",
       "         4.00000000e+00,   7.18750000e+00,   6.25000000e+00,\n",
       "         1.59293253e+02,   5.02926224e+02,   2.03498504e+02,\n",
       "         1.73090000e+02,   9.60000000e+01,   1.25117550e+02,\n",
       "         7.69508136e+01,   8.58855335e+01,   4.08950501e+01,\n",
       "         1.64141519e+02,   7.91630506e+01,   3.48622222e+01,\n",
       "         5.12896000e+01,   1.43160000e+02,   1.46294660e+01,\n",
       "         3.44540816e+01,   3.26875000e+01,   9.72500000e+01,\n",
       "         1.97500000e+01,   3.28888889e+01,   9.00000000e+00,\n",
       "         3.55555556e+00,   1.22500000e+01,   1.68421053e+01,\n",
       "         2.50000000e-01,   5.19467456e+01,   1.00000000e+00,\n",
       "         1.70895062e+01,   2.50000000e-01,   4.73879437e+01,\n",
       "         1.26543210e+02,   8.64444336e+02,   1.33458333e+02,\n",
       "         1.00000000e+00,   1.94681417e+02,   1.80605421e+02,\n",
       "         6.88888889e+00,   6.98765432e+00,   9.42425128e+01,\n",
       "         8.54750000e+02,   1.93555556e+02,   2.06351546e+01,\n",
       "         9.17669204e+01,   3.26775510e+02,   3.24691358e+01,\n",
       "         3.91550617e+01,   3.06250000e+02,   2.50000000e+01,\n",
       "         1.35288889e+01,   1.99690000e+02,   5.60272109e+01,\n",
       "         6.81109694e+01,   1.26333333e+02,   1.55555556e+00,\n",
       "         2.13000000e+01,   4.69387755e+00,   3.04000000e+00,\n",
       "         1.03526111e+02,   2.34563265e+01,   6.22222222e+00,\n",
       "         2.25000000e+00,   3.50000000e+00,   1.00000000e+00,\n",
       "         3.69040000e+02,   4.01419375e+02,   6.06437574e+02,\n",
       "         2.28396503e+02,   6.25000000e+02,   8.18404000e+01,\n",
       "         1.69020011e+02,   6.73893454e+01,   6.78331378e+01,\n",
       "         9.43288889e+01,   4.70664875e+01,   4.06970363e+01,\n",
       "         2.78923491e+01,   1.83228271e+02,   1.33311237e+02,\n",
       "         1.02335482e+02,   7.07693750e+01,   1.30304266e+02,\n",
       "         9.84167343e+01,   6.50145069e+01,   1.28671862e+02,\n",
       "         4.68750000e+00,   3.60000000e+01,   1.62222222e+01,\n",
       "         2.91076389e+02,   7.36686391e+01,   4.13916100e+02,\n",
       "         2.26944932e+02,   6.90000000e+01,   7.39742439e+01,\n",
       "         8.01473230e+01,   6.89847974e+01,   8.39069859e+01,\n",
       "         7.56677801e+01,   5.45223731e+01,   4.40310151e+01,\n",
       "         8.04275000e+01,   4.00000000e+00,   4.04045369e+01,\n",
       "         1.18410000e+02,   6.54400000e+01,   5.50400000e+01,\n",
       "         4.90000000e+01,   2.52500000e+01,   2.28622222e+01,\n",
       "         2.25455995e+01,   6.85525138e+01,   8.48420972e+01,\n",
       "         9.59628389e+01,   2.11875000e+01,   4.76474609e+01,\n",
       "         1.13034439e+02,   7.50000000e-01,   5.24000000e+00,\n",
       "         9.02500000e+01,   3.71728395e+01,   4.66081661e+01,\n",
       "         5.28621884e+01,   1.12390000e+02,   1.16100000e+01,\n",
       "         7.06100000e+01,   1.02400000e+01,   1.64308012e+01,\n",
       "         2.51288889e+01,   6.16000000e+00,   2.22222222e-01,\n",
       "         2.68000000e+01,   6.24489796e+00,   7.88377862e+01,\n",
       "         4.25905439e+01,   3.74253421e+01,   4.47540428e+01,\n",
       "         3.38250000e+02,   3.55105867e+02,   3.95000000e+01,\n",
       "         8.33223212e+01,   1.00000000e+00,   2.72250000e+02,\n",
       "         2.47500000e+01,   8.02433542e+01,   9.17521233e+01,\n",
       "         3.67352071e+01,   1.54693878e+02,   3.72460144e+01,\n",
       "         5.62500000e+01,   7.11875333e+01,   2.73191837e+01,\n",
       "         5.34649163e+01,   8.56190476e+01,   2.73388430e+01,\n",
       "         5.76000000e+02,   5.18750000e+00,   1.64000000e+01,\n",
       "         4.00000000e+00,   6.40000000e+01,   2.18750000e+00,\n",
       "         2.10250000e+02,   1.74591368e+02,   9.68888889e+01,\n",
       "         4.50315467e+01,   1.01242408e+02,   1.96000000e+02,\n",
       "         8.10000000e+01,   6.40972222e+00,   7.20888889e+01,\n",
       "         2.00666667e+02,   1.38666667e+02,   1.34270360e+02,\n",
       "         5.80788897e+01,   2.78024691e+01,   3.86400000e+01,\n",
       "         1.00000000e+00,   3.04734375e+02,   2.77496302e+01,\n",
       "         2.25000000e+00,   2.50000000e-01,   2.50000000e-01,\n",
       "         1.87500000e-01,   3.71981373e+01,   7.42454346e+01,\n",
       "         3.17250000e+02,   4.67587426e+01,   3.20000000e+01,\n",
       "         1.34488889e+01,   1.27777479e+01,   1.57348395e+01,\n",
       "         1.00000000e+00,   6.22222222e+00,   9.00000000e+00,\n",
       "         1.14400000e+01,   2.25000000e+00,   1.83397333e+01,\n",
       "         3.65036851e+01,   1.22888889e+02,   3.48593750e+01,\n",
       "         1.76388889e+01,   9.12362949e+01,   1.55289189e+01,\n",
       "         3.67622336e+01,   1.26996831e+02,   5.71352178e+01,\n",
       "         4.10368005e+01,   5.75287401e+01,   8.18561391e+01,\n",
       "         3.12064000e+01,   2.25000000e+00,   7.29165432e+01,\n",
       "         3.79183673e+01,   7.22222222e+01,   6.40000000e+01,\n",
       "         6.59930556e+01,   2.40839506e+02,   1.37024221e+01,\n",
       "         3.15555556e+01])"
      ]
     },
     "execution_count": 137,
     "metadata": {},
     "output_type": "execute_result"
    }
   ],
   "source": [
    "avg_time_dev"
   ]
  },
  {
   "cell_type": "code",
   "execution_count": 138,
   "metadata": {
    "collapsed": false
   },
   "outputs": [
    {
     "data": {
      "text/plain": [
       "array([ 0.00201552,  0.02067813,  0.05331978,  0.17284459,  0.30449187,\n",
       "        0.13772981,  0.3089203 ])"
      ]
     },
     "execution_count": 138,
     "metadata": {},
     "output_type": "execute_result"
    }
   ],
   "source": [
    "regtree.tree_.compute_feature_importances()"
   ]
  },
  {
   "cell_type": "code",
   "execution_count": 139,
   "metadata": {
    "collapsed": false
   },
   "outputs": [
    {
     "data": {
      "text/plain": [
       "(array([  87.,   63.,  108.,   87.,   60.,   50.,   26.,   35.,   33.,\n",
       "          20.,   16.,   13.,   13.,   13.,    4.,    3.,    7.,    2.,\n",
       "           7.,    5.,    4.,    2.,    3.,    1.,    3.,    2.,    3.,\n",
       "           1.,    1.,    2.,    3.,    1.,    2.,    2.,    0.,    1.,\n",
       "           1.,    1.,    0.,    0.,    1.,    1.,    1.,    0.,    0.,\n",
       "           0.,    0.,    1.,    1.,    0.]),\n",
       " array([   0.,   10.,   20.,   30.,   40.,   50.,   60.,   70.,   80.,\n",
       "          90.,  100.,  110.,  120.,  130.,  140.,  150.,  160.,  170.,\n",
       "         180.,  190.,  200.,  210.,  220.,  230.,  240.,  250.,  260.,\n",
       "         270.,  280.,  290.,  300.,  310.,  320.,  330.,  340.,  350.,\n",
       "         360.,  370.,  380.,  390.,  400.,  410.,  420.,  430.,  440.,\n",
       "         450.,  460.,  470.,  480.,  490.,  500.]),\n",
       " <a list of 50 Patch objects>)"
      ]
     },
     "execution_count": 139,
     "metadata": {},
     "output_type": "execute_result"
    },
    {
     "data": {
      "image/png": "[encoded data removed]",
      "text/plain": [
       "<matplotlib.figure.Figure at 0x7fc27ae3ea20>"
      ]
     },
     "metadata": {},
     "output_type": "display_data"
    }
   ],
   "source": [
    "h = avg_time_dev\n",
    "plt.hist(h.tolist(), bins=50, range=[0, 500])"
   ]
  },
  {
   "cell_type": "code",
   "execution_count": 140,
   "metadata": {
    "collapsed": false
   },
   "outputs": [
    {
     "data": {
      "text/plain": [
       "array([   2.25      ,   40.40453686,   80.65816075,  144.65208316,\n",
       "        233.20489438,  328.16237289,  488.59704894])"
      ]
     },
     "execution_count": 140,
     "metadata": {},
     "output_type": "execute_result"
    }
   ],
   "source": [
    "np.percentile(avg_time_dev, q=[5, 50, 75, 90, 95, 97.5, 99])"
   ]
  },
  {
   "cell_type": "code",
   "execution_count": 142,
   "metadata": {
    "collapsed": false
   },
   "outputs": [
    {
     "data": {
      "text/plain": [
       "Index(['pickup_datetime_day', 'pickup_datetime_dayofweek',\n",
       "       'pickup_datetime_hour', 'pickup_latitude', 'pickup_longitude',\n",
       "       'dropoff_latitude', 'dropoff_longitude'],\n",
       "      dtype='object')"
      ]
     },
     "execution_count": 142,
     "metadata": {},
     "output_type": "execute_result"
    }
   ],
   "source": [
    "time_regression_df.columns[0:7]"
   ]
  },
  {
   "cell_type": "markdown",
   "metadata": {},
   "source": [
    "# <font color = 'blue'> Now we want to visualize the decision tree. To do so, plot the splits in geodata on the map of NYC (together with the heat map) </font color>"
   ]
  },
  {
   "cell_type": "code",
   "execution_count": 143,
   "metadata": {
    "collapsed": false,
    "scrolled": true
   },
   "outputs": [
    {
     "data": {
      "text/plain": [
       "<matplotlib.figure.Figure at 0x7fc278c4f240>"
      ]
     },
     "metadata": {},
     "output_type": "display_data"
    },
    {
     "data": {
      "image/png": "[encoded data removed]",
      "text/plain": [
       "<matplotlib.figure.Figure at 0x7fc278c47588>"
      ]
     },
     "metadata": {},
     "output_type": "display_data"
    }
   ],
   "source": [
    "x = data_in_box.pickup_latitude\n",
    "y = data_in_box.pickup_longitude\n",
    "\n",
    "H, xedges, yedges = np.histogram2d(x, y, bins=100, normed=False, weights=None)\n",
    "\n",
    "plt.jet()\n",
    "fig = plt.figure(figsize=(20, 10))\n",
    "#ax.set_title('pcolormesh: exact bin edges')\n",
    "X, Y = np.meshgrid(xedges, yedges)\n",
    "mesh = plt.pcolormesh(X, Y, H)\n",
    "plt.colorbar(mesh)\n",
    "#ax.set_aspect('equal')\n",
    "#plt.savefig('figure.pdf', format='pdf')\n",
    "#plt.savefig('figure.png', format='png')\n",
    "\n",
    "## Plot the horizontal / vertival lines here via eventplot\n",
    "plt.hold(True)\n",
    "plt.eventplot(lat_splits, orientation='horizontal', lineoffsets=-73.9,\n",
    "          linelengths=0.2, linewidths=None, color = [[1,0,0]],\n",
    "          linestyles='solid')\n",
    "plt.eventplot(long_splits, orientation='vertical', lineoffsets=40.75,\n",
    "          linelengths=.2, linewidths=None, color = [[1,0,0]],\n",
    "          linestyles='solid')\n",
    "plt.axis([xedges.min(),xedges.max(),yedges.min(),yedges.max()]) # zoom in\n",
    "plt.hold(False)"
   ]
  }
 ],
 "metadata": {
  "kernelspec": {
   "display_name": "Python 3",
   "language": "python",
   "name": "python3"
  },
  "language_info": {
   "codemirror_mode": {
    "name": "ipython",
    "version": 3
   },
   "file_extension": ".py",
   "mimetype": "text/x-python",
   "name": "python",
   "nbconvert_exporter": "python",
   "pygments_lexer": "ipython3",
   "version": "3.5.1"
  }
 },
 "nbformat": 4,
 "nbformat_minor": 0
}
