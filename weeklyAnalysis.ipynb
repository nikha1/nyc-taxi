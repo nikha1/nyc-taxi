{
 "cells": [
  {
   "cell_type": "code",
   "execution_count": 1,
   "metadata": {
    "collapsed": true
   },
   "outputs": [],
   "source": [
    "import os as os\n",
    "import pandas as pd\n",
    "import numpy as np\n",
    "from scipy import stats, integrate\n",
    "import matplotlib.pyplot as plt\n",
    "import matplotlib as mpl\n",
    "import seaborn as sns\n",
    "from statsmodels.distributions.empirical_distribution import ECDF\n",
    "import datetime as dt\n",
    "plt.style.use('seaborn-whitegrid')\n",
    "\n",
    "plt.rcParams['image.cmap'] = 'blue'\n",
    "\n",
    "#sns.set_context('notebook',font_scale=2)\n",
    "sns.set_style(\"whitegrid\")\n",
    "% matplotlib inline"
   ]
  },
  {
   "cell_type": "code",
   "execution_count": 2,
   "metadata": {
    "collapsed": false
   },
   "outputs": [],
   "source": [
    "taxidata = pd.read_csv('data/oneweekfrom20130107.csv', parse_dates=True)"
   ]
  },
  {
   "cell_type": "code",
   "execution_count": 3,
   "metadata": {
    "collapsed": false
   },
   "outputs": [
    {
     "name": "stdout",
     "output_type": "stream",
     "text": [
      "<class 'pandas.core.frame.DataFrame'>\n",
      "RangeIndex: 3265929 entries, 0 to 3265928\n",
      "Data columns (total 21 columns):\n",
      "Unnamed: 0            int64\n",
      "Unnamed: 0.1          int64\n",
      "medallion             int64\n",
      "hack_license          int64\n",
      "vendor_id             object\n",
      "rate_code             int64\n",
      "store_and_fwd_flag    object\n",
      "pickup_datetime       object\n",
      "dropoff_datetime      object\n",
      "passenger_count       int64\n",
      "trip_time_in_secs     int64\n",
      "trip_distance         float64\n",
      "pickup_longitude      float64\n",
      "pickup_latitude       float64\n",
      "dropoff_longitude     float64\n",
      "dropoff_latitude      float64\n",
      "payment_type          object\n",
      "pfare_amount          float64\n",
      "surcharge             float64\n",
      "tip_amount            float64\n",
      "total_amount          float64\n",
      "dtypes: float64(9), int64(7), object(5)\n",
      "memory usage: 523.3+ MB\n"
     ]
    }
   ],
   "source": [
    "taxidata.info()"
   ]
  },
  {
   "cell_type": "markdown",
   "metadata": {},
   "source": [
    "So parsing doe not work, do it manually:"
   ]
  },
  {
   "cell_type": "code",
   "execution_count": 4,
   "metadata": {
    "collapsed": true
   },
   "outputs": [],
   "source": [
    "taxidata['pickup_datetime'] =pd.to_datetime(taxidata['pickup_datetime'], format = '%Y-%m-%d %H:%M:%S')\n",
    "taxidata['dropoff_datetime'] =pd.to_datetime(taxidata['dropoff_datetime'], format = '%Y-%m-%d %H:%M:%S')"
   ]
  },
  {
   "cell_type": "code",
   "execution_count": 5,
   "metadata": {
    "collapsed": false
   },
   "outputs": [
    {
     "data": {
      "text/html": [
       "<div>\n",
       "<table border=\"1\" class=\"dataframe\">\n",
       "  <thead>\n",
       "    <tr style=\"text-align: right;\">\n",
       "      <th></th>\n",
       "      <th>count</th>\n",
       "      <th>mean</th>\n",
       "      <th>std</th>\n",
       "      <th>min</th>\n",
       "      <th>25%</th>\n",
       "      <th>50%</th>\n",
       "      <th>75%</th>\n",
       "      <th>max</th>\n",
       "    </tr>\n",
       "  </thead>\n",
       "  <tbody>\n",
       "    <tr>\n",
       "      <th>Unnamed: 0</th>\n",
       "      <td>3265929.0</td>\n",
       "      <td>4.235736e+06</td>\n",
       "      <td>942792.637992</td>\n",
       "      <td>2.602772e+06</td>\n",
       "      <td>3.419254e+06</td>\n",
       "      <td>4.235736e+06</td>\n",
       "      <td>5.052218e+06</td>\n",
       "      <td>5.868700e+06</td>\n",
       "    </tr>\n",
       "    <tr>\n",
       "      <th>Unnamed: 0.1</th>\n",
       "      <td>3265929.0</td>\n",
       "      <td>4.235737e+06</td>\n",
       "      <td>942792.637992</td>\n",
       "      <td>2.602773e+06</td>\n",
       "      <td>3.419255e+06</td>\n",
       "      <td>4.235737e+06</td>\n",
       "      <td>5.052219e+06</td>\n",
       "      <td>5.868701e+06</td>\n",
       "    </tr>\n",
       "    <tr>\n",
       "      <th>medallion</th>\n",
       "      <td>3265929.0</td>\n",
       "      <td>2.013006e+09</td>\n",
       "      <td>3662.811412</td>\n",
       "      <td>2.013000e+09</td>\n",
       "      <td>2.013003e+09</td>\n",
       "      <td>2.013006e+09</td>\n",
       "      <td>2.013009e+09</td>\n",
       "      <td>2.013013e+09</td>\n",
       "    </tr>\n",
       "    <tr>\n",
       "      <th>hack_license</th>\n",
       "      <td>3265929.0</td>\n",
       "      <td>2.013014e+09</td>\n",
       "      <td>8375.177708</td>\n",
       "      <td>2.013000e+09</td>\n",
       "      <td>2.013007e+09</td>\n",
       "      <td>2.013014e+09</td>\n",
       "      <td>2.013021e+09</td>\n",
       "      <td>2.013030e+09</td>\n",
       "    </tr>\n",
       "    <tr>\n",
       "      <th>rate_code</th>\n",
       "      <td>3265929.0</td>\n",
       "      <td>1.033506e+00</td>\n",
       "      <td>0.349912</td>\n",
       "      <td>0.000000e+00</td>\n",
       "      <td>1.000000e+00</td>\n",
       "      <td>1.000000e+00</td>\n",
       "      <td>1.000000e+00</td>\n",
       "      <td>2.100000e+02</td>\n",
       "    </tr>\n",
       "    <tr>\n",
       "      <th>passenger_count</th>\n",
       "      <td>3265929.0</td>\n",
       "      <td>1.684586e+00</td>\n",
       "      <td>1.360830</td>\n",
       "      <td>0.000000e+00</td>\n",
       "      <td>1.000000e+00</td>\n",
       "      <td>1.000000e+00</td>\n",
       "      <td>2.000000e+00</td>\n",
       "      <td>2.550000e+02</td>\n",
       "    </tr>\n",
       "    <tr>\n",
       "      <th>trip_time_in_secs</th>\n",
       "      <td>3265929.0</td>\n",
       "      <td>6.835442e+02</td>\n",
       "      <td>494.571365</td>\n",
       "      <td>0.000000e+00</td>\n",
       "      <td>3.600000e+02</td>\n",
       "      <td>5.560000e+02</td>\n",
       "      <td>8.800000e+02</td>\n",
       "      <td>1.068000e+04</td>\n",
       "    </tr>\n",
       "    <tr>\n",
       "      <th>trip_distance</th>\n",
       "      <td>3265929.0</td>\n",
       "      <td>2.759258e+00</td>\n",
       "      <td>3.260096</td>\n",
       "      <td>0.000000e+00</td>\n",
       "      <td>1.010000e+00</td>\n",
       "      <td>1.700000e+00</td>\n",
       "      <td>3.050000e+00</td>\n",
       "      <td>9.960000e+01</td>\n",
       "    </tr>\n",
       "    <tr>\n",
       "      <th>pickup_longitude</th>\n",
       "      <td>3265929.0</td>\n",
       "      <td>-7.262467e+01</td>\n",
       "      <td>10.106291</td>\n",
       "      <td>-2.249272e+03</td>\n",
       "      <td>-7.399187e+01</td>\n",
       "      <td>-7.398157e+01</td>\n",
       "      <td>-7.396671e+01</td>\n",
       "      <td>0.000000e+00</td>\n",
       "    </tr>\n",
       "    <tr>\n",
       "      <th>pickup_latitude</th>\n",
       "      <td>3265929.0</td>\n",
       "      <td>4.000632e+01</td>\n",
       "      <td>9.333506</td>\n",
       "      <td>-3.547921e+03</td>\n",
       "      <td>4.073537e+01</td>\n",
       "      <td>4.075310e+01</td>\n",
       "      <td>4.076752e+01</td>\n",
       "      <td>3.310365e+03</td>\n",
       "    </tr>\n",
       "    <tr>\n",
       "      <th>dropoff_longitude</th>\n",
       "      <td>3265911.0</td>\n",
       "      <td>-7.257707e+01</td>\n",
       "      <td>10.540788</td>\n",
       "      <td>-2.350956e+03</td>\n",
       "      <td>-7.399115e+01</td>\n",
       "      <td>-7.398001e+01</td>\n",
       "      <td>-7.396381e+01</td>\n",
       "      <td>2.084300e+03</td>\n",
       "    </tr>\n",
       "    <tr>\n",
       "      <th>dropoff_latitude</th>\n",
       "      <td>3265911.0</td>\n",
       "      <td>3.997879e+01</td>\n",
       "      <td>8.490421</td>\n",
       "      <td>-3.547921e+03</td>\n",
       "      <td>4.073465e+01</td>\n",
       "      <td>4.075365e+01</td>\n",
       "      <td>4.076839e+01</td>\n",
       "      <td>3.210338e+03</td>\n",
       "    </tr>\n",
       "    <tr>\n",
       "      <th>pfare_amount</th>\n",
       "      <td>3265929.0</td>\n",
       "      <td>1.163908e+01</td>\n",
       "      <td>9.546686</td>\n",
       "      <td>2.500000e+00</td>\n",
       "      <td>6.500000e+00</td>\n",
       "      <td>9.000000e+00</td>\n",
       "      <td>1.300000e+01</td>\n",
       "      <td>5.000000e+02</td>\n",
       "    </tr>\n",
       "    <tr>\n",
       "      <th>surcharge</th>\n",
       "      <td>3265929.0</td>\n",
       "      <td>3.252027e-01</td>\n",
       "      <td>0.370270</td>\n",
       "      <td>0.000000e+00</td>\n",
       "      <td>0.000000e+00</td>\n",
       "      <td>0.000000e+00</td>\n",
       "      <td>5.000000e-01</td>\n",
       "      <td>3.000000e+00</td>\n",
       "    </tr>\n",
       "    <tr>\n",
       "      <th>tip_amount</th>\n",
       "      <td>3265929.0</td>\n",
       "      <td>1.269877e+00</td>\n",
       "      <td>2.032800</td>\n",
       "      <td>0.000000e+00</td>\n",
       "      <td>0.000000e+00</td>\n",
       "      <td>9.000000e-01</td>\n",
       "      <td>2.000000e+00</td>\n",
       "      <td>2.000000e+02</td>\n",
       "    </tr>\n",
       "    <tr>\n",
       "      <th>total_amount</th>\n",
       "      <td>3265929.0</td>\n",
       "      <td>1.393224e+01</td>\n",
       "      <td>11.352621</td>\n",
       "      <td>2.500000e+00</td>\n",
       "      <td>7.700000e+00</td>\n",
       "      <td>1.050000e+01</td>\n",
       "      <td>1.550000e+01</td>\n",
       "      <td>5.000000e+02</td>\n",
       "    </tr>\n",
       "  </tbody>\n",
       "</table>\n",
       "</div>"
      ],
      "text/plain": [
       "                       count          mean            std           min  \\\n",
       "Unnamed: 0         3265929.0  4.235736e+06  942792.637992  2.602772e+06   \n",
       "Unnamed: 0.1       3265929.0  4.235737e+06  942792.637992  2.602773e+06   \n",
       "medallion          3265929.0  2.013006e+09    3662.811412  2.013000e+09   \n",
       "hack_license       3265929.0  2.013014e+09    8375.177708  2.013000e+09   \n",
       "rate_code          3265929.0  1.033506e+00       0.349912  0.000000e+00   \n",
       "passenger_count    3265929.0  1.684586e+00       1.360830  0.000000e+00   \n",
       "trip_time_in_secs  3265929.0  6.835442e+02     494.571365  0.000000e+00   \n",
       "trip_distance      3265929.0  2.759258e+00       3.260096  0.000000e+00   \n",
       "pickup_longitude   3265929.0 -7.262467e+01      10.106291 -2.249272e+03   \n",
       "pickup_latitude    3265929.0  4.000632e+01       9.333506 -3.547921e+03   \n",
       "dropoff_longitude  3265911.0 -7.257707e+01      10.540788 -2.350956e+03   \n",
       "dropoff_latitude   3265911.0  3.997879e+01       8.490421 -3.547921e+03   \n",
       "pfare_amount       3265929.0  1.163908e+01       9.546686  2.500000e+00   \n",
       "surcharge          3265929.0  3.252027e-01       0.370270  0.000000e+00   \n",
       "tip_amount         3265929.0  1.269877e+00       2.032800  0.000000e+00   \n",
       "total_amount       3265929.0  1.393224e+01      11.352621  2.500000e+00   \n",
       "\n",
       "                            25%           50%           75%           max  \n",
       "Unnamed: 0         3.419254e+06  4.235736e+06  5.052218e+06  5.868700e+06  \n",
       "Unnamed: 0.1       3.419255e+06  4.235737e+06  5.052219e+06  5.868701e+06  \n",
       "medallion          2.013003e+09  2.013006e+09  2.013009e+09  2.013013e+09  \n",
       "hack_license       2.013007e+09  2.013014e+09  2.013021e+09  2.013030e+09  \n",
       "rate_code          1.000000e+00  1.000000e+00  1.000000e+00  2.100000e+02  \n",
       "passenger_count    1.000000e+00  1.000000e+00  2.000000e+00  2.550000e+02  \n",
       "trip_time_in_secs  3.600000e+02  5.560000e+02  8.800000e+02  1.068000e+04  \n",
       "trip_distance      1.010000e+00  1.700000e+00  3.050000e+00  9.960000e+01  \n",
       "pickup_longitude  -7.399187e+01 -7.398157e+01 -7.396671e+01  0.000000e+00  \n",
       "pickup_latitude    4.073537e+01  4.075310e+01  4.076752e+01  3.310365e+03  \n",
       "dropoff_longitude -7.399115e+01 -7.398001e+01 -7.396381e+01  2.084300e+03  \n",
       "dropoff_latitude   4.073465e+01  4.075365e+01  4.076839e+01  3.210338e+03  \n",
       "pfare_amount       6.500000e+00  9.000000e+00  1.300000e+01  5.000000e+02  \n",
       "surcharge          0.000000e+00  0.000000e+00  5.000000e-01  3.000000e+00  \n",
       "tip_amount         0.000000e+00  9.000000e-01  2.000000e+00  2.000000e+02  \n",
       "total_amount       7.700000e+00  1.050000e+01  1.550000e+01  5.000000e+02  "
      ]
     },
     "execution_count": 5,
     "metadata": {},
     "output_type": "execute_result"
    }
   ],
   "source": [
    "taxidata.describe().transpose()"
   ]
  },
  {
   "cell_type": "code",
   "execution_count": 6,
   "metadata": {
    "collapsed": false
   },
   "outputs": [
    {
     "data": {
      "text/html": [
       "<div>\n",
       "<table border=\"1\" class=\"dataframe\">\n",
       "  <thead>\n",
       "    <tr style=\"text-align: right;\">\n",
       "      <th></th>\n",
       "      <th>Unnamed: 0</th>\n",
       "      <th>Unnamed: 0.1</th>\n",
       "      <th>medallion</th>\n",
       "      <th>hack_license</th>\n",
       "      <th>vendor_id</th>\n",
       "      <th>rate_code</th>\n",
       "      <th>store_and_fwd_flag</th>\n",
       "      <th>pickup_datetime</th>\n",
       "      <th>dropoff_datetime</th>\n",
       "      <th>passenger_count</th>\n",
       "      <th>...</th>\n",
       "      <th>trip_distance</th>\n",
       "      <th>pickup_longitude</th>\n",
       "      <th>pickup_latitude</th>\n",
       "      <th>dropoff_longitude</th>\n",
       "      <th>dropoff_latitude</th>\n",
       "      <th>payment_type</th>\n",
       "      <th>pfare_amount</th>\n",
       "      <th>surcharge</th>\n",
       "      <th>tip_amount</th>\n",
       "      <th>total_amount</th>\n",
       "    </tr>\n",
       "  </thead>\n",
       "  <tbody>\n",
       "    <tr>\n",
       "      <th>0</th>\n",
       "      <td>2602772</td>\n",
       "      <td>2602773</td>\n",
       "      <td>2013001380</td>\n",
       "      <td>2013001377</td>\n",
       "      <td>VTS</td>\n",
       "      <td>1</td>\n",
       "      <td>NaN</td>\n",
       "      <td>2013-01-07</td>\n",
       "      <td>2013-01-07 00:12:00</td>\n",
       "      <td>2</td>\n",
       "      <td>...</td>\n",
       "      <td>4.24</td>\n",
       "      <td>-73.987915</td>\n",
       "      <td>40.754730</td>\n",
       "      <td>-73.957382</td>\n",
       "      <td>40.782902</td>\n",
       "      <td>CSH</td>\n",
       "      <td>13.5</td>\n",
       "      <td>0.5</td>\n",
       "      <td>0.00</td>\n",
       "      <td>14.50</td>\n",
       "    </tr>\n",
       "    <tr>\n",
       "      <th>1</th>\n",
       "      <td>2602773</td>\n",
       "      <td>2602774</td>\n",
       "      <td>2013005435</td>\n",
       "      <td>2013005432</td>\n",
       "      <td>VTS</td>\n",
       "      <td>1</td>\n",
       "      <td>NaN</td>\n",
       "      <td>2013-01-07</td>\n",
       "      <td>2013-01-07 00:04:00</td>\n",
       "      <td>3</td>\n",
       "      <td>...</td>\n",
       "      <td>1.51</td>\n",
       "      <td>-73.984917</td>\n",
       "      <td>40.736370</td>\n",
       "      <td>-73.984917</td>\n",
       "      <td>40.736370</td>\n",
       "      <td>CRD</td>\n",
       "      <td>6.0</td>\n",
       "      <td>0.5</td>\n",
       "      <td>1.30</td>\n",
       "      <td>8.30</td>\n",
       "    </tr>\n",
       "    <tr>\n",
       "      <th>2</th>\n",
       "      <td>2602774</td>\n",
       "      <td>2602775</td>\n",
       "      <td>2013002440</td>\n",
       "      <td>2013002437</td>\n",
       "      <td>VTS</td>\n",
       "      <td>1</td>\n",
       "      <td>NaN</td>\n",
       "      <td>2013-01-07</td>\n",
       "      <td>2013-01-07 00:15:00</td>\n",
       "      <td>6</td>\n",
       "      <td>...</td>\n",
       "      <td>4.86</td>\n",
       "      <td>-73.988365</td>\n",
       "      <td>40.720261</td>\n",
       "      <td>-73.920486</td>\n",
       "      <td>40.702522</td>\n",
       "      <td>CSH</td>\n",
       "      <td>16.5</td>\n",
       "      <td>0.5</td>\n",
       "      <td>0.00</td>\n",
       "      <td>17.50</td>\n",
       "    </tr>\n",
       "    <tr>\n",
       "      <th>3</th>\n",
       "      <td>2602775</td>\n",
       "      <td>2602776</td>\n",
       "      <td>2013007092</td>\n",
       "      <td>2013007088</td>\n",
       "      <td>VTS</td>\n",
       "      <td>1</td>\n",
       "      <td>NaN</td>\n",
       "      <td>2013-01-07</td>\n",
       "      <td>2013-01-07 00:14:00</td>\n",
       "      <td>1</td>\n",
       "      <td>...</td>\n",
       "      <td>6.33</td>\n",
       "      <td>-73.989822</td>\n",
       "      <td>40.702522</td>\n",
       "      <td>-74.009789</td>\n",
       "      <td>40.737411</td>\n",
       "      <td>CRD</td>\n",
       "      <td>20.0</td>\n",
       "      <td>0.5</td>\n",
       "      <td>4.10</td>\n",
       "      <td>25.10</td>\n",
       "    </tr>\n",
       "    <tr>\n",
       "      <th>4</th>\n",
       "      <td>2602776</td>\n",
       "      <td>2602777</td>\n",
       "      <td>2013003235</td>\n",
       "      <td>2013003231</td>\n",
       "      <td>VTS</td>\n",
       "      <td>1</td>\n",
       "      <td>NaN</td>\n",
       "      <td>2013-01-07</td>\n",
       "      <td>2013-01-07 00:06:00</td>\n",
       "      <td>1</td>\n",
       "      <td>...</td>\n",
       "      <td>1.70</td>\n",
       "      <td>-74.005730</td>\n",
       "      <td>40.717567</td>\n",
       "      <td>-74.006401</td>\n",
       "      <td>40.739521</td>\n",
       "      <td>CRD</td>\n",
       "      <td>7.0</td>\n",
       "      <td>0.5</td>\n",
       "      <td>1.88</td>\n",
       "      <td>9.88</td>\n",
       "    </tr>\n",
       "  </tbody>\n",
       "</table>\n",
       "<p>5 rows × 21 columns</p>\n",
       "</div>"
      ],
      "text/plain": [
       "   Unnamed: 0  Unnamed: 0.1   medallion  hack_license vendor_id  rate_code  \\\n",
       "0     2602772       2602773  2013001380    2013001377       VTS          1   \n",
       "1     2602773       2602774  2013005435    2013005432       VTS          1   \n",
       "2     2602774       2602775  2013002440    2013002437       VTS          1   \n",
       "3     2602775       2602776  2013007092    2013007088       VTS          1   \n",
       "4     2602776       2602777  2013003235    2013003231       VTS          1   \n",
       "\n",
       "  store_and_fwd_flag pickup_datetime    dropoff_datetime  passenger_count  \\\n",
       "0                NaN      2013-01-07 2013-01-07 00:12:00                2   \n",
       "1                NaN      2013-01-07 2013-01-07 00:04:00                3   \n",
       "2                NaN      2013-01-07 2013-01-07 00:15:00                6   \n",
       "3                NaN      2013-01-07 2013-01-07 00:14:00                1   \n",
       "4                NaN      2013-01-07 2013-01-07 00:06:00                1   \n",
       "\n",
       "       ...       trip_distance  pickup_longitude  pickup_latitude  \\\n",
       "0      ...                4.24        -73.987915        40.754730   \n",
       "1      ...                1.51        -73.984917        40.736370   \n",
       "2      ...                4.86        -73.988365        40.720261   \n",
       "3      ...                6.33        -73.989822        40.702522   \n",
       "4      ...                1.70        -74.005730        40.717567   \n",
       "\n",
       "   dropoff_longitude  dropoff_latitude  payment_type pfare_amount  surcharge  \\\n",
       "0         -73.957382         40.782902           CSH         13.5        0.5   \n",
       "1         -73.984917         40.736370           CRD          6.0        0.5   \n",
       "2         -73.920486         40.702522           CSH         16.5        0.5   \n",
       "3         -74.009789         40.737411           CRD         20.0        0.5   \n",
       "4         -74.006401         40.739521           CRD          7.0        0.5   \n",
       "\n",
       "   tip_amount  total_amount  \n",
       "0        0.00         14.50  \n",
       "1        1.30          8.30  \n",
       "2        0.00         17.50  \n",
       "3        4.10         25.10  \n",
       "4        1.88          9.88  \n",
       "\n",
       "[5 rows x 21 columns]"
      ]
     },
     "execution_count": 6,
     "metadata": {},
     "output_type": "execute_result"
    }
   ],
   "source": [
    "taxidata.head()"
   ]
  },
  {
   "cell_type": "code",
   "execution_count": 7,
   "metadata": {
    "collapsed": false
   },
   "outputs": [],
   "source": [
    "payments = taxidata.payment_type.value_counts()"
   ]
  },
  {
   "cell_type": "code",
   "execution_count": 8,
   "metadata": {
    "collapsed": false
   },
   "outputs": [
    {
     "data": {
      "text/plain": [
       "CRD    0.528261\n",
       "CSH    0.468309\n",
       "NOC    0.002203\n",
       "DIS    0.000782\n",
       "UNK    0.000446\n",
       "Name: payment_type, dtype: float64"
      ]
     },
     "execution_count": 8,
     "metadata": {},
     "output_type": "execute_result"
    }
   ],
   "source": [
    "payments/len(taxidata)"
   ]
  },
  {
   "cell_type": "markdown",
   "metadata": {},
   "source": [
    "# <font color = 'red'> Drop NOC, DIS, UNK? </font color>"
   ]
  },
  {
   "cell_type": "markdown",
   "metadata": {},
   "source": [
    "# <font color = 'blue'>  So thats the statistic about payments. Remember, there are to tips recorded for cash payment. </font color>"
   ]
  },
  {
   "cell_type": "markdown",
   "metadata": {},
   "source": [
    "We are not interested in the following features (they do not add any further information):"
   ]
  },
  {
   "cell_type": "code",
   "execution_count": 9,
   "metadata": {
    "collapsed": false
   },
   "outputs": [],
   "source": [
    "taxidata = taxidata.drop(['Unnamed: 0', 'Unnamed: 0.1','vendor_id', \n",
    "               'rate_code', 'store_and_fwd_flag',  'pfare_amount', 'payment_type', \n",
    "               'surcharge'], axis=1)"
   ]
  },
  {
   "cell_type": "code",
   "execution_count": 10,
   "metadata": {
    "collapsed": false
   },
   "outputs": [
    {
     "data": {
      "text/html": [
       "<div>\n",
       "<table border=\"1\" class=\"dataframe\">\n",
       "  <thead>\n",
       "    <tr style=\"text-align: right;\">\n",
       "      <th></th>\n",
       "      <th>count</th>\n",
       "      <th>mean</th>\n",
       "      <th>std</th>\n",
       "      <th>min</th>\n",
       "      <th>25%</th>\n",
       "      <th>50%</th>\n",
       "      <th>75%</th>\n",
       "      <th>max</th>\n",
       "    </tr>\n",
       "  </thead>\n",
       "  <tbody>\n",
       "    <tr>\n",
       "      <th>medallion</th>\n",
       "      <td>3265929.0</td>\n",
       "      <td>2.013006e+09</td>\n",
       "      <td>3662.811412</td>\n",
       "      <td>2.013000e+09</td>\n",
       "      <td>2.013003e+09</td>\n",
       "      <td>2.013006e+09</td>\n",
       "      <td>2.013009e+09</td>\n",
       "      <td>2.013013e+09</td>\n",
       "    </tr>\n",
       "    <tr>\n",
       "      <th>hack_license</th>\n",
       "      <td>3265929.0</td>\n",
       "      <td>2.013014e+09</td>\n",
       "      <td>8375.177708</td>\n",
       "      <td>2.013000e+09</td>\n",
       "      <td>2.013007e+09</td>\n",
       "      <td>2.013014e+09</td>\n",
       "      <td>2.013021e+09</td>\n",
       "      <td>2.013030e+09</td>\n",
       "    </tr>\n",
       "    <tr>\n",
       "      <th>passenger_count</th>\n",
       "      <td>3265929.0</td>\n",
       "      <td>1.684586e+00</td>\n",
       "      <td>1.360830</td>\n",
       "      <td>0.000000e+00</td>\n",
       "      <td>1.000000e+00</td>\n",
       "      <td>1.000000e+00</td>\n",
       "      <td>2.000000e+00</td>\n",
       "      <td>2.550000e+02</td>\n",
       "    </tr>\n",
       "    <tr>\n",
       "      <th>trip_time_in_secs</th>\n",
       "      <td>3265929.0</td>\n",
       "      <td>6.835442e+02</td>\n",
       "      <td>494.571365</td>\n",
       "      <td>0.000000e+00</td>\n",
       "      <td>3.600000e+02</td>\n",
       "      <td>5.560000e+02</td>\n",
       "      <td>8.800000e+02</td>\n",
       "      <td>1.068000e+04</td>\n",
       "    </tr>\n",
       "    <tr>\n",
       "      <th>trip_distance</th>\n",
       "      <td>3265929.0</td>\n",
       "      <td>2.759258e+00</td>\n",
       "      <td>3.260096</td>\n",
       "      <td>0.000000e+00</td>\n",
       "      <td>1.010000e+00</td>\n",
       "      <td>1.700000e+00</td>\n",
       "      <td>3.050000e+00</td>\n",
       "      <td>9.960000e+01</td>\n",
       "    </tr>\n",
       "    <tr>\n",
       "      <th>pickup_longitude</th>\n",
       "      <td>3265929.0</td>\n",
       "      <td>-7.262467e+01</td>\n",
       "      <td>10.106291</td>\n",
       "      <td>-2.249272e+03</td>\n",
       "      <td>-7.399187e+01</td>\n",
       "      <td>-7.398157e+01</td>\n",
       "      <td>-7.396671e+01</td>\n",
       "      <td>0.000000e+00</td>\n",
       "    </tr>\n",
       "    <tr>\n",
       "      <th>pickup_latitude</th>\n",
       "      <td>3265929.0</td>\n",
       "      <td>4.000632e+01</td>\n",
       "      <td>9.333506</td>\n",
       "      <td>-3.547921e+03</td>\n",
       "      <td>4.073537e+01</td>\n",
       "      <td>4.075310e+01</td>\n",
       "      <td>4.076752e+01</td>\n",
       "      <td>3.310365e+03</td>\n",
       "    </tr>\n",
       "    <tr>\n",
       "      <th>dropoff_longitude</th>\n",
       "      <td>3265911.0</td>\n",
       "      <td>-7.257707e+01</td>\n",
       "      <td>10.540788</td>\n",
       "      <td>-2.350956e+03</td>\n",
       "      <td>-7.399115e+01</td>\n",
       "      <td>-7.398001e+01</td>\n",
       "      <td>-7.396381e+01</td>\n",
       "      <td>2.084300e+03</td>\n",
       "    </tr>\n",
       "    <tr>\n",
       "      <th>dropoff_latitude</th>\n",
       "      <td>3265911.0</td>\n",
       "      <td>3.997879e+01</td>\n",
       "      <td>8.490421</td>\n",
       "      <td>-3.547921e+03</td>\n",
       "      <td>4.073465e+01</td>\n",
       "      <td>4.075365e+01</td>\n",
       "      <td>4.076839e+01</td>\n",
       "      <td>3.210338e+03</td>\n",
       "    </tr>\n",
       "    <tr>\n",
       "      <th>tip_amount</th>\n",
       "      <td>3265929.0</td>\n",
       "      <td>1.269877e+00</td>\n",
       "      <td>2.032800</td>\n",
       "      <td>0.000000e+00</td>\n",
       "      <td>0.000000e+00</td>\n",
       "      <td>9.000000e-01</td>\n",
       "      <td>2.000000e+00</td>\n",
       "      <td>2.000000e+02</td>\n",
       "    </tr>\n",
       "    <tr>\n",
       "      <th>total_amount</th>\n",
       "      <td>3265929.0</td>\n",
       "      <td>1.393224e+01</td>\n",
       "      <td>11.352621</td>\n",
       "      <td>2.500000e+00</td>\n",
       "      <td>7.700000e+00</td>\n",
       "      <td>1.050000e+01</td>\n",
       "      <td>1.550000e+01</td>\n",
       "      <td>5.000000e+02</td>\n",
       "    </tr>\n",
       "  </tbody>\n",
       "</table>\n",
       "</div>"
      ],
      "text/plain": [
       "                       count          mean          std           min  \\\n",
       "medallion          3265929.0  2.013006e+09  3662.811412  2.013000e+09   \n",
       "hack_license       3265929.0  2.013014e+09  8375.177708  2.013000e+09   \n",
       "passenger_count    3265929.0  1.684586e+00     1.360830  0.000000e+00   \n",
       "trip_time_in_secs  3265929.0  6.835442e+02   494.571365  0.000000e+00   \n",
       "trip_distance      3265929.0  2.759258e+00     3.260096  0.000000e+00   \n",
       "pickup_longitude   3265929.0 -7.262467e+01    10.106291 -2.249272e+03   \n",
       "pickup_latitude    3265929.0  4.000632e+01     9.333506 -3.547921e+03   \n",
       "dropoff_longitude  3265911.0 -7.257707e+01    10.540788 -2.350956e+03   \n",
       "dropoff_latitude   3265911.0  3.997879e+01     8.490421 -3.547921e+03   \n",
       "tip_amount         3265929.0  1.269877e+00     2.032800  0.000000e+00   \n",
       "total_amount       3265929.0  1.393224e+01    11.352621  2.500000e+00   \n",
       "\n",
       "                            25%           50%           75%           max  \n",
       "medallion          2.013003e+09  2.013006e+09  2.013009e+09  2.013013e+09  \n",
       "hack_license       2.013007e+09  2.013014e+09  2.013021e+09  2.013030e+09  \n",
       "passenger_count    1.000000e+00  1.000000e+00  2.000000e+00  2.550000e+02  \n",
       "trip_time_in_secs  3.600000e+02  5.560000e+02  8.800000e+02  1.068000e+04  \n",
       "trip_distance      1.010000e+00  1.700000e+00  3.050000e+00  9.960000e+01  \n",
       "pickup_longitude  -7.399187e+01 -7.398157e+01 -7.396671e+01  0.000000e+00  \n",
       "pickup_latitude    4.073537e+01  4.075310e+01  4.076752e+01  3.310365e+03  \n",
       "dropoff_longitude -7.399115e+01 -7.398001e+01 -7.396381e+01  2.084300e+03  \n",
       "dropoff_latitude   4.073465e+01  4.075365e+01  4.076839e+01  3.210338e+03  \n",
       "tip_amount         0.000000e+00  9.000000e-01  2.000000e+00  2.000000e+02  \n",
       "total_amount       7.700000e+00  1.050000e+01  1.550000e+01  5.000000e+02  "
      ]
     },
     "execution_count": 10,
     "metadata": {},
     "output_type": "execute_result"
    }
   ],
   "source": [
    "taxidata.describe().transpose()"
   ]
  },
  {
   "cell_type": "markdown",
   "metadata": {},
   "source": [
    "# Check for missing and false data:"
   ]
  },
  {
   "cell_type": "code",
   "execution_count": 11,
   "metadata": {
    "collapsed": false
   },
   "outputs": [
    {
     "data": {
      "text/plain": [
       "medallion             0\n",
       "hack_license          0\n",
       "pickup_datetime       0\n",
       "dropoff_datetime      0\n",
       "passenger_count       0\n",
       "trip_time_in_secs     0\n",
       "trip_distance         0\n",
       "pickup_longitude      0\n",
       "pickup_latitude       0\n",
       "dropoff_longitude    18\n",
       "dropoff_latitude     18\n",
       "tip_amount            0\n",
       "total_amount          0\n",
       "dtype: int64"
      ]
     },
     "execution_count": 11,
     "metadata": {},
     "output_type": "execute_result"
    }
   ],
   "source": [
    "taxidata.isnull().sum()"
   ]
  },
  {
   "cell_type": "markdown",
   "metadata": {},
   "source": [
    "So there is not that much data missing. That's quite surprising, maybe it's wrong."
   ]
  },
  {
   "cell_type": "code",
   "execution_count": 12,
   "metadata": {
    "collapsed": false
   },
   "outputs": [
    {
     "data": {
      "text/plain": [
       "medallion                  0\n",
       "hack_license               0\n",
       "pickup_datetime            0\n",
       "dropoff_datetime           0\n",
       "passenger_count           41\n",
       "trip_time_in_secs       7469\n",
       "trip_distance          18403\n",
       "pickup_longitude       59605\n",
       "pickup_latitude        59102\n",
       "dropoff_longitude      61733\n",
       "dropoff_latitude       61229\n",
       "tip_amount           1584618\n",
       "total_amount               0\n",
       "dtype: int64"
      ]
     },
     "execution_count": 12,
     "metadata": {},
     "output_type": "execute_result"
    }
   ],
   "source": [
    "(taxidata==0).sum()"
   ]
  },
  {
   "cell_type": "markdown",
   "metadata": {},
   "source": [
    "So we have many zeros in the data. How much percent?"
   ]
  },
  {
   "cell_type": "code",
   "execution_count": 13,
   "metadata": {
    "collapsed": false
   },
   "outputs": [
    {
     "data": {
      "text/plain": [
       "medallion            0.000000\n",
       "hack_license         0.000000\n",
       "pickup_datetime      0.000000\n",
       "dropoff_datetime     0.000000\n",
       "passenger_count      0.000013\n",
       "trip_time_in_secs    0.002287\n",
       "trip_distance        0.005635\n",
       "pickup_longitude     0.018251\n",
       "pickup_latitude      0.018097\n",
       "dropoff_longitude    0.018902\n",
       "dropoff_latitude     0.018748\n",
       "tip_amount           0.485197\n",
       "total_amount         0.000000\n",
       "dtype: float64"
      ]
     },
     "execution_count": 13,
     "metadata": {},
     "output_type": "execute_result"
    }
   ],
   "source": [
    "(taxidata==0).sum()/len(taxidata)"
   ]
  },
  {
   "cell_type": "markdown",
   "metadata": {},
   "source": [
    "# <font color = 'blue' > Most of the zeros are missing data. So flag them as NaN (means also NA) to be consistent! </font color>"
   ]
  },
  {
   "cell_type": "code",
   "execution_count": 14,
   "metadata": {
    "collapsed": false
   },
   "outputs": [],
   "source": [
    "taxidata = taxidata.replace(np.float64(0), np.nan);"
   ]
  },
  {
   "cell_type": "code",
   "execution_count": 15,
   "metadata": {
    "collapsed": false
   },
   "outputs": [
    {
     "data": {
      "text/plain": [
       "medallion                  0\n",
       "hack_license               0\n",
       "pickup_datetime            0\n",
       "dropoff_datetime           0\n",
       "passenger_count           41\n",
       "trip_time_in_secs       7469\n",
       "trip_distance          18403\n",
       "pickup_longitude       59605\n",
       "pickup_latitude        59102\n",
       "dropoff_longitude      61751\n",
       "dropoff_latitude       61247\n",
       "tip_amount           1584618\n",
       "total_amount               0\n",
       "dtype: int64"
      ]
     },
     "execution_count": 15,
     "metadata": {},
     "output_type": "execute_result"
    }
   ],
   "source": [
    "taxidata.isnull().sum()"
   ]
  },
  {
   "cell_type": "markdown",
   "metadata": {},
   "source": [
    "Identify the the cases without geo data and remove them from our data to be processed."
   ]
  },
  {
   "cell_type": "code",
   "execution_count": 16,
   "metadata": {
    "collapsed": true
   },
   "outputs": [],
   "source": [
    "anomaly = taxidata.loc[(taxidata['dropoff_longitude'].isnull()) | (taxidata['dropoff_latitude'].isnull()) | \n",
    "                       (taxidata['pickup_longitude'].isnull()) | (taxidata['pickup_latitude'].isnull())]\n",
    "taxidata = taxidata.drop(anomaly.index)"
   ]
  },
  {
   "cell_type": "code",
   "execution_count": 17,
   "metadata": {
    "collapsed": true
   },
   "outputs": [],
   "source": [
    "anomaly['flag'] = 'geo_NA'"
   ]
  },
  {
   "cell_type": "code",
   "execution_count": 18,
   "metadata": {
    "collapsed": false
   },
   "outputs": [
    {
     "data": {
      "text/plain": [
       "medallion                  0\n",
       "hack_license               0\n",
       "pickup_datetime            0\n",
       "dropoff_datetime           0\n",
       "passenger_count           17\n",
       "trip_time_in_secs       2144\n",
       "trip_distance          13098\n",
       "pickup_longitude           0\n",
       "pickup_latitude            0\n",
       "dropoff_longitude          0\n",
       "dropoff_latitude           0\n",
       "tip_amount           1552688\n",
       "total_amount               0\n",
       "dtype: int64"
      ]
     },
     "execution_count": 18,
     "metadata": {},
     "output_type": "execute_result"
    }
   ],
   "source": [
    "taxidata.isnull().sum()"
   ]
  },
  {
   "cell_type": "markdown",
   "metadata": {},
   "source": [
    "So how many percent of data are left to be processed?"
   ]
  },
  {
   "cell_type": "code",
   "execution_count": 19,
   "metadata": {
    "collapsed": false
   },
   "outputs": [
    {
     "data": {
      "text/plain": [
       "0.9804744683671935"
      ]
     },
     "execution_count": 19,
     "metadata": {},
     "output_type": "execute_result"
    }
   ],
   "source": [
    "len(taxidata)/(len(taxidata)+len(anomaly))"
   ]
  },
  {
   "cell_type": "markdown",
   "metadata": {},
   "source": [
    "# <font color = 'blue'> So we only dropped 2% of the data because of missing geo tags. Someone could search the 'anomaly'-data for patterns, e.g. for fraud detection. We are also going to drop all the unrecognized trip_distances because we cannot (exactly) generate them (an approximation would be possible). Missing values in trip_time_in_secs can be generated. </font color>"
   ]
  },
  {
   "cell_type": "code",
   "execution_count": 20,
   "metadata": {
    "collapsed": false
   },
   "outputs": [],
   "source": [
    "#taxidata.loc[(taxidata['trip_distance'].isnull())]\n",
    "#print(len(anomaly))\n",
    "anomaly = anomaly.append(taxidata.loc[(taxidata['trip_distance'].isnull())])\n",
    "#anomaly.tail()\n",
    "#taxidata = taxidata.drop(anomaly.index)"
   ]
  },
  {
   "cell_type": "code",
   "execution_count": 21,
   "metadata": {
    "collapsed": false
   },
   "outputs": [
    {
     "data": {
      "text/html": [
       "<div>\n",
       "<table border=\"1\" class=\"dataframe\">\n",
       "  <thead>\n",
       "    <tr style=\"text-align: right;\">\n",
       "      <th></th>\n",
       "      <th>dropoff_datetime</th>\n",
       "      <th>dropoff_latitude</th>\n",
       "      <th>dropoff_longitude</th>\n",
       "      <th>flag</th>\n",
       "      <th>hack_license</th>\n",
       "      <th>medallion</th>\n",
       "      <th>passenger_count</th>\n",
       "      <th>pickup_datetime</th>\n",
       "      <th>pickup_latitude</th>\n",
       "      <th>pickup_longitude</th>\n",
       "      <th>tip_amount</th>\n",
       "      <th>total_amount</th>\n",
       "      <th>trip_distance</th>\n",
       "      <th>trip_time_in_secs</th>\n",
       "    </tr>\n",
       "  </thead>\n",
       "  <tbody>\n",
       "    <tr>\n",
       "      <th>3265501</th>\n",
       "      <td>2013-01-13 23:57:33</td>\n",
       "      <td>40.710545</td>\n",
       "      <td>-74.013443</td>\n",
       "      <td>NaN</td>\n",
       "      <td>2013007949</td>\n",
       "      <td>2013007953</td>\n",
       "      <td>2.0</td>\n",
       "      <td>2013-01-13 23:57:17</td>\n",
       "      <td>40.710499</td>\n",
       "      <td>-74.013458</td>\n",
       "      <td>14.32</td>\n",
       "      <td>71.62</td>\n",
       "      <td>NaN</td>\n",
       "      <td>16.0</td>\n",
       "    </tr>\n",
       "    <tr>\n",
       "      <th>3265507</th>\n",
       "      <td>2013-01-13 23:57:22</td>\n",
       "      <td>40.705894</td>\n",
       "      <td>-74.006660</td>\n",
       "      <td>NaN</td>\n",
       "      <td>2013002046</td>\n",
       "      <td>2013002049</td>\n",
       "      <td>1.0</td>\n",
       "      <td>2013-01-13 23:57:20</td>\n",
       "      <td>40.705894</td>\n",
       "      <td>-74.006660</td>\n",
       "      <td>7.50</td>\n",
       "      <td>60.00</td>\n",
       "      <td>NaN</td>\n",
       "      <td>2.0</td>\n",
       "    </tr>\n",
       "    <tr>\n",
       "      <th>3265626</th>\n",
       "      <td>2013-01-13 23:58:00</td>\n",
       "      <td>40.719223</td>\n",
       "      <td>-73.987015</td>\n",
       "      <td>NaN</td>\n",
       "      <td>2013030283</td>\n",
       "      <td>2013010476</td>\n",
       "      <td>1.0</td>\n",
       "      <td>2013-01-13 23:58:00</td>\n",
       "      <td>40.719227</td>\n",
       "      <td>-73.987038</td>\n",
       "      <td>13.00</td>\n",
       "      <td>70.30</td>\n",
       "      <td>NaN</td>\n",
       "      <td>NaN</td>\n",
       "    </tr>\n",
       "    <tr>\n",
       "      <th>3265655</th>\n",
       "      <td>2013-01-13 23:58:22</td>\n",
       "      <td>40.739307</td>\n",
       "      <td>-73.979889</td>\n",
       "      <td>NaN</td>\n",
       "      <td>2013007009</td>\n",
       "      <td>2013010587</td>\n",
       "      <td>1.0</td>\n",
       "      <td>2013-01-13 23:58:03</td>\n",
       "      <td>40.739300</td>\n",
       "      <td>-73.979881</td>\n",
       "      <td>NaN</td>\n",
       "      <td>3.50</td>\n",
       "      <td>NaN</td>\n",
       "      <td>18.0</td>\n",
       "    </tr>\n",
       "    <tr>\n",
       "      <th>3265707</th>\n",
       "      <td>2013-01-14 00:01:27</td>\n",
       "      <td>40.747421</td>\n",
       "      <td>-73.990158</td>\n",
       "      <td>NaN</td>\n",
       "      <td>2013028238</td>\n",
       "      <td>2013008346</td>\n",
       "      <td>1.0</td>\n",
       "      <td>2013-01-13 23:58:35</td>\n",
       "      <td>40.747421</td>\n",
       "      <td>-73.990158</td>\n",
       "      <td>NaN</td>\n",
       "      <td>90.00</td>\n",
       "      <td>NaN</td>\n",
       "      <td>172.0</td>\n",
       "    </tr>\n",
       "  </tbody>\n",
       "</table>\n",
       "</div>"
      ],
      "text/plain": [
       "           dropoff_datetime  dropoff_latitude  dropoff_longitude flag  \\\n",
       "3265501 2013-01-13 23:57:33         40.710545         -74.013443  NaN   \n",
       "3265507 2013-01-13 23:57:22         40.705894         -74.006660  NaN   \n",
       "3265626 2013-01-13 23:58:00         40.719223         -73.987015  NaN   \n",
       "3265655 2013-01-13 23:58:22         40.739307         -73.979889  NaN   \n",
       "3265707 2013-01-14 00:01:27         40.747421         -73.990158  NaN   \n",
       "\n",
       "         hack_license   medallion  passenger_count     pickup_datetime  \\\n",
       "3265501    2013007949  2013007953              2.0 2013-01-13 23:57:17   \n",
       "3265507    2013002046  2013002049              1.0 2013-01-13 23:57:20   \n",
       "3265626    2013030283  2013010476              1.0 2013-01-13 23:58:00   \n",
       "3265655    2013007009  2013010587              1.0 2013-01-13 23:58:03   \n",
       "3265707    2013028238  2013008346              1.0 2013-01-13 23:58:35   \n",
       "\n",
       "         pickup_latitude  pickup_longitude  tip_amount  total_amount  \\\n",
       "3265501        40.710499        -74.013458       14.32         71.62   \n",
       "3265507        40.705894        -74.006660        7.50         60.00   \n",
       "3265626        40.719227        -73.987038       13.00         70.30   \n",
       "3265655        40.739300        -73.979881         NaN          3.50   \n",
       "3265707        40.747421        -73.990158         NaN         90.00   \n",
       "\n",
       "         trip_distance  trip_time_in_secs  \n",
       "3265501            NaN               16.0  \n",
       "3265507            NaN                2.0  \n",
       "3265626            NaN                NaN  \n",
       "3265655            NaN               18.0  \n",
       "3265707            NaN              172.0  "
      ]
     },
     "execution_count": 21,
     "metadata": {},
     "output_type": "execute_result"
    }
   ],
   "source": [
    "anomaly.tail()"
   ]
  },
  {
   "cell_type": "code",
   "execution_count": 22,
   "metadata": {
    "collapsed": false
   },
   "outputs": [],
   "source": [
    "#anomaly.iloc[taxidata.loc[(taxidata['trip_distance'].isnull().index]['flag'] = 'trip_dist_NA'\n",
    "# Be carefol! Do not work on the view but on the data! There is a difference between [col1, col2] and [col1][col2]!\n",
    "anomaly.loc[taxidata.loc[(taxidata['trip_distance'].isnull())].index,'flag'] = 'trip_dist_NA'"
   ]
  },
  {
   "cell_type": "code",
   "execution_count": 23,
   "metadata": {
    "collapsed": false
   },
   "outputs": [
    {
     "data": {
      "text/html": [
       "<div>\n",
       "<table border=\"1\" class=\"dataframe\">\n",
       "  <thead>\n",
       "    <tr style=\"text-align: right;\">\n",
       "      <th></th>\n",
       "      <th>dropoff_datetime</th>\n",
       "      <th>dropoff_latitude</th>\n",
       "      <th>dropoff_longitude</th>\n",
       "      <th>flag</th>\n",
       "      <th>hack_license</th>\n",
       "      <th>medallion</th>\n",
       "      <th>passenger_count</th>\n",
       "      <th>pickup_datetime</th>\n",
       "      <th>pickup_latitude</th>\n",
       "      <th>pickup_longitude</th>\n",
       "      <th>tip_amount</th>\n",
       "      <th>total_amount</th>\n",
       "      <th>trip_distance</th>\n",
       "      <th>trip_time_in_secs</th>\n",
       "    </tr>\n",
       "  </thead>\n",
       "  <tbody>\n",
       "    <tr>\n",
       "      <th>3265501</th>\n",
       "      <td>2013-01-13 23:57:33</td>\n",
       "      <td>40.710545</td>\n",
       "      <td>-74.013443</td>\n",
       "      <td>trip_dist_NA</td>\n",
       "      <td>2013007949</td>\n",
       "      <td>2013007953</td>\n",
       "      <td>2.0</td>\n",
       "      <td>2013-01-13 23:57:17</td>\n",
       "      <td>40.710499</td>\n",
       "      <td>-74.013458</td>\n",
       "      <td>14.32</td>\n",
       "      <td>71.62</td>\n",
       "      <td>NaN</td>\n",
       "      <td>16.0</td>\n",
       "    </tr>\n",
       "    <tr>\n",
       "      <th>3265507</th>\n",
       "      <td>2013-01-13 23:57:22</td>\n",
       "      <td>40.705894</td>\n",
       "      <td>-74.006660</td>\n",
       "      <td>trip_dist_NA</td>\n",
       "      <td>2013002046</td>\n",
       "      <td>2013002049</td>\n",
       "      <td>1.0</td>\n",
       "      <td>2013-01-13 23:57:20</td>\n",
       "      <td>40.705894</td>\n",
       "      <td>-74.006660</td>\n",
       "      <td>7.50</td>\n",
       "      <td>60.00</td>\n",
       "      <td>NaN</td>\n",
       "      <td>2.0</td>\n",
       "    </tr>\n",
       "    <tr>\n",
       "      <th>3265626</th>\n",
       "      <td>2013-01-13 23:58:00</td>\n",
       "      <td>40.719223</td>\n",
       "      <td>-73.987015</td>\n",
       "      <td>trip_dist_NA</td>\n",
       "      <td>2013030283</td>\n",
       "      <td>2013010476</td>\n",
       "      <td>1.0</td>\n",
       "      <td>2013-01-13 23:58:00</td>\n",
       "      <td>40.719227</td>\n",
       "      <td>-73.987038</td>\n",
       "      <td>13.00</td>\n",
       "      <td>70.30</td>\n",
       "      <td>NaN</td>\n",
       "      <td>NaN</td>\n",
       "    </tr>\n",
       "    <tr>\n",
       "      <th>3265655</th>\n",
       "      <td>2013-01-13 23:58:22</td>\n",
       "      <td>40.739307</td>\n",
       "      <td>-73.979889</td>\n",
       "      <td>trip_dist_NA</td>\n",
       "      <td>2013007009</td>\n",
       "      <td>2013010587</td>\n",
       "      <td>1.0</td>\n",
       "      <td>2013-01-13 23:58:03</td>\n",
       "      <td>40.739300</td>\n",
       "      <td>-73.979881</td>\n",
       "      <td>NaN</td>\n",
       "      <td>3.50</td>\n",
       "      <td>NaN</td>\n",
       "      <td>18.0</td>\n",
       "    </tr>\n",
       "    <tr>\n",
       "      <th>3265707</th>\n",
       "      <td>2013-01-14 00:01:27</td>\n",
       "      <td>40.747421</td>\n",
       "      <td>-73.990158</td>\n",
       "      <td>trip_dist_NA</td>\n",
       "      <td>2013028238</td>\n",
       "      <td>2013008346</td>\n",
       "      <td>1.0</td>\n",
       "      <td>2013-01-13 23:58:35</td>\n",
       "      <td>40.747421</td>\n",
       "      <td>-73.990158</td>\n",
       "      <td>NaN</td>\n",
       "      <td>90.00</td>\n",
       "      <td>NaN</td>\n",
       "      <td>172.0</td>\n",
       "    </tr>\n",
       "  </tbody>\n",
       "</table>\n",
       "</div>"
      ],
      "text/plain": [
       "           dropoff_datetime  dropoff_latitude  dropoff_longitude  \\\n",
       "3265501 2013-01-13 23:57:33         40.710545         -74.013443   \n",
       "3265507 2013-01-13 23:57:22         40.705894         -74.006660   \n",
       "3265626 2013-01-13 23:58:00         40.719223         -73.987015   \n",
       "3265655 2013-01-13 23:58:22         40.739307         -73.979889   \n",
       "3265707 2013-01-14 00:01:27         40.747421         -73.990158   \n",
       "\n",
       "                 flag  hack_license   medallion  passenger_count  \\\n",
       "3265501  trip_dist_NA    2013007949  2013007953              2.0   \n",
       "3265507  trip_dist_NA    2013002046  2013002049              1.0   \n",
       "3265626  trip_dist_NA    2013030283  2013010476              1.0   \n",
       "3265655  trip_dist_NA    2013007009  2013010587              1.0   \n",
       "3265707  trip_dist_NA    2013028238  2013008346              1.0   \n",
       "\n",
       "            pickup_datetime  pickup_latitude  pickup_longitude  tip_amount  \\\n",
       "3265501 2013-01-13 23:57:17        40.710499        -74.013458       14.32   \n",
       "3265507 2013-01-13 23:57:20        40.705894        -74.006660        7.50   \n",
       "3265626 2013-01-13 23:58:00        40.719227        -73.987038       13.00   \n",
       "3265655 2013-01-13 23:58:03        40.739300        -73.979881         NaN   \n",
       "3265707 2013-01-13 23:58:35        40.747421        -73.990158         NaN   \n",
       "\n",
       "         total_amount  trip_distance  trip_time_in_secs  \n",
       "3265501         71.62            NaN               16.0  \n",
       "3265507         60.00            NaN                2.0  \n",
       "3265626         70.30            NaN                NaN  \n",
       "3265655          3.50            NaN               18.0  \n",
       "3265707         90.00            NaN              172.0  "
      ]
     },
     "execution_count": 23,
     "metadata": {},
     "output_type": "execute_result"
    }
   ],
   "source": [
    "anomaly.tail()"
   ]
  },
  {
   "cell_type": "code",
   "execution_count": 24,
   "metadata": {
    "collapsed": false
   },
   "outputs": [],
   "source": [
    "taxidata = taxidata.drop(anomaly.index, errors='ignore') # ignore uncontained labels"
   ]
  },
  {
   "cell_type": "code",
   "execution_count": 25,
   "metadata": {
    "collapsed": false
   },
   "outputs": [
    {
     "data": {
      "text/plain": [
       "medallion                  0\n",
       "hack_license               0\n",
       "pickup_datetime            0\n",
       "dropoff_datetime           0\n",
       "passenger_count           15\n",
       "trip_time_in_secs       1095\n",
       "trip_distance              0\n",
       "pickup_longitude           0\n",
       "pickup_latitude            0\n",
       "dropoff_longitude          0\n",
       "dropoff_latitude           0\n",
       "tip_amount           1543912\n",
       "total_amount               0\n",
       "dtype: int64"
      ]
     },
     "execution_count": 25,
     "metadata": {},
     "output_type": "execute_result"
    }
   ],
   "source": [
    "taxidata.isnull().sum()"
   ]
  },
  {
   "cell_type": "code",
   "execution_count": 26,
   "metadata": {
    "collapsed": false
   },
   "outputs": [
    {
     "data": {
      "text/plain": [
       "0.023536029105348022"
      ]
     },
     "execution_count": 26,
     "metadata": {},
     "output_type": "execute_result"
    }
   ],
   "source": [
    "1-len(taxidata)/(len(taxidata)+len(anomaly))"
   ]
  },
  {
   "cell_type": "markdown",
   "metadata": {},
   "source": [
    "We already know that there is some data missing in trip_time_in_secs. Therefore we generate it through the information we have from the pickup- and dropoff-datetimes."
   ]
  },
  {
   "cell_type": "code",
   "execution_count": 27,
   "metadata": {
    "collapsed": false
   },
   "outputs": [
    {
     "name": "stdout",
     "output_type": "stream",
     "text": [
      "<class 'pandas.core.frame.DataFrame'>\n",
      "Int64Index: 1095 entries, 3204 to 3263562\n",
      "Data columns (total 13 columns):\n",
      "medallion            1095 non-null int64\n",
      "hack_license         1095 non-null int64\n",
      "pickup_datetime      1095 non-null datetime64[ns]\n",
      "dropoff_datetime     1095 non-null datetime64[ns]\n",
      "passenger_count      1095 non-null float64\n",
      "trip_time_in_secs    0 non-null float64\n",
      "trip_distance        1095 non-null float64\n",
      "pickup_longitude     1095 non-null float64\n",
      "pickup_latitude      1095 non-null float64\n",
      "dropoff_longitude    1095 non-null float64\n",
      "dropoff_latitude     1095 non-null float64\n",
      "tip_amount           147 non-null float64\n",
      "total_amount         1095 non-null float64\n",
      "dtypes: datetime64[ns](2), float64(9), int64(2)\n",
      "memory usage: 119.8 KB\n"
     ]
    },
    {
     "data": {
      "text/html": [
       "<div>\n",
       "<table border=\"1\" class=\"dataframe\">\n",
       "  <thead>\n",
       "    <tr style=\"text-align: right;\">\n",
       "      <th></th>\n",
       "      <th>medallion</th>\n",
       "      <th>hack_license</th>\n",
       "      <th>pickup_datetime</th>\n",
       "      <th>dropoff_datetime</th>\n",
       "      <th>passenger_count</th>\n",
       "      <th>trip_time_in_secs</th>\n",
       "      <th>trip_distance</th>\n",
       "      <th>pickup_longitude</th>\n",
       "      <th>pickup_latitude</th>\n",
       "      <th>dropoff_longitude</th>\n",
       "      <th>dropoff_latitude</th>\n",
       "      <th>tip_amount</th>\n",
       "      <th>total_amount</th>\n",
       "    </tr>\n",
       "  </thead>\n",
       "  <tbody>\n",
       "    <tr>\n",
       "      <th>2944954</th>\n",
       "      <td>2013002518</td>\n",
       "      <td>2013002515</td>\n",
       "      <td>2013-01-13 05:48:00</td>\n",
       "      <td>2013-01-13 05:48:00</td>\n",
       "      <td>5.0</td>\n",
       "      <td>NaN</td>\n",
       "      <td>0.19</td>\n",
       "      <td>-73.949493</td>\n",
       "      <td>40.640923</td>\n",
       "      <td>-73.950829</td>\n",
       "      <td>40.640842</td>\n",
       "      <td>NaN</td>\n",
       "      <td>3.5</td>\n",
       "    </tr>\n",
       "    <tr>\n",
       "      <th>2945287</th>\n",
       "      <td>2013001434</td>\n",
       "      <td>2013001431</td>\n",
       "      <td>2013-01-13 05:53:00</td>\n",
       "      <td>2013-01-13 05:53:00</td>\n",
       "      <td>2.0</td>\n",
       "      <td>NaN</td>\n",
       "      <td>0.12</td>\n",
       "      <td>-73.965797</td>\n",
       "      <td>40.650429</td>\n",
       "      <td>-73.965141</td>\n",
       "      <td>40.650688</td>\n",
       "      <td>8.0</td>\n",
       "      <td>48.5</td>\n",
       "    </tr>\n",
       "    <tr>\n",
       "      <th>2946076</th>\n",
       "      <td>2013008845</td>\n",
       "      <td>2013028305</td>\n",
       "      <td>2013-01-13 06:04:00</td>\n",
       "      <td>2013-01-13 06:04:00</td>\n",
       "      <td>1.0</td>\n",
       "      <td>NaN</td>\n",
       "      <td>0.01</td>\n",
       "      <td>-73.973885</td>\n",
       "      <td>40.794327</td>\n",
       "      <td>-73.973907</td>\n",
       "      <td>40.794312</td>\n",
       "      <td>NaN</td>\n",
       "      <td>3.0</td>\n",
       "    </tr>\n",
       "    <tr>\n",
       "      <th>2946265</th>\n",
       "      <td>2013003719</td>\n",
       "      <td>2013003715</td>\n",
       "      <td>2013-01-13 06:07:00</td>\n",
       "      <td>2013-01-13 06:07:00</td>\n",
       "      <td>1.0</td>\n",
       "      <td>NaN</td>\n",
       "      <td>0.31</td>\n",
       "      <td>-73.972237</td>\n",
       "      <td>40.786392</td>\n",
       "      <td>-73.972733</td>\n",
       "      <td>40.785816</td>\n",
       "      <td>NaN</td>\n",
       "      <td>3.5</td>\n",
       "    </tr>\n",
       "    <tr>\n",
       "      <th>2947830</th>\n",
       "      <td>2013002947</td>\n",
       "      <td>2013012377</td>\n",
       "      <td>2013-01-13 06:31:00</td>\n",
       "      <td>2013-01-13 06:31:00</td>\n",
       "      <td>6.0</td>\n",
       "      <td>NaN</td>\n",
       "      <td>0.41</td>\n",
       "      <td>-73.991348</td>\n",
       "      <td>40.755516</td>\n",
       "      <td>-73.989021</td>\n",
       "      <td>40.758438</td>\n",
       "      <td>NaN</td>\n",
       "      <td>4.0</td>\n",
       "    </tr>\n",
       "    <tr>\n",
       "      <th>2948743</th>\n",
       "      <td>2013002188</td>\n",
       "      <td>2013001539</td>\n",
       "      <td>2013-01-13 06:43:00</td>\n",
       "      <td>2013-01-13 06:43:00</td>\n",
       "      <td>5.0</td>\n",
       "      <td>NaN</td>\n",
       "      <td>0.34</td>\n",
       "      <td>-73.981628</td>\n",
       "      <td>40.752281</td>\n",
       "      <td>-73.986534</td>\n",
       "      <td>40.749607</td>\n",
       "      <td>NaN</td>\n",
       "      <td>3.5</td>\n",
       "    </tr>\n",
       "    <tr>\n",
       "      <th>2949566</th>\n",
       "      <td>2013000141</td>\n",
       "      <td>2013000141</td>\n",
       "      <td>2013-01-13 06:54:00</td>\n",
       "      <td>2013-01-13 06:54:00</td>\n",
       "      <td>5.0</td>\n",
       "      <td>NaN</td>\n",
       "      <td>0.02</td>\n",
       "      <td>-73.966682</td>\n",
       "      <td>40.799030</td>\n",
       "      <td>-73.966682</td>\n",
       "      <td>40.799030</td>\n",
       "      <td>NaN</td>\n",
       "      <td>3.0</td>\n",
       "    </tr>\n",
       "    <tr>\n",
       "      <th>2949701</th>\n",
       "      <td>2013000572</td>\n",
       "      <td>2013012260</td>\n",
       "      <td>2013-01-13 06:56:00</td>\n",
       "      <td>2013-01-13 06:56:00</td>\n",
       "      <td>1.0</td>\n",
       "      <td>NaN</td>\n",
       "      <td>0.13</td>\n",
       "      <td>-74.006813</td>\n",
       "      <td>40.735771</td>\n",
       "      <td>-74.007370</td>\n",
       "      <td>40.735626</td>\n",
       "      <td>NaN</td>\n",
       "      <td>3.0</td>\n",
       "    </tr>\n",
       "    <tr>\n",
       "      <th>2949782</th>\n",
       "      <td>2013011102</td>\n",
       "      <td>2013014679</td>\n",
       "      <td>2013-01-13 06:57:00</td>\n",
       "      <td>2013-01-13 06:57:00</td>\n",
       "      <td>1.0</td>\n",
       "      <td>NaN</td>\n",
       "      <td>1.95</td>\n",
       "      <td>-73.975067</td>\n",
       "      <td>40.757706</td>\n",
       "      <td>-74.000092</td>\n",
       "      <td>40.758617</td>\n",
       "      <td>NaN</td>\n",
       "      <td>9.5</td>\n",
       "    </tr>\n",
       "    <tr>\n",
       "      <th>2950729</th>\n",
       "      <td>2013006669</td>\n",
       "      <td>2013014147</td>\n",
       "      <td>2013-01-13 07:09:00</td>\n",
       "      <td>2013-01-13 07:09:00</td>\n",
       "      <td>1.0</td>\n",
       "      <td>NaN</td>\n",
       "      <td>0.05</td>\n",
       "      <td>-73.973656</td>\n",
       "      <td>40.738422</td>\n",
       "      <td>-73.973656</td>\n",
       "      <td>40.738422</td>\n",
       "      <td>NaN</td>\n",
       "      <td>5.5</td>\n",
       "    </tr>\n",
       "    <tr>\n",
       "      <th>2950754</th>\n",
       "      <td>2013006669</td>\n",
       "      <td>2013006665</td>\n",
       "      <td>2013-01-13 07:09:00</td>\n",
       "      <td>2013-01-13 07:09:00</td>\n",
       "      <td>1.0</td>\n",
       "      <td>NaN</td>\n",
       "      <td>0.90</td>\n",
       "      <td>-73.979225</td>\n",
       "      <td>40.747093</td>\n",
       "      <td>-73.929260</td>\n",
       "      <td>40.850357</td>\n",
       "      <td>4.0</td>\n",
       "      <td>33.5</td>\n",
       "    </tr>\n",
       "    <tr>\n",
       "      <th>2950837</th>\n",
       "      <td>2013007756</td>\n",
       "      <td>2013007752</td>\n",
       "      <td>2013-01-13 07:10:00</td>\n",
       "      <td>2013-01-13 07:10:00</td>\n",
       "      <td>1.0</td>\n",
       "      <td>NaN</td>\n",
       "      <td>0.35</td>\n",
       "      <td>-73.949509</td>\n",
       "      <td>40.776958</td>\n",
       "      <td>-73.949738</td>\n",
       "      <td>40.777092</td>\n",
       "      <td>NaN</td>\n",
       "      <td>3.5</td>\n",
       "    </tr>\n",
       "    <tr>\n",
       "      <th>2960216</th>\n",
       "      <td>2013006841</td>\n",
       "      <td>2013025297</td>\n",
       "      <td>2013-01-13 08:37:00</td>\n",
       "      <td>2013-01-13 08:37:00</td>\n",
       "      <td>6.0</td>\n",
       "      <td>NaN</td>\n",
       "      <td>0.01</td>\n",
       "      <td>-73.987045</td>\n",
       "      <td>40.757702</td>\n",
       "      <td>-73.781784</td>\n",
       "      <td>40.644463</td>\n",
       "      <td>NaN</td>\n",
       "      <td>57.3</td>\n",
       "    </tr>\n",
       "    <tr>\n",
       "      <th>2960226</th>\n",
       "      <td>2013007172</td>\n",
       "      <td>2013022067</td>\n",
       "      <td>2013-01-13 08:37:00</td>\n",
       "      <td>2013-01-13 08:37:00</td>\n",
       "      <td>1.0</td>\n",
       "      <td>NaN</td>\n",
       "      <td>0.01</td>\n",
       "      <td>-73.989143</td>\n",
       "      <td>40.763325</td>\n",
       "      <td>-73.989143</td>\n",
       "      <td>40.763306</td>\n",
       "      <td>NaN</td>\n",
       "      <td>3.0</td>\n",
       "    </tr>\n",
       "    <tr>\n",
       "      <th>2961323</th>\n",
       "      <td>2013011073</td>\n",
       "      <td>2013014383</td>\n",
       "      <td>2013-01-13 08:44:00</td>\n",
       "      <td>2013-01-13 08:44:00</td>\n",
       "      <td>6.0</td>\n",
       "      <td>NaN</td>\n",
       "      <td>0.17</td>\n",
       "      <td>-73.942856</td>\n",
       "      <td>40.806599</td>\n",
       "      <td>-73.942116</td>\n",
       "      <td>40.806286</td>\n",
       "      <td>0.5</td>\n",
       "      <td>3.5</td>\n",
       "    </tr>\n",
       "    <tr>\n",
       "      <th>2963425</th>\n",
       "      <td>2013007111</td>\n",
       "      <td>2013011195</td>\n",
       "      <td>2013-01-13 08:56:00</td>\n",
       "      <td>2013-01-13 08:56:00</td>\n",
       "      <td>1.0</td>\n",
       "      <td>NaN</td>\n",
       "      <td>0.17</td>\n",
       "      <td>-73.783539</td>\n",
       "      <td>40.643951</td>\n",
       "      <td>-73.783539</td>\n",
       "      <td>40.643951</td>\n",
       "      <td>NaN</td>\n",
       "      <td>3.0</td>\n",
       "    </tr>\n",
       "    <tr>\n",
       "      <th>2964929</th>\n",
       "      <td>2013000667</td>\n",
       "      <td>2013000664</td>\n",
       "      <td>2013-01-13 09:05:00</td>\n",
       "      <td>2013-01-13 09:05:00</td>\n",
       "      <td>1.0</td>\n",
       "      <td>NaN</td>\n",
       "      <td>0.31</td>\n",
       "      <td>-73.975883</td>\n",
       "      <td>40.788906</td>\n",
       "      <td>-73.976746</td>\n",
       "      <td>40.788101</td>\n",
       "      <td>NaN</td>\n",
       "      <td>3.5</td>\n",
       "    </tr>\n",
       "    <tr>\n",
       "      <th>2965960</th>\n",
       "      <td>2013000269</td>\n",
       "      <td>2013011766</td>\n",
       "      <td>2013-01-13 09:11:00</td>\n",
       "      <td>2013-01-13 09:11:00</td>\n",
       "      <td>1.0</td>\n",
       "      <td>NaN</td>\n",
       "      <td>0.35</td>\n",
       "      <td>-73.956810</td>\n",
       "      <td>40.774910</td>\n",
       "      <td>-73.956299</td>\n",
       "      <td>40.775585</td>\n",
       "      <td>0.6</td>\n",
       "      <td>4.1</td>\n",
       "    </tr>\n",
       "    <tr>\n",
       "      <th>2969567</th>\n",
       "      <td>2013009757</td>\n",
       "      <td>2013016492</td>\n",
       "      <td>2013-01-13 09:30:00</td>\n",
       "      <td>2013-01-13 09:30:00</td>\n",
       "      <td>3.0</td>\n",
       "      <td>NaN</td>\n",
       "      <td>0.07</td>\n",
       "      <td>-73.955460</td>\n",
       "      <td>40.779587</td>\n",
       "      <td>-73.956863</td>\n",
       "      <td>40.780102</td>\n",
       "      <td>NaN</td>\n",
       "      <td>3.0</td>\n",
       "    </tr>\n",
       "    <tr>\n",
       "      <th>2970590</th>\n",
       "      <td>2013005800</td>\n",
       "      <td>2013019823</td>\n",
       "      <td>2013-01-13 09:35:00</td>\n",
       "      <td>2013-01-13 09:35:00</td>\n",
       "      <td>2.0</td>\n",
       "      <td>NaN</td>\n",
       "      <td>0.32</td>\n",
       "      <td>-73.974098</td>\n",
       "      <td>40.769447</td>\n",
       "      <td>-73.974098</td>\n",
       "      <td>40.769447</td>\n",
       "      <td>NaN</td>\n",
       "      <td>3.5</td>\n",
       "    </tr>\n",
       "  </tbody>\n",
       "</table>\n",
       "</div>"
      ],
      "text/plain": [
       "          medallion  hack_license     pickup_datetime    dropoff_datetime  \\\n",
       "2944954  2013002518    2013002515 2013-01-13 05:48:00 2013-01-13 05:48:00   \n",
       "2945287  2013001434    2013001431 2013-01-13 05:53:00 2013-01-13 05:53:00   \n",
       "2946076  2013008845    2013028305 2013-01-13 06:04:00 2013-01-13 06:04:00   \n",
       "2946265  2013003719    2013003715 2013-01-13 06:07:00 2013-01-13 06:07:00   \n",
       "2947830  2013002947    2013012377 2013-01-13 06:31:00 2013-01-13 06:31:00   \n",
       "2948743  2013002188    2013001539 2013-01-13 06:43:00 2013-01-13 06:43:00   \n",
       "2949566  2013000141    2013000141 2013-01-13 06:54:00 2013-01-13 06:54:00   \n",
       "2949701  2013000572    2013012260 2013-01-13 06:56:00 2013-01-13 06:56:00   \n",
       "2949782  2013011102    2013014679 2013-01-13 06:57:00 2013-01-13 06:57:00   \n",
       "2950729  2013006669    2013014147 2013-01-13 07:09:00 2013-01-13 07:09:00   \n",
       "2950754  2013006669    2013006665 2013-01-13 07:09:00 2013-01-13 07:09:00   \n",
       "2950837  2013007756    2013007752 2013-01-13 07:10:00 2013-01-13 07:10:00   \n",
       "2960216  2013006841    2013025297 2013-01-13 08:37:00 2013-01-13 08:37:00   \n",
       "2960226  2013007172    2013022067 2013-01-13 08:37:00 2013-01-13 08:37:00   \n",
       "2961323  2013011073    2013014383 2013-01-13 08:44:00 2013-01-13 08:44:00   \n",
       "2963425  2013007111    2013011195 2013-01-13 08:56:00 2013-01-13 08:56:00   \n",
       "2964929  2013000667    2013000664 2013-01-13 09:05:00 2013-01-13 09:05:00   \n",
       "2965960  2013000269    2013011766 2013-01-13 09:11:00 2013-01-13 09:11:00   \n",
       "2969567  2013009757    2013016492 2013-01-13 09:30:00 2013-01-13 09:30:00   \n",
       "2970590  2013005800    2013019823 2013-01-13 09:35:00 2013-01-13 09:35:00   \n",
       "\n",
       "         passenger_count  trip_time_in_secs  trip_distance  pickup_longitude  \\\n",
       "2944954              5.0                NaN           0.19        -73.949493   \n",
       "2945287              2.0                NaN           0.12        -73.965797   \n",
       "2946076              1.0                NaN           0.01        -73.973885   \n",
       "2946265              1.0                NaN           0.31        -73.972237   \n",
       "2947830              6.0                NaN           0.41        -73.991348   \n",
       "2948743              5.0                NaN           0.34        -73.981628   \n",
       "2949566              5.0                NaN           0.02        -73.966682   \n",
       "2949701              1.0                NaN           0.13        -74.006813   \n",
       "2949782              1.0                NaN           1.95        -73.975067   \n",
       "2950729              1.0                NaN           0.05        -73.973656   \n",
       "2950754              1.0                NaN           0.90        -73.979225   \n",
       "2950837              1.0                NaN           0.35        -73.949509   \n",
       "2960216              6.0                NaN           0.01        -73.987045   \n",
       "2960226              1.0                NaN           0.01        -73.989143   \n",
       "2961323              6.0                NaN           0.17        -73.942856   \n",
       "2963425              1.0                NaN           0.17        -73.783539   \n",
       "2964929              1.0                NaN           0.31        -73.975883   \n",
       "2965960              1.0                NaN           0.35        -73.956810   \n",
       "2969567              3.0                NaN           0.07        -73.955460   \n",
       "2970590              2.0                NaN           0.32        -73.974098   \n",
       "\n",
       "         pickup_latitude  dropoff_longitude  dropoff_latitude  tip_amount  \\\n",
       "2944954        40.640923         -73.950829         40.640842         NaN   \n",
       "2945287        40.650429         -73.965141         40.650688         8.0   \n",
       "2946076        40.794327         -73.973907         40.794312         NaN   \n",
       "2946265        40.786392         -73.972733         40.785816         NaN   \n",
       "2947830        40.755516         -73.989021         40.758438         NaN   \n",
       "2948743        40.752281         -73.986534         40.749607         NaN   \n",
       "2949566        40.799030         -73.966682         40.799030         NaN   \n",
       "2949701        40.735771         -74.007370         40.735626         NaN   \n",
       "2949782        40.757706         -74.000092         40.758617         NaN   \n",
       "2950729        40.738422         -73.973656         40.738422         NaN   \n",
       "2950754        40.747093         -73.929260         40.850357         4.0   \n",
       "2950837        40.776958         -73.949738         40.777092         NaN   \n",
       "2960216        40.757702         -73.781784         40.644463         NaN   \n",
       "2960226        40.763325         -73.989143         40.763306         NaN   \n",
       "2961323        40.806599         -73.942116         40.806286         0.5   \n",
       "2963425        40.643951         -73.783539         40.643951         NaN   \n",
       "2964929        40.788906         -73.976746         40.788101         NaN   \n",
       "2965960        40.774910         -73.956299         40.775585         0.6   \n",
       "2969567        40.779587         -73.956863         40.780102         NaN   \n",
       "2970590        40.769447         -73.974098         40.769447         NaN   \n",
       "\n",
       "         total_amount  \n",
       "2944954           3.5  \n",
       "2945287          48.5  \n",
       "2946076           3.0  \n",
       "2946265           3.5  \n",
       "2947830           4.0  \n",
       "2948743           3.5  \n",
       "2949566           3.0  \n",
       "2949701           3.0  \n",
       "2949782           9.5  \n",
       "2950729           5.5  \n",
       "2950754          33.5  \n",
       "2950837           3.5  \n",
       "2960216          57.3  \n",
       "2960226           3.0  \n",
       "2961323           3.5  \n",
       "2963425           3.0  \n",
       "2964929           3.5  \n",
       "2965960           4.1  \n",
       "2969567           3.0  \n",
       "2970590           3.5  "
      ]
     },
     "execution_count": 27,
     "metadata": {},
     "output_type": "execute_result"
    }
   ],
   "source": [
    "taxidata.loc[taxidata.trip_time_in_secs.isnull()].info()\n",
    "taxidata.loc[taxidata.trip_time_in_secs.isnull()].iloc[995:1015]\n",
    "#taxidata.loc[taxidata.trip_time_in_secs.isnull(), 'dropoff_datetime']# - \\\n",
    "#taxidata.loc[taxidata.trip_time_in_secs.isnull(),'pickup_datetime']"
   ]
  },
  {
   "cell_type": "markdown",
   "metadata": {},
   "source": [
    "We can see via a quick inspection, that the datetimes in pickup and dropoff are equal. So we cannot reproduce the trip times. We can also see that there are trips where the geodata are the same for pickup and dropoff. Is there some fraud going on here? If all that is payed with cash, it could be money laundering. "
   ]
  },
  {
   "cell_type": "markdown",
   "metadata": {},
   "source": [
    "# <font color = 'red'> Where trip_time = 0, pickup_geo needs to be the same as dropoff_geo. Is this fulfilled? </font color>"
   ]
  },
  {
   "cell_type": "markdown",
   "metadata": {},
   "source": [
    "# <font color = 'blue'> This are strange data. Pickup and dropoff are sometimes the same in geodata and in datetime. Furthermore, the total amount shows high variation in the same distance (e.g. 0.01 miles for 57.3\\$ and 3.0\\$). We'll put all of that in the anomaly-data. </font color>"
   ]
  },
  {
   "cell_type": "code",
   "execution_count": 28,
   "metadata": {
    "collapsed": false
   },
   "outputs": [
    {
     "data": {
      "text/plain": [
       "Timedelta('0 days 00:24:03')"
      ]
     },
     "execution_count": 28,
     "metadata": {},
     "output_type": "execute_result"
    }
   ],
   "source": [
    "(taxidata.loc[taxidata.trip_time_in_secs.isnull(), 'dropoff_datetime']- \\\n",
    "taxidata.loc[taxidata.trip_time_in_secs.isnull(),'pickup_datetime']).sum()"
   ]
  },
  {
   "cell_type": "code",
   "execution_count": 29,
   "metadata": {
    "collapsed": false
   },
   "outputs": [],
   "source": [
    "anomaly = anomaly.append(taxidata.loc[(taxidata['trip_time_in_secs'].isnull())])\n",
    "anomaly.loc[taxidata.loc[(taxidata['trip_time_in_secs'].isnull())].index,'flag'] = 'trip_time_NA'\n",
    "taxidata = taxidata.drop(anomaly.index, errors='ignore') # ignore uncontained labels / indices"
   ]
  },
  {
   "cell_type": "code",
   "execution_count": 30,
   "metadata": {
    "collapsed": false
   },
   "outputs": [
    {
     "data": {
      "text/html": [
       "<div>\n",
       "<table border=\"1\" class=\"dataframe\">\n",
       "  <thead>\n",
       "    <tr style=\"text-align: right;\">\n",
       "      <th></th>\n",
       "      <th>dropoff_datetime</th>\n",
       "      <th>dropoff_latitude</th>\n",
       "      <th>dropoff_longitude</th>\n",
       "      <th>flag</th>\n",
       "      <th>hack_license</th>\n",
       "      <th>medallion</th>\n",
       "      <th>passenger_count</th>\n",
       "      <th>pickup_datetime</th>\n",
       "      <th>pickup_latitude</th>\n",
       "      <th>pickup_longitude</th>\n",
       "      <th>tip_amount</th>\n",
       "      <th>total_amount</th>\n",
       "      <th>trip_distance</th>\n",
       "      <th>trip_time_in_secs</th>\n",
       "    </tr>\n",
       "  </thead>\n",
       "  <tbody>\n",
       "    <tr>\n",
       "      <th>3247520</th>\n",
       "      <td>2013-01-13 22:40:00</td>\n",
       "      <td>40.736046</td>\n",
       "      <td>-73.989349</td>\n",
       "      <td>trip_time_NA</td>\n",
       "      <td>2013020834</td>\n",
       "      <td>2013005240</td>\n",
       "      <td>6.0</td>\n",
       "      <td>2013-01-13 22:40:00</td>\n",
       "      <td>40.738895</td>\n",
       "      <td>-73.987343</td>\n",
       "      <td>NaN</td>\n",
       "      <td>4.5</td>\n",
       "      <td>0.44</td>\n",
       "      <td>NaN</td>\n",
       "    </tr>\n",
       "    <tr>\n",
       "      <th>3258283</th>\n",
       "      <td>2013-01-13 23:22:00</td>\n",
       "      <td>40.772289</td>\n",
       "      <td>-73.956009</td>\n",
       "      <td>trip_time_NA</td>\n",
       "      <td>2013009929</td>\n",
       "      <td>2013009929</td>\n",
       "      <td>5.0</td>\n",
       "      <td>2013-01-13 23:22:00</td>\n",
       "      <td>40.772316</td>\n",
       "      <td>-73.955986</td>\n",
       "      <td>NaN</td>\n",
       "      <td>3.5</td>\n",
       "      <td>0.08</td>\n",
       "      <td>NaN</td>\n",
       "    </tr>\n",
       "    <tr>\n",
       "      <th>3260133</th>\n",
       "      <td>2013-01-13 23:30:00</td>\n",
       "      <td>40.648781</td>\n",
       "      <td>-73.785507</td>\n",
       "      <td>trip_time_NA</td>\n",
       "      <td>2013001165</td>\n",
       "      <td>2013001168</td>\n",
       "      <td>1.0</td>\n",
       "      <td>2013-01-13 23:30:00</td>\n",
       "      <td>40.648514</td>\n",
       "      <td>-73.785347</td>\n",
       "      <td>NaN</td>\n",
       "      <td>3.5</td>\n",
       "      <td>0.04</td>\n",
       "      <td>NaN</td>\n",
       "    </tr>\n",
       "    <tr>\n",
       "      <th>3261028</th>\n",
       "      <td>2013-01-13 23:34:00</td>\n",
       "      <td>40.645409</td>\n",
       "      <td>-73.776665</td>\n",
       "      <td>trip_time_NA</td>\n",
       "      <td>2013005170</td>\n",
       "      <td>2013005173</td>\n",
       "      <td>2.0</td>\n",
       "      <td>2013-01-13 23:34:00</td>\n",
       "      <td>40.645367</td>\n",
       "      <td>-73.776627</td>\n",
       "      <td>NaN</td>\n",
       "      <td>3.5</td>\n",
       "      <td>0.05</td>\n",
       "      <td>NaN</td>\n",
       "    </tr>\n",
       "    <tr>\n",
       "      <th>3263562</th>\n",
       "      <td>2013-01-13 23:47:00</td>\n",
       "      <td>40.763348</td>\n",
       "      <td>-73.928284</td>\n",
       "      <td>trip_time_NA</td>\n",
       "      <td>2013016853</td>\n",
       "      <td>2013005133</td>\n",
       "      <td>1.0</td>\n",
       "      <td>2013-01-13 23:47:00</td>\n",
       "      <td>40.763344</td>\n",
       "      <td>-73.928284</td>\n",
       "      <td>NaN</td>\n",
       "      <td>3.5</td>\n",
       "      <td>0.04</td>\n",
       "      <td>NaN</td>\n",
       "    </tr>\n",
       "  </tbody>\n",
       "</table>\n",
       "</div>"
      ],
      "text/plain": [
       "           dropoff_datetime  dropoff_latitude  dropoff_longitude  \\\n",
       "3247520 2013-01-13 22:40:00         40.736046         -73.989349   \n",
       "3258283 2013-01-13 23:22:00         40.772289         -73.956009   \n",
       "3260133 2013-01-13 23:30:00         40.648781         -73.785507   \n",
       "3261028 2013-01-13 23:34:00         40.645409         -73.776665   \n",
       "3263562 2013-01-13 23:47:00         40.763348         -73.928284   \n",
       "\n",
       "                 flag  hack_license   medallion  passenger_count  \\\n",
       "3247520  trip_time_NA    2013020834  2013005240              6.0   \n",
       "3258283  trip_time_NA    2013009929  2013009929              5.0   \n",
       "3260133  trip_time_NA    2013001165  2013001168              1.0   \n",
       "3261028  trip_time_NA    2013005170  2013005173              2.0   \n",
       "3263562  trip_time_NA    2013016853  2013005133              1.0   \n",
       "\n",
       "            pickup_datetime  pickup_latitude  pickup_longitude  tip_amount  \\\n",
       "3247520 2013-01-13 22:40:00        40.738895        -73.987343         NaN   \n",
       "3258283 2013-01-13 23:22:00        40.772316        -73.955986         NaN   \n",
       "3260133 2013-01-13 23:30:00        40.648514        -73.785347         NaN   \n",
       "3261028 2013-01-13 23:34:00        40.645367        -73.776627         NaN   \n",
       "3263562 2013-01-13 23:47:00        40.763344        -73.928284         NaN   \n",
       "\n",
       "         total_amount  trip_distance  trip_time_in_secs  \n",
       "3247520           4.5           0.44                NaN  \n",
       "3258283           3.5           0.08                NaN  \n",
       "3260133           3.5           0.04                NaN  \n",
       "3261028           3.5           0.05                NaN  \n",
       "3263562           3.5           0.04                NaN  "
      ]
     },
     "execution_count": 30,
     "metadata": {},
     "output_type": "execute_result"
    }
   ],
   "source": [
    "anomaly.tail()"
   ]
  },
  {
   "cell_type": "code",
   "execution_count": 31,
   "metadata": {
    "collapsed": false
   },
   "outputs": [
    {
     "data": {
      "text/plain": [
       "0.02387130889863187"
      ]
     },
     "execution_count": 31,
     "metadata": {},
     "output_type": "execute_result"
    }
   ],
   "source": [
    "1-len(taxidata)/(len(taxidata)+len(anomaly))"
   ]
  },
  {
   "cell_type": "markdown",
   "metadata": {},
   "source": [
    "# <font color = 'blue'> So all in all, we dropped about 2.4% of the data. </font color>"
   ]
  },
  {
   "cell_type": "code",
   "execution_count": 32,
   "metadata": {
    "collapsed": false
   },
   "outputs": [
    {
     "data": {
      "text/plain": [
       "medallion                  0\n",
       "hack_license               0\n",
       "pickup_datetime            0\n",
       "dropoff_datetime           0\n",
       "passenger_count           15\n",
       "trip_time_in_secs          0\n",
       "trip_distance              0\n",
       "pickup_longitude           0\n",
       "pickup_latitude            0\n",
       "dropoff_longitude          0\n",
       "dropoff_latitude           0\n",
       "tip_amount           1542964\n",
       "total_amount               0\n",
       "dtype: int64"
      ]
     },
     "execution_count": 32,
     "metadata": {},
     "output_type": "execute_result"
    }
   ],
   "source": [
    "taxidata.isnull().sum()"
   ]
  },
  {
   "cell_type": "markdown",
   "metadata": {},
   "source": [
    "We can deal with that. External investigation of the anomaly is recommended."
   ]
  },
  {
   "cell_type": "markdown",
   "metadata": {},
   "source": [
    "# Start validating the non-anomaly data: Valid trip_time, valid distance?"
   ]
  },
  {
   "cell_type": "code",
   "execution_count": 33,
   "metadata": {
    "collapsed": false
   },
   "outputs": [],
   "source": [
    "taxidata['diff_calc_rec_time'] = taxidata.dropoff_datetime - taxidata.pickup_datetime - \\\n",
    "    pd.to_timedelta(taxidata['trip_time_in_secs'], unit='s')"
   ]
  },
  {
   "cell_type": "code",
   "execution_count": 34,
   "metadata": {
    "collapsed": false
   },
   "outputs": [
    {
     "data": {
      "text/plain": [
       "count    3.187967e+06\n",
       "mean     6.862127e+02\n",
       "std      4.913252e+02\n",
       "min      1.000000e+00\n",
       "25%      3.600000e+02\n",
       "50%      5.600000e+02\n",
       "75%      8.830000e+02\n",
       "max      1.068000e+04\n",
       "Name: trip_time_in_secs, dtype: float64"
      ]
     },
     "execution_count": 34,
     "metadata": {},
     "output_type": "execute_result"
    }
   ],
   "source": [
    "taxidata.trip_time_in_secs.describe()"
   ]
  },
  {
   "cell_type": "markdown",
   "metadata": {},
   "source": [
    "Okay, even here we have unreasonable trip_times. We'll identify those trips later via avg_velocity."
   ]
  },
  {
   "cell_type": "code",
   "execution_count": 35,
   "metadata": {
    "collapsed": false
   },
   "outputs": [
    {
     "data": {
      "text/plain": [
       "count                   3187967\n",
       "mean     0 days 00:00:01.708074\n",
       "std      0 days 00:11:30.114537\n",
       "min           -1 days +23:20:13\n",
       "25%             0 days 00:00:00\n",
       "50%             0 days 00:00:00\n",
       "75%             0 days 00:00:01\n",
       "max            14 days 00:00:34\n",
       "Name: diff_calc_rec_time, dtype: object"
      ]
     },
     "execution_count": 35,
     "metadata": {},
     "output_type": "execute_result"
    }
   ],
   "source": [
    "taxidata.diff_calc_rec_time.describe()"
   ]
  },
  {
   "cell_type": "code",
   "execution_count": 36,
   "metadata": {
    "collapsed": false
   },
   "outputs": [
    {
     "data": {
      "text/plain": [
       "0.0001       4.0000\n",
       "0.0100     104.0000\n",
       "0.9500    1605.0000\n",
       "0.9900    2465.0000\n",
       "0.9999    6000.2034\n",
       "Name: trip_time_in_secs, dtype: float64"
      ]
     },
     "execution_count": 36,
     "metadata": {},
     "output_type": "execute_result"
    }
   ],
   "source": [
    "taxidata.trip_time_in_secs.quantile([.0001,.01, .95, .99, .9999])"
   ]
  },
  {
   "cell_type": "markdown",
   "metadata": {},
   "source": [
    "# <font color = 'red'> An ECDF with logarithmic scale might be suitable right here for identifying unreasonably small trip_times. Have a look at the average amount per time! </font color>"
   ]
  },
  {
   "cell_type": "code",
   "execution_count": 37,
   "metadata": {
    "collapsed": true
   },
   "outputs": [],
   "source": [
    "taxidata['avg_amount_per_minute'] = taxidata.total_amount / (taxidata.trip_time_in_secs / 60.0)"
   ]
  },
  {
   "cell_type": "code",
   "execution_count": 38,
   "metadata": {
    "collapsed": false
   },
   "outputs": [
    {
     "name": "stdout",
     "output_type": "stream",
     "text": [
      "Min:0.0189553496209\n",
      "Max:6000.0\n"
     ]
    },
    {
     "data": {
      "image/png": "[encoded data removed]",
      "text/plain": [
       "<matplotlib.figure.Figure at 0x7fc4b05d6668>"
      ]
     },
     "metadata": {},
     "output_type": "display_data"
    }
   ],
   "source": [
    "h = taxidata.avg_amount_per_minute\n",
    "plt.figure(figsize=(20,10))\n",
    "plt.hist(h, normed=False, stacked=True, bins=40, range=[0 , 100], )\n",
    "    #, histtype='stepfilled')\n",
    "plt.yscale('log')\n",
    "plt.ylabel('log(freq x)', fontsize=40)\n",
    "plt.xlabel('x = avg_amount_per_minute', fontsize=40)\n",
    "print('Min:' +  str(min(h)) + '\\nMax:' +  str(max(h)))\n",
    "plt.yticks(fontsize=40)\n",
    "plt.xticks(fontsize=40)\n",
    "plt.locator_params(axis = 'x', nbins = 20)\n",
    "plt.show()"
   ]
  },
  {
   "cell_type": "code",
   "execution_count": 39,
   "metadata": {
    "collapsed": false
   },
   "outputs": [
    {
     "data": {
      "text/html": [
       "<div>\n",
       "<table border=\"1\" class=\"dataframe\">\n",
       "  <thead>\n",
       "    <tr style=\"text-align: right;\">\n",
       "      <th></th>\n",
       "      <th>medallion</th>\n",
       "      <th>hack_license</th>\n",
       "      <th>pickup_datetime</th>\n",
       "      <th>dropoff_datetime</th>\n",
       "      <th>passenger_count</th>\n",
       "      <th>trip_time_in_secs</th>\n",
       "      <th>trip_distance</th>\n",
       "      <th>pickup_longitude</th>\n",
       "      <th>pickup_latitude</th>\n",
       "      <th>dropoff_longitude</th>\n",
       "      <th>dropoff_latitude</th>\n",
       "      <th>tip_amount</th>\n",
       "      <th>total_amount</th>\n",
       "      <th>diff_calc_rec_time</th>\n",
       "      <th>avg_amount_per_minute</th>\n",
       "    </tr>\n",
       "  </thead>\n",
       "  <tbody>\n",
       "    <tr>\n",
       "      <th>0</th>\n",
       "      <td>2013001380</td>\n",
       "      <td>2013001377</td>\n",
       "      <td>2013-01-07</td>\n",
       "      <td>2013-01-07 00:12:00</td>\n",
       "      <td>2.0</td>\n",
       "      <td>720.0</td>\n",
       "      <td>4.24</td>\n",
       "      <td>-73.987915</td>\n",
       "      <td>40.754730</td>\n",
       "      <td>-73.957382</td>\n",
       "      <td>40.782902</td>\n",
       "      <td>NaN</td>\n",
       "      <td>14.50</td>\n",
       "      <td>0 days</td>\n",
       "      <td>1.208333</td>\n",
       "    </tr>\n",
       "    <tr>\n",
       "      <th>1</th>\n",
       "      <td>2013005435</td>\n",
       "      <td>2013005432</td>\n",
       "      <td>2013-01-07</td>\n",
       "      <td>2013-01-07 00:04:00</td>\n",
       "      <td>3.0</td>\n",
       "      <td>240.0</td>\n",
       "      <td>1.51</td>\n",
       "      <td>-73.984917</td>\n",
       "      <td>40.736370</td>\n",
       "      <td>-73.984917</td>\n",
       "      <td>40.736370</td>\n",
       "      <td>1.30</td>\n",
       "      <td>8.30</td>\n",
       "      <td>0 days</td>\n",
       "      <td>2.075000</td>\n",
       "    </tr>\n",
       "    <tr>\n",
       "      <th>2</th>\n",
       "      <td>2013002440</td>\n",
       "      <td>2013002437</td>\n",
       "      <td>2013-01-07</td>\n",
       "      <td>2013-01-07 00:15:00</td>\n",
       "      <td>6.0</td>\n",
       "      <td>900.0</td>\n",
       "      <td>4.86</td>\n",
       "      <td>-73.988365</td>\n",
       "      <td>40.720261</td>\n",
       "      <td>-73.920486</td>\n",
       "      <td>40.702522</td>\n",
       "      <td>NaN</td>\n",
       "      <td>17.50</td>\n",
       "      <td>0 days</td>\n",
       "      <td>1.166667</td>\n",
       "    </tr>\n",
       "    <tr>\n",
       "      <th>3</th>\n",
       "      <td>2013007092</td>\n",
       "      <td>2013007088</td>\n",
       "      <td>2013-01-07</td>\n",
       "      <td>2013-01-07 00:14:00</td>\n",
       "      <td>1.0</td>\n",
       "      <td>840.0</td>\n",
       "      <td>6.33</td>\n",
       "      <td>-73.989822</td>\n",
       "      <td>40.702522</td>\n",
       "      <td>-74.009789</td>\n",
       "      <td>40.737411</td>\n",
       "      <td>4.10</td>\n",
       "      <td>25.10</td>\n",
       "      <td>0 days</td>\n",
       "      <td>1.792857</td>\n",
       "    </tr>\n",
       "    <tr>\n",
       "      <th>4</th>\n",
       "      <td>2013003235</td>\n",
       "      <td>2013003231</td>\n",
       "      <td>2013-01-07</td>\n",
       "      <td>2013-01-07 00:06:00</td>\n",
       "      <td>1.0</td>\n",
       "      <td>360.0</td>\n",
       "      <td>1.70</td>\n",
       "      <td>-74.005730</td>\n",
       "      <td>40.717567</td>\n",
       "      <td>-74.006401</td>\n",
       "      <td>40.739521</td>\n",
       "      <td>1.88</td>\n",
       "      <td>9.88</td>\n",
       "      <td>0 days</td>\n",
       "      <td>1.646667</td>\n",
       "    </tr>\n",
       "  </tbody>\n",
       "</table>\n",
       "</div>"
      ],
      "text/plain": [
       "    medallion  hack_license pickup_datetime    dropoff_datetime  \\\n",
       "0  2013001380    2013001377      2013-01-07 2013-01-07 00:12:00   \n",
       "1  2013005435    2013005432      2013-01-07 2013-01-07 00:04:00   \n",
       "2  2013002440    2013002437      2013-01-07 2013-01-07 00:15:00   \n",
       "3  2013007092    2013007088      2013-01-07 2013-01-07 00:14:00   \n",
       "4  2013003235    2013003231      2013-01-07 2013-01-07 00:06:00   \n",
       "\n",
       "   passenger_count  trip_time_in_secs  trip_distance  pickup_longitude  \\\n",
       "0              2.0              720.0           4.24        -73.987915   \n",
       "1              3.0              240.0           1.51        -73.984917   \n",
       "2              6.0              900.0           4.86        -73.988365   \n",
       "3              1.0              840.0           6.33        -73.989822   \n",
       "4              1.0              360.0           1.70        -74.005730   \n",
       "\n",
       "   pickup_latitude  dropoff_longitude  dropoff_latitude  tip_amount  \\\n",
       "0        40.754730         -73.957382         40.782902         NaN   \n",
       "1        40.736370         -73.984917         40.736370        1.30   \n",
       "2        40.720261         -73.920486         40.702522         NaN   \n",
       "3        40.702522         -74.009789         40.737411        4.10   \n",
       "4        40.717567         -74.006401         40.739521        1.88   \n",
       "\n",
       "   total_amount  diff_calc_rec_time  avg_amount_per_minute  \n",
       "0         14.50              0 days               1.208333  \n",
       "1          8.30              0 days               2.075000  \n",
       "2         17.50              0 days               1.166667  \n",
       "3         25.10              0 days               1.792857  \n",
       "4          9.88              0 days               1.646667  "
      ]
     },
     "execution_count": 39,
     "metadata": {},
     "output_type": "execute_result"
    }
   ],
   "source": [
    "taxidata.head()"
   ]
  },
  {
   "cell_type": "code",
   "execution_count": 40,
   "metadata": {
    "collapsed": false
   },
   "outputs": [
    {
     "data": {
      "text/plain": [
       "count    3.187967e+06\n",
       "mean     1.417456e+00\n",
       "std      1.000623e+01\n",
       "min      1.895535e-02\n",
       "25%      1.003226e+00\n",
       "50%      1.203209e+00\n",
       "75%      1.497619e+00\n",
       "max      6.000000e+03\n",
       "Name: avg_amount_per_minute, dtype: float64"
      ]
     },
     "execution_count": 40,
     "metadata": {},
     "output_type": "execute_result"
    }
   ],
   "source": [
    "taxidata.avg_amount_per_minute.describe()"
   ]
  },
  {
   "cell_type": "code",
   "execution_count": 41,
   "metadata": {
    "collapsed": false
   },
   "outputs": [
    {
     "data": {
      "text/plain": [
       "0.0001    0.074964\n",
       "0.0100    0.714286\n",
       "0.9500    2.186916\n",
       "0.9900    3.250000\n",
       "0.9950    4.000000\n",
       "Name: avg_amount_per_minute, dtype: float64"
      ]
     },
     "execution_count": 41,
     "metadata": {},
     "output_type": "execute_result"
    }
   ],
   "source": [
    "taxidata.avg_amount_per_minute.quantile([.0001,.01, .95, .99, .995])"
   ]
  },
  {
   "cell_type": "code",
   "execution_count": 42,
   "metadata": {
    "collapsed": false
   },
   "outputs": [
    {
     "name": "stdout",
     "output_type": "stream",
     "text": [
      "0.05113154633796391\n"
     ]
    }
   ],
   "source": [
    "anomaly = anomaly.append(taxidata.loc[(taxidata['avg_amount_per_minute'] > 2.5) | \n",
    "                                      (taxidata['avg_amount_per_minute'] < 0.5)])\n",
    "#anomaly.loc[\n",
    "taxidata.loc[(taxidata['avg_amount_per_minute'] > 2.5).index,'flag'] = 'too fast'\n",
    "taxidata.loc[(taxidata['avg_amount_per_minute'] < 0.5).index,'flag'] = 'too slow'\n",
    "taxidata = taxidata.drop(anomaly.index, errors='ignore') # ignore uncontained labels / indices\n",
    "print(1-len(taxidata)/(len(taxidata)+len(anomaly)))"
   ]
  },
  {
   "cell_type": "code",
   "execution_count": 43,
   "metadata": {
    "collapsed": false
   },
   "outputs": [
    {
     "data": {
      "text/html": [
       "<div>\n",
       "<table border=\"1\" class=\"dataframe\">\n",
       "  <thead>\n",
       "    <tr style=\"text-align: right;\">\n",
       "      <th></th>\n",
       "      <th>medallion</th>\n",
       "      <th>hack_license</th>\n",
       "      <th>pickup_datetime</th>\n",
       "      <th>dropoff_datetime</th>\n",
       "      <th>passenger_count</th>\n",
       "      <th>trip_time_in_secs</th>\n",
       "      <th>trip_distance</th>\n",
       "      <th>pickup_longitude</th>\n",
       "      <th>pickup_latitude</th>\n",
       "      <th>dropoff_longitude</th>\n",
       "      <th>dropoff_latitude</th>\n",
       "      <th>tip_amount</th>\n",
       "      <th>total_amount</th>\n",
       "      <th>diff_calc_rec_time</th>\n",
       "      <th>avg_amount_per_minute</th>\n",
       "      <th>flag</th>\n",
       "    </tr>\n",
       "  </thead>\n",
       "  <tbody>\n",
       "    <tr>\n",
       "      <th>3265924</th>\n",
       "      <td>2013002806</td>\n",
       "      <td>2013002803</td>\n",
       "      <td>2013-01-13 23:59:57</td>\n",
       "      <td>2013-01-14 00:03:57</td>\n",
       "      <td>1.0</td>\n",
       "      <td>240.0</td>\n",
       "      <td>1.3</td>\n",
       "      <td>-73.929535</td>\n",
       "      <td>40.699783</td>\n",
       "      <td>-73.944649</td>\n",
       "      <td>40.707939</td>\n",
       "      <td>1.75</td>\n",
       "      <td>8.75</td>\n",
       "      <td>00:00:00</td>\n",
       "      <td>2.187500</td>\n",
       "      <td>too slow</td>\n",
       "    </tr>\n",
       "    <tr>\n",
       "      <th>3265925</th>\n",
       "      <td>2013007209</td>\n",
       "      <td>2013011285</td>\n",
       "      <td>2013-01-13 23:59:58</td>\n",
       "      <td>2013-01-14 00:08:24</td>\n",
       "      <td>1.0</td>\n",
       "      <td>506.0</td>\n",
       "      <td>2.4</td>\n",
       "      <td>-73.980927</td>\n",
       "      <td>40.761757</td>\n",
       "      <td>-73.950859</td>\n",
       "      <td>40.769905</td>\n",
       "      <td>2.10</td>\n",
       "      <td>12.60</td>\n",
       "      <td>00:00:00</td>\n",
       "      <td>1.494071</td>\n",
       "      <td>too slow</td>\n",
       "    </tr>\n",
       "    <tr>\n",
       "      <th>3265926</th>\n",
       "      <td>2013009171</td>\n",
       "      <td>2013004728</td>\n",
       "      <td>2013-01-13 23:59:58</td>\n",
       "      <td>2013-01-14 00:03:36</td>\n",
       "      <td>1.0</td>\n",
       "      <td>217.0</td>\n",
       "      <td>0.9</td>\n",
       "      <td>-74.009911</td>\n",
       "      <td>40.715023</td>\n",
       "      <td>-74.017647</td>\n",
       "      <td>40.708046</td>\n",
       "      <td>1.00</td>\n",
       "      <td>7.00</td>\n",
       "      <td>00:00:01</td>\n",
       "      <td>1.935484</td>\n",
       "      <td>too slow</td>\n",
       "    </tr>\n",
       "    <tr>\n",
       "      <th>3265927</th>\n",
       "      <td>2013003210</td>\n",
       "      <td>2013004960</td>\n",
       "      <td>2013-01-13 23:59:59</td>\n",
       "      <td>2013-01-14 00:06:26</td>\n",
       "      <td>1.0</td>\n",
       "      <td>387.0</td>\n",
       "      <td>2.1</td>\n",
       "      <td>-73.977791</td>\n",
       "      <td>40.751560</td>\n",
       "      <td>-73.978104</td>\n",
       "      <td>40.730843</td>\n",
       "      <td>1.90</td>\n",
       "      <td>11.40</td>\n",
       "      <td>00:00:00</td>\n",
       "      <td>1.767442</td>\n",
       "      <td>too slow</td>\n",
       "    </tr>\n",
       "    <tr>\n",
       "      <th>3265928</th>\n",
       "      <td>2013010217</td>\n",
       "      <td>2013010222</td>\n",
       "      <td>2013-01-13 23:59:59</td>\n",
       "      <td>2013-01-14 00:07:41</td>\n",
       "      <td>3.0</td>\n",
       "      <td>461.0</td>\n",
       "      <td>1.4</td>\n",
       "      <td>-73.983177</td>\n",
       "      <td>40.744747</td>\n",
       "      <td>-74.003777</td>\n",
       "      <td>40.743305</td>\n",
       "      <td>1.80</td>\n",
       "      <td>10.80</td>\n",
       "      <td>00:00:01</td>\n",
       "      <td>1.405640</td>\n",
       "      <td>too slow</td>\n",
       "    </tr>\n",
       "  </tbody>\n",
       "</table>\n",
       "</div>"
      ],
      "text/plain": [
       "          medallion  hack_license     pickup_datetime    dropoff_datetime  \\\n",
       "3265924  2013002806    2013002803 2013-01-13 23:59:57 2013-01-14 00:03:57   \n",
       "3265925  2013007209    2013011285 2013-01-13 23:59:58 2013-01-14 00:08:24   \n",
       "3265926  2013009171    2013004728 2013-01-13 23:59:58 2013-01-14 00:03:36   \n",
       "3265927  2013003210    2013004960 2013-01-13 23:59:59 2013-01-14 00:06:26   \n",
       "3265928  2013010217    2013010222 2013-01-13 23:59:59 2013-01-14 00:07:41   \n",
       "\n",
       "         passenger_count  trip_time_in_secs  trip_distance  pickup_longitude  \\\n",
       "3265924              1.0              240.0            1.3        -73.929535   \n",
       "3265925              1.0              506.0            2.4        -73.980927   \n",
       "3265926              1.0              217.0            0.9        -74.009911   \n",
       "3265927              1.0              387.0            2.1        -73.977791   \n",
       "3265928              3.0              461.0            1.4        -73.983177   \n",
       "\n",
       "         pickup_latitude  dropoff_longitude  dropoff_latitude  tip_amount  \\\n",
       "3265924        40.699783         -73.944649         40.707939        1.75   \n",
       "3265925        40.761757         -73.950859         40.769905        2.10   \n",
       "3265926        40.715023         -74.017647         40.708046        1.00   \n",
       "3265927        40.751560         -73.978104         40.730843        1.90   \n",
       "3265928        40.744747         -74.003777         40.743305        1.80   \n",
       "\n",
       "         total_amount  diff_calc_rec_time  avg_amount_per_minute      flag  \n",
       "3265924          8.75            00:00:00               2.187500  too slow  \n",
       "3265925         12.60            00:00:00               1.494071  too slow  \n",
       "3265926          7.00            00:00:01               1.935484  too slow  \n",
       "3265927         11.40            00:00:00               1.767442  too slow  \n",
       "3265928         10.80            00:00:01               1.405640  too slow  "
      ]
     },
     "execution_count": 43,
     "metadata": {},
     "output_type": "execute_result"
    }
   ],
   "source": [
    "taxidata.tail()"
   ]
  },
  {
   "cell_type": "code",
   "execution_count": 44,
   "metadata": {
    "collapsed": false
   },
   "outputs": [
    {
     "data": {
      "text/plain": [
       "avg_amount_per_minute                    NaN\n",
       "diff_calc_rec_time                       NaT\n",
       "dropoff_datetime         2013-01-13 20:36:00\n",
       "dropoff_latitude                     40.7256\n",
       "dropoff_longitude                   -74.0052\n",
       "flag                            trip_time_NA\n",
       "hack_license                      2013029479\n",
       "medallion                         2013003292\n",
       "passenger_count                            1\n",
       "pickup_datetime          2013-01-13 20:36:00\n",
       "pickup_latitude                      40.7257\n",
       "pickup_longitude                    -74.0057\n",
       "tip_amount                               NaN\n",
       "total_amount                            52.5\n",
       "trip_distance                           0.05\n",
       "trip_time_in_secs                        NaN\n",
       "Name: 3212817, dtype: object"
      ]
     },
     "execution_count": 44,
     "metadata": {},
     "output_type": "execute_result"
    }
   ],
   "source": [
    "#anomaly.loc[(anomaly['pickup_datetime'] == anomaly['dropoff_datetime'])].tail(15)\n",
    "#anomaly.loc[3265892]\n",
    "anomaly.loc[3212817]"
   ]
  },
  {
   "cell_type": "markdown",
   "metadata": {},
   "source": [
    "# <font color = 'red' > Drop even more columns (e.g. tip)? </font color>"
   ]
  },
  {
   "cell_type": "code",
   "execution_count": 45,
   "metadata": {
    "collapsed": false
   },
   "outputs": [
    {
     "data": {
      "text/plain": [
       "count    3.098937e+06\n",
       "mean     1.269694e+00\n",
       "std      3.593290e-01\n",
       "min      5.000000e-01\n",
       "25%      1.000000e+00\n",
       "50%      1.194444e+00\n",
       "75%      1.460674e+00\n",
       "max      2.500000e+00\n",
       "Name: avg_amount_per_minute, dtype: float64"
      ]
     },
     "execution_count": 45,
     "metadata": {},
     "output_type": "execute_result"
    }
   ],
   "source": [
    "taxidata.avg_amount_per_minute.describe()"
   ]
  },
  {
   "cell_type": "code",
   "execution_count": 46,
   "metadata": {
    "collapsed": false
   },
   "outputs": [
    {
     "data": {
      "text/plain": [
       "count    3.098937e+06\n",
       "mean     4.074871e+01\n",
       "std      4.663948e+00\n",
       "min     -3.181078e+03\n",
       "25%      4.073686e+01\n",
       "50%      4.075374e+01\n",
       "75%      4.076781e+01\n",
       "max      3.210345e+03\n",
       "Name: pickup_latitude, dtype: float64"
      ]
     },
     "execution_count": 46,
     "metadata": {},
     "output_type": "execute_result"
    }
   ],
   "source": [
    "taxidata.pickup_latitude.describe()"
   ]
  },
  {
   "cell_type": "code",
   "execution_count": 47,
   "metadata": {
    "collapsed": false
   },
   "outputs": [
    {
     "data": {
      "text/plain": [
       "<matplotlib.colorbar.Colorbar at 0x7fc4b07c89b0>"
      ]
     },
     "execution_count": 47,
     "metadata": {},
     "output_type": "execute_result"
    },
    {
     "data": {
      "text/plain": [
       "<matplotlib.figure.Figure at 0x7fc4b29725f8>"
      ]
     },
     "metadata": {},
     "output_type": "display_data"
    },
    {
     "data": {
      "image/png": "[encoded data removed]",
      "text/plain": [
       "<matplotlib.figure.Figure at 0x7fc4b297bfd0>"
      ]
     },
     "metadata": {},
     "output_type": "display_data"
    }
   ],
   "source": [
    "x = taxidata.pickup_latitude\n",
    "y = taxidata.pickup_longitude\n",
    "\n",
    "H, xedges, yedges = np.histogram2d(x, y, bins=25, range=[ [x.quantile(.05), x.quantile(.95)], \n",
    "        [y.quantile(.05), y.quantile(.95)]], normed=False, weights=None)\n",
    "\n",
    "plt.jet()\n",
    "fig = plt.figure(figsize=(20, 10))\n",
    "#ax.set_title('pcolormesh: exact bin edges')\n",
    "X, Y = np.meshgrid(xedges, yedges)\n",
    "mesh = plt.pcolormesh(X, Y, H)\n",
    "plt.colorbar(mesh)\n",
    "#ax.set_aspect('equal')\n",
    "#plt.savefig('figure.pdf', format='pdf')\n",
    "#plt.savefig('figure.png', format='png')"
   ]
  },
  {
   "cell_type": "code",
   "execution_count": 48,
   "metadata": {
    "collapsed": false
   },
   "outputs": [
    {
     "data": {
      "text/plain": [
       "numpy.ndarray"
      ]
     },
     "execution_count": 48,
     "metadata": {},
     "output_type": "execute_result"
    }
   ],
   "source": [
    "type(H)"
   ]
  },
  {
   "cell_type": "code",
   "execution_count": 49,
   "metadata": {
    "collapsed": false
   },
   "outputs": [
    {
     "name": "stdout",
     "output_type": "stream",
     "text": [
      "(25, 25)\n",
      "625\n",
      "29547.0\n"
     ]
    }
   ],
   "source": [
    "print(H.shape)\n",
    "print(H.size)\n",
    "print(H.max())"
   ]
  },
  {
   "cell_type": "code",
   "execution_count": 50,
   "metadata": {
    "collapsed": false
   },
   "outputs": [
    {
     "name": "stdout",
     "output_type": "stream",
     "text": [
      "(26,)\n"
     ]
    },
    {
     "data": {
      "text/plain": [
       "40.711646999999999"
      ]
     },
     "execution_count": 50,
     "metadata": {},
     "output_type": "execute_result"
    }
   ],
   "source": [
    "print(xedges.shape)\n",
    "xedges[0]"
   ]
  },
  {
   "cell_type": "code",
   "execution_count": 51,
   "metadata": {
    "collapsed": false
   },
   "outputs": [
    {
     "name": "stdout",
     "output_type": "stream",
     "text": [
      "[ 40.711647    40.71468992  40.71773284  40.72077576  40.72381868\n",
      "  40.7268616   40.72990452  40.73294744  40.73599036  40.73903328\n",
      "  40.7420762   40.74511912  40.74816204  40.75120496  40.75424788\n",
      "  40.7572908   40.76033372  40.76337664  40.76641956  40.76946248\n",
      "  40.7725054   40.77554832  40.77859124  40.78163416  40.78467708  40.78772   ]\n",
      "[-74.006699   -74.00415444 -74.00160988 -73.99906532 -73.99652076\n",
      " -73.9939762  -73.99143164 -73.98888708 -73.98634252 -73.98379796\n",
      " -73.9812534  -73.97870884 -73.97616428 -73.97361972 -73.97107516\n",
      " -73.9685306  -73.96598604 -73.96344148 -73.96089692 -73.95835236\n",
      " -73.9558078  -73.95326324 -73.95071868 -73.94817412 -73.94562956\n",
      " -73.943085  ]\n"
     ]
    }
   ],
   "source": [
    "print(xedges)\n",
    "print(yedges)"
   ]
  },
  {
   "cell_type": "code",
   "execution_count": 52,
   "metadata": {
    "collapsed": false
   },
   "outputs": [
    {
     "name": "stdout",
     "output_type": "stream",
     "text": [
      "866.4554329011002\n"
     ]
    }
   ],
   "source": [
    "from geopy.distance import vincenty\n",
    "newport_ri = (41.49008, -71.312796)\n",
    "cleveland_oh = (41.499498, -81.695391)\n",
    "print(vincenty(newport_ri, cleveland_oh).kilometers)\n",
    "#538.3904451566326"
   ]
  },
  {
   "cell_type": "code",
   "execution_count": 53,
   "metadata": {
    "collapsed": false
   },
   "outputs": [
    {
     "name": "stdout",
     "output_type": "stream",
     "text": [
      "Current bin width:\n",
      "400.51765062952745\n"
     ]
    }
   ],
   "source": [
    "print('Current bin width:')\n",
    "print(vincenty((xedges[0], yedges[0]), (xedges[1], yedges[1])).meters)"
   ]
  },
  {
   "cell_type": "code",
   "execution_count": 54,
   "metadata": {
    "collapsed": false
   },
   "outputs": [],
   "source": [
    "distances = (-1)*np.ones(len(xedges)-1)\n",
    "for x in range(0,len(xedges)-1, 1):\n",
    "    distances[x] = vincenty((xedges[x], yedges[x]), (xedges[x+1], yedges[x+1])).meters"
   ]
  },
  {
   "cell_type": "code",
   "execution_count": 55,
   "metadata": {
    "collapsed": false
   },
   "outputs": [
    {
     "name": "stdout",
     "output_type": "stream",
     "text": [
      "Sizes of all bins in meters:\n"
     ]
    },
    {
     "data": {
      "text/plain": [
       "array([ 400.51765063,  400.51254643,  400.50744208,  400.50233758,\n",
       "        400.49723294,  400.49212813,  400.48702319,  400.48191809,\n",
       "        400.47681284,  400.47170744,  400.46660189,  400.46149619,\n",
       "        400.45639034,  400.45128435,  400.4461782 ,  400.4410719 ,\n",
       "        400.43596546,  400.43085886,  400.42575212,  400.42064522,\n",
       "        400.41553818,  400.41043098,  400.40532364,  400.40021615,\n",
       "        400.39510851])"
      ]
     },
     "execution_count": 55,
     "metadata": {},
     "output_type": "execute_result"
    }
   ],
   "source": [
    "print('Sizes of all bins in meters:')\n",
    "distances"
   ]
  },
  {
   "cell_type": "code",
   "execution_count": 56,
   "metadata": {
    "collapsed": false
   },
   "outputs": [
    {
     "name": "stdout",
     "output_type": "stream",
     "text": [
      "3210.3447,-0.00031999999\n",
      "1727.0167,2084.3\n"
     ]
    }
   ],
   "source": [
    "print(str(max(taxidata.pickup_latitude)) +','+ str(max(taxidata.pickup_longitude)))\n",
    "print(str(max(taxidata.dropoff_latitude)) +','+ str(max(taxidata.dropoff_longitude)))"
   ]
  },
  {
   "cell_type": "markdown",
   "metadata": {},
   "source": [
    "# Only look at trips in a given bounding box\n"
   ]
  },
  {
   "cell_type": "code",
   "execution_count": 57,
   "metadata": {
    "collapsed": false
   },
   "outputs": [],
   "source": [
    "jfk_geodata = (40.641547, -73.778118)\n",
    "ridgefield_geodata = (40.856406, -74.020642)\n",
    "taxidata_in_box = taxidata.loc[(taxidata['dropoff_latitude'] > jfk_geodata[0]) & \n",
    "                       (taxidata['dropoff_longitude'] < jfk_geodata[1]) &\n",
    "                       (taxidata['dropoff_latitude'] < ridgefield_geodata[0]) & \n",
    "                       (taxidata['dropoff_longitude'] > ridgefield_geodata[1]) & \n",
    "                       (taxidata['pickup_latitude'] > jfk_geodata[0]) & \n",
    "                       (taxidata['pickup_longitude'] < jfk_geodata[1]) &\n",
    "                       (taxidata['pickup_latitude'] < ridgefield_geodata[0]) & \n",
    "                       (taxidata['pickup_longitude'] > ridgefield_geodata[1])         \n",
    "                       ]\n",
    "# taxidata = taxidata.drop(anomaly.index)"
   ]
  },
  {
   "cell_type": "markdown",
   "metadata": {},
   "source": [
    "<font color = 'red'> Be careful! They use negative (lat, long), not East/West! </font color>"
   ]
  },
  {
   "cell_type": "code",
   "execution_count": 58,
   "metadata": {
    "collapsed": false
   },
   "outputs": [
    {
     "data": {
      "text/html": [
       "<div>\n",
       "<table border=\"1\" class=\"dataframe\">\n",
       "  <thead>\n",
       "    <tr style=\"text-align: right;\">\n",
       "      <th></th>\n",
       "      <th>medallion</th>\n",
       "      <th>hack_license</th>\n",
       "      <th>pickup_datetime</th>\n",
       "      <th>dropoff_datetime</th>\n",
       "      <th>passenger_count</th>\n",
       "      <th>trip_time_in_secs</th>\n",
       "      <th>trip_distance</th>\n",
       "      <th>pickup_longitude</th>\n",
       "      <th>pickup_latitude</th>\n",
       "      <th>dropoff_longitude</th>\n",
       "      <th>dropoff_latitude</th>\n",
       "      <th>tip_amount</th>\n",
       "      <th>total_amount</th>\n",
       "      <th>diff_calc_rec_time</th>\n",
       "      <th>avg_amount_per_minute</th>\n",
       "      <th>flag</th>\n",
       "    </tr>\n",
       "  </thead>\n",
       "  <tbody>\n",
       "    <tr>\n",
       "      <th>0</th>\n",
       "      <td>2013001380</td>\n",
       "      <td>2013001377</td>\n",
       "      <td>2013-01-07</td>\n",
       "      <td>2013-01-07 00:12:00</td>\n",
       "      <td>2.0</td>\n",
       "      <td>720.0</td>\n",
       "      <td>4.24</td>\n",
       "      <td>-73.987915</td>\n",
       "      <td>40.754730</td>\n",
       "      <td>-73.957382</td>\n",
       "      <td>40.782902</td>\n",
       "      <td>NaN</td>\n",
       "      <td>14.50</td>\n",
       "      <td>0 days</td>\n",
       "      <td>1.208333</td>\n",
       "      <td>too slow</td>\n",
       "    </tr>\n",
       "    <tr>\n",
       "      <th>1</th>\n",
       "      <td>2013005435</td>\n",
       "      <td>2013005432</td>\n",
       "      <td>2013-01-07</td>\n",
       "      <td>2013-01-07 00:04:00</td>\n",
       "      <td>3.0</td>\n",
       "      <td>240.0</td>\n",
       "      <td>1.51</td>\n",
       "      <td>-73.984917</td>\n",
       "      <td>40.736370</td>\n",
       "      <td>-73.984917</td>\n",
       "      <td>40.736370</td>\n",
       "      <td>1.30</td>\n",
       "      <td>8.30</td>\n",
       "      <td>0 days</td>\n",
       "      <td>2.075000</td>\n",
       "      <td>too slow</td>\n",
       "    </tr>\n",
       "    <tr>\n",
       "      <th>2</th>\n",
       "      <td>2013002440</td>\n",
       "      <td>2013002437</td>\n",
       "      <td>2013-01-07</td>\n",
       "      <td>2013-01-07 00:15:00</td>\n",
       "      <td>6.0</td>\n",
       "      <td>900.0</td>\n",
       "      <td>4.86</td>\n",
       "      <td>-73.988365</td>\n",
       "      <td>40.720261</td>\n",
       "      <td>-73.920486</td>\n",
       "      <td>40.702522</td>\n",
       "      <td>NaN</td>\n",
       "      <td>17.50</td>\n",
       "      <td>0 days</td>\n",
       "      <td>1.166667</td>\n",
       "      <td>too slow</td>\n",
       "    </tr>\n",
       "    <tr>\n",
       "      <th>3</th>\n",
       "      <td>2013007092</td>\n",
       "      <td>2013007088</td>\n",
       "      <td>2013-01-07</td>\n",
       "      <td>2013-01-07 00:14:00</td>\n",
       "      <td>1.0</td>\n",
       "      <td>840.0</td>\n",
       "      <td>6.33</td>\n",
       "      <td>-73.989822</td>\n",
       "      <td>40.702522</td>\n",
       "      <td>-74.009789</td>\n",
       "      <td>40.737411</td>\n",
       "      <td>4.10</td>\n",
       "      <td>25.10</td>\n",
       "      <td>0 days</td>\n",
       "      <td>1.792857</td>\n",
       "      <td>too slow</td>\n",
       "    </tr>\n",
       "    <tr>\n",
       "      <th>4</th>\n",
       "      <td>2013003235</td>\n",
       "      <td>2013003231</td>\n",
       "      <td>2013-01-07</td>\n",
       "      <td>2013-01-07 00:06:00</td>\n",
       "      <td>1.0</td>\n",
       "      <td>360.0</td>\n",
       "      <td>1.70</td>\n",
       "      <td>-74.005730</td>\n",
       "      <td>40.717567</td>\n",
       "      <td>-74.006401</td>\n",
       "      <td>40.739521</td>\n",
       "      <td>1.88</td>\n",
       "      <td>9.88</td>\n",
       "      <td>0 days</td>\n",
       "      <td>1.646667</td>\n",
       "      <td>too slow</td>\n",
       "    </tr>\n",
       "  </tbody>\n",
       "</table>\n",
       "</div>"
      ],
      "text/plain": [
       "    medallion  hack_license pickup_datetime    dropoff_datetime  \\\n",
       "0  2013001380    2013001377      2013-01-07 2013-01-07 00:12:00   \n",
       "1  2013005435    2013005432      2013-01-07 2013-01-07 00:04:00   \n",
       "2  2013002440    2013002437      2013-01-07 2013-01-07 00:15:00   \n",
       "3  2013007092    2013007088      2013-01-07 2013-01-07 00:14:00   \n",
       "4  2013003235    2013003231      2013-01-07 2013-01-07 00:06:00   \n",
       "\n",
       "   passenger_count  trip_time_in_secs  trip_distance  pickup_longitude  \\\n",
       "0              2.0              720.0           4.24        -73.987915   \n",
       "1              3.0              240.0           1.51        -73.984917   \n",
       "2              6.0              900.0           4.86        -73.988365   \n",
       "3              1.0              840.0           6.33        -73.989822   \n",
       "4              1.0              360.0           1.70        -74.005730   \n",
       "\n",
       "   pickup_latitude  dropoff_longitude  dropoff_latitude  tip_amount  \\\n",
       "0        40.754730         -73.957382         40.782902         NaN   \n",
       "1        40.736370         -73.984917         40.736370        1.30   \n",
       "2        40.720261         -73.920486         40.702522         NaN   \n",
       "3        40.702522         -74.009789         40.737411        4.10   \n",
       "4        40.717567         -74.006401         40.739521        1.88   \n",
       "\n",
       "   total_amount  diff_calc_rec_time  avg_amount_per_minute      flag  \n",
       "0         14.50              0 days               1.208333  too slow  \n",
       "1          8.30              0 days               2.075000  too slow  \n",
       "2         17.50              0 days               1.166667  too slow  \n",
       "3         25.10              0 days               1.792857  too slow  \n",
       "4          9.88              0 days               1.646667  too slow  "
      ]
     },
     "execution_count": 58,
     "metadata": {},
     "output_type": "execute_result"
    }
   ],
   "source": [
    "taxidata_in_box.head()"
   ]
  },
  {
   "cell_type": "code",
   "execution_count": 60,
   "metadata": {
    "collapsed": false
   },
   "outputs": [
    {
     "data": {
      "text/plain": [
       "0.986403402198883"
      ]
     },
     "execution_count": 60,
     "metadata": {},
     "output_type": "execute_result"
    }
   ],
   "source": [
    "jfk_geodata < ridgefield_geodata\n",
    "len(taxidata_in_box)/len(taxidata)"
   ]
  },
  {
   "cell_type": "code",
   "execution_count": 61,
   "metadata": {
    "collapsed": false
   },
   "outputs": [
    {
     "data": {
      "text/plain": [
       "<matplotlib.colorbar.Colorbar at 0x7fc4b08d9c18>"
      ]
     },
     "execution_count": 61,
     "metadata": {},
     "output_type": "execute_result"
    },
    {
     "data": {
      "text/plain": [
       "<matplotlib.figure.Figure at 0x7fc4b21d2cc0>"
      ]
     },
     "metadata": {},
     "output_type": "display_data"
    },
    {
     "data": {
      "image/png": "[encoded data removed]",
      "text/plain": [
       "<matplotlib.figure.Figure at 0x7fc4b21d3630>"
      ]
     },
     "metadata": {},
     "output_type": "display_data"
    }
   ],
   "source": [
    "x = taxidata_in_box.pickup_latitude\n",
    "y = taxidata_in_box.pickup_longitude\n",
    "\n",
    "H, xedges, yedges = np.histogram2d(x, y, bins=100, normed=False, weights=None)\n",
    "\n",
    "plt.jet()\n",
    "fig = plt.figure(figsize=(20, 10))\n",
    "#ax.set_title('pcolormesh: exact bin edges')\n",
    "X, Y = np.meshgrid(xedges, yedges)\n",
    "mesh = plt.pcolormesh(X, Y, H)\n",
    "plt.colorbar(mesh)\n",
    "#ax.set_aspect('equal')\n",
    "#plt.savefig('figure.pdf', format='pdf')\n",
    "#plt.savefig('figure.png', format='png')"
   ]
  },
  {
   "cell_type": "code",
   "execution_count": 62,
   "metadata": {
    "collapsed": false
   },
   "outputs": [
    {
     "name": "stdout",
     "output_type": "stream",
     "text": [
      "(100, 100)\n",
      "10000\n",
      "24789.0\n",
      "(101,)\n",
      "[ 40.641548    40.64369625  40.6458445   40.64799275  40.650141\n",
      "  40.65228925  40.6544375   40.65658575  40.658734    40.66088225\n",
      "  40.6630305   40.66517875  40.667327    40.66947525  40.6716235\n",
      "  40.67377175  40.67592     40.67806825  40.6802165   40.68236475\n",
      "  40.684513    40.68666125  40.6888095   40.69095775  40.693106\n",
      "  40.69525425  40.6974025   40.69955075  40.701699    40.70384725\n",
      "  40.7059955   40.70814375  40.710292    40.71244025  40.7145885\n",
      "  40.71673675  40.718885    40.72103325  40.7231815   40.72532975\n",
      "  40.727478    40.72962625  40.7317745   40.73392275  40.736071\n",
      "  40.73821925  40.7403675   40.74251575  40.744664    40.74681225\n",
      "  40.7489605   40.75110875  40.753257    40.75540525  40.7575535\n",
      "  40.75970175  40.76185     40.76399825  40.7661465   40.76829475\n",
      "  40.770443    40.77259125  40.7747395   40.77688775  40.779036\n",
      "  40.78118425  40.7833325   40.78548075  40.787629    40.78977725\n",
      "  40.7919255   40.79407375  40.796222    40.79837025  40.8005185\n",
      "  40.80266675  40.804815    40.80696325  40.8091115   40.81125975\n",
      "  40.813408    40.81555625  40.8177045   40.81985275  40.822001\n",
      "  40.82414925  40.8262975   40.82844575  40.830594    40.83274225\n",
      "  40.8348905   40.83703875  40.839187    40.84133525  40.8434835\n",
      "  40.84563175  40.84778     40.84992825  40.8520765   40.85422475\n",
      "  40.856373  ]\n",
      "[-74.020615   -74.01819007 -74.01576514 -74.01334021 -74.01091528\n",
      " -74.00849035 -74.00606542 -74.00364049 -74.00121556 -73.99879063\n",
      " -73.9963657  -73.99394077 -73.99151584 -73.98909091 -73.98666598\n",
      " -73.98424105 -73.98181612 -73.97939119 -73.97696626 -73.97454133\n",
      " -73.9721164  -73.96969147 -73.96726654 -73.96484161 -73.96241668\n",
      " -73.95999175 -73.95756682 -73.95514189 -73.95271696 -73.95029203\n",
      " -73.9478671  -73.94544217 -73.94301724 -73.94059231 -73.93816738\n",
      " -73.93574245 -73.93331752 -73.93089259 -73.92846766 -73.92604273\n",
      " -73.9236178  -73.92119287 -73.91876794 -73.91634301 -73.91391808\n",
      " -73.91149315 -73.90906822 -73.90664329 -73.90421836 -73.90179343\n",
      " -73.8993685  -73.89694357 -73.89451864 -73.89209371 -73.88966878\n",
      " -73.88724385 -73.88481892 -73.88239399 -73.87996906 -73.87754413\n",
      " -73.8751192  -73.87269427 -73.87026934 -73.86784441 -73.86541948\n",
      " -73.86299455 -73.86056962 -73.85814469 -73.85571976 -73.85329483\n",
      " -73.8508699  -73.84844497 -73.84602004 -73.84359511 -73.84117018\n",
      " -73.83874525 -73.83632032 -73.83389539 -73.83147046 -73.82904553\n",
      " -73.8266206  -73.82419567 -73.82177074 -73.81934581 -73.81692088\n",
      " -73.81449595 -73.81207102 -73.80964609 -73.80722116 -73.80479623\n",
      " -73.8023713  -73.79994637 -73.79752144 -73.79509651 -73.79267158\n",
      " -73.79024665 -73.78782172 -73.78539679 -73.78297186 -73.78054693\n",
      " -73.778122  ]\n",
      "Sizes of all bins in meters:\n"
     ]
    },
    {
     "data": {
      "text/plain": [
       "array([ 314.6164374 ,  314.61221738,  314.60799726,  314.60377702,\n",
       "        314.59955668,  314.59533623,  314.59111567,  314.58689501,\n",
       "        314.58267424,  314.57845336,  314.57423238,  314.57001128,\n",
       "        314.56579008,  314.56156878,  314.55734737,  314.55312585,\n",
       "        314.54890422,  314.54468249,  314.54046065,  314.5362387 ,\n",
       "        314.53201665,  314.52779449,  314.52357222,  314.51934985,\n",
       "        314.51512736,  314.51090478,  314.50668208,  314.50245928,\n",
       "        314.49823638,  314.49401336,  314.48979024,  314.48556701,\n",
       "        314.48134368,  314.47712024,  314.47289669,  314.46867304,\n",
       "        314.46444928,  314.46022541,  314.45600144,  314.45177736,\n",
       "        314.44755318,  314.44332888,  314.43910448,  314.43487998,\n",
       "        314.43065537,  314.42643065,  314.42220583,  314.4179809 ,\n",
       "        314.41375586,  314.40953072,  314.40530547,  314.40108011,\n",
       "        314.39685465,  314.39262908,  314.38840341,  314.38417763,\n",
       "        314.37995175,  314.37572575,  314.37149966,  314.36727345,\n",
       "        314.36304714,  314.35882073,  314.3545942 ,  314.35036758,\n",
       "        314.34614084,  314.341914  ,  314.33768706,  314.33346   ,\n",
       "        314.32923285,  314.32500558,  314.32077821,  314.31655074,\n",
       "        314.31232316,  314.30809547,  314.30386768,  314.29963978,\n",
       "        314.29541178,  314.29118367,  314.28695545,  314.28272713,\n",
       "        314.2784987 ,  314.27427017,  314.27004153,  314.26581279,\n",
       "        314.26158394,  314.25735499,  314.25312593,  314.24889676,\n",
       "        314.24466749,  314.24043811,  314.23620863,  314.23197904,\n",
       "        314.22774935,  314.22351955,  314.21928965,  314.21505964,\n",
       "        314.21082953,  314.2065993 ,  314.20236898,  314.19813855])"
      ]
     },
     "execution_count": 62,
     "metadata": {},
     "output_type": "execute_result"
    }
   ],
   "source": [
    "print(H.shape)\n",
    "print(H.size)\n",
    "print(H.max())\n",
    "print(xedges.shape)\n",
    "print(xedges)\n",
    "print(yedges)\n",
    "\n",
    "distances = (-1)*np.ones(len(xedges)-1)\n",
    "for x in range(0,len(xedges)-1, 1):\n",
    "    distances[x] = vincenty((xedges[x], yedges[x]), (xedges[x+1], yedges[x+1])).meters\n",
    "    \n",
    "print('Sizes of all bins in meters:')\n",
    "distances"
   ]
  },
  {
   "cell_type": "code",
   "execution_count": 63,
   "metadata": {
    "collapsed": false
   },
   "outputs": [
    {
     "data": {
      "text/plain": [
       "0.55220000000000002"
      ]
     },
     "execution_count": 63,
     "metadata": {},
     "output_type": "execute_result"
    }
   ],
   "source": [
    "(H==0).sum()/H.size"
   ]
  },
  {
   "cell_type": "markdown",
   "metadata": {},
   "source": [
    "# So we know that 55% of the bins have 0 pickups in it."
   ]
  },
  {
   "cell_type": "markdown",
   "metadata": {},
   "source": [
    "## Let's take a first look at the distribution if the target variable which we want to estimate:"
   ]
  },
  {
   "cell_type": "code",
   "execution_count": 66,
   "metadata": {
    "collapsed": false
   },
   "outputs": [
    {
     "data": {
      "image/png": "[encoded data removed]",
      "text/plain": [
       "<matplotlib.figure.Figure at 0x7fc4b4cf4080>"
      ]
     },
     "metadata": {},
     "output_type": "display_data"
    }
   ],
   "source": [
    "h = taxidata_in_box.trip_time_in_secs\n",
    "plt.figure(figsize=(20,10))\n",
    "plt.hist(h, normed=False,  bins=150)\n",
    "    #, histtype='stepfilled')\n",
    "plt.yscale('log')\n",
    "#plt.ylabel('log(freq x)', fontsize=40)\n",
    "#plt.xlabel('x = avg_amount_per_minute', fontsize=40)\n",
    "#print('Min:' +  str(min(h)) + '\\nMax:' +  str(max(h)))\n",
    "#plt.yticks(fontsize=40)\n",
    "#plt.xticks(fontsize=40)\n",
    "#plt.locator_params(axis = 'x', nbins = 20)\n",
    "plt.show()"
   ]
  },
  {
   "cell_type": "code",
   "execution_count": 67,
   "metadata": {
    "collapsed": false
   },
   "outputs": [
    {
     "data": {
      "text/html": [
       "<div>\n",
       "<table border=\"1\" class=\"dataframe\">\n",
       "  <thead>\n",
       "    <tr style=\"text-align: right;\">\n",
       "      <th></th>\n",
       "      <th>medallion</th>\n",
       "      <th>hack_license</th>\n",
       "      <th>pickup_datetime</th>\n",
       "      <th>dropoff_datetime</th>\n",
       "      <th>passenger_count</th>\n",
       "      <th>trip_time_in_secs</th>\n",
       "      <th>trip_distance</th>\n",
       "      <th>pickup_longitude</th>\n",
       "      <th>pickup_latitude</th>\n",
       "      <th>dropoff_longitude</th>\n",
       "      <th>dropoff_latitude</th>\n",
       "      <th>tip_amount</th>\n",
       "      <th>total_amount</th>\n",
       "      <th>diff_calc_rec_time</th>\n",
       "      <th>avg_amount_per_minute</th>\n",
       "      <th>flag</th>\n",
       "    </tr>\n",
       "  </thead>\n",
       "  <tbody>\n",
       "    <tr>\n",
       "      <th>0</th>\n",
       "      <td>2013001380</td>\n",
       "      <td>2013001377</td>\n",
       "      <td>2013-01-07</td>\n",
       "      <td>2013-01-07 00:12:00</td>\n",
       "      <td>2.0</td>\n",
       "      <td>720.0</td>\n",
       "      <td>4.24</td>\n",
       "      <td>-73.987915</td>\n",
       "      <td>40.754730</td>\n",
       "      <td>-73.957382</td>\n",
       "      <td>40.782902</td>\n",
       "      <td>NaN</td>\n",
       "      <td>14.50</td>\n",
       "      <td>0 days</td>\n",
       "      <td>1.208333</td>\n",
       "      <td>too slow</td>\n",
       "    </tr>\n",
       "    <tr>\n",
       "      <th>1</th>\n",
       "      <td>2013005435</td>\n",
       "      <td>2013005432</td>\n",
       "      <td>2013-01-07</td>\n",
       "      <td>2013-01-07 00:04:00</td>\n",
       "      <td>3.0</td>\n",
       "      <td>240.0</td>\n",
       "      <td>1.51</td>\n",
       "      <td>-73.984917</td>\n",
       "      <td>40.736370</td>\n",
       "      <td>-73.984917</td>\n",
       "      <td>40.736370</td>\n",
       "      <td>1.30</td>\n",
       "      <td>8.30</td>\n",
       "      <td>0 days</td>\n",
       "      <td>2.075000</td>\n",
       "      <td>too slow</td>\n",
       "    </tr>\n",
       "    <tr>\n",
       "      <th>2</th>\n",
       "      <td>2013002440</td>\n",
       "      <td>2013002437</td>\n",
       "      <td>2013-01-07</td>\n",
       "      <td>2013-01-07 00:15:00</td>\n",
       "      <td>6.0</td>\n",
       "      <td>900.0</td>\n",
       "      <td>4.86</td>\n",
       "      <td>-73.988365</td>\n",
       "      <td>40.720261</td>\n",
       "      <td>-73.920486</td>\n",
       "      <td>40.702522</td>\n",
       "      <td>NaN</td>\n",
       "      <td>17.50</td>\n",
       "      <td>0 days</td>\n",
       "      <td>1.166667</td>\n",
       "      <td>too slow</td>\n",
       "    </tr>\n",
       "    <tr>\n",
       "      <th>3</th>\n",
       "      <td>2013007092</td>\n",
       "      <td>2013007088</td>\n",
       "      <td>2013-01-07</td>\n",
       "      <td>2013-01-07 00:14:00</td>\n",
       "      <td>1.0</td>\n",
       "      <td>840.0</td>\n",
       "      <td>6.33</td>\n",
       "      <td>-73.989822</td>\n",
       "      <td>40.702522</td>\n",
       "      <td>-74.009789</td>\n",
       "      <td>40.737411</td>\n",
       "      <td>4.10</td>\n",
       "      <td>25.10</td>\n",
       "      <td>0 days</td>\n",
       "      <td>1.792857</td>\n",
       "      <td>too slow</td>\n",
       "    </tr>\n",
       "    <tr>\n",
       "      <th>4</th>\n",
       "      <td>2013003235</td>\n",
       "      <td>2013003231</td>\n",
       "      <td>2013-01-07</td>\n",
       "      <td>2013-01-07 00:06:00</td>\n",
       "      <td>1.0</td>\n",
       "      <td>360.0</td>\n",
       "      <td>1.70</td>\n",
       "      <td>-74.005730</td>\n",
       "      <td>40.717567</td>\n",
       "      <td>-74.006401</td>\n",
       "      <td>40.739521</td>\n",
       "      <td>1.88</td>\n",
       "      <td>9.88</td>\n",
       "      <td>0 days</td>\n",
       "      <td>1.646667</td>\n",
       "      <td>too slow</td>\n",
       "    </tr>\n",
       "  </tbody>\n",
       "</table>\n",
       "</div>"
      ],
      "text/plain": [
       "    medallion  hack_license pickup_datetime    dropoff_datetime  \\\n",
       "0  2013001380    2013001377      2013-01-07 2013-01-07 00:12:00   \n",
       "1  2013005435    2013005432      2013-01-07 2013-01-07 00:04:00   \n",
       "2  2013002440    2013002437      2013-01-07 2013-01-07 00:15:00   \n",
       "3  2013007092    2013007088      2013-01-07 2013-01-07 00:14:00   \n",
       "4  2013003235    2013003231      2013-01-07 2013-01-07 00:06:00   \n",
       "\n",
       "   passenger_count  trip_time_in_secs  trip_distance  pickup_longitude  \\\n",
       "0              2.0              720.0           4.24        -73.987915   \n",
       "1              3.0              240.0           1.51        -73.984917   \n",
       "2              6.0              900.0           4.86        -73.988365   \n",
       "3              1.0              840.0           6.33        -73.989822   \n",
       "4              1.0              360.0           1.70        -74.005730   \n",
       "\n",
       "   pickup_latitude  dropoff_longitude  dropoff_latitude  tip_amount  \\\n",
       "0        40.754730         -73.957382         40.782902         NaN   \n",
       "1        40.736370         -73.984917         40.736370        1.30   \n",
       "2        40.720261         -73.920486         40.702522         NaN   \n",
       "3        40.702522         -74.009789         40.737411        4.10   \n",
       "4        40.717567         -74.006401         40.739521        1.88   \n",
       "\n",
       "   total_amount  diff_calc_rec_time  avg_amount_per_minute      flag  \n",
       "0         14.50              0 days               1.208333  too slow  \n",
       "1          8.30              0 days               2.075000  too slow  \n",
       "2         17.50              0 days               1.166667  too slow  \n",
       "3         25.10              0 days               1.792857  too slow  \n",
       "4          9.88              0 days               1.646667  too slow  "
      ]
     },
     "execution_count": 67,
     "metadata": {},
     "output_type": "execute_result"
    }
   ],
   "source": [
    "taxidata_in_box.head()"
   ]
  },
  {
   "cell_type": "code",
   "execution_count": 88,
   "metadata": {
    "collapsed": false
   },
   "outputs": [
    {
     "data": {
      "text/plain": [
       "0          0\n",
       "1          0\n",
       "2          0\n",
       "3          0\n",
       "4          0\n",
       "5          0\n",
       "6          0\n",
       "7          0\n",
       "8          0\n",
       "9          0\n",
       "10         0\n",
       "11         0\n",
       "12         0\n",
       "13         0\n",
       "14         0\n",
       "15         0\n",
       "16         0\n",
       "17         0\n",
       "18         0\n",
       "19         0\n",
       "20         0\n",
       "21         0\n",
       "22         0\n",
       "23         0\n",
       "25         0\n",
       "26         0\n",
       "27         0\n",
       "28         0\n",
       "29         0\n",
       "30         0\n",
       "          ..\n",
       "3265897    6\n",
       "3265898    6\n",
       "3265899    6\n",
       "3265900    6\n",
       "3265901    6\n",
       "3265902    6\n",
       "3265903    6\n",
       "3265904    6\n",
       "3265905    6\n",
       "3265906    6\n",
       "3265907    6\n",
       "3265908    6\n",
       "3265909    6\n",
       "3265910    6\n",
       "3265912    6\n",
       "3265913    6\n",
       "3265914    6\n",
       "3265915    6\n",
       "3265916    6\n",
       "3265917    6\n",
       "3265919    6\n",
       "3265920    6\n",
       "3265921    6\n",
       "3265922    6\n",
       "3265923    6\n",
       "3265924    6\n",
       "3265925    6\n",
       "3265926    6\n",
       "3265927    6\n",
       "3265928    6\n",
       "Name: pickup_datetime, dtype: int64"
      ]
     },
     "execution_count": 88,
     "metadata": {},
     "output_type": "execute_result"
    }
   ],
   "source": [
    "#taxidata_in_box['pickup_datetime'].dt.dayofweek\n",
    "#taxidata_in_box['pickup_datetime'].dt.hourb\n",
    "#taxidata_in_box['pickup_datetime'].dt.month # year, month, day, hour, minute, second, microsecond, and tzinfo.\n",
    "#taxidata_in_box['pickup_datetime'].dt.day"
   ]
  },
  {
   "cell_type": "markdown",
   "metadata": {},
   "source": [
    "# Make a new dataframe with features and targets"
   ]
  },
  {
   "cell_type": "code",
   "execution_count": 97,
   "metadata": {
    "collapsed": false
   },
   "outputs": [],
   "source": [
    "taxitime_regression_df = pd.DataFrame([taxidata_in_box['pickup_datetime'].dt.day,\n",
    "                          taxidata_in_box['pickup_datetime'].dt.dayofweek,\n",
    "                          taxidata_in_box['pickup_datetime'].dt.hour,\n",
    "                          taxidata_in_box['pickup_latitude'],\n",
    "                          taxidata_in_box['pickup_longitude'],\n",
    "                          taxidata_in_box['dropoff_latitude'],\n",
    "                          taxidata_in_box['dropoff_longitude'],\n",
    "                          taxidata_in_box['trip_time_in_secs'],\n",
    "                         ]).T\n",
    "taxitime_regression_df.columns = ['pickup_datetime_day', 'pickup_datetime_dayofweek', 'pickup_datetime_hour',\n",
    "                                 'pickup_latitude', 'pickup_longitude', 'dropoff_latitude', 'dropoff_longitude',\n",
    "                                 'trip_time_in_secs']"
   ]
  },
  {
   "cell_type": "code",
   "execution_count": 100,
   "metadata": {
    "collapsed": false
   },
   "outputs": [
    {
     "data": {
      "text/html": [
       "<div>\n",
       "<table border=\"1\" class=\"dataframe\">\n",
       "  <thead>\n",
       "    <tr style=\"text-align: right;\">\n",
       "      <th></th>\n",
       "      <th>pickup_datetime</th>\n",
       "      <th>pickup_datetime</th>\n",
       "      <th>pickup_datetime</th>\n",
       "      <th>pickup_latitude</th>\n",
       "      <th>pickup_longitude</th>\n",
       "      <th>dropoff_latitude</th>\n",
       "      <th>dropoff_longitude</th>\n",
       "      <th>trip_time_in_secs</th>\n",
       "    </tr>\n",
       "  </thead>\n",
       "  <tbody>\n",
       "    <tr>\n",
       "      <th>3265924</th>\n",
       "      <td>13.0</td>\n",
       "      <td>6.0</td>\n",
       "      <td>23.0</td>\n",
       "      <td>40.699783</td>\n",
       "      <td>-73.929535</td>\n",
       "      <td>40.707939</td>\n",
       "      <td>-73.944649</td>\n",
       "      <td>240.0</td>\n",
       "    </tr>\n",
       "    <tr>\n",
       "      <th>3265925</th>\n",
       "      <td>13.0</td>\n",
       "      <td>6.0</td>\n",
       "      <td>23.0</td>\n",
       "      <td>40.761757</td>\n",
       "      <td>-73.980927</td>\n",
       "      <td>40.769905</td>\n",
       "      <td>-73.950859</td>\n",
       "      <td>506.0</td>\n",
       "    </tr>\n",
       "    <tr>\n",
       "      <th>3265926</th>\n",
       "      <td>13.0</td>\n",
       "      <td>6.0</td>\n",
       "      <td>23.0</td>\n",
       "      <td>40.715023</td>\n",
       "      <td>-74.009911</td>\n",
       "      <td>40.708046</td>\n",
       "      <td>-74.017647</td>\n",
       "      <td>217.0</td>\n",
       "    </tr>\n",
       "    <tr>\n",
       "      <th>3265927</th>\n",
       "      <td>13.0</td>\n",
       "      <td>6.0</td>\n",
       "      <td>23.0</td>\n",
       "      <td>40.751560</td>\n",
       "      <td>-73.977791</td>\n",
       "      <td>40.730843</td>\n",
       "      <td>-73.978104</td>\n",
       "      <td>387.0</td>\n",
       "    </tr>\n",
       "    <tr>\n",
       "      <th>3265928</th>\n",
       "      <td>13.0</td>\n",
       "      <td>6.0</td>\n",
       "      <td>23.0</td>\n",
       "      <td>40.744747</td>\n",
       "      <td>-73.983177</td>\n",
       "      <td>40.743305</td>\n",
       "      <td>-74.003777</td>\n",
       "      <td>461.0</td>\n",
       "    </tr>\n",
       "  </tbody>\n",
       "</table>\n",
       "</div>"
      ],
      "text/plain": [
       "         pickup_datetime  pickup_datetime  pickup_datetime  pickup_latitude  \\\n",
       "3265924             13.0              6.0             23.0        40.699783   \n",
       "3265925             13.0              6.0             23.0        40.761757   \n",
       "3265926             13.0              6.0             23.0        40.715023   \n",
       "3265927             13.0              6.0             23.0        40.751560   \n",
       "3265928             13.0              6.0             23.0        40.744747   \n",
       "\n",
       "         pickup_longitude  dropoff_latitude  dropoff_longitude  \\\n",
       "3265924        -73.929535         40.707939         -73.944649   \n",
       "3265925        -73.980927         40.769905         -73.950859   \n",
       "3265926        -74.009911         40.708046         -74.017647   \n",
       "3265927        -73.977791         40.730843         -73.978104   \n",
       "3265928        -73.983177         40.743305         -74.003777   \n",
       "\n",
       "         trip_time_in_secs  \n",
       "3265924              240.0  \n",
       "3265925              506.0  \n",
       "3265926              217.0  \n",
       "3265927              387.0  \n",
       "3265928              461.0  "
      ]
     },
     "execution_count": 100,
     "metadata": {},
     "output_type": "execute_result"
    }
   ],
   "source": [
    "taxitime_regression_df.tail()"
   ]
  },
  {
   "cell_type": "code",
   "execution_count": 103,
   "metadata": {
    "collapsed": false
   },
   "outputs": [
    {
     "data": {
      "text/html": [
       "<div>\n",
       "<table border=\"1\" class=\"dataframe\">\n",
       "  <thead>\n",
       "    <tr style=\"text-align: right;\">\n",
       "      <th></th>\n",
       "      <th>pickup_datetime_day</th>\n",
       "      <th>pickup_datetime_dayofweek</th>\n",
       "      <th>pickup_datetime_hour</th>\n",
       "      <th>pickup_latitude</th>\n",
       "      <th>pickup_longitude</th>\n",
       "      <th>dropoff_latitude</th>\n",
       "      <th>dropoff_longitude</th>\n",
       "      <th>trip_time_in_secs</th>\n",
       "    </tr>\n",
       "  </thead>\n",
       "  <tbody>\n",
       "    <tr>\n",
       "      <th>0</th>\n",
       "      <td>7.0</td>\n",
       "      <td>0.0</td>\n",
       "      <td>0.0</td>\n",
       "      <td>40.754730</td>\n",
       "      <td>-73.987915</td>\n",
       "      <td>40.782902</td>\n",
       "      <td>-73.957382</td>\n",
       "      <td>720.0</td>\n",
       "    </tr>\n",
       "    <tr>\n",
       "      <th>1</th>\n",
       "      <td>7.0</td>\n",
       "      <td>0.0</td>\n",
       "      <td>0.0</td>\n",
       "      <td>40.736370</td>\n",
       "      <td>-73.984917</td>\n",
       "      <td>40.736370</td>\n",
       "      <td>-73.984917</td>\n",
       "      <td>240.0</td>\n",
       "    </tr>\n",
       "    <tr>\n",
       "      <th>2</th>\n",
       "      <td>7.0</td>\n",
       "      <td>0.0</td>\n",
       "      <td>0.0</td>\n",
       "      <td>40.720261</td>\n",
       "      <td>-73.988365</td>\n",
       "      <td>40.702522</td>\n",
       "      <td>-73.920486</td>\n",
       "      <td>900.0</td>\n",
       "    </tr>\n",
       "    <tr>\n",
       "      <th>3</th>\n",
       "      <td>7.0</td>\n",
       "      <td>0.0</td>\n",
       "      <td>0.0</td>\n",
       "      <td>40.702522</td>\n",
       "      <td>-73.989822</td>\n",
       "      <td>40.737411</td>\n",
       "      <td>-74.009789</td>\n",
       "      <td>840.0</td>\n",
       "    </tr>\n",
       "    <tr>\n",
       "      <th>4</th>\n",
       "      <td>7.0</td>\n",
       "      <td>0.0</td>\n",
       "      <td>0.0</td>\n",
       "      <td>40.717567</td>\n",
       "      <td>-74.005730</td>\n",
       "      <td>40.739521</td>\n",
       "      <td>-74.006401</td>\n",
       "      <td>360.0</td>\n",
       "    </tr>\n",
       "  </tbody>\n",
       "</table>\n",
       "</div>"
      ],
      "text/plain": [
       "   pickup_datetime_day  pickup_datetime_dayofweek  pickup_datetime_hour  \\\n",
       "0                  7.0                        0.0                   0.0   \n",
       "1                  7.0                        0.0                   0.0   \n",
       "2                  7.0                        0.0                   0.0   \n",
       "3                  7.0                        0.0                   0.0   \n",
       "4                  7.0                        0.0                   0.0   \n",
       "\n",
       "   pickup_latitude  pickup_longitude  dropoff_latitude  dropoff_longitude  \\\n",
       "0        40.754730        -73.987915         40.782902         -73.957382   \n",
       "1        40.736370        -73.984917         40.736370         -73.984917   \n",
       "2        40.720261        -73.988365         40.702522         -73.920486   \n",
       "3        40.702522        -73.989822         40.737411         -74.009789   \n",
       "4        40.717567        -74.005730         40.739521         -74.006401   \n",
       "\n",
       "   trip_time_in_secs  \n",
       "0              720.0  \n",
       "1              240.0  \n",
       "2              900.0  \n",
       "3              840.0  \n",
       "4              360.0  "
      ]
     },
     "execution_count": 103,
     "metadata": {},
     "output_type": "execute_result"
    }
   ],
   "source": [
    "taxitime_regression_df.head()"
   ]
  },
  {
   "cell_type": "code",
   "execution_count": 112,
   "metadata": {
    "collapsed": false
   },
   "outputs": [
    {
     "data": {
      "text/html": [
       "<div>\n",
       "<table border=\"1\" class=\"dataframe\">\n",
       "  <thead>\n",
       "    <tr style=\"text-align: right;\">\n",
       "      <th></th>\n",
       "      <th>pickup_datetime_hour</th>\n",
       "      <th>pickup_latitude</th>\n",
       "      <th>pickup_longitude</th>\n",
       "      <th>dropoff_latitude</th>\n",
       "      <th>dropoff_longitude</th>\n",
       "    </tr>\n",
       "  </thead>\n",
       "  <tbody>\n",
       "    <tr>\n",
       "      <th>count</th>\n",
       "      <td>3.056802e+06</td>\n",
       "      <td>3.056802e+06</td>\n",
       "      <td>3.056802e+06</td>\n",
       "      <td>3.056802e+06</td>\n",
       "      <td>3.056802e+06</td>\n",
       "    </tr>\n",
       "    <tr>\n",
       "      <th>mean</th>\n",
       "      <td>1.361234e+01</td>\n",
       "      <td>4.075165e+01</td>\n",
       "      <td>-7.397666e+01</td>\n",
       "      <td>4.075207e+01</td>\n",
       "      <td>-7.397583e+01</td>\n",
       "    </tr>\n",
       "    <tr>\n",
       "      <th>std</th>\n",
       "      <td>6.358685e+00</td>\n",
       "      <td>2.518782e-02</td>\n",
       "      <td>3.032372e-02</td>\n",
       "      <td>2.738352e-02</td>\n",
       "      <td>2.793989e-02</td>\n",
       "    </tr>\n",
       "    <tr>\n",
       "      <th>min</th>\n",
       "      <td>0.000000e+00</td>\n",
       "      <td>4.064155e+01</td>\n",
       "      <td>-7.402062e+01</td>\n",
       "      <td>4.064155e+01</td>\n",
       "      <td>-7.402063e+01</td>\n",
       "    </tr>\n",
       "    <tr>\n",
       "      <th>25%</th>\n",
       "      <td>9.000000e+00</td>\n",
       "      <td>4.073722e+01</td>\n",
       "      <td>-7.399216e+01</td>\n",
       "      <td>4.073673e+01</td>\n",
       "      <td>-7.399136e+01</td>\n",
       "    </tr>\n",
       "    <tr>\n",
       "      <th>50%</th>\n",
       "      <td>1.400000e+01</td>\n",
       "      <td>4.075393e+01</td>\n",
       "      <td>-7.398206e+01</td>\n",
       "      <td>4.075442e+01</td>\n",
       "      <td>-7.398064e+01</td>\n",
       "    </tr>\n",
       "    <tr>\n",
       "      <th>75%</th>\n",
       "      <td>1.900000e+01</td>\n",
       "      <td>4.076787e+01</td>\n",
       "      <td>-7.396847e+01</td>\n",
       "      <td>4.076853e+01</td>\n",
       "      <td>-7.396609e+01</td>\n",
       "    </tr>\n",
       "    <tr>\n",
       "      <th>max</th>\n",
       "      <td>2.300000e+01</td>\n",
       "      <td>4.085637e+01</td>\n",
       "      <td>-7.377812e+01</td>\n",
       "      <td>4.085640e+01</td>\n",
       "      <td>-7.377812e+01</td>\n",
       "    </tr>\n",
       "  </tbody>\n",
       "</table>\n",
       "</div>"
      ],
      "text/plain": [
       "       pickup_datetime_hour  pickup_latitude  pickup_longitude  \\\n",
       "count          3.056802e+06     3.056802e+06      3.056802e+06   \n",
       "mean           1.361234e+01     4.075165e+01     -7.397666e+01   \n",
       "std            6.358685e+00     2.518782e-02      3.032372e-02   \n",
       "min            0.000000e+00     4.064155e+01     -7.402062e+01   \n",
       "25%            9.000000e+00     4.073722e+01     -7.399216e+01   \n",
       "50%            1.400000e+01     4.075393e+01     -7.398206e+01   \n",
       "75%            1.900000e+01     4.076787e+01     -7.396847e+01   \n",
       "max            2.300000e+01     4.085637e+01     -7.377812e+01   \n",
       "\n",
       "       dropoff_latitude  dropoff_longitude  \n",
       "count      3.056802e+06       3.056802e+06  \n",
       "mean       4.075207e+01      -7.397583e+01  \n",
       "std        2.738352e-02       2.793989e-02  \n",
       "min        4.064155e+01      -7.402063e+01  \n",
       "25%        4.073673e+01      -7.399136e+01  \n",
       "50%        4.075442e+01      -7.398064e+01  \n",
       "75%        4.076853e+01      -7.396609e+01  \n",
       "max        4.085640e+01      -7.377812e+01  "
      ]
     },
     "execution_count": 112,
     "metadata": {},
     "output_type": "execute_result"
    }
   ],
   "source": [
    "taxitime_regression_df.ix[:,2:7].describe()"
   ]
  },
  {
   "cell_type": "code",
   "execution_count": 145,
   "metadata": {
    "collapsed": false
   },
   "outputs": [
    {
     "name": "stdout",
     "output_type": "stream",
     "text": [
      "Automatically created module for IPython interactive environment\n"
     ]
    }
   ],
   "source": [
    "print(__doc__)\n",
    "\n",
    "# Import the necessary modules and libraries\n",
    "import numpy as np\n",
    "from sklearn.tree import DecisionTreeRegressor\n",
    "import matplotlib.pyplot as plt\n",
    "\n",
    "#features = ['pickup_latitude', 'pickup_longitude', 'dropoff_latitude', 'dropoff_longitude','pickup_datetime']\n",
    "#print(\"* features:\", features, sep=\"\\n\")\n",
    "\n",
    "y = taxidata_in_box[\"trip_time_in_secs\"]\n",
    "X = taxitime_regression_df.ix[:,2:7]\n",
    "regtree = DecisionTreeRegressor(min_samples_split=20, random_state=99, max_depth=5)\n",
    "regtree.fit(X, y)\n",
    "\n",
    "\n"
   ]
  },
  {
   "cell_type": "code",
   "execution_count": 143,
   "metadata": {
    "collapsed": false
   },
   "outputs": [
    {
     "data": {
      "text/plain": [
       "Index(['pickup_datetime_hour', 'pickup_latitude', 'pickup_longitude',\n",
       "       'dropoff_latitude', 'dropoff_longitude'],\n",
       "      dtype='object')"
      ]
     },
     "execution_count": 143,
     "metadata": {},
     "output_type": "execute_result"
    }
   ],
   "source": [
    "taxitime_regression_df.ix[:,2:7].columns"
   ]
  },
  {
   "cell_type": "code",
   "execution_count": 144,
   "metadata": {
    "collapsed": false
   },
   "outputs": [],
   "source": [
    "from sklearn import tree\n",
    "tree.export_graphviz(regtree, out_file='figures/tree5.dot', feature_names=taxitime_regression_df.ix[:,2:7].columns, class_names=taxitime_regression_df.columns[7])    "
   ]
  },
  {
   "cell_type": "code",
   "execution_count": 154,
   "metadata": {
    "collapsed": false
   },
   "outputs": [
    {
     "data": {
      "text/plain": [
       "63"
      ]
     },
     "execution_count": 154,
     "metadata": {},
     "output_type": "execute_result"
    }
   ],
   "source": [
    "regtree.tree_.node_count"
   ]
  },
  {
   "cell_type": "code",
   "execution_count": 155,
   "metadata": {
    "collapsed": false
   },
   "outputs": [
    {
     "data": {
      "text/plain": [
       "1"
      ]
     },
     "execution_count": 155,
     "metadata": {},
     "output_type": "execute_result"
    }
   ],
   "source": [
    "regtree.tree_.n_outputs"
   ]
  },
  {
   "cell_type": "code",
   "execution_count": 156,
   "metadata": {
    "collapsed": false
   },
   "outputs": [
    {
     "data": {
      "text/plain": [
       "array([ 1,  2,  3,  4,  5, -1, -1,  8, -1, -1, 11, 12, -1, -1, 15, -1, -1,\n",
       "       18, 19, 20, -1, -1, 23, -1, -1, 26, 27, -1, -1, 30, -1, -1, 33, 34,\n",
       "       35, 36, -1, -1, 39, -1, -1, 42, 43, -1, -1, 46, -1, -1, 49, 50, 51,\n",
       "       -1, -1, 54, -1, -1, 57, 58, -1, -1, 61, -1, -1])"
      ]
     },
     "execution_count": 156,
     "metadata": {},
     "output_type": "execute_result"
    }
   ],
   "source": [
    "regtree.tree_.children_left"
   ]
  },
  {
   "cell_type": "code",
   "execution_count": 157,
   "metadata": {
    "collapsed": false
   },
   "outputs": [
    {
     "data": {
      "text/plain": [
       "array([32, 17, 10,  7,  6, -1, -1,  9, -1, -1, 14, 13, -1, -1, 16, -1, -1,\n",
       "       25, 22, 21, -1, -1, 24, -1, -1, 29, 28, -1, -1, 31, -1, -1, 48, 41,\n",
       "       38, 37, -1, -1, 40, -1, -1, 45, 44, -1, -1, 47, -1, -1, 56, 53, 52,\n",
       "       -1, -1, 55, -1, -1, 60, 59, -1, -1, 62, -1, -1])"
      ]
     },
     "execution_count": 157,
     "metadata": {},
     "output_type": "execute_result"
    }
   ],
   "source": [
    "regtree.tree_.children_right"
   ]
  },
  {
   "cell_type": "code",
   "execution_count": 161,
   "metadata": {
    "collapsed": false
   },
   "outputs": [
    {
     "data": {
      "text/plain": [
       "array([-73.88613892, -73.90988922,  40.72278595,  40.73894501,\n",
       "        40.70151138,  -2.        ,  -2.        ,  40.7013855 ,\n",
       "        -2.        ,  -2.        ,  40.72089386,  40.74928665,\n",
       "        -2.        ,  -2.        , -73.94437408,  -2.        ,\n",
       "        -2.        ,  40.68167496,  11.5       ,   6.5       ,\n",
       "        -2.        ,  -2.        ,  18.5       ,  -2.        ,\n",
       "        -2.        , -73.95184326,   7.5       ,  -2.        ,\n",
       "        -2.        , -73.93190765,  -2.        ,  -2.        ,\n",
       "        40.68701935, -73.89788055,  18.5       ,  14.5       ,\n",
       "        -2.        ,  -2.        ,  19.5       ,  -2.        ,\n",
       "        -2.        ,  40.70608902, -73.83266449,  -2.        ,\n",
       "        -2.        ,  40.81648254,  -2.        ,  -2.        ,\n",
       "       -73.9520874 ,  18.5       , -73.97766113,  -2.        ,\n",
       "        -2.        , -73.97750092,  -2.        ,  -2.        ,\n",
       "       -73.92916107,  40.70088577,  -2.        ,  -2.        ,\n",
       "        40.70640182,  -2.        ,  -2.        ])"
      ]
     },
     "execution_count": 161,
     "metadata": {},
     "output_type": "execute_result"
    }
   ],
   "source": [
    "regtree.tree_.threshold"
   ]
  },
  {
   "cell_type": "markdown",
   "metadata": {},
   "source": [
    "## Read as follows: Split # x results in the children_left[x] and children_right[x], etc. Means: go to the left, and then step by step to the right..."
   ]
  },
  {
   "cell_type": "code",
   "execution_count": 173,
   "metadata": {
    "collapsed": false
   },
   "outputs": [
    {
     "name": "stdout",
     "output_type": "stream",
     "text": [
      "cleft: [ 1  2  3  4  5 -1 -1  8 -1 -1 11 12 -1 -1 15 -1 -1 18 19 20 -1 -1 23 -1 -1\n",
      " 26 27 -1 -1 30 -1 -1 33 34 35 36 -1 -1 39 -1 -1 42 43 -1 -1 46 -1 -1 49 50\n",
      " 51 -1 -1 54 -1 -1 57 58 -1 -1 61 -1 -1]\n",
      "\n",
      " cright: [32 17 10  7  6 -1 -1  9 -1 -1 14 13 -1 -1 16 -1 -1 25 22 21 -1 -1 24 -1 -1\n",
      " 29 28 -1 -1 31 -1 -1 48 41 38 37 -1 -1 40 -1 -1 45 44 -1 -1 47 -1 -1 56 53\n",
      " 52 -1 -1 55 -1 -1 60 59 -1 -1 62 -1 -1]\n",
      "\n",
      " [ 2  4  3  1  3 -2 -2  3 -2 -2  1  3 -2 -2  4 -2 -2  3  0  0 -2 -2  0 -2 -2\n",
      "  2  0 -2 -2  2 -2 -2  1  4  0  0 -2 -2  0 -2 -2  3  4 -2 -2  3 -2 -2  4  0\n",
      "  4 -2 -2  4 -2 -2  4  3 -2 -2  3 -2 -2] \n",
      "\n",
      " [-73.88613892 -73.90988922  40.72278595  40.73894501  40.70151138  -2.          -2.\n",
      "  40.7013855   -2.          -2.          40.72089386  40.74928665  -2.          -2.\n",
      " -73.94437408  -2.          -2.          40.68167496  11.5          6.5\n",
      "  -2.          -2.          18.5         -2.          -2.         -73.95184326\n",
      "   7.5         -2.          -2.         -73.93190765  -2.          -2.\n",
      "  40.68701935 -73.89788055  18.5         14.5         -2.          -2.\n",
      "  19.5         -2.          -2.          40.70608902 -73.83266449  -2.          -2.\n",
      "  40.81648254  -2.          -2.         -73.9520874   18.5        -73.97766113\n",
      "  -2.          -2.         -73.97750092  -2.          -2.         -73.92916107\n",
      "  40.70088577  -2.          -2.          40.70640182  -2.          -2.        ] \n",
      "\n",
      " [[[  679.31987221]]\n",
      "\n",
      " [[  649.07611295]]\n",
      "\n",
      " [[  627.64430731]]\n",
      "\n",
      " [[  878.64743634]]\n",
      "\n",
      " [[  679.40905551]]\n",
      "\n",
      " [[  898.31412134]]\n",
      "\n",
      " [[  593.15547332]]\n",
      "\n",
      " [[ 1162.7986979 ]]\n",
      "\n",
      " [[ 1624.406962  ]]\n",
      "\n",
      " [[ 1060.22302478]]\n",
      "\n",
      " [[  593.3985639 ]]\n",
      "\n",
      " [[  855.64999967]]\n",
      "\n",
      " [[  677.38840559]]\n",
      "\n",
      " [[ 1085.80119068]]\n",
      "\n",
      " [[  577.05745923]]\n",
      "\n",
      " [[  568.45970247]]\n",
      "\n",
      " [[  829.17821168]]\n",
      "\n",
      " [[ 1517.12575253]]\n",
      "\n",
      " [[ 2301.61467741]]\n",
      "\n",
      " [[ 1964.44504749]]\n",
      "\n",
      " [[ 1744.31563246]]\n",
      "\n",
      " [[ 2098.7993445 ]]\n",
      "\n",
      " [[ 2491.08781294]]\n",
      "\n",
      " [[ 2572.46516454]]\n",
      "\n",
      " [[ 2002.24398931]]\n",
      "\n",
      " [[ 1354.07251205]]\n",
      "\n",
      " [[ 1441.89347822]]\n",
      "\n",
      " [[ 1268.68077426]]\n",
      "\n",
      " [[ 1521.8098725 ]]\n",
      "\n",
      " [[  811.94529355]]\n",
      "\n",
      " [[ 1059.68792906]]\n",
      "\n",
      " [[  629.52990733]]\n",
      "\n",
      " [[ 1649.41353416]]\n",
      "\n",
      " [[ 2117.21388344]]\n",
      "\n",
      " [[ 2314.92343379]]\n",
      "\n",
      " [[ 2501.14148292]]\n",
      "\n",
      " [[ 2251.51525054]]\n",
      "\n",
      " [[ 2801.0136807 ]]\n",
      "\n",
      " [[ 1884.68510426]]\n",
      "\n",
      " [[ 2118.83017751]]\n",
      "\n",
      " [[ 1822.06361766]]\n",
      "\n",
      " [[ 1185.49093494]]\n",
      "\n",
      " [[  855.56362275]]\n",
      "\n",
      " [[ 1083.56695652]]\n",
      "\n",
      " [[  793.04482594]]\n",
      "\n",
      " [[ 1483.92213947]]\n",
      "\n",
      " [[ 1436.62111352]]\n",
      "\n",
      " [[ 2179.85106383]]\n",
      "\n",
      " [[ 1399.99606828]]\n",
      "\n",
      " [[ 1547.28849323]]\n",
      "\n",
      " [[ 1654.89854322]]\n",
      "\n",
      " [[ 1734.98343324]]\n",
      "\n",
      " [[ 1508.9408172 ]]\n",
      "\n",
      " [[ 1281.80721805]]\n",
      "\n",
      " [[ 1348.41335547]]\n",
      "\n",
      " [[ 1166.47422469]]\n",
      "\n",
      " [[  920.5757041 ]]\n",
      "\n",
      " [[ 1192.89315946]]\n",
      "\n",
      " [[ 1751.90414508]]\n",
      "\n",
      " [[ 1138.7455458 ]]\n",
      "\n",
      " [[  799.06696611]]\n",
      "\n",
      " [[ 1257.34451019]]\n",
      "\n",
      " [[  714.83250755]]]\n"
     ]
    }
   ],
   "source": [
    "print('cleft: ' + str(regtree.tree_.children_left) + '\\n\\n', #array of left children\n",
    "      'cright: ' + str(regtree.tree_.children_right) + '\\n\\n', #array of right children\n",
    "    regtree.tree_.feature, '\\n\\n',#array of nodes splitting feature\n",
    "    regtree.tree_.threshold, '\\n\\n', #array of nodes splitting points\n",
    "    regtree.tree_.value) #array of nodes values"
   ]
  },
  {
   "cell_type": "code",
   "execution_count": 179,
   "metadata": {
    "collapsed": false
   },
   "outputs": [
    {
     "data": {
      "text/plain": [
       "63"
      ]
     },
     "execution_count": 179,
     "metadata": {},
     "output_type": "execute_result"
    }
   ],
   "source": [
    "len(regtree.tree_.children_left)\n",
    "regtree.tree_.node_count"
   ]
  },
  {
   "cell_type": "code",
   "execution_count": 174,
   "metadata": {
    "collapsed": false
   },
   "outputs": [
    {
     "name": "stdout",
     "output_type": "stream",
     "text": [
      "[('__class__', <class 'sklearn.tree._tree.Tree'>), ('__delattr__', <method-wrapper '__delattr__' of sklearn.tree._tree.Tree object at 0x7fc4afb019f0>), ('__dir__', <built-in method __dir__ of sklearn.tree._tree.Tree object at 0x7fc4afb019f0>), ('__doc__', \"Array-based representation of a binary decision tree.\\n\\n    The binary tree is represented as a number of parallel arrays. The i-th\\n    element of each array holds information about the node `i`. Node 0 is the\\n    tree's root. You can find a detailed description of all arrays in\\n    `_tree.pxd`. NOTE: Some of the arrays only apply to either leaves or split\\n    nodes, resp. In this case the values of nodes of the other type are\\n    arbitrary!\\n\\n    Attributes\\n    ----------\\n    node_count : int\\n        The number of nodes (internal nodes + leaves) in the tree.\\n\\n    capacity : int\\n        The current capacity (i.e., size) of the arrays, which is at least as\\n        great as `node_count`.\\n\\n    max_depth : int\\n        The maximal depth of the tree.\\n\\n    children_left : array of int, shape [node_count]\\n        children_left[i] holds the node id of the left child of node i.\\n        For leaves, children_left[i] == TREE_LEAF. Otherwise,\\n        children_left[i] > i. This child handles the case where\\n        X[:, feature[i]] <= threshold[i].\\n\\n    children_right : array of int, shape [node_count]\\n        children_right[i] holds the node id of the right child of node i.\\n        For leaves, children_right[i] == TREE_LEAF. Otherwise,\\n        children_right[i] > i. This child handles the case where\\n        X[:, feature[i]] > threshold[i].\\n\\n    feature : array of int, shape [node_count]\\n        feature[i] holds the feature to split on, for the internal node i.\\n\\n    threshold : array of double, shape [node_count]\\n        threshold[i] holds the threshold for the internal node i.\\n\\n    value : array of double, shape [node_count, n_outputs, max_n_classes]\\n        Contains the constant prediction value of each node.\\n\\n    impurity : array of double, shape [node_count]\\n        impurity[i] holds the impurity (i.e., the value of the splitting\\n        criterion) at node i.\\n\\n    n_node_samples : array of int, shape [node_count]\\n        n_node_samples[i] holds the number of training samples reaching node i.\\n\\n    weighted_n_node_samples : array of int, shape [node_count]\\n        weighted_n_node_samples[i] holds the weighted number of training samples\\n        reaching node i.\\n    \"), ('__eq__', <method-wrapper '__eq__' of sklearn.tree._tree.Tree object at 0x7fc4afb019f0>), ('__format__', <built-in method __format__ of sklearn.tree._tree.Tree object at 0x7fc4afb019f0>), ('__ge__', <method-wrapper '__ge__' of sklearn.tree._tree.Tree object at 0x7fc4afb019f0>), ('__getattribute__', <method-wrapper '__getattribute__' of sklearn.tree._tree.Tree object at 0x7fc4afb019f0>), ('__getstate__', <built-in method __getstate__ of sklearn.tree._tree.Tree object at 0x7fc4afb019f0>), ('__gt__', <method-wrapper '__gt__' of sklearn.tree._tree.Tree object at 0x7fc4afb019f0>), ('__hash__', <method-wrapper '__hash__' of sklearn.tree._tree.Tree object at 0x7fc4afb019f0>), ('__init__', <method-wrapper '__init__' of sklearn.tree._tree.Tree object at 0x7fc4afb019f0>), ('__le__', <method-wrapper '__le__' of sklearn.tree._tree.Tree object at 0x7fc4afb019f0>), ('__lt__', <method-wrapper '__lt__' of sklearn.tree._tree.Tree object at 0x7fc4afb019f0>), ('__ne__', <method-wrapper '__ne__' of sklearn.tree._tree.Tree object at 0x7fc4afb019f0>), ('__new__', <built-in method __new__ of type object at 0x7fc4abf84680>), ('__pyx_vtable__', <capsule object NULL at 0x7fc4b2119300>), ('__reduce__', <built-in method __reduce__ of sklearn.tree._tree.Tree object at 0x7fc4afb019f0>), ('__reduce_ex__', <built-in method __reduce_ex__ of sklearn.tree._tree.Tree object at 0x7fc4afb019f0>), ('__repr__', <method-wrapper '__repr__' of sklearn.tree._tree.Tree object at 0x7fc4afb019f0>), ('__setattr__', <method-wrapper '__setattr__' of sklearn.tree._tree.Tree object at 0x7fc4afb019f0>), ('__setstate__', <built-in method __setstate__ of sklearn.tree._tree.Tree object at 0x7fc4afb019f0>), ('__sizeof__', <built-in method __sizeof__ of sklearn.tree._tree.Tree object at 0x7fc4afb019f0>), ('__str__', <method-wrapper '__str__' of sklearn.tree._tree.Tree object at 0x7fc4afb019f0>), ('__subclasshook__', <built-in method __subclasshook__ of type object at 0x7fc4abf84680>), ('apply', <built-in method apply of sklearn.tree._tree.Tree object at 0x7fc4afb019f0>), ('capacity', 63), ('children_left', array([ 1,  2,  3,  4,  5, -1, -1,  8, -1, -1, 11, 12, -1, -1, 15, -1, -1,\n",
      "       18, 19, 20, -1, -1, 23, -1, -1, 26, 27, -1, -1, 30, -1, -1, 33, 34,\n",
      "       35, 36, -1, -1, 39, -1, -1, 42, 43, -1, -1, 46, -1, -1, 49, 50, 51,\n",
      "       -1, -1, 54, -1, -1, 57, 58, -1, -1, 61, -1, -1])), ('children_right', array([32, 17, 10,  7,  6, -1, -1,  9, -1, -1, 14, 13, -1, -1, 16, -1, -1,\n",
      "       25, 22, 21, -1, -1, 24, -1, -1, 29, 28, -1, -1, 31, -1, -1, 48, 41,\n",
      "       38, 37, -1, -1, 40, -1, -1, 45, 44, -1, -1, 47, -1, -1, 56, 53, 52,\n",
      "       -1, -1, 55, -1, -1, 60, 59, -1, -1, 62, -1, -1])), ('compute_feature_importances', <built-in method compute_feature_importances of sklearn.tree._tree.Tree object at 0x7fc4afb019f0>), ('feature', array([ 2,  4,  3,  1,  3, -2, -2,  3, -2, -2,  1,  3, -2, -2,  4, -2, -2,\n",
      "        3,  0,  0, -2, -2,  0, -2, -2,  2,  0, -2, -2,  2, -2, -2,  1,  4,\n",
      "        0,  0, -2, -2,  0, -2, -2,  3,  4, -2, -2,  3, -2, -2,  4,  0,  4,\n",
      "       -2, -2,  4, -2, -2,  4,  3, -2, -2,  3, -2, -2])), ('impurity', array([ 208481.86107292,  165820.9558265 ,  140502.55162322,\n",
      "        243532.25407763,  157161.65452182,  230264.67054123,\n",
      "        102036.374528  ,  229357.13524744,  299954.81044525,\n",
      "        155797.81860686,  116677.08049351,  168612.25913749,\n",
      "        110110.29221488,  150146.68747837,  108888.44653767,\n",
      "        103764.93748296,  193397.75869666,  419174.94456488,\n",
      "        438592.93638534,  240372.95887529,  175151.26612794,\n",
      "        232554.10795296,  450198.38585859,  438639.57134801,\n",
      "        240884.51571409,  260639.16328855,  213720.42085134,\n",
      "        140160.99045815,  227429.90087772,  208760.98790968,\n",
      "        178926.53905338,  152260.95003226,  606444.78698469,\n",
      "        723306.30510486,  550976.95487386,  593044.88313866,\n",
      "        434103.55596667,  619199.38108812,  188560.01720976,\n",
      "        310833.48654494,  137274.33493048,  483104.73978629,\n",
      "        446541.7107725 ,  195111.43160378,  497321.11100923,\n",
      "        328655.53489915,  284576.15073282,  459949.97781802,\n",
      "        365250.9930833 ,  293702.16792103,  331065.1159713 ,\n",
      "        306824.66470879,  342251.58445439,  102476.48599301,\n",
      "        102481.36003513,   81484.46169957,  297675.54052074,\n",
      "        316644.96707972,  298489.69288437,  285202.47076121,\n",
      "        241358.01062375,  290567.58413982,  186614.75913661])), ('max_depth', 5), ('max_n_classes', 1), ('n_classes', array([1])), ('n_features', 5), ('n_node_samples', array([3056802, 2964384, 2892958,  347316,  204163,   57707,  146456,\n",
      "        143153,   26027,  117126, 2545642,  149317,   84144,   65173,\n",
      "       2396325, 2317301,   79024,   71426,   12291,    4422,    1676,\n",
      "          2746,    7869,    6746,    1123,   59135,   50891,   16067,\n",
      "         34824,    8244,    3496,    4748,   92418,   32139,   26513,\n",
      "         18504,   10098,    8406,    8009,    1690,    6319,    5626,\n",
      "          2672,     575,    2097,    2954,    2766,     188,   60279,\n",
      "         46112,   32812,   21187,   11625,   13300,    8431,    4869,\n",
      "         14167,    4371,     386,    3985,    9796,    1521,    8275])), ('n_outputs', 1), ('node_count', 63), ('predict', <built-in method predict of sklearn.tree._tree.Tree object at 0x7fc4afb019f0>), ('threshold', array([-73.88613892, -73.90988922,  40.72278595,  40.73894501,\n",
      "        40.70151138,  -2.        ,  -2.        ,  40.7013855 ,\n",
      "        -2.        ,  -2.        ,  40.72089386,  40.74928665,\n",
      "        -2.        ,  -2.        , -73.94437408,  -2.        ,\n",
      "        -2.        ,  40.68167496,  11.5       ,   6.5       ,\n",
      "        -2.        ,  -2.        ,  18.5       ,  -2.        ,\n",
      "        -2.        , -73.95184326,   7.5       ,  -2.        ,\n",
      "        -2.        , -73.93190765,  -2.        ,  -2.        ,\n",
      "        40.68701935, -73.89788055,  18.5       ,  14.5       ,\n",
      "        -2.        ,  -2.        ,  19.5       ,  -2.        ,\n",
      "        -2.        ,  40.70608902, -73.83266449,  -2.        ,\n",
      "        -2.        ,  40.81648254,  -2.        ,  -2.        ,\n",
      "       -73.9520874 ,  18.5       , -73.97766113,  -2.        ,\n",
      "        -2.        , -73.97750092,  -2.        ,  -2.        ,\n",
      "       -73.92916107,  40.70088577,  -2.        ,  -2.        ,\n",
      "        40.70640182,  -2.        ,  -2.        ])), ('value', array([[[  679.31987221]],\n",
      "\n",
      "       [[  649.07611295]],\n",
      "\n",
      "       [[  627.64430731]],\n",
      "\n",
      "       [[  878.64743634]],\n",
      "\n",
      "       [[  679.40905551]],\n",
      "\n",
      "       [[  898.31412134]],\n",
      "\n",
      "       [[  593.15547332]],\n",
      "\n",
      "       [[ 1162.7986979 ]],\n",
      "\n",
      "       [[ 1624.406962  ]],\n",
      "\n",
      "       [[ 1060.22302478]],\n",
      "\n",
      "       [[  593.3985639 ]],\n",
      "\n",
      "       [[  855.64999967]],\n",
      "\n",
      "       [[  677.38840559]],\n",
      "\n",
      "       [[ 1085.80119068]],\n",
      "\n",
      "       [[  577.05745923]],\n",
      "\n",
      "       [[  568.45970247]],\n",
      "\n",
      "       [[  829.17821168]],\n",
      "\n",
      "       [[ 1517.12575253]],\n",
      "\n",
      "       [[ 2301.61467741]],\n",
      "\n",
      "       [[ 1964.44504749]],\n",
      "\n",
      "       [[ 1744.31563246]],\n",
      "\n",
      "       [[ 2098.7993445 ]],\n",
      "\n",
      "       [[ 2491.08781294]],\n",
      "\n",
      "       [[ 2572.46516454]],\n",
      "\n",
      "       [[ 2002.24398931]],\n",
      "\n",
      "       [[ 1354.07251205]],\n",
      "\n",
      "       [[ 1441.89347822]],\n",
      "\n",
      "       [[ 1268.68077426]],\n",
      "\n",
      "       [[ 1521.8098725 ]],\n",
      "\n",
      "       [[  811.94529355]],\n",
      "\n",
      "       [[ 1059.68792906]],\n",
      "\n",
      "       [[  629.52990733]],\n",
      "\n",
      "       [[ 1649.41353416]],\n",
      "\n",
      "       [[ 2117.21388344]],\n",
      "\n",
      "       [[ 2314.92343379]],\n",
      "\n",
      "       [[ 2501.14148292]],\n",
      "\n",
      "       [[ 2251.51525054]],\n",
      "\n",
      "       [[ 2801.0136807 ]],\n",
      "\n",
      "       [[ 1884.68510426]],\n",
      "\n",
      "       [[ 2118.83017751]],\n",
      "\n",
      "       [[ 1822.06361766]],\n",
      "\n",
      "       [[ 1185.49093494]],\n",
      "\n",
      "       [[  855.56362275]],\n",
      "\n",
      "       [[ 1083.56695652]],\n",
      "\n",
      "       [[  793.04482594]],\n",
      "\n",
      "       [[ 1483.92213947]],\n",
      "\n",
      "       [[ 1436.62111352]],\n",
      "\n",
      "       [[ 2179.85106383]],\n",
      "\n",
      "       [[ 1399.99606828]],\n",
      "\n",
      "       [[ 1547.28849323]],\n",
      "\n",
      "       [[ 1654.89854322]],\n",
      "\n",
      "       [[ 1734.98343324]],\n",
      "\n",
      "       [[ 1508.9408172 ]],\n",
      "\n",
      "       [[ 1281.80721805]],\n",
      "\n",
      "       [[ 1348.41335547]],\n",
      "\n",
      "       [[ 1166.47422469]],\n",
      "\n",
      "       [[  920.5757041 ]],\n",
      "\n",
      "       [[ 1192.89315946]],\n",
      "\n",
      "       [[ 1751.90414508]],\n",
      "\n",
      "       [[ 1138.7455458 ]],\n",
      "\n",
      "       [[  799.06696611]],\n",
      "\n",
      "       [[ 1257.34451019]],\n",
      "\n",
      "       [[  714.83250755]]])), ('weighted_n_node_samples', array([  3.05680200e+06,   2.96438400e+06,   2.89295800e+06,\n",
      "         3.47316000e+05,   2.04163000e+05,   5.77070000e+04,\n",
      "         1.46456000e+05,   1.43153000e+05,   2.60270000e+04,\n",
      "         1.17126000e+05,   2.54564200e+06,   1.49317000e+05,\n",
      "         8.41440000e+04,   6.51730000e+04,   2.39632500e+06,\n",
      "         2.31730100e+06,   7.90240000e+04,   7.14260000e+04,\n",
      "         1.22910000e+04,   4.42200000e+03,   1.67600000e+03,\n",
      "         2.74600000e+03,   7.86900000e+03,   6.74600000e+03,\n",
      "         1.12300000e+03,   5.91350000e+04,   5.08910000e+04,\n",
      "         1.60670000e+04,   3.48240000e+04,   8.24400000e+03,\n",
      "         3.49600000e+03,   4.74800000e+03,   9.24180000e+04,\n",
      "         3.21390000e+04,   2.65130000e+04,   1.85040000e+04,\n",
      "         1.00980000e+04,   8.40600000e+03,   8.00900000e+03,\n",
      "         1.69000000e+03,   6.31900000e+03,   5.62600000e+03,\n",
      "         2.67200000e+03,   5.75000000e+02,   2.09700000e+03,\n",
      "         2.95400000e+03,   2.76600000e+03,   1.88000000e+02,\n",
      "         6.02790000e+04,   4.61120000e+04,   3.28120000e+04,\n",
      "         2.11870000e+04,   1.16250000e+04,   1.33000000e+04,\n",
      "         8.43100000e+03,   4.86900000e+03,   1.41670000e+04,\n",
      "         4.37100000e+03,   3.86000000e+02,   3.98500000e+03,\n",
      "         9.79600000e+03,   1.52100000e+03,   8.27500000e+03]))]\n"
     ]
    }
   ],
   "source": [
    "from inspect import getmembers\n",
    "print( getmembers( regtree.tree_ ) )"
   ]
  },
  {
   "cell_type": "code",
   "execution_count": 141,
   "metadata": {
    "collapsed": false
   },
   "outputs": [
    {
     "data": {
      "text/plain": [
       "Index(['pickup_datetime_day', 'pickup_datetime_dayofweek',\n",
       "       'pickup_datetime_hour', 'pickup_latitude', 'pickup_longitude',\n",
       "       'dropoff_latitude', 'dropoff_longitude'],\n",
       "      dtype='object')"
      ]
     },
     "execution_count": 141,
     "metadata": {},
     "output_type": "execute_result"
    }
   ],
   "source": [
    "taxitime_regression_df.columns[0:7]"
   ]
  },
  {
   "cell_type": "code",
   "execution_count": 76,
   "metadata": {
    "collapsed": false
   },
   "outputs": [
    {
     "name": "stdout",
     "output_type": "stream",
     "text": [
      "<class 'pandas.core.frame.DataFrame'>\n",
      "Int64Index: 3056802 entries, 0 to 3265928\n",
      "Data columns (total 16 columns):\n",
      "medallion                int64\n",
      "hack_license             int64\n",
      "pickup_datetime          datetime64[ns]\n",
      "dropoff_datetime         datetime64[ns]\n",
      "passenger_count          float64\n",
      "trip_time_in_secs        float64\n",
      "trip_distance            float64\n",
      "pickup_longitude         float64\n",
      "pickup_latitude          float64\n",
      "dropoff_longitude        float64\n",
      "dropoff_latitude         float64\n",
      "tip_amount               float64\n",
      "total_amount             float64\n",
      "diff_calc_rec_time       timedelta64[ns]\n",
      "avg_amount_per_minute    float64\n",
      "flag                     object\n",
      "dtypes: datetime64[ns](2), float64(10), int64(2), object(1), timedelta64[ns](1)\n",
      "memory usage: 396.5+ MB\n"
     ]
    }
   ],
   "source": [
    "taxidata_in_box.info()"
   ]
  },
  {
   "cell_type": "code",
   "execution_count": 182,
   "metadata": {
    "collapsed": false
   },
   "outputs": [
    {
     "data": {
      "image/png": "[encoded data removed]",
      "text/plain": [
       "<matplotlib.figure.Figure at 0x7f55ff316a20>"
      ]
     },
     "metadata": {},
     "output_type": "display_data"
    }
   ],
   "source": [
    "h = H\n",
    "plt.figure(figsize=(20,10))\n",
    "plt.hist(h, normed=False,  bins=40)\n",
    "    #, histtype='stepfilled')\n",
    "plt.yscale('log')\n",
    "#plt.ylabel('log(freq x)', fontsize=40)\n",
    "#plt.xlabel('x = avg_amount_per_minute', fontsize=40)\n",
    "#print('Min:' +  str(min(h)) + '\\nMax:' +  str(max(h)))\n",
    "#plt.yticks(fontsize=40)\n",
    "#plt.xticks(fontsize=40)\n",
    "#plt.locator_params(axis = 'x', nbins = 20)\n",
    "plt.show()"
   ]
  },
  {
   "cell_type": "code",
   "execution_count": 106,
   "metadata": {
    "collapsed": false
   },
   "outputs": [
    {
     "data": {
      "text/plain": [
       "26"
      ]
     },
     "execution_count": 106,
     "metadata": {},
     "output_type": "execute_result"
    }
   ],
   "source": [
    "len(xedges)"
   ]
  },
  {
   "cell_type": "code",
   "execution_count": 102,
   "metadata": {
    "collapsed": false
   },
   "outputs": [
    {
     "data": {
      "text/plain": [
       "8"
      ]
     },
     "execution_count": 102,
     "metadata": {},
     "output_type": "execute_result"
    }
   ],
   "source": [
    "xedges.itemsize"
   ]
  },
  {
   "cell_type": "code",
   "execution_count": 93,
   "metadata": {
    "collapsed": false
   },
   "outputs": [
    {
     "ename": "ValueError",
     "evalue": "The truth value of an array with more than one element is ambiguous. Use a.any() or a.all()",
     "output_type": "error",
     "traceback": [
      "\u001b[1;31m---------------------------------------------------------------------------\u001b[0m",
      "\u001b[1;31mValueError\u001b[0m                                Traceback (most recent call last)",
      "\u001b[1;32m<ipython-input-93-444a3439be8d>\u001b[0m in \u001b[0;36m<module>\u001b[1;34m()\u001b[0m\n\u001b[1;32m----> 1\u001b[1;33m \u001b[0mprint\u001b[0m\u001b[1;33m(\u001b[0m\u001b[0mvincenty\u001b[0m\u001b[1;33m(\u001b[0m\u001b[1;33m(\u001b[0m\u001b[0mxedges\u001b[0m\u001b[1;33m,\u001b[0m \u001b[0myedges\u001b[0m\u001b[1;33m)\u001b[0m\u001b[1;33m,\u001b[0m \u001b[1;33m(\u001b[0m\u001b[0mxedges\u001b[0m\u001b[1;33m,\u001b[0m \u001b[0myedges\u001b[0m\u001b[1;33m)\u001b[0m\u001b[1;33m)\u001b[0m\u001b[1;33m.\u001b[0m\u001b[0mmeters\u001b[0m\u001b[1;33m)\u001b[0m\u001b[1;33m\u001b[0m\u001b[0m\n\u001b[0m",
      "\u001b[1;32m/home/niklas/anaconda3/lib/python3.5/site-packages/geopy/distance.py\u001b[0m in \u001b[0;36m__init__\u001b[1;34m(self, *args, **kwargs)\u001b[0m\n\u001b[0;32m    320\u001b[0m         \u001b[0mself\u001b[0m\u001b[1;33m.\u001b[0m\u001b[0miterations\u001b[0m \u001b[1;33m=\u001b[0m \u001b[0mkwargs\u001b[0m\u001b[1;33m.\u001b[0m\u001b[0mpop\u001b[0m\u001b[1;33m(\u001b[0m\u001b[1;34m'iterations'\u001b[0m\u001b[1;33m,\u001b[0m \u001b[1;36m20\u001b[0m\u001b[1;33m)\u001b[0m\u001b[1;33m\u001b[0m\u001b[0m\n\u001b[0;32m    321\u001b[0m         \u001b[0mmajor\u001b[0m\u001b[1;33m,\u001b[0m \u001b[0mminor\u001b[0m\u001b[1;33m,\u001b[0m \u001b[0mf\u001b[0m \u001b[1;33m=\u001b[0m \u001b[0mself\u001b[0m\u001b[1;33m.\u001b[0m\u001b[0mELLIPSOID\u001b[0m \u001b[1;31m# pylint: disable=W0612\u001b[0m\u001b[1;33m\u001b[0m\u001b[0m\n\u001b[1;32m--> 322\u001b[1;33m         \u001b[0msuper\u001b[0m\u001b[1;33m(\u001b[0m\u001b[0mvincenty\u001b[0m\u001b[1;33m,\u001b[0m \u001b[0mself\u001b[0m\u001b[1;33m)\u001b[0m\u001b[1;33m.\u001b[0m\u001b[0m__init__\u001b[0m\u001b[1;33m(\u001b[0m\u001b[1;33m*\u001b[0m\u001b[0margs\u001b[0m\u001b[1;33m,\u001b[0m \u001b[1;33m**\u001b[0m\u001b[0mkwargs\u001b[0m\u001b[1;33m)\u001b[0m\u001b[1;33m\u001b[0m\u001b[0m\n\u001b[0m\u001b[0;32m    323\u001b[0m \u001b[1;33m\u001b[0m\u001b[0m\n\u001b[0;32m    324\u001b[0m     \u001b[1;32mdef\u001b[0m \u001b[0mset_ellipsoid\u001b[0m\u001b[1;33m(\u001b[0m\u001b[0mself\u001b[0m\u001b[1;33m,\u001b[0m \u001b[0mellipsoid\u001b[0m\u001b[1;33m)\u001b[0m\u001b[1;33m:\u001b[0m\u001b[1;33m\u001b[0m\u001b[0m\n",
      "\u001b[1;32m/home/niklas/anaconda3/lib/python3.5/site-packages/geopy/distance.py\u001b[0m in \u001b[0;36m__init__\u001b[1;34m(self, *args, **kwargs)\u001b[0m\n\u001b[0;32m    113\u001b[0m         \u001b[1;32melif\u001b[0m \u001b[0mlen\u001b[0m\u001b[1;33m(\u001b[0m\u001b[0margs\u001b[0m\u001b[1;33m)\u001b[0m \u001b[1;33m>\u001b[0m \u001b[1;36m1\u001b[0m\u001b[1;33m:\u001b[0m\u001b[1;33m\u001b[0m\u001b[0m\n\u001b[0;32m    114\u001b[0m             \u001b[1;32mfor\u001b[0m \u001b[0ma\u001b[0m\u001b[1;33m,\u001b[0m \u001b[0mb\u001b[0m \u001b[1;32min\u001b[0m \u001b[0mutil\u001b[0m\u001b[1;33m.\u001b[0m\u001b[0mpairwise\u001b[0m\u001b[1;33m(\u001b[0m\u001b[0margs\u001b[0m\u001b[1;33m)\u001b[0m\u001b[1;33m:\u001b[0m\u001b[1;33m\u001b[0m\u001b[0m\n\u001b[1;32m--> 115\u001b[1;33m                 \u001b[0mkilometers\u001b[0m \u001b[1;33m+=\u001b[0m \u001b[0mself\u001b[0m\u001b[1;33m.\u001b[0m\u001b[0mmeasure\u001b[0m\u001b[1;33m(\u001b[0m\u001b[0ma\u001b[0m\u001b[1;33m,\u001b[0m \u001b[0mb\u001b[0m\u001b[1;33m)\u001b[0m\u001b[1;33m\u001b[0m\u001b[0m\n\u001b[0m\u001b[0;32m    116\u001b[0m \u001b[1;33m\u001b[0m\u001b[0m\n\u001b[0;32m    117\u001b[0m         \u001b[0mkilometers\u001b[0m \u001b[1;33m+=\u001b[0m \u001b[0munits\u001b[0m\u001b[1;33m.\u001b[0m\u001b[0mkilometers\u001b[0m\u001b[1;33m(\u001b[0m\u001b[1;33m**\u001b[0m\u001b[0mkwargs\u001b[0m\u001b[1;33m)\u001b[0m\u001b[1;33m\u001b[0m\u001b[0m\n",
      "\u001b[1;32m/home/niklas/anaconda3/lib/python3.5/site-packages/geopy/distance.py\u001b[0m in \u001b[0;36mmeasure\u001b[1;34m(self, a, b)\u001b[0m\n\u001b[0;32m    340\u001b[0m \u001b[1;33m\u001b[0m\u001b[0m\n\u001b[0;32m    341\u001b[0m     \u001b[1;32mdef\u001b[0m \u001b[0mmeasure\u001b[0m\u001b[1;33m(\u001b[0m\u001b[0mself\u001b[0m\u001b[1;33m,\u001b[0m \u001b[0ma\u001b[0m\u001b[1;33m,\u001b[0m \u001b[0mb\u001b[0m\u001b[1;33m)\u001b[0m\u001b[1;33m:\u001b[0m\u001b[1;33m\u001b[0m\u001b[0m\n\u001b[1;32m--> 342\u001b[1;33m         \u001b[0ma\u001b[0m\u001b[1;33m,\u001b[0m \u001b[0mb\u001b[0m \u001b[1;33m=\u001b[0m \u001b[0mPoint\u001b[0m\u001b[1;33m(\u001b[0m\u001b[0ma\u001b[0m\u001b[1;33m)\u001b[0m\u001b[1;33m,\u001b[0m \u001b[0mPoint\u001b[0m\u001b[1;33m(\u001b[0m\u001b[0mb\u001b[0m\u001b[1;33m)\u001b[0m\u001b[1;33m\u001b[0m\u001b[0m\n\u001b[0m\u001b[0;32m    343\u001b[0m         \u001b[0mlat1\u001b[0m\u001b[1;33m,\u001b[0m \u001b[0mlng1\u001b[0m \u001b[1;33m=\u001b[0m \u001b[0mradians\u001b[0m\u001b[1;33m(\u001b[0m\u001b[0mdegrees\u001b[0m\u001b[1;33m=\u001b[0m\u001b[0ma\u001b[0m\u001b[1;33m.\u001b[0m\u001b[0mlatitude\u001b[0m\u001b[1;33m)\u001b[0m\u001b[1;33m,\u001b[0m \u001b[0mradians\u001b[0m\u001b[1;33m(\u001b[0m\u001b[0mdegrees\u001b[0m\u001b[1;33m=\u001b[0m\u001b[0ma\u001b[0m\u001b[1;33m.\u001b[0m\u001b[0mlongitude\u001b[0m\u001b[1;33m)\u001b[0m\u001b[1;33m\u001b[0m\u001b[0m\n\u001b[0;32m    344\u001b[0m         \u001b[0mlat2\u001b[0m\u001b[1;33m,\u001b[0m \u001b[0mlng2\u001b[0m \u001b[1;33m=\u001b[0m \u001b[0mradians\u001b[0m\u001b[1;33m(\u001b[0m\u001b[0mdegrees\u001b[0m\u001b[1;33m=\u001b[0m\u001b[0mb\u001b[0m\u001b[1;33m.\u001b[0m\u001b[0mlatitude\u001b[0m\u001b[1;33m)\u001b[0m\u001b[1;33m,\u001b[0m \u001b[0mradians\u001b[0m\u001b[1;33m(\u001b[0m\u001b[0mdegrees\u001b[0m\u001b[1;33m=\u001b[0m\u001b[0mb\u001b[0m\u001b[1;33m.\u001b[0m\u001b[0mlongitude\u001b[0m\u001b[1;33m)\u001b[0m\u001b[1;33m\u001b[0m\u001b[0m\n",
      "\u001b[1;32m/home/niklas/anaconda3/lib/python3.5/site-packages/geopy/point.py\u001b[0m in \u001b[0;36m__new__\u001b[1;34m(cls, latitude, longitude, altitude)\u001b[0m\n\u001b[0;32m    127\u001b[0m                     )\n\u001b[0;32m    128\u001b[0m                 \u001b[1;32melse\u001b[0m\u001b[1;33m:\u001b[0m\u001b[1;33m\u001b[0m\u001b[0m\n\u001b[1;32m--> 129\u001b[1;33m                     \u001b[1;32mreturn\u001b[0m \u001b[0mcls\u001b[0m\u001b[1;33m.\u001b[0m\u001b[0mfrom_sequence\u001b[0m\u001b[1;33m(\u001b[0m\u001b[0mseq\u001b[0m\u001b[1;33m)\u001b[0m\u001b[1;33m\u001b[0m\u001b[0m\n\u001b[0m\u001b[0;32m    130\u001b[0m \u001b[1;33m\u001b[0m\u001b[0m\n\u001b[0;32m    131\u001b[0m         \u001b[0mlatitude\u001b[0m \u001b[1;33m=\u001b[0m \u001b[0mfloat\u001b[0m\u001b[1;33m(\u001b[0m\u001b[0mlatitude\u001b[0m \u001b[1;32mor\u001b[0m \u001b[1;36m0.0\u001b[0m\u001b[1;33m)\u001b[0m\u001b[1;33m\u001b[0m\u001b[0m\n",
      "\u001b[1;32m/home/niklas/anaconda3/lib/python3.5/site-packages/geopy/point.py\u001b[0m in \u001b[0;36mfrom_sequence\u001b[1;34m(cls, seq)\u001b[0m\n\u001b[0;32m    351\u001b[0m         \"\"\"\n\u001b[0;32m    352\u001b[0m         \u001b[0margs\u001b[0m \u001b[1;33m=\u001b[0m \u001b[0mtuple\u001b[0m\u001b[1;33m(\u001b[0m\u001b[0mislice\u001b[0m\u001b[1;33m(\u001b[0m\u001b[0mseq\u001b[0m\u001b[1;33m,\u001b[0m \u001b[1;36m4\u001b[0m\u001b[1;33m)\u001b[0m\u001b[1;33m)\u001b[0m\u001b[1;33m\u001b[0m\u001b[0m\n\u001b[1;32m--> 353\u001b[1;33m         \u001b[1;32mreturn\u001b[0m \u001b[0mcls\u001b[0m\u001b[1;33m(\u001b[0m\u001b[1;33m*\u001b[0m\u001b[0margs\u001b[0m\u001b[1;33m)\u001b[0m\u001b[1;33m\u001b[0m\u001b[0m\n\u001b[0m\u001b[0;32m    354\u001b[0m \u001b[1;33m\u001b[0m\u001b[0m\n\u001b[0;32m    355\u001b[0m     \u001b[1;33m@\u001b[0m\u001b[0mclassmethod\u001b[0m\u001b[1;33m\u001b[0m\u001b[0m\n",
      "\u001b[1;32m/home/niklas/anaconda3/lib/python3.5/site-packages/geopy/point.py\u001b[0m in \u001b[0;36m__new__\u001b[1;34m(cls, latitude, longitude, altitude)\u001b[0m\n\u001b[0;32m    129\u001b[0m                     \u001b[1;32mreturn\u001b[0m \u001b[0mcls\u001b[0m\u001b[1;33m.\u001b[0m\u001b[0mfrom_sequence\u001b[0m\u001b[1;33m(\u001b[0m\u001b[0mseq\u001b[0m\u001b[1;33m)\u001b[0m\u001b[1;33m\u001b[0m\u001b[0m\n\u001b[0;32m    130\u001b[0m \u001b[1;33m\u001b[0m\u001b[0m\n\u001b[1;32m--> 131\u001b[1;33m         \u001b[0mlatitude\u001b[0m \u001b[1;33m=\u001b[0m \u001b[0mfloat\u001b[0m\u001b[1;33m(\u001b[0m\u001b[0mlatitude\u001b[0m \u001b[1;32mor\u001b[0m \u001b[1;36m0.0\u001b[0m\u001b[1;33m)\u001b[0m\u001b[1;33m\u001b[0m\u001b[0m\n\u001b[0m\u001b[0;32m    132\u001b[0m         \u001b[1;32mif\u001b[0m \u001b[0mabs\u001b[0m\u001b[1;33m(\u001b[0m\u001b[0mlatitude\u001b[0m\u001b[1;33m)\u001b[0m \u001b[1;33m>\u001b[0m \u001b[1;36m90\u001b[0m\u001b[1;33m:\u001b[0m\u001b[1;33m\u001b[0m\u001b[0m\n\u001b[0;32m    133\u001b[0m             \u001b[0mlatitude\u001b[0m \u001b[1;33m=\u001b[0m \u001b[1;33m(\u001b[0m\u001b[1;33m(\u001b[0m\u001b[0mlatitude\u001b[0m \u001b[1;33m+\u001b[0m \u001b[1;36m90\u001b[0m\u001b[1;33m)\u001b[0m \u001b[1;33m%\u001b[0m \u001b[1;36m180\u001b[0m\u001b[1;33m)\u001b[0m \u001b[1;33m-\u001b[0m \u001b[1;36m90\u001b[0m\u001b[1;33m\u001b[0m\u001b[0m\n",
      "\u001b[1;31mValueError\u001b[0m: The truth value of an array with more than one element is ambiguous. Use a.any() or a.all()"
     ]
    }
   ],
   "source": [
    "print(vincenty((xedges, yedges), (xedges, yedges)).meters)"
   ]
  },
  {
   "cell_type": "code",
   "execution_count": 53,
   "metadata": {
    "collapsed": false
   },
   "outputs": [
    {
     "name": "stdout",
     "output_type": "stream",
     "text": [
      "(array([13]), array([11]))\n"
     ]
    }
   ],
   "source": [
    "indices = np.where(H == H.max())\n",
    "print(indices)"
   ]
  },
  {
   "cell_type": "code",
   "execution_count": 61,
   "metadata": {
    "collapsed": true
   },
   "outputs": [],
   "source": [
    "from geopandas import GeoDataFrame\n",
    "from shapely.geometry import Point\n",
    "\n",
    "crs = None\n",
    "geometry = [Point(xy) for xy in zip(taxidata.pickup_longitude, taxidata.pickup_latitude)]\n",
    "geo_df = GeoDataFrame(df, crs=crs, geometry=geometry)"
   ]
  },
  {
   "cell_type": "code",
   "execution_count": 64,
   "metadata": {
    "collapsed": false
   },
   "outputs": [
    {
     "name": "stdout",
     "output_type": "stream",
     "text": [
      "<class 'geopandas.geodataframe.GeoDataFrame'>\n",
      "Int64Index: 3098937 entries, 0 to 3265928\n",
      "Data columns (total 17 columns):\n",
      "medallion                int64\n",
      "hack_license             int64\n",
      "pickup_datetime          datetime64[ns]\n",
      "dropoff_datetime         datetime64[ns]\n",
      "passenger_count          float64\n",
      "trip_time_in_secs        float64\n",
      "trip_distance            float64\n",
      "pickup_longitude         float64\n",
      "pickup_latitude          float64\n",
      "dropoff_longitude        float64\n",
      "dropoff_latitude         float64\n",
      "tip_amount               float64\n",
      "total_amount             float64\n",
      "diff_calc_rec_time       timedelta64[ns]\n",
      "avg_amount_per_minute    float64\n",
      "flag                     object\n",
      "geometry                 object\n",
      "dtypes: datetime64[ns](2), float64(10), int64(2), object(2), timedelta64[ns](1)\n",
      "memory usage: 425.6+ MB\n"
     ]
    }
   ],
   "source": [
    "geo_df.info()"
   ]
  },
  {
   "cell_type": "code",
   "execution_count": 214,
   "metadata": {
    "collapsed": true
   },
   "outputs": [],
   "source": [
    "H_shape = H.reshape(1,150*150)\n",
    "H_shape.sort()"
   ]
  },
  {
   "cell_type": "code",
   "execution_count": 216,
   "metadata": {
    "collapsed": false
   },
   "outputs": [
    {
     "data": {
      "text/plain": [
       "array([ 0.,  0.,  0.,  0.,  0.,  0.])"
      ]
     },
     "execution_count": 216,
     "metadata": {},
     "output_type": "execute_result"
    }
   ],
   "source": [
    "np.percentile(H_shape, [.5, .7, .8, .9, .95, .9999999])"
   ]
  },
  {
   "cell_type": "code",
   "execution_count": 233,
   "metadata": {
    "collapsed": false
   },
   "outputs": [
    {
     "name": "stdout",
     "output_type": "stream",
     "text": [
      "[[     0.      0.      0. ...,   6023.   6304.  10113.]]\n",
      "DescribeResult(nobs=22500, minmax=(array([ 0.]), array([ 10113.])), mean=array([ 118.95875556]), variance=array([ 75596.28880062]), skewness=array([ 6.31623486]), kurtosis=array([ 114.90322824]))\n"
     ]
    }
   ],
   "source": [
    "print(H_shape)\n",
    "print(stats.describe(H_shape, axis=1))"
   ]
  },
  {
   "cell_type": "markdown",
   "metadata": {},
   "source": [
    "# Ideas: make ndarray to dict (with coordinates), sort according to frequency, check the most frequent places and bring them together with geodata. Apply k-means somewhere?"
   ]
  },
  {
   "cell_type": "code",
   "execution_count": 146,
   "metadata": {
    "collapsed": false
   },
   "outputs": [
    {
     "name": "stdout",
     "output_type": "stream",
     "text": [
      "['seaborn-darkgrid', 'seaborn-ticks', 'fivethirtyeight', 'classic', 'bmh', 'seaborn-dark', 'seaborn-deep', 'grayscale', 'seaborn-muted', 'seaborn-poster', 'seaborn-colorblind', 'seaborn-whitegrid', 'seaborn-pastel', 'seaborn-dark-palette', 'seaborn-notebook', 'dark_background', 'seaborn-talk', 'seaborn-bright', 'ggplot', 'seaborn-paper', 'seaborn-white']\n"
     ]
    },
    {
     "data": {
      "text/plain": [
       "['Accent',\n",
       " 'Accent_r',\n",
       " 'Blues',\n",
       " 'Blues_r',\n",
       " 'BrBG',\n",
       " 'BrBG_r',\n",
       " 'BuGn',\n",
       " 'BuGn_r',\n",
       " 'BuPu',\n",
       " 'BuPu_r',\n",
       " 'CMRmap',\n",
       " 'CMRmap_r',\n",
       " 'Dark2',\n",
       " 'Dark2_r',\n",
       " 'GnBu',\n",
       " 'GnBu_r',\n",
       " 'Greens',\n",
       " 'Greens_r',\n",
       " 'Greys',\n",
       " 'Greys_r',\n",
       " 'OrRd',\n",
       " 'OrRd_r',\n",
       " 'Oranges',\n",
       " 'Oranges_r',\n",
       " 'PRGn',\n",
       " 'PRGn_r',\n",
       " 'Paired',\n",
       " 'Paired_r',\n",
       " 'Pastel1',\n",
       " 'Pastel1_r',\n",
       " 'Pastel2',\n",
       " 'Pastel2_r',\n",
       " 'PiYG',\n",
       " 'PiYG_r',\n",
       " 'PuBu',\n",
       " 'PuBuGn',\n",
       " 'PuBuGn_r',\n",
       " 'PuBu_r',\n",
       " 'PuOr',\n",
       " 'PuOr_r',\n",
       " 'PuRd',\n",
       " 'PuRd_r',\n",
       " 'Purples',\n",
       " 'Purples_r',\n",
       " 'RdBu',\n",
       " 'RdBu_r',\n",
       " 'RdGy',\n",
       " 'RdGy_r',\n",
       " 'RdPu',\n",
       " 'RdPu_r',\n",
       " 'RdYlBu',\n",
       " 'RdYlBu_r',\n",
       " 'RdYlGn',\n",
       " 'RdYlGn_r',\n",
       " 'Reds',\n",
       " 'Reds_r',\n",
       " 'Set1',\n",
       " 'Set1_r',\n",
       " 'Set2',\n",
       " 'Set2_r',\n",
       " 'Set3',\n",
       " 'Set3_r',\n",
       " 'Spectral',\n",
       " 'Spectral_r',\n",
       " 'Wistia',\n",
       " 'Wistia_r',\n",
       " 'YlGn',\n",
       " 'YlGnBu',\n",
       " 'YlGnBu_r',\n",
       " 'YlGn_r',\n",
       " 'YlOrBr',\n",
       " 'YlOrBr_r',\n",
       " 'YlOrRd',\n",
       " 'YlOrRd_r',\n",
       " 'afmhot',\n",
       " 'afmhot_r',\n",
       " 'autumn',\n",
       " 'autumn_r',\n",
       " 'binary',\n",
       " 'binary_r',\n",
       " 'bone',\n",
       " 'bone_r',\n",
       " 'brg',\n",
       " 'brg_r',\n",
       " 'bwr',\n",
       " 'bwr_r',\n",
       " 'cool',\n",
       " 'cool_r',\n",
       " 'coolwarm',\n",
       " 'coolwarm_r',\n",
       " 'copper',\n",
       " 'copper_r',\n",
       " 'cubehelix',\n",
       " 'cubehelix_r',\n",
       " 'flag',\n",
       " 'flag_r',\n",
       " 'gist_earth',\n",
       " 'gist_earth_r',\n",
       " 'gist_gray',\n",
       " 'gist_gray_r',\n",
       " 'gist_heat',\n",
       " 'gist_heat_r',\n",
       " 'gist_ncar',\n",
       " 'gist_ncar_r',\n",
       " 'gist_rainbow',\n",
       " 'gist_rainbow_r',\n",
       " 'gist_stern',\n",
       " 'gist_stern_r',\n",
       " 'gist_yarg',\n",
       " 'gist_yarg_r',\n",
       " 'gnuplot',\n",
       " 'gnuplot2',\n",
       " 'gnuplot2_r',\n",
       " 'gnuplot_r',\n",
       " 'gray',\n",
       " 'gray_r',\n",
       " 'hot',\n",
       " 'hot_r',\n",
       " 'hsv',\n",
       " 'hsv_r',\n",
       " 'inferno',\n",
       " 'inferno_r',\n",
       " 'jet',\n",
       " 'jet_r',\n",
       " 'magma',\n",
       " 'magma_r',\n",
       " 'nipy_spectral',\n",
       " 'nipy_spectral_r',\n",
       " 'ocean',\n",
       " 'ocean_r',\n",
       " 'pink',\n",
       " 'pink_r',\n",
       " 'plasma',\n",
       " 'plasma_r',\n",
       " 'prism',\n",
       " 'prism_r',\n",
       " 'rainbow',\n",
       " 'rainbow_r',\n",
       " 'seismic',\n",
       " 'seismic_r',\n",
       " 'spectral',\n",
       " 'spectral_r',\n",
       " 'spring',\n",
       " 'spring_r',\n",
       " 'summer',\n",
       " 'summer_r',\n",
       " 'terrain',\n",
       " 'terrain_r',\n",
       " 'viridis',\n",
       " 'viridis_r',\n",
       " 'winter',\n",
       " 'winter_r']"
      ]
     },
     "execution_count": 146,
     "metadata": {},
     "output_type": "execute_result"
    }
   ],
   "source": [
    "print(plt.style.available)\n",
    "plt.colormaps()"
   ]
  },
  {
   "cell_type": "markdown",
   "metadata": {},
   "source": [
    "\n",
    "x = taxidata.pickup_latitude\n",
    "y = taxidata.pickup_longitude\n",
    "\n",
    "\n",
    "#setup the 2D grid with Numpy\n",
    "x, y = np.meshgrid(x, y)\n",
    "\n",
    "#convert intensity (list of lists) to a numpy array for plotting\n",
    "intensity = np.array(intensity)\n",
    "\n",
    "#now just plug the data into pcolormesh, it's that easy!\n",
    "plt.pcolormesh(x, y, intensity)\n",
    "plt.colorbar() #need a colorbar to show the intensity scale\n",
    "plt.show() #boom"
   ]
  },
  {
   "cell_type": "markdown",
   "metadata": {},
   "source": [
    "## here's our data to plot, all normal Python lists"
   ]
  },
  {
   "cell_type": "markdown",
   "metadata": {},
   "source": [
    "Select one day:"
   ]
  },
  {
   "cell_type": "code",
   "execution_count": 31,
   "metadata": {
    "collapsed": false
   },
   "outputs": [],
   "source": [
    "oneday = taxiweek[(taxiweek['pickup_datetime'] > '2013-01-07 00:00') & (taxiweek['pickup_datetime'] < '2013-01-07 23:59')]"
   ]
  },
  {
   "cell_type": "code",
   "execution_count": 33,
   "metadata": {
    "collapsed": false
   },
   "outputs": [
    {
     "data": {
      "text/html": [
       "<div>\n",
       "<table border=\"1\" class=\"dataframe\">\n",
       "  <thead>\n",
       "    <tr style=\"text-align: right;\">\n",
       "      <th></th>\n",
       "      <th>Unnamed: 0</th>\n",
       "      <th>medallion</th>\n",
       "      <th>hack_license</th>\n",
       "      <th>pickup_datetime</th>\n",
       "      <th>dropoff_datetime</th>\n",
       "      <th>passenger_count</th>\n",
       "      <th>trip_time_in_secs</th>\n",
       "      <th>trip_distance</th>\n",
       "      <th>pickup_longitude</th>\n",
       "      <th>pickup_latitude</th>\n",
       "      <th>dropoff_longitude</th>\n",
       "      <th>dropoff_latitude</th>\n",
       "      <th>payment_type</th>\n",
       "      <th>pfare_amount</th>\n",
       "      <th>surcharge</th>\n",
       "      <th>tip_amount</th>\n",
       "      <th>total_amount</th>\n",
       "    </tr>\n",
       "  </thead>\n",
       "  <tbody>\n",
       "    <tr>\n",
       "      <th>91</th>\n",
       "      <td>2602865</td>\n",
       "      <td>2013000476</td>\n",
       "      <td>2013023780</td>\n",
       "      <td>2013-01-07 00:00:01</td>\n",
       "      <td>2013-01-07 00:06:18</td>\n",
       "      <td>1.0</td>\n",
       "      <td>376.0</td>\n",
       "      <td>1.1</td>\n",
       "      <td>-73.968872</td>\n",
       "      <td>40.798531</td>\n",
       "      <td>-73.955879</td>\n",
       "      <td>40.800400</td>\n",
       "      <td>CSH</td>\n",
       "      <td>7.0</td>\n",
       "      <td>0.5</td>\n",
       "      <td>NaN</td>\n",
       "      <td>8.0</td>\n",
       "    </tr>\n",
       "    <tr>\n",
       "      <th>92</th>\n",
       "      <td>2602866</td>\n",
       "      <td>2013007185</td>\n",
       "      <td>2013019337</td>\n",
       "      <td>2013-01-07 00:00:01</td>\n",
       "      <td>2013-01-07 00:04:31</td>\n",
       "      <td>1.0</td>\n",
       "      <td>269.0</td>\n",
       "      <td>1.3</td>\n",
       "      <td>-74.001038</td>\n",
       "      <td>40.746243</td>\n",
       "      <td>-74.003067</td>\n",
       "      <td>40.731213</td>\n",
       "      <td>CSH</td>\n",
       "      <td>6.0</td>\n",
       "      <td>0.5</td>\n",
       "      <td>NaN</td>\n",
       "      <td>7.0</td>\n",
       "    </tr>\n",
       "    <tr>\n",
       "      <th>93</th>\n",
       "      <td>2602867</td>\n",
       "      <td>2013009072</td>\n",
       "      <td>2013026640</td>\n",
       "      <td>2013-01-07 00:00:04</td>\n",
       "      <td>2013-01-07 00:11:45</td>\n",
       "      <td>1.0</td>\n",
       "      <td>700.0</td>\n",
       "      <td>4.3</td>\n",
       "      <td>-73.956818</td>\n",
       "      <td>40.771019</td>\n",
       "      <td>-73.914642</td>\n",
       "      <td>40.763660</td>\n",
       "      <td>CSH</td>\n",
       "      <td>14.5</td>\n",
       "      <td>0.5</td>\n",
       "      <td>NaN</td>\n",
       "      <td>15.5</td>\n",
       "    </tr>\n",
       "    <tr>\n",
       "      <th>94</th>\n",
       "      <td>2602868</td>\n",
       "      <td>2013003999</td>\n",
       "      <td>2013024383</td>\n",
       "      <td>2013-01-07 00:00:04</td>\n",
       "      <td>2013-01-07 00:08:39</td>\n",
       "      <td>1.0</td>\n",
       "      <td>514.0</td>\n",
       "      <td>1.7</td>\n",
       "      <td>-73.971947</td>\n",
       "      <td>40.762646</td>\n",
       "      <td>-73.987793</td>\n",
       "      <td>40.776264</td>\n",
       "      <td>CRD</td>\n",
       "      <td>9.0</td>\n",
       "      <td>0.5</td>\n",
       "      <td>1.0</td>\n",
       "      <td>11.0</td>\n",
       "    </tr>\n",
       "    <tr>\n",
       "      <th>95</th>\n",
       "      <td>2602869</td>\n",
       "      <td>2013004328</td>\n",
       "      <td>2013003946</td>\n",
       "      <td>2013-01-07 00:00:04</td>\n",
       "      <td>2013-01-07 00:08:40</td>\n",
       "      <td>1.0</td>\n",
       "      <td>515.0</td>\n",
       "      <td>1.6</td>\n",
       "      <td>-73.974541</td>\n",
       "      <td>40.732578</td>\n",
       "      <td>-73.994499</td>\n",
       "      <td>40.724937</td>\n",
       "      <td>CSH</td>\n",
       "      <td>8.5</td>\n",
       "      <td>0.5</td>\n",
       "      <td>NaN</td>\n",
       "      <td>9.5</td>\n",
       "    </tr>\n",
       "  </tbody>\n",
       "</table>\n",
       "</div>"
      ],
      "text/plain": [
       "    Unnamed: 0   medallion  hack_license     pickup_datetime  \\\n",
       "91     2602865  2013000476    2013023780 2013-01-07 00:00:01   \n",
       "92     2602866  2013007185    2013019337 2013-01-07 00:00:01   \n",
       "93     2602867  2013009072    2013026640 2013-01-07 00:00:04   \n",
       "94     2602868  2013003999    2013024383 2013-01-07 00:00:04   \n",
       "95     2602869  2013004328    2013003946 2013-01-07 00:00:04   \n",
       "\n",
       "      dropoff_datetime  passenger_count  trip_time_in_secs  trip_distance  \\\n",
       "91 2013-01-07 00:06:18              1.0              376.0            1.1   \n",
       "92 2013-01-07 00:04:31              1.0              269.0            1.3   \n",
       "93 2013-01-07 00:11:45              1.0              700.0            4.3   \n",
       "94 2013-01-07 00:08:39              1.0              514.0            1.7   \n",
       "95 2013-01-07 00:08:40              1.0              515.0            1.6   \n",
       "\n",
       "    pickup_longitude  pickup_latitude  dropoff_longitude  dropoff_latitude  \\\n",
       "91        -73.968872        40.798531         -73.955879         40.800400   \n",
       "92        -74.001038        40.746243         -74.003067         40.731213   \n",
       "93        -73.956818        40.771019         -73.914642         40.763660   \n",
       "94        -73.971947        40.762646         -73.987793         40.776264   \n",
       "95        -73.974541        40.732578         -73.994499         40.724937   \n",
       "\n",
       "   payment_type  pfare_amount  surcharge  tip_amount  total_amount  \n",
       "91          CSH           7.0        0.5         NaN           8.0  \n",
       "92          CSH           6.0        0.5         NaN           7.0  \n",
       "93          CSH          14.5        0.5         NaN          15.5  \n",
       "94          CRD           9.0        0.5         1.0          11.0  \n",
       "95          CSH           8.5        0.5         NaN           9.5  "
      ]
     },
     "execution_count": 33,
     "metadata": {},
     "output_type": "execute_result"
    }
   ],
   "source": [
    "oneday.head()"
   ]
  },
  {
   "cell_type": "code",
   "execution_count": 40,
   "metadata": {
    "collapsed": false
   },
   "outputs": [
    {
     "data": {
      "text/plain": [
       "(734875.0000115741, 734875.9992939815)"
      ]
     },
     "execution_count": 40,
     "metadata": {},
     "output_type": "execute_result"
    },
    {
     "data": {
      "image/png": "[encoded data removed]",
      "text/plain": [
       "<matplotlib.figure.Figure at 0x7f2412882908>"
      ]
     },
     "metadata": {},
     "output_type": "display_data"
    }
   ],
   "source": [
    "plt.figure(figsize=(20,10))\n",
    "ax = plt.scatter(oneday.pickup_datetime.values, oneday.trip_time_in_secs.values)\n",
    "plt.xlim(oneday.pickup_datetime.values.min(), oneday.pickup_datetime.values.max())"
   ]
  },
  {
   "cell_type": "code",
   "execution_count": 41,
   "metadata": {
    "collapsed": false
   },
   "outputs": [
    {
     "data": {
      "text/plain": [
       "(734875.0000115741, 734875.9992939815)"
      ]
     },
     "execution_count": 41,
     "metadata": {},
     "output_type": "execute_result"
    },
    {
     "data": {
      "image/png": "[encoded data removed]",
      "text/plain": [
       "<matplotlib.figure.Figure at 0x7f240ef212b0>"
      ]
     },
     "metadata": {},
     "output_type": "display_data"
    }
   ],
   "source": [
    "plt.figure(figsize=(20,10))\n",
    "ax = plt.scatter(oneday.pickup_datetime.values, oneday.total_amount.values)\n",
    "plt.xlim(oneday.pickup_datetime.values.min(), oneday.pickup_datetime.values.max())"
   ]
  },
  {
   "cell_type": "code",
   "execution_count": null,
   "metadata": {
    "collapsed": true
   },
   "outputs": [],
   "source": []
  }
 ],
 "metadata": {
  "kernelspec": {
   "display_name": "Python 3",
   "language": "python",
   "name": "python3"
  },
  "language_info": {
   "codemirror_mode": {
    "name": "ipython",
    "version": 3
   },
   "file_extension": ".py",
   "mimetype": "text/x-python",
   "name": "python",
   "nbconvert_exporter": "python",
   "pygments_lexer": "ipython3",
   "version": "3.5.1"
  }
 },
 "nbformat": 4,
 "nbformat_minor": 0
}
