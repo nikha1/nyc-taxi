{
 "cells": [
  {
   "cell_type": "markdown",
   "metadata": {},
   "source": [
    "# A NYC Taxi data cleaning and model building pipeline to forecast the estimated trip time from A2B in NYC"
   ]
  },
  {
   "cell_type": "code",
   "execution_count": 1,
   "metadata": {
    "collapsed": false
   },
   "outputs": [],
   "source": [
    "import os as os\n",
    "import pandas as pd\n",
    "import numpy as np\n",
    "from scipy import stats, integrate\n",
    "import matplotlib.pyplot as plt\n",
    "import matplotlib as mpl\n",
    "import seaborn as sns\n",
    "from statsmodels.distributions.empirical_distribution import ECDF\n",
    "import datetime as dt\n",
    "plt.style.use('seaborn-whitegrid')\n",
    "\n",
    "plt.rcParams['image.cmap'] = 'blue'\n",
    "\n",
    "#sns.set_context('notebook',font_scale=2)\n",
    "sns.set_style(\"whitegrid\")\n",
    "% matplotlib inline\n",
    "labelsize = 22\n",
    "mpl.rcParams.update({'font.size': labelsize})\n",
    "mpl.rcParams.update({'figure.figsize': (20,10)})\n",
    "mpl.rcParams.update({'axes.titlesize': 'large'})\n",
    "mpl.rcParams.update({'axes.labelsize': 'large'})\n",
    "mpl.rcParams.update({'xtick.labelsize': labelsize})\n",
    "mpl.rcParams.update({'ytick.labelsize': labelsize})\n",
    "# mpl.rcParams.keys()"
   ]
  },
  {
   "cell_type": "code",
   "execution_count": 2,
   "metadata": {
    "collapsed": false,
    "scrolled": false
   },
   "outputs": [
    {
     "name": "stdout",
     "output_type": "stream",
     "text": [
      "2014-05 - Citi Bike trip data.csv\r\n",
      "bike_20140505_with_dist_and_avg_velo.csv\r\n",
      "bike_20140505_with_dist.csv\r\n",
      "bike_20140505_with_dist_velo.csv\r\n",
      "bike_oneweekfrom20140505.csv\r\n",
      "data_jan13.csv\r\n",
      "README.txt\r\n",
      "Taxi_from_2013-05-06_to_2013-05-13.csv\r\n",
      "Taxi_from_2013-05-06_to_2013-05-13_testset.csv\r\n",
      "Taxi_from_2013-05-06_to_2013-05-13testset.csv\r\n",
      "Taxi_from_2013-05-06_to_2013-05-13_xtrain.csv\r\n",
      "Taxi_from_2013-05-06_to_2013-05-13_ytrain.csv\r\n",
      "taxi_oneweekfrom20130107.csv\r\n",
      "taxi_oneweekfrom20130506.csv\r\n",
      "taxi_oneweekfrom20140505.csv\r\n",
      "taxi_tree_test_X_20130506-12.csv\r\n",
      "taxi_tree_test_X.csv\r\n",
      "taxi_tree_test_Xy_20130506-12.csv\r\n",
      "taxi_tree_test_Xy.csv\r\n",
      "taxi_tree_test_Xy_sample.csv\r\n",
      "taxi_tree_test_y_20130506-12.csv\r\n",
      "taxi_tree_test_y.csv\r\n",
      "_testset.csv\r\n",
      "yellow_tripdata_2013-05.csv\r\n",
      "yellow_tripdata_2014-05.csv\r\n"
     ]
    }
   ],
   "source": [
    "!cd data && ls"
   ]
  },
  {
   "cell_type": "markdown",
   "metadata": {},
   "source": [
    "Use the bash =)"
   ]
  },
  {
   "cell_type": "code",
   "execution_count": 3,
   "metadata": {
    "collapsed": false
   },
   "outputs": [],
   "source": [
    "data = pd.read_csv('data/Taxi_from_2013-05-06_to_2013-05-13.csv', index_col=0, parse_dates=True)"
   ]
  },
  {
   "cell_type": "code",
   "execution_count": 4,
   "metadata": {
    "collapsed": false
   },
   "outputs": [
    {
     "name": "stdout",
     "output_type": "stream",
     "text": [
      "<class 'pandas.core.frame.DataFrame'>\n",
      "Int64Index: 3534632 entries, 0 to 3534631\n",
      "Data columns (total 19 columns):\n",
      "vendor_id             object\n",
      "pickup_datetime       object\n",
      "dropoff_datetime      object\n",
      "passenger_count       int64\n",
      "trip_distance         float64\n",
      "pickup_longitude      float64\n",
      "pickup_latitude       float64\n",
      "rate_code             int64\n",
      "store_and_fwd_flag    object\n",
      "dropoff_longitude     float64\n",
      "dropoff_latitude      float64\n",
      "payment_type          object\n",
      "fare_amount           float64\n",
      "surcharge             float64\n",
      "mta_tax               float64\n",
      "tip_amount            float64\n",
      "tolls_amount          float64\n",
      "total_amount          float64\n",
      "trip_time             object\n",
      "dtypes: float64(11), int64(2), object(6)\n",
      "memory usage: 539.3+ MB\n"
     ]
    }
   ],
   "source": [
    "data.info()"
   ]
  },
  {
   "cell_type": "markdown",
   "metadata": {},
   "source": [
    "So parsing does not work, do it manually:"
   ]
  },
  {
   "cell_type": "code",
   "execution_count": 5,
   "metadata": {
    "collapsed": false
   },
   "outputs": [],
   "source": [
    "data['pickup_datetime'] =pd.to_datetime(data['pickup_datetime'], format = '%Y-%m-%d %H:%M:%S')\n",
    "data['dropoff_datetime'] =pd.to_datetime(data['dropoff_datetime'], format = '%Y-%m-%d %H:%M:%S')"
   ]
  },
  {
   "cell_type": "code",
   "execution_count": 6,
   "metadata": {
    "collapsed": false
   },
   "outputs": [
    {
     "data": {
      "text/html": [
       "<div>\n",
       "<table border=\"1\" class=\"dataframe\">\n",
       "  <thead>\n",
       "    <tr style=\"text-align: right;\">\n",
       "      <th></th>\n",
       "      <th>count</th>\n",
       "      <th>mean</th>\n",
       "      <th>std</th>\n",
       "      <th>min</th>\n",
       "      <th>25%</th>\n",
       "      <th>50%</th>\n",
       "      <th>75%</th>\n",
       "      <th>max</th>\n",
       "    </tr>\n",
       "  </thead>\n",
       "  <tbody>\n",
       "    <tr>\n",
       "      <th>passenger_count</th>\n",
       "      <td>3534632.0</td>\n",
       "      <td>1.708266</td>\n",
       "      <td>1.380270</td>\n",
       "      <td>0.000000</td>\n",
       "      <td>1.000000</td>\n",
       "      <td>1.000000</td>\n",
       "      <td>2.000000</td>\n",
       "      <td>6.000000</td>\n",
       "    </tr>\n",
       "    <tr>\n",
       "      <th>trip_distance</th>\n",
       "      <td>3534632.0</td>\n",
       "      <td>2.875593</td>\n",
       "      <td>3.343748</td>\n",
       "      <td>0.000000</td>\n",
       "      <td>1.050000</td>\n",
       "      <td>1.800000</td>\n",
       "      <td>3.200000</td>\n",
       "      <td>100.000000</td>\n",
       "    </tr>\n",
       "    <tr>\n",
       "      <th>pickup_longitude</th>\n",
       "      <td>3534632.0</td>\n",
       "      <td>-72.621180</td>\n",
       "      <td>10.142067</td>\n",
       "      <td>-1625.033333</td>\n",
       "      <td>-73.992272</td>\n",
       "      <td>-73.981786</td>\n",
       "      <td>-73.966735</td>\n",
       "      <td>40.867882</td>\n",
       "    </tr>\n",
       "    <tr>\n",
       "      <th>pickup_latitude</th>\n",
       "      <td>3534632.0</td>\n",
       "      <td>39.981485</td>\n",
       "      <td>6.522288</td>\n",
       "      <td>-3113.281477</td>\n",
       "      <td>40.734916</td>\n",
       "      <td>40.752702</td>\n",
       "      <td>40.767551</td>\n",
       "      <td>2047.454950</td>\n",
       "    </tr>\n",
       "    <tr>\n",
       "      <th>rate_code</th>\n",
       "      <td>3534632.0</td>\n",
       "      <td>1.032870</td>\n",
       "      <td>0.345708</td>\n",
       "      <td>0.000000</td>\n",
       "      <td>1.000000</td>\n",
       "      <td>1.000000</td>\n",
       "      <td>1.000000</td>\n",
       "      <td>210.000000</td>\n",
       "    </tr>\n",
       "    <tr>\n",
       "      <th>dropoff_longitude</th>\n",
       "      <td>3534618.0</td>\n",
       "      <td>-72.575137</td>\n",
       "      <td>10.450838</td>\n",
       "      <td>-2038.393545</td>\n",
       "      <td>-73.991547</td>\n",
       "      <td>-73.980110</td>\n",
       "      <td>-73.963510</td>\n",
       "      <td>2386.995232</td>\n",
       "    </tr>\n",
       "    <tr>\n",
       "      <th>dropoff_latitude</th>\n",
       "      <td>3534618.0</td>\n",
       "      <td>39.952355</td>\n",
       "      <td>7.665360</td>\n",
       "      <td>-3114.304505</td>\n",
       "      <td>40.733845</td>\n",
       "      <td>40.753077</td>\n",
       "      <td>40.768337</td>\n",
       "      <td>3210.392762</td>\n",
       "    </tr>\n",
       "    <tr>\n",
       "      <th>fare_amount</th>\n",
       "      <td>3534632.0</td>\n",
       "      <td>12.491013</td>\n",
       "      <td>10.078369</td>\n",
       "      <td>2.500000</td>\n",
       "      <td>6.500000</td>\n",
       "      <td>9.500000</td>\n",
       "      <td>14.500000</td>\n",
       "      <td>500.000000</td>\n",
       "    </tr>\n",
       "    <tr>\n",
       "      <th>surcharge</th>\n",
       "      <td>3534632.0</td>\n",
       "      <td>0.320163</td>\n",
       "      <td>0.362772</td>\n",
       "      <td>0.000000</td>\n",
       "      <td>0.000000</td>\n",
       "      <td>0.000000</td>\n",
       "      <td>0.500000</td>\n",
       "      <td>9.500000</td>\n",
       "    </tr>\n",
       "    <tr>\n",
       "      <th>mta_tax</th>\n",
       "      <td>3534632.0</td>\n",
       "      <td>0.498208</td>\n",
       "      <td>0.029876</td>\n",
       "      <td>0.000000</td>\n",
       "      <td>0.500000</td>\n",
       "      <td>0.500000</td>\n",
       "      <td>0.500000</td>\n",
       "      <td>0.500000</td>\n",
       "    </tr>\n",
       "    <tr>\n",
       "      <th>tip_amount</th>\n",
       "      <td>3534632.0</td>\n",
       "      <td>1.366541</td>\n",
       "      <td>2.157769</td>\n",
       "      <td>0.000000</td>\n",
       "      <td>0.000000</td>\n",
       "      <td>1.000000</td>\n",
       "      <td>2.000000</td>\n",
       "      <td>155.500000</td>\n",
       "    </tr>\n",
       "    <tr>\n",
       "      <th>tolls_amount</th>\n",
       "      <td>3534632.0</td>\n",
       "      <td>0.260422</td>\n",
       "      <td>1.221513</td>\n",
       "      <td>0.000000</td>\n",
       "      <td>0.000000</td>\n",
       "      <td>0.000000</td>\n",
       "      <td>0.000000</td>\n",
       "      <td>20.000000</td>\n",
       "    </tr>\n",
       "    <tr>\n",
       "      <th>total_amount</th>\n",
       "      <td>3534632.0</td>\n",
       "      <td>14.936348</td>\n",
       "      <td>12.109785</td>\n",
       "      <td>2.500000</td>\n",
       "      <td>8.000000</td>\n",
       "      <td>11.300000</td>\n",
       "      <td>16.750000</td>\n",
       "      <td>500.000000</td>\n",
       "    </tr>\n",
       "  </tbody>\n",
       "</table>\n",
       "</div>"
      ],
      "text/plain": [
       "                       count       mean        std          min        25%  \\\n",
       "passenger_count    3534632.0   1.708266   1.380270     0.000000   1.000000   \n",
       "trip_distance      3534632.0   2.875593   3.343748     0.000000   1.050000   \n",
       "pickup_longitude   3534632.0 -72.621180  10.142067 -1625.033333 -73.992272   \n",
       "pickup_latitude    3534632.0  39.981485   6.522288 -3113.281477  40.734916   \n",
       "rate_code          3534632.0   1.032870   0.345708     0.000000   1.000000   \n",
       "dropoff_longitude  3534618.0 -72.575137  10.450838 -2038.393545 -73.991547   \n",
       "dropoff_latitude   3534618.0  39.952355   7.665360 -3114.304505  40.733845   \n",
       "fare_amount        3534632.0  12.491013  10.078369     2.500000   6.500000   \n",
       "surcharge          3534632.0   0.320163   0.362772     0.000000   0.000000   \n",
       "mta_tax            3534632.0   0.498208   0.029876     0.000000   0.500000   \n",
       "tip_amount         3534632.0   1.366541   2.157769     0.000000   0.000000   \n",
       "tolls_amount       3534632.0   0.260422   1.221513     0.000000   0.000000   \n",
       "total_amount       3534632.0  14.936348  12.109785     2.500000   8.000000   \n",
       "\n",
       "                         50%        75%          max  \n",
       "passenger_count     1.000000   2.000000     6.000000  \n",
       "trip_distance       1.800000   3.200000   100.000000  \n",
       "pickup_longitude  -73.981786 -73.966735    40.867882  \n",
       "pickup_latitude    40.752702  40.767551  2047.454950  \n",
       "rate_code           1.000000   1.000000   210.000000  \n",
       "dropoff_longitude -73.980110 -73.963510  2386.995232  \n",
       "dropoff_latitude   40.753077  40.768337  3210.392762  \n",
       "fare_amount         9.500000  14.500000   500.000000  \n",
       "surcharge           0.000000   0.500000     9.500000  \n",
       "mta_tax             0.500000   0.500000     0.500000  \n",
       "tip_amount          1.000000   2.000000   155.500000  \n",
       "tolls_amount        0.000000   0.000000    20.000000  \n",
       "total_amount       11.300000  16.750000   500.000000  "
      ]
     },
     "execution_count": 6,
     "metadata": {},
     "output_type": "execute_result"
    }
   ],
   "source": [
    "data.describe().transpose()"
   ]
  },
  {
   "cell_type": "code",
   "execution_count": 7,
   "metadata": {
    "collapsed": false
   },
   "outputs": [
    {
     "data": {
      "text/html": [
       "<div>\n",
       "<table border=\"1\" class=\"dataframe\">\n",
       "  <thead>\n",
       "    <tr style=\"text-align: right;\">\n",
       "      <th></th>\n",
       "      <th>vendor_id</th>\n",
       "      <th>pickup_datetime</th>\n",
       "      <th>dropoff_datetime</th>\n",
       "      <th>passenger_count</th>\n",
       "      <th>trip_distance</th>\n",
       "      <th>pickup_longitude</th>\n",
       "      <th>pickup_latitude</th>\n",
       "      <th>rate_code</th>\n",
       "      <th>store_and_fwd_flag</th>\n",
       "      <th>dropoff_longitude</th>\n",
       "      <th>dropoff_latitude</th>\n",
       "      <th>payment_type</th>\n",
       "      <th>fare_amount</th>\n",
       "      <th>surcharge</th>\n",
       "      <th>mta_tax</th>\n",
       "      <th>tip_amount</th>\n",
       "      <th>tolls_amount</th>\n",
       "      <th>total_amount</th>\n",
       "      <th>trip_time</th>\n",
       "    </tr>\n",
       "  </thead>\n",
       "  <tbody>\n",
       "    <tr>\n",
       "      <th>0</th>\n",
       "      <td>VTS</td>\n",
       "      <td>2013-05-06</td>\n",
       "      <td>2013-05-06 00:10:00</td>\n",
       "      <td>1</td>\n",
       "      <td>2.65</td>\n",
       "      <td>-73.981070</td>\n",
       "      <td>40.766047</td>\n",
       "      <td>1</td>\n",
       "      <td>NaN</td>\n",
       "      <td>-73.981362</td>\n",
       "      <td>40.738092</td>\n",
       "      <td>CRD</td>\n",
       "      <td>10.5</td>\n",
       "      <td>0.5</td>\n",
       "      <td>0.5</td>\n",
       "      <td>2.20</td>\n",
       "      <td>0.0</td>\n",
       "      <td>13.70</td>\n",
       "      <td>0 days 00:10:00.000000000</td>\n",
       "    </tr>\n",
       "    <tr>\n",
       "      <th>1</th>\n",
       "      <td>VTS</td>\n",
       "      <td>2013-05-06</td>\n",
       "      <td>2013-05-06 00:06:00</td>\n",
       "      <td>5</td>\n",
       "      <td>1.86</td>\n",
       "      <td>-73.986312</td>\n",
       "      <td>40.760487</td>\n",
       "      <td>1</td>\n",
       "      <td>NaN</td>\n",
       "      <td>-74.005082</td>\n",
       "      <td>40.743372</td>\n",
       "      <td>CSH</td>\n",
       "      <td>7.5</td>\n",
       "      <td>0.5</td>\n",
       "      <td>0.5</td>\n",
       "      <td>0.00</td>\n",
       "      <td>0.0</td>\n",
       "      <td>8.50</td>\n",
       "      <td>0 days 00:06:00.000000000</td>\n",
       "    </tr>\n",
       "    <tr>\n",
       "      <th>2</th>\n",
       "      <td>VTS</td>\n",
       "      <td>2013-05-06</td>\n",
       "      <td>2013-05-06 00:04:00</td>\n",
       "      <td>1</td>\n",
       "      <td>0.90</td>\n",
       "      <td>-73.989388</td>\n",
       "      <td>40.731577</td>\n",
       "      <td>1</td>\n",
       "      <td>NaN</td>\n",
       "      <td>-73.986102</td>\n",
       "      <td>40.740732</td>\n",
       "      <td>CSH</td>\n",
       "      <td>5.5</td>\n",
       "      <td>0.5</td>\n",
       "      <td>0.5</td>\n",
       "      <td>0.00</td>\n",
       "      <td>0.0</td>\n",
       "      <td>6.50</td>\n",
       "      <td>0 days 00:04:00.000000000</td>\n",
       "    </tr>\n",
       "    <tr>\n",
       "      <th>3</th>\n",
       "      <td>VTS</td>\n",
       "      <td>2013-05-06</td>\n",
       "      <td>2013-05-06 00:08:00</td>\n",
       "      <td>1</td>\n",
       "      <td>2.59</td>\n",
       "      <td>-73.994590</td>\n",
       "      <td>40.751857</td>\n",
       "      <td>1</td>\n",
       "      <td>NaN</td>\n",
       "      <td>-73.963470</td>\n",
       "      <td>40.765912</td>\n",
       "      <td>CSH</td>\n",
       "      <td>9.5</td>\n",
       "      <td>0.5</td>\n",
       "      <td>0.5</td>\n",
       "      <td>0.00</td>\n",
       "      <td>0.0</td>\n",
       "      <td>10.50</td>\n",
       "      <td>0 days 00:08:00.000000000</td>\n",
       "    </tr>\n",
       "    <tr>\n",
       "      <th>4</th>\n",
       "      <td>VTS</td>\n",
       "      <td>2013-05-06</td>\n",
       "      <td>2013-05-06 00:29:00</td>\n",
       "      <td>1</td>\n",
       "      <td>18.26</td>\n",
       "      <td>-73.783327</td>\n",
       "      <td>40.648510</td>\n",
       "      <td>1</td>\n",
       "      <td>NaN</td>\n",
       "      <td>-73.974808</td>\n",
       "      <td>40.624810</td>\n",
       "      <td>CRD</td>\n",
       "      <td>51.5</td>\n",
       "      <td>0.5</td>\n",
       "      <td>0.5</td>\n",
       "      <td>6.75</td>\n",
       "      <td>0.0</td>\n",
       "      <td>59.25</td>\n",
       "      <td>0 days 00:29:00.000000000</td>\n",
       "    </tr>\n",
       "  </tbody>\n",
       "</table>\n",
       "</div>"
      ],
      "text/plain": [
       "  vendor_id pickup_datetime    dropoff_datetime  passenger_count  \\\n",
       "0       VTS      2013-05-06 2013-05-06 00:10:00                1   \n",
       "1       VTS      2013-05-06 2013-05-06 00:06:00                5   \n",
       "2       VTS      2013-05-06 2013-05-06 00:04:00                1   \n",
       "3       VTS      2013-05-06 2013-05-06 00:08:00                1   \n",
       "4       VTS      2013-05-06 2013-05-06 00:29:00                1   \n",
       "\n",
       "   trip_distance  pickup_longitude  pickup_latitude  rate_code  \\\n",
       "0           2.65        -73.981070        40.766047          1   \n",
       "1           1.86        -73.986312        40.760487          1   \n",
       "2           0.90        -73.989388        40.731577          1   \n",
       "3           2.59        -73.994590        40.751857          1   \n",
       "4          18.26        -73.783327        40.648510          1   \n",
       "\n",
       "  store_and_fwd_flag  dropoff_longitude  dropoff_latitude payment_type  \\\n",
       "0                NaN         -73.981362         40.738092          CRD   \n",
       "1                NaN         -74.005082         40.743372          CSH   \n",
       "2                NaN         -73.986102         40.740732          CSH   \n",
       "3                NaN         -73.963470         40.765912          CSH   \n",
       "4                NaN         -73.974808         40.624810          CRD   \n",
       "\n",
       "   fare_amount  surcharge  mta_tax  tip_amount  tolls_amount  total_amount  \\\n",
       "0         10.5        0.5      0.5        2.20           0.0         13.70   \n",
       "1          7.5        0.5      0.5        0.00           0.0          8.50   \n",
       "2          5.5        0.5      0.5        0.00           0.0          6.50   \n",
       "3          9.5        0.5      0.5        0.00           0.0         10.50   \n",
       "4         51.5        0.5      0.5        6.75           0.0         59.25   \n",
       "\n",
       "                   trip_time  \n",
       "0  0 days 00:10:00.000000000  \n",
       "1  0 days 00:06:00.000000000  \n",
       "2  0 days 00:04:00.000000000  \n",
       "3  0 days 00:08:00.000000000  \n",
       "4  0 days 00:29:00.000000000  "
      ]
     },
     "execution_count": 7,
     "metadata": {},
     "output_type": "execute_result"
    }
   ],
   "source": [
    "data.head()"
   ]
  },
  {
   "cell_type": "code",
   "execution_count": 8,
   "metadata": {
    "collapsed": false
   },
   "outputs": [],
   "source": [
    "payments = data.payment_type.value_counts()"
   ]
  },
  {
   "cell_type": "markdown",
   "metadata": {},
   "source": [
    "Some statistics about the payment."
   ]
  },
  {
   "cell_type": "code",
   "execution_count": 9,
   "metadata": {
    "collapsed": false
   },
   "outputs": [
    {
     "data": {
      "text/plain": [
       "CRD    0.537525\n",
       "CSH    0.459272\n",
       "NOC    0.002171\n",
       "DIS    0.000694\n",
       "UNK    0.000339\n",
       "Name: payment_type, dtype: float64"
      ]
     },
     "execution_count": 9,
     "metadata": {},
     "output_type": "execute_result"
    }
   ],
   "source": [
    "payments/len(data)"
   ]
  },
  {
   "cell_type": "markdown",
   "metadata": {},
   "source": [
    "## So thats the statistic about payments. Remember, there are to tips recorded for cash payment"
   ]
  },
  {
   "cell_type": "markdown",
   "metadata": {},
   "source": [
    "How many trips are affected by tolls?"
   ]
  },
  {
   "cell_type": "code",
   "execution_count": 10,
   "metadata": {
    "collapsed": false
   },
   "outputs": [
    {
     "data": {
      "text/plain": [
       "0.00     9.535745e-01\n",
       "5.33     4.322657e-02\n",
       "10.25    1.000670e-03\n",
       "2.44     4.175824e-04\n",
       "8.25     3.850472e-04\n",
       "10.66    2.648083e-04\n",
       "4.80     9.760563e-05\n",
       "7.50     8.345989e-05\n",
       "15.58    7.016289e-05\n",
       "15.99    6.591917e-05\n",
       "15.00    3.904225e-05\n",
       "15.25    3.762768e-05\n",
       "13.25    3.564728e-05\n",
       "14.25    3.281813e-05\n",
       "12.25    3.196938e-05\n",
       "13.00    2.998898e-05\n",
       "2.00     2.319902e-05\n",
       "13.58    2.291611e-05\n",
       "12.00    2.291611e-05\n",
       "14.00    1.867238e-05\n",
       "5.00     1.782364e-05\n",
       "16.25    1.612615e-05\n",
       "12.75    1.527740e-05\n",
       "5.30     1.471157e-05\n",
       "16.00    1.357991e-05\n",
       "14.75    1.273117e-05\n",
       "17.00    1.159951e-05\n",
       "14.55    1.103368e-05\n",
       "12.40    1.046785e-05\n",
       "16.50    1.018494e-05\n",
       "             ...     \n",
       "8.24     2.829149e-07\n",
       "5.74     2.829149e-07\n",
       "17.99    2.829149e-07\n",
       "12.58    2.829149e-07\n",
       "16.16    2.829149e-07\n",
       "5.31     2.829149e-07\n",
       "0.06     2.829149e-07\n",
       "13.06    2.829149e-07\n",
       "12.97    2.829149e-07\n",
       "6.80     2.829149e-07\n",
       "4.30     2.829149e-07\n",
       "4.55     2.829149e-07\n",
       "12.22    2.829149e-07\n",
       "17.80    2.829149e-07\n",
       "13.80    2.829149e-07\n",
       "16.58    2.829149e-07\n",
       "11.05    2.829149e-07\n",
       "8.55     2.829149e-07\n",
       "11.22    2.829149e-07\n",
       "13.30    2.829149e-07\n",
       "5.22     2.829149e-07\n",
       "14.80    2.829149e-07\n",
       "11.30    2.829149e-07\n",
       "17.14    2.829149e-07\n",
       "15.39    2.829149e-07\n",
       "12.89    2.829149e-07\n",
       "5.39     2.829149e-07\n",
       "4.14     2.829149e-07\n",
       "14.30    2.829149e-07\n",
       "12.42    2.829149e-07\n",
       "Name: tolls_amount, dtype: float64"
      ]
     },
     "execution_count": 10,
     "metadata": {},
     "output_type": "execute_result"
    }
   ],
   "source": [
    "data.tolls_amount.value_counts()/len(data)"
   ]
  },
  {
   "cell_type": "markdown",
   "metadata": {},
   "source": [
    "So 95% of the drives do not deal with tolls. We will drop the column then."
   ]
  },
  {
   "cell_type": "markdown",
   "metadata": {},
   "source": [
    "We are not interested in the following features (they do not add any further information):"
   ]
  },
  {
   "cell_type": "code",
   "execution_count": 11,
   "metadata": {
    "collapsed": false
   },
   "outputs": [],
   "source": [
    "data = data.drop(['vendor_id', 'rate_code', 'store_and_fwd_flag','payment_type','mta_tax', 'tolls_amount',\n",
    "               'surcharge'], axis=1)"
   ]
  },
  {
   "cell_type": "code",
   "execution_count": 12,
   "metadata": {
    "collapsed": false
   },
   "outputs": [
    {
     "data": {
      "text/html": [
       "<div>\n",
       "<table border=\"1\" class=\"dataframe\">\n",
       "  <thead>\n",
       "    <tr style=\"text-align: right;\">\n",
       "      <th></th>\n",
       "      <th>count</th>\n",
       "      <th>mean</th>\n",
       "      <th>std</th>\n",
       "      <th>min</th>\n",
       "      <th>25%</th>\n",
       "      <th>50%</th>\n",
       "      <th>75%</th>\n",
       "      <th>max</th>\n",
       "    </tr>\n",
       "  </thead>\n",
       "  <tbody>\n",
       "    <tr>\n",
       "      <th>passenger_count</th>\n",
       "      <td>3534632.0</td>\n",
       "      <td>1.708266</td>\n",
       "      <td>1.380270</td>\n",
       "      <td>0.000000</td>\n",
       "      <td>1.000000</td>\n",
       "      <td>1.000000</td>\n",
       "      <td>2.000000</td>\n",
       "      <td>6.000000</td>\n",
       "    </tr>\n",
       "    <tr>\n",
       "      <th>trip_distance</th>\n",
       "      <td>3534632.0</td>\n",
       "      <td>2.875593</td>\n",
       "      <td>3.343748</td>\n",
       "      <td>0.000000</td>\n",
       "      <td>1.050000</td>\n",
       "      <td>1.800000</td>\n",
       "      <td>3.200000</td>\n",
       "      <td>100.000000</td>\n",
       "    </tr>\n",
       "    <tr>\n",
       "      <th>pickup_longitude</th>\n",
       "      <td>3534632.0</td>\n",
       "      <td>-72.621180</td>\n",
       "      <td>10.142067</td>\n",
       "      <td>-1625.033333</td>\n",
       "      <td>-73.992272</td>\n",
       "      <td>-73.981786</td>\n",
       "      <td>-73.966735</td>\n",
       "      <td>40.867882</td>\n",
       "    </tr>\n",
       "    <tr>\n",
       "      <th>pickup_latitude</th>\n",
       "      <td>3534632.0</td>\n",
       "      <td>39.981485</td>\n",
       "      <td>6.522288</td>\n",
       "      <td>-3113.281477</td>\n",
       "      <td>40.734916</td>\n",
       "      <td>40.752702</td>\n",
       "      <td>40.767551</td>\n",
       "      <td>2047.454950</td>\n",
       "    </tr>\n",
       "    <tr>\n",
       "      <th>dropoff_longitude</th>\n",
       "      <td>3534618.0</td>\n",
       "      <td>-72.575137</td>\n",
       "      <td>10.450838</td>\n",
       "      <td>-2038.393545</td>\n",
       "      <td>-73.991547</td>\n",
       "      <td>-73.980110</td>\n",
       "      <td>-73.963510</td>\n",
       "      <td>2386.995232</td>\n",
       "    </tr>\n",
       "    <tr>\n",
       "      <th>dropoff_latitude</th>\n",
       "      <td>3534618.0</td>\n",
       "      <td>39.952355</td>\n",
       "      <td>7.665360</td>\n",
       "      <td>-3114.304505</td>\n",
       "      <td>40.733845</td>\n",
       "      <td>40.753077</td>\n",
       "      <td>40.768337</td>\n",
       "      <td>3210.392762</td>\n",
       "    </tr>\n",
       "    <tr>\n",
       "      <th>fare_amount</th>\n",
       "      <td>3534632.0</td>\n",
       "      <td>12.491013</td>\n",
       "      <td>10.078369</td>\n",
       "      <td>2.500000</td>\n",
       "      <td>6.500000</td>\n",
       "      <td>9.500000</td>\n",
       "      <td>14.500000</td>\n",
       "      <td>500.000000</td>\n",
       "    </tr>\n",
       "    <tr>\n",
       "      <th>tip_amount</th>\n",
       "      <td>3534632.0</td>\n",
       "      <td>1.366541</td>\n",
       "      <td>2.157769</td>\n",
       "      <td>0.000000</td>\n",
       "      <td>0.000000</td>\n",
       "      <td>1.000000</td>\n",
       "      <td>2.000000</td>\n",
       "      <td>155.500000</td>\n",
       "    </tr>\n",
       "    <tr>\n",
       "      <th>total_amount</th>\n",
       "      <td>3534632.0</td>\n",
       "      <td>14.936348</td>\n",
       "      <td>12.109785</td>\n",
       "      <td>2.500000</td>\n",
       "      <td>8.000000</td>\n",
       "      <td>11.300000</td>\n",
       "      <td>16.750000</td>\n",
       "      <td>500.000000</td>\n",
       "    </tr>\n",
       "  </tbody>\n",
       "</table>\n",
       "</div>"
      ],
      "text/plain": [
       "                       count       mean        std          min        25%  \\\n",
       "passenger_count    3534632.0   1.708266   1.380270     0.000000   1.000000   \n",
       "trip_distance      3534632.0   2.875593   3.343748     0.000000   1.050000   \n",
       "pickup_longitude   3534632.0 -72.621180  10.142067 -1625.033333 -73.992272   \n",
       "pickup_latitude    3534632.0  39.981485   6.522288 -3113.281477  40.734916   \n",
       "dropoff_longitude  3534618.0 -72.575137  10.450838 -2038.393545 -73.991547   \n",
       "dropoff_latitude   3534618.0  39.952355   7.665360 -3114.304505  40.733845   \n",
       "fare_amount        3534632.0  12.491013  10.078369     2.500000   6.500000   \n",
       "tip_amount         3534632.0   1.366541   2.157769     0.000000   0.000000   \n",
       "total_amount       3534632.0  14.936348  12.109785     2.500000   8.000000   \n",
       "\n",
       "                         50%        75%          max  \n",
       "passenger_count     1.000000   2.000000     6.000000  \n",
       "trip_distance       1.800000   3.200000   100.000000  \n",
       "pickup_longitude  -73.981786 -73.966735    40.867882  \n",
       "pickup_latitude    40.752702  40.767551  2047.454950  \n",
       "dropoff_longitude -73.980110 -73.963510  2386.995232  \n",
       "dropoff_latitude   40.753077  40.768337  3210.392762  \n",
       "fare_amount         9.500000  14.500000   500.000000  \n",
       "tip_amount          1.000000   2.000000   155.500000  \n",
       "total_amount       11.300000  16.750000   500.000000  "
      ]
     },
     "execution_count": 12,
     "metadata": {},
     "output_type": "execute_result"
    }
   ],
   "source": [
    "data.describe().transpose()"
   ]
  },
  {
   "cell_type": "markdown",
   "metadata": {},
   "source": [
    "# First, we want to generate the trip_time because this is our target."
   ]
  },
  {
   "cell_type": "code",
   "execution_count": 13,
   "metadata": {
    "collapsed": false
   },
   "outputs": [
    {
     "data": {
      "text/html": [
       "<div>\n",
       "<table border=\"1\" class=\"dataframe\">\n",
       "  <thead>\n",
       "    <tr style=\"text-align: right;\">\n",
       "      <th></th>\n",
       "      <th>pickup_datetime</th>\n",
       "      <th>dropoff_datetime</th>\n",
       "      <th>passenger_count</th>\n",
       "      <th>trip_distance</th>\n",
       "      <th>pickup_longitude</th>\n",
       "      <th>pickup_latitude</th>\n",
       "      <th>dropoff_longitude</th>\n",
       "      <th>dropoff_latitude</th>\n",
       "      <th>fare_amount</th>\n",
       "      <th>tip_amount</th>\n",
       "      <th>total_amount</th>\n",
       "      <th>trip_time</th>\n",
       "    </tr>\n",
       "  </thead>\n",
       "  <tbody>\n",
       "    <tr>\n",
       "      <th>0</th>\n",
       "      <td>2013-05-06</td>\n",
       "      <td>2013-05-06 00:10:00</td>\n",
       "      <td>1</td>\n",
       "      <td>2.65</td>\n",
       "      <td>-73.981070</td>\n",
       "      <td>40.766047</td>\n",
       "      <td>-73.981362</td>\n",
       "      <td>40.738092</td>\n",
       "      <td>10.5</td>\n",
       "      <td>2.20</td>\n",
       "      <td>13.70</td>\n",
       "      <td>00:10:00</td>\n",
       "    </tr>\n",
       "    <tr>\n",
       "      <th>1</th>\n",
       "      <td>2013-05-06</td>\n",
       "      <td>2013-05-06 00:06:00</td>\n",
       "      <td>5</td>\n",
       "      <td>1.86</td>\n",
       "      <td>-73.986312</td>\n",
       "      <td>40.760487</td>\n",
       "      <td>-74.005082</td>\n",
       "      <td>40.743372</td>\n",
       "      <td>7.5</td>\n",
       "      <td>0.00</td>\n",
       "      <td>8.50</td>\n",
       "      <td>00:06:00</td>\n",
       "    </tr>\n",
       "    <tr>\n",
       "      <th>2</th>\n",
       "      <td>2013-05-06</td>\n",
       "      <td>2013-05-06 00:04:00</td>\n",
       "      <td>1</td>\n",
       "      <td>0.90</td>\n",
       "      <td>-73.989388</td>\n",
       "      <td>40.731577</td>\n",
       "      <td>-73.986102</td>\n",
       "      <td>40.740732</td>\n",
       "      <td>5.5</td>\n",
       "      <td>0.00</td>\n",
       "      <td>6.50</td>\n",
       "      <td>00:04:00</td>\n",
       "    </tr>\n",
       "    <tr>\n",
       "      <th>3</th>\n",
       "      <td>2013-05-06</td>\n",
       "      <td>2013-05-06 00:08:00</td>\n",
       "      <td>1</td>\n",
       "      <td>2.59</td>\n",
       "      <td>-73.994590</td>\n",
       "      <td>40.751857</td>\n",
       "      <td>-73.963470</td>\n",
       "      <td>40.765912</td>\n",
       "      <td>9.5</td>\n",
       "      <td>0.00</td>\n",
       "      <td>10.50</td>\n",
       "      <td>00:08:00</td>\n",
       "    </tr>\n",
       "    <tr>\n",
       "      <th>4</th>\n",
       "      <td>2013-05-06</td>\n",
       "      <td>2013-05-06 00:29:00</td>\n",
       "      <td>1</td>\n",
       "      <td>18.26</td>\n",
       "      <td>-73.783327</td>\n",
       "      <td>40.648510</td>\n",
       "      <td>-73.974808</td>\n",
       "      <td>40.624810</td>\n",
       "      <td>51.5</td>\n",
       "      <td>6.75</td>\n",
       "      <td>59.25</td>\n",
       "      <td>00:29:00</td>\n",
       "    </tr>\n",
       "  </tbody>\n",
       "</table>\n",
       "</div>"
      ],
      "text/plain": [
       "  pickup_datetime    dropoff_datetime  passenger_count  trip_distance  \\\n",
       "0      2013-05-06 2013-05-06 00:10:00                1           2.65   \n",
       "1      2013-05-06 2013-05-06 00:06:00                5           1.86   \n",
       "2      2013-05-06 2013-05-06 00:04:00                1           0.90   \n",
       "3      2013-05-06 2013-05-06 00:08:00                1           2.59   \n",
       "4      2013-05-06 2013-05-06 00:29:00                1          18.26   \n",
       "\n",
       "   pickup_longitude  pickup_latitude  dropoff_longitude  dropoff_latitude  \\\n",
       "0        -73.981070        40.766047         -73.981362         40.738092   \n",
       "1        -73.986312        40.760487         -74.005082         40.743372   \n",
       "2        -73.989388        40.731577         -73.986102         40.740732   \n",
       "3        -73.994590        40.751857         -73.963470         40.765912   \n",
       "4        -73.783327        40.648510         -73.974808         40.624810   \n",
       "\n",
       "   fare_amount  tip_amount  total_amount  trip_time  \n",
       "0         10.5        2.20         13.70   00:10:00  \n",
       "1          7.5        0.00          8.50   00:06:00  \n",
       "2          5.5        0.00          6.50   00:04:00  \n",
       "3          9.5        0.00         10.50   00:08:00  \n",
       "4         51.5        6.75         59.25   00:29:00  "
      ]
     },
     "execution_count": 13,
     "metadata": {},
     "output_type": "execute_result"
    }
   ],
   "source": [
    "data['trip_time']=data.dropoff_datetime-data.pickup_datetime\n",
    "data.head()"
   ]
  },
  {
   "cell_type": "code",
   "execution_count": 14,
   "metadata": {
    "collapsed": false
   },
   "outputs": [
    {
     "name": "stdout",
     "output_type": "stream",
     "text": [
      "<class 'pandas.core.frame.DataFrame'>\n",
      "Int64Index: 3534632 entries, 0 to 3534631\n",
      "Data columns (total 12 columns):\n",
      "pickup_datetime      datetime64[ns]\n",
      "dropoff_datetime     datetime64[ns]\n",
      "passenger_count      int64\n",
      "trip_distance        float64\n",
      "pickup_longitude     float64\n",
      "pickup_latitude      float64\n",
      "dropoff_longitude    float64\n",
      "dropoff_latitude     float64\n",
      "fare_amount          float64\n",
      "tip_amount           float64\n",
      "total_amount         float64\n",
      "trip_time            timedelta64[ns]\n",
      "dtypes: datetime64[ns](2), float64(8), int64(1), timedelta64[ns](1)\n",
      "memory usage: 350.6 MB\n"
     ]
    }
   ],
   "source": [
    "data.info()"
   ]
  },
  {
   "cell_type": "markdown",
   "metadata": {},
   "source": [
    "# Check for missing and false data:"
   ]
  },
  {
   "cell_type": "code",
   "execution_count": 15,
   "metadata": {
    "collapsed": false
   },
   "outputs": [
    {
     "data": {
      "text/plain": [
       "pickup_datetime       0\n",
       "dropoff_datetime      0\n",
       "passenger_count       0\n",
       "trip_distance         0\n",
       "pickup_longitude      0\n",
       "pickup_latitude       0\n",
       "dropoff_longitude    14\n",
       "dropoff_latitude     14\n",
       "fare_amount           0\n",
       "tip_amount            0\n",
       "total_amount          0\n",
       "trip_time             0\n",
       "dtype: int64"
      ]
     },
     "execution_count": 15,
     "metadata": {},
     "output_type": "execute_result"
    }
   ],
   "source": [
    "data.isnull().sum()"
   ]
  },
  {
   "cell_type": "markdown",
   "metadata": {},
   "source": [
    "So there is not that much data missing. That's quite surprising, maybe it's wrong."
   ]
  },
  {
   "cell_type": "code",
   "execution_count": 16,
   "metadata": {
    "collapsed": false
   },
   "outputs": [
    {
     "data": {
      "text/plain": [
       "pickup_datetime            0\n",
       "dropoff_datetime           0\n",
       "passenger_count           31\n",
       "trip_distance          39596\n",
       "pickup_longitude       61811\n",
       "pickup_latitude        61403\n",
       "dropoff_longitude      63932\n",
       "dropoff_latitude       63565\n",
       "fare_amount                0\n",
       "tip_amount           1690455\n",
       "total_amount               0\n",
       "trip_time              10653\n",
       "dtype: int64"
      ]
     },
     "execution_count": 16,
     "metadata": {},
     "output_type": "execute_result"
    }
   ],
   "source": [
    "(data==0).sum()"
   ]
  },
  {
   "cell_type": "markdown",
   "metadata": {},
   "source": [
    "So we have many zeros in the data. How much percent?"
   ]
  },
  {
   "cell_type": "code",
   "execution_count": 17,
   "metadata": {
    "collapsed": false
   },
   "outputs": [
    {
     "data": {
      "text/plain": [
       "pickup_datetime      0.000000\n",
       "dropoff_datetime     0.000000\n",
       "passenger_count      0.000009\n",
       "trip_distance        0.011202\n",
       "pickup_longitude     0.017487\n",
       "pickup_latitude      0.017372\n",
       "dropoff_longitude    0.018087\n",
       "dropoff_latitude     0.017983\n",
       "fare_amount          0.000000\n",
       "tip_amount           0.478255\n",
       "total_amount         0.000000\n",
       "trip_time            0.003014\n",
       "dtype: float64"
      ]
     },
     "execution_count": 17,
     "metadata": {},
     "output_type": "execute_result"
    }
   ],
   "source": [
    "(data==0).sum()/len(data)"
   ]
  },
  {
   "cell_type": "markdown",
   "metadata": {},
   "source": [
    "# <font color = 'blue' > Most of the zeros are missing data. So flag them as NaN (means also NA) to be consistent! </font color>"
   ]
  },
  {
   "cell_type": "code",
   "execution_count": 18,
   "metadata": {
    "collapsed": false
   },
   "outputs": [],
   "source": [
    "data = data.replace(np.float64(0), np.nan);"
   ]
  },
  {
   "cell_type": "code",
   "execution_count": 19,
   "metadata": {
    "collapsed": false
   },
   "outputs": [
    {
     "data": {
      "text/plain": [
       "pickup_datetime            0\n",
       "dropoff_datetime           0\n",
       "passenger_count           31\n",
       "trip_distance          39596\n",
       "pickup_longitude       61811\n",
       "pickup_latitude        61403\n",
       "dropoff_longitude      63946\n",
       "dropoff_latitude       63579\n",
       "fare_amount                0\n",
       "tip_amount           1690455\n",
       "total_amount               0\n",
       "trip_time              10653\n",
       "dtype: int64"
      ]
     },
     "execution_count": 19,
     "metadata": {},
     "output_type": "execute_result"
    }
   ],
   "source": [
    "data.isnull().sum()"
   ]
  },
  {
   "cell_type": "markdown",
   "metadata": {},
   "source": [
    "Quick preview about the trip_times"
   ]
  },
  {
   "cell_type": "markdown",
   "metadata": {},
   "source": [
    "## A quick look at the trip time before preprocessing"
   ]
  },
  {
   "cell_type": "code",
   "execution_count": 20,
   "metadata": {
    "collapsed": false
   },
   "outputs": [
    {
     "name": "stdout",
     "output_type": "stream",
     "text": [
      "0.025     2.000000\n",
      "0.500    10.516667\n",
      "0.750    16.833333\n",
      "0.950    31.000000\n",
      "0.975    38.400000\n",
      "0.990    49.850000\n",
      "Name: trip_time, dtype: float64\n"
     ]
    },
    {
     "data": {
      "image/png": "[encoded data removed]",
      "text/plain": [
       "<matplotlib.figure.Figure at 0x7f4ce8a88c18>"
      ]
     },
     "metadata": {},
     "output_type": "display_data"
    }
   ],
   "source": [
    "trip_times_in_minutes = data['trip_time'] / np.timedelta64(1, 'm')\n",
    "plt.hist(trip_times_in_minutes , bins=30, range=[0, 60], \n",
    "         weights=np.zeros_like(trip_times_in_minutes) + 1. / trip_times_in_minutes.size)\n",
    "#plt.yscale('log')\n",
    "print(trip_times_in_minutes.quantile(q=[0.025, 0.5, 0.75, 0.95, 0.975, 0.99]))\n",
    "plt.xlabel('Trip Time in Minutes')\n",
    "plt.ylabel('Relative Frequency')\n",
    "plt.title('Distribution of Trip Time')\n",
    "plt.savefig('figures/trip_time_distribution.eps', format='eps', dpi=1000)"
   ]
  },
  {
   "cell_type": "code",
   "execution_count": 21,
   "metadata": {
    "collapsed": false
   },
   "outputs": [
    {
     "data": {
      "text/plain": [
       "5840"
      ]
     },
     "execution_count": 21,
     "metadata": {},
     "output_type": "execute_result"
    }
   ],
   "source": [
    "len(data.trip_time.value_counts().values)"
   ]
  },
  {
   "cell_type": "markdown",
   "metadata": {},
   "source": [
    "That many unique values do we have in trip_time."
   ]
  },
  {
   "cell_type": "markdown",
   "metadata": {},
   "source": [
    "Identify the the cases without geo data and remove them from our data to be processed."
   ]
  },
  {
   "cell_type": "code",
   "execution_count": 22,
   "metadata": {
    "collapsed": true
   },
   "outputs": [],
   "source": [
    "anomaly = data.loc[(data['dropoff_longitude'].isnull()) | (data['dropoff_latitude'].isnull()) | \n",
    "                       (data['pickup_longitude'].isnull()) | (data['pickup_latitude'].isnull())]\n",
    "data = data.drop(anomaly.index)"
   ]
  },
  {
   "cell_type": "code",
   "execution_count": 23,
   "metadata": {
    "collapsed": true
   },
   "outputs": [],
   "source": [
    "anomaly['flag'] = 'geo_NA'"
   ]
  },
  {
   "cell_type": "code",
   "execution_count": 24,
   "metadata": {
    "collapsed": false
   },
   "outputs": [
    {
     "data": {
      "text/plain": [
       "pickup_datetime            0\n",
       "dropoff_datetime           0\n",
       "passenger_count           12\n",
       "trip_distance          32873\n",
       "pickup_longitude           0\n",
       "pickup_latitude            0\n",
       "dropoff_longitude          0\n",
       "dropoff_latitude           0\n",
       "fare_amount                0\n",
       "tip_amount           1656902\n",
       "total_amount               0\n",
       "trip_time               3864\n",
       "dtype: int64"
      ]
     },
     "execution_count": 24,
     "metadata": {},
     "output_type": "execute_result"
    }
   ],
   "source": [
    "data.isnull().sum()"
   ]
  },
  {
   "cell_type": "markdown",
   "metadata": {},
   "source": [
    "So how many percent of data are left to be processed?"
   ]
  },
  {
   "cell_type": "code",
   "execution_count": 25,
   "metadata": {
    "collapsed": false
   },
   "outputs": [
    {
     "data": {
      "text/plain": [
       "0.981279805082962"
      ]
     },
     "execution_count": 25,
     "metadata": {},
     "output_type": "execute_result"
    }
   ],
   "source": [
    "len(data)/(len(data)+len(anomaly))"
   ]
  },
  {
   "cell_type": "code",
   "execution_count": 26,
   "metadata": {
    "collapsed": false
   },
   "outputs": [
    {
     "data": {
      "text/html": [
       "<div>\n",
       "<table border=\"1\" class=\"dataframe\">\n",
       "  <thead>\n",
       "    <tr style=\"text-align: right;\">\n",
       "      <th></th>\n",
       "      <th>pickup_datetime</th>\n",
       "      <th>dropoff_datetime</th>\n",
       "      <th>passenger_count</th>\n",
       "      <th>trip_distance</th>\n",
       "      <th>pickup_longitude</th>\n",
       "      <th>pickup_latitude</th>\n",
       "      <th>dropoff_longitude</th>\n",
       "      <th>dropoff_latitude</th>\n",
       "      <th>fare_amount</th>\n",
       "      <th>tip_amount</th>\n",
       "      <th>total_amount</th>\n",
       "      <th>trip_time</th>\n",
       "      <th>flag</th>\n",
       "    </tr>\n",
       "  </thead>\n",
       "  <tbody>\n",
       "    <tr>\n",
       "      <th>3534421</th>\n",
       "      <td>2013-05-12 23:58:56</td>\n",
       "      <td>2013-05-13 00:05:43</td>\n",
       "      <td>1.0</td>\n",
       "      <td>2.0</td>\n",
       "      <td>NaN</td>\n",
       "      <td>NaN</td>\n",
       "      <td>NaN</td>\n",
       "      <td>NaN</td>\n",
       "      <td>8.0</td>\n",
       "      <td>1.8</td>\n",
       "      <td>10.8</td>\n",
       "      <td>00:06:47</td>\n",
       "      <td>geo_NA</td>\n",
       "    </tr>\n",
       "    <tr>\n",
       "      <th>3534518</th>\n",
       "      <td>2013-05-12 23:59:02</td>\n",
       "      <td>2013-05-13 00:16:03</td>\n",
       "      <td>3.0</td>\n",
       "      <td>6.1</td>\n",
       "      <td>NaN</td>\n",
       "      <td>NaN</td>\n",
       "      <td>NaN</td>\n",
       "      <td>NaN</td>\n",
       "      <td>15.0</td>\n",
       "      <td>NaN</td>\n",
       "      <td>16.0</td>\n",
       "      <td>00:17:01</td>\n",
       "      <td>geo_NA</td>\n",
       "    </tr>\n",
       "    <tr>\n",
       "      <th>3534615</th>\n",
       "      <td>2013-05-12 23:59:52</td>\n",
       "      <td>2013-05-13 00:23:15</td>\n",
       "      <td>1.0</td>\n",
       "      <td>5.4</td>\n",
       "      <td>NaN</td>\n",
       "      <td>NaN</td>\n",
       "      <td>NaN</td>\n",
       "      <td>NaN</td>\n",
       "      <td>20.5</td>\n",
       "      <td>NaN</td>\n",
       "      <td>21.5</td>\n",
       "      <td>00:23:23</td>\n",
       "      <td>geo_NA</td>\n",
       "    </tr>\n",
       "    <tr>\n",
       "      <th>3534618</th>\n",
       "      <td>2013-05-12 23:59:54</td>\n",
       "      <td>2013-05-13 00:07:45</td>\n",
       "      <td>1.0</td>\n",
       "      <td>1.8</td>\n",
       "      <td>NaN</td>\n",
       "      <td>NaN</td>\n",
       "      <td>NaN</td>\n",
       "      <td>NaN</td>\n",
       "      <td>8.0</td>\n",
       "      <td>NaN</td>\n",
       "      <td>9.0</td>\n",
       "      <td>00:07:51</td>\n",
       "      <td>geo_NA</td>\n",
       "    </tr>\n",
       "    <tr>\n",
       "      <th>3534623</th>\n",
       "      <td>2013-05-12 23:59:56</td>\n",
       "      <td>2013-05-13 00:14:28</td>\n",
       "      <td>1.0</td>\n",
       "      <td>7.6</td>\n",
       "      <td>NaN</td>\n",
       "      <td>NaN</td>\n",
       "      <td>NaN</td>\n",
       "      <td>NaN</td>\n",
       "      <td>23.0</td>\n",
       "      <td>NaN</td>\n",
       "      <td>24.0</td>\n",
       "      <td>00:14:32</td>\n",
       "      <td>geo_NA</td>\n",
       "    </tr>\n",
       "  </tbody>\n",
       "</table>\n",
       "</div>"
      ],
      "text/plain": [
       "            pickup_datetime    dropoff_datetime  passenger_count  \\\n",
       "3534421 2013-05-12 23:58:56 2013-05-13 00:05:43              1.0   \n",
       "3534518 2013-05-12 23:59:02 2013-05-13 00:16:03              3.0   \n",
       "3534615 2013-05-12 23:59:52 2013-05-13 00:23:15              1.0   \n",
       "3534618 2013-05-12 23:59:54 2013-05-13 00:07:45              1.0   \n",
       "3534623 2013-05-12 23:59:56 2013-05-13 00:14:28              1.0   \n",
       "\n",
       "         trip_distance  pickup_longitude  pickup_latitude  dropoff_longitude  \\\n",
       "3534421            2.0               NaN              NaN                NaN   \n",
       "3534518            6.1               NaN              NaN                NaN   \n",
       "3534615            5.4               NaN              NaN                NaN   \n",
       "3534618            1.8               NaN              NaN                NaN   \n",
       "3534623            7.6               NaN              NaN                NaN   \n",
       "\n",
       "         dropoff_latitude  fare_amount  tip_amount  total_amount  trip_time  \\\n",
       "3534421               NaN          8.0         1.8          10.8   00:06:47   \n",
       "3534518               NaN         15.0         NaN          16.0   00:17:01   \n",
       "3534615               NaN         20.5         NaN          21.5   00:23:23   \n",
       "3534618               NaN          8.0         NaN           9.0   00:07:51   \n",
       "3534623               NaN         23.0         NaN          24.0   00:14:32   \n",
       "\n",
       "           flag  \n",
       "3534421  geo_NA  \n",
       "3534518  geo_NA  \n",
       "3534615  geo_NA  \n",
       "3534618  geo_NA  \n",
       "3534623  geo_NA  "
      ]
     },
     "execution_count": 26,
     "metadata": {},
     "output_type": "execute_result"
    }
   ],
   "source": [
    "anomaly.tail()"
   ]
  },
  {
   "cell_type": "markdown",
   "metadata": {},
   "source": [
    "## <font color = 'black'> So we only dropped 2% of the data because of missing geo tags. Someone could search the 'anomaly'-data for patterns, e.g. for fraud detection. We are also going to drop all the unrecognized trip_distances because we cannot (exactly) generate them (an approximation would be possible). </font color>"
   ]
  },
  {
   "cell_type": "code",
   "execution_count": 27,
   "metadata": {
    "collapsed": false
   },
   "outputs": [
    {
     "data": {
      "text/html": [
       "<div>\n",
       "<table border=\"1\" class=\"dataframe\">\n",
       "  <thead>\n",
       "    <tr style=\"text-align: right;\">\n",
       "      <th></th>\n",
       "      <th>dropoff_datetime</th>\n",
       "      <th>dropoff_latitude</th>\n",
       "      <th>dropoff_longitude</th>\n",
       "      <th>fare_amount</th>\n",
       "      <th>flag</th>\n",
       "      <th>passenger_count</th>\n",
       "      <th>pickup_datetime</th>\n",
       "      <th>pickup_latitude</th>\n",
       "      <th>pickup_longitude</th>\n",
       "      <th>tip_amount</th>\n",
       "      <th>total_amount</th>\n",
       "      <th>trip_distance</th>\n",
       "      <th>trip_time</th>\n",
       "    </tr>\n",
       "  </thead>\n",
       "  <tbody>\n",
       "    <tr>\n",
       "      <th>3534334</th>\n",
       "      <td>2013-05-13 00:03:12</td>\n",
       "      <td>40.749736</td>\n",
       "      <td>-73.978713</td>\n",
       "      <td>5.5</td>\n",
       "      <td>trip_dist_NA</td>\n",
       "      <td>1.0</td>\n",
       "      <td>2013-05-12 23:58:16</td>\n",
       "      <td>40.754459</td>\n",
       "      <td>-73.964803</td>\n",
       "      <td>NaN</td>\n",
       "      <td>6.5</td>\n",
       "      <td>NaN</td>\n",
       "      <td>00:04:56</td>\n",
       "    </tr>\n",
       "    <tr>\n",
       "      <th>3534517</th>\n",
       "      <td>2013-05-13 00:13:53</td>\n",
       "      <td>40.690212</td>\n",
       "      <td>-73.978735</td>\n",
       "      <td>14.0</td>\n",
       "      <td>trip_dist_NA</td>\n",
       "      <td>1.0</td>\n",
       "      <td>2013-05-12 23:59:01</td>\n",
       "      <td>40.733297</td>\n",
       "      <td>-73.987381</td>\n",
       "      <td>NaN</td>\n",
       "      <td>15.0</td>\n",
       "      <td>NaN</td>\n",
       "      <td>00:14:52</td>\n",
       "    </tr>\n",
       "    <tr>\n",
       "      <th>3534607</th>\n",
       "      <td>2013-05-13 00:05:02</td>\n",
       "      <td>40.744680</td>\n",
       "      <td>-73.999020</td>\n",
       "      <td>6.0</td>\n",
       "      <td>trip_dist_NA</td>\n",
       "      <td>1.0</td>\n",
       "      <td>2013-05-12 23:59:50</td>\n",
       "      <td>40.733435</td>\n",
       "      <td>-74.002994</td>\n",
       "      <td>NaN</td>\n",
       "      <td>7.0</td>\n",
       "      <td>NaN</td>\n",
       "      <td>00:05:12</td>\n",
       "    </tr>\n",
       "    <tr>\n",
       "      <th>3534612</th>\n",
       "      <td>2013-05-13 00:09:30</td>\n",
       "      <td>40.706187</td>\n",
       "      <td>-74.013075</td>\n",
       "      <td>9.5</td>\n",
       "      <td>trip_dist_NA</td>\n",
       "      <td>1.0</td>\n",
       "      <td>2013-05-12 23:59:52</td>\n",
       "      <td>40.729327</td>\n",
       "      <td>-73.992207</td>\n",
       "      <td>NaN</td>\n",
       "      <td>10.5</td>\n",
       "      <td>NaN</td>\n",
       "      <td>00:09:38</td>\n",
       "    </tr>\n",
       "    <tr>\n",
       "      <th>3534626</th>\n",
       "      <td>2013-05-13 00:00:28</td>\n",
       "      <td>40.757354</td>\n",
       "      <td>-73.967262</td>\n",
       "      <td>58.0</td>\n",
       "      <td>trip_dist_NA</td>\n",
       "      <td>1.0</td>\n",
       "      <td>2013-05-12 23:59:58</td>\n",
       "      <td>40.757354</td>\n",
       "      <td>-73.967262</td>\n",
       "      <td>11.6</td>\n",
       "      <td>69.6</td>\n",
       "      <td>NaN</td>\n",
       "      <td>00:00:30</td>\n",
       "    </tr>\n",
       "  </tbody>\n",
       "</table>\n",
       "</div>"
      ],
      "text/plain": [
       "           dropoff_datetime  dropoff_latitude  dropoff_longitude  fare_amount  \\\n",
       "3534334 2013-05-13 00:03:12         40.749736         -73.978713          5.5   \n",
       "3534517 2013-05-13 00:13:53         40.690212         -73.978735         14.0   \n",
       "3534607 2013-05-13 00:05:02         40.744680         -73.999020          6.0   \n",
       "3534612 2013-05-13 00:09:30         40.706187         -74.013075          9.5   \n",
       "3534626 2013-05-13 00:00:28         40.757354         -73.967262         58.0   \n",
       "\n",
       "                 flag  passenger_count     pickup_datetime  pickup_latitude  \\\n",
       "3534334  trip_dist_NA              1.0 2013-05-12 23:58:16        40.754459   \n",
       "3534517  trip_dist_NA              1.0 2013-05-12 23:59:01        40.733297   \n",
       "3534607  trip_dist_NA              1.0 2013-05-12 23:59:50        40.733435   \n",
       "3534612  trip_dist_NA              1.0 2013-05-12 23:59:52        40.729327   \n",
       "3534626  trip_dist_NA              1.0 2013-05-12 23:59:58        40.757354   \n",
       "\n",
       "         pickup_longitude  tip_amount  total_amount  trip_distance  trip_time  \n",
       "3534334        -73.964803         NaN           6.5            NaN   00:04:56  \n",
       "3534517        -73.987381         NaN          15.0            NaN   00:14:52  \n",
       "3534607        -74.002994         NaN           7.0            NaN   00:05:12  \n",
       "3534612        -73.992207         NaN          10.5            NaN   00:09:38  \n",
       "3534626        -73.967262        11.6          69.6            NaN   00:00:30  "
      ]
     },
     "execution_count": 27,
     "metadata": {},
     "output_type": "execute_result"
    }
   ],
   "source": [
    "anomaly = anomaly.append(data.loc[(data['trip_distance'].isnull())])\n",
    "anomaly.loc[data.loc[(data['trip_distance'].isnull())].index,'flag'] = 'trip_dist_NA'\n",
    "anomaly.tail()"
   ]
  },
  {
   "cell_type": "code",
   "execution_count": 28,
   "metadata": {
    "collapsed": false
   },
   "outputs": [],
   "source": [
    "data = data.drop(anomaly.index, errors='ignore') # ignore uncontained labels"
   ]
  },
  {
   "cell_type": "code",
   "execution_count": 29,
   "metadata": {
    "collapsed": false
   },
   "outputs": [
    {
     "data": {
      "text/plain": [
       "pickup_datetime            0\n",
       "dropoff_datetime           0\n",
       "passenger_count            9\n",
       "trip_distance              0\n",
       "pickup_longitude           0\n",
       "pickup_latitude            0\n",
       "dropoff_longitude          0\n",
       "dropoff_latitude           0\n",
       "fare_amount                0\n",
       "tip_amount           1638285\n",
       "total_amount               0\n",
       "trip_time               2922\n",
       "dtype: int64"
      ]
     },
     "execution_count": 29,
     "metadata": {},
     "output_type": "execute_result"
    }
   ],
   "source": [
    "data.isnull().sum()"
   ]
  },
  {
   "cell_type": "code",
   "execution_count": 30,
   "metadata": {
    "collapsed": false
   },
   "outputs": [
    {
     "data": {
      "text/plain": [
       "0.028020455877726502"
      ]
     },
     "execution_count": 30,
     "metadata": {},
     "output_type": "execute_result"
    }
   ],
   "source": [
    "1-len(data)/(len(data)+len(anomaly))"
   ]
  },
  {
   "cell_type": "markdown",
   "metadata": {},
   "source": [
    "## Drop all the columns with trip_time.isnull() "
   ]
  },
  {
   "cell_type": "code",
   "execution_count": 31,
   "metadata": {
    "collapsed": false
   },
   "outputs": [
    {
     "data": {
      "text/html": [
       "<div>\n",
       "<table border=\"1\" class=\"dataframe\">\n",
       "  <thead>\n",
       "    <tr style=\"text-align: right;\">\n",
       "      <th></th>\n",
       "      <th>dropoff_datetime</th>\n",
       "      <th>dropoff_latitude</th>\n",
       "      <th>dropoff_longitude</th>\n",
       "      <th>fare_amount</th>\n",
       "      <th>flag</th>\n",
       "      <th>passenger_count</th>\n",
       "      <th>pickup_datetime</th>\n",
       "      <th>pickup_latitude</th>\n",
       "      <th>pickup_longitude</th>\n",
       "      <th>tip_amount</th>\n",
       "      <th>total_amount</th>\n",
       "      <th>trip_distance</th>\n",
       "      <th>trip_time</th>\n",
       "    </tr>\n",
       "  </thead>\n",
       "  <tbody>\n",
       "    <tr>\n",
       "      <th>3525186</th>\n",
       "      <td>2013-05-12 23:22:39</td>\n",
       "      <td>40.763210</td>\n",
       "      <td>-73.962524</td>\n",
       "      <td>7.0</td>\n",
       "      <td>trip_time_NA</td>\n",
       "      <td>1.0</td>\n",
       "      <td>2013-05-12 23:22:39</td>\n",
       "      <td>40.759930</td>\n",
       "      <td>-73.975325</td>\n",
       "      <td>NaN</td>\n",
       "      <td>8.0</td>\n",
       "      <td>1.30</td>\n",
       "      <td>NaT</td>\n",
       "    </tr>\n",
       "    <tr>\n",
       "      <th>3529613</th>\n",
       "      <td>2013-05-12 23:38:46</td>\n",
       "      <td>40.734109</td>\n",
       "      <td>-73.983598</td>\n",
       "      <td>5.0</td>\n",
       "      <td>trip_time_NA</td>\n",
       "      <td>1.0</td>\n",
       "      <td>2013-05-12 23:38:46</td>\n",
       "      <td>40.742107</td>\n",
       "      <td>-73.974624</td>\n",
       "      <td>1.2</td>\n",
       "      <td>7.2</td>\n",
       "      <td>1.00</td>\n",
       "      <td>NaT</td>\n",
       "    </tr>\n",
       "    <tr>\n",
       "      <th>3530873</th>\n",
       "      <td>2013-05-12 23:43:59</td>\n",
       "      <td>40.643328</td>\n",
       "      <td>-73.950397</td>\n",
       "      <td>34.0</td>\n",
       "      <td>trip_time_NA</td>\n",
       "      <td>1.0</td>\n",
       "      <td>2013-05-12 23:43:59</td>\n",
       "      <td>40.727880</td>\n",
       "      <td>-74.001728</td>\n",
       "      <td>NaN</td>\n",
       "      <td>35.0</td>\n",
       "      <td>9.90</td>\n",
       "      <td>NaT</td>\n",
       "    </tr>\n",
       "    <tr>\n",
       "      <th>3531118</th>\n",
       "      <td>2013-05-12 23:45:00</td>\n",
       "      <td>40.755222</td>\n",
       "      <td>-73.928660</td>\n",
       "      <td>3.0</td>\n",
       "      <td>trip_time_NA</td>\n",
       "      <td>1.0</td>\n",
       "      <td>2013-05-12 23:45:00</td>\n",
       "      <td>40.753865</td>\n",
       "      <td>-73.929723</td>\n",
       "      <td>NaN</td>\n",
       "      <td>4.0</td>\n",
       "      <td>0.15</td>\n",
       "      <td>NaT</td>\n",
       "    </tr>\n",
       "    <tr>\n",
       "      <th>3531331</th>\n",
       "      <td>2013-05-12 23:45:56</td>\n",
       "      <td>40.773872</td>\n",
       "      <td>-73.948701</td>\n",
       "      <td>5.5</td>\n",
       "      <td>trip_time_NA</td>\n",
       "      <td>1.0</td>\n",
       "      <td>2013-05-12 23:45:56</td>\n",
       "      <td>40.766625</td>\n",
       "      <td>-73.962938</td>\n",
       "      <td>NaN</td>\n",
       "      <td>6.5</td>\n",
       "      <td>1.20</td>\n",
       "      <td>NaT</td>\n",
       "    </tr>\n",
       "  </tbody>\n",
       "</table>\n",
       "</div>"
      ],
      "text/plain": [
       "           dropoff_datetime  dropoff_latitude  dropoff_longitude  fare_amount  \\\n",
       "3525186 2013-05-12 23:22:39         40.763210         -73.962524          7.0   \n",
       "3529613 2013-05-12 23:38:46         40.734109         -73.983598          5.0   \n",
       "3530873 2013-05-12 23:43:59         40.643328         -73.950397         34.0   \n",
       "3531118 2013-05-12 23:45:00         40.755222         -73.928660          3.0   \n",
       "3531331 2013-05-12 23:45:56         40.773872         -73.948701          5.5   \n",
       "\n",
       "                 flag  passenger_count     pickup_datetime  pickup_latitude  \\\n",
       "3525186  trip_time_NA              1.0 2013-05-12 23:22:39        40.759930   \n",
       "3529613  trip_time_NA              1.0 2013-05-12 23:38:46        40.742107   \n",
       "3530873  trip_time_NA              1.0 2013-05-12 23:43:59        40.727880   \n",
       "3531118  trip_time_NA              1.0 2013-05-12 23:45:00        40.753865   \n",
       "3531331  trip_time_NA              1.0 2013-05-12 23:45:56        40.766625   \n",
       "\n",
       "         pickup_longitude  tip_amount  total_amount  trip_distance  trip_time  \n",
       "3525186        -73.975325         NaN           8.0           1.30        NaT  \n",
       "3529613        -73.974624         1.2           7.2           1.00        NaT  \n",
       "3530873        -74.001728         NaN          35.0           9.90        NaT  \n",
       "3531118        -73.929723         NaN           4.0           0.15        NaT  \n",
       "3531331        -73.962938         NaN           6.5           1.20        NaT  "
      ]
     },
     "execution_count": 31,
     "metadata": {},
     "output_type": "execute_result"
    }
   ],
   "source": [
    "anomaly = anomaly.append(data.loc[(data['trip_time'].isnull())])\n",
    "anomaly.loc[data.loc[(data['trip_time'].isnull())].index,'flag'] = 'trip_time_NA'\n",
    "anomaly.tail()"
   ]
  },
  {
   "cell_type": "code",
   "execution_count": 32,
   "metadata": {
    "collapsed": true
   },
   "outputs": [],
   "source": [
    "data = data.drop(anomaly.index, errors='ignore') # ignore uncontained labels"
   ]
  },
  {
   "cell_type": "markdown",
   "metadata": {},
   "source": [
    "# This is quite unreasonable. We have dropoff_datetime = pickup_datetime and the geo-coords of pickup and dropoff do not match! trip_time equals NaT here."
   ]
  },
  {
   "cell_type": "code",
   "execution_count": 33,
   "metadata": {
    "collapsed": false
   },
   "outputs": [
    {
     "data": {
      "text/html": [
       "<div>\n",
       "<table border=\"1\" class=\"dataframe\">\n",
       "  <thead>\n",
       "    <tr style=\"text-align: right;\">\n",
       "      <th></th>\n",
       "      <th>count</th>\n",
       "      <th>mean</th>\n",
       "      <th>std</th>\n",
       "      <th>min</th>\n",
       "      <th>25%</th>\n",
       "      <th>50%</th>\n",
       "      <th>75%</th>\n",
       "      <th>max</th>\n",
       "    </tr>\n",
       "  </thead>\n",
       "  <tbody>\n",
       "    <tr>\n",
       "      <th>passenger_count</th>\n",
       "      <td>3.43266e+06</td>\n",
       "      <td>1.71448</td>\n",
       "      <td>1.38599</td>\n",
       "      <td>1</td>\n",
       "      <td>1</td>\n",
       "      <td>1</td>\n",
       "      <td>2</td>\n",
       "      <td>6</td>\n",
       "    </tr>\n",
       "    <tr>\n",
       "      <th>trip_distance</th>\n",
       "      <td>3.43267e+06</td>\n",
       "      <td>2.91113</td>\n",
       "      <td>3.34836</td>\n",
       "      <td>0.01</td>\n",
       "      <td>1.09</td>\n",
       "      <td>1.8</td>\n",
       "      <td>3.21</td>\n",
       "      <td>100</td>\n",
       "    </tr>\n",
       "    <tr>\n",
       "      <th>pickup_longitude</th>\n",
       "      <td>3.43267e+06</td>\n",
       "      <td>-73.9154</td>\n",
       "      <td>2.68755</td>\n",
       "      <td>-736.5</td>\n",
       "      <td>-73.9925</td>\n",
       "      <td>-73.9821</td>\n",
       "      <td>-73.968</td>\n",
       "      <td>40.8679</td>\n",
       "    </tr>\n",
       "    <tr>\n",
       "      <th>pickup_latitude</th>\n",
       "      <td>3.43267e+06</td>\n",
       "      <td>40.6919</td>\n",
       "      <td>2.91217</td>\n",
       "      <td>-74.0378</td>\n",
       "      <td>40.7365</td>\n",
       "      <td>40.7534</td>\n",
       "      <td>40.7679</td>\n",
       "      <td>2047.45</td>\n",
       "    </tr>\n",
       "    <tr>\n",
       "      <th>dropoff_longitude</th>\n",
       "      <td>3.43267e+06</td>\n",
       "      <td>-73.913</td>\n",
       "      <td>2.98107</td>\n",
       "      <td>-740.173</td>\n",
       "      <td>-73.9918</td>\n",
       "      <td>-73.9806</td>\n",
       "      <td>-73.9651</td>\n",
       "      <td>2387</td>\n",
       "    </tr>\n",
       "    <tr>\n",
       "      <th>dropoff_latitude</th>\n",
       "      <td>3.43267e+06</td>\n",
       "      <td>40.6899</td>\n",
       "      <td>3.43265</td>\n",
       "      <td>-3084.28</td>\n",
       "      <td>40.7353</td>\n",
       "      <td>40.7538</td>\n",
       "      <td>40.7686</td>\n",
       "      <td>473.982</td>\n",
       "    </tr>\n",
       "    <tr>\n",
       "      <th>fare_amount</th>\n",
       "      <td>3.43267e+06</td>\n",
       "      <td>12.4022</td>\n",
       "      <td>9.71666</td>\n",
       "      <td>2.5</td>\n",
       "      <td>6.5</td>\n",
       "      <td>9.5</td>\n",
       "      <td>14.5</td>\n",
       "      <td>382.75</td>\n",
       "    </tr>\n",
       "    <tr>\n",
       "      <th>tip_amount</th>\n",
       "      <td>1.79648e+06</td>\n",
       "      <td>2.59194</td>\n",
       "      <td>2.29176</td>\n",
       "      <td>0.01</td>\n",
       "      <td>1.3</td>\n",
       "      <td>2</td>\n",
       "      <td>3</td>\n",
       "      <td>155.5</td>\n",
       "    </tr>\n",
       "    <tr>\n",
       "      <th>total_amount</th>\n",
       "      <td>3.43267e+06</td>\n",
       "      <td>14.834</td>\n",
       "      <td>11.7278</td>\n",
       "      <td>2.5</td>\n",
       "      <td>8</td>\n",
       "      <td>11.3</td>\n",
       "      <td>16.7</td>\n",
       "      <td>382.76</td>\n",
       "    </tr>\n",
       "    <tr>\n",
       "      <th>trip_time</th>\n",
       "      <td>3432668</td>\n",
       "      <td>0 days 00:13:02.243506</td>\n",
       "      <td>0 days 00:27:26.535018</td>\n",
       "      <td>0 days 00:00:01</td>\n",
       "      <td>0 days 00:06:24</td>\n",
       "      <td>0 days 00:10:34</td>\n",
       "      <td>0 days 00:16:50</td>\n",
       "      <td>11 days 00:45:28</td>\n",
       "    </tr>\n",
       "  </tbody>\n",
       "</table>\n",
       "</div>"
      ],
      "text/plain": [
       "                         count                    mean  \\\n",
       "passenger_count    3.43266e+06                 1.71448   \n",
       "trip_distance      3.43267e+06                 2.91113   \n",
       "pickup_longitude   3.43267e+06                -73.9154   \n",
       "pickup_latitude    3.43267e+06                 40.6919   \n",
       "dropoff_longitude  3.43267e+06                 -73.913   \n",
       "dropoff_latitude   3.43267e+06                 40.6899   \n",
       "fare_amount        3.43267e+06                 12.4022   \n",
       "tip_amount         1.79648e+06                 2.59194   \n",
       "total_amount       3.43267e+06                  14.834   \n",
       "trip_time              3432668  0 days 00:13:02.243506   \n",
       "\n",
       "                                      std              min              25%  \\\n",
       "passenger_count                   1.38599                1                1   \n",
       "trip_distance                     3.34836             0.01             1.09   \n",
       "pickup_longitude                  2.68755           -736.5         -73.9925   \n",
       "pickup_latitude                   2.91217         -74.0378          40.7365   \n",
       "dropoff_longitude                 2.98107         -740.173         -73.9918   \n",
       "dropoff_latitude                  3.43265         -3084.28          40.7353   \n",
       "fare_amount                       9.71666              2.5              6.5   \n",
       "tip_amount                        2.29176             0.01              1.3   \n",
       "total_amount                      11.7278              2.5                8   \n",
       "trip_time          0 days 00:27:26.535018  0 days 00:00:01  0 days 00:06:24   \n",
       "\n",
       "                               50%              75%               max  \n",
       "passenger_count                  1                2                 6  \n",
       "trip_distance                  1.8             3.21               100  \n",
       "pickup_longitude          -73.9821          -73.968           40.8679  \n",
       "pickup_latitude            40.7534          40.7679           2047.45  \n",
       "dropoff_longitude         -73.9806         -73.9651              2387  \n",
       "dropoff_latitude           40.7538          40.7686           473.982  \n",
       "fare_amount                    9.5             14.5            382.75  \n",
       "tip_amount                       2                3             155.5  \n",
       "total_amount                  11.3             16.7            382.76  \n",
       "trip_time          0 days 00:10:34  0 days 00:16:50  11 days 00:45:28  "
      ]
     },
     "execution_count": 33,
     "metadata": {},
     "output_type": "execute_result"
    }
   ],
   "source": [
    "data.describe().transpose()"
   ]
  },
  {
   "cell_type": "markdown",
   "metadata": {},
   "source": [
    "## After filtering regarding the trip_time"
   ]
  },
  {
   "cell_type": "code",
   "execution_count": 34,
   "metadata": {
    "collapsed": false
   },
   "outputs": [
    {
     "data": {
      "text/plain": [
       "(array([  4.14860000e+04,   2.47244000e+05,   4.11413000e+05,\n",
       "          4.47479000e+05,   4.18108000e+05,   3.64416000e+05,\n",
       "          3.02291000e+05,   2.45960000e+05,   1.96811000e+05,\n",
       "          1.57134000e+05,   1.23172000e+05,   9.75690000e+04,\n",
       "          7.55190000e+04,   5.99140000e+04,   4.69780000e+04,\n",
       "          3.66970000e+04,   2.90370000e+04,   2.32160000e+04,\n",
       "          1.81990000e+04,   1.47690000e+04,   1.18490000e+04,\n",
       "          9.75400000e+03,   7.90100000e+03,   6.83100000e+03,\n",
       "          5.64600000e+03,   4.78400000e+03,   4.11200000e+03,\n",
       "          3.75100000e+03,   3.13700000e+03,   2.76200000e+03,\n",
       "          2.28500000e+03,   1.89500000e+03,   1.59500000e+03,\n",
       "          1.43000000e+03,   1.15200000e+03,   1.03000000e+03,\n",
       "          8.11000000e+02,   7.01000000e+02,   5.63000000e+02,\n",
       "          4.33000000e+02,   3.88000000e+02,   3.50000000e+02,\n",
       "          2.88000000e+02,   2.23000000e+02,   2.36000000e+02,\n",
       "          1.84000000e+02,   1.59000000e+02,   1.33000000e+02,\n",
       "          1.06000000e+02,   1.35000000e+02]),\n",
       " array([   0.,    2.,    4.,    6.,    8.,   10.,   12.,   14.,   16.,\n",
       "          18.,   20.,   22.,   24.,   26.,   28.,   30.,   32.,   34.,\n",
       "          36.,   38.,   40.,   42.,   44.,   46.,   48.,   50.,   52.,\n",
       "          54.,   56.,   58.,   60.,   62.,   64.,   66.,   68.,   70.,\n",
       "          72.,   74.,   76.,   78.,   80.,   82.,   84.,   86.,   88.,\n",
       "          90.,   92.,   94.,   96.,   98.,  100.]),\n",
       " <a list of 50 Patch objects>)"
      ]
     },
     "execution_count": 34,
     "metadata": {},
     "output_type": "execute_result"
    },
    {
     "data": {
      "image/png": "[encoded data removed]",
      "text/plain": [
       "<matplotlib.figure.Figure at 0x7f4ce75edd30>"
      ]
     },
     "metadata": {},
     "output_type": "display_data"
    }
   ],
   "source": [
    "plt.hist(data.trip_time.values / np.timedelta64(1, 'm'), bins=50, range=[0,100])"
   ]
  },
  {
   "cell_type": "code",
   "execution_count": 35,
   "metadata": {
    "collapsed": false
   },
   "outputs": [
    {
     "name": "stdout",
     "output_type": "stream",
     "text": [
      "count                   3432668\n",
      "mean     0 days 00:13:02.243506\n",
      "std      0 days 00:27:26.535018\n",
      "min             0 days 00:00:01\n",
      "25%             0 days 00:06:24\n",
      "50%             0 days 00:10:34\n",
      "75%             0 days 00:16:50\n",
      "max            11 days 00:45:28\n",
      "Name: trip_time, dtype: object\n"
     ]
    },
    {
     "data": {
      "text/plain": [
       "array([  1.7945    ,   3.        ,   4.        ,   5.        ,\n",
       "         6.4       ,  10.56666667,  16.83333333,  21.        ,\n",
       "        31.        ,  49.08883333])"
      ]
     },
     "execution_count": 35,
     "metadata": {},
     "output_type": "execute_result"
    }
   ],
   "source": [
    "print(data.trip_time.describe())\n",
    "np.percentile(data.trip_time, [1,5,10,15,25,50,75,85,95,99]) / np.timedelta64(1,'m')"
   ]
  },
  {
   "cell_type": "markdown",
   "metadata": {},
   "source": [
    "## We sometimes have some unreasonably small trip_times."
   ]
  },
  {
   "cell_type": "code",
   "execution_count": 36,
   "metadata": {
    "collapsed": false
   },
   "outputs": [
    {
     "data": {
      "text/html": [
       "<div>\n",
       "<table border=\"1\" class=\"dataframe\">\n",
       "  <thead>\n",
       "    <tr style=\"text-align: right;\">\n",
       "      <th></th>\n",
       "      <th>dropoff_datetime</th>\n",
       "      <th>dropoff_latitude</th>\n",
       "      <th>dropoff_longitude</th>\n",
       "      <th>fare_amount</th>\n",
       "      <th>flag</th>\n",
       "      <th>passenger_count</th>\n",
       "      <th>pickup_datetime</th>\n",
       "      <th>pickup_latitude</th>\n",
       "      <th>pickup_longitude</th>\n",
       "      <th>tip_amount</th>\n",
       "      <th>total_amount</th>\n",
       "      <th>trip_distance</th>\n",
       "      <th>trip_time</th>\n",
       "    </tr>\n",
       "  </thead>\n",
       "  <tbody>\n",
       "    <tr>\n",
       "      <th>3525186</th>\n",
       "      <td>2013-05-12 23:22:39</td>\n",
       "      <td>40.763210</td>\n",
       "      <td>-73.962524</td>\n",
       "      <td>7.0</td>\n",
       "      <td>trip_time_NA</td>\n",
       "      <td>1.0</td>\n",
       "      <td>2013-05-12 23:22:39</td>\n",
       "      <td>40.759930</td>\n",
       "      <td>-73.975325</td>\n",
       "      <td>NaN</td>\n",
       "      <td>8.0</td>\n",
       "      <td>1.30</td>\n",
       "      <td>NaT</td>\n",
       "    </tr>\n",
       "    <tr>\n",
       "      <th>3529613</th>\n",
       "      <td>2013-05-12 23:38:46</td>\n",
       "      <td>40.734109</td>\n",
       "      <td>-73.983598</td>\n",
       "      <td>5.0</td>\n",
       "      <td>trip_time_NA</td>\n",
       "      <td>1.0</td>\n",
       "      <td>2013-05-12 23:38:46</td>\n",
       "      <td>40.742107</td>\n",
       "      <td>-73.974624</td>\n",
       "      <td>1.2</td>\n",
       "      <td>7.2</td>\n",
       "      <td>1.00</td>\n",
       "      <td>NaT</td>\n",
       "    </tr>\n",
       "    <tr>\n",
       "      <th>3530873</th>\n",
       "      <td>2013-05-12 23:43:59</td>\n",
       "      <td>40.643328</td>\n",
       "      <td>-73.950397</td>\n",
       "      <td>34.0</td>\n",
       "      <td>trip_time_NA</td>\n",
       "      <td>1.0</td>\n",
       "      <td>2013-05-12 23:43:59</td>\n",
       "      <td>40.727880</td>\n",
       "      <td>-74.001728</td>\n",
       "      <td>NaN</td>\n",
       "      <td>35.0</td>\n",
       "      <td>9.90</td>\n",
       "      <td>NaT</td>\n",
       "    </tr>\n",
       "    <tr>\n",
       "      <th>3531118</th>\n",
       "      <td>2013-05-12 23:45:00</td>\n",
       "      <td>40.755222</td>\n",
       "      <td>-73.928660</td>\n",
       "      <td>3.0</td>\n",
       "      <td>trip_time_NA</td>\n",
       "      <td>1.0</td>\n",
       "      <td>2013-05-12 23:45:00</td>\n",
       "      <td>40.753865</td>\n",
       "      <td>-73.929723</td>\n",
       "      <td>NaN</td>\n",
       "      <td>4.0</td>\n",
       "      <td>0.15</td>\n",
       "      <td>NaT</td>\n",
       "    </tr>\n",
       "    <tr>\n",
       "      <th>3531331</th>\n",
       "      <td>2013-05-12 23:45:56</td>\n",
       "      <td>40.773872</td>\n",
       "      <td>-73.948701</td>\n",
       "      <td>5.5</td>\n",
       "      <td>trip_time_NA</td>\n",
       "      <td>1.0</td>\n",
       "      <td>2013-05-12 23:45:56</td>\n",
       "      <td>40.766625</td>\n",
       "      <td>-73.962938</td>\n",
       "      <td>NaN</td>\n",
       "      <td>6.5</td>\n",
       "      <td>1.20</td>\n",
       "      <td>NaT</td>\n",
       "    </tr>\n",
       "  </tbody>\n",
       "</table>\n",
       "</div>"
      ],
      "text/plain": [
       "           dropoff_datetime  dropoff_latitude  dropoff_longitude  fare_amount  \\\n",
       "3525186 2013-05-12 23:22:39         40.763210         -73.962524          7.0   \n",
       "3529613 2013-05-12 23:38:46         40.734109         -73.983598          5.0   \n",
       "3530873 2013-05-12 23:43:59         40.643328         -73.950397         34.0   \n",
       "3531118 2013-05-12 23:45:00         40.755222         -73.928660          3.0   \n",
       "3531331 2013-05-12 23:45:56         40.773872         -73.948701          5.5   \n",
       "\n",
       "                 flag  passenger_count     pickup_datetime  pickup_latitude  \\\n",
       "3525186  trip_time_NA              1.0 2013-05-12 23:22:39        40.759930   \n",
       "3529613  trip_time_NA              1.0 2013-05-12 23:38:46        40.742107   \n",
       "3530873  trip_time_NA              1.0 2013-05-12 23:43:59        40.727880   \n",
       "3531118  trip_time_NA              1.0 2013-05-12 23:45:00        40.753865   \n",
       "3531331  trip_time_NA              1.0 2013-05-12 23:45:56        40.766625   \n",
       "\n",
       "         pickup_longitude  tip_amount  total_amount  trip_distance  trip_time  \n",
       "3525186        -73.975325         NaN           8.0           1.30        NaT  \n",
       "3529613        -73.974624         1.2           7.2           1.00        NaT  \n",
       "3530873        -74.001728         NaN          35.0           9.90        NaT  \n",
       "3531118        -73.929723         NaN           4.0           0.15        NaT  \n",
       "3531331        -73.962938         NaN           6.5           1.20        NaT  "
      ]
     },
     "execution_count": 36,
     "metadata": {},
     "output_type": "execute_result"
    }
   ],
   "source": [
    "anomaly.tail()"
   ]
  },
  {
   "cell_type": "code",
   "execution_count": 37,
   "metadata": {
    "collapsed": false
   },
   "outputs": [
    {
     "data": {
      "text/plain": [
       "0.028847133166903904"
      ]
     },
     "execution_count": 37,
     "metadata": {},
     "output_type": "execute_result"
    }
   ],
   "source": [
    "1-len(data)/(len(data)+len(anomaly))"
   ]
  },
  {
   "cell_type": "markdown",
   "metadata": {},
   "source": [
    "## <font color = 'blue'> So all in all, we dropped less than 3% of the data. </font color>"
   ]
  },
  {
   "cell_type": "code",
   "execution_count": 38,
   "metadata": {
    "collapsed": false
   },
   "outputs": [
    {
     "data": {
      "text/plain": [
       "pickup_datetime            0\n",
       "dropoff_datetime           0\n",
       "passenger_count            9\n",
       "trip_distance              0\n",
       "pickup_longitude           0\n",
       "pickup_latitude            0\n",
       "dropoff_longitude          0\n",
       "dropoff_latitude           0\n",
       "fare_amount                0\n",
       "tip_amount           1636185\n",
       "total_amount               0\n",
       "trip_time                  0\n",
       "dtype: int64"
      ]
     },
     "execution_count": 38,
     "metadata": {},
     "output_type": "execute_result"
    }
   ],
   "source": [
    "data.isnull().sum()"
   ]
  },
  {
   "cell_type": "markdown",
   "metadata": {},
   "source": [
    "## We can deal with that. External investigation of the anomaly is recommended."
   ]
  },
  {
   "cell_type": "markdown",
   "metadata": {},
   "source": [
    "# Start validating the non-anomaly data: Valid trip_time, valid distance?"
   ]
  },
  {
   "cell_type": "markdown",
   "metadata": {},
   "source": [
    "Correct the avg amount for the initial charge. "
   ]
  },
  {
   "cell_type": "code",
   "execution_count": 39,
   "metadata": {
    "collapsed": true
   },
   "outputs": [],
   "source": [
    "data['avg_amount_per_minute'] = (data.fare_amount-2.5) / (data.trip_time / np.timedelta64(1,'m'))"
   ]
  },
  {
   "cell_type": "code",
   "execution_count": 40,
   "metadata": {
    "collapsed": false
   },
   "outputs": [
    {
     "data": {
      "text/plain": [
       "count    3.432668e+06\n",
       "mean     7.865239e-01\n",
       "std      6.410160e+00\n",
       "min      0.000000e+00\n",
       "25%      5.769231e-01\n",
       "50%      6.629834e-01\n",
       "75%      7.857143e-01\n",
       "max      6.450000e+03\n",
       "Name: avg_amount_per_minute, dtype: float64"
      ]
     },
     "execution_count": 40,
     "metadata": {},
     "output_type": "execute_result"
    }
   ],
   "source": [
    "data.avg_amount_per_minute.describe()"
   ]
  },
  {
   "cell_type": "markdown",
   "metadata": {},
   "source": [
    "Distribution of the avg_amount_per_minute"
   ]
  },
  {
   "cell_type": "code",
   "execution_count": 41,
   "metadata": {
    "collapsed": false
   },
   "outputs": [
    {
     "name": "stdout",
     "output_type": "stream",
     "text": [
      "Min:0.0\n",
      "Max:6450.0\n"
     ]
    },
    {
     "data": {
      "image/png": "[encoded data removed]",
      "text/plain": [
       "<matplotlib.figure.Figure at 0x7f4ce75efdd8>"
      ]
     },
     "metadata": {},
     "output_type": "display_data"
    }
   ],
   "source": [
    "h = data.avg_amount_per_minute\n",
    "plt.figure(figsize=(20,10))\n",
    "plt.hist(h, normed=False, stacked=True, bins=40, range=[0 , 100], )\n",
    "    #, histtype='stepfilled')\n",
    "plt.yscale('log')\n",
    "plt.ylabel('log(freq x)', fontsize=40)\n",
    "plt.xlabel('x = avg_amount_per_minute', fontsize=40)\n",
    "print('Min:' +  str(min(h)) + '\\nMax:' +  str(max(h)))\n",
    "plt.yticks(fontsize=40)\n",
    "plt.xticks(fontsize=40)\n",
    "plt.locator_params(axis = 'x', nbins = 20)\n",
    "plt.show()"
   ]
  },
  {
   "cell_type": "code",
   "execution_count": 42,
   "metadata": {
    "collapsed": false
   },
   "outputs": [
    {
     "data": {
      "text/html": [
       "<div>\n",
       "<table border=\"1\" class=\"dataframe\">\n",
       "  <thead>\n",
       "    <tr style=\"text-align: right;\">\n",
       "      <th></th>\n",
       "      <th>pickup_datetime</th>\n",
       "      <th>dropoff_datetime</th>\n",
       "      <th>passenger_count</th>\n",
       "      <th>trip_distance</th>\n",
       "      <th>pickup_longitude</th>\n",
       "      <th>pickup_latitude</th>\n",
       "      <th>dropoff_longitude</th>\n",
       "      <th>dropoff_latitude</th>\n",
       "      <th>fare_amount</th>\n",
       "      <th>tip_amount</th>\n",
       "      <th>total_amount</th>\n",
       "      <th>trip_time</th>\n",
       "      <th>avg_amount_per_minute</th>\n",
       "    </tr>\n",
       "  </thead>\n",
       "  <tbody>\n",
       "    <tr>\n",
       "      <th>0</th>\n",
       "      <td>2013-05-06</td>\n",
       "      <td>2013-05-06 00:10:00</td>\n",
       "      <td>1.0</td>\n",
       "      <td>2.65</td>\n",
       "      <td>-73.981070</td>\n",
       "      <td>40.766047</td>\n",
       "      <td>-73.981362</td>\n",
       "      <td>40.738092</td>\n",
       "      <td>10.5</td>\n",
       "      <td>2.20</td>\n",
       "      <td>13.70</td>\n",
       "      <td>00:10:00</td>\n",
       "      <td>0.800000</td>\n",
       "    </tr>\n",
       "    <tr>\n",
       "      <th>1</th>\n",
       "      <td>2013-05-06</td>\n",
       "      <td>2013-05-06 00:06:00</td>\n",
       "      <td>5.0</td>\n",
       "      <td>1.86</td>\n",
       "      <td>-73.986312</td>\n",
       "      <td>40.760487</td>\n",
       "      <td>-74.005082</td>\n",
       "      <td>40.743372</td>\n",
       "      <td>7.5</td>\n",
       "      <td>NaN</td>\n",
       "      <td>8.50</td>\n",
       "      <td>00:06:00</td>\n",
       "      <td>0.833333</td>\n",
       "    </tr>\n",
       "    <tr>\n",
       "      <th>2</th>\n",
       "      <td>2013-05-06</td>\n",
       "      <td>2013-05-06 00:04:00</td>\n",
       "      <td>1.0</td>\n",
       "      <td>0.90</td>\n",
       "      <td>-73.989388</td>\n",
       "      <td>40.731577</td>\n",
       "      <td>-73.986102</td>\n",
       "      <td>40.740732</td>\n",
       "      <td>5.5</td>\n",
       "      <td>NaN</td>\n",
       "      <td>6.50</td>\n",
       "      <td>00:04:00</td>\n",
       "      <td>0.750000</td>\n",
       "    </tr>\n",
       "    <tr>\n",
       "      <th>3</th>\n",
       "      <td>2013-05-06</td>\n",
       "      <td>2013-05-06 00:08:00</td>\n",
       "      <td>1.0</td>\n",
       "      <td>2.59</td>\n",
       "      <td>-73.994590</td>\n",
       "      <td>40.751857</td>\n",
       "      <td>-73.963470</td>\n",
       "      <td>40.765912</td>\n",
       "      <td>9.5</td>\n",
       "      <td>NaN</td>\n",
       "      <td>10.50</td>\n",
       "      <td>00:08:00</td>\n",
       "      <td>0.875000</td>\n",
       "    </tr>\n",
       "    <tr>\n",
       "      <th>4</th>\n",
       "      <td>2013-05-06</td>\n",
       "      <td>2013-05-06 00:29:00</td>\n",
       "      <td>1.0</td>\n",
       "      <td>18.26</td>\n",
       "      <td>-73.783327</td>\n",
       "      <td>40.648510</td>\n",
       "      <td>-73.974808</td>\n",
       "      <td>40.624810</td>\n",
       "      <td>51.5</td>\n",
       "      <td>6.75</td>\n",
       "      <td>59.25</td>\n",
       "      <td>00:29:00</td>\n",
       "      <td>1.689655</td>\n",
       "    </tr>\n",
       "  </tbody>\n",
       "</table>\n",
       "</div>"
      ],
      "text/plain": [
       "  pickup_datetime    dropoff_datetime  passenger_count  trip_distance  \\\n",
       "0      2013-05-06 2013-05-06 00:10:00              1.0           2.65   \n",
       "1      2013-05-06 2013-05-06 00:06:00              5.0           1.86   \n",
       "2      2013-05-06 2013-05-06 00:04:00              1.0           0.90   \n",
       "3      2013-05-06 2013-05-06 00:08:00              1.0           2.59   \n",
       "4      2013-05-06 2013-05-06 00:29:00              1.0          18.26   \n",
       "\n",
       "   pickup_longitude  pickup_latitude  dropoff_longitude  dropoff_latitude  \\\n",
       "0        -73.981070        40.766047         -73.981362         40.738092   \n",
       "1        -73.986312        40.760487         -74.005082         40.743372   \n",
       "2        -73.989388        40.731577         -73.986102         40.740732   \n",
       "3        -73.994590        40.751857         -73.963470         40.765912   \n",
       "4        -73.783327        40.648510         -73.974808         40.624810   \n",
       "\n",
       "   fare_amount  tip_amount  total_amount  trip_time  avg_amount_per_minute  \n",
       "0         10.5        2.20         13.70   00:10:00               0.800000  \n",
       "1          7.5         NaN          8.50   00:06:00               0.833333  \n",
       "2          5.5         NaN          6.50   00:04:00               0.750000  \n",
       "3          9.5         NaN         10.50   00:08:00               0.875000  \n",
       "4         51.5        6.75         59.25   00:29:00               1.689655  "
      ]
     },
     "execution_count": 42,
     "metadata": {},
     "output_type": "execute_result"
    }
   ],
   "source": [
    "data.head()"
   ]
  },
  {
   "cell_type": "code",
   "execution_count": 43,
   "metadata": {
    "collapsed": false
   },
   "outputs": [
    {
     "data": {
      "text/plain": [
       "0.0001    0.000000\n",
       "0.0100    0.437318\n",
       "0.5000    0.662983\n",
       "0.7500    0.785714\n",
       "0.9500    1.151163\n",
       "0.9750    1.344677\n",
       "0.9900    1.605263\n",
       "0.9950    1.847222\n",
       "Name: avg_amount_per_minute, dtype: float64"
      ]
     },
     "execution_count": 43,
     "metadata": {},
     "output_type": "execute_result"
    }
   ],
   "source": [
    "data.avg_amount_per_minute.quantile([.0001,.01, .5, .75, .95, .975, .99, .995])"
   ]
  },
  {
   "cell_type": "markdown",
   "metadata": {},
   "source": [
    "## Compare to http://www.nyc.gov/html/tlc/html/passenger/taxicab_rate.shtml . We have a strict lower bound with .5 \\$ per minute (taxi waiting in congestion). 2.5 \\$ per minute match roughly     1 mile / minute (no static fares included!). So the taxi would drive 60 mp/h.  We take this as an upper bound."
   ]
  },
  {
   "cell_type": "code",
   "execution_count": 44,
   "metadata": {
    "collapsed": false
   },
   "outputs": [
    {
     "name": "stdout",
     "output_type": "stream",
     "text": [
      "0.06037092404527544\n"
     ]
    }
   ],
   "source": [
    "lb = 0.5 \n",
    "ub = 2.5\n",
    "anomaly = anomaly.append(data.loc[(data['avg_amount_per_minute'] > ub) | \n",
    "                                  (data['avg_amount_per_minute'] < lb)])\n",
    "\n",
    "anomaly.loc[data.loc[(data['avg_amount_per_minute'] > ub)].index,'flag'] = 'too fast'\n",
    "anomaly.loc[data.loc[(data['avg_amount_per_minute'] < lb)].index,'flag'] = 'too slow'\n",
    "data = data.drop(anomaly.index, errors='ignore') # ignore uncontained labels / indices\n",
    "print(1-len(data)/(len(data)+len(anomaly)))"
   ]
  },
  {
   "cell_type": "markdown",
   "metadata": {},
   "source": [
    "So we dropped around 6% of the data."
   ]
  },
  {
   "cell_type": "code",
   "execution_count": 45,
   "metadata": {
    "collapsed": false
   },
   "outputs": [
    {
     "data": {
      "text/plain": [
       "count    3.321243e+06\n",
       "mean     7.244103e-01\n",
       "std      2.173654e-01\n",
       "min      5.000000e-01\n",
       "25%      5.833333e-01\n",
       "50%      6.666667e-01\n",
       "75%      7.916667e-01\n",
       "max      2.500000e+00\n",
       "Name: avg_amount_per_minute, dtype: float64"
      ]
     },
     "execution_count": 45,
     "metadata": {},
     "output_type": "execute_result"
    }
   ],
   "source": [
    "data.avg_amount_per_minute.describe()"
   ]
  },
  {
   "cell_type": "code",
   "execution_count": 46,
   "metadata": {
    "collapsed": false
   },
   "outputs": [
    {
     "data": {
      "text/html": [
       "<div>\n",
       "<table border=\"1\" class=\"dataframe\">\n",
       "  <thead>\n",
       "    <tr style=\"text-align: right;\">\n",
       "      <th></th>\n",
       "      <th>avg_amount_per_minute</th>\n",
       "      <th>dropoff_datetime</th>\n",
       "      <th>dropoff_latitude</th>\n",
       "      <th>dropoff_longitude</th>\n",
       "      <th>fare_amount</th>\n",
       "      <th>flag</th>\n",
       "      <th>passenger_count</th>\n",
       "      <th>pickup_datetime</th>\n",
       "      <th>pickup_latitude</th>\n",
       "      <th>pickup_longitude</th>\n",
       "      <th>tip_amount</th>\n",
       "      <th>total_amount</th>\n",
       "      <th>trip_distance</th>\n",
       "      <th>trip_time</th>\n",
       "    </tr>\n",
       "  </thead>\n",
       "  <tbody>\n",
       "    <tr>\n",
       "      <th>3534347</th>\n",
       "      <td>3.571429</td>\n",
       "      <td>2013-05-13 00:17:15</td>\n",
       "      <td>40.721621</td>\n",
       "      <td>-74.033262</td>\n",
       "      <td>70.0</td>\n",
       "      <td>too fast</td>\n",
       "      <td>1.0</td>\n",
       "      <td>2013-05-12 23:58:21</td>\n",
       "      <td>40.725023</td>\n",
       "      <td>-74.007006</td>\n",
       "      <td>2.00</td>\n",
       "      <td>80.25</td>\n",
       "      <td>3.40</td>\n",
       "      <td>00:18:54</td>\n",
       "    </tr>\n",
       "    <tr>\n",
       "      <th>3534376</th>\n",
       "      <td>297.000000</td>\n",
       "      <td>2013-05-12 23:58:46</td>\n",
       "      <td>40.761277</td>\n",
       "      <td>-73.993425</td>\n",
       "      <td>52.0</td>\n",
       "      <td>too fast</td>\n",
       "      <td>1.0</td>\n",
       "      <td>2013-05-12 23:58:36</td>\n",
       "      <td>40.761278</td>\n",
       "      <td>-73.993303</td>\n",
       "      <td>11.55</td>\n",
       "      <td>69.38</td>\n",
       "      <td>0.90</td>\n",
       "      <td>00:00:10</td>\n",
       "    </tr>\n",
       "    <tr>\n",
       "      <th>3534378</th>\n",
       "      <td>0.410959</td>\n",
       "      <td>2013-05-13 00:07:08</td>\n",
       "      <td>40.724592</td>\n",
       "      <td>-73.981777</td>\n",
       "      <td>6.0</td>\n",
       "      <td>too slow</td>\n",
       "      <td>1.0</td>\n",
       "      <td>2013-05-12 23:58:37</td>\n",
       "      <td>40.735385</td>\n",
       "      <td>-73.991185</td>\n",
       "      <td>1.40</td>\n",
       "      <td>8.40</td>\n",
       "      <td>1.10</td>\n",
       "      <td>00:08:31</td>\n",
       "    </tr>\n",
       "    <tr>\n",
       "      <th>3534514</th>\n",
       "      <td>2.605263</td>\n",
       "      <td>2013-05-13 00:18:00</td>\n",
       "      <td>40.792230</td>\n",
       "      <td>-73.946103</td>\n",
       "      <td>52.0</td>\n",
       "      <td>too fast</td>\n",
       "      <td>1.0</td>\n",
       "      <td>2013-05-12 23:59:00</td>\n",
       "      <td>40.666372</td>\n",
       "      <td>-73.793397</td>\n",
       "      <td>10.40</td>\n",
       "      <td>68.23</td>\n",
       "      <td>16.11</td>\n",
       "      <td>00:19:00</td>\n",
       "    </tr>\n",
       "    <tr>\n",
       "      <th>3534548</th>\n",
       "      <td>9.110429</td>\n",
       "      <td>2013-05-13 00:04:42</td>\n",
       "      <td>40.755859</td>\n",
       "      <td>-73.972549</td>\n",
       "      <td>52.0</td>\n",
       "      <td>too fast</td>\n",
       "      <td>1.0</td>\n",
       "      <td>2013-05-12 23:59:16</td>\n",
       "      <td>40.740766</td>\n",
       "      <td>-73.944841</td>\n",
       "      <td>11.56</td>\n",
       "      <td>69.39</td>\n",
       "      <td>2.50</td>\n",
       "      <td>00:05:26</td>\n",
       "    </tr>\n",
       "  </tbody>\n",
       "</table>\n",
       "</div>"
      ],
      "text/plain": [
       "         avg_amount_per_minute    dropoff_datetime  dropoff_latitude  \\\n",
       "3534347               3.571429 2013-05-13 00:17:15         40.721621   \n",
       "3534376             297.000000 2013-05-12 23:58:46         40.761277   \n",
       "3534378               0.410959 2013-05-13 00:07:08         40.724592   \n",
       "3534514               2.605263 2013-05-13 00:18:00         40.792230   \n",
       "3534548               9.110429 2013-05-13 00:04:42         40.755859   \n",
       "\n",
       "         dropoff_longitude  fare_amount      flag  passenger_count  \\\n",
       "3534347         -74.033262         70.0  too fast              1.0   \n",
       "3534376         -73.993425         52.0  too fast              1.0   \n",
       "3534378         -73.981777          6.0  too slow              1.0   \n",
       "3534514         -73.946103         52.0  too fast              1.0   \n",
       "3534548         -73.972549         52.0  too fast              1.0   \n",
       "\n",
       "            pickup_datetime  pickup_latitude  pickup_longitude  tip_amount  \\\n",
       "3534347 2013-05-12 23:58:21        40.725023        -74.007006        2.00   \n",
       "3534376 2013-05-12 23:58:36        40.761278        -73.993303       11.55   \n",
       "3534378 2013-05-12 23:58:37        40.735385        -73.991185        1.40   \n",
       "3534514 2013-05-12 23:59:00        40.666372        -73.793397       10.40   \n",
       "3534548 2013-05-12 23:59:16        40.740766        -73.944841       11.56   \n",
       "\n",
       "         total_amount  trip_distance  trip_time  \n",
       "3534347         80.25           3.40   00:18:54  \n",
       "3534376         69.38           0.90   00:00:10  \n",
       "3534378          8.40           1.10   00:08:31  \n",
       "3534514         68.23          16.11   00:19:00  \n",
       "3534548         69.39           2.50   00:05:26  "
      ]
     },
     "execution_count": 46,
     "metadata": {},
     "output_type": "execute_result"
    }
   ],
   "source": [
    "anomaly.tail()"
   ]
  },
  {
   "cell_type": "markdown",
   "metadata": {},
   "source": [
    "# Only look at trips in a given bounding box\n"
   ]
  },
  {
   "cell_type": "code",
   "execution_count": 47,
   "metadata": {
    "collapsed": false
   },
   "outputs": [],
   "source": [
    "jfk_geodata = (40.641547, -73.778118)\n",
    "ridgefield_geodata = (40.856406, -74.020642)\n",
    "data_in_box = data.loc[(data['dropoff_latitude'] > jfk_geodata[0]) & \n",
    "                       (data['dropoff_longitude'] < jfk_geodata[1]) &\n",
    "                       (data['dropoff_latitude'] < ridgefield_geodata[0]) & \n",
    "                       (data['dropoff_longitude'] > ridgefield_geodata[1]) & \n",
    "                       (data['pickup_latitude'] > jfk_geodata[0]) & \n",
    "                       (data['pickup_longitude'] < jfk_geodata[1]) &\n",
    "                       (data['pickup_latitude'] < ridgefield_geodata[0]) & \n",
    "                       (data['pickup_longitude'] > ridgefield_geodata[1])         \n",
    "                       ]\n",
    "# taxidata = taxidata.drop(anomaly.index)"
   ]
  },
  {
   "cell_type": "code",
   "execution_count": 48,
   "metadata": {
    "collapsed": false
   },
   "outputs": [
    {
     "data": {
      "text/html": [
       "<div>\n",
       "<table border=\"1\" class=\"dataframe\">\n",
       "  <thead>\n",
       "    <tr style=\"text-align: right;\">\n",
       "      <th></th>\n",
       "      <th>pickup_datetime</th>\n",
       "      <th>dropoff_datetime</th>\n",
       "      <th>passenger_count</th>\n",
       "      <th>trip_distance</th>\n",
       "      <th>pickup_longitude</th>\n",
       "      <th>pickup_latitude</th>\n",
       "      <th>dropoff_longitude</th>\n",
       "      <th>dropoff_latitude</th>\n",
       "      <th>fare_amount</th>\n",
       "      <th>tip_amount</th>\n",
       "      <th>total_amount</th>\n",
       "      <th>trip_time</th>\n",
       "      <th>avg_amount_per_minute</th>\n",
       "    </tr>\n",
       "  </thead>\n",
       "  <tbody>\n",
       "    <tr>\n",
       "      <th>0</th>\n",
       "      <td>2013-05-06</td>\n",
       "      <td>2013-05-06 00:10:00</td>\n",
       "      <td>1.0</td>\n",
       "      <td>2.65</td>\n",
       "      <td>-73.981070</td>\n",
       "      <td>40.766047</td>\n",
       "      <td>-73.981362</td>\n",
       "      <td>40.738092</td>\n",
       "      <td>10.5</td>\n",
       "      <td>2.2</td>\n",
       "      <td>13.7</td>\n",
       "      <td>00:10:00</td>\n",
       "      <td>0.800000</td>\n",
       "    </tr>\n",
       "    <tr>\n",
       "      <th>1</th>\n",
       "      <td>2013-05-06</td>\n",
       "      <td>2013-05-06 00:06:00</td>\n",
       "      <td>5.0</td>\n",
       "      <td>1.86</td>\n",
       "      <td>-73.986312</td>\n",
       "      <td>40.760487</td>\n",
       "      <td>-74.005082</td>\n",
       "      <td>40.743372</td>\n",
       "      <td>7.5</td>\n",
       "      <td>NaN</td>\n",
       "      <td>8.5</td>\n",
       "      <td>00:06:00</td>\n",
       "      <td>0.833333</td>\n",
       "    </tr>\n",
       "    <tr>\n",
       "      <th>2</th>\n",
       "      <td>2013-05-06</td>\n",
       "      <td>2013-05-06 00:04:00</td>\n",
       "      <td>1.0</td>\n",
       "      <td>0.90</td>\n",
       "      <td>-73.989388</td>\n",
       "      <td>40.731577</td>\n",
       "      <td>-73.986102</td>\n",
       "      <td>40.740732</td>\n",
       "      <td>5.5</td>\n",
       "      <td>NaN</td>\n",
       "      <td>6.5</td>\n",
       "      <td>00:04:00</td>\n",
       "      <td>0.750000</td>\n",
       "    </tr>\n",
       "    <tr>\n",
       "      <th>3</th>\n",
       "      <td>2013-05-06</td>\n",
       "      <td>2013-05-06 00:08:00</td>\n",
       "      <td>1.0</td>\n",
       "      <td>2.59</td>\n",
       "      <td>-73.994590</td>\n",
       "      <td>40.751857</td>\n",
       "      <td>-73.963470</td>\n",
       "      <td>40.765912</td>\n",
       "      <td>9.5</td>\n",
       "      <td>NaN</td>\n",
       "      <td>10.5</td>\n",
       "      <td>00:08:00</td>\n",
       "      <td>0.875000</td>\n",
       "    </tr>\n",
       "    <tr>\n",
       "      <th>5</th>\n",
       "      <td>2013-05-06</td>\n",
       "      <td>2013-05-06 00:14:00</td>\n",
       "      <td>3.0</td>\n",
       "      <td>4.86</td>\n",
       "      <td>-73.965532</td>\n",
       "      <td>40.717052</td>\n",
       "      <td>-73.972442</td>\n",
       "      <td>40.743247</td>\n",
       "      <td>16.5</td>\n",
       "      <td>NaN</td>\n",
       "      <td>17.5</td>\n",
       "      <td>00:14:00</td>\n",
       "      <td>1.000000</td>\n",
       "    </tr>\n",
       "  </tbody>\n",
       "</table>\n",
       "</div>"
      ],
      "text/plain": [
       "  pickup_datetime    dropoff_datetime  passenger_count  trip_distance  \\\n",
       "0      2013-05-06 2013-05-06 00:10:00              1.0           2.65   \n",
       "1      2013-05-06 2013-05-06 00:06:00              5.0           1.86   \n",
       "2      2013-05-06 2013-05-06 00:04:00              1.0           0.90   \n",
       "3      2013-05-06 2013-05-06 00:08:00              1.0           2.59   \n",
       "5      2013-05-06 2013-05-06 00:14:00              3.0           4.86   \n",
       "\n",
       "   pickup_longitude  pickup_latitude  dropoff_longitude  dropoff_latitude  \\\n",
       "0        -73.981070        40.766047         -73.981362         40.738092   \n",
       "1        -73.986312        40.760487         -74.005082         40.743372   \n",
       "2        -73.989388        40.731577         -73.986102         40.740732   \n",
       "3        -73.994590        40.751857         -73.963470         40.765912   \n",
       "5        -73.965532        40.717052         -73.972442         40.743247   \n",
       "\n",
       "   fare_amount  tip_amount  total_amount  trip_time  avg_amount_per_minute  \n",
       "0         10.5         2.2          13.7   00:10:00               0.800000  \n",
       "1          7.5         NaN           8.5   00:06:00               0.833333  \n",
       "2          5.5         NaN           6.5   00:04:00               0.750000  \n",
       "3          9.5         NaN          10.5   00:08:00               0.875000  \n",
       "5         16.5         NaN          17.5   00:14:00               1.000000  "
      ]
     },
     "execution_count": 48,
     "metadata": {},
     "output_type": "execute_result"
    }
   ],
   "source": [
    "data_in_box.head()"
   ]
  },
  {
   "cell_type": "code",
   "execution_count": 49,
   "metadata": {
    "collapsed": false
   },
   "outputs": [
    {
     "name": "stdout",
     "output_type": "stream",
     "text": [
      "True 0.9834670332763968\n"
     ]
    }
   ],
   "source": [
    "print(jfk_geodata < ridgefield_geodata,\n",
    "len(data_in_box)/len(data))"
   ]
  },
  {
   "cell_type": "markdown",
   "metadata": {},
   "source": [
    "So we've omitted about 2% of the data because the trips do not start and end in the box"
   ]
  },
  {
   "cell_type": "markdown",
   "metadata": {},
   "source": [
    "## Inspect Manhattan only."
   ]
  },
  {
   "cell_type": "code",
   "execution_count": 50,
   "metadata": {
    "collapsed": false
   },
   "outputs": [
    {
     "data": {
      "text/plain": [
       "<matplotlib.figure.Figure at 0x7f4ce86c7a58>"
      ]
     },
     "metadata": {},
     "output_type": "display_data"
    },
    {
     "data": {
      "image/png": "[encoded data removed]",
      "text/plain": [
       "<matplotlib.figure.Figure at 0x7f4ce86da470>"
      ]
     },
     "metadata": {},
     "output_type": "display_data"
    }
   ],
   "source": [
    "x = data_in_box.pickup_longitude\n",
    "y = data_in_box.pickup_latitude\n",
    "\n",
    "plt.jet()\n",
    "H, xedges, yedges = np.histogram2d(x, y, bins=300)#, normed=False, weights=None)\n",
    "\n",
    "fig = plt.figure(figsize=(20, 10))\n",
    "plt.hist2d(x, y, bins=300, range=[[min(x.values),-73.95],[40.675,40.8]])\n",
    "plt.colorbar()\n",
    "plt.title('Pickup density (first full week in May 2013)')\n",
    "plt.ylabel('Latitude')\n",
    "plt.xlabel('Longitude')\n",
    "\n",
    "ax = fig.gca()\n",
    "ax.grid(False)\n",
    "# plt.savefig('figures/pickup_density_manhattan_13.png', format='png', dpi=150)"
   ]
  },
  {
   "cell_type": "markdown",
   "metadata": {},
   "source": [
    "## Again, let's take a look at the distribution of the target variable we want to estimate:"
   ]
  },
  {
   "cell_type": "code",
   "execution_count": 51,
   "metadata": {
    "collapsed": false
   },
   "outputs": [
    {
     "data": {
      "image/png": "[encoded data removed]",
      "text/plain": [
       "<matplotlib.figure.Figure at 0x7f4ce86cf4a8>"
      ]
     },
     "metadata": {},
     "output_type": "display_data"
    }
   ],
   "source": [
    "h = data_in_box.trip_time.values / np.timedelta64(1, 'm')\n",
    "plt.hist(h, normed=False,  bins=150)\n",
    "plt.yticks(fontsize=40)\n",
    "plt.xticks(fontsize=40)\n",
    "plt.show()"
   ]
  },
  {
   "cell_type": "code",
   "execution_count": 52,
   "metadata": {
    "collapsed": false
   },
   "outputs": [
    {
     "data": {
      "text/html": [
       "<div>\n",
       "<table border=\"1\" class=\"dataframe\">\n",
       "  <thead>\n",
       "    <tr style=\"text-align: right;\">\n",
       "      <th></th>\n",
       "      <th>pickup_datetime</th>\n",
       "      <th>dropoff_datetime</th>\n",
       "      <th>passenger_count</th>\n",
       "      <th>trip_distance</th>\n",
       "      <th>pickup_longitude</th>\n",
       "      <th>pickup_latitude</th>\n",
       "      <th>dropoff_longitude</th>\n",
       "      <th>dropoff_latitude</th>\n",
       "      <th>fare_amount</th>\n",
       "      <th>tip_amount</th>\n",
       "      <th>total_amount</th>\n",
       "      <th>trip_time</th>\n",
       "      <th>avg_amount_per_minute</th>\n",
       "    </tr>\n",
       "  </thead>\n",
       "  <tbody>\n",
       "    <tr>\n",
       "      <th>0</th>\n",
       "      <td>2013-05-06</td>\n",
       "      <td>2013-05-06 00:10:00</td>\n",
       "      <td>1.0</td>\n",
       "      <td>2.65</td>\n",
       "      <td>-73.981070</td>\n",
       "      <td>40.766047</td>\n",
       "      <td>-73.981362</td>\n",
       "      <td>40.738092</td>\n",
       "      <td>10.5</td>\n",
       "      <td>2.2</td>\n",
       "      <td>13.7</td>\n",
       "      <td>00:10:00</td>\n",
       "      <td>0.800000</td>\n",
       "    </tr>\n",
       "    <tr>\n",
       "      <th>1</th>\n",
       "      <td>2013-05-06</td>\n",
       "      <td>2013-05-06 00:06:00</td>\n",
       "      <td>5.0</td>\n",
       "      <td>1.86</td>\n",
       "      <td>-73.986312</td>\n",
       "      <td>40.760487</td>\n",
       "      <td>-74.005082</td>\n",
       "      <td>40.743372</td>\n",
       "      <td>7.5</td>\n",
       "      <td>NaN</td>\n",
       "      <td>8.5</td>\n",
       "      <td>00:06:00</td>\n",
       "      <td>0.833333</td>\n",
       "    </tr>\n",
       "    <tr>\n",
       "      <th>2</th>\n",
       "      <td>2013-05-06</td>\n",
       "      <td>2013-05-06 00:04:00</td>\n",
       "      <td>1.0</td>\n",
       "      <td>0.90</td>\n",
       "      <td>-73.989388</td>\n",
       "      <td>40.731577</td>\n",
       "      <td>-73.986102</td>\n",
       "      <td>40.740732</td>\n",
       "      <td>5.5</td>\n",
       "      <td>NaN</td>\n",
       "      <td>6.5</td>\n",
       "      <td>00:04:00</td>\n",
       "      <td>0.750000</td>\n",
       "    </tr>\n",
       "    <tr>\n",
       "      <th>3</th>\n",
       "      <td>2013-05-06</td>\n",
       "      <td>2013-05-06 00:08:00</td>\n",
       "      <td>1.0</td>\n",
       "      <td>2.59</td>\n",
       "      <td>-73.994590</td>\n",
       "      <td>40.751857</td>\n",
       "      <td>-73.963470</td>\n",
       "      <td>40.765912</td>\n",
       "      <td>9.5</td>\n",
       "      <td>NaN</td>\n",
       "      <td>10.5</td>\n",
       "      <td>00:08:00</td>\n",
       "      <td>0.875000</td>\n",
       "    </tr>\n",
       "    <tr>\n",
       "      <th>5</th>\n",
       "      <td>2013-05-06</td>\n",
       "      <td>2013-05-06 00:14:00</td>\n",
       "      <td>3.0</td>\n",
       "      <td>4.86</td>\n",
       "      <td>-73.965532</td>\n",
       "      <td>40.717052</td>\n",
       "      <td>-73.972442</td>\n",
       "      <td>40.743247</td>\n",
       "      <td>16.5</td>\n",
       "      <td>NaN</td>\n",
       "      <td>17.5</td>\n",
       "      <td>00:14:00</td>\n",
       "      <td>1.000000</td>\n",
       "    </tr>\n",
       "  </tbody>\n",
       "</table>\n",
       "</div>"
      ],
      "text/plain": [
       "  pickup_datetime    dropoff_datetime  passenger_count  trip_distance  \\\n",
       "0      2013-05-06 2013-05-06 00:10:00              1.0           2.65   \n",
       "1      2013-05-06 2013-05-06 00:06:00              5.0           1.86   \n",
       "2      2013-05-06 2013-05-06 00:04:00              1.0           0.90   \n",
       "3      2013-05-06 2013-05-06 00:08:00              1.0           2.59   \n",
       "5      2013-05-06 2013-05-06 00:14:00              3.0           4.86   \n",
       "\n",
       "   pickup_longitude  pickup_latitude  dropoff_longitude  dropoff_latitude  \\\n",
       "0        -73.981070        40.766047         -73.981362         40.738092   \n",
       "1        -73.986312        40.760487         -74.005082         40.743372   \n",
       "2        -73.989388        40.731577         -73.986102         40.740732   \n",
       "3        -73.994590        40.751857         -73.963470         40.765912   \n",
       "5        -73.965532        40.717052         -73.972442         40.743247   \n",
       "\n",
       "   fare_amount  tip_amount  total_amount  trip_time  avg_amount_per_minute  \n",
       "0         10.5         2.2          13.7   00:10:00               0.800000  \n",
       "1          7.5         NaN           8.5   00:06:00               0.833333  \n",
       "2          5.5         NaN           6.5   00:04:00               0.750000  \n",
       "3          9.5         NaN          10.5   00:08:00               0.875000  \n",
       "5         16.5         NaN          17.5   00:14:00               1.000000  "
      ]
     },
     "execution_count": 52,
     "metadata": {},
     "output_type": "execute_result"
    }
   ],
   "source": [
    "data_in_box.head()"
   ]
  },
  {
   "cell_type": "markdown",
   "metadata": {},
   "source": [
    "#  Make a new dataframe with features and targets to train the model "
   ]
  },
  {
   "cell_type": "code",
   "execution_count": 53,
   "metadata": {
    "collapsed": false
   },
   "outputs": [],
   "source": [
    "time_regression_df = pd.DataFrame([#data_in_box['pickup_datetime'].dt.day,\n",
    "                          data_in_box['pickup_datetime'].dt.dayofweek,\n",
    "                          data_in_box['pickup_datetime'].dt.hour,\n",
    "                          data_in_box['pickup_latitude'],\n",
    "                          data_in_box['pickup_longitude'],\n",
    "                          data_in_box['dropoff_latitude'],\n",
    "                          data_in_box['dropoff_longitude'],\n",
    "                          np.ceil(data_in_box['trip_time']/np.timedelta64(1, 'm')),\n",
    "                         ]).T"
   ]
  },
  {
   "cell_type": "code",
   "execution_count": 54,
   "metadata": {
    "collapsed": true
   },
   "outputs": [],
   "source": [
    "time_regression_df.columns = ['pickup_datetime_dayofweek', 'pickup_datetime_hour',\n",
    "                              'pickup_latitude', 'pickup_longitude', 'dropoff_latitude', 'dropoff_longitude',\n",
    "                              'trip_time']"
   ]
  },
  {
   "cell_type": "markdown",
   "metadata": {},
   "source": [
    "Use minutes for prediction instead of seconds (ceil the time). Definitley more robust than seconds!"
   ]
  },
  {
   "cell_type": "code",
   "execution_count": 55,
   "metadata": {
    "collapsed": false
   },
   "outputs": [
    {
     "data": {
      "text/html": [
       "<div>\n",
       "<table border=\"1\" class=\"dataframe\">\n",
       "  <thead>\n",
       "    <tr style=\"text-align: right;\">\n",
       "      <th></th>\n",
       "      <th>pickup_datetime_dayofweek</th>\n",
       "      <th>pickup_datetime_hour</th>\n",
       "      <th>pickup_latitude</th>\n",
       "      <th>pickup_longitude</th>\n",
       "      <th>dropoff_latitude</th>\n",
       "      <th>dropoff_longitude</th>\n",
       "      <th>trip_time</th>\n",
       "    </tr>\n",
       "  </thead>\n",
       "  <tbody>\n",
       "    <tr>\n",
       "      <th>3534627</th>\n",
       "      <td>6.0</td>\n",
       "      <td>23.0</td>\n",
       "      <td>40.744021</td>\n",
       "      <td>-73.999512</td>\n",
       "      <td>40.825470</td>\n",
       "      <td>-73.953479</td>\n",
       "      <td>15.0</td>\n",
       "    </tr>\n",
       "    <tr>\n",
       "      <th>3534628</th>\n",
       "      <td>6.0</td>\n",
       "      <td>23.0</td>\n",
       "      <td>40.741475</td>\n",
       "      <td>-73.981322</td>\n",
       "      <td>40.751637</td>\n",
       "      <td>-73.975838</td>\n",
       "      <td>3.0</td>\n",
       "    </tr>\n",
       "    <tr>\n",
       "      <th>3534629</th>\n",
       "      <td>6.0</td>\n",
       "      <td>23.0</td>\n",
       "      <td>40.770077</td>\n",
       "      <td>-73.863887</td>\n",
       "      <td>40.644504</td>\n",
       "      <td>-73.963537</td>\n",
       "      <td>22.0</td>\n",
       "    </tr>\n",
       "    <tr>\n",
       "      <th>3534630</th>\n",
       "      <td>6.0</td>\n",
       "      <td>23.0</td>\n",
       "      <td>40.736240</td>\n",
       "      <td>-73.990593</td>\n",
       "      <td>40.744194</td>\n",
       "      <td>-73.985401</td>\n",
       "      <td>5.0</td>\n",
       "    </tr>\n",
       "    <tr>\n",
       "      <th>3534631</th>\n",
       "      <td>6.0</td>\n",
       "      <td>23.0</td>\n",
       "      <td>40.772929</td>\n",
       "      <td>-73.949516</td>\n",
       "      <td>40.728967</td>\n",
       "      <td>-73.988787</td>\n",
       "      <td>15.0</td>\n",
       "    </tr>\n",
       "  </tbody>\n",
       "</table>\n",
       "</div>"
      ],
      "text/plain": [
       "         pickup_datetime_dayofweek  pickup_datetime_hour  pickup_latitude  \\\n",
       "3534627                        6.0                  23.0        40.744021   \n",
       "3534628                        6.0                  23.0        40.741475   \n",
       "3534629                        6.0                  23.0        40.770077   \n",
       "3534630                        6.0                  23.0        40.736240   \n",
       "3534631                        6.0                  23.0        40.772929   \n",
       "\n",
       "         pickup_longitude  dropoff_latitude  dropoff_longitude  trip_time  \n",
       "3534627        -73.999512         40.825470         -73.953479       15.0  \n",
       "3534628        -73.981322         40.751637         -73.975838        3.0  \n",
       "3534629        -73.863887         40.644504         -73.963537       22.0  \n",
       "3534630        -73.990593         40.744194         -73.985401        5.0  \n",
       "3534631        -73.949516         40.728967         -73.988787       15.0  "
      ]
     },
     "execution_count": 55,
     "metadata": {},
     "output_type": "execute_result"
    }
   ],
   "source": [
    "time_regression_df.tail()"
   ]
  },
  {
   "cell_type": "code",
   "execution_count": 56,
   "metadata": {
    "collapsed": false
   },
   "outputs": [
    {
     "data": {
      "text/html": [
       "<div>\n",
       "<table border=\"1\" class=\"dataframe\">\n",
       "  <thead>\n",
       "    <tr style=\"text-align: right;\">\n",
       "      <th></th>\n",
       "      <th>pickup_datetime_dayofweek</th>\n",
       "      <th>pickup_datetime_hour</th>\n",
       "      <th>pickup_latitude</th>\n",
       "      <th>pickup_longitude</th>\n",
       "      <th>dropoff_latitude</th>\n",
       "      <th>dropoff_longitude</th>\n",
       "      <th>trip_time</th>\n",
       "    </tr>\n",
       "  </thead>\n",
       "  <tbody>\n",
       "    <tr>\n",
       "      <th>0</th>\n",
       "      <td>0.0</td>\n",
       "      <td>0.0</td>\n",
       "      <td>40.766047</td>\n",
       "      <td>-73.981070</td>\n",
       "      <td>40.738092</td>\n",
       "      <td>-73.981362</td>\n",
       "      <td>10.0</td>\n",
       "    </tr>\n",
       "    <tr>\n",
       "      <th>1</th>\n",
       "      <td>0.0</td>\n",
       "      <td>0.0</td>\n",
       "      <td>40.760487</td>\n",
       "      <td>-73.986312</td>\n",
       "      <td>40.743372</td>\n",
       "      <td>-74.005082</td>\n",
       "      <td>6.0</td>\n",
       "    </tr>\n",
       "    <tr>\n",
       "      <th>2</th>\n",
       "      <td>0.0</td>\n",
       "      <td>0.0</td>\n",
       "      <td>40.731577</td>\n",
       "      <td>-73.989388</td>\n",
       "      <td>40.740732</td>\n",
       "      <td>-73.986102</td>\n",
       "      <td>4.0</td>\n",
       "    </tr>\n",
       "    <tr>\n",
       "      <th>3</th>\n",
       "      <td>0.0</td>\n",
       "      <td>0.0</td>\n",
       "      <td>40.751857</td>\n",
       "      <td>-73.994590</td>\n",
       "      <td>40.765912</td>\n",
       "      <td>-73.963470</td>\n",
       "      <td>8.0</td>\n",
       "    </tr>\n",
       "    <tr>\n",
       "      <th>5</th>\n",
       "      <td>0.0</td>\n",
       "      <td>0.0</td>\n",
       "      <td>40.717052</td>\n",
       "      <td>-73.965532</td>\n",
       "      <td>40.743247</td>\n",
       "      <td>-73.972442</td>\n",
       "      <td>14.0</td>\n",
       "    </tr>\n",
       "  </tbody>\n",
       "</table>\n",
       "</div>"
      ],
      "text/plain": [
       "   pickup_datetime_dayofweek  pickup_datetime_hour  pickup_latitude  \\\n",
       "0                        0.0                   0.0        40.766047   \n",
       "1                        0.0                   0.0        40.760487   \n",
       "2                        0.0                   0.0        40.731577   \n",
       "3                        0.0                   0.0        40.751857   \n",
       "5                        0.0                   0.0        40.717052   \n",
       "\n",
       "   pickup_longitude  dropoff_latitude  dropoff_longitude  trip_time  \n",
       "0        -73.981070         40.738092         -73.981362       10.0  \n",
       "1        -73.986312         40.743372         -74.005082        6.0  \n",
       "2        -73.989388         40.740732         -73.986102        4.0  \n",
       "3        -73.994590         40.765912         -73.963470        8.0  \n",
       "5        -73.965532         40.743247         -73.972442       14.0  "
      ]
     },
     "execution_count": 56,
     "metadata": {},
     "output_type": "execute_result"
    }
   ],
   "source": [
    "time_regression_df.head()"
   ]
  },
  {
   "cell_type": "code",
   "execution_count": 57,
   "metadata": {
    "collapsed": false
   },
   "outputs": [
    {
     "data": {
      "text/html": [
       "<div>\n",
       "<table border=\"1\" class=\"dataframe\">\n",
       "  <thead>\n",
       "    <tr style=\"text-align: right;\">\n",
       "      <th></th>\n",
       "      <th>pickup_datetime_dayofweek</th>\n",
       "      <th>pickup_datetime_hour</th>\n",
       "      <th>pickup_latitude</th>\n",
       "      <th>pickup_longitude</th>\n",
       "      <th>dropoff_latitude</th>\n",
       "      <th>dropoff_longitude</th>\n",
       "    </tr>\n",
       "  </thead>\n",
       "  <tbody>\n",
       "    <tr>\n",
       "      <th>count</th>\n",
       "      <td>3.266333e+06</td>\n",
       "      <td>3.266333e+06</td>\n",
       "      <td>3.266333e+06</td>\n",
       "      <td>3.266333e+06</td>\n",
       "      <td>3.266333e+06</td>\n",
       "      <td>3.266333e+06</td>\n",
       "    </tr>\n",
       "    <tr>\n",
       "      <th>mean</th>\n",
       "      <td>3.039328e+00</td>\n",
       "      <td>1.350386e+01</td>\n",
       "      <td>4.075136e+01</td>\n",
       "      <td>-7.397645e+01</td>\n",
       "      <td>4.075162e+01</td>\n",
       "      <td>-7.397513e+01</td>\n",
       "    </tr>\n",
       "    <tr>\n",
       "      <th>std</th>\n",
       "      <td>1.961083e+00</td>\n",
       "      <td>6.552920e+00</td>\n",
       "      <td>2.582007e-02</td>\n",
       "      <td>3.135320e-02</td>\n",
       "      <td>2.840570e-02</td>\n",
       "      <td>3.012289e-02</td>\n",
       "    </tr>\n",
       "    <tr>\n",
       "      <th>min</th>\n",
       "      <td>0.000000e+00</td>\n",
       "      <td>0.000000e+00</td>\n",
       "      <td>4.064155e+01</td>\n",
       "      <td>-7.402063e+01</td>\n",
       "      <td>4.064155e+01</td>\n",
       "      <td>-7.402057e+01</td>\n",
       "    </tr>\n",
       "    <tr>\n",
       "      <th>25%</th>\n",
       "      <td>1.000000e+00</td>\n",
       "      <td>9.000000e+00</td>\n",
       "      <td>4.073668e+01</td>\n",
       "      <td>-7.399259e+01</td>\n",
       "      <td>4.073577e+01</td>\n",
       "      <td>-7.399176e+01</td>\n",
       "    </tr>\n",
       "    <tr>\n",
       "      <th>50%</th>\n",
       "      <td>3.000000e+00</td>\n",
       "      <td>1.400000e+01</td>\n",
       "      <td>4.075343e+01</td>\n",
       "      <td>-7.398216e+01</td>\n",
       "      <td>4.075387e+01</td>\n",
       "      <td>-7.398066e+01</td>\n",
       "    </tr>\n",
       "    <tr>\n",
       "      <th>75%</th>\n",
       "      <td>5.000000e+00</td>\n",
       "      <td>1.900000e+01</td>\n",
       "      <td>4.076813e+01</td>\n",
       "      <td>-7.396825e+01</td>\n",
       "      <td>4.076884e+01</td>\n",
       "      <td>-7.396539e+01</td>\n",
       "    </tr>\n",
       "    <tr>\n",
       "      <th>max</th>\n",
       "      <td>6.000000e+00</td>\n",
       "      <td>2.300000e+01</td>\n",
       "      <td>4.085636e+01</td>\n",
       "      <td>-7.377812e+01</td>\n",
       "      <td>4.085640e+01</td>\n",
       "      <td>-7.377812e+01</td>\n",
       "    </tr>\n",
       "  </tbody>\n",
       "</table>\n",
       "</div>"
      ],
      "text/plain": [
       "       pickup_datetime_dayofweek  pickup_datetime_hour  pickup_latitude  \\\n",
       "count               3.266333e+06          3.266333e+06     3.266333e+06   \n",
       "mean                3.039328e+00          1.350386e+01     4.075136e+01   \n",
       "std                 1.961083e+00          6.552920e+00     2.582007e-02   \n",
       "min                 0.000000e+00          0.000000e+00     4.064155e+01   \n",
       "25%                 1.000000e+00          9.000000e+00     4.073668e+01   \n",
       "50%                 3.000000e+00          1.400000e+01     4.075343e+01   \n",
       "75%                 5.000000e+00          1.900000e+01     4.076813e+01   \n",
       "max                 6.000000e+00          2.300000e+01     4.085636e+01   \n",
       "\n",
       "       pickup_longitude  dropoff_latitude  dropoff_longitude  \n",
       "count      3.266333e+06      3.266333e+06       3.266333e+06  \n",
       "mean      -7.397645e+01      4.075162e+01      -7.397513e+01  \n",
       "std        3.135320e-02      2.840570e-02       3.012289e-02  \n",
       "min       -7.402063e+01      4.064155e+01      -7.402057e+01  \n",
       "25%       -7.399259e+01      4.073577e+01      -7.399176e+01  \n",
       "50%       -7.398216e+01      4.075387e+01      -7.398066e+01  \n",
       "75%       -7.396825e+01      4.076884e+01      -7.396539e+01  \n",
       "max       -7.377812e+01      4.085640e+01      -7.377812e+01  "
      ]
     },
     "execution_count": 57,
     "metadata": {},
     "output_type": "execute_result"
    }
   ],
   "source": [
    "time_regression_df.ix[:,0:6].describe()"
   ]
  },
  {
   "cell_type": "code",
   "execution_count": 58,
   "metadata": {
    "collapsed": false
   },
   "outputs": [
    {
     "name": "stdout",
     "output_type": "stream",
     "text": [
      "7.0      216659\n",
      "6.0      212922\n",
      "8.0      212253\n",
      "9.0      203203\n",
      "5.0      198847\n",
      "10.0     190577\n",
      "11.0     176963\n",
      "4.0      167658\n",
      "12.0     161870\n",
      "13.0     146481\n",
      "14.0     132243\n",
      "15.0     118781\n",
      "3.0      115848\n",
      "16.0     106682\n",
      "17.0      94945\n",
      "18.0      84644\n",
      "19.0      75749\n",
      "20.0      67035\n",
      "21.0      58914\n",
      "2.0       55534\n",
      "22.0      52250\n",
      "23.0      46464\n",
      "24.0      40736\n",
      "25.0      35394\n",
      "26.0      31199\n",
      "27.0      27649\n",
      "28.0      24524\n",
      "29.0      21292\n",
      "30.0      18618\n",
      "31.0      16680\n",
      "          ...  \n",
      "120.0         3\n",
      "123.0         2\n",
      "143.0         2\n",
      "145.0         2\n",
      "128.0         2\n",
      "138.0         2\n",
      "121.0         2\n",
      "119.0         2\n",
      "118.0         2\n",
      "157.0         1\n",
      "156.0         1\n",
      "154.0         1\n",
      "153.0         1\n",
      "148.0         1\n",
      "160.0         1\n",
      "164.0         1\n",
      "137.0         1\n",
      "178.0         1\n",
      "136.0         1\n",
      "134.0         1\n",
      "133.0         1\n",
      "132.0         1\n",
      "131.0         1\n",
      "130.0         1\n",
      "129.0         1\n",
      "125.0         1\n",
      "124.0         1\n",
      "117.0         1\n",
      "115.0         1\n",
      "279.0         1\n",
      "Name: trip_time, dtype: int64\n",
      "148\n"
     ]
    }
   ],
   "source": [
    "print(time_regression_df.trip_time.value_counts())\n",
    "print(len(time_regression_df.trip_time.value_counts()))"
   ]
  },
  {
   "cell_type": "markdown",
   "metadata": {},
   "source": [
    "## So we hace 148 different times to predict."
   ]
  },
  {
   "cell_type": "code",
   "execution_count": 59,
   "metadata": {
    "collapsed": false
   },
   "outputs": [
    {
     "data": {
      "text/plain": [
       "0.05     3.0\n",
       "0.95    30.0\n",
       "Name: trip_time, dtype: float64"
      ]
     },
     "execution_count": 59,
     "metadata": {},
     "output_type": "execute_result"
    }
   ],
   "source": [
    "time_regression_df.trip_time.quantile([0.05, 0.95])"
   ]
  },
  {
   "cell_type": "markdown",
   "metadata": {},
   "source": [
    "So 90% of the trip_times are between 3 and 30 minutes."
   ]
  },
  {
   "cell_type": "markdown",
   "metadata": {},
   "source": [
    "## A few stats about the avg. pickups per hour"
   ]
  },
  {
   "cell_type": "code",
   "execution_count": 60,
   "metadata": {
    "collapsed": false
   },
   "outputs": [],
   "source": [
    "hour_stats = time_regression_df.groupby(time_regression_df.pickup_datetime_hour)"
   ]
  },
  {
   "cell_type": "code",
   "execution_count": 61,
   "metadata": {
    "collapsed": false
   },
   "outputs": [
    {
     "data": {
      "image/png": "[encoded data removed]",
      "text/plain": [
       "<matplotlib.figure.Figure at 0x7f4ceba65ba8>"
      ]
     },
     "metadata": {},
     "output_type": "display_data"
    }
   ],
   "source": [
    "plt.bar(left = hour_stats.pickup_datetime_hour.count().keys(), height=hour_stats.pickup_datetime_hour.count().values/7, \n",
    "       tick_label=hour_stats.pickup_datetime_hour.count().keys(), align='center')\n",
    "plt.title('Avg. pickups per hour')\n",
    "plt.xlabel('datetime_hour')\n",
    "plt.ylabel('frequency')\n",
    "plt.savefig('avg_pickups_per_hour.png')"
   ]
  },
  {
   "cell_type": "code",
   "execution_count": 62,
   "metadata": {
    "collapsed": false
   },
   "outputs": [
    {
     "name": "stdout",
     "output_type": "stream",
     "text": [
      "Avg. pickups per half-hour (summarized over 1 week)\n"
     ]
    },
    {
     "data": {
      "text/plain": [
       "pickup_datetime_hour\n",
       "0.0      9498.000000\n",
       "1.0      6936.000000\n",
       "2.0      4986.357143\n",
       "3.0      3496.357143\n",
       "4.0      2482.285714\n",
       "5.0      2151.500000\n",
       "6.0      4909.357143\n",
       "7.0      9031.214286\n",
       "8.0     10726.285714\n",
       "9.0     11130.571429\n",
       "10.0    10944.857143\n",
       "11.0    11205.857143\n",
       "12.0    11487.642857\n",
       "13.0    10997.642857\n",
       "14.0    11269.785714\n",
       "15.0    10798.785714\n",
       "16.0     8841.285714\n",
       "17.0    10963.857143\n",
       "18.0    13860.857143\n",
       "19.0    14584.714286\n",
       "20.0    14010.142857\n",
       "21.0    13788.142857\n",
       "22.0    13446.642857\n",
       "23.0    11761.357143\n",
       "Name: pickup_datetime_hour, dtype: float64"
      ]
     },
     "execution_count": 62,
     "metadata": {},
     "output_type": "execute_result"
    }
   ],
   "source": [
    "print('Avg. pickups per half-hour (summarized over 1 week)')\n",
    "hour_stats.pickup_datetime_hour.count()/14"
   ]
  },
  {
   "cell_type": "code",
   "execution_count": 63,
   "metadata": {
    "collapsed": false
   },
   "outputs": [
    {
     "data": {
      "text/html": [
       "<div>\n",
       "<table border=\"1\" class=\"dataframe\">\n",
       "  <thead>\n",
       "    <tr style=\"text-align: right;\">\n",
       "      <th></th>\n",
       "      <th>pickup_datetime_dayofweek</th>\n",
       "      <th>pickup_latitude</th>\n",
       "      <th>pickup_longitude</th>\n",
       "      <th>dropoff_latitude</th>\n",
       "      <th>dropoff_longitude</th>\n",
       "      <th>trip_time</th>\n",
       "    </tr>\n",
       "  </thead>\n",
       "  <tbody>\n",
       "    <tr>\n",
       "      <th>0.5</th>\n",
       "      <td>10954.357143</td>\n",
       "      <td>10954.357143</td>\n",
       "      <td>10954.357143</td>\n",
       "      <td>10954.357143</td>\n",
       "      <td>10954.357143</td>\n",
       "      <td>10954.357143</td>\n",
       "    </tr>\n",
       "  </tbody>\n",
       "</table>\n",
       "</div>"
      ],
      "text/plain": [
       "     pickup_datetime_dayofweek  pickup_latitude  pickup_longitude  \\\n",
       "0.5               10954.357143     10954.357143      10954.357143   \n",
       "\n",
       "     dropoff_latitude  dropoff_longitude     trip_time  \n",
       "0.5      10954.357143       10954.357143  10954.357143  "
      ]
     },
     "execution_count": 63,
     "metadata": {},
     "output_type": "execute_result"
    }
   ],
   "source": [
    "(hour_stats.count()/14).quantile([.5])"
   ]
  },
  {
   "cell_type": "markdown",
   "metadata": {},
   "source": [
    "# Split the data into a training dataset and a test dataset. Evaluate the performance of the decision tree on the test data"
   ]
  },
  {
   "cell_type": "code",
   "execution_count": 64,
   "metadata": {
    "collapsed": false
   },
   "outputs": [
    {
     "data": {
      "text/plain": [
       "Index(['pickup_datetime_dayofweek', 'pickup_datetime_hour', 'pickup_latitude',\n",
       "       'pickup_longitude', 'dropoff_latitude', 'dropoff_longitude',\n",
       "       'trip_time'],\n",
       "      dtype='object')"
      ]
     },
     "execution_count": 64,
     "metadata": {},
     "output_type": "execute_result"
    }
   ],
   "source": [
    "time_regression_df.columns"
   ]
  },
  {
   "cell_type": "code",
   "execution_count": 65,
   "metadata": {
    "collapsed": false
   },
   "outputs": [],
   "source": [
    "from sklearn import cross_validation as cv\n",
    "time_regression_df_train, time_regression_df_test = cv.train_test_split(time_regression_df, test_size=0.1, random_state=99)\n",
    "y_train = time_regression_df_train['trip_time']\n",
    "x_train = time_regression_df_train.ix[:, 0:6]\n",
    "y_test = time_regression_df_test['trip_time']\n",
    "x_test = time_regression_df_test.ix[:, 0:6]"
   ]
  },
  {
   "cell_type": "code",
   "execution_count": 66,
   "metadata": {
    "collapsed": false
   },
   "outputs": [
    {
     "data": {
      "text/html": [
       "<div>\n",
       "<table border=\"1\" class=\"dataframe\">\n",
       "  <thead>\n",
       "    <tr style=\"text-align: right;\">\n",
       "      <th></th>\n",
       "      <th>pickup_datetime_dayofweek</th>\n",
       "      <th>pickup_datetime_hour</th>\n",
       "      <th>pickup_latitude</th>\n",
       "      <th>pickup_longitude</th>\n",
       "      <th>dropoff_latitude</th>\n",
       "      <th>dropoff_longitude</th>\n",
       "      <th>trip_time</th>\n",
       "    </tr>\n",
       "  </thead>\n",
       "  <tbody>\n",
       "    <tr>\n",
       "      <th>2022607</th>\n",
       "      <td>4.0</td>\n",
       "      <td>1.0</td>\n",
       "      <td>40.669259</td>\n",
       "      <td>-73.986446</td>\n",
       "      <td>40.658110</td>\n",
       "      <td>-73.996890</td>\n",
       "      <td>4.0</td>\n",
       "    </tr>\n",
       "    <tr>\n",
       "      <th>912919</th>\n",
       "      <td>1.0</td>\n",
       "      <td>22.0</td>\n",
       "      <td>40.784262</td>\n",
       "      <td>-73.977685</td>\n",
       "      <td>40.852637</td>\n",
       "      <td>-73.932985</td>\n",
       "      <td>17.0</td>\n",
       "    </tr>\n",
       "    <tr>\n",
       "      <th>3090961</th>\n",
       "      <td>6.0</td>\n",
       "      <td>0.0</td>\n",
       "      <td>40.728087</td>\n",
       "      <td>-73.988042</td>\n",
       "      <td>40.690582</td>\n",
       "      <td>-73.966325</td>\n",
       "      <td>17.0</td>\n",
       "    </tr>\n",
       "    <tr>\n",
       "      <th>1400751</th>\n",
       "      <td>2.0</td>\n",
       "      <td>21.0</td>\n",
       "      <td>40.769983</td>\n",
       "      <td>-73.863293</td>\n",
       "      <td>40.815013</td>\n",
       "      <td>-73.944113</td>\n",
       "      <td>15.0</td>\n",
       "    </tr>\n",
       "    <tr>\n",
       "      <th>1889034</th>\n",
       "      <td>3.0</td>\n",
       "      <td>20.0</td>\n",
       "      <td>40.760670</td>\n",
       "      <td>-73.969077</td>\n",
       "      <td>40.716767</td>\n",
       "      <td>-74.004000</td>\n",
       "      <td>17.0</td>\n",
       "    </tr>\n",
       "  </tbody>\n",
       "</table>\n",
       "</div>"
      ],
      "text/plain": [
       "         pickup_datetime_dayofweek  pickup_datetime_hour  pickup_latitude  \\\n",
       "2022607                        4.0                   1.0        40.669259   \n",
       "912919                         1.0                  22.0        40.784262   \n",
       "3090961                        6.0                   0.0        40.728087   \n",
       "1400751                        2.0                  21.0        40.769983   \n",
       "1889034                        3.0                  20.0        40.760670   \n",
       "\n",
       "         pickup_longitude  dropoff_latitude  dropoff_longitude  trip_time  \n",
       "2022607        -73.986446         40.658110         -73.996890        4.0  \n",
       "912919         -73.977685         40.852637         -73.932985       17.0  \n",
       "3090961        -73.988042         40.690582         -73.966325       17.0  \n",
       "1400751        -73.863293         40.815013         -73.944113       15.0  \n",
       "1889034        -73.969077         40.716767         -74.004000       17.0  "
      ]
     },
     "execution_count": 66,
     "metadata": {},
     "output_type": "execute_result"
    }
   ],
   "source": [
    "time_regression_df_train.tail()"
   ]
  },
  {
   "cell_type": "code",
   "execution_count": 67,
   "metadata": {
    "collapsed": false
   },
   "outputs": [
    {
     "data": {
      "text/plain": [
       "2939699"
      ]
     },
     "execution_count": 67,
     "metadata": {},
     "output_type": "execute_result"
    }
   ],
   "source": [
    "len(x_train)"
   ]
  },
  {
   "cell_type": "code",
   "execution_count": 68,
   "metadata": {
    "collapsed": false
   },
   "outputs": [],
   "source": [
    "xy_test = pd.concat([x_test, y_test], axis=1)"
   ]
  },
  {
   "cell_type": "code",
   "execution_count": 69,
   "metadata": {
    "collapsed": false
   },
   "outputs": [
    {
     "data": {
      "text/html": [
       "<div>\n",
       "<table border=\"1\" class=\"dataframe\">\n",
       "  <thead>\n",
       "    <tr style=\"text-align: right;\">\n",
       "      <th></th>\n",
       "      <th>pickup_datetime_dayofweek</th>\n",
       "      <th>pickup_datetime_hour</th>\n",
       "      <th>pickup_latitude</th>\n",
       "      <th>pickup_longitude</th>\n",
       "      <th>dropoff_latitude</th>\n",
       "      <th>dropoff_longitude</th>\n",
       "      <th>trip_time</th>\n",
       "    </tr>\n",
       "  </thead>\n",
       "  <tbody>\n",
       "    <tr>\n",
       "      <th>3122858</th>\n",
       "      <td>6.0</td>\n",
       "      <td>1.0</td>\n",
       "      <td>40.778213</td>\n",
       "      <td>-73.952551</td>\n",
       "      <td>40.799014</td>\n",
       "      <td>-73.968229</td>\n",
       "      <td>8.0</td>\n",
       "    </tr>\n",
       "    <tr>\n",
       "      <th>1967458</th>\n",
       "      <td>3.0</td>\n",
       "      <td>23.0</td>\n",
       "      <td>40.759134</td>\n",
       "      <td>-73.995934</td>\n",
       "      <td>40.717645</td>\n",
       "      <td>-74.015911</td>\n",
       "      <td>12.0</td>\n",
       "    </tr>\n",
       "    <tr>\n",
       "      <th>427989</th>\n",
       "      <td>0.0</td>\n",
       "      <td>22.0</td>\n",
       "      <td>40.759487</td>\n",
       "      <td>-73.970370</td>\n",
       "      <td>40.712392</td>\n",
       "      <td>-73.826657</td>\n",
       "      <td>21.0</td>\n",
       "    </tr>\n",
       "    <tr>\n",
       "      <th>1852088</th>\n",
       "      <td>3.0</td>\n",
       "      <td>19.0</td>\n",
       "      <td>40.716318</td>\n",
       "      <td>-73.955408</td>\n",
       "      <td>40.694955</td>\n",
       "      <td>-73.940483</td>\n",
       "      <td>16.0</td>\n",
       "    </tr>\n",
       "    <tr>\n",
       "      <th>1629946</th>\n",
       "      <td>3.0</td>\n",
       "      <td>10.0</td>\n",
       "      <td>40.707655</td>\n",
       "      <td>-74.009205</td>\n",
       "      <td>40.750217</td>\n",
       "      <td>-73.994900</td>\n",
       "      <td>42.0</td>\n",
       "    </tr>\n",
       "  </tbody>\n",
       "</table>\n",
       "</div>"
      ],
      "text/plain": [
       "         pickup_datetime_dayofweek  pickup_datetime_hour  pickup_latitude  \\\n",
       "3122858                        6.0                   1.0        40.778213   \n",
       "1967458                        3.0                  23.0        40.759134   \n",
       "427989                         0.0                  22.0        40.759487   \n",
       "1852088                        3.0                  19.0        40.716318   \n",
       "1629946                        3.0                  10.0        40.707655   \n",
       "\n",
       "         pickup_longitude  dropoff_latitude  dropoff_longitude  trip_time  \n",
       "3122858        -73.952551         40.799014         -73.968229        8.0  \n",
       "1967458        -73.995934         40.717645         -74.015911       12.0  \n",
       "427989         -73.970370         40.712392         -73.826657       21.0  \n",
       "1852088        -73.955408         40.694955         -73.940483       16.0  \n",
       "1629946        -74.009205         40.750217         -73.994900       42.0  "
      ]
     },
     "execution_count": 69,
     "metadata": {},
     "output_type": "execute_result"
    }
   ],
   "source": [
    "xy_test.head()"
   ]
  },
  {
   "cell_type": "code",
   "execution_count": 70,
   "metadata": {
    "collapsed": true
   },
   "outputs": [],
   "source": [
    "# xy_test.to_csv('taxi_tree_test_Xy_20130506-12.csv')\n",
    "# x_test.to_csv('taxi_tree_test_X_20130506-12.csv')\n",
    "# y_test.to_csv('taxi_tree_test_y_20130506-12.csv')"
   ]
  },
  {
   "cell_type": "code",
   "execution_count": 71,
   "metadata": {
    "collapsed": true
   },
   "outputs": [],
   "source": [
    "# xy_test_sample = Xy_test.sample(10000, random_state=99)"
   ]
  },
  {
   "cell_type": "code",
   "execution_count": 72,
   "metadata": {
    "collapsed": true
   },
   "outputs": [],
   "source": [
    "# xy_test_sample.to_csv('taxi_tree_test_Xy_sample.csv')"
   ]
  },
  {
   "cell_type": "code",
   "execution_count": 73,
   "metadata": {
    "collapsed": false
   },
   "outputs": [],
   "source": [
    "# xy_test_sample.head()"
   ]
  },
  {
   "cell_type": "code",
   "execution_count": 74,
   "metadata": {
    "collapsed": false
   },
   "outputs": [
    {
     "name": "stdout",
     "output_type": "stream",
     "text": [
      "(2939699, 6)\n",
      "17638194\n",
      "(326634, 6)\n",
      "(3266333, 7)\n",
      "3266333\n"
     ]
    }
   ],
   "source": [
    "print(x_train.shape)\n",
    "print(x_train.size)\n",
    "print(x_test.shape)\n",
    "print(time_regression_df.shape)\n",
    "print(x_train.shape[0]+x_test.shape[0])"
   ]
  },
  {
   "cell_type": "markdown",
   "metadata": {},
   "source": [
    "# Start model building"
   ]
  },
  {
   "cell_type": "code",
   "execution_count": 75,
   "metadata": {
    "collapsed": false
   },
   "outputs": [],
   "source": [
    "import time\n",
    "# Import the necessary modules and libraries\n",
    "from sklearn.tree import DecisionTreeRegressor\n",
    "import numpy as np\n",
    "import matplotlib.pyplot as plt"
   ]
  },
  {
   "cell_type": "markdown",
   "metadata": {},
   "source": [
    "## Train and compare a few decision trees with different parameters"
   ]
  },
  {
   "cell_type": "code",
   "execution_count": 76,
   "metadata": {
    "collapsed": false,
    "scrolled": true
   },
   "outputs": [
    {
     "name": "stdout",
     "output_type": "stream",
     "text": [
      "(10, 15, 20, 25, 30)\n",
      "[0.51337097515902541, 0.64409382777503155, 0.6957163207523871, 0.71429589738370614, 0.7159815227278703]\n",
      "[1547595.3414912082, 1284490.8114952976, 1143568.0997977962, 1084873.9820350427, 1077427.5321143884]\n",
      "[14.24124002456665, 20.28833317756653, 24.131511449813843, 25.42002558708191, 25.958088874816895]\n"
     ]
    }
   ],
   "source": [
    "#features = ['pickup_latitude', 'pickup_longitude', 'dropoff_latitude', 'dropoff_longitude','pickup_datetime']\n",
    "#print(\"* features:\", features, sep=\"\\n\")\n",
    "\n",
    "max_depth_list = (10,15,20,25,30)\n",
    "scores = [-1, -1, -1, -1, -1]\n",
    "sum_abs_devs = [-1, -1, -1, -1, -1]\n",
    "times = [-1, -1, -1, -1, -1]\n",
    "for i in range(0,len(max_depth_list)):\n",
    "    start = time.time()\n",
    "    regtree = DecisionTreeRegressor(min_samples_split=1000, random_state=10, max_depth=max_depth_list[i])# formerly 15. 15 is reasonable, \n",
    "    # 30 brings best results # random states: 99\n",
    "    regtree.fit(x_train, y_train)\n",
    "    scores[i]= regtree.score(x_test, y_test)\n",
    "    y_pred = regtree.predict(x_test)\n",
    "    sum_abs_devs[i] = sum(abs(y_pred-y_test))\n",
    "    times[i] = time.time() - start\n",
    "print(max_depth_list)\n",
    "print(scores)\n",
    "print(sum_abs_devs)\n",
    "print(times)"
   ]
  },
  {
   "cell_type": "markdown",
   "metadata": {},
   "source": [
    "### Some more results"
   ]
  },
  {
   "cell_type": "markdown",
   "metadata": {},
   "source": [
    "| Sum of abs. deviation     | max_depth |  max_depth    |  max_depth    |  max_depth    |  max_depth    |\n",
    "|---------------------------|-----------|------|------|------|------|\n",
    "| min_samples_split         | 10        | 15   | 20   | 25   | 30   |\n",
    "| 3                         | 1543      | 1267 | 1127 | 1088 | 1139 |\n",
    "| 10                        | 1544      | 1266 | 1117 | 1062 | 1086 |\n",
    "| 20                        | 1544      | 1265 | 1108 | 1037 | 1034 |\n",
    "| 50                        | 1544      | 1263 | 1097 | 1011 | 994  |\n",
    "| 250                       | 1544      | 1266 | 1103 | 1019 | 1001 |\n",
    "| 1000                      | 1548      | 1284 | 1144 | 1085 | 1077 |\n",
    "| 2500                      | 1555      | 1307 | 1189 | 1150 | 1146 |"
   ]
  },
  {
   "cell_type": "markdown",
   "metadata": {},
   "source": [
    "Min_samples_split = 3  \n",
    "(10, 15, 20, 25, 30)  \n",
    "[0.51550436937183575, 0.64824394212610637, 0.68105673170887715, 0.66935222696811203, 0.62953726391785103]  \n",
    "[1543779.4758261547, 1267630.6429649692, 1126951.2647852183, 1088342.055931434, 1139060.7870262777]  \n",
    "[14.802491903305054, 21.25719118118286, 27.497225046157837, 32.381808280944824, 35.0844943523407]"
   ]
  },
  {
   "cell_type": "markdown",
   "metadata": {},
   "source": [
    "Min_samples_split = 10  \n",
    "(10, 15, 20, 25, 30)  \n",
    "[0.51546967657630205, 0.65055440252664309, 0.69398351369676525, 0.69678113708751077, 0.67518497976746361]  \n",
    "[1543829.4000325042, 1266104.6486240581, 1117165.9640872395, 1061893.3390857978, 1086045.4846943137]  \n",
    "[14.141993999481201, 20.831212759017944, 25.626588821411133, 29.81039047241211, 32.23483180999756]"
   ]
  },
  {
   "cell_type": "markdown",
   "metadata": {},
   "source": [
    "Min_samples_split = 20  \n",
    "(10, 15, 20, 25, 30)  \n",
    "[0.51537943698967736, 0.65215078696481421, 0.70216115764491505, 0.71547757670696144, 0.70494598277965781]  \n",
    "[1543841.1100632891, 1264595.0251062319, 1108064.4596608584, 1036593.8033015681, 1039378.3133869285]  \n",
    "[14.048030376434326, 20.481205463409424, 25.652794361114502, 29.03341507911682, 31.56394076347351]"
   ]
  },
  {
   "cell_type": "markdown",
   "metadata": {},
   "source": [
    "min_samples_split=50  \n",
    "(10, 15, 20, 25, 30)  \n",
    "[0.51540742268899331, 0.65383862050244068, 0.71125658610588971, 0.73440457163892259, 0.73435595461521908]  \n",
    "[1543721.3435906437, 1262877.4227863667, 1097080.889761846, 1010511.305738725, 994244.46643680066]  \n",
    "[14.682952404022217, 21.243955373764038, 25.80405569076538, 28.731933116912842, 32.00149917602539]"
   ]
  },
  {
   "cell_type": "markdown",
   "metadata": {},
   "source": [
    "min_samples_split=250  \n",
    "(10, 15, 20, 25, 30)  \n",
    "[0.51532618474195502, 0.65304694576643452, 0.712453138233199, 0.73862283625684677, 0.74248829470934752]  \n",
    "[1544004.1103626473, 1266358.9437320188, 1102793.6462709717, 1018555.9754967012, 1000675.2014443219]  \n",
    "[14.215412378311157, 20.32301664352417, 25.39385199546814, 27.81620717048645, 28.74960231781006]"
   ]
  },
  {
   "cell_type": "markdown",
   "metadata": {},
   "source": [
    "min_samples_split=1000  \n",
    "(10, 15, 20, 25, 30)  \n",
    "[0.51337097515902541, 0.64409382777503155, 0.6957163207523871, 0.71429589738370614, 0.7159815227278703]  \n",
    "[1547595.3414912082, 1284490.8114952976, 1143568.0997977962, 1084873.9820350427, 1077427.5321143884]  \n",
    "[14.676559448242188, 20.211236476898193, 23.846965551376343, 26.270352125167847, 26.993313789367676]"
   ]
  },
  {
   "cell_type": "markdown",
   "metadata": {},
   "source": [
    "min_samples_split=2500  \n",
    "(10, 15, 20, 25, 30)  \n",
    "[0.50872112253965895, 0.63184888428446373, 0.67528344919996985, 0.68767132817144228, 0.68837707513473978]  \n",
    "[1554528.9746030923, 1306995.3609336747, 1188981.9585730932, 1149615.9326777055, 1146209.3017767756]  \n",
    "[14.31177806854248, 20.02240490913391, 23.825161457061768, 24.616609811782837, 25.06274127960205]"
   ]
  },
  {
   "cell_type": "markdown",
   "metadata": {},
   "source": [
    "Train the most promising decision tree again"
   ]
  },
  {
   "cell_type": "code",
   "execution_count": 77,
   "metadata": {
    "collapsed": false
   },
   "outputs": [
    {
     "name": "stdout",
     "output_type": "stream",
     "text": [
      "28.976523399353027\n"
     ]
    }
   ],
   "source": [
    "start = time.time()\n",
    "regtree = DecisionTreeRegressor(min_samples_split=50, random_state=10, max_depth=25, splitter='best' )\n",
    "regtree.fit(x_train, y_train)\n",
    "regtree.score(x_test, y_test)\n",
    "y_pred = regtree.predict(x_test)\n",
    "sum_abs_devs = sum(abs(y_pred-y_test))\n",
    "elapsed = time.time() - start\n",
    "print(elapsed)"
   ]
  },
  {
   "cell_type": "markdown",
   "metadata": {},
   "source": [
    "A tree with this depth is too big to dump. Graphviz works fine until around depth 12."
   ]
  },
  {
   "cell_type": "code",
   "execution_count": 78,
   "metadata": {
    "collapsed": true
   },
   "outputs": [],
   "source": [
    "# from sklearn import tree\n",
    "# tree.export_graphviz(regtree, out_file='figures/tree_d10.dot', feature_names=time_regression_df.ix[:,0:6].columns, class_names=time_regression_df.columns[6])    "
   ]
  },
  {
   "cell_type": "code",
   "execution_count": 79,
   "metadata": {
    "collapsed": false
   },
   "outputs": [
    {
     "data": {
      "text/plain": [
       "array([  84.65740931,   67.47581069,   54.53424675, ...,   18.58832645,\n",
       "         76.5443787 ,  109.78512397])"
      ]
     },
     "execution_count": 79,
     "metadata": {},
     "output_type": "execute_result"
    }
   ],
   "source": [
    "regtree.tree_.impurity"
   ]
  },
  {
   "cell_type": "code",
   "execution_count": 80,
   "metadata": {
    "collapsed": false
   },
   "outputs": [
    {
     "data": {
      "text/plain": [
       "count    2.939699e+06\n",
       "mean     1.303100e+01\n",
       "std      9.200948e+00\n",
       "min      1.000000e+00\n",
       "25%      7.000000e+00\n",
       "50%      1.100000e+01\n",
       "75%      1.700000e+01\n",
       "max      1.780000e+02\n",
       "Name: trip_time, dtype: float64"
      ]
     },
     "execution_count": 80,
     "metadata": {},
     "output_type": "execute_result"
    }
   ],
   "source": [
    "y_train.describe()"
   ]
  },
  {
   "cell_type": "code",
   "execution_count": 81,
   "metadata": {
    "collapsed": false
   },
   "outputs": [
    {
     "name": "stdout",
     "output_type": "stream",
     "text": [
      "R²:  0.734404571639\n"
     ]
    }
   ],
   "source": [
    "print('R²: ', regtree.score(x_test, y_test))"
   ]
  },
  {
   "cell_type": "code",
   "execution_count": 82,
   "metadata": {
    "collapsed": false
   },
   "outputs": [
    {
     "data": {
      "text/plain": [
       "['treelib/regtree_depth_25_mss_50_rs_10.pkl',\n",
       " 'treelib/regtree_depth_25_mss_50_rs_10.pkl_01.npy',\n",
       " 'treelib/regtree_depth_25_mss_50_rs_10.pkl_02.npy',\n",
       " 'treelib/regtree_depth_25_mss_50_rs_10.pkl_03.npy']"
      ]
     },
     "execution_count": 82,
     "metadata": {},
     "output_type": "execute_result"
    }
   ],
   "source": [
    "from sklearn.externals import joblib\n",
    "joblib.dump(regtree, 'treelib/regtree_depth_25_mss_50_rs_10.pkl', protocol=2) "
   ]
  },
  {
   "cell_type": "markdown",
   "metadata": {},
   "source": [
    "A few stats about the trained tree:"
   ]
  },
  {
   "cell_type": "code",
   "execution_count": 83,
   "metadata": {
    "collapsed": false
   },
   "outputs": [
    {
     "name": "stdout",
     "output_type": "stream",
     "text": [
      "[ 0.03798533  0.08706913  0.20192368  0.26153429  0.17102708  0.24046048] \n",
      " None \n",
      " 1 \n",
      " [2939699 2839702 2767340 ...,      44      13      11] \n",
      "\n"
     ]
    }
   ],
   "source": [
    "print(regtree.feature_importances_ ,'\\n',\n",
    "      regtree.class_weight,'\\n',\n",
    "      regtree.min_samples_leaf,'\\n',\n",
    "      regtree.tree_.n_node_samples,'\\n'\n",
    "      )"
   ]
  },
  {
   "cell_type": "code",
   "execution_count": 84,
   "metadata": {
    "collapsed": false
   },
   "outputs": [
    {
     "name": "stdout",
     "output_type": "stream",
     "text": [
      "Perzentile(%):  [1, 5, 10, 15, 25, 50, 75, 90, 95, 99] \n",
      " [-15.          -7.51219512  -4.86363636  -3.45399089  -1.80952381\n",
      "   0.44690265   2.35         4.32142857   5.92        11.05128205]\n",
      "Absolute time deviation (in 1k):  1010.51130574\n"
     ]
    },
    {
     "data": {
      "image/png": "[encoded data removed]",
      "text/plain": [
       "<matplotlib.figure.Figure at 0x7f4ce670bdd8>"
      ]
     },
     "metadata": {},
     "output_type": "display_data"
    }
   ],
   "source": [
    "y_pred = regtree.predict(x_test)\n",
    "np.linalg.norm(np.ceil(y_pred)-y_test)\n",
    "diff = (y_pred-y_test)\n",
    "# plt.figure(figsize=(12,10)) # not needed. set values globally\n",
    "plt.hist(diff.values, bins=100, range=[-50, 50])\n",
    "print('Perzentile(%): ', [1,5,10,15,25,50,75,90,95,99], '\\n', np.percentile(diff.values, [1,5,10,15,25,50,75,90,95,99]))\n",
    "print('Absolute time deviation (in 1k): ', sum(abs(diff))/1000)\n",
    "plt.title('Error Distribution on the 2013 Test Set')\n",
    "plt.xlabel('Error in Minutes')\n",
    "plt.ylabel('Frequency')\n",
    "plt.savefig('figures/simple_tree_error_d25_msp_50.eps', format='eps', dpi=1000)"
   ]
  },
  {
   "cell_type": "code",
   "execution_count": 85,
   "metadata": {
    "collapsed": false
   },
   "outputs": [
    {
     "data": {
      "text/plain": [
       "count    326634.000000\n",
       "mean          0.002958\n",
       "std           4.758333\n",
       "min        -258.090909\n",
       "25%          -1.809524\n",
       "50%           0.446903\n",
       "75%           2.350000\n",
       "max          82.000000\n",
       "Name: trip_time, dtype: float64"
      ]
     },
     "execution_count": 85,
     "metadata": {},
     "output_type": "execute_result"
    }
   ],
   "source": [
    "diff.describe()"
   ]
  },
  {
   "cell_type": "markdown",
   "metadata": {},
   "source": [
    "# Finding the leaves / predicted times"
   ]
  },
  {
   "cell_type": "code",
   "execution_count": 86,
   "metadata": {
    "collapsed": false
   },
   "outputs": [
    {
     "name": "stdout",
     "output_type": "stream",
     "text": [
      "[0 0 0 ..., 1 1 1]\n"
     ]
    }
   ],
   "source": [
    "leaves = regtree.tree_.children_left*regtree.tree_.children_right\n",
    "for idx, a in enumerate(leaves):\n",
    "    if a==1:\n",
    "        x=1# do nothing\n",
    "    else:\n",
    "        leaves[idx] = 0\n",
    "print(leaves)"
   ]
  },
  {
   "cell_type": "code",
   "execution_count": 699,
   "metadata": {
    "collapsed": false
   },
   "outputs": [
    {
     "name": "stdout",
     "output_type": "stream",
     "text": [
      "67260\n"
     ]
    },
    {
     "data": {
      "text/plain": [
       "67260"
      ]
     },
     "execution_count": 699,
     "metadata": {},
     "output_type": "execute_result"
    }
   ],
   "source": [
    "print(leaves[leaves==1].sum())\n",
    "len(leaves[leaves==1])"
   ]
  },
  {
   "cell_type": "markdown",
   "metadata": {},
   "source": [
    "So we have 67260 leaves."
   ]
  },
  {
   "cell_type": "code",
   "execution_count": 88,
   "metadata": {
    "collapsed": false
   },
   "outputs": [
    {
     "data": {
      "text/plain": [
       "0.5000037169470484"
      ]
     },
     "execution_count": 88,
     "metadata": {},
     "output_type": "execute_result"
    }
   ],
   "source": [
    "len(leaves[leaves==1])/regtree.tree_.node_count"
   ]
  },
  {
   "cell_type": "markdown",
   "metadata": {},
   "source": [
    "So 50% of the nodes are leaves. A little bit cross-checking:"
   ]
  },
  {
   "cell_type": "code",
   "execution_count": 89,
   "metadata": {
    "collapsed": false
   },
   "outputs": [
    {
     "name": "stdout",
     "output_type": "stream",
     "text": [
      "134519\n",
      "134519\n"
     ]
    }
   ],
   "source": [
    "print((leaves==1).sum()+(leaves==0).sum())\n",
    "print(len(leaves))"
   ]
  },
  {
   "cell_type": "code",
   "execution_count": 90,
   "metadata": {
    "collapsed": false
   },
   "outputs": [
    {
     "data": {
      "text/plain": [
       "array([2939699, 2839702, 2767340, ...,      44,      13,      11])"
      ]
     },
     "execution_count": 90,
     "metadata": {},
     "output_type": "execute_result"
    }
   ],
   "source": [
    "node_samples = regtree.tree_.n_node_samples\n",
    "node_samples"
   ]
  },
  {
   "cell_type": "code",
   "execution_count": 91,
   "metadata": {
    "collapsed": false
   },
   "outputs": [
    {
     "data": {
      "text/plain": [
       "(array([    0,     1,     2,     3,     4,     5,     6,     7,     8,\n",
       "            9,    10,    11,    12,    13,    14,    15,    16,    17,\n",
       "           18,    19,    20,    21,    22,    23,    24,    25,    26,\n",
       "           27,    28,    29,    30,    31,    32,    33,    34,    35,\n",
       "           36,    37,    38,    39,    40,    41,    42,    43,    44,\n",
       "           45,    46,    47,    48,    49,    50,    51,    52,    53,\n",
       "           54,    55,    56,    57,    58,    59,    60,    61,    62,\n",
       "           63,    64,    65,    66,    67,    68,    69,    70,    71,\n",
       "           72,    73,    74,    75,    76,    77,    78,    79,    80,\n",
       "           81,    82,    83,    84,    85,    86,    87,    88,    89,\n",
       "           90,    91,    92,    93,    94,    95,    96,    97,    98,\n",
       "           99,   100,   101,   102,   103,   104,   105,   106,   107,\n",
       "          108,   109,   110,   111,   112,   113,   114,   115,   116,\n",
       "          117,   118,   119,   120,   121,   122,   123,   124,   125,\n",
       "          126,   127,   128,   129,   130,   131,   132,   133,   134,\n",
       "          135,   136,   137,   138,   139,   140,   141,   142,   143,\n",
       "          144,   145,   146,   147,   148,   149,   150,   151,   152,\n",
       "          153,   154,   155,   156,   157,   158,   159,   160,   161,\n",
       "          162,   163,   164,   165,   166,   167,   168,   169,   170,\n",
       "          171,   172,   173,   174,   175,   176,   177,   178,   179,\n",
       "          180,   181,   182,   183,   184,   185,   186,   187,   188,\n",
       "          189,   190,   191,   192,   193,   194,   195,   196,   197,\n",
       "          198,   199,   200,   201,   202,   203,   204,   205,   206,\n",
       "          207,   208,   209,   210,   211,   212,   213,   214,   215,\n",
       "          216,   217,   218,   219,   220,   221,   222,   223,   224,\n",
       "          225,   226,   227,   228,   229,   230,   231,   232,   233,\n",
       "          234,   235,   236,   237,   238,   239,   240,   241,   242,\n",
       "          243,   244,   245,   246,   247,   248,   249,   250,   251,\n",
       "          252,   253,   254,   255,   256,   257,   258,   259,   260,\n",
       "          261,   262,   263,   264,   265,   266,   267,   268,   269,\n",
       "          270,   271,   272,   273,   274,   275,   276,   277,   278,\n",
       "          279,   280,   281,   282,   283,   284,   285,   286,   287,\n",
       "          288,   289,   290,   291,   292,   293,   294,   295,   296,\n",
       "          297,   298,   299,   300,   301,   302,   303,   304,   305,\n",
       "          306,   307,   308,   309,   310,   311,   312,   313,   314,\n",
       "          315,   316,   317,   318,   319,   320,   321,   322,   323,\n",
       "          324,   325,   326,   327,   328,   330,   331,   332,   333,\n",
       "          334,   335,   336,   337,   338,   339,   340,   341,   343,\n",
       "          344,   345,   346,   347,   348,   349,   350,   351,   352,\n",
       "          353,   354,   355,   356,   357,   358,   359,   360,   361,\n",
       "          362,   363,   364,   365,   366,   367,   368,   369,   370,\n",
       "          371,   372,   373,   374,   375,   376,   377,   378,   379,\n",
       "          380,   381,   382,   384,   385,   386,   387,   388,   389,\n",
       "          390,   391,   392,   393,   394,   395,   396,   397,   398,\n",
       "          399,   400,   401,   402,   403,   405,   406,   407,   408,\n",
       "          409,   410,   411,   412,   413,   414,   415,   416,   417,\n",
       "          418,   419,   420,   421,   422,   424,   425,   426,   427,\n",
       "          428,   429,   430,   431,   432,   433,   434,   435,   436,\n",
       "          437,   438,   439,   440,   441,   445,   446,   447,   450,\n",
       "          451,   452,   453,   454,   456,   457,   458,   459,   460,\n",
       "          461,   463,   464,   466,   467,   468,   469,   470,   471,\n",
       "          472,   473,   474,   475,   476,   477,   478,   480,   481,\n",
       "          483,   484,   485,   486,   487,   489,   493,   494,   495,\n",
       "          496,   497,   498,   499,   500,   501,   502,   503,   505,\n",
       "          506,   507,   508,   509,   510,   512,   514,   515,   516,\n",
       "          517,   519,   522,   524,   525,   526,   527,   528,   530,\n",
       "          531,   533,   534,   536,   537,   538,   541,   543,   544,\n",
       "          547,   549,   551,   552,   554,   555,   556,   557,   559,\n",
       "          560,   561,   562,   563,   564,   566,   567,   568,   572,\n",
       "          574,   577,   578,   579,   586,   587,   588,   589,   590,\n",
       "          591,   592,   593,   595,   596,   598,   600,   602,   604,\n",
       "          605,   608,   609,   610,   611,   613,   614,   615,   618,\n",
       "          620,   621,   623,   624,   626,   627,   628,   629,   632,\n",
       "          634,   637,   638,   640,   642,   645,   646,   647,   650,\n",
       "          654,   656,   658,   659,   660,   661,   663,   666,   670,\n",
       "          671,   672,   674,   675,   676,   683,   684,   686,   687,\n",
       "          694,   695,   696,   697,   698,   701,   703,   707,   708,\n",
       "          709,   710,   711,   712,   713,   715,   717,   718,   719,\n",
       "          721,   723,   725,   726,   729,   733,   734,   739,   742,\n",
       "          743,   744,   748,   750,   751,   755,   757,   759,   762,\n",
       "          763,   770,   771,   773,   775,   776,   777,   786,   789,\n",
       "          790,   791,   792,   795,   798,   802,   805,   807,   810,\n",
       "          811,   812,   814,   815,   816,   817,   820,   822,   823,\n",
       "          826,   827,   828,   829,   832,   833,   835,   836,   838,\n",
       "          848,   850,   851,   854,   859,   860,   864,   867,   870,\n",
       "          871,   880,   881,   883,   893,   895,   897,   898,   902,\n",
       "          909,   910,   918,   920,   927,   931,   933,   939,   940,\n",
       "          941,   942,   946,   949,   952,   965,   966,   968,   971,\n",
       "          976,   978,   980,   981,   985,   987,   992,   999,  1000,\n",
       "         1001,  1010,  1011,  1013,  1020,  1021,  1026,  1029,  1031,\n",
       "         1037,  1042,  1043,  1051,  1066,  1085,  1087,  1092,  1097,\n",
       "         1099,  1102,  1105,  1108,  1114,  1120,  1123,  1128,  1135,\n",
       "         1150,  1152,  1155,  1163,  1164,  1170,  1184,  1192,  1193,\n",
       "         1195,  1202,  1204,  1207,  1208,  1214,  1218,  1226,  1228,\n",
       "         1232,  1245,  1248,  1270,  1282,  1287,  1297,  1301,  1307,\n",
       "         1316,  1317,  1330,  1336,  1343,  1349,  1387,  1390,  1392,\n",
       "         1428,  1433,  1436,  1457,  1465,  1483,  1499,  1500,  1510,\n",
       "         1515,  1519,  1533,  1559,  1561,  1564,  1566,  1570,  1572,\n",
       "         1585,  1594,  1598,  1601,  1606,  1618,  1619,  1635,  1639,\n",
       "         1643,  1645,  1646,  1657,  1666,  1668,  1676,  1719,  1755,\n",
       "         1759,  1764,  1785,  1798,  1801,  1812,  1815,  1841,  1844,\n",
       "         1859,  1867,  1875,  1877,  1917,  1928,  1981,  2013,  2036,\n",
       "         2062,  2070,  2073,  2095,  2131,  2155,  2160,  2195,  2317,\n",
       "         2319,  2354,  2380,  2420,  2433,  2451,  2576,  2577,  2735,\n",
       "         2740,  2821,  2832,  2854,  2942,  2956,  2962,  2977,  3154,\n",
       "         3174,  3232,  3254,  3277,  3359,  3402,  3441,  3545,  3755,\n",
       "         3785,  3880,  3885,  4255,  4378,  4523,  4656,  5672,  5866,\n",
       "         5878,  5905,  5921,  6397,  7092,  7462,  7463,  7756,  8454,\n",
       "         8460,  8487,  9138,  9567, 11936, 20535, 23278]),\n",
       " array([67259,  4765,  2758,  1954,  1637,  1449,  1369,  1308,  1203,\n",
       "         1165,  1087,  1088,  1051,  1083,   982,  1059,  1007,   991,\n",
       "         1006,  1043,  1063,  1014,  1048,  1032,  1027,   967,  1009,\n",
       "          996,   985,  1005,  1030,  1033,  1074,   995,   941,  1023,\n",
       "          981,  1084,  1028,  1001,   965,  1083,   980,  1061,  1023,\n",
       "         1105,  1046,  1105,  1123,  1281,   156,   159,   151,   143,\n",
       "          154,   133,   124,   159,   121,   119,   111,   110,    98,\n",
       "          115,   113,   118,    96,    90,    96,    72,    87,    93,\n",
       "           79,    94,    90,    67,    95,    78,    87,    63,    53,\n",
       "           56,    72,    60,    66,    76,    55,    59,    50,    49,\n",
       "           59,    32,    48,    44,    49,    46,    43,    40,    45,\n",
       "           46,    36,    39,    35,    42,    42,    47,    34,    46,\n",
       "           43,    28,    31,    35,    34,    33,    35,    40,    22,\n",
       "           33,    37,    33,    30,    27,    22,    25,    27,    23,\n",
       "           26,    24,    35,    15,    23,    23,    25,    24,    22,\n",
       "           25,    24,    16,    24,    23,    24,    16,    18,    19,\n",
       "           27,    25,    30,    23,    26,    24,    18,    19,    22,\n",
       "           18,    15,    16,     8,    22,    18,    15,    15,    13,\n",
       "           16,    23,    11,    10,    14,    18,    14,     8,    16,\n",
       "           20,     8,    11,    15,    15,    11,    18,    11,    16,\n",
       "            8,    14,    12,    19,    17,    12,     9,    12,    12,\n",
       "           11,    12,    12,     9,     8,     6,    19,    13,    10,\n",
       "           17,    10,    14,     5,    17,     5,    10,     7,     7,\n",
       "           12,    16,    13,     8,     9,    10,     7,    11,    16,\n",
       "           10,    12,     5,     8,     4,    11,     8,     9,     7,\n",
       "            9,     7,     5,     9,     4,    11,     8,    10,     5,\n",
       "           10,     5,     8,    13,     9,     1,     5,     2,     3,\n",
       "            6,     6,     8,     2,     5,     9,     9,    12,     8,\n",
       "           11,     2,     8,     9,     7,     9,     6,     1,     5,\n",
       "            8,     9,    10,     5,     7,     7,    10,     2,     6,\n",
       "            5,     7,     5,     6,     5,     6,     5,     5,     3,\n",
       "            9,     6,     3,     7,     3,     5,     3,     7,     6,\n",
       "            4,     4,     7,     4,     8,     6,     6,     3,     6,\n",
       "            2,     8,     3,     3,     2,     2,     3,     5,     5,\n",
       "            3,     3,     2,     4,     7,     2,     3,     3,     2,\n",
       "            4,    10,     5,     1,     4,     2,     5,     5,     4,\n",
       "            2,     5,     1,     5,     6,     3,     2,     1,     3,\n",
       "            5,     4,     4,     7,     2,     5,     2,     3,     7,\n",
       "            4,     4,     1,     2,     2,     2,     4,     7,     2,\n",
       "            4,     1,     2,     2,     4,     2,     3,     2,     2,\n",
       "            3,     4,     5,     4,     4,     3,     2,     1,     2,\n",
       "            3,     3,     2,     3,     4,     2,     2,     1,     1,\n",
       "            4,     2,     2,     1,     1,     1,     4,     3,     2,\n",
       "            2,     1,     3,     2,     2,     3,     3,     1,     2,\n",
       "            2,     4,     1,     1,     2,     2,     6,     3,     2,\n",
       "            2,     1,     1,     4,     5,     3,     2,     2,     3,\n",
       "            1,     1,     2,     2,     2,     2,     1,     3,     5,\n",
       "            2,     3,     3,     1,     2,     1,     3,     2,     2,\n",
       "            3,     5,     3,     3,     1,     1,     1,     2,     1,\n",
       "            1,     3,     4,     1,     3,     4,     1,     2,     3,\n",
       "            1,     2,     1,     2,     5,     1,     3,     1,     1,\n",
       "            2,     2,     4,     1,     2,     1,     1,     1,     1,\n",
       "            1,     5,     2,     1,     2,     3,     1,     3,     1,\n",
       "            1,     3,     3,     2,     2,     1,     1,     2,     1,\n",
       "            4,     2,     1,     4,     2,     2,     1,     2,     2,\n",
       "            1,     1,     3,     1,     1,     1,     1,     2,     2,\n",
       "            2,     1,     2,     2,     2,     2,     1,     1,     2,\n",
       "            1,     2,     2,     1,     1,     1,     2,     2,     1,\n",
       "            1,     2,     1,     3,     1,     3,     1,     2,     1,\n",
       "            1,     2,     1,     1,     2,     2,     1,     1,     1,\n",
       "            1,     2,     1,     1,     1,     1,     2,     1,     1,\n",
       "            1,     3,     1,     2,     1,     2,     1,     1,     2,\n",
       "            1,     1,     2,     2,     1,     4,     1,     2,     1,\n",
       "            1,     3,     3,     1,     2,     1,     1,     1,     1,\n",
       "            2,     2,     1,     2,     3,     2,     3,     2,     1,\n",
       "            2,     2,     1,     1,     1,     2,     1,     1,     1,\n",
       "            2,     1,     1,     1,     1,     1,     2,     1,     1,\n",
       "            1,     1,     2,     1,     1,     1,     1,     1,     2,\n",
       "            1,     1,     1,     1,     1,     1,     1,     1,     3,\n",
       "            1,     1,     1,     1,     1,     1,     1,     1,     1,\n",
       "            1,     1,     1,     1,     1,     1,     1,     1,     1,\n",
       "            1,     1,     1,     1,     1,     2,     1,     1,     1,\n",
       "            1,     1,     1,     1,     1,     1,     1,     1,     2,\n",
       "            1,     1,     1,     1,     1,     1,     1,     1,     1,\n",
       "            2,     1,     1,     1,     1,     1,     1,     1,     1,\n",
       "            1,     1,     1,     1,     1,     2,     1,     2,     1,\n",
       "            1,     1,     2,     1,     1,     1,     1,     2,     1,\n",
       "            1,     1,     1,     1,     1,     1,     2,     2,     1,\n",
       "            1,     2,     1,     1,     1,     1,     1,     2,     2,\n",
       "            1,     1,     1,     1,     1,     1,     1,     1,     1,\n",
       "            2,     1,     2,     1,     1,     1,     1,     1,     1,\n",
       "            1,     1,     1,     1,     1,     1,     1,     1,     1,\n",
       "            1,     1,     1,     1,     1,     1,     1,     1,     2,\n",
       "            1,     1,     1,     1,     1,     1,     1,     2,     1,\n",
       "            1,     1,     1,     1,     1,     1,     1,     1,     1,\n",
       "            1,     1,     2,     1,     1,     1,     1,     1,     1,\n",
       "            1,     1,     1,     1,     1,     2,     1,     1,     2,\n",
       "            1,     1,     1,     1,     1,     1,     1,     1,     1,\n",
       "            1,     1,     1,     2,     1,     1,     1,     1,     1,\n",
       "            1,     1,     1,     1,     1,     1,     1,     1,     1,\n",
       "            1,     1,     1,     1,     1,     1,     1,     1,     1,\n",
       "            1,     1,     1,     1,     1,     1,     1,     1,     1,\n",
       "            1,     1,     1,     1,     1,     1,     1,     1,     1,\n",
       "            1,     1,     1,     1,     1,     1,     1,     2,     1,\n",
       "            1,     1,     1,     1,     1,     1,     1,     1,     2,\n",
       "            2,     1,     1,     1,     1,     1,     1,     1,     1,\n",
       "            1,     1,     1,     1,     1,     1,     1,     1,     1,\n",
       "            1,     1,     1,     1,     1,     1,     1,     1,     1,\n",
       "            1,     1,     1,     1,     1,     1,     1]))"
      ]
     },
     "execution_count": 91,
     "metadata": {},
     "output_type": "execute_result"
    }
   ],
   "source": [
    "leaf_samples = np.multiply(leaves, node_samples)\n",
    "stats = np.unique(leaf_samples, return_counts=True)\n",
    "stats"
   ]
  },
  {
   "cell_type": "markdown",
   "metadata": {},
   "source": [
    "## To get a feeling for the generalization of the tree: Do some leaves represent the vast amount of trips? This is what we would expect. "
   ]
  },
  {
   "cell_type": "code",
   "execution_count": 92,
   "metadata": {
    "collapsed": false
   },
   "outputs": [
    {
     "data": {
      "image/png": "[encoded data removed]",
      "text/plain": [
       "<matplotlib.figure.Figure at 0x7f4ce6af6ef0>"
      ]
     },
     "metadata": {},
     "output_type": "display_data"
    }
   ],
   "source": [
    "plt.scatter(stats[0][1:], stats[1][1:])\n",
    "plt.yscale('log')\n",
    "plt.xscale('log')"
   ]
  },
  {
   "cell_type": "markdown",
   "metadata": {},
   "source": [
    "## The above plot looks promising, but is not very useful. Nonetheless, you can represent this in a Lorenzcurve."
   ]
  },
  {
   "cell_type": "code",
   "execution_count": 93,
   "metadata": {
    "collapsed": false
   },
   "outputs": [
    {
     "data": {
      "image/png": "[encoded data removed]",
      "text/plain": [
       "<matplotlib.figure.Figure at 0x7f4ce90012b0>"
      ]
     },
     "metadata": {},
     "output_type": "display_data"
    }
   ],
   "source": [
    "node_perc = np.cumsum(stats[1][1:]) # Cumulative sum of nodes\n",
    "samples_perc = np.cumsum(np.multiply(stats[0][1:],stats[1][1:]))\n",
    "node_perc = node_perc / node_perc[-1]\n",
    "samples_perc = samples_perc / samples_perc[-1]\n",
    "plt.plot(node_perc, samples_perc)\n",
    "plt.plot((np.array(range(0,100,1))/100), (np.array(range(0,100,1))/100), color='black')\n",
    "plt.ylim(0,1)\n",
    "plt.xlim(0,1)\n",
    "plt.title('Lorenz Curve Between Nodes And Samples')\n",
    "plt.xlabel('Leaves %')\n",
    "plt.ylabel('Samples %')\n",
    "plt.fill_between(node_perc, samples_perc , color='blue', alpha='1')\n",
    "plt.savefig('figures/lorenzcurve_d25_msp_50.eps', format='eps', dpi=1000)\n",
    "plt.savefig('figures/lorenzcurve_d25_msp_50.png', format='png', dpi=300)"
   ]
  },
  {
   "cell_type": "markdown",
   "metadata": {},
   "source": [
    "### About 5% of the leaves represent about 40% of the samples"
   ]
  },
  {
   "cell_type": "code",
   "execution_count": 651,
   "metadata": {
    "collapsed": false
   },
   "outputs": [
    {
     "data": {
      "text/plain": [
       "True"
      ]
     },
     "execution_count": 651,
     "metadata": {},
     "output_type": "execute_result"
    }
   ],
   "source": [
    "len(leaf_samples)==regtree.tree_.node_count"
   ]
  },
  {
   "cell_type": "markdown",
   "metadata": {},
   "source": [
    "We found out that all samples have been considered."
   ]
  },
  {
   "cell_type": "markdown",
   "metadata": {},
   "source": [
    "# Inspect an arbitrary leaf and extract the rule set"
   ]
  },
  {
   "cell_type": "markdown",
   "metadata": {},
   "source": [
    "## We are taking a look at the leaf that represents the most samples"
   ]
  },
  {
   "cell_type": "code",
   "execution_count": 697,
   "metadata": {
    "collapsed": false
   },
   "outputs": [
    {
     "name": "stdout",
     "output_type": "stream",
     "text": [
      "So node no. 56501 is a leaf and has 23278 samples in it.\n",
      "[56501, 23278]\n"
     ]
    }
   ],
   "source": [
    "max_leaf = [np.argmax(leaf_samples), max(leaf_samples)]\n",
    "print('So node no.', max_leaf[0] ,'is a leaf and has', max_leaf[1] ,'samples in it.')\n",
    "print(max_leaf)"
   ]
  },
  {
   "cell_type": "markdown",
   "metadata": {},
   "source": [
    "# Retrieve the decision path that leads to the leaf"
   ]
  },
  {
   "cell_type": "code",
   "execution_count": 680,
   "metadata": {
    "collapsed": false
   },
   "outputs": [],
   "source": [
    "# Inspired by: http://stackoverflow.com/questions/20224526/\n",
    "# how-to-extract-the-decision-rules-from-scikit-learn-decision-tree\n",
    "def get_rule(tree, feature_names, leaf):\n",
    "        left      = tree.tree_.children_left\n",
    "        right     = tree.tree_.children_right\n",
    "        threshold = tree.tree_.threshold\n",
    "        features  = [feature_names[i] for i in tree.tree_.feature]\n",
    "        value = tree.tree_.value\n",
    "        samples = tree.tree_.n_node_samples\n",
    "        global count\n",
    "        count = 0;\n",
    "        global result\n",
    "        result = {};\n",
    "\n",
    "        def recurse_up(left, right, threshold, features, node):\n",
    "            global count\n",
    "            global result\n",
    "            count = count+1;\n",
    "            #print(count)\n",
    "            if node != 0:\n",
    "                for i, j in enumerate(right):\n",
    "                    if j == node:\n",
    "                        print( 'Node:', node, 'is right of:',i, ' with ', features[i], '>', threshold[i])\n",
    "                        result[count] = [features[i], False, threshold[i]]\n",
    "                        return(recurse_up(left, right, threshold, features, i))\n",
    "                for i, j in enumerate(left):\n",
    "                    if j == node:\n",
    "                        print('Node:', node,  'is left of',i,' with ', features[i], '<= ', threshold[i])\n",
    "                        result[count] = [features[i], True, threshold[i]]\n",
    "                        return(recurse_up(left, right, threshold, features, i))\n",
    "            else :\n",
    "                return(result)\n",
    "        \n",
    "        print('Leaf:',leaf, ', value: ', value[leaf][0][0], ', samples: ', samples[leaf])\n",
    "        recurse_up(left, right, threshold, features, leaf)\n",
    "        return(result)"
   ]
  },
  {
   "cell_type": "code",
   "execution_count": 681,
   "metadata": {
    "collapsed": false
   },
   "outputs": [
    {
     "name": "stdout",
     "output_type": "stream",
     "text": [
      "Leaf: 56501 , value:  6.54600910731 , samples:  23278\n",
      "Node: 56501 is right of: 56499  with  dropoff_longitude > -73.9948272705\n",
      "Node: 56499 is right of: 56495  with  pickup_longitude > -73.9967498779\n",
      "Node: 56495 is left of 56494  with  pickup_longitude <=  -73.9749832153\n",
      "Node: 56494 is right of: 56478  with  dropoff_latitude > 40.7267570496\n",
      "Node: 56478 is right of: 56448  with  pickup_latitude > 40.7214622498\n",
      "Node: 56448 is right of: 56386  with  dropoff_longitude > -74.0030441284\n",
      "Node: 56386 is right of: 56270  with  pickup_longitude > -74.0040206909\n",
      "Node: 56270 is left of 56269  with  pickup_latitude <=  40.7473983765\n",
      "Node: 56269 is left of 56268  with  dropoff_latitude <=  40.741607666\n",
      "Node: 56268 is left of 56267  with  dropoff_longitude <=  -73.9636077881\n",
      "Node: 56267 is left of 56266  with  pickup_latitude <=  40.75025177\n",
      "Node: 56266 is left of 56265  with  pickup_latitude <=  40.7558288574\n",
      "Node: 56265 is left of 56264  with  dropoff_latitude <=  40.7464828491\n",
      "Node: 56264 is left of 56263  with  pickup_longitude <=  -73.9626312256\n",
      "Node: 56263 is left of 56262  with  pickup_latitude <=  40.7738380432\n",
      "Node: 56262 is left of 56261  with  dropoff_latitude <=  40.7698669434\n",
      "Node: 56261 is left of 56260  with  pickup_datetime_dayofweek <=  4.5\n",
      "Node: 56260 is left of 56259  with  pickup_datetime_hour <=  18.5\n",
      "Node: 56259 is right of: 46185  with  dropoff_latitude > 40.7240486145\n",
      "Node: 46185 is right of: 26933  with  pickup_datetime_hour > 7.5\n",
      "Node: 26933 is left of 26932  with  dropoff_longitude <=  -73.9435119629\n",
      "Node: 26932 is right of: 15398  with  pickup_latitude > 40.717376709\n",
      "Node: 15398 is right of: 2  with  dropoff_latitude > 40.7119789124\n",
      "Node: 2 is left of 1  with  dropoff_longitude <=  -73.8870849609\n",
      "Node: 1 is left of 0  with  pickup_longitude <=  -73.8860931396\n"
     ]
    }
   ],
   "source": [
    "branch_to_leaf=get_rule(regtree, time_regression_df.ix[:,0:6].columns,max_leaf[0])"
   ]
  },
  {
   "cell_type": "code",
   "execution_count": 682,
   "metadata": {
    "collapsed": false
   },
   "outputs": [
    {
     "data": {
      "text/plain": [
       "{1: ['dropoff_longitude', False, -73.994827270507812],\n",
       " 2: ['pickup_longitude', False, -73.996749877929688],\n",
       " 3: ['pickup_longitude', True, -73.974983215332031],\n",
       " 4: ['dropoff_latitude', False, 40.726757049560547],\n",
       " 5: ['pickup_latitude', False, 40.721462249755859],\n",
       " 6: ['dropoff_longitude', False, -74.003044128417969],\n",
       " 7: ['pickup_longitude', False, -74.004020690917969],\n",
       " 8: ['pickup_latitude', True, 40.747398376464844],\n",
       " 9: ['dropoff_latitude', True, 40.741607666015625],\n",
       " 10: ['dropoff_longitude', True, -73.963607788085938],\n",
       " 11: ['pickup_latitude', True, 40.750251770019531],\n",
       " 12: ['pickup_latitude', True, 40.755828857421875],\n",
       " 13: ['dropoff_latitude', True, 40.746482849121094],\n",
       " 14: ['pickup_longitude', True, -73.962631225585938],\n",
       " 15: ['pickup_latitude', True, 40.773838043212891],\n",
       " 16: ['dropoff_latitude', True, 40.769866943359375],\n",
       " 17: ['pickup_datetime_dayofweek', True, 4.5],\n",
       " 18: ['pickup_datetime_hour', True, 18.5],\n",
       " 19: ['dropoff_latitude', False, 40.724048614501953],\n",
       " 20: ['pickup_datetime_hour', False, 7.5],\n",
       " 21: ['dropoff_longitude', True, -73.943511962890625],\n",
       " 22: ['pickup_latitude', False, 40.717376708984375],\n",
       " 23: ['dropoff_latitude', False, 40.711978912353516],\n",
       " 24: ['dropoff_longitude', True, -73.8870849609375],\n",
       " 25: ['pickup_longitude', True, -73.886093139648438]}"
      ]
     },
     "execution_count": 682,
     "metadata": {},
     "output_type": "execute_result"
    }
   ],
   "source": [
    "branch_to_leaf"
   ]
  },
  {
   "cell_type": "markdown",
   "metadata": {},
   "source": [
    "### Be aware, read this branch bottom up!"
   ]
  },
  {
   "cell_type": "markdown",
   "metadata": {},
   "source": [
    "Processing is nicer if the path is in a data frame."
   ]
  },
  {
   "cell_type": "code",
   "execution_count": 683,
   "metadata": {
    "collapsed": false
   },
   "outputs": [
    {
     "data": {
      "text/html": [
       "<div>\n",
       "<table border=\"1\" class=\"dataframe\">\n",
       "  <thead>\n",
       "    <tr style=\"text-align: right;\">\n",
       "      <th></th>\n",
       "      <th>features</th>\n",
       "      <th>leq</th>\n",
       "      <th>value</th>\n",
       "    </tr>\n",
       "  </thead>\n",
       "  <tbody>\n",
       "    <tr>\n",
       "      <th>1</th>\n",
       "      <td>dropoff_longitude</td>\n",
       "      <td>False</td>\n",
       "      <td>-73.9948</td>\n",
       "    </tr>\n",
       "    <tr>\n",
       "      <th>2</th>\n",
       "      <td>pickup_longitude</td>\n",
       "      <td>False</td>\n",
       "      <td>-73.9967</td>\n",
       "    </tr>\n",
       "    <tr>\n",
       "      <th>3</th>\n",
       "      <td>pickup_longitude</td>\n",
       "      <td>True</td>\n",
       "      <td>-73.975</td>\n",
       "    </tr>\n",
       "    <tr>\n",
       "      <th>4</th>\n",
       "      <td>dropoff_latitude</td>\n",
       "      <td>False</td>\n",
       "      <td>40.7268</td>\n",
       "    </tr>\n",
       "    <tr>\n",
       "      <th>5</th>\n",
       "      <td>pickup_latitude</td>\n",
       "      <td>False</td>\n",
       "      <td>40.7215</td>\n",
       "    </tr>\n",
       "    <tr>\n",
       "      <th>6</th>\n",
       "      <td>dropoff_longitude</td>\n",
       "      <td>False</td>\n",
       "      <td>-74.003</td>\n",
       "    </tr>\n",
       "    <tr>\n",
       "      <th>7</th>\n",
       "      <td>pickup_longitude</td>\n",
       "      <td>False</td>\n",
       "      <td>-74.004</td>\n",
       "    </tr>\n",
       "    <tr>\n",
       "      <th>8</th>\n",
       "      <td>pickup_latitude</td>\n",
       "      <td>True</td>\n",
       "      <td>40.7474</td>\n",
       "    </tr>\n",
       "    <tr>\n",
       "      <th>9</th>\n",
       "      <td>dropoff_latitude</td>\n",
       "      <td>True</td>\n",
       "      <td>40.7416</td>\n",
       "    </tr>\n",
       "    <tr>\n",
       "      <th>10</th>\n",
       "      <td>dropoff_longitude</td>\n",
       "      <td>True</td>\n",
       "      <td>-73.9636</td>\n",
       "    </tr>\n",
       "    <tr>\n",
       "      <th>11</th>\n",
       "      <td>pickup_latitude</td>\n",
       "      <td>True</td>\n",
       "      <td>40.7503</td>\n",
       "    </tr>\n",
       "    <tr>\n",
       "      <th>12</th>\n",
       "      <td>pickup_latitude</td>\n",
       "      <td>True</td>\n",
       "      <td>40.7558</td>\n",
       "    </tr>\n",
       "    <tr>\n",
       "      <th>13</th>\n",
       "      <td>dropoff_latitude</td>\n",
       "      <td>True</td>\n",
       "      <td>40.7465</td>\n",
       "    </tr>\n",
       "    <tr>\n",
       "      <th>14</th>\n",
       "      <td>pickup_longitude</td>\n",
       "      <td>True</td>\n",
       "      <td>-73.9626</td>\n",
       "    </tr>\n",
       "    <tr>\n",
       "      <th>15</th>\n",
       "      <td>pickup_latitude</td>\n",
       "      <td>True</td>\n",
       "      <td>40.7738</td>\n",
       "    </tr>\n",
       "    <tr>\n",
       "      <th>16</th>\n",
       "      <td>dropoff_latitude</td>\n",
       "      <td>True</td>\n",
       "      <td>40.7699</td>\n",
       "    </tr>\n",
       "    <tr>\n",
       "      <th>17</th>\n",
       "      <td>pickup_datetime_dayofweek</td>\n",
       "      <td>True</td>\n",
       "      <td>4.5</td>\n",
       "    </tr>\n",
       "    <tr>\n",
       "      <th>18</th>\n",
       "      <td>pickup_datetime_hour</td>\n",
       "      <td>True</td>\n",
       "      <td>18.5</td>\n",
       "    </tr>\n",
       "    <tr>\n",
       "      <th>19</th>\n",
       "      <td>dropoff_latitude</td>\n",
       "      <td>False</td>\n",
       "      <td>40.724</td>\n",
       "    </tr>\n",
       "    <tr>\n",
       "      <th>20</th>\n",
       "      <td>pickup_datetime_hour</td>\n",
       "      <td>False</td>\n",
       "      <td>7.5</td>\n",
       "    </tr>\n",
       "    <tr>\n",
       "      <th>21</th>\n",
       "      <td>dropoff_longitude</td>\n",
       "      <td>True</td>\n",
       "      <td>-73.9435</td>\n",
       "    </tr>\n",
       "    <tr>\n",
       "      <th>22</th>\n",
       "      <td>pickup_latitude</td>\n",
       "      <td>False</td>\n",
       "      <td>40.7174</td>\n",
       "    </tr>\n",
       "    <tr>\n",
       "      <th>23</th>\n",
       "      <td>dropoff_latitude</td>\n",
       "      <td>False</td>\n",
       "      <td>40.712</td>\n",
       "    </tr>\n",
       "    <tr>\n",
       "      <th>24</th>\n",
       "      <td>dropoff_longitude</td>\n",
       "      <td>True</td>\n",
       "      <td>-73.8871</td>\n",
       "    </tr>\n",
       "    <tr>\n",
       "      <th>25</th>\n",
       "      <td>pickup_longitude</td>\n",
       "      <td>True</td>\n",
       "      <td>-73.8861</td>\n",
       "    </tr>\n",
       "  </tbody>\n",
       "</table>\n",
       "</div>"
      ],
      "text/plain": [
       "                     features    leq    value\n",
       "1           dropoff_longitude  False -73.9948\n",
       "2            pickup_longitude  False -73.9967\n",
       "3            pickup_longitude   True  -73.975\n",
       "4            dropoff_latitude  False  40.7268\n",
       "5             pickup_latitude  False  40.7215\n",
       "6           dropoff_longitude  False  -74.003\n",
       "7            pickup_longitude  False  -74.004\n",
       "8             pickup_latitude   True  40.7474\n",
       "9            dropoff_latitude   True  40.7416\n",
       "10          dropoff_longitude   True -73.9636\n",
       "11            pickup_latitude   True  40.7503\n",
       "12            pickup_latitude   True  40.7558\n",
       "13           dropoff_latitude   True  40.7465\n",
       "14           pickup_longitude   True -73.9626\n",
       "15            pickup_latitude   True  40.7738\n",
       "16           dropoff_latitude   True  40.7699\n",
       "17  pickup_datetime_dayofweek   True      4.5\n",
       "18       pickup_datetime_hour   True     18.5\n",
       "19           dropoff_latitude  False   40.724\n",
       "20       pickup_datetime_hour  False      7.5\n",
       "21          dropoff_longitude   True -73.9435\n",
       "22            pickup_latitude  False  40.7174\n",
       "23           dropoff_latitude  False   40.712\n",
       "24          dropoff_longitude   True -73.8871\n",
       "25           pickup_longitude   True -73.8861"
      ]
     },
     "execution_count": 683,
     "metadata": {},
     "output_type": "execute_result"
    }
   ],
   "source": [
    "splitsdf = pd.DataFrame(branch_to_leaf).transpose()\n",
    "splitsdf.columns = ['features', 'leq', 'value']\n",
    "splitsdf"
   ]
  },
  {
   "cell_type": "markdown",
   "metadata": {},
   "source": [
    "Via grouping, we can extract the relevant splits that are always the ones towards the end of the branch. Earlier splits become obsolete if the feature is splitted in the same manner again downwards the tree."
   ]
  },
  {
   "cell_type": "code",
   "execution_count": 685,
   "metadata": {
    "collapsed": false
   },
   "outputs": [
    {
     "data": {
      "text/plain": [
       "{('dropoff_latitude', False): [4, 19, 23],\n",
       " ('dropoff_latitude', True): [9, 13, 16],\n",
       " ('dropoff_longitude', False): [1, 6],\n",
       " ('dropoff_longitude', True): [10, 21, 24],\n",
       " ('pickup_datetime_dayofweek', True): [17],\n",
       " ('pickup_datetime_hour', False): [20],\n",
       " ('pickup_datetime_hour', True): [18],\n",
       " ('pickup_latitude', False): [5, 22],\n",
       " ('pickup_latitude', True): [8, 11, 12, 15],\n",
       " ('pickup_longitude', False): [2, 7],\n",
       " ('pickup_longitude', True): [3, 14, 25]}"
      ]
     },
     "execution_count": 685,
     "metadata": {},
     "output_type": "execute_result"
    }
   ],
   "source": [
    "splitstats = splitsdf.groupby(['features','leq'])\n",
    "splitstats.groups"
   ]
  },
  {
   "cell_type": "markdown",
   "metadata": {},
   "source": [
    "Groupby is very helpful here. Choose always the split with the first index. \"min()\" is used here for demonstration purposes only."
   ]
  },
  {
   "cell_type": "code",
   "execution_count": 698,
   "metadata": {
    "collapsed": false,
    "scrolled": true
   },
   "outputs": [
    {
     "data": {
      "text/html": [
       "<div>\n",
       "<table border=\"1\" class=\"dataframe\">\n",
       "  <thead>\n",
       "    <tr style=\"text-align: right;\">\n",
       "      <th></th>\n",
       "      <th></th>\n",
       "      <th>value</th>\n",
       "    </tr>\n",
       "    <tr>\n",
       "      <th>features</th>\n",
       "      <th>leq</th>\n",
       "      <th></th>\n",
       "    </tr>\n",
       "  </thead>\n",
       "  <tbody>\n",
       "    <tr>\n",
       "      <th rowspan=\"2\" valign=\"top\">dropoff_latitude</th>\n",
       "      <th>False</th>\n",
       "      <td>40.711979</td>\n",
       "    </tr>\n",
       "    <tr>\n",
       "      <th>True</th>\n",
       "      <td>40.741608</td>\n",
       "    </tr>\n",
       "    <tr>\n",
       "      <th rowspan=\"2\" valign=\"top\">dropoff_longitude</th>\n",
       "      <th>False</th>\n",
       "      <td>-74.003044</td>\n",
       "    </tr>\n",
       "    <tr>\n",
       "      <th>True</th>\n",
       "      <td>-73.963608</td>\n",
       "    </tr>\n",
       "    <tr>\n",
       "      <th>pickup_datetime_dayofweek</th>\n",
       "      <th>True</th>\n",
       "      <td>4.500000</td>\n",
       "    </tr>\n",
       "    <tr>\n",
       "      <th rowspan=\"2\" valign=\"top\">pickup_datetime_hour</th>\n",
       "      <th>False</th>\n",
       "      <td>7.500000</td>\n",
       "    </tr>\n",
       "    <tr>\n",
       "      <th>True</th>\n",
       "      <td>18.500000</td>\n",
       "    </tr>\n",
       "    <tr>\n",
       "      <th rowspan=\"2\" valign=\"top\">pickup_latitude</th>\n",
       "      <th>False</th>\n",
       "      <td>40.717377</td>\n",
       "    </tr>\n",
       "    <tr>\n",
       "      <th>True</th>\n",
       "      <td>40.747398</td>\n",
       "    </tr>\n",
       "    <tr>\n",
       "      <th rowspan=\"2\" valign=\"top\">pickup_longitude</th>\n",
       "      <th>False</th>\n",
       "      <td>-74.004021</td>\n",
       "    </tr>\n",
       "    <tr>\n",
       "      <th>True</th>\n",
       "      <td>-73.974983</td>\n",
       "    </tr>\n",
       "  </tbody>\n",
       "</table>\n",
       "</div>"
      ],
      "text/plain": [
       "                                     value\n",
       "features                  leq             \n",
       "dropoff_latitude          False  40.711979\n",
       "                          True   40.741608\n",
       "dropoff_longitude         False -74.003044\n",
       "                          True  -73.963608\n",
       "pickup_datetime_dayofweek True    4.500000\n",
       "pickup_datetime_hour      False   7.500000\n",
       "                          True   18.500000\n",
       "pickup_latitude           False  40.717377\n",
       "                          True   40.747398\n",
       "pickup_longitude          False -74.004021\n",
       "                          True  -73.974983"
      ]
     },
     "execution_count": 698,
     "metadata": {},
     "output_type": "execute_result"
    }
   ],
   "source": [
    "splitstats.min()"
   ]
  },
  {
   "cell_type": "markdown",
   "metadata": {},
   "source": [
    "One might use an own get_group method. This will throw less exceptions if the key is not valid (e.g. there is no lower range on day_of_week). This can especially happen in trees with low depth."
   ]
  },
  {
   "cell_type": "code",
   "execution_count": 688,
   "metadata": {
    "collapsed": true
   },
   "outputs": [],
   "source": [
    "def get_group(g, key):\n",
    "    if key in g.groups: return g.get_group(key)\n",
    "    return pd.DataFrame(list(key).append(np.nan))"
   ]
  },
  {
   "cell_type": "markdown",
   "metadata": {},
   "source": [
    "### Extract the pickup- and dropoff-area."
   ]
  },
  {
   "cell_type": "code",
   "execution_count": 689,
   "metadata": {
    "collapsed": false
   },
   "outputs": [
    {
     "data": {
      "text/plain": [
       "{'dropoff_lower_right': [40.726757049560547, -73.963607788085938],\n",
       " 'dropoff_upper_left': [40.741607666015625, -73.994827270507812],\n",
       " 'pickup_lower_right': [40.721462249755859, -73.974983215332031],\n",
       " 'pickup_upper_left': [40.747398376464844, -73.996749877929688]}"
      ]
     },
     "execution_count": 689,
     "metadata": {},
     "output_type": "execute_result"
    }
   ],
   "source": [
    "area_coords = dict()\n",
    "area_coords['dropoff_upper_left'] = [splitstats.get_group(('dropoff_latitude', True)).iloc[0].value,\n",
    "                  splitstats.get_group(('dropoff_longitude', False)).iloc[0].value]\n",
    "area_coords['dropoff_lower_right']  = [splitstats.get_group(('dropoff_latitude',False)).iloc[0].value,\n",
    "                                      splitstats.get_group(('dropoff_longitude',True)).iloc[0].value]\n",
    "area_coords['pickup_upper_left']  = [splitstats.get_group(('pickup_latitude',True)).iloc[0].value, \n",
    "                  splitstats.get_group(('pickup_longitude',False)).iloc[0].value]\n",
    "area_coords['pickup_lower_right']  = [splitstats.get_group(('pickup_latitude',False)).iloc[0].value,\n",
    "                                     splitstats.get_group(('pickup_longitude',True)).iloc[0].value]\n",
    "\n",
    "area_coords"
   ]
  },
  {
   "cell_type": "code",
   "execution_count": 690,
   "metadata": {
    "collapsed": false
   },
   "outputs": [
    {
     "data": {
      "text/plain": [
       "([0.014850616455078125, -0.031219482421875],\n",
       " [0.025936126708984375, -0.02176666259765625])"
      ]
     },
     "execution_count": 690,
     "metadata": {},
     "output_type": "execute_result"
    }
   ],
   "source": [
    "import operator \n",
    "dropoff_rect_len = list(map(operator.sub,area_coords['dropoff_upper_left'],\n",
    "                                      area_coords['dropoff_lower_right']))\n",
    "pickup_rect_len = list(map(operator.sub,area_coords['pickup_upper_left'],\n",
    "                                      area_coords['pickup_lower_right']))\n",
    "dropoff_rect_len, pickup_rect_len"
   ]
  },
  {
   "cell_type": "markdown",
   "metadata": {},
   "source": [
    "In order to draw the rectangle, we need the side lengths of the areas."
   ]
  },
  {
   "cell_type": "code",
   "execution_count": 691,
   "metadata": {
    "collapsed": false
   },
   "outputs": [
    {
     "data": {
      "image/png": "[encoded data removed]",
      "text/plain": [
       "<matplotlib.figure.Figure at 0x7f4bf6df2fd0>"
      ]
     },
     "metadata": {},
     "output_type": "display_data"
    }
   ],
   "source": [
    "import matplotlib.patches as patches\n",
    "x = data_in_box.pickup_longitude\n",
    "y = data_in_box.pickup_latitude\n",
    "\n",
    "\n",
    "fig = plt.figure(figsize=(20, 10))\n",
    "# Reduce the plot to Manhattan\n",
    "plt.hist2d(x, y, bins=300, range=[[min(x.values),-73.95],[40.675,40.8]])\n",
    "plt.colorbar()\n",
    "plt.title('Pickup density (first full week in May 2013)')\n",
    "plt.ylabel('Latitude')\n",
    "plt.xlabel('Longitude')\n",
    "plt.hold(True)\n",
    "ax = fig.gca()\n",
    "\n",
    "\n",
    "ax.add_patch(patches.Rectangle((area_coords['dropoff_upper_left'][1], area_coords['dropoff_lower_right'][0]),\n",
    "                               abs(dropoff_rect_len[1]), dropoff_rect_len[0], fill=False, edgecolor='red', linewidth=5))\n",
    "ax.add_patch(patches.Rectangle((area_coords['pickup_upper_left'][1], area_coords['pickup_lower_right'][0]),\n",
    "                               abs(pickup_rect_len[1]), pickup_rect_len[0], fill=False, edgecolor='white', linewidth=5))\n",
    "ax.grid(False)\n",
    "plt.hold(False)"
   ]
  },
  {
   "cell_type": "markdown",
   "metadata": {},
   "source": [
    "### White is pickup- red is dropoff. But are this really the correct areas? Lets check it via filtering in the training set. Do we get the same amount of trips as the no. of samples in the leaf? (Time splits are hard coded in this case)"
   ]
  },
  {
   "cell_type": "code",
   "execution_count": 692,
   "metadata": {
    "collapsed": false
   },
   "outputs": [],
   "source": [
    "trips_of_leaf = x_train.loc[(x_train['dropoff_latitude'] > area_coords['dropoff_lower_right'][0]) &\n",
    "                       (x_train['dropoff_longitude'] < area_coords['dropoff_lower_right'][1]) &\n",
    "                       (x_train['dropoff_latitude'] < area_coords['dropoff_upper_left'][0]) & \n",
    "                       (x_train['dropoff_longitude'] > area_coords['dropoff_upper_left'][1]) & \n",
    "                       (x_train['pickup_latitude'] > area_coords['pickup_lower_right'][0]) & \n",
    "                       (x_train['pickup_longitude'] < area_coords['pickup_lower_right'][1]) &\n",
    "                       (x_train['pickup_latitude'] < area_coords['pickup_upper_left'][0]) & \n",
    "                       (x_train['pickup_longitude'] > area_coords['pickup_upper_left'][1]) &\n",
    "                       (x_train['pickup_datetime_dayofweek'] < 4.5) & \n",
    "                       (x_train['pickup_datetime_hour'] < 18.5) & \n",
    "                       (x_train['pickup_datetime_hour'] > 7.5)\n",
    "                       ]"
   ]
  },
  {
   "cell_type": "code",
   "execution_count": 693,
   "metadata": {
    "collapsed": false
   },
   "outputs": [
    {
     "data": {
      "text/html": [
       "<div>\n",
       "<table border=\"1\" class=\"dataframe\">\n",
       "  <thead>\n",
       "    <tr style=\"text-align: right;\">\n",
       "      <th></th>\n",
       "      <th>pickup_datetime_dayofweek</th>\n",
       "      <th>pickup_datetime_hour</th>\n",
       "      <th>pickup_latitude</th>\n",
       "      <th>pickup_longitude</th>\n",
       "      <th>dropoff_latitude</th>\n",
       "      <th>dropoff_longitude</th>\n",
       "    </tr>\n",
       "  </thead>\n",
       "  <tbody>\n",
       "    <tr>\n",
       "      <th>1184741</th>\n",
       "      <td>2.0</td>\n",
       "      <td>13.0</td>\n",
       "      <td>40.742112</td>\n",
       "      <td>-73.983052</td>\n",
       "      <td>40.738077</td>\n",
       "      <td>-73.992777</td>\n",
       "    </tr>\n",
       "    <tr>\n",
       "      <th>2206938</th>\n",
       "      <td>4.0</td>\n",
       "      <td>12.0</td>\n",
       "      <td>40.732137</td>\n",
       "      <td>-73.984951</td>\n",
       "      <td>40.729175</td>\n",
       "      <td>-73.993996</td>\n",
       "    </tr>\n",
       "    <tr>\n",
       "      <th>1636835</th>\n",
       "      <td>3.0</td>\n",
       "      <td>10.0</td>\n",
       "      <td>40.730505</td>\n",
       "      <td>-73.990823</td>\n",
       "      <td>40.730505</td>\n",
       "      <td>-73.990823</td>\n",
       "    </tr>\n",
       "    <tr>\n",
       "      <th>1585212</th>\n",
       "      <td>3.0</td>\n",
       "      <td>9.0</td>\n",
       "      <td>40.744025</td>\n",
       "      <td>-73.981375</td>\n",
       "      <td>40.738517</td>\n",
       "      <td>-73.987492</td>\n",
       "    </tr>\n",
       "    <tr>\n",
       "      <th>2316670</th>\n",
       "      <td>4.0</td>\n",
       "      <td>17.0</td>\n",
       "      <td>40.742370</td>\n",
       "      <td>-73.978047</td>\n",
       "      <td>40.741061</td>\n",
       "      <td>-73.980647</td>\n",
       "    </tr>\n",
       "  </tbody>\n",
       "</table>\n",
       "</div>"
      ],
      "text/plain": [
       "         pickup_datetime_dayofweek  pickup_datetime_hour  pickup_latitude  \\\n",
       "1184741                        2.0                  13.0        40.742112   \n",
       "2206938                        4.0                  12.0        40.732137   \n",
       "1636835                        3.0                  10.0        40.730505   \n",
       "1585212                        3.0                   9.0        40.744025   \n",
       "2316670                        4.0                  17.0        40.742370   \n",
       "\n",
       "         pickup_longitude  dropoff_latitude  dropoff_longitude  \n",
       "1184741        -73.983052         40.738077         -73.992777  \n",
       "2206938        -73.984951         40.729175         -73.993996  \n",
       "1636835        -73.990823         40.730505         -73.990823  \n",
       "1585212        -73.981375         40.738517         -73.987492  \n",
       "2316670        -73.978047         40.741061         -73.980647  "
      ]
     },
     "execution_count": 693,
     "metadata": {},
     "output_type": "execute_result"
    }
   ],
   "source": [
    "trips_of_leaf.head()"
   ]
  },
  {
   "cell_type": "code",
   "execution_count": 694,
   "metadata": {
    "collapsed": false
   },
   "outputs": [
    {
     "name": "stdout",
     "output_type": "stream",
     "text": [
      "Filtered trips:  23282\n",
      "Trips in leaf:  23278\n"
     ]
    },
    {
     "data": {
      "text/plain": [
       "False"
      ]
     },
     "execution_count": 694,
     "metadata": {},
     "output_type": "execute_result"
    }
   ],
   "source": [
    "print('Filtered trips: ', len(trips_of_leaf))\n",
    "print('Trips in leaf: ', max_leaf[1])\n",
    "len(trips_of_leaf) == max_leaf[1]"
   ]
  },
  {
   "cell_type": "markdown",
   "metadata": {},
   "source": [
    "## So we've found the trips that belong to this branch! The discrepancy, that might be caused by numeric instability when comparing the geo coordinates, is not that big."
   ]
  },
  {
   "cell_type": "markdown",
   "metadata": {},
   "source": [
    "# A little bit of gmaps...."
   ]
  },
  {
   "cell_type": "code",
   "execution_count": 162,
   "metadata": {
    "collapsed": true
   },
   "outputs": [],
   "source": [
    "import gmaps\n",
    "import gmaps.datasets\n",
    "gmaps.configure(api_key='AI****') # Fill in your API-Code here"
   ]
  },
  {
   "cell_type": "code",
   "execution_count": 650,
   "metadata": {
    "collapsed": false
   },
   "outputs": [],
   "source": [
    "trips_of_leaf_pickup_list = trips_of_leaf.iloc[:,[2,3]].as_matrix().tolist()\n",
    "trips_of_leaf_dropoff_list = trips_of_leaf.iloc[:,[4,5]].as_matrix().tolist()"
   ]
  },
  {
   "cell_type": "code",
   "execution_count": 645,
   "metadata": {
    "collapsed": false
   },
   "outputs": [],
   "source": [
    "data = gmaps.datasets.load_dataset('taxi_rides')\n",
    "pickups_gmap = gmaps.Map()\n",
    "dropoffs_gmap = gmaps.Map()\n",
    "pickups_gmap.add_layer(gmaps.Heatmap(data=trips_of_leaf_pickup_list[0:1000]))\n",
    "dropoffs_gmap.add_layer(gmaps.Heatmap(data=trips_of_leaf_dropoff_list[0:1000]))"
   ]
  },
  {
   "cell_type": "markdown",
   "metadata": {},
   "source": [
    "### We can see, that the intersection of the pickup- and dropoff-area is quite big. This corresponds to the predicted trip_time that is about 6.5 minutes. In this short period of time, a car cannot drive that far. It looks also quite similar to the picture above, that is based on a 2d-histogram of the pickups. We can qualitatively see, that the dropoff-area is smaller than the pickup-area."
   ]
  },
  {
   "cell_type": "code",
   "execution_count": 695,
   "metadata": {
    "collapsed": false
   },
   "outputs": [],
   "source": [
    "pickups_gmap"
   ]
  },
  {
   "cell_type": "code",
   "execution_count": 696,
   "metadata": {
    "collapsed": true
   },
   "outputs": [],
   "source": [
    "dropoffs_gmap"
   ]
  },
  {
   "cell_type": "markdown",
   "metadata": {},
   "source": [
    "### You reached the end. Thank you for your interest. - N. Haas"
   ]
  }
 ],
 "metadata": {
  "kernelspec": {
   "display_name": "Python 3",
   "language": "python",
   "name": "python3"
  },
  "language_info": {
   "codemirror_mode": {
    "name": "ipython",
    "version": 3
   },
   "file_extension": ".py",
   "mimetype": "text/x-python",
   "name": "python",
   "nbconvert_exporter": "python",
   "pygments_lexer": "ipython3",
   "version": "3.5.1"
  },
  "widgets": {
   "state": {
    "2e7c1adee29640a0af08cb0f1387c756": {
     "views": [
      {
       "cell_index": 187
      }
     ]
    },
    "ecd8cdeabed24f66a654a8f5b4c6ae40": {
     "views": [
      {
       "cell_index": 186
      }
     ]
    }
   },
   "version": "1.2.0"
  }
 },
 "nbformat": 4,
 "nbformat_minor": 0
}
