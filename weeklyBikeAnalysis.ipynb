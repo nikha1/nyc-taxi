{
 "cells": [
  {
   "cell_type": "code",
   "execution_count": 132,
   "metadata": {
    "collapsed": false
   },
   "outputs": [],
   "source": [
    "import os as os\n",
    "import pandas as pd\n",
    "import numpy as np\n",
    "from scipy import stats, integrate\n",
    "import matplotlib.pyplot as plt\n",
    "import matplotlib as mpl\n",
    "import seaborn as sns\n",
    "from statsmodels.distributions.empirical_distribution import ECDF\n",
    "import datetime as dt\n",
    "plt.style.use('seaborn-whitegrid')\n",
    "\n",
    "plt.rcParams['image.cmap'] = 'blue'\n",
    "\n",
    "#sns.set_context('notebook',font_scale=2)\n",
    "sns.set_style(\"whitegrid\")\n",
    "% matplotlib inline\n",
    "labelsize = 22\n",
    "mpl.rcParams.update({'font.size': labelsize})\n",
    "mpl.rcParams.update({'figure.figsize': (20,10)})\n",
    "mpl.rcParams.update({'axes.titlesize': 'large'})\n",
    "mpl.rcParams.update({'axes.labelsize': 'large'})\n",
    "mpl.rcParams.update({'xtick.labelsize': labelsize})\n",
    "mpl.rcParams.update({'ytick.labelsize': labelsize})"
   ]
  },
  {
   "cell_type": "code",
   "execution_count": 2,
   "metadata": {
    "collapsed": false,
    "scrolled": true
   },
   "outputs": [
    {
     "name": "stdout",
     "output_type": "stream",
     "text": [
      "2014-05 - Citi Bike trip data.csv\r\n",
      "bike_20140505_with_dist_and_avg_velo.csv\r\n",
      "bike_20140505_with_dist.csv\r\n",
      "bike_20140505_with_dist_velo.csv\r\n",
      "bike_oneweekfrom20140505.csv\r\n",
      "data_jan13.csv\r\n",
      "README.txt\r\n",
      "Taxi_from_2013-05-06_to_2013-05-13.csv\r\n",
      "Taxi_from_2013-05-06_to_2013-05-13_testset.csv\r\n",
      "Taxi_from_2013-05-06_to_2013-05-13testset.csv\r\n",
      "Taxi_from_2013-05-06_to_2013-05-13_xtrain.csv\r\n",
      "Taxi_from_2013-05-06_to_2013-05-13_ytrain.csv\r\n",
      "taxi_oneweekfrom20130107.csv\r\n",
      "taxi_oneweekfrom20130506.csv\r\n",
      "taxi_oneweekfrom20140505.csv\r\n",
      "taxi_tree_test_X_20130506-12.csv\r\n",
      "taxi_tree_test_X.csv\r\n",
      "taxi_tree_test_Xy_20130506-12.csv\r\n",
      "taxi_tree_test_Xy.csv\r\n",
      "taxi_tree_test_Xy_sample.csv\r\n",
      "taxi_tree_test_y_20130506-12.csv\r\n",
      "taxi_tree_test_y.csv\r\n",
      "_testset.csv\r\n",
      "yellow_tripdata_2013-05.csv\r\n",
      "yellow_tripdata_2014-05.csv\r\n"
     ]
    }
   ],
   "source": [
    "!cd data && ls"
   ]
  },
  {
   "cell_type": "markdown",
   "metadata": {},
   "source": [
    "Use the bash =)"
   ]
  },
  {
   "cell_type": "code",
   "execution_count": 3,
   "metadata": {
    "collapsed": false
   },
   "outputs": [],
   "source": [
    "data = pd.read_csv('data/bike_oneweekfrom20140505.csv', index_col=0, parse_dates=True)"
   ]
  },
  {
   "cell_type": "code",
   "execution_count": 4,
   "metadata": {
    "collapsed": false
   },
   "outputs": [
    {
     "name": "stdout",
     "output_type": "stream",
     "text": [
      "<class 'pandas.core.frame.DataFrame'>\n",
      "Int64Index: 185744 entries, 0 to 185743\n",
      "Data columns (total 15 columns):\n",
      "tripduration               185744 non-null int64\n",
      "starttime                  185744 non-null object\n",
      "stoptime                   185744 non-null object\n",
      "start station id           185744 non-null int64\n",
      "start station name         185744 non-null object\n",
      "start station latitude     185744 non-null float64\n",
      "start station longitude    185744 non-null float64\n",
      "end station id             185744 non-null int64\n",
      "end station name           185744 non-null object\n",
      "end station latitude       185744 non-null float64\n",
      "end station longitude      185744 non-null float64\n",
      "bikeid                     185744 non-null int64\n",
      "usertype                   185744 non-null object\n",
      "birth year                 185744 non-null object\n",
      "gender                     185744 non-null int64\n",
      "dtypes: float64(4), int64(5), object(6)\n",
      "memory usage: 22.7+ MB\n"
     ]
    }
   ],
   "source": [
    "data.info()"
   ]
  },
  {
   "cell_type": "markdown",
   "metadata": {},
   "source": [
    "So parsing doe not work, do it manually:"
   ]
  },
  {
   "cell_type": "code",
   "execution_count": 5,
   "metadata": {
    "collapsed": false
   },
   "outputs": [
    {
     "data": {
      "text/plain": [
       "Index(['tripduration', 'starttime', 'stoptime', 'start station id',\n",
       "       'start station name', 'start station latitude',\n",
       "       'start station longitude', 'end station id', 'end station name',\n",
       "       'end station latitude', 'end station longitude', 'bikeid', 'usertype',\n",
       "       'birth year', 'gender'],\n",
       "      dtype='object')"
      ]
     },
     "execution_count": 5,
     "metadata": {},
     "output_type": "execute_result"
    }
   ],
   "source": [
    "data.columns"
   ]
  },
  {
   "cell_type": "code",
   "execution_count": 6,
   "metadata": {
    "collapsed": true
   },
   "outputs": [],
   "source": [
    "new_column_names = ['trip_time', 'pickup_datetime', 'dropoff_datetime', 'start_station_id',\n",
    "       'start_station_name', 'pickup_latitude',\n",
    "       'pickup_longitude', 'end_station_id', 'end_station_name',\n",
    "       'dropoff_latitude', 'dropoff_longitude', 'bikeid', 'usertype',\n",
    "       'birth year', 'gender']"
   ]
  },
  {
   "cell_type": "code",
   "execution_count": 7,
   "metadata": {
    "collapsed": true
   },
   "outputs": [],
   "source": [
    "data.columns = new_column_names"
   ]
  },
  {
   "cell_type": "code",
   "execution_count": 8,
   "metadata": {
    "collapsed": false
   },
   "outputs": [
    {
     "data": {
      "text/html": [
       "<div>\n",
       "<table border=\"1\" class=\"dataframe\">\n",
       "  <thead>\n",
       "    <tr style=\"text-align: right;\">\n",
       "      <th></th>\n",
       "      <th>trip_time</th>\n",
       "      <th>start_station_id</th>\n",
       "      <th>pickup_latitude</th>\n",
       "      <th>pickup_longitude</th>\n",
       "      <th>end_station_id</th>\n",
       "      <th>dropoff_latitude</th>\n",
       "      <th>dropoff_longitude</th>\n",
       "      <th>bikeid</th>\n",
       "      <th>gender</th>\n",
       "    </tr>\n",
       "  </thead>\n",
       "  <tbody>\n",
       "    <tr>\n",
       "      <th>count</th>\n",
       "      <td>185744.000000</td>\n",
       "      <td>185744.000000</td>\n",
       "      <td>185744.000000</td>\n",
       "      <td>185744.000000</td>\n",
       "      <td>185744.000000</td>\n",
       "      <td>185744.000000</td>\n",
       "      <td>185744.000000</td>\n",
       "      <td>185744.000000</td>\n",
       "      <td>185744.000000</td>\n",
       "    </tr>\n",
       "    <tr>\n",
       "      <th>mean</th>\n",
       "      <td>869.523107</td>\n",
       "      <td>450.726511</td>\n",
       "      <td>40.734630</td>\n",
       "      <td>-73.991079</td>\n",
       "      <td>451.404142</td>\n",
       "      <td>40.734387</td>\n",
       "      <td>-73.991147</td>\n",
       "      <td>18157.530305</td>\n",
       "      <td>1.090598</td>\n",
       "    </tr>\n",
       "    <tr>\n",
       "      <th>std</th>\n",
       "      <td>974.098663</td>\n",
       "      <td>370.232259</td>\n",
       "      <td>0.019489</td>\n",
       "      <td>0.012186</td>\n",
       "      <td>375.448276</td>\n",
       "      <td>0.019530</td>\n",
       "      <td>0.012298</td>\n",
       "      <td>2119.989210</td>\n",
       "      <td>0.550519</td>\n",
       "    </tr>\n",
       "    <tr>\n",
       "      <th>min</th>\n",
       "      <td>60.000000</td>\n",
       "      <td>72.000000</td>\n",
       "      <td>40.680342</td>\n",
       "      <td>-74.017134</td>\n",
       "      <td>72.000000</td>\n",
       "      <td>40.680342</td>\n",
       "      <td>-74.017134</td>\n",
       "      <td>14529.000000</td>\n",
       "      <td>0.000000</td>\n",
       "    </tr>\n",
       "    <tr>\n",
       "      <th>25%</th>\n",
       "      <td>401.000000</td>\n",
       "      <td>304.000000</td>\n",
       "      <td>40.721655</td>\n",
       "      <td>-73.999947</td>\n",
       "      <td>303.000000</td>\n",
       "      <td>40.721101</td>\n",
       "      <td>-74.000040</td>\n",
       "      <td>16315.000000</td>\n",
       "      <td>1.000000</td>\n",
       "    </tr>\n",
       "    <tr>\n",
       "      <th>50%</th>\n",
       "      <td>640.000000</td>\n",
       "      <td>405.000000</td>\n",
       "      <td>40.736494</td>\n",
       "      <td>-73.990765</td>\n",
       "      <td>404.000000</td>\n",
       "      <td>40.736197</td>\n",
       "      <td>-73.990931</td>\n",
       "      <td>18164.000000</td>\n",
       "      <td>1.000000</td>\n",
       "    </tr>\n",
       "    <tr>\n",
       "      <th>75%</th>\n",
       "      <td>1059.000000</td>\n",
       "      <td>490.000000</td>\n",
       "      <td>40.750073</td>\n",
       "      <td>-73.982050</td>\n",
       "      <td>489.000000</td>\n",
       "      <td>40.749718</td>\n",
       "      <td>-73.982050</td>\n",
       "      <td>20005.000000</td>\n",
       "      <td>1.000000</td>\n",
       "    </tr>\n",
       "    <tr>\n",
       "      <th>max</th>\n",
       "      <td>21549.000000</td>\n",
       "      <td>3002.000000</td>\n",
       "      <td>40.771522</td>\n",
       "      <td>-73.953809</td>\n",
       "      <td>3002.000000</td>\n",
       "      <td>40.771522</td>\n",
       "      <td>-73.953809</td>\n",
       "      <td>21679.000000</td>\n",
       "      <td>2.000000</td>\n",
       "    </tr>\n",
       "  </tbody>\n",
       "</table>\n",
       "</div>"
      ],
      "text/plain": [
       "           trip_time  start_station_id  pickup_latitude  pickup_longitude  \\\n",
       "count  185744.000000     185744.000000    185744.000000     185744.000000   \n",
       "mean      869.523107        450.726511        40.734630        -73.991079   \n",
       "std       974.098663        370.232259         0.019489          0.012186   \n",
       "min        60.000000         72.000000        40.680342        -74.017134   \n",
       "25%       401.000000        304.000000        40.721655        -73.999947   \n",
       "50%       640.000000        405.000000        40.736494        -73.990765   \n",
       "75%      1059.000000        490.000000        40.750073        -73.982050   \n",
       "max     21549.000000       3002.000000        40.771522        -73.953809   \n",
       "\n",
       "       end_station_id  dropoff_latitude  dropoff_longitude         bikeid  \\\n",
       "count   185744.000000     185744.000000      185744.000000  185744.000000   \n",
       "mean       451.404142         40.734387         -73.991147   18157.530305   \n",
       "std        375.448276          0.019530           0.012298    2119.989210   \n",
       "min         72.000000         40.680342         -74.017134   14529.000000   \n",
       "25%        303.000000         40.721101         -74.000040   16315.000000   \n",
       "50%        404.000000         40.736197         -73.990931   18164.000000   \n",
       "75%        489.000000         40.749718         -73.982050   20005.000000   \n",
       "max       3002.000000         40.771522         -73.953809   21679.000000   \n",
       "\n",
       "              gender  \n",
       "count  185744.000000  \n",
       "mean        1.090598  \n",
       "std         0.550519  \n",
       "min         0.000000  \n",
       "25%         1.000000  \n",
       "50%         1.000000  \n",
       "75%         1.000000  \n",
       "max         2.000000  "
      ]
     },
     "execution_count": 8,
     "metadata": {},
     "output_type": "execute_result"
    }
   ],
   "source": [
    "data.describe()"
   ]
  },
  {
   "cell_type": "code",
   "execution_count": 9,
   "metadata": {
    "collapsed": false
   },
   "outputs": [],
   "source": [
    "data['pickup_datetime'] =pd.to_datetime(data['pickup_datetime'], format = '%Y-%m-%d %H:%M:%S')\n",
    "data['dropoff_datetime'] =pd.to_datetime(data['dropoff_datetime'], format = '%Y-%m-%d %H:%M:%S')\n",
    "data['trip_time'] = pd.to_timedelta(data['trip_time'], 's')"
   ]
  },
  {
   "cell_type": "code",
   "execution_count": 10,
   "metadata": {
    "collapsed": false
   },
   "outputs": [
    {
     "data": {
      "text/html": [
       "<div>\n",
       "<table border=\"1\" class=\"dataframe\">\n",
       "  <thead>\n",
       "    <tr style=\"text-align: right;\">\n",
       "      <th></th>\n",
       "      <th>count</th>\n",
       "      <th>mean</th>\n",
       "      <th>std</th>\n",
       "      <th>min</th>\n",
       "      <th>25%</th>\n",
       "      <th>50%</th>\n",
       "      <th>75%</th>\n",
       "      <th>max</th>\n",
       "    </tr>\n",
       "  </thead>\n",
       "  <tbody>\n",
       "    <tr>\n",
       "      <th>trip_time</th>\n",
       "      <td>185744</td>\n",
       "      <td>0 days 00:14:29.523107</td>\n",
       "      <td>0 days 00:16:14.098662</td>\n",
       "      <td>0 days 00:01:00</td>\n",
       "      <td>0 days 00:06:41</td>\n",
       "      <td>0 days 00:10:40</td>\n",
       "      <td>0 days 00:17:39</td>\n",
       "      <td>0 days 05:59:09</td>\n",
       "    </tr>\n",
       "    <tr>\n",
       "      <th>start_station_id</th>\n",
       "      <td>185744</td>\n",
       "      <td>450.727</td>\n",
       "      <td>370.232</td>\n",
       "      <td>72</td>\n",
       "      <td>304</td>\n",
       "      <td>405</td>\n",
       "      <td>490</td>\n",
       "      <td>3002</td>\n",
       "    </tr>\n",
       "    <tr>\n",
       "      <th>pickup_latitude</th>\n",
       "      <td>185744</td>\n",
       "      <td>40.7346</td>\n",
       "      <td>0.0194894</td>\n",
       "      <td>40.6803</td>\n",
       "      <td>40.7217</td>\n",
       "      <td>40.7365</td>\n",
       "      <td>40.7501</td>\n",
       "      <td>40.7715</td>\n",
       "    </tr>\n",
       "    <tr>\n",
       "      <th>pickup_longitude</th>\n",
       "      <td>185744</td>\n",
       "      <td>-73.9911</td>\n",
       "      <td>0.012186</td>\n",
       "      <td>-74.0171</td>\n",
       "      <td>-73.9999</td>\n",
       "      <td>-73.9908</td>\n",
       "      <td>-73.9821</td>\n",
       "      <td>-73.9538</td>\n",
       "    </tr>\n",
       "    <tr>\n",
       "      <th>end_station_id</th>\n",
       "      <td>185744</td>\n",
       "      <td>451.404</td>\n",
       "      <td>375.448</td>\n",
       "      <td>72</td>\n",
       "      <td>303</td>\n",
       "      <td>404</td>\n",
       "      <td>489</td>\n",
       "      <td>3002</td>\n",
       "    </tr>\n",
       "    <tr>\n",
       "      <th>dropoff_latitude</th>\n",
       "      <td>185744</td>\n",
       "      <td>40.7344</td>\n",
       "      <td>0.0195297</td>\n",
       "      <td>40.6803</td>\n",
       "      <td>40.7211</td>\n",
       "      <td>40.7362</td>\n",
       "      <td>40.7497</td>\n",
       "      <td>40.7715</td>\n",
       "    </tr>\n",
       "    <tr>\n",
       "      <th>dropoff_longitude</th>\n",
       "      <td>185744</td>\n",
       "      <td>-73.9911</td>\n",
       "      <td>0.0122976</td>\n",
       "      <td>-74.0171</td>\n",
       "      <td>-74</td>\n",
       "      <td>-73.9909</td>\n",
       "      <td>-73.9821</td>\n",
       "      <td>-73.9538</td>\n",
       "    </tr>\n",
       "    <tr>\n",
       "      <th>bikeid</th>\n",
       "      <td>185744</td>\n",
       "      <td>18157.5</td>\n",
       "      <td>2119.99</td>\n",
       "      <td>14529</td>\n",
       "      <td>16315</td>\n",
       "      <td>18164</td>\n",
       "      <td>20005</td>\n",
       "      <td>21679</td>\n",
       "    </tr>\n",
       "    <tr>\n",
       "      <th>gender</th>\n",
       "      <td>185744</td>\n",
       "      <td>1.0906</td>\n",
       "      <td>0.550519</td>\n",
       "      <td>0</td>\n",
       "      <td>1</td>\n",
       "      <td>1</td>\n",
       "      <td>1</td>\n",
       "      <td>2</td>\n",
       "    </tr>\n",
       "  </tbody>\n",
       "</table>\n",
       "</div>"
      ],
      "text/plain": [
       "                    count                    mean                     std  \\\n",
       "trip_time          185744  0 days 00:14:29.523107  0 days 00:16:14.098662   \n",
       "start_station_id   185744                 450.727                 370.232   \n",
       "pickup_latitude    185744                 40.7346               0.0194894   \n",
       "pickup_longitude   185744                -73.9911                0.012186   \n",
       "end_station_id     185744                 451.404                 375.448   \n",
       "dropoff_latitude   185744                 40.7344               0.0195297   \n",
       "dropoff_longitude  185744                -73.9911               0.0122976   \n",
       "bikeid             185744                 18157.5                 2119.99   \n",
       "gender             185744                  1.0906                0.550519   \n",
       "\n",
       "                               min              25%              50%  \\\n",
       "trip_time          0 days 00:01:00  0 days 00:06:41  0 days 00:10:40   \n",
       "start_station_id                72              304              405   \n",
       "pickup_latitude            40.6803          40.7217          40.7365   \n",
       "pickup_longitude          -74.0171         -73.9999         -73.9908   \n",
       "end_station_id                  72              303              404   \n",
       "dropoff_latitude           40.6803          40.7211          40.7362   \n",
       "dropoff_longitude         -74.0171              -74         -73.9909   \n",
       "bikeid                       14529            16315            18164   \n",
       "gender                           0                1                1   \n",
       "\n",
       "                               75%              max  \n",
       "trip_time          0 days 00:17:39  0 days 05:59:09  \n",
       "start_station_id               490             3002  \n",
       "pickup_latitude            40.7501          40.7715  \n",
       "pickup_longitude          -73.9821         -73.9538  \n",
       "end_station_id                 489             3002  \n",
       "dropoff_latitude           40.7497          40.7715  \n",
       "dropoff_longitude         -73.9821         -73.9538  \n",
       "bikeid                       20005            21679  \n",
       "gender                           1                2  "
      ]
     },
     "execution_count": 10,
     "metadata": {},
     "output_type": "execute_result"
    }
   ],
   "source": [
    "data.describe().transpose()"
   ]
  },
  {
   "cell_type": "code",
   "execution_count": 11,
   "metadata": {
    "collapsed": false
   },
   "outputs": [
    {
     "data": {
      "text/html": [
       "<div>\n",
       "<table border=\"1\" class=\"dataframe\">\n",
       "  <thead>\n",
       "    <tr style=\"text-align: right;\">\n",
       "      <th></th>\n",
       "      <th>trip_time</th>\n",
       "      <th>pickup_datetime</th>\n",
       "      <th>dropoff_datetime</th>\n",
       "      <th>start_station_id</th>\n",
       "      <th>start_station_name</th>\n",
       "      <th>pickup_latitude</th>\n",
       "      <th>pickup_longitude</th>\n",
       "      <th>end_station_id</th>\n",
       "      <th>end_station_name</th>\n",
       "      <th>dropoff_latitude</th>\n",
       "      <th>dropoff_longitude</th>\n",
       "      <th>bikeid</th>\n",
       "      <th>usertype</th>\n",
       "      <th>birth year</th>\n",
       "      <th>gender</th>\n",
       "    </tr>\n",
       "  </thead>\n",
       "  <tbody>\n",
       "    <tr>\n",
       "      <th>0</th>\n",
       "      <td>00:04:49</td>\n",
       "      <td>2014-05-05 00:00:14</td>\n",
       "      <td>2014-05-05 00:05:03</td>\n",
       "      <td>495</td>\n",
       "      <td>W 47 St &amp; 10 Ave</td>\n",
       "      <td>40.762699</td>\n",
       "      <td>-73.993012</td>\n",
       "      <td>469</td>\n",
       "      <td>Broadway &amp; W 53 St</td>\n",
       "      <td>40.763441</td>\n",
       "      <td>-73.982681</td>\n",
       "      <td>17039</td>\n",
       "      <td>Subscriber</td>\n",
       "      <td>1986</td>\n",
       "      <td>1</td>\n",
       "    </tr>\n",
       "    <tr>\n",
       "      <th>1</th>\n",
       "      <td>00:17:31</td>\n",
       "      <td>2014-05-05 00:00:19</td>\n",
       "      <td>2014-05-05 00:17:50</td>\n",
       "      <td>281</td>\n",
       "      <td>Grand Army Plaza &amp; Central Park S</td>\n",
       "      <td>40.764397</td>\n",
       "      <td>-73.973715</td>\n",
       "      <td>236</td>\n",
       "      <td>St Marks Pl &amp; 2 Ave</td>\n",
       "      <td>40.728419</td>\n",
       "      <td>-73.987140</td>\n",
       "      <td>17875</td>\n",
       "      <td>Subscriber</td>\n",
       "      <td>1985</td>\n",
       "      <td>1</td>\n",
       "    </tr>\n",
       "    <tr>\n",
       "      <th>2</th>\n",
       "      <td>00:03:57</td>\n",
       "      <td>2014-05-05 00:01:05</td>\n",
       "      <td>2014-05-05 00:05:02</td>\n",
       "      <td>309</td>\n",
       "      <td>Murray St &amp; West St</td>\n",
       "      <td>40.714979</td>\n",
       "      <td>-74.013012</td>\n",
       "      <td>3002</td>\n",
       "      <td>South End Ave &amp; Liberty St</td>\n",
       "      <td>40.711512</td>\n",
       "      <td>-74.015756</td>\n",
       "      <td>18008</td>\n",
       "      <td>Customer</td>\n",
       "      <td>\\N</td>\n",
       "      <td>0</td>\n",
       "    </tr>\n",
       "    <tr>\n",
       "      <th>3</th>\n",
       "      <td>00:08:54</td>\n",
       "      <td>2014-05-05 00:01:12</td>\n",
       "      <td>2014-05-05 00:10:06</td>\n",
       "      <td>151</td>\n",
       "      <td>Cleveland Pl &amp; Spring St</td>\n",
       "      <td>40.721816</td>\n",
       "      <td>-73.997203</td>\n",
       "      <td>345</td>\n",
       "      <td>W 13 St &amp; 6 Ave</td>\n",
       "      <td>40.736494</td>\n",
       "      <td>-73.997044</td>\n",
       "      <td>18237</td>\n",
       "      <td>Subscriber</td>\n",
       "      <td>1983</td>\n",
       "      <td>1</td>\n",
       "    </tr>\n",
       "    <tr>\n",
       "      <th>4</th>\n",
       "      <td>00:04:35</td>\n",
       "      <td>2014-05-05 00:01:16</td>\n",
       "      <td>2014-05-05 00:05:51</td>\n",
       "      <td>173</td>\n",
       "      <td>Broadway &amp; W 49 St</td>\n",
       "      <td>40.760647</td>\n",
       "      <td>-73.984427</td>\n",
       "      <td>449</td>\n",
       "      <td>W 52 St &amp; 9 Ave</td>\n",
       "      <td>40.764618</td>\n",
       "      <td>-73.987895</td>\n",
       "      <td>16607</td>\n",
       "      <td>Subscriber</td>\n",
       "      <td>1985</td>\n",
       "      <td>1</td>\n",
       "    </tr>\n",
       "  </tbody>\n",
       "</table>\n",
       "</div>"
      ],
      "text/plain": [
       "   trip_time     pickup_datetime    dropoff_datetime  start_station_id  \\\n",
       "0   00:04:49 2014-05-05 00:00:14 2014-05-05 00:05:03               495   \n",
       "1   00:17:31 2014-05-05 00:00:19 2014-05-05 00:17:50               281   \n",
       "2   00:03:57 2014-05-05 00:01:05 2014-05-05 00:05:02               309   \n",
       "3   00:08:54 2014-05-05 00:01:12 2014-05-05 00:10:06               151   \n",
       "4   00:04:35 2014-05-05 00:01:16 2014-05-05 00:05:51               173   \n",
       "\n",
       "                  start_station_name  pickup_latitude  pickup_longitude  \\\n",
       "0                   W 47 St & 10 Ave        40.762699        -73.993012   \n",
       "1  Grand Army Plaza & Central Park S        40.764397        -73.973715   \n",
       "2                Murray St & West St        40.714979        -74.013012   \n",
       "3           Cleveland Pl & Spring St        40.721816        -73.997203   \n",
       "4                 Broadway & W 49 St        40.760647        -73.984427   \n",
       "\n",
       "   end_station_id            end_station_name  dropoff_latitude  \\\n",
       "0             469          Broadway & W 53 St         40.763441   \n",
       "1             236         St Marks Pl & 2 Ave         40.728419   \n",
       "2            3002  South End Ave & Liberty St         40.711512   \n",
       "3             345             W 13 St & 6 Ave         40.736494   \n",
       "4             449             W 52 St & 9 Ave         40.764618   \n",
       "\n",
       "   dropoff_longitude  bikeid    usertype birth year  gender  \n",
       "0         -73.982681   17039  Subscriber       1986       1  \n",
       "1         -73.987140   17875  Subscriber       1985       1  \n",
       "2         -74.015756   18008    Customer         \\N       0  \n",
       "3         -73.997044   18237  Subscriber       1983       1  \n",
       "4         -73.987895   16607  Subscriber       1985       1  "
      ]
     },
     "execution_count": 11,
     "metadata": {},
     "output_type": "execute_result"
    }
   ],
   "source": [
    "data.head()"
   ]
  },
  {
   "cell_type": "code",
   "execution_count": 12,
   "metadata": {
    "collapsed": false
   },
   "outputs": [
    {
     "name": "stdout",
     "output_type": "stream",
     "text": [
      "<class 'pandas.core.frame.DataFrame'>\n",
      "Int64Index: 185744 entries, 0 to 185743\n",
      "Data columns (total 15 columns):\n",
      "trip_time             185744 non-null timedelta64[ns]\n",
      "pickup_datetime       185744 non-null datetime64[ns]\n",
      "dropoff_datetime      185744 non-null datetime64[ns]\n",
      "start_station_id      185744 non-null int64\n",
      "start_station_name    185744 non-null object\n",
      "pickup_latitude       185744 non-null float64\n",
      "pickup_longitude      185744 non-null float64\n",
      "end_station_id        185744 non-null int64\n",
      "end_station_name      185744 non-null object\n",
      "dropoff_latitude      185744 non-null float64\n",
      "dropoff_longitude     185744 non-null float64\n",
      "bikeid                185744 non-null int64\n",
      "usertype              185744 non-null object\n",
      "birth year            185744 non-null object\n",
      "gender                185744 non-null int64\n",
      "dtypes: datetime64[ns](2), float64(4), int64(4), object(4), timedelta64[ns](1)\n",
      "memory usage: 22.7+ MB\n"
     ]
    }
   ],
   "source": [
    "data.info()"
   ]
  },
  {
   "cell_type": "code",
   "execution_count": 13,
   "metadata": {
    "collapsed": false
   },
   "outputs": [
    {
     "name": "stdout",
     "output_type": "stream",
     "text": [
      "Amount of stations: 326\n"
     ]
    },
    {
     "data": {
      "text/plain": [
       "<matplotlib.text.Text at 0x7fc6706cbcf8>"
      ]
     },
     "execution_count": 13,
     "metadata": {},
     "output_type": "execute_result"
    },
    {
     "data": {
      "image/png": "[encoded data removed]",
      "text/plain": [
       "<matplotlib.figure.Figure at 0x7fc67163b128>"
      ]
     },
     "metadata": {},
     "output_type": "display_data"
    }
   ],
   "source": [
    "group_by_start = data.groupby(data.start_station_id, )\n",
    "usage_freq = group_by_start.trip_time.count()\n",
    "print('Amount of stations: ' + str(len(usage_freq)))\n",
    "plt.hist(usage_freq, bins = 50)\n",
    "plt.title('Frequency of starts from start stations')"
   ]
  },
  {
   "cell_type": "markdown",
   "metadata": {},
   "source": [
    "Return the most frequently visited stations."
   ]
  },
  {
   "cell_type": "code",
   "execution_count": 107,
   "metadata": {
    "collapsed": false
   },
   "outputs": [
    {
     "data": {
      "text/plain": [
       "Index(['Broadway & E 22 St', 'W 41 St & 8 Ave', 'Broadway & E 14 St',\n",
       "       '8 Ave & W 33 St', 'West St & Chambers St', 'W 21 St & 6 Ave',\n",
       "       'E 17 St & Broadway', 'Lafayette St & E 8 St', '8 Ave & W 31 St',\n",
       "       'E 42 St & Vanderbilt Ave'],\n",
       "      dtype='object', name='start_station_name')"
      ]
     },
     "execution_count": 107,
     "metadata": {},
     "output_type": "execute_result"
    }
   ],
   "source": [
    "group_by_start_name = data.groupby(data.start_station_name, )\n",
    "usage_freq_name = group_by_start_name.trip_time.count()\n",
    "usage_freq_name.sort_values().keys()[-10:]"
   ]
  },
  {
   "cell_type": "code",
   "execution_count": 105,
   "metadata": {
    "collapsed": false
   },
   "outputs": [
    {
     "data": {
      "text/plain": [
       "Int64Index([284, 444, 490, 285, 435, 426, 497, 293, 521, 519], dtype='int64', name='start_station_id')"
      ]
     },
     "execution_count": 105,
     "metadata": {},
     "output_type": "execute_result"
    }
   ],
   "source": [
    "usage_freq.sort_values().keys()[-10:]"
   ]
  },
  {
   "cell_type": "markdown",
   "metadata": {},
   "source": [
    "We are not interested in the following features (they do not add any further information):"
   ]
  },
  {
   "cell_type": "markdown",
   "metadata": {},
   "source": [
    "# Check for missing and false data:"
   ]
  },
  {
   "cell_type": "code",
   "execution_count": 14,
   "metadata": {
    "collapsed": false
   },
   "outputs": [
    {
     "data": {
      "text/plain": [
       "trip_time             0\n",
       "pickup_datetime       0\n",
       "dropoff_datetime      0\n",
       "start_station_id      0\n",
       "start_station_name    0\n",
       "pickup_latitude       0\n",
       "pickup_longitude      0\n",
       "end_station_id        0\n",
       "end_station_name      0\n",
       "dropoff_latitude      0\n",
       "dropoff_longitude     0\n",
       "bikeid                0\n",
       "usertype              0\n",
       "birth year            0\n",
       "gender                0\n",
       "dtype: int64"
      ]
     },
     "execution_count": 14,
     "metadata": {},
     "output_type": "execute_result"
    }
   ],
   "source": [
    "data.isnull().sum()"
   ]
  },
  {
   "cell_type": "markdown",
   "metadata": {},
   "source": [
    "So there is not that much data missing. That's quite surprising, maybe it's wrong."
   ]
  },
  {
   "cell_type": "code",
   "execution_count": 15,
   "metadata": {
    "collapsed": false
   },
   "outputs": [
    {
     "data": {
      "text/plain": [
       "trip_time                 0\n",
       "pickup_datetime           0\n",
       "dropoff_datetime          0\n",
       "start_station_id          0\n",
       "start_station_name        0\n",
       "pickup_latitude           0\n",
       "pickup_longitude          0\n",
       "end_station_id            0\n",
       "end_station_name          0\n",
       "dropoff_latitude          0\n",
       "dropoff_longitude         0\n",
       "bikeid                    0\n",
       "usertype                  0\n",
       "birth year                0\n",
       "gender                20495\n",
       "dtype: int64"
      ]
     },
     "execution_count": 15,
     "metadata": {},
     "output_type": "execute_result"
    }
   ],
   "source": [
    "(data==0).sum()"
   ]
  },
  {
   "cell_type": "markdown",
   "metadata": {},
   "source": [
    "So we only have many zeros in the gender-feature. But gender is a binary variable, therefore a 0 is not equal to NA."
   ]
  },
  {
   "cell_type": "markdown",
   "metadata": {},
   "source": [
    "Quick pverview about the trip_times"
   ]
  },
  {
   "cell_type": "code",
   "execution_count": 16,
   "metadata": {
    "collapsed": false
   },
   "outputs": [
    {
     "data": {
      "text/plain": [
       "<matplotlib.text.Text at 0x7fc67031c080>"
      ]
     },
     "execution_count": 16,
     "metadata": {},
     "output_type": "execute_result"
    },
    {
     "data": {
      "image/png": "[encoded data removed]",
      "text/plain": [
       "<matplotlib.figure.Figure at 0x7fc67163b470>"
      ]
     },
     "metadata": {},
     "output_type": "display_data"
    }
   ],
   "source": [
    "plt.hist((data['trip_time'] / np.timedelta64(1, 'm')), bins=30, range=[0, 100])\n",
    "plt.title('Distribution of trip_time in minutes')\n",
    "plt.xlabel('trip_time')\n",
    "plt.ylabel('frequency')"
   ]
  },
  {
   "cell_type": "markdown",
   "metadata": {},
   "source": [
    "We are interested in the trip time in minutes."
   ]
  },
  {
   "cell_type": "code",
   "execution_count": 17,
   "metadata": {
    "collapsed": false
   },
   "outputs": [
    {
     "data": {
      "text/plain": [
       "<matplotlib.axes._subplots.AxesSubplot at 0x7fc671f23198>"
      ]
     },
     "execution_count": 17,
     "metadata": {},
     "output_type": "execute_result"
    },
    {
     "data": {
      "image/png": "[encoded data removed]",
      "text/plain": [
       "<matplotlib.figure.Figure at 0x7fc67008fc18>"
      ]
     },
     "metadata": {},
     "output_type": "display_data"
    }
   ],
   "source": [
    "sns.boxplot((data['trip_time'] / np.timedelta64(1, 'm')))"
   ]
  },
  {
   "cell_type": "markdown",
   "metadata": {},
   "source": [
    "We have lots of outliers."
   ]
  },
  {
   "cell_type": "markdown",
   "metadata": {},
   "source": [
    "So as we can see, we have many outliers."
   ]
  },
  {
   "cell_type": "code",
   "execution_count": 18,
   "metadata": {
    "collapsed": false
   },
   "outputs": [
    {
     "data": {
      "text/plain": [
       "0.01          00:01:59\n",
       "0.05          00:03:25\n",
       "0.10          00:04:25\n",
       "0.25          00:06:41\n",
       "0.50          00:10:40\n",
       "0.75          00:17:39\n",
       "0.90          00:26:54\n",
       "0.95          00:33:56\n",
       "0.99   01:08:57.570000\n",
       "Name: trip_time, dtype: timedelta64[ns]"
      ]
     },
     "execution_count": 18,
     "metadata": {},
     "output_type": "execute_result"
    }
   ],
   "source": [
    "data.trip_time.quantile([0.01, 0.05, 0.1, 0.25, 0.5, 0.75, 0.9, 0.95, 0.99])"
   ]
  },
  {
   "cell_type": "code",
   "execution_count": 19,
   "metadata": {
    "collapsed": false
   },
   "outputs": [
    {
     "data": {
      "text/plain": [
       "5353"
      ]
     },
     "execution_count": 19,
     "metadata": {},
     "output_type": "execute_result"
    }
   ],
   "source": [
    "len(data.trip_time.value_counts().values)"
   ]
  },
  {
   "cell_type": "markdown",
   "metadata": {},
   "source": [
    "Identify the the cases without geo data and remove them from our data to be processed."
   ]
  },
  {
   "cell_type": "code",
   "execution_count": 20,
   "metadata": {
    "collapsed": true
   },
   "outputs": [],
   "source": [
    "anomaly = data.loc[(data['dropoff_longitude'].isnull()) | (data['dropoff_latitude'].isnull()) | \n",
    "                       (data['pickup_longitude'].isnull()) | (data['pickup_latitude'].isnull())]\n",
    "data = data.drop(anomaly.index)"
   ]
  },
  {
   "cell_type": "code",
   "execution_count": 21,
   "metadata": {
    "collapsed": true
   },
   "outputs": [],
   "source": [
    "anomaly['flag'] = 'geo_NA'"
   ]
  },
  {
   "cell_type": "code",
   "execution_count": 22,
   "metadata": {
    "collapsed": false
   },
   "outputs": [
    {
     "data": {
      "text/plain": [
       "trip_time             0\n",
       "pickup_datetime       0\n",
       "dropoff_datetime      0\n",
       "start_station_id      0\n",
       "start_station_name    0\n",
       "pickup_latitude       0\n",
       "pickup_longitude      0\n",
       "end_station_id        0\n",
       "end_station_name      0\n",
       "dropoff_latitude      0\n",
       "dropoff_longitude     0\n",
       "bikeid                0\n",
       "usertype              0\n",
       "birth year            0\n",
       "gender                0\n",
       "dtype: int64"
      ]
     },
     "execution_count": 22,
     "metadata": {},
     "output_type": "execute_result"
    }
   ],
   "source": [
    "data.isnull().sum()"
   ]
  },
  {
   "cell_type": "markdown",
   "metadata": {},
   "source": [
    "So how many percent of data are left to be processed?"
   ]
  },
  {
   "cell_type": "code",
   "execution_count": 23,
   "metadata": {
    "collapsed": false
   },
   "outputs": [
    {
     "data": {
      "text/plain": [
       "1.0"
      ]
     },
     "execution_count": 23,
     "metadata": {},
     "output_type": "execute_result"
    }
   ],
   "source": [
    "len(data)/(len(data)+len(anomaly))"
   ]
  },
  {
   "cell_type": "code",
   "execution_count": 24,
   "metadata": {
    "collapsed": false
   },
   "outputs": [
    {
     "data": {
      "text/html": [
       "<div>\n",
       "<table border=\"1\" class=\"dataframe\">\n",
       "  <thead>\n",
       "    <tr style=\"text-align: right;\">\n",
       "      <th></th>\n",
       "      <th>trip_time</th>\n",
       "      <th>pickup_datetime</th>\n",
       "      <th>dropoff_datetime</th>\n",
       "      <th>start_station_id</th>\n",
       "      <th>start_station_name</th>\n",
       "      <th>pickup_latitude</th>\n",
       "      <th>pickup_longitude</th>\n",
       "      <th>end_station_id</th>\n",
       "      <th>end_station_name</th>\n",
       "      <th>dropoff_latitude</th>\n",
       "      <th>dropoff_longitude</th>\n",
       "      <th>bikeid</th>\n",
       "      <th>usertype</th>\n",
       "      <th>birth year</th>\n",
       "      <th>gender</th>\n",
       "      <th>flag</th>\n",
       "    </tr>\n",
       "  </thead>\n",
       "  <tbody>\n",
       "  </tbody>\n",
       "</table>\n",
       "</div>"
      ],
      "text/plain": [
       "Empty DataFrame\n",
       "Columns: [trip_time, pickup_datetime, dropoff_datetime, start_station_id, start_station_name, pickup_latitude, pickup_longitude, end_station_id, end_station_name, dropoff_latitude, dropoff_longitude, bikeid, usertype, birth year, gender, flag]\n",
       "Index: []"
      ]
     },
     "execution_count": 24,
     "metadata": {},
     "output_type": "execute_result"
    }
   ],
   "source": [
    "anomaly.tail()"
   ]
  },
  {
   "cell_type": "markdown",
   "metadata": {},
   "source": [
    "# <font color = 'blue'> So we dropped nothing because of missing geo tags. </font color>"
   ]
  },
  {
   "cell_type": "code",
   "execution_count": 25,
   "metadata": {
    "collapsed": false
   },
   "outputs": [
    {
     "data": {
      "text/plain": [
       "(array([  1886.,  12429.,  23265.,  25474.,  22858.,  18987.,  14736.,\n",
       "         11772.,   9414.,   7721.,   6635.,   5540.,   4620.,   3809.,\n",
       "          3101.,   2403.,   1852.,   1427.,   1223.,    958.,    755.,\n",
       "           558.,    395.,    337.,    307.,    247.,    231.,    180.,\n",
       "           141.,    134.,    124.,    122.,    134.,     72.,     84.,\n",
       "            67.,     79.,     63.,     59.,     71.,     61.,     59.,\n",
       "            42.,     47.,     37.,     37.,     41.,     47.,     38.,\n",
       "            43.]),\n",
       " array([   0.,    2.,    4.,    6.,    8.,   10.,   12.,   14.,   16.,\n",
       "          18.,   20.,   22.,   24.,   26.,   28.,   30.,   32.,   34.,\n",
       "          36.,   38.,   40.,   42.,   44.,   46.,   48.,   50.,   52.,\n",
       "          54.,   56.,   58.,   60.,   62.,   64.,   66.,   68.,   70.,\n",
       "          72.,   74.,   76.,   78.,   80.,   82.,   84.,   86.,   88.,\n",
       "          90.,   92.,   94.,   96.,   98.,  100.]),\n",
       " <a list of 50 Patch objects>)"
      ]
     },
     "execution_count": 25,
     "metadata": {},
     "output_type": "execute_result"
    },
    {
     "data": {
      "image/png": "[encoded data removed]",
      "text/plain": [
       "<matplotlib.figure.Figure at 0x7fc671ed0da0>"
      ]
     },
     "metadata": {},
     "output_type": "display_data"
    }
   ],
   "source": [
    "plt.hist(data.trip_time.values / np.timedelta64(1, 'm'), bins=50, range=[0,100])"
   ]
  },
  {
   "cell_type": "markdown",
   "metadata": {},
   "source": [
    "# We sometimes have some unreasonably small trip_times."
   ]
  },
  {
   "cell_type": "markdown",
   "metadata": {},
   "source": [
    "Calculate the distance of a trip. Use the difference of lon / lat data and parse it to metrics."
   ]
  },
  {
   "cell_type": "code",
   "execution_count": 26,
   "metadata": {
    "collapsed": true
   },
   "outputs": [],
   "source": [
    "data['trip_dist'] = -1"
   ]
  },
  {
   "cell_type": "code",
   "execution_count": 27,
   "metadata": {
    "collapsed": false
   },
   "outputs": [],
   "source": [
    "# inpout for vincenty:(location.latitude, location.longitude)\n",
    "from geopy.distance import vincenty\n",
    "for i in range(0, (len(data)-1)):\n",
    "    pickup = (data.iloc[i]['pickup_latitude'], data.iloc[i]['pickup_longitude'])\n",
    "    dropoff = (data.iloc[i]['dropoff_latitude'], data.iloc[i]['dropoff_longitude'])\n",
    "    data.set_value(i, 'trip_dist', vincenty(pickup,dropoff).meters)"
   ]
  },
  {
   "cell_type": "markdown",
   "metadata": {},
   "source": [
    "# <font color = 'red'> This operation is way too slow! </font color>"
   ]
  },
  {
   "cell_type": "code",
   "execution_count": 28,
   "metadata": {
    "collapsed": false
   },
   "outputs": [
    {
     "data": {
      "text/plain": [
       "0          876\n",
       "1         4153\n",
       "2          449\n",
       "3         1630\n",
       "4          529\n",
       "5          760\n",
       "6         1332\n",
       "7         2297\n",
       "8          689\n",
       "9         1371\n",
       "10        2358\n",
       "11         558\n",
       "12        4488\n",
       "13        2146\n",
       "14        2803\n",
       "15        1291\n",
       "16         446\n",
       "17        1721\n",
       "18        2882\n",
       "19         674\n",
       "20         927\n",
       "21        3635\n",
       "22        2168\n",
       "23         887\n",
       "24         810\n",
       "25         706\n",
       "26         810\n",
       "27        1491\n",
       "28        1003\n",
       "29         935\n",
       "          ... \n",
       "185714       0\n",
       "185715     552\n",
       "185716    2067\n",
       "185717    1646\n",
       "185718     535\n",
       "185719     722\n",
       "185720     366\n",
       "185721     565\n",
       "185722    1839\n",
       "185723     809\n",
       "185724       0\n",
       "185725    1682\n",
       "185726    1348\n",
       "185727    1244\n",
       "185728     739\n",
       "185729    1314\n",
       "185730    1154\n",
       "185731    1694\n",
       "185732    1896\n",
       "185733    1061\n",
       "185734    1208\n",
       "185735     919\n",
       "185736    1187\n",
       "185737     285\n",
       "185738     285\n",
       "185739     831\n",
       "185740     908\n",
       "185741    1273\n",
       "185742     906\n",
       "185743      -1\n",
       "Name: trip_dist, dtype: int64"
      ]
     },
     "execution_count": 28,
     "metadata": {},
     "output_type": "execute_result"
    }
   ],
   "source": [
    "data.trip_dist"
   ]
  },
  {
   "cell_type": "markdown",
   "metadata": {},
   "source": [
    "We cannot use miles because vincenty ceils / floors the results"
   ]
  },
  {
   "cell_type": "code",
   "execution_count": 29,
   "metadata": {
    "collapsed": false
   },
   "outputs": [
    {
     "data": {
      "text/plain": [
       "Index(['trip_time', 'pickup_datetime', 'dropoff_datetime', 'start_station_id',\n",
       "       'start_station_name', 'pickup_latitude', 'pickup_longitude',\n",
       "       'end_station_id', 'end_station_name', 'dropoff_latitude',\n",
       "       'dropoff_longitude', 'bikeid', 'usertype', 'birth year', 'gender',\n",
       "       'trip_dist'],\n",
       "      dtype='object')"
      ]
     },
     "execution_count": 29,
     "metadata": {},
     "output_type": "execute_result"
    }
   ],
   "source": [
    "data.columns"
   ]
  },
  {
   "cell_type": "markdown",
   "metadata": {},
   "source": [
    "Check if new column is present"
   ]
  },
  {
   "cell_type": "code",
   "execution_count": 30,
   "metadata": {
    "collapsed": true
   },
   "outputs": [],
   "source": [
    "data.to_csv('data/bike_20140505_with_dist.csv')"
   ]
  },
  {
   "cell_type": "code",
   "execution_count": 31,
   "metadata": {
    "collapsed": false
   },
   "outputs": [],
   "source": [
    "data['avg_velocity'] = data.trip_dist.values/(data.trip_time / (np.timedelta64(1, 'h')))"
   ]
  },
  {
   "cell_type": "code",
   "execution_count": 32,
   "metadata": {
    "collapsed": false
   },
   "outputs": [
    {
     "data": {
      "text/plain": [
       "0         10912.110727\n",
       "1         14225.309229\n",
       "2          6820.253165\n",
       "3         10988.764045\n",
       "4          6925.090909\n",
       "5          8658.227848\n",
       "6         12787.200000\n",
       "7         13713.432836\n",
       "8          9119.117647\n",
       "9          7466.868381\n",
       "10         7867.284523\n",
       "11         9611.483254\n",
       "12        10785.580774\n",
       "13         6966.275924\n",
       "14         9628.625954\n",
       "15        11199.036145\n",
       "16         9122.727273\n",
       "17        11388.970588\n",
       "18        13963.930013\n",
       "19         8543.661972\n",
       "20        13565.853659\n",
       "21        11061.707523\n",
       "22        11086.363636\n",
       "23         5357.718121\n",
       "24         9112.500000\n",
       "25         7241.025641\n",
       "26         9286.624204\n",
       "27         3029.119639\n",
       "28        13035.379061\n",
       "29         9402.234637\n",
       "              ...     \n",
       "185714        0.000000\n",
       "185715     4445.637584\n",
       "185716    11554.658385\n",
       "185717     8417.045455\n",
       "185718     8754.545455\n",
       "185719     6203.341289\n",
       "185720    11870.270270\n",
       "185721     6647.058824\n",
       "185722     8631.551499\n",
       "185723     8321.142857\n",
       "185724        0.000000\n",
       "185725    12883.404255\n",
       "185726    11637.410072\n",
       "185727     8514.068441\n",
       "185728     6964.397906\n",
       "185729    13751.162791\n",
       "185730    12861.919505\n",
       "185731    11818.604651\n",
       "185732    11376.000000\n",
       "185733    10493.406593\n",
       "185734    10090.023202\n",
       "185735    10603.846154\n",
       "185736    14102.970297\n",
       "185737     4909.090909\n",
       "185738     5428.571429\n",
       "185739     7404.950495\n",
       "185740    16763.076923\n",
       "185741    13639.285714\n",
       "185742     9678.338279\n",
       "185743      -10.495627\n",
       "Name: avg_velocity, dtype: float64"
      ]
     },
     "execution_count": 32,
     "metadata": {},
     "output_type": "execute_result"
    }
   ],
   "source": [
    "data.avg_velocity"
   ]
  },
  {
   "cell_type": "markdown",
   "metadata": {},
   "source": [
    "Parse to km/h"
   ]
  },
  {
   "cell_type": "code",
   "execution_count": 33,
   "metadata": {
    "collapsed": false
   },
   "outputs": [],
   "source": [
    "data.avg_velocity = data.avg_velocity/1000"
   ]
  },
  {
   "cell_type": "code",
   "execution_count": 34,
   "metadata": {
    "collapsed": false
   },
   "outputs": [
    {
     "data": {
      "text/plain": [
       "0         10.912111\n",
       "1         14.225309\n",
       "2          6.820253\n",
       "3         10.988764\n",
       "4          6.925091\n",
       "5          8.658228\n",
       "6         12.787200\n",
       "7         13.713433\n",
       "8          9.119118\n",
       "9          7.466868\n",
       "10         7.867285\n",
       "11         9.611483\n",
       "12        10.785581\n",
       "13         6.966276\n",
       "14         9.628626\n",
       "15        11.199036\n",
       "16         9.122727\n",
       "17        11.388971\n",
       "18        13.963930\n",
       "19         8.543662\n",
       "20        13.565854\n",
       "21        11.061708\n",
       "22        11.086364\n",
       "23         5.357718\n",
       "24         9.112500\n",
       "25         7.241026\n",
       "26         9.286624\n",
       "27         3.029120\n",
       "28        13.035379\n",
       "29         9.402235\n",
       "            ...    \n",
       "185714     0.000000\n",
       "185715     4.445638\n",
       "185716    11.554658\n",
       "185717     8.417045\n",
       "185718     8.754545\n",
       "185719     6.203341\n",
       "185720    11.870270\n",
       "185721     6.647059\n",
       "185722     8.631551\n",
       "185723     8.321143\n",
       "185724     0.000000\n",
       "185725    12.883404\n",
       "185726    11.637410\n",
       "185727     8.514068\n",
       "185728     6.964398\n",
       "185729    13.751163\n",
       "185730    12.861920\n",
       "185731    11.818605\n",
       "185732    11.376000\n",
       "185733    10.493407\n",
       "185734    10.090023\n",
       "185735    10.603846\n",
       "185736    14.102970\n",
       "185737     4.909091\n",
       "185738     5.428571\n",
       "185739     7.404950\n",
       "185740    16.763077\n",
       "185741    13.639286\n",
       "185742     9.678338\n",
       "185743    -0.010496\n",
       "Name: avg_velocity, dtype: float64"
      ]
     },
     "execution_count": 34,
     "metadata": {},
     "output_type": "execute_result"
    }
   ],
   "source": [
    "data.avg_velocity"
   ]
  },
  {
   "cell_type": "markdown",
   "metadata": {},
   "source": [
    "Convert avg_velocity from km/h to miles/h. (1km = 0,621371 miles)"
   ]
  },
  {
   "cell_type": "code",
   "execution_count": 35,
   "metadata": {
    "collapsed": true
   },
   "outputs": [],
   "source": [
    "data['avg_velocity'] = data.avg_velocity*0.627371"
   ]
  },
  {
   "cell_type": "code",
   "execution_count": 36,
   "metadata": {
    "collapsed": true
   },
   "outputs": [],
   "source": [
    "data.to_csv('data/bike_20140505_with_dist_and_avg_velo.csv')"
   ]
  },
  {
   "cell_type": "code",
   "execution_count": 39,
   "metadata": {
    "collapsed": false
   },
   "outputs": [
    {
     "data": {
      "text/plain": [
       "(array([  6.64500000e+03,   2.17500000e+03,   2.40200000e+03,\n",
       "          2.97100000e+03,   3.83100000e+03,   5.24300000e+03,\n",
       "          7.26600000e+03,   1.03340000e+04,   1.39860000e+04,\n",
       "          1.78030000e+04,   2.04790000e+04,   2.06170000e+04,\n",
       "          1.93290000e+04,   1.60640000e+04,   1.24270000e+04,\n",
       "          9.00100000e+03,   6.03200000e+03,   3.87500000e+03,\n",
       "          2.36800000e+03,   1.37200000e+03,   7.48000000e+02,\n",
       "          4.14000000e+02,   1.83000000e+02,   9.40000000e+01,\n",
       "          4.10000000e+01,   2.40000000e+01,   4.00000000e+00,\n",
       "          5.00000000e+00,   2.00000000e+00,   2.00000000e+00,\n",
       "          0.00000000e+00,   0.00000000e+00,   1.00000000e+00,\n",
       "          0.00000000e+00,   0.00000000e+00,   1.00000000e+00,\n",
       "          1.00000000e+00,   0.00000000e+00,   1.00000000e+00,\n",
       "          0.00000000e+00,   0.00000000e+00,   0.00000000e+00,\n",
       "          0.00000000e+00,   0.00000000e+00,   1.00000000e+00,\n",
       "          0.00000000e+00,   0.00000000e+00,   0.00000000e+00,\n",
       "          0.00000000e+00,   0.00000000e+00,   0.00000000e+00,\n",
       "          0.00000000e+00,   0.00000000e+00,   1.00000000e+00,\n",
       "          0.00000000e+00,   0.00000000e+00,   0.00000000e+00,\n",
       "          0.00000000e+00,   0.00000000e+00,   1.00000000e+00]),\n",
       " array([ -6.58465190e-03,   4.76959260e-01,   9.60503172e-01,\n",
       "          1.44404708e+00,   1.92759100e+00,   2.41113491e+00,\n",
       "          2.89467882e+00,   3.37822273e+00,   3.86176664e+00,\n",
       "          4.34531056e+00,   4.82885447e+00,   5.31239838e+00,\n",
       "          5.79594229e+00,   6.27948620e+00,   6.76303011e+00,\n",
       "          7.24657403e+00,   7.73011794e+00,   8.21366185e+00,\n",
       "          8.69720576e+00,   9.18074967e+00,   9.66429359e+00,\n",
       "          1.01478375e+01,   1.06313814e+01,   1.11149253e+01,\n",
       "          1.15984692e+01,   1.20820131e+01,   1.25655571e+01,\n",
       "          1.30491010e+01,   1.35326449e+01,   1.40161888e+01,\n",
       "          1.44997327e+01,   1.49832766e+01,   1.54668205e+01,\n",
       "          1.59503644e+01,   1.64339084e+01,   1.69174523e+01,\n",
       "          1.74009962e+01,   1.78845401e+01,   1.83680840e+01,\n",
       "          1.88516279e+01,   1.93351718e+01,   1.98187157e+01,\n",
       "          2.03022596e+01,   2.07858036e+01,   2.12693475e+01,\n",
       "          2.17528914e+01,   2.22364353e+01,   2.27199792e+01,\n",
       "          2.32035231e+01,   2.36870670e+01,   2.41706109e+01,\n",
       "          2.46541549e+01,   2.51376988e+01,   2.56212427e+01,\n",
       "          2.61047866e+01,   2.65883305e+01,   2.70718744e+01,\n",
       "          2.75554183e+01,   2.80389622e+01,   2.85225062e+01,\n",
       "          2.90060501e+01]),\n",
       " <a list of 60 Patch objects>)"
      ]
     },
     "execution_count": 39,
     "metadata": {},
     "output_type": "execute_result"
    },
    {
     "data": {
      "image/png": "[encoded data removed]",
      "text/plain": [
       "<matplotlib.figure.Figure at 0x7fc671383080>"
      ]
     },
     "metadata": {},
     "output_type": "display_data"
    }
   ],
   "source": [
    "plt.hist(data.avg_velocity, bins=60)"
   ]
  },
  {
   "cell_type": "code",
   "execution_count": 40,
   "metadata": {
    "collapsed": false
   },
   "outputs": [
    {
     "data": {
      "text/plain": [
       "count    185744.000000\n",
       "mean          5.149069\n",
       "std           2.023218\n",
       "min          -0.006585\n",
       "25%           4.068203\n",
       "50%           5.306131\n",
       "75%           6.457503\n",
       "max          29.006050\n",
       "Name: avg_velocity, dtype: float64"
      ]
     },
     "execution_count": 40,
     "metadata": {},
     "output_type": "execute_result"
    }
   ],
   "source": [
    "data.avg_velocity.describe() # in mph"
   ]
  },
  {
   "cell_type": "code",
   "execution_count": 41,
   "metadata": {
    "collapsed": false
   },
   "outputs": [
    {
     "data": {
      "text/html": [
       "<div>\n",
       "<table border=\"1\" class=\"dataframe\">\n",
       "  <thead>\n",
       "    <tr style=\"text-align: right;\">\n",
       "      <th></th>\n",
       "      <th>trip_time</th>\n",
       "      <th>pickup_datetime</th>\n",
       "      <th>dropoff_datetime</th>\n",
       "      <th>start_station_id</th>\n",
       "      <th>start_station_name</th>\n",
       "      <th>pickup_latitude</th>\n",
       "      <th>pickup_longitude</th>\n",
       "      <th>end_station_id</th>\n",
       "      <th>end_station_name</th>\n",
       "      <th>dropoff_latitude</th>\n",
       "      <th>dropoff_longitude</th>\n",
       "      <th>bikeid</th>\n",
       "      <th>usertype</th>\n",
       "      <th>birth year</th>\n",
       "      <th>gender</th>\n",
       "      <th>trip_dist</th>\n",
       "      <th>avg_velocity</th>\n",
       "    </tr>\n",
       "  </thead>\n",
       "  <tbody>\n",
       "    <tr>\n",
       "      <th>0</th>\n",
       "      <td>00:04:49</td>\n",
       "      <td>2014-05-05 00:00:14</td>\n",
       "      <td>2014-05-05 00:05:03</td>\n",
       "      <td>495</td>\n",
       "      <td>W 47 St &amp; 10 Ave</td>\n",
       "      <td>40.762699</td>\n",
       "      <td>-73.993012</td>\n",
       "      <td>469</td>\n",
       "      <td>Broadway &amp; W 53 St</td>\n",
       "      <td>40.763441</td>\n",
       "      <td>-73.982681</td>\n",
       "      <td>17039</td>\n",
       "      <td>Subscriber</td>\n",
       "      <td>1986</td>\n",
       "      <td>1</td>\n",
       "      <td>876</td>\n",
       "      <td>6.845942</td>\n",
       "    </tr>\n",
       "    <tr>\n",
       "      <th>1</th>\n",
       "      <td>00:17:31</td>\n",
       "      <td>2014-05-05 00:00:19</td>\n",
       "      <td>2014-05-05 00:17:50</td>\n",
       "      <td>281</td>\n",
       "      <td>Grand Army Plaza &amp; Central Park S</td>\n",
       "      <td>40.764397</td>\n",
       "      <td>-73.973715</td>\n",
       "      <td>236</td>\n",
       "      <td>St Marks Pl &amp; 2 Ave</td>\n",
       "      <td>40.728419</td>\n",
       "      <td>-73.987140</td>\n",
       "      <td>17875</td>\n",
       "      <td>Subscriber</td>\n",
       "      <td>1985</td>\n",
       "      <td>1</td>\n",
       "      <td>4153</td>\n",
       "      <td>8.924546</td>\n",
       "    </tr>\n",
       "    <tr>\n",
       "      <th>2</th>\n",
       "      <td>00:03:57</td>\n",
       "      <td>2014-05-05 00:01:05</td>\n",
       "      <td>2014-05-05 00:05:02</td>\n",
       "      <td>309</td>\n",
       "      <td>Murray St &amp; West St</td>\n",
       "      <td>40.714979</td>\n",
       "      <td>-74.013012</td>\n",
       "      <td>3002</td>\n",
       "      <td>South End Ave &amp; Liberty St</td>\n",
       "      <td>40.711512</td>\n",
       "      <td>-74.015756</td>\n",
       "      <td>18008</td>\n",
       "      <td>Customer</td>\n",
       "      <td>\\N</td>\n",
       "      <td>0</td>\n",
       "      <td>449</td>\n",
       "      <td>4.278829</td>\n",
       "    </tr>\n",
       "    <tr>\n",
       "      <th>3</th>\n",
       "      <td>00:08:54</td>\n",
       "      <td>2014-05-05 00:01:12</td>\n",
       "      <td>2014-05-05 00:10:06</td>\n",
       "      <td>151</td>\n",
       "      <td>Cleveland Pl &amp; Spring St</td>\n",
       "      <td>40.721816</td>\n",
       "      <td>-73.997203</td>\n",
       "      <td>345</td>\n",
       "      <td>W 13 St &amp; 6 Ave</td>\n",
       "      <td>40.736494</td>\n",
       "      <td>-73.997044</td>\n",
       "      <td>18237</td>\n",
       "      <td>Subscriber</td>\n",
       "      <td>1983</td>\n",
       "      <td>1</td>\n",
       "      <td>1630</td>\n",
       "      <td>6.894032</td>\n",
       "    </tr>\n",
       "    <tr>\n",
       "      <th>4</th>\n",
       "      <td>00:04:35</td>\n",
       "      <td>2014-05-05 00:01:16</td>\n",
       "      <td>2014-05-05 00:05:51</td>\n",
       "      <td>173</td>\n",
       "      <td>Broadway &amp; W 49 St</td>\n",
       "      <td>40.760647</td>\n",
       "      <td>-73.984427</td>\n",
       "      <td>449</td>\n",
       "      <td>W 52 St &amp; 9 Ave</td>\n",
       "      <td>40.764618</td>\n",
       "      <td>-73.987895</td>\n",
       "      <td>16607</td>\n",
       "      <td>Subscriber</td>\n",
       "      <td>1985</td>\n",
       "      <td>1</td>\n",
       "      <td>529</td>\n",
       "      <td>4.344601</td>\n",
       "    </tr>\n",
       "  </tbody>\n",
       "</table>\n",
       "</div>"
      ],
      "text/plain": [
       "   trip_time     pickup_datetime    dropoff_datetime  start_station_id  \\\n",
       "0   00:04:49 2014-05-05 00:00:14 2014-05-05 00:05:03               495   \n",
       "1   00:17:31 2014-05-05 00:00:19 2014-05-05 00:17:50               281   \n",
       "2   00:03:57 2014-05-05 00:01:05 2014-05-05 00:05:02               309   \n",
       "3   00:08:54 2014-05-05 00:01:12 2014-05-05 00:10:06               151   \n",
       "4   00:04:35 2014-05-05 00:01:16 2014-05-05 00:05:51               173   \n",
       "\n",
       "                  start_station_name  pickup_latitude  pickup_longitude  \\\n",
       "0                   W 47 St & 10 Ave        40.762699        -73.993012   \n",
       "1  Grand Army Plaza & Central Park S        40.764397        -73.973715   \n",
       "2                Murray St & West St        40.714979        -74.013012   \n",
       "3           Cleveland Pl & Spring St        40.721816        -73.997203   \n",
       "4                 Broadway & W 49 St        40.760647        -73.984427   \n",
       "\n",
       "   end_station_id            end_station_name  dropoff_latitude  \\\n",
       "0             469          Broadway & W 53 St         40.763441   \n",
       "1             236         St Marks Pl & 2 Ave         40.728419   \n",
       "2            3002  South End Ave & Liberty St         40.711512   \n",
       "3             345             W 13 St & 6 Ave         40.736494   \n",
       "4             449             W 52 St & 9 Ave         40.764618   \n",
       "\n",
       "   dropoff_longitude  bikeid    usertype birth year  gender  trip_dist  \\\n",
       "0         -73.982681   17039  Subscriber       1986       1        876   \n",
       "1         -73.987140   17875  Subscriber       1985       1       4153   \n",
       "2         -74.015756   18008    Customer         \\N       0        449   \n",
       "3         -73.997044   18237  Subscriber       1983       1       1630   \n",
       "4         -73.987895   16607  Subscriber       1985       1        529   \n",
       "\n",
       "   avg_velocity  \n",
       "0      6.845942  \n",
       "1      8.924546  \n",
       "2      4.278829  \n",
       "3      6.894032  \n",
       "4      4.344601  "
      ]
     },
     "execution_count": 41,
     "metadata": {},
     "output_type": "execute_result"
    }
   ],
   "source": [
    "data.head()"
   ]
  },
  {
   "cell_type": "code",
   "execution_count": 42,
   "metadata": {
    "collapsed": false
   },
   "outputs": [
    {
     "data": {
      "text/plain": [
       "0.0001     0.000000\n",
       "0.0100     0.000000\n",
       "0.5000     5.306131\n",
       "0.7500     6.457503\n",
       "0.9500     8.198881\n",
       "0.9750     8.802942\n",
       "0.9900     9.514220\n",
       "0.9950    10.012335\n",
       "Name: avg_velocity, dtype: float64"
      ]
     },
     "execution_count": 42,
     "metadata": {},
     "output_type": "execute_result"
    }
   ],
   "source": [
    "data.avg_velocity.quantile([.0001,.01, .5, .75, .95, .975, .99, .995])"
   ]
  },
  {
   "cell_type": "markdown",
   "metadata": {},
   "source": [
    "# Be aware: We calculated the avg_velocity based on the euclidean distance. A real driver would never drive that fast. We take all avg_velos >= 5mph (approx. >5%-quantile) into account. We use an upper bound, too. It might not be possible to drive \"too fast\". If someone drives too fast, the technology has had a malfunction."
   ]
  },
  {
   "cell_type": "code",
   "execution_count": 43,
   "metadata": {
    "collapsed": false
   },
   "outputs": [
    {
     "name": "stdout",
     "output_type": "stream",
     "text": [
      "0.42908519252304245\n"
     ]
    },
    {
     "name": "stderr",
     "output_type": "stream",
     "text": [
      "/home/niklas/anaconda3/lib/python3.5/site-packages/pandas/core/indexing.py:284: SettingWithCopyWarning: \n",
      "A value is trying to be set on a copy of a slice from a DataFrame.\n",
      "Try using .loc[row_indexer,col_indexer] = value instead\n",
      "\n",
      "See the caveats in the documentation: http://pandas.pydata.org/pandas-docs/stable/indexing.html#indexing-view-versus-copy\n",
      "  self.obj[key] = _infer_fill_value(value)\n",
      "/home/niklas/anaconda3/lib/python3.5/site-packages/pandas/core/indexing.py:461: SettingWithCopyWarning: \n",
      "A value is trying to be set on a copy of a slice from a DataFrame.\n",
      "Try using .loc[row_indexer,col_indexer] = value instead\n",
      "\n",
      "See the caveats in the documentation: http://pandas.pydata.org/pandas-docs/stable/indexing.html#indexing-view-versus-copy\n",
      "  self.obj[item] = s\n"
     ]
    }
   ],
   "source": [
    "lb = 5\n",
    "ub = 15\n",
    "anomaly = data.loc[(data['avg_velocity'] < lb) | (data['avg_velocity'] > ub)] \n",
    "\n",
    "# be careful! Maybe adjust to append.\n",
    "#anomaly.loc[\n",
    "anomaly.loc[data.loc[(data['avg_velocity'] < lb)].index,'flag'] = 'too_slow'\n",
    "anomaly.loc[data.loc[(data['avg_velocity'] > ub)].index,'flag'] = 'too_fast'\n",
    "data = data.drop(anomaly.index, errors='ignore') # ignore uncontained labels / indices\n",
    "print(1-len(data)/(len(data)+len(anomaly)))"
   ]
  },
  {
   "cell_type": "markdown",
   "metadata": {},
   "source": [
    "# We dropped about 42% of the data!!"
   ]
  },
  {
   "cell_type": "code",
   "execution_count": 44,
   "metadata": {
    "collapsed": false
   },
   "outputs": [
    {
     "data": {
      "text/plain": [
       "count    106044.000000\n",
       "mean          6.502750\n",
       "std           1.133101\n",
       "min           5.000057\n",
       "25%           5.616168\n",
       "50%           6.269582\n",
       "75%           7.142086\n",
       "max          14.099118\n",
       "Name: avg_velocity, dtype: float64"
      ]
     },
     "execution_count": 44,
     "metadata": {},
     "output_type": "execute_result"
    }
   ],
   "source": [
    "data.avg_velocity.describe()"
   ]
  },
  {
   "cell_type": "code",
   "execution_count": 69,
   "metadata": {
    "collapsed": false
   },
   "outputs": [
    {
     "data": {
      "text/html": [
       "<div>\n",
       "<table border=\"1\" class=\"dataframe\">\n",
       "  <thead>\n",
       "    <tr style=\"text-align: right;\">\n",
       "      <th></th>\n",
       "      <th>trip_time</th>\n",
       "      <th>pickup_datetime</th>\n",
       "      <th>dropoff_datetime</th>\n",
       "      <th>start_station_id</th>\n",
       "      <th>start_station_name</th>\n",
       "      <th>pickup_latitude</th>\n",
       "      <th>pickup_longitude</th>\n",
       "      <th>end_station_id</th>\n",
       "      <th>end_station_name</th>\n",
       "      <th>dropoff_latitude</th>\n",
       "      <th>dropoff_longitude</th>\n",
       "      <th>bikeid</th>\n",
       "      <th>usertype</th>\n",
       "      <th>birth year</th>\n",
       "      <th>gender</th>\n",
       "      <th>trip_dist</th>\n",
       "      <th>avg_velocity</th>\n",
       "      <th>flag</th>\n",
       "    </tr>\n",
       "  </thead>\n",
       "  <tbody>\n",
       "    <tr>\n",
       "      <th>185728</th>\n",
       "      <td>00:06:22</td>\n",
       "      <td>2014-05-11 23:47:22</td>\n",
       "      <td>2014-05-11 23:53:44</td>\n",
       "      <td>308</td>\n",
       "      <td>St James Pl &amp; Oliver St</td>\n",
       "      <td>40.713079</td>\n",
       "      <td>-73.998512</td>\n",
       "      <td>307</td>\n",
       "      <td>Canal St &amp; Rutgers St</td>\n",
       "      <td>40.714275</td>\n",
       "      <td>-73.989900</td>\n",
       "      <td>19916</td>\n",
       "      <td>Subscriber</td>\n",
       "      <td>1983</td>\n",
       "      <td>1</td>\n",
       "      <td>739</td>\n",
       "      <td>4.369261</td>\n",
       "      <td>too_slow</td>\n",
       "    </tr>\n",
       "    <tr>\n",
       "      <th>185737</th>\n",
       "      <td>00:03:29</td>\n",
       "      <td>2014-05-11 23:50:54</td>\n",
       "      <td>2014-05-11 23:54:23</td>\n",
       "      <td>526</td>\n",
       "      <td>E 33 St &amp; 5 Ave</td>\n",
       "      <td>40.747659</td>\n",
       "      <td>-73.984907</td>\n",
       "      <td>498</td>\n",
       "      <td>Broadway &amp; W 32 St</td>\n",
       "      <td>40.748549</td>\n",
       "      <td>-73.988084</td>\n",
       "      <td>16197</td>\n",
       "      <td>Customer</td>\n",
       "      <td>\\N</td>\n",
       "      <td>0</td>\n",
       "      <td>285</td>\n",
       "      <td>3.079821</td>\n",
       "      <td>too_slow</td>\n",
       "    </tr>\n",
       "    <tr>\n",
       "      <th>185738</th>\n",
       "      <td>00:03:09</td>\n",
       "      <td>2014-05-11 23:51:22</td>\n",
       "      <td>2014-05-11 23:54:31</td>\n",
       "      <td>526</td>\n",
       "      <td>E 33 St &amp; 5 Ave</td>\n",
       "      <td>40.747659</td>\n",
       "      <td>-73.984907</td>\n",
       "      <td>498</td>\n",
       "      <td>Broadway &amp; W 32 St</td>\n",
       "      <td>40.748549</td>\n",
       "      <td>-73.988084</td>\n",
       "      <td>14714</td>\n",
       "      <td>Customer</td>\n",
       "      <td>\\N</td>\n",
       "      <td>0</td>\n",
       "      <td>285</td>\n",
       "      <td>3.405728</td>\n",
       "      <td>too_slow</td>\n",
       "    </tr>\n",
       "    <tr>\n",
       "      <th>185739</th>\n",
       "      <td>00:06:44</td>\n",
       "      <td>2014-05-11 23:52:29</td>\n",
       "      <td>2014-05-11 23:59:13</td>\n",
       "      <td>369</td>\n",
       "      <td>Washington Pl &amp; 6 Ave</td>\n",
       "      <td>40.732241</td>\n",
       "      <td>-74.000264</td>\n",
       "      <td>293</td>\n",
       "      <td>Lafayette St &amp; E 8 St</td>\n",
       "      <td>40.730287</td>\n",
       "      <td>-73.990765</td>\n",
       "      <td>14617</td>\n",
       "      <td>Subscriber</td>\n",
       "      <td>1962</td>\n",
       "      <td>1</td>\n",
       "      <td>831</td>\n",
       "      <td>4.645651</td>\n",
       "      <td>too_slow</td>\n",
       "    </tr>\n",
       "    <tr>\n",
       "      <th>185743</th>\n",
       "      <td>00:05:43</td>\n",
       "      <td>2014-05-11 23:53:44</td>\n",
       "      <td>2014-05-11 23:59:27</td>\n",
       "      <td>439</td>\n",
       "      <td>E 4 St &amp; 2 Ave</td>\n",
       "      <td>40.726281</td>\n",
       "      <td>-73.989780</td>\n",
       "      <td>393</td>\n",
       "      <td>E 5 St &amp; Avenue C</td>\n",
       "      <td>40.722992</td>\n",
       "      <td>-73.979955</td>\n",
       "      <td>15825</td>\n",
       "      <td>Customer</td>\n",
       "      <td>\\N</td>\n",
       "      <td>0</td>\n",
       "      <td>-1</td>\n",
       "      <td>-0.006585</td>\n",
       "      <td>too_slow</td>\n",
       "    </tr>\n",
       "  </tbody>\n",
       "</table>\n",
       "</div>"
      ],
      "text/plain": [
       "        trip_time     pickup_datetime    dropoff_datetime  start_station_id  \\\n",
       "185728   00:06:22 2014-05-11 23:47:22 2014-05-11 23:53:44               308   \n",
       "185737   00:03:29 2014-05-11 23:50:54 2014-05-11 23:54:23               526   \n",
       "185738   00:03:09 2014-05-11 23:51:22 2014-05-11 23:54:31               526   \n",
       "185739   00:06:44 2014-05-11 23:52:29 2014-05-11 23:59:13               369   \n",
       "185743   00:05:43 2014-05-11 23:53:44 2014-05-11 23:59:27               439   \n",
       "\n",
       "             start_station_name  pickup_latitude  pickup_longitude  \\\n",
       "185728  St James Pl & Oliver St        40.713079        -73.998512   \n",
       "185737          E 33 St & 5 Ave        40.747659        -73.984907   \n",
       "185738          E 33 St & 5 Ave        40.747659        -73.984907   \n",
       "185739    Washington Pl & 6 Ave        40.732241        -74.000264   \n",
       "185743           E 4 St & 2 Ave        40.726281        -73.989780   \n",
       "\n",
       "        end_station_id       end_station_name  dropoff_latitude  \\\n",
       "185728             307  Canal St & Rutgers St         40.714275   \n",
       "185737             498     Broadway & W 32 St         40.748549   \n",
       "185738             498     Broadway & W 32 St         40.748549   \n",
       "185739             293  Lafayette St & E 8 St         40.730287   \n",
       "185743             393      E 5 St & Avenue C         40.722992   \n",
       "\n",
       "        dropoff_longitude  bikeid    usertype birth year  gender  trip_dist  \\\n",
       "185728         -73.989900   19916  Subscriber       1983       1        739   \n",
       "185737         -73.988084   16197    Customer         \\N       0        285   \n",
       "185738         -73.988084   14714    Customer         \\N       0        285   \n",
       "185739         -73.990765   14617  Subscriber       1962       1        831   \n",
       "185743         -73.979955   15825    Customer         \\N       0         -1   \n",
       "\n",
       "        avg_velocity      flag  \n",
       "185728      4.369261  too_slow  \n",
       "185737      3.079821  too_slow  \n",
       "185738      3.405728  too_slow  \n",
       "185739      4.645651  too_slow  \n",
       "185743     -0.006585  too_slow  "
      ]
     },
     "execution_count": 69,
     "metadata": {},
     "output_type": "execute_result"
    }
   ],
   "source": [
    "anomaly.tail()"
   ]
  },
  {
   "cell_type": "markdown",
   "metadata": {},
   "source": [
    "# A little drawing"
   ]
  },
  {
   "cell_type": "code",
   "execution_count": 401,
   "metadata": {
    "collapsed": false
   },
   "outputs": [
    {
     "data": {
      "text/plain": [
       "<matplotlib.figure.Figure at 0x7fc6334b1828>"
      ]
     },
     "metadata": {},
     "output_type": "display_data"
    },
    {
     "data": {
      "image/png": "[encoded data removed]",
      "text/plain": [
       "<matplotlib.figure.Figure at 0x7fc6333b7b38>"
      ]
     },
     "metadata": {},
     "output_type": "display_data"
    }
   ],
   "source": [
    "x = data.pickup_longitude\n",
    "y = data.pickup_latitude\n",
    "\n",
    "bins = 100;\n",
    "#H, xedges, yedges = np.histogram2d(x, y, bins=100, range=[ [x.quantile(.05), x.quantile(.95)], \n",
    "#        [y.quantile(.05), y.quantile(.95)]], normed=False, weights=None)\n",
    "H, xedges, yedges = np.histogram2d(x, y, bins=bins)\n",
    "\n",
    "plt.jet()\n",
    "fig = plt.figure(figsize=(20, 10))\n",
    "#ax.set_title('pcolormesh: exact bin edges')\n",
    "#mesh = plt.pcolormesh(X, Y, H)\n",
    "plt.hist2d(x,y,bins=bins)\n",
    "plt.colorbar()\n",
    "plt.scatter(xedges[79], yedges[61], marker='x')\n",
    "ax = fig.gca()\n",
    "ax.grid(False)\n",
    "#ax.set_aspect('equal')\n",
    "#plt.savefig('figure.pdf', format='pdf')\n",
    "#plt.savefig('figure.png', format='png')"
   ]
  },
  {
   "cell_type": "code",
   "execution_count": 387,
   "metadata": {
    "collapsed": false
   },
   "outputs": [
    {
     "data": {
      "text/plain": [
       "2001.0"
      ]
     },
     "execution_count": 387,
     "metadata": {},
     "output_type": "execute_result"
    }
   ],
   "source": [
    "np.amax(H)"
   ]
  },
  {
   "cell_type": "code",
   "execution_count": 388,
   "metadata": {
    "collapsed": false
   },
   "outputs": [
    {
     "data": {
      "text/plain": [
       "(array([61]), array([79]))"
      ]
     },
     "execution_count": 388,
     "metadata": {},
     "output_type": "execute_result"
    }
   ],
   "source": [
    "np.where(H==2001)"
   ]
  },
  {
   "cell_type": "markdown",
   "metadata": {},
   "source": [
    "The area with the maximum pickups is around the Grand Central Terminal. Not very surprising."
   ]
  },
  {
   "cell_type": "code",
   "execution_count": 403,
   "metadata": {
    "collapsed": false
   },
   "outputs": [
    {
     "data": {
      "text/plain": [
       "(40.752374288829998, -73.978505949899997)"
      ]
     },
     "execution_count": 403,
     "metadata": {},
     "output_type": "execute_result"
    }
   ],
   "source": [
    "yedges[79],xedges[61], "
   ]
  },
  {
   "cell_type": "code",
   "execution_count": 116,
   "metadata": {
    "collapsed": false
   },
   "outputs": [
    {
     "data": {
      "text/plain": [
       "numpy.ndarray"
      ]
     },
     "execution_count": 116,
     "metadata": {},
     "output_type": "execute_result"
    }
   ],
   "source": [
    "type(H)"
   ]
  },
  {
   "cell_type": "code",
   "execution_count": 117,
   "metadata": {
    "collapsed": false
   },
   "outputs": [
    {
     "name": "stdout",
     "output_type": "stream",
     "text": [
      "(100, 100)\n",
      "10000\n",
      "2001.0\n"
     ]
    }
   ],
   "source": [
    "print(H.shape)\n",
    "print(H.size)\n",
    "print(H.max())"
   ]
  },
  {
   "cell_type": "code",
   "execution_count": 118,
   "metadata": {
    "collapsed": false
   },
   "outputs": [
    {
     "name": "stdout",
     "output_type": "stream",
     "text": [
      "(101,)\n"
     ]
    },
    {
     "data": {
      "text/plain": [
       "-74.01713445"
      ]
     },
     "execution_count": 118,
     "metadata": {},
     "output_type": "execute_result"
    }
   ],
   "source": [
    "print(xedges.shape)\n",
    "xedges[0]"
   ]
  },
  {
   "cell_type": "code",
   "execution_count": 119,
   "metadata": {
    "collapsed": false
   },
   "outputs": [
    {
     "name": "stdout",
     "output_type": "stream",
     "text": [
      "[-74.01713445 -74.0165012  -74.01586794 -74.01523469 -74.01460143\n",
      " -74.01396818 -74.01333493 -74.01270167 -74.01206842 -74.01143516\n",
      " -74.01080191 -74.01016865 -74.0095354  -74.00890215 -74.00826889\n",
      " -74.00763564 -74.00700238 -74.00636913 -74.00573588 -74.00510262\n",
      " -74.00446937 -74.00383611 -74.00320286 -74.00256961 -74.00193635\n",
      " -74.0013031  -74.00066984 -74.00003659 -73.99940334 -73.99877008\n",
      " -73.99813683 -73.99750357 -73.99687032 -73.99623706 -73.99560381\n",
      " -73.99497056 -73.9943373  -73.99370405 -73.99307079 -73.99243754\n",
      " -73.99180429 -73.99117103 -73.99053778 -73.98990452 -73.98927127\n",
      " -73.98863802 -73.98800476 -73.98737151 -73.98673825 -73.986105\n",
      " -73.98547174 -73.98483849 -73.98420524 -73.98357198 -73.98293873\n",
      " -73.98230547 -73.98167222 -73.98103897 -73.98040571 -73.97977246\n",
      " -73.9791392  -73.97850595 -73.9778727  -73.97723944 -73.97660619\n",
      " -73.97597293 -73.97533968 -73.97470643 -73.97407317 -73.97343992\n",
      " -73.97280666 -73.97217341 -73.97154015 -73.9709069  -73.97027365\n",
      " -73.96964039 -73.96900714 -73.96837388 -73.96774063 -73.96710738\n",
      " -73.96647412 -73.96584087 -73.96520761 -73.96457436 -73.96394111\n",
      " -73.96330785 -73.9626746  -73.96204134 -73.96140809 -73.96077484\n",
      " -73.96014158 -73.95950833 -73.95887507 -73.95824182 -73.95760856\n",
      " -73.95697531 -73.95634206 -73.9557088  -73.95507555 -73.95444229\n",
      " -73.95380904]\n",
      "[ 40.68034242  40.68125422  40.68216601  40.68307781  40.68398961\n",
      "  40.6849014   40.6858132   40.68672499  40.68763679  40.68854858\n",
      "  40.68946038  40.69037218  40.69128397  40.69219577  40.69310756\n",
      "  40.69401936  40.69493116  40.69584295  40.69675475  40.69766654\n",
      "  40.69857834  40.69949013  40.70040193  40.70131373  40.70222552\n",
      "  40.70313732  40.70404911  40.70496091  40.7058727   40.7067845\n",
      "  40.7076963   40.70860809  40.70951989  40.71043168  40.71134348\n",
      "  40.71225527  40.71316707  40.71407887  40.71499066  40.71590246\n",
      "  40.71681425  40.71772605  40.71863785  40.71954964  40.72046144\n",
      "  40.72137323  40.72228503  40.72319682  40.72410862  40.72502042\n",
      "  40.72593221  40.72684401  40.7277558   40.7286676   40.72957939\n",
      "  40.73049119  40.73140299  40.73231478  40.73322658  40.73413837\n",
      "  40.73505017  40.73596196  40.73687376  40.73778556  40.73869735\n",
      "  40.73960915  40.74052094  40.74143274  40.74234454  40.74325633\n",
      "  40.74416813  40.74507992  40.74599172  40.74690351  40.74781531\n",
      "  40.74872711  40.7496389   40.7505507   40.75146249  40.75237429\n",
      "  40.75328608  40.75419788  40.75510968  40.75602147  40.75693327\n",
      "  40.75784506  40.75875686  40.75966865  40.76058045  40.76149225\n",
      "  40.76240404  40.76331584  40.76422763  40.76513943  40.76605123\n",
      "  40.76696302  40.76787482  40.76878661  40.76969841  40.7706102   40.771522  ]\n"
     ]
    }
   ],
   "source": [
    "print(xedges)\n",
    "print(yedges)"
   ]
  },
  {
   "cell_type": "code",
   "execution_count": 120,
   "metadata": {
    "collapsed": false
   },
   "outputs": [
    {
     "name": "stdout",
     "output_type": "stream",
     "text": [
      "866.4554329011002\n"
     ]
    }
   ],
   "source": [
    "from geopy.distance import vincenty\n",
    "newport_ri = (41.49008, -71.312796)\n",
    "cleveland_oh = (41.499498, -81.695391)\n",
    "print(vincenty(newport_ri, cleveland_oh).kilometers)\n",
    "#538.3904451566326"
   ]
  },
  {
   "cell_type": "code",
   "execution_count": 121,
   "metadata": {
    "collapsed": false
   },
   "outputs": [
    {
     "name": "stdout",
     "output_type": "stream",
     "text": [
      "Current bin width:\n",
      "76.03394282270413\n"
     ]
    }
   ],
   "source": [
    "print('Current bin width:')\n",
    "print(vincenty((xedges[0], yedges[0]), (xedges[1], yedges[1])).meters)"
   ]
  },
  {
   "cell_type": "code",
   "execution_count": 122,
   "metadata": {
    "collapsed": false
   },
   "outputs": [],
   "source": [
    "distances = (-1)*np.ones(len(xedges)-1)\n",
    "for x in range(0,len(xedges)-1, 1):\n",
    "    distances[x] = vincenty((xedges[x], yedges[x]), (xedges[x+1], yedges[x+1])).meters"
   ]
  },
  {
   "cell_type": "code",
   "execution_count": 123,
   "metadata": {
    "collapsed": false
   },
   "outputs": [
    {
     "name": "stdout",
     "output_type": "stream",
     "text": [
      "Sizes of all bins in meters:\n"
     ]
    },
    {
     "data": {
      "text/plain": [
       "array([ 76.03394282,  76.03433763,  76.03473245,  76.03512728,\n",
       "        76.03552212,  76.03591697,  76.03631184,  76.03670672,\n",
       "        76.03710161,  76.03749651,  76.03789143,  76.03828635,\n",
       "        76.03868129,  76.03907624,  76.0394712 ,  76.03986618,\n",
       "        76.04026116,  76.04065616,  76.04105117,  76.04144619,\n",
       "        76.04184122,  76.04223627,  76.04263132,  76.04302639,\n",
       "        76.04342148,  76.04381656,  76.04421167,  76.04460679,\n",
       "        76.04500191,  76.04539706,  76.04579221,  76.04618737,\n",
       "        76.04658255,  76.04697773,  76.04737294,  76.04776815,\n",
       "        76.04816337,  76.04855861,  76.04895385,  76.04934911,\n",
       "        76.04974438,  76.05013966,  76.05053496,  76.05093027,\n",
       "        76.05132558,  76.05172091,  76.05211626,  76.05251161,\n",
       "        76.05290698,  76.05330235,  76.05369774,  76.05409315,\n",
       "        76.05448856,  76.05488398,  76.05527942,  76.05567487,\n",
       "        76.05607033,  76.05646581,  76.05686129,  76.05725679,\n",
       "        76.05765229,  76.05804782,  76.05844335,  76.05883889,\n",
       "        76.05923445,  76.05963002,  76.0600256 ,  76.06042119,\n",
       "        76.06081679,  76.06121241,  76.06160804,  76.06200367,\n",
       "        76.06239932,  76.06279499,  76.06319066,  76.06358635,\n",
       "        76.06398205,  76.06437776,  76.06477348,  76.06516922,\n",
       "        76.06556496,  76.06596072,  76.06635649,  76.06675227,\n",
       "        76.06714807,  76.06754387,  76.06793969,  76.06833552,\n",
       "        76.06873136,  76.06912721,  76.06952308,  76.06991895,\n",
       "        76.07031484,  76.07071074,  76.07110665,  76.07150258,\n",
       "        76.07189851,  76.07229446,  76.07269042,  76.07308639])"
      ]
     },
     "execution_count": 123,
     "metadata": {},
     "output_type": "execute_result"
    }
   ],
   "source": [
    "print('Sizes of all bins in meters:')\n",
    "distances"
   ]
  },
  {
   "cell_type": "code",
   "execution_count": 124,
   "metadata": {
    "collapsed": false
   },
   "outputs": [
    {
     "name": "stdout",
     "output_type": "stream",
     "text": [
      "40.771522,-73.95380904\n",
      "40.771522,-73.95380904\n"
     ]
    }
   ],
   "source": [
    "print(str(max(data.pickup_latitude)) +','+ str(max(data.pickup_longitude)))\n",
    "print(str(max(data.dropoff_latitude)) +','+ str(max(data.dropoff_longitude)))"
   ]
  },
  {
   "cell_type": "markdown",
   "metadata": {},
   "source": [
    "# Only look at trips in a given bounding box\n"
   ]
  },
  {
   "cell_type": "code",
   "execution_count": 125,
   "metadata": {
    "collapsed": false
   },
   "outputs": [],
   "source": [
    "jfk_geodata = (40.641547, -73.778118)\n",
    "ridgefield_geodata = (40.856406, -74.020642)\n",
    "data_in_box = data.loc[(data['dropoff_latitude'] > jfk_geodata[0]) & \n",
    "                       (data['dropoff_longitude'] < jfk_geodata[1]) &\n",
    "                       (data['dropoff_latitude'] < ridgefield_geodata[0]) & \n",
    "                       (data['dropoff_longitude'] > ridgefield_geodata[1]) & \n",
    "                       (data['pickup_latitude'] > jfk_geodata[0]) & \n",
    "                       (data['pickup_longitude'] < jfk_geodata[1]) &\n",
    "                       (data['pickup_latitude'] < ridgefield_geodata[0]) & \n",
    "                       (data['pickup_longitude'] > ridgefield_geodata[1])         \n",
    "                       ]\n",
    "# taxidata = taxidata.drop(anomaly.index)"
   ]
  },
  {
   "cell_type": "code",
   "execution_count": 126,
   "metadata": {
    "collapsed": false
   },
   "outputs": [
    {
     "data": {
      "text/plain": [
       "1.0"
      ]
     },
     "execution_count": 126,
     "metadata": {},
     "output_type": "execute_result"
    }
   ],
   "source": [
    "len(data_in_box)/len(data)"
   ]
  },
  {
   "cell_type": "markdown",
   "metadata": {},
   "source": [
    "# We lost nothing through the bounding box."
   ]
  },
  {
   "cell_type": "markdown",
   "metadata": {},
   "source": [
    "<font color = 'red'> Be careful! They use negative (lat, long), not East/West! </font color>"
   ]
  },
  {
   "cell_type": "code",
   "execution_count": 127,
   "metadata": {
    "collapsed": false
   },
   "outputs": [
    {
     "data": {
      "text/html": [
       "<div>\n",
       "<table border=\"1\" class=\"dataframe\">\n",
       "  <thead>\n",
       "    <tr style=\"text-align: right;\">\n",
       "      <th></th>\n",
       "      <th>trip_time</th>\n",
       "      <th>pickup_datetime</th>\n",
       "      <th>dropoff_datetime</th>\n",
       "      <th>start_station_id</th>\n",
       "      <th>start_station_name</th>\n",
       "      <th>pickup_latitude</th>\n",
       "      <th>pickup_longitude</th>\n",
       "      <th>end_station_id</th>\n",
       "      <th>end_station_name</th>\n",
       "      <th>dropoff_latitude</th>\n",
       "      <th>dropoff_longitude</th>\n",
       "      <th>bikeid</th>\n",
       "      <th>usertype</th>\n",
       "      <th>birth year</th>\n",
       "      <th>gender</th>\n",
       "      <th>trip_dist</th>\n",
       "      <th>avg_velocity</th>\n",
       "    </tr>\n",
       "  </thead>\n",
       "  <tbody>\n",
       "    <tr>\n",
       "      <th>0</th>\n",
       "      <td>00:04:49</td>\n",
       "      <td>2014-05-05 00:00:14</td>\n",
       "      <td>2014-05-05 00:05:03</td>\n",
       "      <td>495</td>\n",
       "      <td>W 47 St &amp; 10 Ave</td>\n",
       "      <td>40.762699</td>\n",
       "      <td>-73.993012</td>\n",
       "      <td>469</td>\n",
       "      <td>Broadway &amp; W 53 St</td>\n",
       "      <td>40.763441</td>\n",
       "      <td>-73.982681</td>\n",
       "      <td>17039</td>\n",
       "      <td>Subscriber</td>\n",
       "      <td>1986</td>\n",
       "      <td>1</td>\n",
       "      <td>876</td>\n",
       "      <td>6.845942</td>\n",
       "    </tr>\n",
       "    <tr>\n",
       "      <th>1</th>\n",
       "      <td>00:17:31</td>\n",
       "      <td>2014-05-05 00:00:19</td>\n",
       "      <td>2014-05-05 00:17:50</td>\n",
       "      <td>281</td>\n",
       "      <td>Grand Army Plaza &amp; Central Park S</td>\n",
       "      <td>40.764397</td>\n",
       "      <td>-73.973715</td>\n",
       "      <td>236</td>\n",
       "      <td>St Marks Pl &amp; 2 Ave</td>\n",
       "      <td>40.728419</td>\n",
       "      <td>-73.987140</td>\n",
       "      <td>17875</td>\n",
       "      <td>Subscriber</td>\n",
       "      <td>1985</td>\n",
       "      <td>1</td>\n",
       "      <td>4153</td>\n",
       "      <td>8.924546</td>\n",
       "    </tr>\n",
       "    <tr>\n",
       "      <th>3</th>\n",
       "      <td>00:08:54</td>\n",
       "      <td>2014-05-05 00:01:12</td>\n",
       "      <td>2014-05-05 00:10:06</td>\n",
       "      <td>151</td>\n",
       "      <td>Cleveland Pl &amp; Spring St</td>\n",
       "      <td>40.721816</td>\n",
       "      <td>-73.997203</td>\n",
       "      <td>345</td>\n",
       "      <td>W 13 St &amp; 6 Ave</td>\n",
       "      <td>40.736494</td>\n",
       "      <td>-73.997044</td>\n",
       "      <td>18237</td>\n",
       "      <td>Subscriber</td>\n",
       "      <td>1983</td>\n",
       "      <td>1</td>\n",
       "      <td>1630</td>\n",
       "      <td>6.894032</td>\n",
       "    </tr>\n",
       "    <tr>\n",
       "      <th>5</th>\n",
       "      <td>00:05:16</td>\n",
       "      <td>2014-05-05 00:01:22</td>\n",
       "      <td>2014-05-05 00:06:38</td>\n",
       "      <td>294</td>\n",
       "      <td>Washington Square E</td>\n",
       "      <td>40.730494</td>\n",
       "      <td>-73.995721</td>\n",
       "      <td>237</td>\n",
       "      <td>E 11 St &amp; 2 Ave</td>\n",
       "      <td>40.730473</td>\n",
       "      <td>-73.986724</td>\n",
       "      <td>15545</td>\n",
       "      <td>Subscriber</td>\n",
       "      <td>1983</td>\n",
       "      <td>2</td>\n",
       "      <td>760</td>\n",
       "      <td>5.431921</td>\n",
       "    </tr>\n",
       "    <tr>\n",
       "      <th>6</th>\n",
       "      <td>00:06:15</td>\n",
       "      <td>2014-05-05 00:01:48</td>\n",
       "      <td>2014-05-05 00:08:03</td>\n",
       "      <td>346</td>\n",
       "      <td>Bank St &amp; Hudson St</td>\n",
       "      <td>40.736529</td>\n",
       "      <td>-74.006180</td>\n",
       "      <td>375</td>\n",
       "      <td>Mercer St &amp; Bleecker St</td>\n",
       "      <td>40.726795</td>\n",
       "      <td>-73.996951</td>\n",
       "      <td>18794</td>\n",
       "      <td>Subscriber</td>\n",
       "      <td>1973</td>\n",
       "      <td>1</td>\n",
       "      <td>1332</td>\n",
       "      <td>8.022318</td>\n",
       "    </tr>\n",
       "  </tbody>\n",
       "</table>\n",
       "</div>"
      ],
      "text/plain": [
       "   trip_time     pickup_datetime    dropoff_datetime  start_station_id  \\\n",
       "0   00:04:49 2014-05-05 00:00:14 2014-05-05 00:05:03               495   \n",
       "1   00:17:31 2014-05-05 00:00:19 2014-05-05 00:17:50               281   \n",
       "3   00:08:54 2014-05-05 00:01:12 2014-05-05 00:10:06               151   \n",
       "5   00:05:16 2014-05-05 00:01:22 2014-05-05 00:06:38               294   \n",
       "6   00:06:15 2014-05-05 00:01:48 2014-05-05 00:08:03               346   \n",
       "\n",
       "                  start_station_name  pickup_latitude  pickup_longitude  \\\n",
       "0                   W 47 St & 10 Ave        40.762699        -73.993012   \n",
       "1  Grand Army Plaza & Central Park S        40.764397        -73.973715   \n",
       "3           Cleveland Pl & Spring St        40.721816        -73.997203   \n",
       "5                Washington Square E        40.730494        -73.995721   \n",
       "6                Bank St & Hudson St        40.736529        -74.006180   \n",
       "\n",
       "   end_station_id         end_station_name  dropoff_latitude  \\\n",
       "0             469       Broadway & W 53 St         40.763441   \n",
       "1             236      St Marks Pl & 2 Ave         40.728419   \n",
       "3             345          W 13 St & 6 Ave         40.736494   \n",
       "5             237          E 11 St & 2 Ave         40.730473   \n",
       "6             375  Mercer St & Bleecker St         40.726795   \n",
       "\n",
       "   dropoff_longitude  bikeid    usertype birth year  gender  trip_dist  \\\n",
       "0         -73.982681   17039  Subscriber       1986       1        876   \n",
       "1         -73.987140   17875  Subscriber       1985       1       4153   \n",
       "3         -73.997044   18237  Subscriber       1983       1       1630   \n",
       "5         -73.986724   15545  Subscriber       1983       2        760   \n",
       "6         -73.996951   18794  Subscriber       1973       1       1332   \n",
       "\n",
       "   avg_velocity  \n",
       "0      6.845942  \n",
       "1      8.924546  \n",
       "3      6.894032  \n",
       "5      5.431921  \n",
       "6      8.022318  "
      ]
     },
     "execution_count": 127,
     "metadata": {},
     "output_type": "execute_result"
    }
   ],
   "source": [
    "data_in_box.head()"
   ]
  },
  {
   "cell_type": "code",
   "execution_count": 129,
   "metadata": {
    "collapsed": false
   },
   "outputs": [
    {
     "name": "stdout",
     "output_type": "stream",
     "text": [
      "(100, 100)\n",
      "10000\n",
      "2001.0\n",
      "(101,)\n",
      "[ 40.68034242  40.68125422  40.68216601  40.68307781  40.68398961\n",
      "  40.6849014   40.6858132   40.68672499  40.68763679  40.68854858\n",
      "  40.68946038  40.69037218  40.69128397  40.69219577  40.69310756\n",
      "  40.69401936  40.69493116  40.69584295  40.69675475  40.69766654\n",
      "  40.69857834  40.69949013  40.70040193  40.70131373  40.70222552\n",
      "  40.70313732  40.70404911  40.70496091  40.7058727   40.7067845\n",
      "  40.7076963   40.70860809  40.70951989  40.71043168  40.71134348\n",
      "  40.71225527  40.71316707  40.71407887  40.71499066  40.71590246\n",
      "  40.71681425  40.71772605  40.71863785  40.71954964  40.72046144\n",
      "  40.72137323  40.72228503  40.72319682  40.72410862  40.72502042\n",
      "  40.72593221  40.72684401  40.7277558   40.7286676   40.72957939\n",
      "  40.73049119  40.73140299  40.73231478  40.73322658  40.73413837\n",
      "  40.73505017  40.73596196  40.73687376  40.73778556  40.73869735\n",
      "  40.73960915  40.74052094  40.74143274  40.74234454  40.74325633\n",
      "  40.74416813  40.74507992  40.74599172  40.74690351  40.74781531\n",
      "  40.74872711  40.7496389   40.7505507   40.75146249  40.75237429\n",
      "  40.75328608  40.75419788  40.75510968  40.75602147  40.75693327\n",
      "  40.75784506  40.75875686  40.75966865  40.76058045  40.76149225\n",
      "  40.76240404  40.76331584  40.76422763  40.76513943  40.76605123\n",
      "  40.76696302  40.76787482  40.76878661  40.76969841  40.7706102   40.771522  ]\n",
      "[-74.01713445 -74.0165012  -74.01586794 -74.01523469 -74.01460143\n",
      " -74.01396818 -74.01333493 -74.01270167 -74.01206842 -74.01143516\n",
      " -74.01080191 -74.01016865 -74.0095354  -74.00890215 -74.00826889\n",
      " -74.00763564 -74.00700238 -74.00636913 -74.00573588 -74.00510262\n",
      " -74.00446937 -74.00383611 -74.00320286 -74.00256961 -74.00193635\n",
      " -74.0013031  -74.00066984 -74.00003659 -73.99940334 -73.99877008\n",
      " -73.99813683 -73.99750357 -73.99687032 -73.99623706 -73.99560381\n",
      " -73.99497056 -73.9943373  -73.99370405 -73.99307079 -73.99243754\n",
      " -73.99180429 -73.99117103 -73.99053778 -73.98990452 -73.98927127\n",
      " -73.98863802 -73.98800476 -73.98737151 -73.98673825 -73.986105\n",
      " -73.98547174 -73.98483849 -73.98420524 -73.98357198 -73.98293873\n",
      " -73.98230547 -73.98167222 -73.98103897 -73.98040571 -73.97977246\n",
      " -73.9791392  -73.97850595 -73.9778727  -73.97723944 -73.97660619\n",
      " -73.97597293 -73.97533968 -73.97470643 -73.97407317 -73.97343992\n",
      " -73.97280666 -73.97217341 -73.97154015 -73.9709069  -73.97027365\n",
      " -73.96964039 -73.96900714 -73.96837388 -73.96774063 -73.96710738\n",
      " -73.96647412 -73.96584087 -73.96520761 -73.96457436 -73.96394111\n",
      " -73.96330785 -73.9626746  -73.96204134 -73.96140809 -73.96077484\n",
      " -73.96014158 -73.95950833 -73.95887507 -73.95824182 -73.95760856\n",
      " -73.95697531 -73.95634206 -73.9557088  -73.95507555 -73.95444229\n",
      " -73.95380904]\n",
      "Sizes of all bins in meters:\n"
     ]
    },
    {
     "data": {
      "text/plain": [
       "array([ 114.53451502,  114.53418823,  114.53386145,  114.53353466,\n",
       "        114.53320787,  114.53288107,  114.53255428,  114.53222747,\n",
       "        114.53190067,  114.53157387,  114.53124706,  114.53092025,\n",
       "        114.53059344,  114.53026662,  114.52993981,  114.52961299,\n",
       "        114.52928617,  114.52895934,  114.52863251,  114.52830568,\n",
       "        114.52797885,  114.52765201,  114.52732518,  114.52699834,\n",
       "        114.52667149,  114.52634465,  114.5260178 ,  114.52569095,\n",
       "        114.52536409,  114.52503724,  114.52471038,  114.52438352,\n",
       "        114.52405666,  114.52372979,  114.52340292,  114.52307605,\n",
       "        114.52274918,  114.5224223 ,  114.52209542,  114.52176854,\n",
       "        114.52144165,  114.52111477,  114.52078788,  114.52046099,\n",
       "        114.52013409,  114.51980719,  114.5194803 ,  114.51915339,\n",
       "        114.51882649,  114.51849958,  114.51817267,  114.51784576,\n",
       "        114.51751884,  114.51719193,  114.51686501,  114.51653808,\n",
       "        114.51621116,  114.51588423,  114.5155573 ,  114.51523037,\n",
       "        114.51490343,  114.51457649,  114.51424955,  114.51392261,\n",
       "        114.51359566,  114.51326872,  114.51294177,  114.51261481,\n",
       "        114.51228786,  114.5119609 ,  114.51163394,  114.51130697,\n",
       "        114.51098001,  114.51065304,  114.51032607,  114.50999909,\n",
       "        114.50967212,  114.50934514,  114.50901816,  114.50869117,\n",
       "        114.50836419,  114.5080372 ,  114.50771021,  114.50738321,\n",
       "        114.50705621,  114.50672922,  114.50640221,  114.50607521,\n",
       "        114.5057482 ,  114.50542119,  114.50509418,  114.50476716,\n",
       "        114.50444015,  114.50411313,  114.50378611,  114.50345908,\n",
       "        114.50313205,  114.50280502,  114.50247799,  114.50215096])"
      ]
     },
     "execution_count": 129,
     "metadata": {},
     "output_type": "execute_result"
    }
   ],
   "source": [
    "print(H.shape)\n",
    "print(H.size)\n",
    "print(H.max())\n",
    "print(xedges.shape)\n",
    "print(xedges)\n",
    "print(yedges)\n",
    "\n",
    "distances = (-1)*np.ones(len(xedges)-1)\n",
    "for x in range(0,len(xedges)-1, 1):\n",
    "    distances[x] = vincenty((xedges[x], yedges[x]), (xedges[x+1], yedges[x+1])).meters\n",
    "    \n",
    "print('Sizes of all bins in meters:')\n",
    "distances"
   ]
  },
  {
   "cell_type": "code",
   "execution_count": 130,
   "metadata": {
    "collapsed": false
   },
   "outputs": [
    {
     "data": {
      "text/plain": [
       "0.96750000000000003"
      ]
     },
     "execution_count": 130,
     "metadata": {},
     "output_type": "execute_result"
    }
   ],
   "source": [
    "(H==0).sum()/H.size"
   ]
  },
  {
   "cell_type": "markdown",
   "metadata": {},
   "source": [
    "# So we know that about 97% of the bins have 0 pickups in it. This was expected, because we have static stations only."
   ]
  },
  {
   "cell_type": "markdown",
   "metadata": {},
   "source": [
    "## Let's take a first look at the distribution if the target variable which we want to estimate:"
   ]
  },
  {
   "cell_type": "code",
   "execution_count": 135,
   "metadata": {
    "collapsed": false
   },
   "outputs": [
    {
     "data": {
      "image/png": "[encoded data removed]",
      "text/plain": [
       "<matplotlib.figure.Figure at 0x7fc67012bb38>"
      ]
     },
     "metadata": {},
     "output_type": "display_data"
    }
   ],
   "source": [
    "h = data_in_box.avg_velocity.values\n",
    "plt.figure(figsize=(20,10))\n",
    "plt.hist(h, normed=False,  bins=150)\n",
    "    #, histtype='stepfilled')\n",
    "#plt.yscale('log')\n",
    "#plt.ylabel('log(freq x)', fontsize=40)\n",
    "#plt.xlabel('x = avg_amount_per_minute', fontsize=40)\n",
    "#print('Min:' +  str(min(h)) + '\\nMax:' +  str(max(h)))\n",
    "#plt.locator_params(axis = 'x', nbins = 20)\n",
    "plt.show()"
   ]
  },
  {
   "cell_type": "code",
   "execution_count": 136,
   "metadata": {
    "collapsed": false
   },
   "outputs": [
    {
     "data": {
      "text/html": [
       "<div>\n",
       "<table border=\"1\" class=\"dataframe\">\n",
       "  <thead>\n",
       "    <tr style=\"text-align: right;\">\n",
       "      <th></th>\n",
       "      <th>trip_time</th>\n",
       "      <th>pickup_datetime</th>\n",
       "      <th>dropoff_datetime</th>\n",
       "      <th>start_station_id</th>\n",
       "      <th>start_station_name</th>\n",
       "      <th>pickup_latitude</th>\n",
       "      <th>pickup_longitude</th>\n",
       "      <th>end_station_id</th>\n",
       "      <th>end_station_name</th>\n",
       "      <th>dropoff_latitude</th>\n",
       "      <th>dropoff_longitude</th>\n",
       "      <th>bikeid</th>\n",
       "      <th>usertype</th>\n",
       "      <th>birth year</th>\n",
       "      <th>gender</th>\n",
       "      <th>trip_dist</th>\n",
       "      <th>avg_velocity</th>\n",
       "    </tr>\n",
       "  </thead>\n",
       "  <tbody>\n",
       "    <tr>\n",
       "      <th>0</th>\n",
       "      <td>00:04:49</td>\n",
       "      <td>2014-05-05 00:00:14</td>\n",
       "      <td>2014-05-05 00:05:03</td>\n",
       "      <td>495</td>\n",
       "      <td>W 47 St &amp; 10 Ave</td>\n",
       "      <td>40.762699</td>\n",
       "      <td>-73.993012</td>\n",
       "      <td>469</td>\n",
       "      <td>Broadway &amp; W 53 St</td>\n",
       "      <td>40.763441</td>\n",
       "      <td>-73.982681</td>\n",
       "      <td>17039</td>\n",
       "      <td>Subscriber</td>\n",
       "      <td>1986</td>\n",
       "      <td>1</td>\n",
       "      <td>876</td>\n",
       "      <td>6.845942</td>\n",
       "    </tr>\n",
       "    <tr>\n",
       "      <th>1</th>\n",
       "      <td>00:17:31</td>\n",
       "      <td>2014-05-05 00:00:19</td>\n",
       "      <td>2014-05-05 00:17:50</td>\n",
       "      <td>281</td>\n",
       "      <td>Grand Army Plaza &amp; Central Park S</td>\n",
       "      <td>40.764397</td>\n",
       "      <td>-73.973715</td>\n",
       "      <td>236</td>\n",
       "      <td>St Marks Pl &amp; 2 Ave</td>\n",
       "      <td>40.728419</td>\n",
       "      <td>-73.987140</td>\n",
       "      <td>17875</td>\n",
       "      <td>Subscriber</td>\n",
       "      <td>1985</td>\n",
       "      <td>1</td>\n",
       "      <td>4153</td>\n",
       "      <td>8.924546</td>\n",
       "    </tr>\n",
       "    <tr>\n",
       "      <th>3</th>\n",
       "      <td>00:08:54</td>\n",
       "      <td>2014-05-05 00:01:12</td>\n",
       "      <td>2014-05-05 00:10:06</td>\n",
       "      <td>151</td>\n",
       "      <td>Cleveland Pl &amp; Spring St</td>\n",
       "      <td>40.721816</td>\n",
       "      <td>-73.997203</td>\n",
       "      <td>345</td>\n",
       "      <td>W 13 St &amp; 6 Ave</td>\n",
       "      <td>40.736494</td>\n",
       "      <td>-73.997044</td>\n",
       "      <td>18237</td>\n",
       "      <td>Subscriber</td>\n",
       "      <td>1983</td>\n",
       "      <td>1</td>\n",
       "      <td>1630</td>\n",
       "      <td>6.894032</td>\n",
       "    </tr>\n",
       "    <tr>\n",
       "      <th>5</th>\n",
       "      <td>00:05:16</td>\n",
       "      <td>2014-05-05 00:01:22</td>\n",
       "      <td>2014-05-05 00:06:38</td>\n",
       "      <td>294</td>\n",
       "      <td>Washington Square E</td>\n",
       "      <td>40.730494</td>\n",
       "      <td>-73.995721</td>\n",
       "      <td>237</td>\n",
       "      <td>E 11 St &amp; 2 Ave</td>\n",
       "      <td>40.730473</td>\n",
       "      <td>-73.986724</td>\n",
       "      <td>15545</td>\n",
       "      <td>Subscriber</td>\n",
       "      <td>1983</td>\n",
       "      <td>2</td>\n",
       "      <td>760</td>\n",
       "      <td>5.431921</td>\n",
       "    </tr>\n",
       "    <tr>\n",
       "      <th>6</th>\n",
       "      <td>00:06:15</td>\n",
       "      <td>2014-05-05 00:01:48</td>\n",
       "      <td>2014-05-05 00:08:03</td>\n",
       "      <td>346</td>\n",
       "      <td>Bank St &amp; Hudson St</td>\n",
       "      <td>40.736529</td>\n",
       "      <td>-74.006180</td>\n",
       "      <td>375</td>\n",
       "      <td>Mercer St &amp; Bleecker St</td>\n",
       "      <td>40.726795</td>\n",
       "      <td>-73.996951</td>\n",
       "      <td>18794</td>\n",
       "      <td>Subscriber</td>\n",
       "      <td>1973</td>\n",
       "      <td>1</td>\n",
       "      <td>1332</td>\n",
       "      <td>8.022318</td>\n",
       "    </tr>\n",
       "  </tbody>\n",
       "</table>\n",
       "</div>"
      ],
      "text/plain": [
       "   trip_time     pickup_datetime    dropoff_datetime  start_station_id  \\\n",
       "0   00:04:49 2014-05-05 00:00:14 2014-05-05 00:05:03               495   \n",
       "1   00:17:31 2014-05-05 00:00:19 2014-05-05 00:17:50               281   \n",
       "3   00:08:54 2014-05-05 00:01:12 2014-05-05 00:10:06               151   \n",
       "5   00:05:16 2014-05-05 00:01:22 2014-05-05 00:06:38               294   \n",
       "6   00:06:15 2014-05-05 00:01:48 2014-05-05 00:08:03               346   \n",
       "\n",
       "                  start_station_name  pickup_latitude  pickup_longitude  \\\n",
       "0                   W 47 St & 10 Ave        40.762699        -73.993012   \n",
       "1  Grand Army Plaza & Central Park S        40.764397        -73.973715   \n",
       "3           Cleveland Pl & Spring St        40.721816        -73.997203   \n",
       "5                Washington Square E        40.730494        -73.995721   \n",
       "6                Bank St & Hudson St        40.736529        -74.006180   \n",
       "\n",
       "   end_station_id         end_station_name  dropoff_latitude  \\\n",
       "0             469       Broadway & W 53 St         40.763441   \n",
       "1             236      St Marks Pl & 2 Ave         40.728419   \n",
       "3             345          W 13 St & 6 Ave         40.736494   \n",
       "5             237          E 11 St & 2 Ave         40.730473   \n",
       "6             375  Mercer St & Bleecker St         40.726795   \n",
       "\n",
       "   dropoff_longitude  bikeid    usertype birth year  gender  trip_dist  \\\n",
       "0         -73.982681   17039  Subscriber       1986       1        876   \n",
       "1         -73.987140   17875  Subscriber       1985       1       4153   \n",
       "3         -73.997044   18237  Subscriber       1983       1       1630   \n",
       "5         -73.986724   15545  Subscriber       1983       2        760   \n",
       "6         -73.996951   18794  Subscriber       1973       1       1332   \n",
       "\n",
       "   avg_velocity  \n",
       "0      6.845942  \n",
       "1      8.924546  \n",
       "3      6.894032  \n",
       "5      5.431921  \n",
       "6      8.022318  "
      ]
     },
     "execution_count": 136,
     "metadata": {},
     "output_type": "execute_result"
    }
   ],
   "source": [
    "data_in_box.head()"
   ]
  },
  {
   "cell_type": "code",
   "execution_count": 137,
   "metadata": {
    "collapsed": false
   },
   "outputs": [],
   "source": [
    "#data_in_box['pickup_datetime'].dt.dayofweek\n",
    "#tdata_in_box['pickup_datetime'].dt.hourb\n",
    "#data_in_box['pickup_datetime'].dt.month # year, month, day, hour, minute, second, microsecond, and tzinfo.\n",
    "#data_in_box['pickup_datetime'].dt.day"
   ]
  },
  {
   "cell_type": "markdown",
   "metadata": {},
   "source": [
    "# Make a new dataframe with features and targets"
   ]
  },
  {
   "cell_type": "code",
   "execution_count": 138,
   "metadata": {
    "collapsed": false
   },
   "outputs": [],
   "source": [
    "time_regression_df = pd.DataFrame([ #data_in_box['pickup_datetime'].dt.day, # leave this out\n",
    "                          data_in_box['pickup_datetime'].dt.dayofweek,\n",
    "                          data_in_box['pickup_datetime'].dt.hour,\n",
    "                          data_in_box['pickup_latitude'],\n",
    "                          data_in_box['pickup_longitude'],\n",
    "                          data_in_box['dropoff_latitude'],\n",
    "                          data_in_box['dropoff_longitude'],\n",
    "                          np.ceil(data_in_box['avg_velocity'])\n",
    "                         ]).T"
   ]
  },
  {
   "cell_type": "code",
   "execution_count": 139,
   "metadata": {
    "collapsed": false
   },
   "outputs": [],
   "source": [
    "time_regression_df.columns = [#'pickup_datetime_day', \n",
    "                              'pickup_datetime_dayofweek', 'pickup_datetime_hour',\n",
    "                                 'pickup_latitude', 'pickup_longitude', 'dropoff_latitude', 'dropoff_longitude',\n",
    "                                 'avg_velocity_mph']"
   ]
  },
  {
   "cell_type": "markdown",
   "metadata": {},
   "source": [
    "Use minutes for prediction instead of seconds (ceil the time). Definitley more robust than seconds!"
   ]
  },
  {
   "cell_type": "code",
   "execution_count": 140,
   "metadata": {
    "collapsed": false
   },
   "outputs": [
    {
     "data": {
      "text/html": [
       "<div>\n",
       "<table border=\"1\" class=\"dataframe\">\n",
       "  <thead>\n",
       "    <tr style=\"text-align: right;\">\n",
       "      <th></th>\n",
       "      <th>pickup_datetime_dayofweek</th>\n",
       "      <th>pickup_datetime_hour</th>\n",
       "      <th>pickup_latitude</th>\n",
       "      <th>pickup_longitude</th>\n",
       "      <th>dropoff_latitude</th>\n",
       "      <th>dropoff_longitude</th>\n",
       "      <th>avg_velocity_mph</th>\n",
       "    </tr>\n",
       "  </thead>\n",
       "  <tbody>\n",
       "    <tr>\n",
       "      <th>0</th>\n",
       "      <td>0.0</td>\n",
       "      <td>0.0</td>\n",
       "      <td>40.762699</td>\n",
       "      <td>-73.993012</td>\n",
       "      <td>40.763441</td>\n",
       "      <td>-73.982681</td>\n",
       "      <td>7.0</td>\n",
       "    </tr>\n",
       "    <tr>\n",
       "      <th>1</th>\n",
       "      <td>0.0</td>\n",
       "      <td>0.0</td>\n",
       "      <td>40.764397</td>\n",
       "      <td>-73.973715</td>\n",
       "      <td>40.728419</td>\n",
       "      <td>-73.987140</td>\n",
       "      <td>9.0</td>\n",
       "    </tr>\n",
       "    <tr>\n",
       "      <th>3</th>\n",
       "      <td>0.0</td>\n",
       "      <td>0.0</td>\n",
       "      <td>40.721816</td>\n",
       "      <td>-73.997203</td>\n",
       "      <td>40.736494</td>\n",
       "      <td>-73.997044</td>\n",
       "      <td>7.0</td>\n",
       "    </tr>\n",
       "    <tr>\n",
       "      <th>5</th>\n",
       "      <td>0.0</td>\n",
       "      <td>0.0</td>\n",
       "      <td>40.730494</td>\n",
       "      <td>-73.995721</td>\n",
       "      <td>40.730473</td>\n",
       "      <td>-73.986724</td>\n",
       "      <td>6.0</td>\n",
       "    </tr>\n",
       "    <tr>\n",
       "      <th>6</th>\n",
       "      <td>0.0</td>\n",
       "      <td>0.0</td>\n",
       "      <td>40.736529</td>\n",
       "      <td>-74.006180</td>\n",
       "      <td>40.726795</td>\n",
       "      <td>-73.996951</td>\n",
       "      <td>9.0</td>\n",
       "    </tr>\n",
       "  </tbody>\n",
       "</table>\n",
       "</div>"
      ],
      "text/plain": [
       "   pickup_datetime_dayofweek  pickup_datetime_hour  pickup_latitude  \\\n",
       "0                        0.0                   0.0        40.762699   \n",
       "1                        0.0                   0.0        40.764397   \n",
       "3                        0.0                   0.0        40.721816   \n",
       "5                        0.0                   0.0        40.730494   \n",
       "6                        0.0                   0.0        40.736529   \n",
       "\n",
       "   pickup_longitude  dropoff_latitude  dropoff_longitude  avg_velocity_mph  \n",
       "0        -73.993012         40.763441         -73.982681               7.0  \n",
       "1        -73.973715         40.728419         -73.987140               9.0  \n",
       "3        -73.997203         40.736494         -73.997044               7.0  \n",
       "5        -73.995721         40.730473         -73.986724               6.0  \n",
       "6        -74.006180         40.726795         -73.996951               9.0  "
      ]
     },
     "execution_count": 140,
     "metadata": {},
     "output_type": "execute_result"
    }
   ],
   "source": [
    "time_regression_df.head()"
   ]
  },
  {
   "cell_type": "code",
   "execution_count": 141,
   "metadata": {
    "collapsed": false
   },
   "outputs": [
    {
     "data": {
      "text/html": [
       "<div>\n",
       "<table border=\"1\" class=\"dataframe\">\n",
       "  <thead>\n",
       "    <tr style=\"text-align: right;\">\n",
       "      <th></th>\n",
       "      <th>pickup_datetime_dayofweek</th>\n",
       "      <th>pickup_datetime_hour</th>\n",
       "      <th>pickup_latitude</th>\n",
       "      <th>pickup_longitude</th>\n",
       "      <th>dropoff_latitude</th>\n",
       "      <th>dropoff_longitude</th>\n",
       "      <th>avg_velocity_mph</th>\n",
       "    </tr>\n",
       "  </thead>\n",
       "  <tbody>\n",
       "    <tr>\n",
       "      <th>185735</th>\n",
       "      <td>6.0</td>\n",
       "      <td>23.0</td>\n",
       "      <td>40.692395</td>\n",
       "      <td>-73.993379</td>\n",
       "      <td>40.688070</td>\n",
       "      <td>-73.984106</td>\n",
       "      <td>7.0</td>\n",
       "    </tr>\n",
       "    <tr>\n",
       "      <th>185736</th>\n",
       "      <td>6.0</td>\n",
       "      <td>23.0</td>\n",
       "      <td>40.707065</td>\n",
       "      <td>-74.007319</td>\n",
       "      <td>40.717488</td>\n",
       "      <td>-74.010455</td>\n",
       "      <td>9.0</td>\n",
       "    </tr>\n",
       "    <tr>\n",
       "      <th>185740</th>\n",
       "      <td>6.0</td>\n",
       "      <td>23.0</td>\n",
       "      <td>40.729170</td>\n",
       "      <td>-73.998102</td>\n",
       "      <td>40.721655</td>\n",
       "      <td>-74.002347</td>\n",
       "      <td>11.0</td>\n",
       "    </tr>\n",
       "    <tr>\n",
       "      <th>185741</th>\n",
       "      <td>6.0</td>\n",
       "      <td>23.0</td>\n",
       "      <td>40.734232</td>\n",
       "      <td>-73.986923</td>\n",
       "      <td>40.742909</td>\n",
       "      <td>-73.977061</td>\n",
       "      <td>9.0</td>\n",
       "    </tr>\n",
       "    <tr>\n",
       "      <th>185742</th>\n",
       "      <td>6.0</td>\n",
       "      <td>23.0</td>\n",
       "      <td>40.726281</td>\n",
       "      <td>-73.989780</td>\n",
       "      <td>40.722992</td>\n",
       "      <td>-73.979955</td>\n",
       "      <td>7.0</td>\n",
       "    </tr>\n",
       "  </tbody>\n",
       "</table>\n",
       "</div>"
      ],
      "text/plain": [
       "        pickup_datetime_dayofweek  pickup_datetime_hour  pickup_latitude  \\\n",
       "185735                        6.0                  23.0        40.692395   \n",
       "185736                        6.0                  23.0        40.707065   \n",
       "185740                        6.0                  23.0        40.729170   \n",
       "185741                        6.0                  23.0        40.734232   \n",
       "185742                        6.0                  23.0        40.726281   \n",
       "\n",
       "        pickup_longitude  dropoff_latitude  dropoff_longitude  \\\n",
       "185735        -73.993379         40.688070         -73.984106   \n",
       "185736        -74.007319         40.717488         -74.010455   \n",
       "185740        -73.998102         40.721655         -74.002347   \n",
       "185741        -73.986923         40.742909         -73.977061   \n",
       "185742        -73.989780         40.722992         -73.979955   \n",
       "\n",
       "        avg_velocity_mph  \n",
       "185735               7.0  \n",
       "185736               9.0  \n",
       "185740              11.0  \n",
       "185741               9.0  \n",
       "185742               7.0  "
      ]
     },
     "execution_count": 141,
     "metadata": {},
     "output_type": "execute_result"
    }
   ],
   "source": [
    "time_regression_df.tail()"
   ]
  },
  {
   "cell_type": "code",
   "execution_count": 142,
   "metadata": {
    "collapsed": false
   },
   "outputs": [
    {
     "data": {
      "text/html": [
       "<div>\n",
       "<table border=\"1\" class=\"dataframe\">\n",
       "  <thead>\n",
       "    <tr style=\"text-align: right;\">\n",
       "      <th></th>\n",
       "      <th>pickup_datetime_dayofweek</th>\n",
       "      <th>pickup_datetime_hour</th>\n",
       "      <th>pickup_latitude</th>\n",
       "      <th>pickup_longitude</th>\n",
       "      <th>dropoff_latitude</th>\n",
       "      <th>dropoff_longitude</th>\n",
       "      <th>avg_velocity_mph</th>\n",
       "    </tr>\n",
       "  </thead>\n",
       "  <tbody>\n",
       "    <tr>\n",
       "      <th>count</th>\n",
       "      <td>106044.000000</td>\n",
       "      <td>106044.000000</td>\n",
       "      <td>106044.000000</td>\n",
       "      <td>106044.000000</td>\n",
       "      <td>106044.000000</td>\n",
       "      <td>106044.000000</td>\n",
       "      <td>106044.000000</td>\n",
       "    </tr>\n",
       "    <tr>\n",
       "      <th>mean</th>\n",
       "      <td>2.603636</td>\n",
       "      <td>13.969918</td>\n",
       "      <td>40.735199</td>\n",
       "      <td>-73.990941</td>\n",
       "      <td>40.734848</td>\n",
       "      <td>-73.991118</td>\n",
       "      <td>7.036636</td>\n",
       "    </tr>\n",
       "    <tr>\n",
       "      <th>std</th>\n",
       "      <td>1.972009</td>\n",
       "      <td>4.992480</td>\n",
       "      <td>0.019369</td>\n",
       "      <td>0.012164</td>\n",
       "      <td>0.019295</td>\n",
       "      <td>0.012357</td>\n",
       "      <td>1.125662</td>\n",
       "    </tr>\n",
       "    <tr>\n",
       "      <th>min</th>\n",
       "      <td>0.000000</td>\n",
       "      <td>0.000000</td>\n",
       "      <td>40.680342</td>\n",
       "      <td>-74.017134</td>\n",
       "      <td>40.680342</td>\n",
       "      <td>-74.017134</td>\n",
       "      <td>6.000000</td>\n",
       "    </tr>\n",
       "    <tr>\n",
       "      <th>25%</th>\n",
       "      <td>1.000000</td>\n",
       "      <td>9.000000</td>\n",
       "      <td>40.722174</td>\n",
       "      <td>-73.999733</td>\n",
       "      <td>40.722174</td>\n",
       "      <td>-74.000264</td>\n",
       "      <td>6.000000</td>\n",
       "    </tr>\n",
       "    <tr>\n",
       "      <th>50%</th>\n",
       "      <td>2.000000</td>\n",
       "      <td>15.000000</td>\n",
       "      <td>40.737050</td>\n",
       "      <td>-73.990765</td>\n",
       "      <td>40.737050</td>\n",
       "      <td>-73.990931</td>\n",
       "      <td>7.000000</td>\n",
       "    </tr>\n",
       "    <tr>\n",
       "      <th>75%</th>\n",
       "      <td>4.000000</td>\n",
       "      <td>18.000000</td>\n",
       "      <td>40.750200</td>\n",
       "      <td>-73.981948</td>\n",
       "      <td>40.749718</td>\n",
       "      <td>-73.982050</td>\n",
       "      <td>8.000000</td>\n",
       "    </tr>\n",
       "    <tr>\n",
       "      <th>max</th>\n",
       "      <td>6.000000</td>\n",
       "      <td>23.000000</td>\n",
       "      <td>40.771522</td>\n",
       "      <td>-73.953809</td>\n",
       "      <td>40.771522</td>\n",
       "      <td>-73.953809</td>\n",
       "      <td>15.000000</td>\n",
       "    </tr>\n",
       "  </tbody>\n",
       "</table>\n",
       "</div>"
      ],
      "text/plain": [
       "       pickup_datetime_dayofweek  pickup_datetime_hour  pickup_latitude  \\\n",
       "count              106044.000000         106044.000000    106044.000000   \n",
       "mean                    2.603636             13.969918        40.735199   \n",
       "std                     1.972009              4.992480         0.019369   \n",
       "min                     0.000000              0.000000        40.680342   \n",
       "25%                     1.000000              9.000000        40.722174   \n",
       "50%                     2.000000             15.000000        40.737050   \n",
       "75%                     4.000000             18.000000        40.750200   \n",
       "max                     6.000000             23.000000        40.771522   \n",
       "\n",
       "       pickup_longitude  dropoff_latitude  dropoff_longitude  avg_velocity_mph  \n",
       "count     106044.000000     106044.000000      106044.000000     106044.000000  \n",
       "mean         -73.990941         40.734848         -73.991118          7.036636  \n",
       "std            0.012164          0.019295           0.012357          1.125662  \n",
       "min          -74.017134         40.680342         -74.017134          6.000000  \n",
       "25%          -73.999733         40.722174         -74.000264          6.000000  \n",
       "50%          -73.990765         40.737050         -73.990931          7.000000  \n",
       "75%          -73.981948         40.749718         -73.982050          8.000000  \n",
       "max          -73.953809         40.771522         -73.953809         15.000000  "
      ]
     },
     "execution_count": 142,
     "metadata": {},
     "output_type": "execute_result"
    }
   ],
   "source": [
    "time_regression_df.ix[:,0:7].describe()"
   ]
  },
  {
   "cell_type": "code",
   "execution_count": 143,
   "metadata": {
    "collapsed": false,
    "scrolled": true
   },
   "outputs": [
    {
     "name": "stdout",
     "output_type": "stream",
     "text": [
      "6.0     42576\n",
      "7.0     33360\n",
      "8.0     18609\n",
      "9.0      7849\n",
      "10.0     2705\n",
      "11.0      740\n",
      "12.0      162\n",
      "13.0       34\n",
      "14.0        7\n",
      "15.0        2\n",
      "Name: avg_velocity_mph, dtype: int64\n",
      "10\n"
     ]
    }
   ],
   "source": [
    "print(time_regression_df.avg_velocity_mph.value_counts())\n",
    "print(len(time_regression_df.avg_velocity_mph.value_counts()))"
   ]
  },
  {
   "cell_type": "markdown",
   "metadata": {},
   "source": [
    "So we hace 10 different velocities to predict."
   ]
  },
  {
   "cell_type": "markdown",
   "metadata": {},
   "source": [
    "# Split the data into a training dataset and a test dataset. Evaluate the performance of the decision tree on the test data"
   ]
  },
  {
   "cell_type": "code",
   "execution_count": 282,
   "metadata": {
    "collapsed": false
   },
   "outputs": [],
   "source": [
    "from sklearn import cross_validation as cv\n",
    "y = time_regression_df['avg_velocity_mph']\n",
    "X = time_regression_df.ix[:,0:6]\n",
    "X_train, X_test, y_train, y_test = cv.train_test_split(X, y,test_size=0.05,random_state=0) "
   ]
  },
  {
   "cell_type": "code",
   "execution_count": 144,
   "metadata": {
    "collapsed": true
   },
   "outputs": [],
   "source": [
    "from sklearn import cross_validation as cv\n",
    "time_regression_df_train, time_regression_df_test = cv.train_test_split(time_regression_df, test_size=0.05, random_state=99)\n",
    "y_train = time_regression_df_train['avg_velocity_mph']\n",
    "x_train = time_regression_df_train.ix[:, 0:6]\n",
    "y_test = time_regression_df_test['avg_velocity_mph']\n",
    "x_test = time_regression_df_test.ix[:, 0:6]"
   ]
  },
  {
   "cell_type": "markdown",
   "metadata": {},
   "source": [
    "# Changed test size to 5%"
   ]
  },
  {
   "cell_type": "code",
   "execution_count": 146,
   "metadata": {
    "collapsed": false
   },
   "outputs": [
    {
     "data": {
      "text/html": [
       "<div>\n",
       "<table border=\"1\" class=\"dataframe\">\n",
       "  <thead>\n",
       "    <tr style=\"text-align: right;\">\n",
       "      <th></th>\n",
       "      <th>pickup_datetime_dayofweek</th>\n",
       "      <th>pickup_datetime_hour</th>\n",
       "      <th>pickup_latitude</th>\n",
       "      <th>pickup_longitude</th>\n",
       "      <th>dropoff_latitude</th>\n",
       "      <th>dropoff_longitude</th>\n",
       "    </tr>\n",
       "  </thead>\n",
       "  <tbody>\n",
       "    <tr>\n",
       "      <th>38284</th>\n",
       "      <td>1.0</td>\n",
       "      <td>9.0</td>\n",
       "      <td>40.760203</td>\n",
       "      <td>-73.964785</td>\n",
       "      <td>40.756014</td>\n",
       "      <td>-73.967416</td>\n",
       "    </tr>\n",
       "    <tr>\n",
       "      <th>129690</th>\n",
       "      <td>4.0</td>\n",
       "      <td>17.0</td>\n",
       "      <td>40.757952</td>\n",
       "      <td>-73.977876</td>\n",
       "      <td>40.754557</td>\n",
       "      <td>-73.965930</td>\n",
       "    </tr>\n",
       "    <tr>\n",
       "      <th>109201</th>\n",
       "      <td>3.0</td>\n",
       "      <td>19.0</td>\n",
       "      <td>40.741444</td>\n",
       "      <td>-73.975361</td>\n",
       "      <td>40.725029</td>\n",
       "      <td>-73.990697</td>\n",
       "    </tr>\n",
       "    <tr>\n",
       "      <th>120605</th>\n",
       "      <td>4.0</td>\n",
       "      <td>11.0</td>\n",
       "      <td>40.722293</td>\n",
       "      <td>-73.991475</td>\n",
       "      <td>40.747659</td>\n",
       "      <td>-73.984907</td>\n",
       "    </tr>\n",
       "    <tr>\n",
       "      <th>89672</th>\n",
       "      <td>2.0</td>\n",
       "      <td>19.0</td>\n",
       "      <td>40.686919</td>\n",
       "      <td>-73.976682</td>\n",
       "      <td>40.683178</td>\n",
       "      <td>-73.965964</td>\n",
       "    </tr>\n",
       "  </tbody>\n",
       "</table>\n",
       "</div>"
      ],
      "text/plain": [
       "        pickup_datetime_dayofweek  pickup_datetime_hour  pickup_latitude  \\\n",
       "38284                         1.0                   9.0        40.760203   \n",
       "129690                        4.0                  17.0        40.757952   \n",
       "109201                        3.0                  19.0        40.741444   \n",
       "120605                        4.0                  11.0        40.722293   \n",
       "89672                         2.0                  19.0        40.686919   \n",
       "\n",
       "        pickup_longitude  dropoff_latitude  dropoff_longitude  \n",
       "38284         -73.964785         40.756014         -73.967416  \n",
       "129690        -73.977876         40.754557         -73.965930  \n",
       "109201        -73.975361         40.725029         -73.990697  \n",
       "120605        -73.991475         40.747659         -73.984907  \n",
       "89672         -73.976682         40.683178         -73.965964  "
      ]
     },
     "execution_count": 146,
     "metadata": {},
     "output_type": "execute_result"
    }
   ],
   "source": [
    "x_test.head()"
   ]
  },
  {
   "cell_type": "code",
   "execution_count": 147,
   "metadata": {
    "collapsed": false
   },
   "outputs": [
    {
     "data": {
      "text/plain": [
       "38284     7.0\n",
       "129690    8.0\n",
       "109201    8.0\n",
       "120605    7.0\n",
       "89672     6.0\n",
       "Name: avg_velocity_mph, dtype: float64"
      ]
     },
     "execution_count": 147,
     "metadata": {},
     "output_type": "execute_result"
    }
   ],
   "source": [
    "y_test.head()"
   ]
  },
  {
   "cell_type": "code",
   "execution_count": 149,
   "metadata": {
    "collapsed": false
   },
   "outputs": [],
   "source": [
    "xy_test = pd.concat([x_test, y_test], axis=1)"
   ]
  },
  {
   "cell_type": "code",
   "execution_count": 150,
   "metadata": {
    "collapsed": false
   },
   "outputs": [
    {
     "data": {
      "text/html": [
       "<div>\n",
       "<table border=\"1\" class=\"dataframe\">\n",
       "  <thead>\n",
       "    <tr style=\"text-align: right;\">\n",
       "      <th></th>\n",
       "      <th>pickup_datetime_dayofweek</th>\n",
       "      <th>pickup_datetime_hour</th>\n",
       "      <th>pickup_latitude</th>\n",
       "      <th>pickup_longitude</th>\n",
       "      <th>dropoff_latitude</th>\n",
       "      <th>dropoff_longitude</th>\n",
       "      <th>avg_velocity_mph</th>\n",
       "    </tr>\n",
       "  </thead>\n",
       "  <tbody>\n",
       "    <tr>\n",
       "      <th>38284</th>\n",
       "      <td>1.0</td>\n",
       "      <td>9.0</td>\n",
       "      <td>40.760203</td>\n",
       "      <td>-73.964785</td>\n",
       "      <td>40.756014</td>\n",
       "      <td>-73.967416</td>\n",
       "      <td>7.0</td>\n",
       "    </tr>\n",
       "    <tr>\n",
       "      <th>129690</th>\n",
       "      <td>4.0</td>\n",
       "      <td>17.0</td>\n",
       "      <td>40.757952</td>\n",
       "      <td>-73.977876</td>\n",
       "      <td>40.754557</td>\n",
       "      <td>-73.965930</td>\n",
       "      <td>8.0</td>\n",
       "    </tr>\n",
       "    <tr>\n",
       "      <th>109201</th>\n",
       "      <td>3.0</td>\n",
       "      <td>19.0</td>\n",
       "      <td>40.741444</td>\n",
       "      <td>-73.975361</td>\n",
       "      <td>40.725029</td>\n",
       "      <td>-73.990697</td>\n",
       "      <td>8.0</td>\n",
       "    </tr>\n",
       "    <tr>\n",
       "      <th>120605</th>\n",
       "      <td>4.0</td>\n",
       "      <td>11.0</td>\n",
       "      <td>40.722293</td>\n",
       "      <td>-73.991475</td>\n",
       "      <td>40.747659</td>\n",
       "      <td>-73.984907</td>\n",
       "      <td>7.0</td>\n",
       "    </tr>\n",
       "    <tr>\n",
       "      <th>89672</th>\n",
       "      <td>2.0</td>\n",
       "      <td>19.0</td>\n",
       "      <td>40.686919</td>\n",
       "      <td>-73.976682</td>\n",
       "      <td>40.683178</td>\n",
       "      <td>-73.965964</td>\n",
       "      <td>6.0</td>\n",
       "    </tr>\n",
       "  </tbody>\n",
       "</table>\n",
       "</div>"
      ],
      "text/plain": [
       "        pickup_datetime_dayofweek  pickup_datetime_hour  pickup_latitude  \\\n",
       "38284                         1.0                   9.0        40.760203   \n",
       "129690                        4.0                  17.0        40.757952   \n",
       "109201                        3.0                  19.0        40.741444   \n",
       "120605                        4.0                  11.0        40.722293   \n",
       "89672                         2.0                  19.0        40.686919   \n",
       "\n",
       "        pickup_longitude  dropoff_latitude  dropoff_longitude  \\\n",
       "38284         -73.964785         40.756014         -73.967416   \n",
       "129690        -73.977876         40.754557         -73.965930   \n",
       "109201        -73.975361         40.725029         -73.990697   \n",
       "120605        -73.991475         40.747659         -73.984907   \n",
       "89672         -73.976682         40.683178         -73.965964   \n",
       "\n",
       "        avg_velocity_mph  \n",
       "38284                7.0  \n",
       "129690               8.0  \n",
       "109201               8.0  \n",
       "120605               7.0  \n",
       "89672                6.0  "
      ]
     },
     "execution_count": 150,
     "metadata": {},
     "output_type": "execute_result"
    }
   ],
   "source": [
    "xy_test.head()"
   ]
  },
  {
   "cell_type": "code",
   "execution_count": 151,
   "metadata": {
    "collapsed": true
   },
   "outputs": [],
   "source": [
    "#Xy_test.to_csv('taxi_tree_test_Xy_20130506-12.csv')\n",
    "#X_test.to_csv('taxi_tree_test_X_20130506-12.csv')\n",
    "#y_test.to_csv('taxi_tree_test_y_20130506-12.csv')\n",
    "# Xy_test.to_csv('bike_tree_test_Xy_20140505-11.csv')\n",
    "# X_test.to_csv('bike_tree_test_X_20140505-11.csv')\n",
    "# y_test.to_csv('bike_tree_test_y_20140506-11.csv')"
   ]
  },
  {
   "cell_type": "code",
   "execution_count": 152,
   "metadata": {
    "collapsed": true
   },
   "outputs": [],
   "source": [
    "# Xy_test_sample = Xy_test.sample(10000, random_state=99)"
   ]
  },
  {
   "cell_type": "code",
   "execution_count": 153,
   "metadata": {
    "collapsed": true
   },
   "outputs": [],
   "source": [
    "# Xy_test_sample.to_csv('taxi_tree_test_Xy_sample.csv')"
   ]
  },
  {
   "cell_type": "code",
   "execution_count": 154,
   "metadata": {
    "collapsed": false
   },
   "outputs": [],
   "source": [
    "# Xy_test_sample.head()"
   ]
  },
  {
   "cell_type": "code",
   "execution_count": 156,
   "metadata": {
    "collapsed": false
   },
   "outputs": [
    {
     "name": "stdout",
     "output_type": "stream",
     "text": [
      "(100741, 6)\n",
      "604446\n",
      "(5303, 6)\n",
      "(106044,)\n",
      "106044\n"
     ]
    }
   ],
   "source": [
    "print(x_train.shape)\n",
    "print(x_train.size)\n",
    "print(x_test.shape)\n",
    "print(x.shape)\n",
    "print(x_train.shape[0]+x_test.shape[0])"
   ]
  },
  {
   "cell_type": "code",
   "execution_count": 157,
   "metadata": {
    "collapsed": false
   },
   "outputs": [
    {
     "name": "stdout",
     "output_type": "stream",
     "text": [
      "Automatically created module for IPython interactive environment\n"
     ]
    }
   ],
   "source": [
    "print(__doc__)\n",
    "import time\n",
    "# Import the necessary modules and libraries\n",
    "from sklearn.tree import DecisionTreeRegressor\n",
    "import numpy as np\n",
    "import matplotlib.pyplot as plt"
   ]
  },
  {
   "cell_type": "code",
   "execution_count": 363,
   "metadata": {
    "collapsed": false
   },
   "outputs": [
    {
     "data": {
      "text/plain": [
       "-0.11512331946444632"
      ]
     },
     "execution_count": 363,
     "metadata": {},
     "output_type": "execute_result"
    }
   ],
   "source": [
    "regtree = DecisionTreeRegressor(min_samples_split=3, random_state=99, max_depth=20)# formerly 15. 15 is reasonable\n",
    "                                                                                     # random states: 99\n",
    "regtree.fit(x_train, y_train)\n",
    "\n",
    "regtree.score(x_test, y_test)\n"
   ]
  },
  {
   "cell_type": "code",
   "execution_count": 259,
   "metadata": {
    "collapsed": false
   },
   "outputs": [],
   "source": [
    "from sklearn.ensemble import RandomForestRegressor\n",
    "n_est_list = list(range(2,32,8))\n",
    "min_sam_leaf_list = list(range(2,32,8))\n",
    "max_depth_list = list(range(2,32,8))\n",
    "results = np.empty([0,4])\n",
    "for n_est in n_est_list:\n",
    "    for min_sam_leaf in min_sam_leaf_list:\n",
    "        for max_depth in max_depth_list:\n",
    "            rd_regtree = RandomForestRegressor(n_estimators=n_est,n_jobs=6,min_samples_leaf=min_sam_leaf, random_state=99, max_depth=max_depth)\n",
    "            rd_regtree.fit(x_train, y_train)\n",
    "            score = rd_regtree.score(x_test, y_test)\n",
    "            results = np.vstack((results, [n_est, min_sam_leaf, max_depth,score]))"
   ]
  },
  {
   "cell_type": "code",
   "execution_count": 274,
   "metadata": {
    "collapsed": false
   },
   "outputs": [
    {
     "data": {
      "text/plain": [
       "array([[ 26.        ,  10.        ,  26.        ,   0.20219813]])"
      ]
     },
     "execution_count": 274,
     "metadata": {},
     "output_type": "execute_result"
    }
   ],
   "source": [
    "best = np.where(results == max(results[:,3]))[0]\n",
    "results[best,:]"
   ]
  },
  {
   "cell_type": "code",
   "execution_count": 268,
   "metadata": {
    "collapsed": false
   },
   "outputs": [
    {
     "data": {
      "text/plain": [
       "array([[  2.        ,   2.        ,   2.        ,   0.03216565],\n",
       "       [  2.        ,   2.        ,  10.        ,   0.10243604],\n",
       "       [  2.        ,   2.        ,  18.        ,   0.05117017],\n",
       "       [  2.        ,   2.        ,  26.        ,  -0.04134117],\n",
       "       [  2.        ,  10.        ,   2.        ,   0.03216565],\n",
       "       [  2.        ,  10.        ,  10.        ,   0.10815379],\n",
       "       [  2.        ,  10.        ,  18.        ,   0.11355944],\n",
       "       [  2.        ,  10.        ,  26.        ,   0.09257497],\n",
       "       [  2.        ,  18.        ,   2.        ,   0.03216565],\n",
       "       [  2.        ,  18.        ,  10.        ,   0.10910503],\n",
       "       [  2.        ,  18.        ,  18.        ,   0.13127431],\n",
       "       [  2.        ,  18.        ,  26.        ,   0.11969117],\n",
       "       [  2.        ,  26.        ,   2.        ,   0.03216565],\n",
       "       [  2.        ,  26.        ,  10.        ,   0.11821893],\n",
       "       [  2.        ,  26.        ,  18.        ,   0.14099103],\n",
       "       [  2.        ,  26.        ,  26.        ,   0.13686661],\n",
       "       [ 10.        ,   2.        ,   2.        ,   0.03273003],\n",
       "       [ 10.        ,   2.        ,  10.        ,   0.14140097],\n",
       "       [ 10.        ,   2.        ,  18.        ,   0.18050883],\n",
       "       [ 10.        ,   2.        ,  26.        ,   0.17376701],\n",
       "       [ 10.        ,  10.        ,   2.        ,   0.03273003],\n",
       "       [ 10.        ,  10.        ,  10.        ,   0.13901168],\n",
       "       [ 10.        ,  10.        ,  18.        ,   0.18400903],\n",
       "       [ 10.        ,  10.        ,  26.        ,   0.18970275],\n",
       "       [ 10.        ,  18.        ,   2.        ,   0.03273003],\n",
       "       [ 10.        ,  18.        ,  10.        ,   0.13571098],\n",
       "       [ 10.        ,  18.        ,  18.        ,   0.17978093],\n",
       "       [ 10.        ,  18.        ,  26.        ,   0.18404186],\n",
       "       [ 10.        ,  26.        ,   2.        ,   0.03273003],\n",
       "       [ 10.        ,  26.        ,  10.        ,   0.13419745],\n",
       "       [ 10.        ,  26.        ,  18.        ,   0.17469164],\n",
       "       [ 10.        ,  26.        ,  26.        ,   0.17829471],\n",
       "       [ 18.        ,   2.        ,   2.        ,   0.03388217],\n",
       "       [ 18.        ,   2.        ,  10.        ,   0.14354701],\n",
       "       [ 18.        ,   2.        ,  18.        ,   0.18941467],\n",
       "       [ 18.        ,   2.        ,  26.        ,   0.19121346],\n",
       "       [ 18.        ,  10.        ,   2.        ,   0.03388217],\n",
       "       [ 18.        ,  10.        ,  10.        ,   0.14020049],\n",
       "       [ 18.        ,  10.        ,  18.        ,   0.18847414],\n",
       "       [ 18.        ,  10.        ,  26.        ,   0.20015241],\n",
       "       [ 18.        ,  18.        ,   2.        ,   0.03388217],\n",
       "       [ 18.        ,  18.        ,  10.        ,   0.13666026],\n",
       "       [ 18.        ,  18.        ,  18.        ,   0.18141491],\n",
       "       [ 18.        ,  18.        ,  26.        ,   0.19043095],\n",
       "       [ 18.        ,  26.        ,   2.        ,   0.03388217],\n",
       "       [ 18.        ,  26.        ,  10.        ,   0.13597211],\n",
       "       [ 18.        ,  26.        ,  18.        ,   0.1774128 ],\n",
       "       [ 18.        ,  26.        ,  26.        ,   0.18417976],\n",
       "       [ 26.        ,   2.        ,   2.        ,   0.03405952],\n",
       "       [ 26.        ,   2.        ,  10.        ,   0.14412542],\n",
       "       [ 26.        ,   2.        ,  18.        ,   0.196679  ],\n",
       "       [ 26.        ,   2.        ,  26.        ,   0.19979136],\n",
       "       [ 26.        ,  10.        ,   2.        ,   0.03405952],\n",
       "       [ 26.        ,  10.        ,  10.        ,   0.14058244],\n",
       "       [ 26.        ,  10.        ,  18.        ,   0.19065011],\n",
       "       [ 26.        ,  10.        ,  26.        ,   0.20219813],\n",
       "       [ 26.        ,  18.        ,   2.        ,   0.03405952],\n",
       "       [ 26.        ,  18.        ,  10.        ,   0.13738287],\n",
       "       [ 26.        ,  18.        ,  18.        ,   0.18282643],\n",
       "       [ 26.        ,  18.        ,  26.        ,   0.19212578],\n",
       "       [ 26.        ,  26.        ,   2.        ,   0.03405952],\n",
       "       [ 26.        ,  26.        ,  10.        ,   0.13633138],\n",
       "       [ 26.        ,  26.        ,  18.        ,   0.17873043],\n",
       "       [ 26.        ,  26.        ,  26.        ,   0.18650138],\n",
       "       [ 26.        ,  26.        ,  26.        ,   0.18650138],\n",
       "       [ 26.        ,  26.        ,  26.        ,   0.18650138],\n",
       "       [ 26.        ,  26.        ,  26.        ,   0.18650138]])"
      ]
     },
     "execution_count": 268,
     "metadata": {},
     "output_type": "execute_result"
    }
   ],
   "source": [
    "results = np.vstack((results, [n_est, min_sam_leaf, max_depth,score]))\n",
    "results = np.vstack((results, [n_est, min_sam_leaf, max_depth,score]))\n",
    "results = np.vstack((results, [n_est, min_sam_leaf, max_depth,score]))\n",
    "results"
   ]
  },
  {
   "cell_type": "code",
   "execution_count": 331,
   "metadata": {
    "collapsed": false
   },
   "outputs": [
    {
     "data": {
      "text/plain": [
       "LinearRegression(copy_X=True, fit_intercept=True, n_jobs=1, normalize=False)"
      ]
     },
     "execution_count": 331,
     "metadata": {},
     "output_type": "execute_result"
    }
   ],
   "source": [
    "from sklearn.linear_model import LinearRegression\n",
    "regr = LinearRegression()\n",
    "regr.fit(results[:,0:3], results[:,3])"
   ]
  },
  {
   "cell_type": "markdown",
   "metadata": {},
   "source": [
    "Not really helpful here...."
   ]
  },
  {
   "cell_type": "markdown",
   "metadata": {},
   "source": [
    "# Train the best random forest again seperately"
   ]
  },
  {
   "cell_type": "code",
   "execution_count": 383,
   "metadata": {
    "collapsed": false
   },
   "outputs": [
    {
     "data": {
      "text/plain": [
       "0.19491559791310442"
      ]
     },
     "execution_count": 383,
     "metadata": {},
     "output_type": "execute_result"
    }
   ],
   "source": [
    "from sklearn.ensemble import RandomForestRegressor\n",
    "\n",
    "rd_regtree = RandomForestRegressor(n_estimators=10,n_jobs=6,min_samples_leaf=4, random_state=99, max_depth=20)\n",
    "#total sum of diff: 1132\n",
    "#rd_regtree = RandomForestRegressor(n_estimators=40,n_jobs=-1,min_samples_split=3, random_state=99, max_depth=11)\n",
    "#total sum of diff: 1129\n",
    "rd_regtree.fit(x_train, y_train)\n",
    "rd_regtree.score(x_test, y_test)"
   ]
  },
  {
   "cell_type": "code",
   "execution_count": 354,
   "metadata": {
    "collapsed": false
   },
   "outputs": [
    {
     "name": "stdout",
     "output_type": "stream",
     "text": [
      "[ 0.09306619  0.1446585   0.2077293   0.18198446  0.19004145  0.18252011]\n",
      "[ 0.08837054  0.14703659  0.19782646  0.18625627  0.19588272  0.18462742]\n",
      "[ 0.09201008  0.15650833  0.1941994   0.18352534  0.18455278  0.18920408]\n",
      "[ 0.09275822  0.14444965  0.20708873  0.16246974  0.21015057  0.18308309]\n",
      "[ 0.09188593  0.14297708  0.1999468   0.17913716  0.20427155  0.18178148]\n",
      "[ 0.0916877   0.14610528  0.21176766  0.18243993  0.18375579  0.18424364]\n",
      "[ 0.09507384  0.15291686  0.19761326  0.15657052  0.20878399  0.18904152]\n",
      "[ 0.08995526  0.15269275  0.20089296  0.16797172  0.21143405  0.17705326]\n",
      "[ 0.09242181  0.15082988  0.20009587  0.17919763  0.19828765  0.17916717]\n",
      "[ 0.09182535  0.15065181  0.2072882   0.17227839  0.19512694  0.18282931]\n"
     ]
    }
   ],
   "source": [
    "tree_list = rd_regtree.estimators_\n",
    "for i in range(0,len(tree_list)):\n",
    "    print((tree_list[i].feature_importances_))\n"
   ]
  },
  {
   "cell_type": "code",
   "execution_count": 298,
   "metadata": {
    "collapsed": false
   },
   "outputs": [
    {
     "data": {
      "image/png": "[encoded data removed]",
      "text/plain": [
       "<matplotlib.figure.Figure at 0x7fc64821e1d0>"
      ]
     },
     "metadata": {},
     "output_type": "display_data"
    }
   ],
   "source": [
    "from mpl_toolkits.mplot3d import Axes3D\n",
    "fig = plt.figure()\n",
    "ax = fig.add_subplot(111, projection='3d')\n",
    "ax.scatter(results[:,0],results[:,2],results[:,3], marker='o')\n",
    "plt.show()"
   ]
  },
  {
   "cell_type": "code",
   "execution_count": 163,
   "metadata": {
    "collapsed": false
   },
   "outputs": [
    {
     "data": {
      "text/plain": [
       "0.096962162239006236"
      ]
     },
     "execution_count": 163,
     "metadata": {},
     "output_type": "execute_result"
    }
   ],
   "source": [
    "regtree.score(x_test, y_test)"
   ]
  },
  {
   "cell_type": "code",
   "execution_count": 379,
   "metadata": {
    "collapsed": false
   },
   "outputs": [
    {
     "name": "stdout",
     "output_type": "stream",
     "text": [
      "Perzentile(%):  [1, 5, 10, 15, 25, 50, 75, 90, 95, 99] \n",
      " [-3.08214795 -2.         -1.5        -1.02380952 -0.6         0.          0.75\n",
      "  1.24316602  2.          3.        ]\n",
      "Absolute time deviation (in 1k):  4.26723968386\n"
     ]
    },
    {
     "data": {
      "image/png": "[encoded data removed]",
      "text/plain": [
       "<matplotlib.figure.Figure at 0x7fc633cce588>"
      ]
     },
     "metadata": {},
     "output_type": "display_data"
    }
   ],
   "source": [
    "y_pred = regtree.predict(x_test)\n",
    "np.linalg.norm(np.ceil(y_pred)-y_test)\n",
    "diff_regtree = (y_pred-y_test)\n",
    "# plt.figure(figsize=(12,10)) # not needed. set values globally\n",
    "plt.hist(diff_regtree.values, bins=100, range=[-6,6])\n",
    "print('Perzentile(%): ', [1,5,10,15,25,50,75,90,95,99], '\\n', np.percentile(diff_regtree.values, [1,5,10,15,25,50,75,90,95,99]))\n",
    "print('Absolute time deviation (in 1k): ', sum(abs(diff))/1000)\n",
    "plt.title('Simple Decision Tree Regressor')\n",
    "plt.xlabel('deviation in mph')\n",
    "plt.ylabel('frequency')\n",
    "plt.savefig('figures/bike_tree.png', format='png', dpi=150)"
   ]
  },
  {
   "cell_type": "code",
   "execution_count": 370,
   "metadata": {
    "collapsed": false
   },
   "outputs": [
    {
     "data": {
      "text/plain": [
       "count    5303.000000\n",
       "mean        0.023978\n",
       "std         1.198956\n",
       "min        -7.619048\n",
       "25%        -0.600000\n",
       "50%         0.000000\n",
       "75%         0.750000\n",
       "max         6.000000\n",
       "Name: avg_velocity_mph, dtype: float64"
      ]
     },
     "execution_count": 370,
     "metadata": {},
     "output_type": "execute_result"
    }
   ],
   "source": [
    "diff_regtree.describe()"
   ]
  },
  {
   "cell_type": "code",
   "execution_count": 378,
   "metadata": {
    "collapsed": false
   },
   "outputs": [
    {
     "name": "stdout",
     "output_type": "stream",
     "text": [
      "Perzentile(%):  [1, 5, 10, 15, 25, 50, 75, 90, 95, 99] \n",
      " [-2.99537909 -1.92664695 -1.34301867 -1.09258475 -0.50271441  0.19230943\n",
      "  0.73846988  1.0300084   1.30732716  1.85658544]\n",
      "Absolute time deviation (in 1k):  4.26723968386\n"
     ]
    },
    {
     "data": {
      "image/png": "[encoded data removed]",
      "text/plain": [
       "<matplotlib.figure.Figure at 0x7fc64855add8>"
      ]
     },
     "metadata": {},
     "output_type": "display_data"
    }
   ],
   "source": [
    "y_pred = rd_regtree.predict(x_test)\n",
    "np.linalg.norm(np.ceil(y_pred)-y_test)\n",
    "diff_rd = (y_pred-y_test)\n",
    "# plt.figure(figsize=(12,10)) # not needed. set values globally\n",
    "plt.hist(diff_rd.values, bins=100, range=[-6,6])\n",
    "print('Perzentile(%): ', [1,5,10,15,25,50,75,90,95,99], '\\n', np.percentile(diff_rd.values, [1,5,10,15,25,50,75,90,95,99]))\n",
    "print('Absolute time deviation (in 1k): ', sum(abs(diff))/1000)\n",
    "plt.title('Random Forest Regressor')\n",
    "plt.xlabel('deviation in mph')\n",
    "plt.ylabel('frequency')\n",
    "plt.savefig('figures/bike_randomforest.png', format='png', dpi=150)"
   ]
  },
  {
   "cell_type": "code",
   "execution_count": 373,
   "metadata": {
    "collapsed": false
   },
   "outputs": [
    {
     "data": {
      "text/plain": [
       "count    5303.000000\n",
       "mean        0.008530\n",
       "std         1.018906\n",
       "min        -7.122547\n",
       "25%        -0.502714\n",
       "50%         0.192309\n",
       "75%         0.738470\n",
       "max         4.335000\n",
       "Name: avg_velocity_mph, dtype: float64"
      ]
     },
     "execution_count": 373,
     "metadata": {},
     "output_type": "execute_result"
    }
   ],
   "source": [
    "diff_rd.describe()"
   ]
  },
  {
   "cell_type": "code",
   "execution_count": 143,
   "metadata": {
    "collapsed": false
   },
   "outputs": [
    {
     "data": {
      "text/plain": [
       "'avg_velocity_mph'"
      ]
     },
     "execution_count": 143,
     "metadata": {},
     "output_type": "execute_result"
    }
   ],
   "source": [
    "time_regression_df.columns[6]"
   ]
  },
  {
   "cell_type": "code",
   "execution_count": 399,
   "metadata": {
    "collapsed": false
   },
   "outputs": [],
   "source": [
    "from sklearn import tree\n",
    "tree.export_graphviz(regtree, out_file='figures/bike_tree_d10.dot', feature_names=time_regression_df.ix[:,0:6].columns, class_names=time_regression_df.columns[6])"
   ]
  },
  {
   "cell_type": "code",
   "execution_count": 400,
   "metadata": {
    "collapsed": false
   },
   "outputs": [
    {
     "name": "stdout",
     "output_type": "stream",
     "text": [
      "[ 5  2  4 ...,  0 -2 -2]\n",
      "[   1    2    3 ..., 1637   -1   -1]\n",
      "[ 784  399  236 ..., 1638   -1   -1]\n"
     ]
    }
   ],
   "source": [
    "print(regtree.tree_.feature)\n",
    "print(regtree.tree_.children_left)\n",
    "print(regtree.tree_.children_right)"
   ]
  },
  {
   "cell_type": "markdown",
   "metadata": {},
   "source": [
    "Prepare a dictionary to look uop the features that are splitted in the nodes"
   ]
  },
  {
   "cell_type": "code",
   "execution_count": 401,
   "metadata": {
    "collapsed": false
   },
   "outputs": [
    {
     "name": "stdout",
     "output_type": "stream",
     "text": [
      "{0: 'pickup_datetime_dayofweek', 1: 'pickup_datetime_hour', 2: 'pickup_latitude', 3: 'pickup_longitude', 4: 'dropoff_latitude', 5: 'dropoff_longitude', 6: 'avg_velocity_mph'}\n"
     ]
    }
   ],
   "source": [
    "feature_dict = {}\n",
    "for i in range(0,7):\n",
    "    feature_dict[i] = time_regression_df.ix[:,i].name\n",
    "print(feature_dict)"
   ]
  },
  {
   "cell_type": "code",
   "execution_count": 402,
   "metadata": {
    "collapsed": false
   },
   "outputs": [],
   "source": [
    "feature_splits = list(regtree.tree_.feature)\n",
    "for i in range(0,len(regtree.tree_.feature)):\n",
    "    if feature_splits[i] >= 0:\n",
    "        feature_splits[i] = feature_dict[feature_splits[i]]"
   ]
  },
  {
   "cell_type": "code",
   "execution_count": 403,
   "metadata": {
    "collapsed": false
   },
   "outputs": [
    {
     "name": "stdout",
     "output_type": "stream",
     "text": [
      "['dropoff_longitude', 'pickup_latitude', 'dropoff_latitude', 'pickup_datetime_hour', 'pickup_latitude', 'pickup_latitude', 'dropoff_latitude', 'pickup_datetime_dayofweek', 'pickup_longitude', 'pickup_datetime_hour', -2, -2, 'dropoff_latitude', -2, -2, 'pickup_longitude', 'pickup_latitude', -2, -2, 'pickup_datetime_hour', -2, -2, 'pickup_longitude', 'pickup_latitude', 'dropoff_longitude', -2, -2, 'dropoff_latitude', -2, -2, 'dropoff_longitude', 'dropoff_longitude', -2, -2, 'dropoff_latitude', -2, -2, 'dropoff_latitude', 'pickup_longitude', 'dropoff_latitude', 'pickup_datetime_hour', -2, -2, 'dropoff_latitude', -2, -2, 'dropoff_latitude', 'pickup_latitude', -2, -2, 'pickup_latitude', -2, -2, 'pickup_latitude', 'pickup_datetime_dayofweek', -2, 'dropoff_longitude', -2, -2, 'pickup_longitude', 'pickup_datetime_dayofweek', -2, -2, 'pickup_longitude', -2, -2, 'pickup_longitude', 'dropoff_latitude', 'dropoff_latitude', 'pickup_latitude', -2, 'dropoff_latitude', -2, -2, 'pickup_datetime_hour', -2, 'pickup_latitude', -2, -2, 'dropoff_longitude', 'pickup_datetime_hour', 'pickup_datetime_dayofweek', -2, -2, -2, 'dropoff_longitude', 'pickup_datetime_hour', -2, -2, 'dropoff_longitude', -2, -2, 'dropoff_longitude', 'pickup_datetime_hour', 'dropoff_latitude', -2, 'pickup_latitude', -2, -2, 'pickup_longitude', 'pickup_longitude', -2, -2, 'pickup_datetime_hour', -2, -2, 'dropoff_latitude', 'dropoff_longitude', 'pickup_longitude', -2, -2, 'pickup_longitude', -2, -2, 'pickup_datetime_dayofweek', -2, 'pickup_datetime_dayofweek', -2, -2, 'pickup_latitude', 'dropoff_latitude', 'dropoff_latitude', 'pickup_longitude', 'dropoff_longitude', 'pickup_longitude', -2, -2, 'pickup_latitude', -2, -2, 'pickup_longitude', 'dropoff_latitude', -2, -2, 'pickup_latitude', -2, -2, 'pickup_datetime_dayofweek', 'pickup_latitude', 'pickup_datetime_hour', -2, -2, 'pickup_latitude', -2, -2, 'pickup_longitude', 'pickup_datetime_hour', -2, -2, 'dropoff_latitude', -2, -2, 'pickup_longitude', 'pickup_latitude', 'pickup_latitude', 'pickup_datetime_hour', -2, -2, 'pickup_datetime_hour', -2, -2, 'pickup_latitude', 'pickup_datetime_dayofweek', -2, -2, 'pickup_datetime_hour', -2, -2, 'pickup_longitude', 'pickup_latitude', 'pickup_latitude', -2, -2, 'pickup_latitude', -2, -2, 'pickup_latitude', -2, -2, 'pickup_longitude', 'pickup_datetime_dayofweek', 'pickup_datetime_hour', 'dropoff_latitude', 'pickup_datetime_dayofweek', -2, -2, 'pickup_datetime_dayofweek', -2, -2, 'dropoff_longitude', 'dropoff_longitude', -2, -2, 'dropoff_latitude', -2, -2, 'pickup_datetime_hour', 'pickup_datetime_hour', 'dropoff_longitude', -2, -2, 'dropoff_longitude', -2, -2, 'pickup_datetime_hour', 'dropoff_longitude', -2, -2, -2, 'dropoff_latitude', 'pickup_longitude', 'pickup_datetime_dayofweek', -2, -2, 'pickup_longitude', 'dropoff_latitude', -2, -2, 'pickup_datetime_dayofweek', -2, -2, 'dropoff_latitude', 'pickup_datetime_dayofweek', 'pickup_longitude', -2, -2, 'pickup_latitude', -2, -2, 'pickup_latitude', 'pickup_datetime_dayofweek', -2, -2, 'pickup_datetime_hour', -2, -2, 'pickup_longitude', 'pickup_latitude', 'dropoff_latitude', 'pickup_latitude', 'pickup_datetime_hour', -2, 'pickup_longitude', 'pickup_datetime_dayofweek', -2, -2, 'pickup_longitude', -2, -2, 'pickup_datetime_dayofweek', -2, -2, 'pickup_datetime_dayofweek', 'pickup_longitude', -2, -2, 'pickup_datetime_hour', 'pickup_longitude', 'pickup_latitude', -2, -2, -2, 'pickup_latitude', -2, -2, 'pickup_datetime_hour', 'pickup_datetime_hour', 'pickup_longitude', 'pickup_datetime_dayofweek', 'pickup_longitude', -2, -2, 'pickup_datetime_dayofweek', -2, -2, 'pickup_latitude', 'pickup_longitude', -2, -2, 'pickup_datetime_dayofweek', -2, -2, 'pickup_datetime_hour', 'pickup_latitude', 'pickup_datetime_dayofweek', -2, -2, 'pickup_datetime_dayofweek', -2, -2, 'dropoff_longitude', 'pickup_longitude', -2, -2, 'pickup_datetime_dayofweek', -2, -2, 'dropoff_longitude', -2, 'pickup_latitude', -2, -2, 'pickup_datetime_hour', 'pickup_latitude', 'pickup_longitude', 'pickup_datetime_dayofweek', 'pickup_latitude', -2, 'pickup_latitude', -2, -2, -2, 'pickup_latitude', 'pickup_datetime_dayofweek', -2, 'pickup_datetime_dayofweek', -2, -2, 'pickup_longitude', 'dropoff_longitude', -2, -2, 'pickup_datetime_dayofweek', -2, -2, 'pickup_longitude', 'pickup_longitude', 'pickup_datetime_dayofweek', 'pickup_longitude', -2, -2, 'pickup_datetime_hour', -2, -2, 'pickup_longitude', -2, 'pickup_datetime_hour', -2, -2, 'pickup_longitude', -2, 'pickup_datetime_dayofweek', -2, -2, 'pickup_datetime_hour', 'pickup_longitude', 'pickup_datetime_hour', 'pickup_latitude', 'pickup_longitude', -2, -2, -2, 'pickup_latitude', 'pickup_latitude', -2, -2, 'pickup_latitude', -2, -2, 'pickup_datetime_dayofweek', 'pickup_datetime_hour', -2, 'pickup_latitude', -2, -2, 'pickup_longitude', 'pickup_datetime_dayofweek', -2, -2, 'pickup_datetime_dayofweek', -2, -2, 'pickup_longitude', 'pickup_datetime_dayofweek', 'pickup_latitude', -2, 'pickup_latitude', -2, -2, 'pickup_longitude', 'pickup_latitude', -2, -2, 'pickup_datetime_hour', -2, -2, 'dropoff_latitude', 'pickup_longitude', 'pickup_longitude', -2, -2, -2, 'pickup_latitude', 'pickup_latitude', -2, -2, 'pickup_longitude', -2, -2, 'dropoff_latitude', 'pickup_latitude', 'pickup_longitude', 'pickup_datetime_hour', 'dropoff_latitude', 'pickup_datetime_dayofweek', 'pickup_latitude', 'pickup_datetime_hour', -2, -2, 'pickup_datetime_dayofweek', -2, -2, 'dropoff_longitude', 'pickup_datetime_hour', -2, -2, 'pickup_longitude', -2, -2, 'pickup_datetime_dayofweek', 'pickup_longitude', 'pickup_datetime_hour', -2, -2, -2, 'pickup_longitude', 'dropoff_longitude', -2, -2, 'pickup_longitude', -2, -2, 'pickup_datetime_hour', 'dropoff_latitude', 'dropoff_latitude', 'pickup_datetime_dayofweek', -2, -2, 'dropoff_latitude', -2, -2, 'pickup_latitude', 'pickup_datetime_dayofweek', -2, -2, 'pickup_longitude', -2, -2, 'dropoff_latitude', 'pickup_datetime_hour', 'pickup_latitude', -2, -2, 'dropoff_latitude', -2, -2, 'pickup_longitude', 'pickup_datetime_hour', -2, -2, 'pickup_datetime_dayofweek', -2, -2, 'pickup_datetime_hour', 'pickup_datetime_hour', 'dropoff_latitude', -2, -2, 'dropoff_longitude', 'dropoff_latitude', -2, 'pickup_latitude', -2, -2, 'dropoff_longitude', 'pickup_latitude', -2, -2, 'pickup_latitude', -2, -2, 'dropoff_longitude', 'dropoff_latitude', 'pickup_longitude', 'pickup_datetime_hour', -2, -2, 'dropoff_latitude', -2, -2, 'pickup_longitude', 'pickup_latitude', -2, -2, 'pickup_latitude', -2, -2, 'pickup_datetime_dayofweek', 'pickup_longitude', 'pickup_latitude', -2, -2, 'pickup_latitude', -2, -2, 'pickup_datetime_hour', 'pickup_latitude', -2, -2, 'dropoff_latitude', -2, -2, 'pickup_longitude', 'pickup_datetime_dayofweek', 'dropoff_longitude', 'pickup_datetime_hour', 'pickup_datetime_dayofweek', 'pickup_longitude', -2, -2, 'pickup_longitude', -2, -2, 'pickup_datetime_dayofweek', 'dropoff_latitude', -2, -2, 'pickup_datetime_hour', -2, -2, 'pickup_latitude', 'dropoff_latitude', 'pickup_latitude', -2, -2, 'dropoff_latitude', -2, -2, 'pickup_longitude', 'pickup_datetime_hour', -2, -2, 'dropoff_longitude', -2, -2, 'pickup_datetime_hour', 'pickup_datetime_hour', 'pickup_datetime_dayofweek', 'pickup_datetime_hour', -2, -2, -2, 'pickup_longitude', 'pickup_datetime_hour', -2, -2, 'pickup_latitude', -2, -2, 'pickup_datetime_hour', 'dropoff_latitude', 'dropoff_latitude', -2, -2, 'pickup_datetime_hour', -2, -2, 'dropoff_longitude', 'pickup_datetime_hour', -2, -2, 'pickup_datetime_hour', -2, -2, 'pickup_datetime_hour', 'dropoff_longitude', 'pickup_longitude', 'dropoff_latitude', -2, 'pickup_datetime_dayofweek', -2, -2, -2, 'dropoff_longitude', 'pickup_latitude', 'dropoff_longitude', -2, -2, 'dropoff_longitude', -2, -2, 'pickup_datetime_dayofweek', -2, 'pickup_latitude', -2, -2, 'pickup_datetime_dayofweek', 'pickup_longitude', 'pickup_datetime_dayofweek', 'dropoff_latitude', -2, -2, 'dropoff_latitude', -2, -2, 'dropoff_latitude', 'pickup_datetime_hour', -2, -2, 'pickup_datetime_hour', -2, -2, 'pickup_longitude', 'pickup_datetime_hour', -2, 'dropoff_longitude', -2, -2, 'pickup_datetime_hour', 'pickup_datetime_hour', -2, -2, 'pickup_datetime_hour', -2, -2, 'dropoff_latitude', 'pickup_datetime_hour', 'pickup_longitude', 'pickup_datetime_hour', -2, -2, 'pickup_latitude', 'pickup_datetime_dayofweek', -2, 'pickup_datetime_dayofweek', -2, -2, 'pickup_latitude', 'pickup_longitude', -2, 'pickup_longitude', -2, -2, 'dropoff_longitude', -2, 'pickup_longitude', -2, -2, 'pickup_latitude', 'pickup_longitude', 'pickup_datetime_dayofweek', 'pickup_datetime_hour', -2, 'dropoff_longitude', -2, -2, 'pickup_datetime_dayofweek', 'pickup_datetime_hour', -2, -2, 'pickup_datetime_dayofweek', -2, -2, 'pickup_latitude', 'pickup_datetime_hour', -2, -2, 'pickup_longitude', 'pickup_datetime_dayofweek', -2, -2, 'pickup_longitude', -2, -2, 'pickup_datetime_dayofweek', 'pickup_datetime_hour', 'pickup_longitude', 'pickup_datetime_hour', -2, -2, 'pickup_datetime_hour', -2, -2, 'pickup_datetime_hour', -2, -2, 'pickup_latitude', 'pickup_latitude', 'dropoff_latitude', -2, -2, 'pickup_datetime_hour', -2, -2, -2, 'pickup_latitude', 'pickup_datetime_hour', 'pickup_datetime_hour', -2, 'pickup_latitude', 'pickup_datetime_dayofweek', 'pickup_latitude', -2, -2, 'pickup_datetime_dayofweek', -2, -2, 'dropoff_longitude', -2, -2, 'pickup_latitude', 'pickup_datetime_hour', 'pickup_latitude', 'dropoff_longitude', -2, -2, -2, -2, 'pickup_datetime_hour', 'pickup_latitude', 'dropoff_latitude', -2, -2, 'pickup_datetime_dayofweek', -2, -2, 'dropoff_longitude', -2, -2, 'pickup_longitude', 'pickup_datetime_dayofweek', 'dropoff_longitude', 'pickup_datetime_hour', 'pickup_datetime_hour', -2, -2, 'pickup_datetime_hour', -2, -2, 'pickup_datetime_hour', 'dropoff_latitude', -2, -2, 'pickup_latitude', -2, -2, 'pickup_datetime_hour', 'pickup_latitude', 'pickup_datetime_hour', -2, -2, 'pickup_datetime_dayofweek', -2, -2, -2, 'pickup_datetime_hour', 'pickup_datetime_dayofweek', 'dropoff_longitude', 'pickup_latitude', -2, -2, 'pickup_datetime_hour', -2, -2, 'pickup_longitude', 'pickup_datetime_dayofweek', -2, -2, 'pickup_datetime_hour', -2, -2, 'pickup_longitude', 'pickup_datetime_dayofweek', -2, 'pickup_latitude', -2, -2, 'pickup_latitude', 'pickup_latitude', -2, -2, 'pickup_datetime_hour', -2, -2, 'pickup_datetime_hour', 'dropoff_longitude', 'pickup_latitude', 'dropoff_latitude', 'pickup_datetime_dayofweek', 'pickup_datetime_hour', 'pickup_longitude', -2, -2, 'pickup_longitude', -2, 'pickup_longitude', -2, -2, 'pickup_datetime_hour', -2, 'dropoff_longitude', 'pickup_datetime_dayofweek', -2, 'pickup_datetime_hour', -2, -2, 'pickup_latitude', 'pickup_longitude', -2, -2, 'pickup_datetime_dayofweek', -2, -2, 'pickup_datetime_dayofweek', 'pickup_longitude', 'dropoff_longitude', -2, -2, 'dropoff_latitude', 'pickup_datetime_dayofweek', -2, -2, -2, 'pickup_longitude', 'pickup_datetime_hour', -2, -2, -2, 'pickup_latitude', 'dropoff_latitude', 'pickup_datetime_dayofweek', 'pickup_datetime_dayofweek', 'dropoff_latitude', 'pickup_longitude', -2, -2, 'dropoff_longitude', -2, -2, 'pickup_longitude', 'pickup_latitude', -2, -2, 'pickup_datetime_hour', -2, -2, 'pickup_longitude', 'pickup_latitude', -2, -2, 'pickup_datetime_hour', 'dropoff_longitude', -2, -2, -2, 'pickup_longitude', 'pickup_datetime_dayofweek', 'dropoff_longitude', -2, 'dropoff_longitude', -2, -2, 'dropoff_longitude', 'pickup_datetime_dayofweek', -2, -2, 'pickup_datetime_dayofweek', -2, -2, 'dropoff_longitude', 'pickup_longitude', 'dropoff_longitude', -2, -2, 'pickup_longitude', -2, -2, 'pickup_longitude', 'pickup_longitude', -2, -2, -2, 'dropoff_latitude', 'dropoff_latitude', 'dropoff_longitude', 'dropoff_longitude', 'pickup_datetime_dayofweek', -2, -2, 'pickup_latitude', -2, -2, 'pickup_longitude', 'pickup_datetime_dayofweek', -2, -2, 'pickup_latitude', -2, -2, 'dropoff_latitude', 'pickup_latitude', 'pickup_longitude', -2, -2, 'pickup_latitude', -2, -2, 'pickup_datetime_dayofweek', 'pickup_longitude', -2, -2, -2, 'pickup_latitude', 'pickup_latitude', -2, 'pickup_longitude', 'pickup_latitude', -2, -2, 'pickup_datetime_hour', -2, -2, 'pickup_latitude', -2, 'dropoff_latitude', -2, 'dropoff_longitude', -2, -2, 'pickup_longitude', 'pickup_datetime_hour', 'pickup_datetime_hour', 'pickup_datetime_dayofweek', 'pickup_latitude', 'pickup_latitude', 'dropoff_latitude', -2, -2, 'dropoff_latitude', -2, -2, 'dropoff_longitude', 'dropoff_latitude', -2, -2, 'dropoff_latitude', -2, -2, 'pickup_longitude', 'dropoff_longitude', -2, 'pickup_latitude', -2, -2, 'dropoff_longitude', 'pickup_longitude', -2, -2, 'dropoff_longitude', -2, -2, 'pickup_latitude', 'dropoff_longitude', 'dropoff_latitude', 'pickup_latitude', -2, -2, 'pickup_longitude', -2, -2, 'pickup_longitude', 'pickup_longitude', -2, -2, 'pickup_longitude', -2, -2, 'pickup_longitude', 'dropoff_latitude', 'pickup_longitude', -2, -2, 'pickup_latitude', -2, -2, 'dropoff_latitude', 'dropoff_longitude', -2, -2, 'dropoff_longitude', -2, -2, 'pickup_latitude', 'pickup_latitude', 'dropoff_longitude', 'dropoff_latitude', 'dropoff_longitude', -2, -2, 'pickup_longitude', -2, -2, 'pickup_latitude', 'dropoff_latitude', -2, -2, 'pickup_latitude', -2, -2, 'dropoff_latitude', 'pickup_longitude', 'dropoff_longitude', -2, -2, 'dropoff_latitude', -2, -2, 'dropoff_longitude', 'dropoff_latitude', -2, -2, 'dropoff_latitude', -2, -2, 'dropoff_longitude', 'dropoff_longitude', 'dropoff_latitude', 'pickup_latitude', -2, -2, 'pickup_latitude', -2, -2, 'pickup_datetime_dayofweek', 'dropoff_latitude', -2, -2, 'pickup_longitude', -2, -2, 'dropoff_latitude', 'pickup_datetime_dayofweek', 'pickup_latitude', -2, -2, 'pickup_longitude', -2, -2, 'pickup_latitude', 'dropoff_longitude', -2, -2, 'pickup_latitude', -2, -2, 'pickup_longitude', 'dropoff_longitude', 'dropoff_longitude', 'pickup_longitude', 'dropoff_latitude', 'pickup_datetime_hour', -2, -2, 'pickup_datetime_dayofweek', -2, -2, 'pickup_datetime_dayofweek', -2, 'pickup_datetime_dayofweek', -2, -2, 'dropoff_latitude', 'pickup_datetime_dayofweek', 'pickup_latitude', -2, -2, -2, 'pickup_longitude', 'pickup_datetime_hour', -2, -2, 'dropoff_latitude', -2, -2, 'dropoff_latitude', 'dropoff_latitude', -2, 'pickup_datetime_hour', -2, 'dropoff_latitude', -2, -2, 'dropoff_latitude', 'dropoff_latitude', -2, -2, 'dropoff_longitude', -2, 'dropoff_latitude', -2, -2, 'dropoff_latitude', 'pickup_latitude', 'pickup_latitude', 'dropoff_latitude', 'dropoff_longitude', -2, -2, 'dropoff_longitude', -2, -2, 'pickup_datetime_hour', 'pickup_datetime_dayofweek', -2, -2, 'dropoff_longitude', -2, -2, 'pickup_datetime_hour', 'dropoff_longitude', 'pickup_datetime_hour', -2, -2, 'pickup_datetime_hour', -2, -2, 'dropoff_latitude', 'pickup_latitude', -2, -2, -2, 'dropoff_latitude', 'pickup_latitude', -2, 'pickup_latitude', 'dropoff_longitude', -2, -2, 'dropoff_latitude', -2, -2, 'pickup_datetime_hour', 'dropoff_latitude', -2, -2, 'dropoff_longitude', -2, -2, 'pickup_longitude', 'dropoff_latitude', 'dropoff_latitude', 'pickup_latitude', 'dropoff_longitude', 'pickup_longitude', 'pickup_datetime_hour', -2, 'pickup_datetime_hour', -2, -2, 'pickup_datetime_hour', 'pickup_datetime_dayofweek', -2, -2, -2, 'pickup_datetime_dayofweek', 'dropoff_latitude', -2, 'dropoff_longitude', -2, -2, 'pickup_datetime_hour', 'dropoff_longitude', -2, -2, 'pickup_datetime_hour', -2, -2, 'dropoff_longitude', 'dropoff_latitude', 'pickup_latitude', 'pickup_longitude', -2, -2, 'pickup_datetime_dayofweek', -2, -2, 'pickup_longitude', 'pickup_datetime_dayofweek', -2, -2, 'dropoff_longitude', -2, -2, 'dropoff_longitude', 'dropoff_latitude', 'pickup_datetime_hour', -2, -2, 'dropoff_longitude', -2, -2, 'pickup_longitude', 'pickup_longitude', -2, -2, 'dropoff_latitude', -2, -2, 'dropoff_longitude', 'pickup_longitude', 'pickup_datetime_dayofweek', 'pickup_datetime_dayofweek', 'pickup_longitude', -2, -2, 'pickup_datetime_hour', -2, -2, 'pickup_latitude', 'pickup_datetime_hour', -2, -2, 'pickup_latitude', -2, -2, 'pickup_datetime_dayofweek', 'pickup_datetime_hour', 'pickup_datetime_hour', -2, -2, 'pickup_latitude', -2, -2, 'pickup_longitude', 'dropoff_longitude', -2, -2, 'pickup_latitude', -2, -2, 'dropoff_longitude', 'pickup_latitude', 'dropoff_longitude', 'pickup_latitude', -2, -2, 'pickup_longitude', -2, -2, 'dropoff_latitude', 'pickup_latitude', -2, -2, 'dropoff_longitude', -2, -2, 'pickup_latitude', 'pickup_datetime_dayofweek', 'dropoff_longitude', -2, -2, 'pickup_datetime_dayofweek', -2, -2, 'pickup_datetime_hour', -2, 'pickup_longitude', -2, -2, 'pickup_latitude', 'dropoff_longitude', 'dropoff_latitude', 'dropoff_latitude', 'pickup_latitude', 'pickup_datetime_hour', -2, -2, 'pickup_datetime_hour', -2, -2, 'pickup_longitude', 'dropoff_latitude', -2, -2, 'pickup_datetime_dayofweek', -2, -2, 'pickup_latitude', 'pickup_datetime_hour', 'pickup_datetime_hour', -2, -2, 'pickup_longitude', -2, -2, 'pickup_datetime_dayofweek', 'pickup_datetime_hour', -2, -2, 'pickup_datetime_dayofweek', -2, -2, 'pickup_latitude', 'pickup_datetime_hour', 'pickup_latitude', 'pickup_datetime_dayofweek', -2, -2, -2, 'dropoff_longitude', 'dropoff_longitude', -2, -2, 'pickup_latitude', -2, -2, 'dropoff_latitude', 'pickup_latitude', 'pickup_longitude', -2, -2, 'dropoff_longitude', -2, -2, 'pickup_datetime_hour', 'dropoff_latitude', -2, -2, 'dropoff_longitude', -2, -2, 'dropoff_latitude', 'dropoff_longitude', 'dropoff_latitude', 'pickup_latitude', 'pickup_datetime_dayofweek', -2, -2, 'pickup_datetime_hour', -2, -2, 'pickup_datetime_hour', 'pickup_latitude', -2, -2, 'dropoff_longitude', -2, -2, 'dropoff_longitude', 'pickup_datetime_hour', 'pickup_latitude', -2, -2, 'dropoff_latitude', -2, -2, 'dropoff_latitude', 'pickup_datetime_hour', -2, -2, 'pickup_longitude', -2, -2, 'dropoff_latitude', 'pickup_datetime_hour', 'pickup_datetime_dayofweek', -2, -2, 'pickup_longitude', 'pickup_longitude', -2, -2, 'pickup_datetime_hour', -2, -2, 'pickup_longitude', 'pickup_longitude', 'dropoff_longitude', -2, -2, 'pickup_datetime_hour', -2, -2, 'pickup_datetime_dayofweek', 'pickup_datetime_dayofweek', -2, -2, 'pickup_datetime_dayofweek', -2, -2, 'dropoff_latitude', 'pickup_datetime_dayofweek', 'pickup_longitude', 'pickup_latitude', 'dropoff_longitude', 'dropoff_latitude', 'pickup_longitude', -2, -2, 'dropoff_latitude', -2, -2, 'pickup_longitude', 'pickup_longitude', -2, -2, 'pickup_longitude', -2, -2, 'dropoff_latitude', 'dropoff_longitude', 'pickup_latitude', -2, -2, 'pickup_latitude', -2, -2, 'dropoff_longitude', 'pickup_latitude', -2, -2, 'dropoff_longitude', -2, -2, 'dropoff_longitude', 'dropoff_longitude', 'pickup_longitude', 'pickup_datetime_hour', -2, -2, 'pickup_latitude', -2, -2, 'pickup_latitude', 'pickup_latitude', -2, -2, 'dropoff_latitude', -2, -2, 'pickup_latitude', 'pickup_latitude', 'pickup_datetime_hour', -2, -2, 'dropoff_longitude', -2, -2, 'dropoff_longitude', 'pickup_latitude', -2, -2, 'dropoff_latitude', -2, -2, 'dropoff_longitude', 'dropoff_latitude', 'pickup_latitude', 'pickup_latitude', 'dropoff_longitude', -2, -2, 'pickup_datetime_dayofweek', -2, -2, -2, 'pickup_datetime_hour', 'pickup_longitude', 'pickup_longitude', -2, -2, 'pickup_datetime_hour', -2, -2, 'pickup_longitude', 'pickup_longitude', -2, -2, 'pickup_latitude', -2, -2, 'dropoff_longitude', 'pickup_longitude', 'pickup_datetime_hour', 'dropoff_latitude', -2, -2, 'pickup_latitude', -2, -2, 'pickup_latitude', 'dropoff_longitude', -2, -2, 'dropoff_latitude', -2, -2, 'pickup_datetime_hour', 'dropoff_longitude', 'pickup_datetime_hour', -2, -2, 'dropoff_longitude', -2, -2, 'pickup_latitude', 'dropoff_longitude', -2, -2, 'pickup_longitude', -2, -2, 'dropoff_longitude', 'pickup_latitude', 'pickup_longitude', 'pickup_longitude', 'pickup_datetime_hour', 'dropoff_latitude', -2, -2, 'pickup_latitude', -2, -2, 'pickup_longitude', 'pickup_latitude', -2, -2, 'pickup_latitude', -2, -2, 'dropoff_latitude', 'pickup_latitude', 'pickup_datetime_hour', -2, -2, 'dropoff_longitude', -2, -2, 'dropoff_longitude', 'pickup_latitude', -2, -2, 'pickup_datetime_hour', -2, -2, 'dropoff_latitude', 'pickup_datetime_dayofweek', 'dropoff_latitude', 'pickup_datetime_hour', -2, -2, 'pickup_longitude', -2, -2, 'pickup_datetime_hour', 'dropoff_longitude', -2, -2, 'pickup_longitude', -2, -2, 'pickup_longitude', 'pickup_datetime_dayofweek', 'pickup_latitude', -2, -2, 'pickup_longitude', -2, -2, 'pickup_datetime_hour', 'pickup_datetime_dayofweek', -2, -2, 'pickup_latitude', -2, -2, 'pickup_longitude', 'dropoff_longitude', 'pickup_longitude', 'dropoff_latitude', 'dropoff_latitude', -2, -2, 'pickup_latitude', -2, -2, 'dropoff_latitude', 'pickup_latitude', -2, -2, 'pickup_latitude', -2, -2, 'pickup_latitude', 'dropoff_latitude', 'pickup_latitude', -2, -2, 'pickup_longitude', -2, -2, 'pickup_latitude', 'pickup_longitude', -2, -2, 'dropoff_longitude', -2, -2, 'dropoff_latitude', 'pickup_latitude', 'dropoff_longitude', 'pickup_latitude', -2, -2, 'pickup_latitude', -2, -2, 'pickup_datetime_hour', 'dropoff_longitude', -2, -2, 'dropoff_latitude', -2, -2, 'pickup_latitude', 'pickup_longitude', 'pickup_longitude', -2, -2, 'dropoff_longitude', -2, -2, 'dropoff_longitude', 'pickup_latitude', -2, -2, 'pickup_datetime_dayofweek', -2, -2]\n",
      "[-74.00727081  40.74669647  40.74063873 ...,   4.5         -2.          -2.        ]\n"
     ]
    }
   ],
   "source": [
    "print(feature_splits)\n",
    "print(regtree.tree_.threshold)"
   ]
  },
  {
   "cell_type": "code",
   "execution_count": 404,
   "metadata": {
    "collapsed": false
   },
   "outputs": [],
   "source": [
    "# from http://stackoverflow.com/questions/20224526/how-to-extract-the-decision-rules-from-scikit-learn-decision-tree\n",
    "def get_code(tree, feature_names):\n",
    "        left      = tree.tree_.children_left\n",
    "        right     = tree.tree_.children_right\n",
    "        threshold = tree.tree_.threshold\n",
    "        features  = [feature_names[i] for i in tree.tree_.feature]\n",
    "        value = tree.tree_.value\n",
    "\n",
    "        def recurse(left, right, threshold, features, node):\n",
    "                if (threshold[node] != -2):\n",
    "                        print( \"if ( \" + features[node] + \" <= \" + str(threshold[node]) + \" ) {\")\n",
    "                        if left[node] != -1:\n",
    "                                recurse (left, right, threshold, features,left[node])\n",
    "                        print( \"} else {\")\n",
    "                        if right[node] != -1:\n",
    "                                recurse (left, right, threshold, features,right[node])\n",
    "                        print( \"}\")\n",
    "                else:\n",
    "                        print( \"return \" + str(value[node]))\n",
    "\n",
    "        recurse(left, right, threshold, features, 0)"
   ]
  },
  {
   "cell_type": "code",
   "execution_count": 405,
   "metadata": {
    "collapsed": false
   },
   "outputs": [],
   "source": [
    "# from http://stackoverflow.com/questions/20224526/how-to-extract-the-decision-rules-from-scikit-learn-decision-tree\n",
    "def get_code_matrix(tree, feature_names):\n",
    "        decision_list = []\n",
    "        left      = tree.tree_.children_left\n",
    "        right     = tree.tree_.children_right\n",
    "        threshold = tree.tree_.threshold\n",
    "        features  = [feature_names[i] for i in tree.tree_.feature]\n",
    "        value = tree.tree_.value\n",
    "        #frame =  pd.DataFrame(np.nan, columns=['leaf_no', range(1,tree.tree_.max_depth), 'value'])\n",
    "\n",
    "        def recurse(left, right, threshold, features, node):\n",
    "                if (threshold[node] != -2):\n",
    "                        decision_list.append({str(features[node]):threshold[node]})\n",
    "                        if left[node] != -1:\n",
    "                                recurse (left, right, threshold, features,left[node])\n",
    "                        decision_list.append({'back': -1})\n",
    "                        if right[node] != -1:\n",
    "                                recurse (left, right, threshold, features,right[node])\n",
    "                        decision_list.append({'back': -1})\n",
    "                else:\n",
    "                        decision_list.append({'leaf_val':value[node][0][0]})\n",
    "\n",
    "        recurse(left, right, threshold, features, 0) # root node\n",
    "        return decision_list"
   ]
  },
  {
   "cell_type": "code",
   "execution_count": 406,
   "metadata": {
    "collapsed": false
   },
   "outputs": [],
   "source": [
    "a = get_code_matrix(regtree, feature_names=time_regression_df.ix[:,0:7].columns)"
   ]
  },
  {
   "cell_type": "code",
   "execution_count": 407,
   "metadata": {
    "collapsed": false
   },
   "outputs": [
    {
     "data": {
      "text/plain": [
       "[{'dropoff_longitude': -74.007270812988281},\n",
       " {'pickup_latitude': 40.746696472167969},\n",
       " {'dropoff_latitude': 40.740638732910156},\n",
       " {'pickup_datetime_hour': 7.5},\n",
       " {'pickup_latitude': 40.735282897949219},\n",
       " {'pickup_latitude': 40.720314025878906},\n",
       " {'dropoff_latitude': 40.703102111816406},\n",
       " {'pickup_datetime_dayofweek': 1.5},\n",
       " {'pickup_longitude': -74.01617431640625},\n",
       " {'pickup_datetime_hour': 6.5},\n",
       " {'leaf_val': 7.0},\n",
       " {'back': -1},\n",
       " {'leaf_val': 9.0},\n",
       " {'back': -1},\n",
       " {'back': -1},\n",
       " {'dropoff_latitude': 40.702228546142578},\n",
       " {'leaf_val': 6.7000000000000002},\n",
       " {'back': -1},\n",
       " {'leaf_val': 7.833333333333333},\n",
       " {'back': -1}]"
      ]
     },
     "execution_count": 407,
     "metadata": {},
     "output_type": "execute_result"
    }
   ],
   "source": [
    "a[0:20]"
   ]
  },
  {
   "cell_type": "code",
   "execution_count": 408,
   "metadata": {
    "collapsed": false
   },
   "outputs": [
    {
     "data": {
      "text/plain": [
       "3277"
      ]
     },
     "execution_count": 408,
     "metadata": {},
     "output_type": "execute_result"
    }
   ],
   "source": [
    "len(a)"
   ]
  },
  {
   "cell_type": "code",
   "execution_count": 409,
   "metadata": {
    "collapsed": false
   },
   "outputs": [
    {
     "data": {
      "text/plain": [
       "[{'dropoff_longitude': -74.007270812988281},\n",
       " {'pickup_latitude': 40.746696472167969},\n",
       " {'dropoff_latitude': 40.740638732910156},\n",
       " {'pickup_datetime_hour': 7.5},\n",
       " {'pickup_latitude': 40.735282897949219},\n",
       " {'pickup_latitude': 40.720314025878906},\n",
       " {'dropoff_latitude': 40.703102111816406},\n",
       " {'pickup_datetime_dayofweek': 1.5},\n",
       " {'pickup_longitude': -74.01617431640625},\n",
       " {'pickup_datetime_hour': 6.5},\n",
       " {'leaf_val': 7.0},\n",
       " {'back': -1},\n",
       " {'leaf_val': 9.0},\n",
       " {'back': -1},\n",
       " {'back': -1},\n",
       " {'dropoff_latitude': 40.702228546142578},\n",
       " {'leaf_val': 6.7000000000000002},\n",
       " {'back': -1},\n",
       " {'leaf_val': 7.833333333333333},\n",
       " {'back': -1}]"
      ]
     },
     "execution_count": 409,
     "metadata": {},
     "output_type": "execute_result"
    }
   ],
   "source": [
    "a[0:20]"
   ]
  },
  {
   "cell_type": "code",
   "execution_count": 410,
   "metadata": {
    "collapsed": false
   },
   "outputs": [],
   "source": [
    "decisions = np.ndarray(shape=(2**regtree.tree_.max_depth, 2*regtree.tree_.max_depth+2), dtype = '<U30')"
   ]
  },
  {
   "cell_type": "code",
   "execution_count": 411,
   "metadata": {
    "collapsed": false
   },
   "outputs": [],
   "source": [
    "m = 0\n",
    "n = 0\n",
    "for i in range(0,len(a)):\n",
    "    if (list(a[i].values()) != [-1]):\n",
    "        #print(n)\n",
    "        #print(i)\n",
    "        #print('if')\n",
    "        #print(list(a[i].keys()) == ['leaf_val'])\n",
    "        #print(decisions[m,n])\n",
    "        decisions[m,2*n] = list(a[i].keys())[0]\n",
    "        decisions[m,2*n+1] = list(a[i].values())[0]\n",
    "        n = n+1\n",
    "        #print(n)\n",
    "    if (list(a[i].keys()) == ['leaf_val']):\n",
    "        #print('elif')\n",
    "        m = m+1\n",
    "        #print(n)\n",
    "    elif(list(a[i].values()) == [-1]):\n",
    "        #print('else')\n",
    "        n = n-1\n",
    "    #print(n,m)"
   ]
  },
  {
   "cell_type": "code",
   "execution_count": 412,
   "metadata": {
    "collapsed": false
   },
   "outputs": [
    {
     "data": {
      "text/plain": [
       "array([['dropoff_longitude', '-74.007270813', 'pickup_latitude', ...,\n",
       "        '6.5', 'leaf_val', '7.0'],\n",
       "       ['', '', '', ..., '', 'leaf_val', '9.0'],\n",
       "       ['', '', '', ..., '40.7022285461', 'leaf_val', '6.7'],\n",
       "       ..., \n",
       "       ['', '', '', ..., '', '', ''],\n",
       "       ['', '', '', ..., '', '', ''],\n",
       "       ['', '', '', ..., '', '', '']], \n",
       "      dtype='<U30')"
      ]
     },
     "execution_count": 412,
     "metadata": {},
     "output_type": "execute_result"
    }
   ],
   "source": [
    "decisions"
   ]
  },
  {
   "cell_type": "code",
   "execution_count": 413,
   "metadata": {
    "collapsed": false
   },
   "outputs": [],
   "source": [
    "#np.savetxt('decisions.txt', decisions, fmt='%s', delimiter=',')"
   ]
  },
  {
   "cell_type": "markdown",
   "metadata": {},
   "source": [
    "# decisions.nonzero(): Try somehow to replace the 'None'-values with 'same' or something like that"
   ]
  },
  {
   "cell_type": "code",
   "execution_count": 414,
   "metadata": {
    "collapsed": false
   },
   "outputs": [
    {
     "data": {
      "text/plain": [
       "array([['dropoff_longitude', '-74.007270813', 'pickup_latitude', ...,\n",
       "        '6.5', 'leaf_val', '7.0'],\n",
       "       ['', '', '', ..., '', 'leaf_val', '9.0'],\n",
       "       ['', '', '', ..., '40.7022285461', 'leaf_val', '6.7'],\n",
       "       ..., \n",
       "       ['', '', '', ..., '', '', ''],\n",
       "       ['', '', '', ..., '', '', ''],\n",
       "       ['', '', '', ..., '', '', '']], \n",
       "      dtype='<U30')"
      ]
     },
     "execution_count": 414,
     "metadata": {},
     "output_type": "execute_result"
    }
   ],
   "source": [
    "decisions"
   ]
  },
  {
   "cell_type": "code",
   "execution_count": 392,
   "metadata": {
    "collapsed": true
   },
   "outputs": [],
   "source": [
    "t = time.time()"
   ]
  },
  {
   "cell_type": "code",
   "execution_count": 393,
   "metadata": {
    "collapsed": false
   },
   "outputs": [
    {
     "data": {
      "text/plain": [
       "RandomForestRegressor(bootstrap=True, criterion='mse', max_depth=17,\n",
       "           max_features='auto', max_leaf_nodes=None, min_samples_leaf=1,\n",
       "           min_samples_split=3, min_weight_fraction_leaf=0.0,\n",
       "           n_estimators=12, n_jobs=6, oob_score=False, random_state=1,\n",
       "           verbose=0, warm_start=False)"
      ]
     },
     "execution_count": 393,
     "metadata": {},
     "output_type": "execute_result"
    }
   ],
   "source": [
    "from sklearn.ensemble import RandomForestRegressor\n",
    "\n",
    "rd_regtree = RandomForestRegressor(n_estimators=12,n_jobs=6,min_samples_split=3, random_state=99, max_depth=17) \n",
    "#total sum of diff: 1132\n",
    "#rd_regtree = RandomForestRegressor(n_estimators=40,n_jobs=-1,min_samples_split=3, random_state=99, max_depth=11)\n",
    "#total sum of diff: 1129\n",
    "rd_regtree.fit(X_train, y_train)"
   ]
  },
  {
   "cell_type": "code",
   "execution_count": 394,
   "metadata": {
    "collapsed": false
   },
   "outputs": [
    {
     "name": "stdout",
     "output_type": "stream",
     "text": [
      "1.0190808773040771\n"
     ]
    }
   ],
   "source": [
    "elapsed_rd_regtree = time.time() - t\n",
    "print(elapsed_rd_regtree)"
   ]
  },
  {
   "cell_type": "code",
   "execution_count": 395,
   "metadata": {
    "collapsed": false
   },
   "outputs": [
    {
     "name": "stdout",
     "output_type": "stream",
     "text": [
      "0.173798826508\n"
     ]
    }
   ],
   "source": [
    "print(rd_regtree.score(X_test, y_test))"
   ]
  },
  {
   "cell_type": "code",
   "execution_count": 338,
   "metadata": {
    "collapsed": false
   },
   "outputs": [
    {
     "name": "stdout",
     "output_type": "stream",
     "text": [
      "100741\n",
      "5303\n"
     ]
    }
   ],
   "source": [
    "print(len(X_train))\n",
    "print(len(X_test))"
   ]
  },
  {
   "cell_type": "code",
   "execution_count": 339,
   "metadata": {
    "collapsed": false
   },
   "outputs": [
    {
     "name": "stdout",
     "output_type": "stream",
     "text": [
      "Perzentile(%):  [1, 5, 10, 15, 25, 50, 75, 90, 95, 99] \n",
      " [-3.15703218 -2.15703218 -1.33019608 -1.15703218 -0.54723708  0.04759036\n",
      "  0.84296782  1.03210762  1.18947368  1.6025878 ]\n",
      "Mean absolute velocity deviation (in 1k):  0.851213143066\n"
     ]
    },
    {
     "data": {
      "text/plain": [
       "<matplotlib.text.Text at 0x7fe4fc57be10>"
      ]
     },
     "execution_count": 339,
     "metadata": {},
     "output_type": "execute_result"
    },
    {
     "data": {
      "image/png": "[encoded data removed]",
      "text/plain": [
       "<matplotlib.figure.Figure at 0x7fe4fc5fc080>"
      ]
     },
     "metadata": {},
     "output_type": "display_data"
    }
   ],
   "source": [
    "y_pred = regtree.predict(X_test)\n",
    "np.linalg.norm(np.ceil(y_pred)-y_test)\n",
    "diff = (y_pred-y_test)\n",
    "# plt.figure(figsize=(12,10)) # not needed. set values globally\n",
    "plt.hist(diff.values, bins=40)\n",
    "print('Perzentile(%): ', [1,5,10,15,25,50,75,90,95,99], '\\n', np.percentile(diff.values, [1,5,10,15,25,50,75,90,95,99]))\n",
    "print('Mean absolute velocity deviation (in 1k): ', (sum(abs(diff))/len(diff)))\n",
    "plt.title('Simple Decision Tree Regressor')\n",
    "plt.xlabel('deviation in mph')\n",
    "plt.ylabel('frequency')"
   ]
  },
  {
   "cell_type": "code",
   "execution_count": 396,
   "metadata": {
    "collapsed": false
   },
   "outputs": [
    {
     "data": {
      "text/plain": [
       "array([[[ 7.03688667]],\n",
       "\n",
       "       [[ 7.4158897 ]],\n",
       "\n",
       "       [[ 7.22987616]],\n",
       "\n",
       "       ..., \n",
       "       [[ 6.86252046]],\n",
       "\n",
       "       [[ 6.784     ]],\n",
       "\n",
       "       [[ 7.21621622]]])"
      ]
     },
     "execution_count": 396,
     "metadata": {},
     "output_type": "execute_result"
    }
   ],
   "source": [
    "regtree.tree_.value"
   ]
  },
  {
   "cell_type": "code",
   "execution_count": 340,
   "metadata": {
    "collapsed": false
   },
   "outputs": [
    {
     "data": {
      "text/plain": [
       "10"
      ]
     },
     "execution_count": 340,
     "metadata": {},
     "output_type": "execute_result"
    }
   ],
   "source": [
    "regtree.tree_.max_depth"
   ]
  },
  {
   "cell_type": "code",
   "execution_count": 343,
   "metadata": {
    "collapsed": false
   },
   "outputs": [
    {
     "name": "stdout",
     "output_type": "stream",
     "text": [
      "Perzentile(%):  [1, 5, 10, 15, 25, 50, 75, 90, 95, 99] \n",
      " [-3.07424555 -2.00431365 -1.34298042 -1.12955524 -0.47991674  0.15\n",
      "  0.74946581  1.03405591  1.27899568  1.83260094]\n",
      "Mean absolute velocity deviation (in 1k):  0.810661491638\n"
     ]
    },
    {
     "data": {
      "text/plain": [
       "<matplotlib.text.Text at 0x7fe4fcf022e8>"
      ]
     },
     "execution_count": 343,
     "metadata": {},
     "output_type": "execute_result"
    },
    {
     "data": {
      "image/png": "[encoded data removed]",
      "text/plain": [
       "<matplotlib.figure.Figure at 0x7fe4fcfdda20>"
      ]
     },
     "metadata": {},
     "output_type": "display_data"
    }
   ],
   "source": [
    "percentiles = [1,5,10,15,25,50,75,90,95,99]\n",
    "y_pred = rd_regtree.predict(X_test)\n",
    "np.linalg.norm(y_pred-y_test)\n",
    "diff = (y_pred-y_test)\n",
    "#plt.figure(figsize=(12,10))\n",
    "plt.hist(diff.values, bins=40)\n",
    "print('Perzentile(%): ', percentiles , '\\n', np.percentile(diff.values, percentiles))\n",
    "print('Mean absolute velocity deviation (in 1k): ', (sum(abs(diff))/len(diff)))\n",
    "plt.title('Random Forest Regressor: 20 trees')\n",
    "plt.xlabel('deviation in mph')\n",
    "plt.ylabel('frequency')"
   ]
  },
  {
   "cell_type": "code",
   "execution_count": 415,
   "metadata": {
    "collapsed": false
   },
   "outputs": [
    {
     "data": {
      "text/plain": [
       "['treelib/bike_regtree_depth_10_PY27.pkl',\n",
       " 'treelib/bike_regtree_depth_10_PY27.pkl_01.npy',\n",
       " 'treelib/bike_regtree_depth_10_PY27.pkl_02.npy',\n",
       " 'treelib/bike_regtree_depth_10_PY27.pkl_03.npy']"
      ]
     },
     "execution_count": 415,
     "metadata": {},
     "output_type": "execute_result"
    }
   ],
   "source": [
    "from sklearn.externals import joblib\n",
    "joblib.dump(regtree, 'treelib/bike_regtree_depth_10_PY27.pkl', protocol=2) "
   ]
  },
  {
   "cell_type": "code",
   "execution_count": 416,
   "metadata": {
    "collapsed": false
   },
   "outputs": [
    {
     "data": {
      "text/plain": [
       "['randforlib/bike_regtree_12x_depth_17_PY27.pkl.pkl',\n",
       " 'randforlib/bike_regtree_12x_depth_17_PY27.pkl.pkl_01.npy',\n",
       " 'randforlib/bike_regtree_12x_depth_17_PY27.pkl.pkl_02.npy',\n",
       " 'randforlib/bike_regtree_12x_depth_17_PY27.pkl.pkl_03.npy',\n",
       " 'randforlib/bike_regtree_12x_depth_17_PY27.pkl.pkl_04.npy',\n",
       " 'randforlib/bike_regtree_12x_depth_17_PY27.pkl.pkl_05.npy',\n",
       " 'randforlib/bike_regtree_12x_depth_17_PY27.pkl.pkl_06.npy',\n",
       " 'randforlib/bike_regtree_12x_depth_17_PY27.pkl.pkl_07.npy',\n",
       " 'randforlib/bike_regtree_12x_depth_17_PY27.pkl.pkl_08.npy',\n",
       " 'randforlib/bike_regtree_12x_depth_17_PY27.pkl.pkl_09.npy',\n",
       " 'randforlib/bike_regtree_12x_depth_17_PY27.pkl.pkl_10.npy',\n",
       " 'randforlib/bike_regtree_12x_depth_17_PY27.pkl.pkl_11.npy',\n",
       " 'randforlib/bike_regtree_12x_depth_17_PY27.pkl.pkl_12.npy',\n",
       " 'randforlib/bike_regtree_12x_depth_17_PY27.pkl.pkl_13.npy',\n",
       " 'randforlib/bike_regtree_12x_depth_17_PY27.pkl.pkl_14.npy',\n",
       " 'randforlib/bike_regtree_12x_depth_17_PY27.pkl.pkl_15.npy',\n",
       " 'randforlib/bike_regtree_12x_depth_17_PY27.pkl.pkl_16.npy',\n",
       " 'randforlib/bike_regtree_12x_depth_17_PY27.pkl.pkl_17.npy',\n",
       " 'randforlib/bike_regtree_12x_depth_17_PY27.pkl.pkl_18.npy',\n",
       " 'randforlib/bike_regtree_12x_depth_17_PY27.pkl.pkl_19.npy',\n",
       " 'randforlib/bike_regtree_12x_depth_17_PY27.pkl.pkl_20.npy',\n",
       " 'randforlib/bike_regtree_12x_depth_17_PY27.pkl.pkl_21.npy',\n",
       " 'randforlib/bike_regtree_12x_depth_17_PY27.pkl.pkl_22.npy',\n",
       " 'randforlib/bike_regtree_12x_depth_17_PY27.pkl.pkl_23.npy',\n",
       " 'randforlib/bike_regtree_12x_depth_17_PY27.pkl.pkl_24.npy',\n",
       " 'randforlib/bike_regtree_12x_depth_17_PY27.pkl.pkl_25.npy',\n",
       " 'randforlib/bike_regtree_12x_depth_17_PY27.pkl.pkl_26.npy',\n",
       " 'randforlib/bike_regtree_12x_depth_17_PY27.pkl.pkl_27.npy',\n",
       " 'randforlib/bike_regtree_12x_depth_17_PY27.pkl.pkl_28.npy',\n",
       " 'randforlib/bike_regtree_12x_depth_17_PY27.pkl.pkl_29.npy',\n",
       " 'randforlib/bike_regtree_12x_depth_17_PY27.pkl.pkl_30.npy',\n",
       " 'randforlib/bike_regtree_12x_depth_17_PY27.pkl.pkl_31.npy',\n",
       " 'randforlib/bike_regtree_12x_depth_17_PY27.pkl.pkl_32.npy',\n",
       " 'randforlib/bike_regtree_12x_depth_17_PY27.pkl.pkl_33.npy',\n",
       " 'randforlib/bike_regtree_12x_depth_17_PY27.pkl.pkl_34.npy',\n",
       " 'randforlib/bike_regtree_12x_depth_17_PY27.pkl.pkl_35.npy',\n",
       " 'randforlib/bike_regtree_12x_depth_17_PY27.pkl.pkl_36.npy']"
      ]
     },
     "execution_count": 416,
     "metadata": {},
     "output_type": "execute_result"
    }
   ],
   "source": [
    "from sklearn.externals import joblib\n",
    "joblib.dump(rd_regtree, 'randforlib/bike_regtree_12x_depth_17_PY27.pkl.pkl', protocol=2)"
   ]
  },
  {
   "cell_type": "code",
   "execution_count": 417,
   "metadata": {
    "collapsed": false
   },
   "outputs": [
    {
     "name": "stdout",
     "output_type": "stream",
     "text": [
      "  adding: bike_regtree_12x_depth_17_PY27.pkl.pkl (deflated 68%)\n",
      "  adding: bike_regtree_12x_depth_17_PY27.pkl.pkl_01.npy (deflated 19%)\n",
      "  adding: bike_regtree_12x_depth_17_PY27.pkl.pkl_02.npy (deflated 81%)\n",
      "  adding: bike_regtree_12x_depth_17_PY27.pkl.pkl_03.npy (deflated 71%)\n",
      "  adding: bike_regtree_12x_depth_17_PY27.pkl.pkl_04.npy (deflated 19%)\n",
      "  adding: bike_regtree_12x_depth_17_PY27.pkl.pkl_05.npy (deflated 81%)\n",
      "  adding: bike_regtree_12x_depth_17_PY27.pkl.pkl_06.npy (deflated 71%)\n",
      "  adding: bike_regtree_12x_depth_17_PY27.pkl.pkl_07.npy (deflated 19%)\n",
      "  adding: bike_regtree_12x_depth_17_PY27.pkl.pkl_08.npy (deflated 81%)\n",
      "  adding: bike_regtree_12x_depth_17_PY27.pkl.pkl_09.npy (deflated 71%)\n",
      "  adding: bike_regtree_12x_depth_17_PY27.pkl.pkl_10.npy (deflated 19%)\n",
      "  adding: bike_regtree_12x_depth_17_PY27.pkl.pkl_11.npy (deflated 81%)\n",
      "  adding: bike_regtree_12x_depth_17_PY27.pkl.pkl_12.npy (deflated 71%)\n",
      "  adding: bike_regtree_12x_depth_17_PY27.pkl.pkl_13.npy (deflated 19%)\n",
      "  adding: bike_regtree_12x_depth_17_PY27.pkl.pkl_14.npy (deflated 81%)\n",
      "  adding: bike_regtree_12x_depth_17_PY27.pkl.pkl_15.npy (deflated 71%)\n",
      "  adding: bike_regtree_12x_depth_17_PY27.pkl.pkl_16.npy (deflated 19%)\n",
      "  adding: bike_regtree_12x_depth_17_PY27.pkl.pkl_17.npy (deflated 81%)\n",
      "  adding: bike_regtree_12x_depth_17_PY27.pkl.pkl_18.npy (deflated 70%)\n",
      "  adding: bike_regtree_12x_depth_17_PY27.pkl.pkl_19.npy (deflated 19%)\n",
      "  adding: bike_regtree_12x_depth_17_PY27.pkl.pkl_20.npy (deflated 81%)\n",
      "  adding: bike_regtree_12x_depth_17_PY27.pkl.pkl_21.npy (deflated 71%)\n",
      "  adding: bike_regtree_12x_depth_17_PY27.pkl.pkl_22.npy (deflated 19%)\n",
      "  adding: bike_regtree_12x_depth_17_PY27.pkl.pkl_23.npy (deflated 81%)\n",
      "  adding: bike_regtree_12x_depth_17_PY27.pkl.pkl_24.npy (deflated 71%)\n",
      "  adding: bike_regtree_12x_depth_17_PY27.pkl.pkl_25.npy (deflated 19%)\n",
      "  adding: bike_regtree_12x_depth_17_PY27.pkl.pkl_26.npy (deflated 81%)\n",
      "  adding: bike_regtree_12x_depth_17_PY27.pkl.pkl_27.npy (deflated 71%)\n",
      "  adding: bike_regtree_12x_depth_17_PY27.pkl.pkl_28.npy (deflated 19%)\n",
      "  adding: bike_regtree_12x_depth_17_PY27.pkl.pkl_29.npy (deflated 81%)\n",
      "  adding: bike_regtree_12x_depth_17_PY27.pkl.pkl_30.npy (deflated 71%)\n",
      "  adding: bike_regtree_12x_depth_17_PY27.pkl.pkl_31.npy (deflated 19%)\n",
      "  adding: bike_regtree_12x_depth_17_PY27.pkl.pkl_32.npy (deflated 81%)\n",
      "  adding: bike_regtree_12x_depth_17_PY27.pkl.pkl_33.npy (deflated 70%)\n",
      "  adding: bike_regtree_12x_depth_17_PY27.pkl.pkl_34.npy (deflated 19%)\n",
      "  adding: bike_regtree_12x_depth_17_PY27.pkl.pkl_35.npy (deflated 81%)\n",
      "  adding: bike_regtree_12x_depth_17_PY27.pkl.pkl_36.npy (deflated 71%)\n"
     ]
    }
   ],
   "source": [
    "! cd randforlib && zip bike_regtree_12x_depth_17.zip bike_regtree_12x_depth_17_PY27.pkl*"
   ]
  },
  {
   "cell_type": "markdown",
   "metadata": {},
   "source": [
    "## Read as follows: Split # x results in the children_left[x] and children_right[x], etc. Means: go to the left, and then step by step to the right..."
   ]
  },
  {
   "cell_type": "code",
   "execution_count": 130,
   "metadata": {
    "collapsed": false
   },
   "outputs": [
    {
     "name": "stdout",
     "output_type": "stream",
     "text": [
      "cleft: [   1    2    3 ..., 1605   -1   -1]\n",
      "\n",
      " cright: [ 894  507  254 ..., 1606   -1   -1]\n",
      "\n",
      " [ 4  6  5 ...,  5 -2 -2] \n",
      "\n",
      " [-73.88609314 -73.87641144  40.71151733 ...,  40.83932495  -2.          -2.        ] \n",
      "\n",
      "\n"
     ]
    }
   ],
   "source": [
    "print('cleft: ' + str(regtree.tree_.children_left) + '\\n\\n', #array of left children\n",
    "      'cright: ' + str(regtree.tree_.children_right) + '\\n\\n', #array of right children\n",
    "    regtree.tree_.feature, '\\n\\n',#array of nodes splitting feature\n",
    "    regtree.tree_.threshold, '\\n\\n', #array of nodes splitting points\n",
    "    #regtree.tree_.value\n",
    "     ) #array of nodes values"
   ]
  },
  {
   "cell_type": "markdown",
   "metadata": {
    "collapsed": false
   },
   "source": [
    "numpy.ndarray(regtree.tree_.children_left #array of left children\n",
    "regtree.tree_.children_right #array of right children\n",
    "regtree.tree_.feature #array of nodes splitting feature\n",
    "regtree.tree_.threshold #array of nodes splitting points\n",
    "regtree.tree_.value #array of nodes values"
   ]
  },
  {
   "cell_type": "markdown",
   "metadata": {},
   "source": [
    "## Finding leaves:"
   ]
  },
  {
   "cell_type": "code",
   "execution_count": 131,
   "metadata": {
    "collapsed": false
   },
   "outputs": [
    {
     "name": "stdout",
     "output_type": "stream",
     "text": [
      "[0 0 0 ..., 0 1 1]\n"
     ]
    }
   ],
   "source": [
    "leaves = regtree.tree_.children_left*regtree.tree_.children_right\n",
    "for idx, a in enumerate(leaves):\n",
    "    if a==1:\n",
    "        x=1# do nothing\n",
    "    else:\n",
    "        leaves[idx] = 0\n",
    "print(leaves)"
   ]
  },
  {
   "cell_type": "markdown",
   "metadata": {},
   "source": [
    "## Now we've found the leaves"
   ]
  },
  {
   "cell_type": "code",
   "execution_count": 132,
   "metadata": {
    "collapsed": false
   },
   "outputs": [
    {
     "data": {
      "text/plain": [
       "array([ 0.00201552,  0.02067813,  0.05331978,  0.17284459,  0.30449187,\n",
       "        0.13772981,  0.3089203 ])"
      ]
     },
     "execution_count": 132,
     "metadata": {},
     "output_type": "execute_result"
    }
   ],
   "source": [
    "regtree.tree_.compute_feature_importances()"
   ]
  },
  {
   "cell_type": "markdown",
   "metadata": {},
   "source": [
    "# Seems that the first 3 features are quite irrelevant right now..."
   ]
  },
  {
   "cell_type": "code",
   "execution_count": 133,
   "metadata": {
    "collapsed": false
   },
   "outputs": [],
   "source": [
    "splits = regtree.tree_.threshold"
   ]
  },
  {
   "cell_type": "code",
   "execution_count": 134,
   "metadata": {
    "collapsed": false
   },
   "outputs": [
    {
     "name": "stdout",
     "output_type": "stream",
     "text": [
      "[  7.5  10.5   5.5   5.5   7.5   9.5  20.5   9.5  17.5   6.5   7.5  17.5\n",
      "  10.5   6.5  17.5   6.5   7.5   6.5  17.5   6.5   5.5   7.5   6.5   6.5\n",
      "  17.5  10.5   7.5   7.5   7.5   6.5  19.5   6.5   6.5  17.5   7.5   6.5\n",
      "   6.5   6.5  18.5  18.5   6.5  10.5   5.5   5.5   7.5  19.5  18.5   4.5\n",
      "  11.5   6.5  17.5   6.5   9.5   7.5   8.5   9.5   0.5  19.   14.5   4.5\n",
      "  17.5   9.5   6.5  17.5   2.5  20.5   6.5  18.5   3.5  14.5  20.5   4.5\n",
      "  14.   20.    9.5   2.5  17.5  15.5  11.   13.5  12.5   8.5   2.    1.5\n",
      "  10.5  16.5   6.5  14.5   4.5  14.5  11.5  17.5   4.5   7.5  17.5  10.5\n",
      "   7.5  19.   17.   13.5   8.5  18.5  19.5  12.5   8.5  15.5  14.5  22.5\n",
      "   7.5   3.5  13.5   4.5   1.5   9.5   6.5   3.5   6.5   3.5   8.5   6.5\n",
      "   9.5   8.5   6.5   7.5   0.5   5.5   8.5  10.5  17.5   3.5  16.5  14.5\n",
      "  11.5   3.5   2.5  11.5  18.5  10.5   4.5   6.5  19.5  22.5  19.5  15.5\n",
      "  21.   13.5   7.5  13.5  13.5   6.5  14.5  17.5  12.5   5.   10.5   7.5\n",
      "  10.5   3.5   4.5  18.5   7.5   4.5   5.5   3.   21.5  19.5  18.5  10.5\n",
      "   4.5  11.5   9.5  14.   21.5  18.5   4.5  12.5  12.5   6.   12.   17.5\n",
      "  11.5   1.5  16.5   3.5   6.5   2.5   4.    5.5  20.5   7.5   7.5  19.5\n",
      "  10.   22.5  17.5]\n"
     ]
    },
    {
     "data": {
      "text/plain": [
       "(array([ 10.,  21.,  36.,  27.,  22.,  18.,  12.,  20.,  19.,  10.]),\n",
       " array([  0.5,   2.7,   4.9,   7.1,   9.3,  11.5,  13.7,  15.9,  18.1,\n",
       "         20.3,  22.5]),\n",
       " <a list of 10 Patch objects>)"
      ]
     },
     "execution_count": 134,
     "metadata": {},
     "output_type": "execute_result"
    },
    {
     "data": {
      "image/png": "[encoded data removed]",
      "text/plain": [
       "<matplotlib.figure.Figure at 0x7fc2783a5dd8>"
      ]
     },
     "metadata": {},
     "output_type": "display_data"
    }
   ],
   "source": [
    "time_splits = splits[(splits>=0) & (splits<=24)]\n",
    "print(time_splits)\n",
    "plt.hist(time_splits)"
   ]
  },
  {
   "cell_type": "markdown",
   "metadata": {},
   "source": [
    "# Where are splits in the hour?"
   ]
  },
  {
   "cell_type": "markdown",
   "metadata": {},
   "source": [
    "# Filter the splits in longitudinal and latitudinal data"
   ]
  },
  {
   "cell_type": "code",
   "execution_count": 135,
   "metadata": {
    "collapsed": false
   },
   "outputs": [],
   "source": [
    "long_splits = splits[(splits>=-75) & (splits<=-70)]\n",
    "lat_splits = splits[(splits>=40) & (splits<=41)]"
   ]
  },
  {
   "cell_type": "markdown",
   "metadata": {},
   "source": [
    "# <font color = 'red'> The MSE of each node is stored in the 'impurity'-property. </font color>"
   ]
  },
  {
   "cell_type": "code",
   "execution_count": 136,
   "metadata": {
    "collapsed": false
   },
   "outputs": [],
   "source": [
    "#np.multiply(regtree.tree_.value, 1/ regtree.tree_.n_node_samples).size\n",
    "avg_time_dev = regtree.tree_.impurity.T  * leaves\n",
    "#avg_time_dev = (np.array(regtree.tree_.value)/np.array(regtree.tree_.n_node_samples)) *np.array(leaves)\n",
    "avg_time_dev = avg_time_dev[avg_time_dev!=0]"
   ]
  },
  {
   "cell_type": "code",
   "execution_count": 137,
   "metadata": {
    "collapsed": false
   },
   "outputs": [
    {
     "data": {
      "text/plain": [
       "array([  2.98089772e+01,   2.39769852e+01,   3.13388607e+01,\n",
       "         2.25332896e+01,   2.22804048e+01,   2.99869810e+01,\n",
       "         3.83369750e+01,   2.07098672e+01,   2.49863999e+01,\n",
       "         3.77843762e+01,   3.68750000e+00,   1.60710059e+01,\n",
       "         1.53722751e+01,   2.27125283e+01,   2.16740895e+01,\n",
       "         1.81328277e+01,   2.32361592e+01,   2.88596873e+01,\n",
       "         2.24318451e+01,   3.06682575e+01,   4.13069070e+01,\n",
       "         4.40175256e+01,   2.16962707e+01,   5.83257618e+01,\n",
       "         2.71539050e+01,   3.55195072e+01,   3.75072676e+01,\n",
       "         3.25642177e+01,   2.99232070e+01,   2.76129658e+01,\n",
       "         1.57879788e+01,   4.18594231e+01,   4.21534048e+01,\n",
       "         2.20587055e+01,   3.48223561e+01,   3.56734211e+01,\n",
       "         3.61657643e+01,   2.69355102e+01,   9.62162162e+01,\n",
       "         6.51634349e+01,   2.21484900e+01,   2.22534582e+01,\n",
       "         4.93639922e+01,   2.61742245e+01,   3.18070081e+01,\n",
       "         5.54020911e+01,   1.63907765e+01,   1.34724911e+01,\n",
       "         1.03401265e+01,   1.50102065e+01,   2.13562287e+01,\n",
       "         9.26723511e+00,   3.24670451e+01,   2.35444883e+01,\n",
       "         1.50235968e+01,   2.73051012e+01,   3.68921797e+01,\n",
       "         2.51120059e+01,   1.89134694e+01,   1.04000000e+02,\n",
       "         1.32353186e+01,   1.25632539e+01,   1.00000000e+02,\n",
       "         4.63439626e+01,   2.62396027e+01,   9.76088858e+01,\n",
       "         3.44364224e+01,   4.03968426e+01,   5.59341166e+01,\n",
       "         3.60000000e+01,   1.38952741e+02,   2.38839374e+01,\n",
       "         2.44081341e+01,   3.42202912e+01,   3.58916979e+01,\n",
       "         3.44985257e+01,   5.15095604e+01,   1.03762853e+02,\n",
       "         4.12090216e+01,   3.80183364e+01,   6.66828207e+01,\n",
       "         7.31330104e+01,   1.30695764e+02,   3.24770287e+01,\n",
       "         5.41119335e+01,   4.50190978e+01,   8.01531133e+01,\n",
       "         8.09012564e+01,   1.15573251e+02,   7.56706835e+01,\n",
       "         8.23479909e+01,   1.05684308e+02,   8.80828402e+01,\n",
       "         1.28459196e+01,   1.12740115e+01,   1.41798209e+01,\n",
       "         1.61600000e+01,   3.55065361e+01,   3.66616799e+01,\n",
       "         1.73410243e+01,   2.40902831e+01,   2.73105523e+01,\n",
       "         3.88718080e+01,   2.58442084e+01,   4.56328576e+01,\n",
       "         3.26130016e+01,   7.58204865e+01,   1.85484765e+01,\n",
       "         2.98750000e+01,   3.12869095e+01,   3.46899000e+01,\n",
       "         4.25040580e+01,   1.72188235e+01,   5.76007023e+01,\n",
       "         9.77097793e+01,   2.87152676e+01,   4.35331801e+01,\n",
       "         2.53557129e+01,   5.94784618e+01,   8.20269365e+01,\n",
       "         6.22438440e+01,   6.49193222e+01,   8.91244993e+01,\n",
       "         6.60572160e+01,   8.80399306e+01,   9.20000000e+01,\n",
       "         3.59953315e+01,   3.08254725e+01,   1.00000000e+00,\n",
       "         2.08761412e+01,   2.14697815e+01,   2.12884624e+01,\n",
       "         2.40091556e+01,   2.73420408e+01,   2.46495692e+01,\n",
       "         5.89161822e+01,   4.86718921e+01,   3.45896564e+01,\n",
       "         2.47410204e+01,   4.44132376e+01,   2.43027603e+01,\n",
       "         2.91600607e+01,   2.56613851e+01,   2.31677519e+01,\n",
       "         2.14040797e+01,   5.48703281e+01,   2.56278720e+01,\n",
       "         2.14796165e+01,   2.68392688e+01,   3.75920658e+01,\n",
       "         2.20740437e+01,   3.44330232e+01,   2.21548163e+01,\n",
       "         2.94142031e+01,   3.32558533e+01,   2.81078973e+01,\n",
       "         3.16034616e+01,   2.71202013e+01,   2.89000000e+02,\n",
       "         8.82798984e+01,   5.77655888e+01,   5.97761111e+01,\n",
       "         3.10394388e+01,   4.80441029e+01,   2.84457647e+01,\n",
       "         3.33788729e+01,   1.81254992e+01,   1.80918210e+01,\n",
       "         5.82230039e+01,   3.08775632e+01,   4.62157176e+01,\n",
       "         3.14298710e+01,   8.06581607e+01,   5.55714432e+01,\n",
       "         4.91956206e+01,   1.21941358e+02,   3.49804318e+01,\n",
       "         1.03231319e+02,   1.01045670e+02,   8.02341270e+01,\n",
       "         6.64485313e+01,   9.20400000e+01,   7.50617284e+01,\n",
       "         8.63139556e+01,   5.98125000e+01,   7.97656494e+01,\n",
       "         1.57125598e+01,   2.91219620e+01,   2.58308394e+01,\n",
       "         1.91145589e+01,   4.64315290e+01,   2.99252438e+01,\n",
       "         2.08379461e+01,   4.96575733e+01,   2.64717075e+01,\n",
       "         2.56383378e+01,   3.61757435e+01,   5.93743600e+01,\n",
       "         3.97931354e+01,   2.22655252e+01,   2.58333706e+01,\n",
       "         5.25843594e+01,   2.17106563e+01,   4.01825297e+01,\n",
       "         2.56890271e+01,   5.03782024e+01,   4.17459362e+01,\n",
       "         5.87976020e+01,   7.16257748e+01,   3.66350099e+01,\n",
       "         5.87908946e+01,   5.65797643e+01,   2.52153813e+01,\n",
       "         3.66329413e+01,   3.63391947e+01,   2.84832681e+01,\n",
       "         5.30573802e+01,   2.89418259e+01,   2.09278972e+01,\n",
       "         3.62037237e+01,   1.34038900e+02,   3.36411215e+01,\n",
       "         8.17824927e+01,   8.30555587e+01,   9.15743945e+01,\n",
       "         3.05652606e+01,   3.31385787e+01,   7.31896713e+01,\n",
       "         4.80894309e+01,   2.51735618e+01,   6.26105632e+01,\n",
       "         1.08218679e+02,   7.88426443e+01,   1.37459851e+01,\n",
       "         2.89134948e+01,   7.61813416e+01,   3.57667648e+01,\n",
       "         3.04014560e+01,   4.29375000e+01,   8.17732426e+01,\n",
       "         4.30565926e+01,   1.67354260e+01,   4.04909964e+01,\n",
       "         7.41433910e+01,   7.73967493e+01,   2.69463905e+01,\n",
       "         1.74021833e+01,   5.81738391e+01,   1.07618147e+02,\n",
       "         7.36518574e+01,   4.41672188e+01,   8.20786396e+01,\n",
       "         1.27455621e+02,   3.49600000e+01,   3.86400000e+01,\n",
       "         2.60828402e+01,   1.87720019e+02,   1.62985029e+02,\n",
       "         1.19937500e+02,   4.17698181e+01,   5.12653061e+01,\n",
       "         6.02018512e+01,   8.62016105e+01,   3.20292536e+01,\n",
       "         3.52814432e+01,   7.58710938e+01,   4.98788089e+01,\n",
       "         3.00000000e+01,   5.80555556e+00,   5.47222222e+00,\n",
       "         5.04471474e+01,   1.32923295e+02,   1.27282051e+02,\n",
       "         1.43251897e+02,   4.00035758e+01,   3.82418240e+01,\n",
       "         4.69910732e+01,   6.29413580e+01,   3.02500000e+01,\n",
       "         2.46666667e+01,   1.78774792e+01,   2.50433884e+01,\n",
       "         1.00000000e+00,   2.07450572e+01,   5.25000000e+00,\n",
       "         9.55102041e+00,   5.00000000e-01,   5.95555556e+01,\n",
       "         2.80555556e+01,   2.92267407e+01,   6.50000000e+00,\n",
       "         1.85600000e+01,   5.49427471e+01,   1.62037284e+02,\n",
       "         7.26655613e+01,   8.59538283e+01,   1.19097500e+02,\n",
       "         5.57843524e+01,   9.17466545e+01,   4.08402367e+01,\n",
       "         2.61614286e+01,   3.37836668e+01,   8.02469136e+00,\n",
       "         5.47755102e+01,   2.11049596e+01,   4.58222222e+01,\n",
       "         8.88888889e-01,   5.49822485e+01,   1.73711405e+01,\n",
       "         4.00000000e+00,   4.78241966e+01,   5.51200000e+01,\n",
       "         2.47555556e+01,   6.88888889e+00,   2.50000000e-01,\n",
       "         1.36000000e+00,   2.50000000e+01,   2.88888889e+00,\n",
       "         2.56000000e+01,   3.60000000e+01,   1.49722222e+01,\n",
       "         4.83826531e+01,   2.42430556e+01,   3.17777778e+01,\n",
       "         2.66666667e+00,   7.06942149e+01,   2.05671970e+01,\n",
       "         4.68888889e+01,   1.56222222e+02,   1.73593750e+01,\n",
       "         1.00000000e+00,   1.02222222e+01,   3.28888889e+01,\n",
       "         1.81600000e+01,   2.24970238e+01,   1.80863684e+01,\n",
       "         1.22693750e+01,   8.26666667e+01,   5.06469229e+01,\n",
       "         1.30000000e+01,   3.29302721e+01,   3.18750000e+00,\n",
       "         1.60000000e+01,   2.25000000e+00,   2.50000000e-01,\n",
       "         1.00000000e+00,   7.22618041e+01,   4.68441135e+01,\n",
       "         3.01894810e+01,   3.70247934e+00,   7.04503289e+01,\n",
       "         1.00000000e+02,   6.03945578e+01,   7.32135276e+01,\n",
       "         1.10222222e+02,   4.93299802e+01,   1.32250000e+02,\n",
       "         2.20019835e+01,   7.28055556e+01,   6.30442006e+01,\n",
       "         4.41355102e+01,   1.12334794e+02,   1.04054308e+02,\n",
       "         4.76365258e+01,   7.26461205e+01,   6.76586240e+01,\n",
       "         6.25893099e+01,   3.38704165e+01,   5.03417102e+01,\n",
       "         1.00000000e+00,   4.10718537e+01,   3.39230026e+01,\n",
       "         9.07099704e+01,   4.07875774e+01,   3.45935728e+01,\n",
       "         2.22500000e+01,   2.50000000e-01,   1.79648438e+01,\n",
       "         7.78698225e+00,   7.21388889e+01,   5.62500000e+01,\n",
       "         6.91111111e+01,   1.56213018e+01,   6.88888889e+00,\n",
       "         4.24000000e+00,   4.00000000e+00,   2.50000000e-01,\n",
       "         2.25000000e+00,   1.60000000e+01,   3.68750000e+00,\n",
       "         2.25950413e+01,   2.09097222e+01,   1.60000000e+01,\n",
       "         4.08480726e+01,   5.34214876e+01,   4.48254848e+01,\n",
       "         6.04444444e+01,   4.40000000e+00,   6.22222222e+00,\n",
       "         1.00000000e+00,   2.50000000e-01,   2.50000000e-01,\n",
       "         2.50000000e-01,   1.38888889e+02,   5.36580882e+01,\n",
       "         9.72704000e+01,   1.42369360e+02,   1.33858997e+02,\n",
       "         4.88000000e+02,   1.16612767e+02,   4.66666667e+00,\n",
       "         5.06093750e+01,   1.18055556e+01,   1.19893997e+02,\n",
       "         1.19687500e+02,   1.96950063e+02,   2.55982833e+02,\n",
       "         2.14340895e+02,   2.23321233e+02,   1.24951810e+02,\n",
       "         3.74352617e+02,   1.81859375e+02,   3.29086948e+02,\n",
       "         2.98196585e+02,   1.65106576e+02,   8.13904959e+01,\n",
       "         1.23251570e+02,   2.45000000e+01,   2.42945204e+02,\n",
       "         2.62361244e+02,   8.88888889e-01,   6.22222222e+00,\n",
       "         2.50000000e-01,   3.01838967e+02,   1.46752363e+02,\n",
       "         4.35833333e+01,   6.16000000e+00,   1.04222222e+02,\n",
       "         8.66666667e+00,   1.07122449e+02,   1.12750000e+02,\n",
       "         1.68028773e+02,   1.21590260e+02,   2.31296241e+02,\n",
       "         1.82265233e+02,   1.68851918e+02,   4.71440000e+02,\n",
       "         2.46058957e+02,   4.24234375e+02,   1.19044371e+02,\n",
       "         1.23953568e+02,   1.48888889e+01,   2.57852702e+02,\n",
       "         1.82715930e+02,   8.13218336e+01,   5.58817149e+01,\n",
       "         8.80396072e+01,   2.04771240e+02,   1.37444678e+02,\n",
       "         7.93147922e+01,   5.75000000e+01,   8.03203485e+01,\n",
       "         5.35865900e+01,   9.39555556e+00,   1.82250000e+02,\n",
       "         1.02670360e+02,   4.95822222e+01,   2.46400000e+01,\n",
       "         8.88888889e-01,   3.73593750e+01,   4.84900000e+01,\n",
       "         3.39773243e+02,   1.15555556e+01,   2.69482163e+02,\n",
       "         5.31437500e+02,   2.60527344e+02,   2.01187500e+02,\n",
       "         4.00000000e+00,   7.18750000e+00,   6.25000000e+00,\n",
       "         1.59293253e+02,   5.02926224e+02,   2.03498504e+02,\n",
       "         1.73090000e+02,   9.60000000e+01,   1.25117550e+02,\n",
       "         7.69508136e+01,   8.58855335e+01,   4.08950501e+01,\n",
       "         1.64141519e+02,   7.91630506e+01,   3.48622222e+01,\n",
       "         5.12896000e+01,   1.43160000e+02,   1.46294660e+01,\n",
       "         3.44540816e+01,   3.26875000e+01,   9.72500000e+01,\n",
       "         1.97500000e+01,   3.28888889e+01,   9.00000000e+00,\n",
       "         3.55555556e+00,   1.22500000e+01,   1.68421053e+01,\n",
       "         2.50000000e-01,   5.19467456e+01,   1.00000000e+00,\n",
       "         1.70895062e+01,   2.50000000e-01,   4.73879437e+01,\n",
       "         1.26543210e+02,   8.64444336e+02,   1.33458333e+02,\n",
       "         1.00000000e+00,   1.94681417e+02,   1.80605421e+02,\n",
       "         6.88888889e+00,   6.98765432e+00,   9.42425128e+01,\n",
       "         8.54750000e+02,   1.93555556e+02,   2.06351546e+01,\n",
       "         9.17669204e+01,   3.26775510e+02,   3.24691358e+01,\n",
       "         3.91550617e+01,   3.06250000e+02,   2.50000000e+01,\n",
       "         1.35288889e+01,   1.99690000e+02,   5.60272109e+01,\n",
       "         6.81109694e+01,   1.26333333e+02,   1.55555556e+00,\n",
       "         2.13000000e+01,   4.69387755e+00,   3.04000000e+00,\n",
       "         1.03526111e+02,   2.34563265e+01,   6.22222222e+00,\n",
       "         2.25000000e+00,   3.50000000e+00,   1.00000000e+00,\n",
       "         3.69040000e+02,   4.01419375e+02,   6.06437574e+02,\n",
       "         2.28396503e+02,   6.25000000e+02,   8.18404000e+01,\n",
       "         1.69020011e+02,   6.73893454e+01,   6.78331378e+01,\n",
       "         9.43288889e+01,   4.70664875e+01,   4.06970363e+01,\n",
       "         2.78923491e+01,   1.83228271e+02,   1.33311237e+02,\n",
       "         1.02335482e+02,   7.07693750e+01,   1.30304266e+02,\n",
       "         9.84167343e+01,   6.50145069e+01,   1.28671862e+02,\n",
       "         4.68750000e+00,   3.60000000e+01,   1.62222222e+01,\n",
       "         2.91076389e+02,   7.36686391e+01,   4.13916100e+02,\n",
       "         2.26944932e+02,   6.90000000e+01,   7.39742439e+01,\n",
       "         8.01473230e+01,   6.89847974e+01,   8.39069859e+01,\n",
       "         7.56677801e+01,   5.45223731e+01,   4.40310151e+01,\n",
       "         8.04275000e+01,   4.00000000e+00,   4.04045369e+01,\n",
       "         1.18410000e+02,   6.54400000e+01,   5.50400000e+01,\n",
       "         4.90000000e+01,   2.52500000e+01,   2.28622222e+01,\n",
       "         2.25455995e+01,   6.85525138e+01,   8.48420972e+01,\n",
       "         9.59628389e+01,   2.11875000e+01,   4.76474609e+01,\n",
       "         1.13034439e+02,   7.50000000e-01,   5.24000000e+00,\n",
       "         9.02500000e+01,   3.71728395e+01,   4.66081661e+01,\n",
       "         5.28621884e+01,   1.12390000e+02,   1.16100000e+01,\n",
       "         7.06100000e+01,   1.02400000e+01,   1.64308012e+01,\n",
       "         2.51288889e+01,   6.16000000e+00,   2.22222222e-01,\n",
       "         2.68000000e+01,   6.24489796e+00,   7.88377862e+01,\n",
       "         4.25905439e+01,   3.74253421e+01,   4.47540428e+01,\n",
       "         3.38250000e+02,   3.55105867e+02,   3.95000000e+01,\n",
       "         8.33223212e+01,   1.00000000e+00,   2.72250000e+02,\n",
       "         2.47500000e+01,   8.02433542e+01,   9.17521233e+01,\n",
       "         3.67352071e+01,   1.54693878e+02,   3.72460144e+01,\n",
       "         5.62500000e+01,   7.11875333e+01,   2.73191837e+01,\n",
       "         5.34649163e+01,   8.56190476e+01,   2.73388430e+01,\n",
       "         5.76000000e+02,   5.18750000e+00,   1.64000000e+01,\n",
       "         4.00000000e+00,   6.40000000e+01,   2.18750000e+00,\n",
       "         2.10250000e+02,   1.74591368e+02,   9.68888889e+01,\n",
       "         4.50315467e+01,   1.01242408e+02,   1.96000000e+02,\n",
       "         8.10000000e+01,   6.40972222e+00,   7.20888889e+01,\n",
       "         2.00666667e+02,   1.38666667e+02,   1.34270360e+02,\n",
       "         5.80788897e+01,   2.78024691e+01,   3.86400000e+01,\n",
       "         1.00000000e+00,   3.04734375e+02,   2.77496302e+01,\n",
       "         2.25000000e+00,   2.50000000e-01,   2.50000000e-01,\n",
       "         1.87500000e-01,   3.71981373e+01,   7.42454346e+01,\n",
       "         3.17250000e+02,   4.67587426e+01,   3.20000000e+01,\n",
       "         1.34488889e+01,   1.27777479e+01,   1.57348395e+01,\n",
       "         1.00000000e+00,   6.22222222e+00,   9.00000000e+00,\n",
       "         1.14400000e+01,   2.25000000e+00,   1.83397333e+01,\n",
       "         3.65036851e+01,   1.22888889e+02,   3.48593750e+01,\n",
       "         1.76388889e+01,   9.12362949e+01,   1.55289189e+01,\n",
       "         3.67622336e+01,   1.26996831e+02,   5.71352178e+01,\n",
       "         4.10368005e+01,   5.75287401e+01,   8.18561391e+01,\n",
       "         3.12064000e+01,   2.25000000e+00,   7.29165432e+01,\n",
       "         3.79183673e+01,   7.22222222e+01,   6.40000000e+01,\n",
       "         6.59930556e+01,   2.40839506e+02,   1.37024221e+01,\n",
       "         3.15555556e+01])"
      ]
     },
     "execution_count": 137,
     "metadata": {},
     "output_type": "execute_result"
    }
   ],
   "source": [
    "avg_time_dev"
   ]
  },
  {
   "cell_type": "code",
   "execution_count": 138,
   "metadata": {
    "collapsed": false
   },
   "outputs": [
    {
     "data": {
      "text/plain": [
       "array([ 0.00201552,  0.02067813,  0.05331978,  0.17284459,  0.30449187,\n",
       "        0.13772981,  0.3089203 ])"
      ]
     },
     "execution_count": 138,
     "metadata": {},
     "output_type": "execute_result"
    }
   ],
   "source": [
    "regtree.tree_.compute_feature_importances()"
   ]
  },
  {
   "cell_type": "code",
   "execution_count": 139,
   "metadata": {
    "collapsed": false
   },
   "outputs": [
    {
     "data": {
      "text/plain": [
       "(array([  87.,   63.,  108.,   87.,   60.,   50.,   26.,   35.,   33.,\n",
       "          20.,   16.,   13.,   13.,   13.,    4.,    3.,    7.,    2.,\n",
       "           7.,    5.,    4.,    2.,    3.,    1.,    3.,    2.,    3.,\n",
       "           1.,    1.,    2.,    3.,    1.,    2.,    2.,    0.,    1.,\n",
       "           1.,    1.,    0.,    0.,    1.,    1.,    1.,    0.,    0.,\n",
       "           0.,    0.,    1.,    1.,    0.]),\n",
       " array([   0.,   10.,   20.,   30.,   40.,   50.,   60.,   70.,   80.,\n",
       "          90.,  100.,  110.,  120.,  130.,  140.,  150.,  160.,  170.,\n",
       "         180.,  190.,  200.,  210.,  220.,  230.,  240.,  250.,  260.,\n",
       "         270.,  280.,  290.,  300.,  310.,  320.,  330.,  340.,  350.,\n",
       "         360.,  370.,  380.,  390.,  400.,  410.,  420.,  430.,  440.,\n",
       "         450.,  460.,  470.,  480.,  490.,  500.]),\n",
       " <a list of 50 Patch objects>)"
      ]
     },
     "execution_count": 139,
     "metadata": {},
     "output_type": "execute_result"
    },
    {
     "data": {
      "image/png": "[encoded data removed]",
      "text/plain": [
       "<matplotlib.figure.Figure at 0x7fc27ae3ea20>"
      ]
     },
     "metadata": {},
     "output_type": "display_data"
    }
   ],
   "source": [
    "h = avg_time_dev\n",
    "plt.hist(h.tolist(), bins=50, range=[0, 500])"
   ]
  },
  {
   "cell_type": "code",
   "execution_count": 140,
   "metadata": {
    "collapsed": false
   },
   "outputs": [
    {
     "data": {
      "text/plain": [
       "array([   2.25      ,   40.40453686,   80.65816075,  144.65208316,\n",
       "        233.20489438,  328.16237289,  488.59704894])"
      ]
     },
     "execution_count": 140,
     "metadata": {},
     "output_type": "execute_result"
    }
   ],
   "source": [
    "np.percentile(avg_time_dev, q=[5, 50, 75, 90, 95, 97.5, 99])"
   ]
  },
  {
   "cell_type": "code",
   "execution_count": 142,
   "metadata": {
    "collapsed": false
   },
   "outputs": [
    {
     "data": {
      "text/plain": [
       "Index(['pickup_datetime_day', 'pickup_datetime_dayofweek',\n",
       "       'pickup_datetime_hour', 'pickup_latitude', 'pickup_longitude',\n",
       "       'dropoff_latitude', 'dropoff_longitude'],\n",
       "      dtype='object')"
      ]
     },
     "execution_count": 142,
     "metadata": {},
     "output_type": "execute_result"
    }
   ],
   "source": [
    "time_regression_df.columns[0:7]"
   ]
  },
  {
   "cell_type": "markdown",
   "metadata": {},
   "source": [
    "# <font color = 'blue'> Now we want to visualize the decision tree. To do so, plot the splits in geodata on the map of NYC (together with the heat map) </font color>"
   ]
  },
  {
   "cell_type": "code",
   "execution_count": 143,
   "metadata": {
    "collapsed": false,
    "scrolled": true
   },
   "outputs": [
    {
     "data": {
      "text/plain": [
       "<matplotlib.figure.Figure at 0x7fc278c4f240>"
      ]
     },
     "metadata": {},
     "output_type": "display_data"
    },
    {
     "data": {
      "image/png": "[encoded data removed]",
      "text/plain": [
       "<matplotlib.figure.Figure at 0x7fc278c47588>"
      ]
     },
     "metadata": {},
     "output_type": "display_data"
    }
   ],
   "source": [
    "x = data_in_box.pickup_latitude\n",
    "y = data_in_box.pickup_longitude\n",
    "\n",
    "H, xedges, yedges = np.histogram2d(x, y, bins=100, normed=False, weights=None)\n",
    "\n",
    "plt.jet()\n",
    "fig = plt.figure(figsize=(20, 10))\n",
    "#ax.set_title('pcolormesh: exact bin edges')\n",
    "X, Y = np.meshgrid(xedges, yedges)\n",
    "mesh = plt.pcolormesh(X, Y, H)\n",
    "plt.colorbar(mesh)\n",
    "#ax.set_aspect('equal')\n",
    "#plt.savefig('figure.pdf', format='pdf')\n",
    "#plt.savefig('figure.png', format='png')\n",
    "\n",
    "## Plot the horizontal / vertival lines here via eventplot\n",
    "plt.hold(True)\n",
    "plt.eventplot(lat_splits, orientation='horizontal', lineoffsets=-73.9,\n",
    "          linelengths=0.2, linewidths=None, color = [[1,0,0]],\n",
    "          linestyles='solid')\n",
    "plt.eventplot(long_splits, orientation='vertical', lineoffsets=40.75,\n",
    "          linelengths=.2, linewidths=None, color = [[1,0,0]],\n",
    "          linestyles='solid')\n",
    "plt.axis([xedges.min(),xedges.max(),yedges.min(),yedges.max()]) # zoom in\n",
    "plt.hold(False)"
   ]
  }
 ],
 "metadata": {
  "kernelspec": {
   "display_name": "Python 3",
   "language": "python",
   "name": "python3"
  },
  "language_info": {
   "codemirror_mode": {
    "name": "ipython",
    "version": 3
   },
   "file_extension": ".py",
   "mimetype": "text/x-python",
   "name": "python",
   "nbconvert_exporter": "python",
   "pygments_lexer": "ipython3",
   "version": "3.5.1"
  }
 },
 "nbformat": 4,
 "nbformat_minor": 0
}
