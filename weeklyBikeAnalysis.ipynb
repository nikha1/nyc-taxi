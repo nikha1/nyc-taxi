{
 "cells": [
  {
   "cell_type": "code",
   "execution_count": 1,
   "metadata": {
    "collapsed": false
   },
   "outputs": [],
   "source": [
    "import os as os\n",
    "import pandas as pd\n",
    "import numpy as np\n",
    "from scipy import stats, integrate\n",
    "import matplotlib.pyplot as plt\n",
    "import matplotlib as mpl\n",
    "import seaborn as sns\n",
    "from statsmodels.distributions.empirical_distribution import ECDF\n",
    "import datetime as dt\n",
    "plt.style.use('seaborn-whitegrid')\n",
    "\n",
    "plt.rcParams['image.cmap'] = 'blue'\n",
    "\n",
    "#sns.set_context('notebook',font_scale=2)\n",
    "sns.set_style(\"whitegrid\")\n",
    "% matplotlib inline\n",
    "labelsize = 22\n",
    "mpl.rcParams.update({'font.size': labelsize})\n",
    "mpl.rcParams.update({'figure.figsize': (20,10)})\n",
    "mpl.rcParams.update({'axes.titlesize': 'large'})\n",
    "mpl.rcParams.update({'axes.labelsize': 'large'})\n",
    "mpl.rcParams.update({'xtick.labelsize': labelsize})\n",
    "mpl.rcParams.update({'ytick.labelsize': labelsize})"
   ]
  },
  {
   "cell_type": "code",
   "execution_count": 2,
   "metadata": {
    "collapsed": false,
    "scrolled": false
   },
   "outputs": [
    {
     "name": "stdout",
     "output_type": "stream",
     "text": [
      "2014-05 - Citi Bike trip data.csv\r\n",
      "bike_20140505_with_dist_and_avg_velo.csv\r\n",
      "bike_20140505_with_dist.csv\r\n",
      "bike_20140505_with_dist_velo.csv\r\n",
      "bike_oneweekfrom20140505.csv\r\n",
      "data_jan13.csv\r\n",
      "README.txt\r\n",
      "Taxi_from_2013-05-06_to_2013-05-13.csv\r\n",
      "Taxi_from_2013-05-06_to_2013-05-13_testset.csv\r\n",
      "Taxi_from_2013-05-06_to_2013-05-13testset.csv\r\n",
      "Taxi_from_2013-05-06_to_2013-05-13_xtrain.csv\r\n",
      "Taxi_from_2013-05-06_to_2013-05-13_ytrain.csv\r\n",
      "taxi_oneweekfrom20130107.csv\r\n",
      "taxi_oneweekfrom20130506.csv\r\n",
      "taxi_oneweekfrom20140505.csv\r\n",
      "taxi_tree_test_X_20130506-12.csv\r\n",
      "taxi_tree_test_X.csv\r\n",
      "taxi_tree_test_Xy_20130506-12.csv\r\n",
      "taxi_tree_test_Xy.csv\r\n",
      "taxi_tree_test_Xy_sample.csv\r\n",
      "taxi_tree_test_y_20130506-12.csv\r\n",
      "taxi_tree_test_y.csv\r\n",
      "_testset.csv\r\n",
      "yellow_tripdata_2013-05.csv\r\n",
      "yellow_tripdata_2014-05.csv\r\n"
     ]
    }
   ],
   "source": [
    "!cd data && ls"
   ]
  },
  {
   "cell_type": "markdown",
   "metadata": {},
   "source": [
    "Use the bash =)"
   ]
  },
  {
   "cell_type": "code",
   "execution_count": 3,
   "metadata": {
    "collapsed": false
   },
   "outputs": [],
   "source": [
    "data = pd.read_csv('data/bike_oneweekfrom20140505.csv', index_col=0, parse_dates=True)"
   ]
  },
  {
   "cell_type": "code",
   "execution_count": 4,
   "metadata": {
    "collapsed": false
   },
   "outputs": [
    {
     "name": "stdout",
     "output_type": "stream",
     "text": [
      "<class 'pandas.core.frame.DataFrame'>\n",
      "Int64Index: 185744 entries, 0 to 185743\n",
      "Data columns (total 15 columns):\n",
      "tripduration               185744 non-null int64\n",
      "starttime                  185744 non-null object\n",
      "stoptime                   185744 non-null object\n",
      "start station id           185744 non-null int64\n",
      "start station name         185744 non-null object\n",
      "start station latitude     185744 non-null float64\n",
      "start station longitude    185744 non-null float64\n",
      "end station id             185744 non-null int64\n",
      "end station name           185744 non-null object\n",
      "end station latitude       185744 non-null float64\n",
      "end station longitude      185744 non-null float64\n",
      "bikeid                     185744 non-null int64\n",
      "usertype                   185744 non-null object\n",
      "birth year                 185744 non-null object\n",
      "gender                     185744 non-null int64\n",
      "dtypes: float64(4), int64(5), object(6)\n",
      "memory usage: 22.7+ MB\n"
     ]
    }
   ],
   "source": [
    "data.info()"
   ]
  },
  {
   "cell_type": "markdown",
   "metadata": {},
   "source": [
    "So parsing doe not work, do it manually:"
   ]
  },
  {
   "cell_type": "code",
   "execution_count": 5,
   "metadata": {
    "collapsed": false
   },
   "outputs": [
    {
     "data": {
      "text/plain": [
       "Index(['tripduration', 'starttime', 'stoptime', 'start station id',\n",
       "       'start station name', 'start station latitude',\n",
       "       'start station longitude', 'end station id', 'end station name',\n",
       "       'end station latitude', 'end station longitude', 'bikeid', 'usertype',\n",
       "       'birth year', 'gender'],\n",
       "      dtype='object')"
      ]
     },
     "execution_count": 5,
     "metadata": {},
     "output_type": "execute_result"
    }
   ],
   "source": [
    "data.columns"
   ]
  },
  {
   "cell_type": "code",
   "execution_count": 6,
   "metadata": {
    "collapsed": true
   },
   "outputs": [],
   "source": [
    "new_column_names = ['trip_time', 'pickup_datetime', 'dropoff_datetime', 'start_station_id',\n",
    "       'start_station_name', 'pickup_latitude',\n",
    "       'pickup_longitude', 'end_station_id', 'end_station_name',\n",
    "       'dropoff_latitude', 'dropoff_longitude', 'bikeid', 'usertype',\n",
    "       'birth year', 'gender']"
   ]
  },
  {
   "cell_type": "code",
   "execution_count": 7,
   "metadata": {
    "collapsed": true
   },
   "outputs": [],
   "source": [
    "data.columns = new_column_names"
   ]
  },
  {
   "cell_type": "code",
   "execution_count": 8,
   "metadata": {
    "collapsed": false
   },
   "outputs": [
    {
     "data": {
      "text/html": [
       "<div>\n",
       "<table border=\"1\" class=\"dataframe\">\n",
       "  <thead>\n",
       "    <tr style=\"text-align: right;\">\n",
       "      <th></th>\n",
       "      <th>trip_time</th>\n",
       "      <th>start_station_id</th>\n",
       "      <th>pickup_latitude</th>\n",
       "      <th>pickup_longitude</th>\n",
       "      <th>end_station_id</th>\n",
       "      <th>dropoff_latitude</th>\n",
       "      <th>dropoff_longitude</th>\n",
       "      <th>bikeid</th>\n",
       "      <th>gender</th>\n",
       "    </tr>\n",
       "  </thead>\n",
       "  <tbody>\n",
       "    <tr>\n",
       "      <th>count</th>\n",
       "      <td>185744.000000</td>\n",
       "      <td>185744.000000</td>\n",
       "      <td>185744.000000</td>\n",
       "      <td>185744.000000</td>\n",
       "      <td>185744.000000</td>\n",
       "      <td>185744.000000</td>\n",
       "      <td>185744.000000</td>\n",
       "      <td>185744.000000</td>\n",
       "      <td>185744.000000</td>\n",
       "    </tr>\n",
       "    <tr>\n",
       "      <th>mean</th>\n",
       "      <td>869.523107</td>\n",
       "      <td>450.726511</td>\n",
       "      <td>40.734630</td>\n",
       "      <td>-73.991079</td>\n",
       "      <td>451.404142</td>\n",
       "      <td>40.734387</td>\n",
       "      <td>-73.991147</td>\n",
       "      <td>18157.530305</td>\n",
       "      <td>1.090598</td>\n",
       "    </tr>\n",
       "    <tr>\n",
       "      <th>std</th>\n",
       "      <td>974.098663</td>\n",
       "      <td>370.232259</td>\n",
       "      <td>0.019489</td>\n",
       "      <td>0.012186</td>\n",
       "      <td>375.448276</td>\n",
       "      <td>0.019530</td>\n",
       "      <td>0.012298</td>\n",
       "      <td>2119.989210</td>\n",
       "      <td>0.550519</td>\n",
       "    </tr>\n",
       "    <tr>\n",
       "      <th>min</th>\n",
       "      <td>60.000000</td>\n",
       "      <td>72.000000</td>\n",
       "      <td>40.680342</td>\n",
       "      <td>-74.017134</td>\n",
       "      <td>72.000000</td>\n",
       "      <td>40.680342</td>\n",
       "      <td>-74.017134</td>\n",
       "      <td>14529.000000</td>\n",
       "      <td>0.000000</td>\n",
       "    </tr>\n",
       "    <tr>\n",
       "      <th>25%</th>\n",
       "      <td>401.000000</td>\n",
       "      <td>304.000000</td>\n",
       "      <td>40.721655</td>\n",
       "      <td>-73.999947</td>\n",
       "      <td>303.000000</td>\n",
       "      <td>40.721101</td>\n",
       "      <td>-74.000040</td>\n",
       "      <td>16315.000000</td>\n",
       "      <td>1.000000</td>\n",
       "    </tr>\n",
       "    <tr>\n",
       "      <th>50%</th>\n",
       "      <td>640.000000</td>\n",
       "      <td>405.000000</td>\n",
       "      <td>40.736494</td>\n",
       "      <td>-73.990765</td>\n",
       "      <td>404.000000</td>\n",
       "      <td>40.736197</td>\n",
       "      <td>-73.990931</td>\n",
       "      <td>18164.000000</td>\n",
       "      <td>1.000000</td>\n",
       "    </tr>\n",
       "    <tr>\n",
       "      <th>75%</th>\n",
       "      <td>1059.000000</td>\n",
       "      <td>490.000000</td>\n",
       "      <td>40.750073</td>\n",
       "      <td>-73.982050</td>\n",
       "      <td>489.000000</td>\n",
       "      <td>40.749718</td>\n",
       "      <td>-73.982050</td>\n",
       "      <td>20005.000000</td>\n",
       "      <td>1.000000</td>\n",
       "    </tr>\n",
       "    <tr>\n",
       "      <th>max</th>\n",
       "      <td>21549.000000</td>\n",
       "      <td>3002.000000</td>\n",
       "      <td>40.771522</td>\n",
       "      <td>-73.953809</td>\n",
       "      <td>3002.000000</td>\n",
       "      <td>40.771522</td>\n",
       "      <td>-73.953809</td>\n",
       "      <td>21679.000000</td>\n",
       "      <td>2.000000</td>\n",
       "    </tr>\n",
       "  </tbody>\n",
       "</table>\n",
       "</div>"
      ],
      "text/plain": [
       "           trip_time  start_station_id  pickup_latitude  pickup_longitude  \\\n",
       "count  185744.000000     185744.000000    185744.000000     185744.000000   \n",
       "mean      869.523107        450.726511        40.734630        -73.991079   \n",
       "std       974.098663        370.232259         0.019489          0.012186   \n",
       "min        60.000000         72.000000        40.680342        -74.017134   \n",
       "25%       401.000000        304.000000        40.721655        -73.999947   \n",
       "50%       640.000000        405.000000        40.736494        -73.990765   \n",
       "75%      1059.000000        490.000000        40.750073        -73.982050   \n",
       "max     21549.000000       3002.000000        40.771522        -73.953809   \n",
       "\n",
       "       end_station_id  dropoff_latitude  dropoff_longitude         bikeid  \\\n",
       "count   185744.000000     185744.000000      185744.000000  185744.000000   \n",
       "mean       451.404142         40.734387         -73.991147   18157.530305   \n",
       "std        375.448276          0.019530           0.012298    2119.989210   \n",
       "min         72.000000         40.680342         -74.017134   14529.000000   \n",
       "25%        303.000000         40.721101         -74.000040   16315.000000   \n",
       "50%        404.000000         40.736197         -73.990931   18164.000000   \n",
       "75%        489.000000         40.749718         -73.982050   20005.000000   \n",
       "max       3002.000000         40.771522         -73.953809   21679.000000   \n",
       "\n",
       "              gender  \n",
       "count  185744.000000  \n",
       "mean        1.090598  \n",
       "std         0.550519  \n",
       "min         0.000000  \n",
       "25%         1.000000  \n",
       "50%         1.000000  \n",
       "75%         1.000000  \n",
       "max         2.000000  "
      ]
     },
     "execution_count": 8,
     "metadata": {},
     "output_type": "execute_result"
    }
   ],
   "source": [
    "data.describe()"
   ]
  },
  {
   "cell_type": "code",
   "execution_count": 9,
   "metadata": {
    "collapsed": false
   },
   "outputs": [],
   "source": [
    "data['pickup_datetime'] =pd.to_datetime(data['pickup_datetime'], format = '%Y-%m-%d %H:%M:%S')\n",
    "data['dropoff_datetime'] =pd.to_datetime(data['dropoff_datetime'], format = '%Y-%m-%d %H:%M:%S')\n",
    "data['trip_time'] = pd.to_timedelta(data['trip_time'], 's')"
   ]
  },
  {
   "cell_type": "code",
   "execution_count": 10,
   "metadata": {
    "collapsed": false
   },
   "outputs": [
    {
     "data": {
      "text/html": [
       "<div>\n",
       "<table border=\"1\" class=\"dataframe\">\n",
       "  <thead>\n",
       "    <tr style=\"text-align: right;\">\n",
       "      <th></th>\n",
       "      <th>count</th>\n",
       "      <th>mean</th>\n",
       "      <th>std</th>\n",
       "      <th>min</th>\n",
       "      <th>25%</th>\n",
       "      <th>50%</th>\n",
       "      <th>75%</th>\n",
       "      <th>max</th>\n",
       "    </tr>\n",
       "  </thead>\n",
       "  <tbody>\n",
       "    <tr>\n",
       "      <th>trip_time</th>\n",
       "      <td>185744</td>\n",
       "      <td>0 days 00:14:29.523107</td>\n",
       "      <td>0 days 00:16:14.098662</td>\n",
       "      <td>0 days 00:01:00</td>\n",
       "      <td>0 days 00:06:41</td>\n",
       "      <td>0 days 00:10:40</td>\n",
       "      <td>0 days 00:17:39</td>\n",
       "      <td>0 days 05:59:09</td>\n",
       "    </tr>\n",
       "    <tr>\n",
       "      <th>start_station_id</th>\n",
       "      <td>185744</td>\n",
       "      <td>450.727</td>\n",
       "      <td>370.232</td>\n",
       "      <td>72</td>\n",
       "      <td>304</td>\n",
       "      <td>405</td>\n",
       "      <td>490</td>\n",
       "      <td>3002</td>\n",
       "    </tr>\n",
       "    <tr>\n",
       "      <th>pickup_latitude</th>\n",
       "      <td>185744</td>\n",
       "      <td>40.7346</td>\n",
       "      <td>0.0194894</td>\n",
       "      <td>40.6803</td>\n",
       "      <td>40.7217</td>\n",
       "      <td>40.7365</td>\n",
       "      <td>40.7501</td>\n",
       "      <td>40.7715</td>\n",
       "    </tr>\n",
       "    <tr>\n",
       "      <th>pickup_longitude</th>\n",
       "      <td>185744</td>\n",
       "      <td>-73.9911</td>\n",
       "      <td>0.012186</td>\n",
       "      <td>-74.0171</td>\n",
       "      <td>-73.9999</td>\n",
       "      <td>-73.9908</td>\n",
       "      <td>-73.9821</td>\n",
       "      <td>-73.9538</td>\n",
       "    </tr>\n",
       "    <tr>\n",
       "      <th>end_station_id</th>\n",
       "      <td>185744</td>\n",
       "      <td>451.404</td>\n",
       "      <td>375.448</td>\n",
       "      <td>72</td>\n",
       "      <td>303</td>\n",
       "      <td>404</td>\n",
       "      <td>489</td>\n",
       "      <td>3002</td>\n",
       "    </tr>\n",
       "    <tr>\n",
       "      <th>dropoff_latitude</th>\n",
       "      <td>185744</td>\n",
       "      <td>40.7344</td>\n",
       "      <td>0.0195297</td>\n",
       "      <td>40.6803</td>\n",
       "      <td>40.7211</td>\n",
       "      <td>40.7362</td>\n",
       "      <td>40.7497</td>\n",
       "      <td>40.7715</td>\n",
       "    </tr>\n",
       "    <tr>\n",
       "      <th>dropoff_longitude</th>\n",
       "      <td>185744</td>\n",
       "      <td>-73.9911</td>\n",
       "      <td>0.0122976</td>\n",
       "      <td>-74.0171</td>\n",
       "      <td>-74</td>\n",
       "      <td>-73.9909</td>\n",
       "      <td>-73.9821</td>\n",
       "      <td>-73.9538</td>\n",
       "    </tr>\n",
       "    <tr>\n",
       "      <th>bikeid</th>\n",
       "      <td>185744</td>\n",
       "      <td>18157.5</td>\n",
       "      <td>2119.99</td>\n",
       "      <td>14529</td>\n",
       "      <td>16315</td>\n",
       "      <td>18164</td>\n",
       "      <td>20005</td>\n",
       "      <td>21679</td>\n",
       "    </tr>\n",
       "    <tr>\n",
       "      <th>gender</th>\n",
       "      <td>185744</td>\n",
       "      <td>1.0906</td>\n",
       "      <td>0.550519</td>\n",
       "      <td>0</td>\n",
       "      <td>1</td>\n",
       "      <td>1</td>\n",
       "      <td>1</td>\n",
       "      <td>2</td>\n",
       "    </tr>\n",
       "  </tbody>\n",
       "</table>\n",
       "</div>"
      ],
      "text/plain": [
       "                    count                    mean                     std  \\\n",
       "trip_time          185744  0 days 00:14:29.523107  0 days 00:16:14.098662   \n",
       "start_station_id   185744                 450.727                 370.232   \n",
       "pickup_latitude    185744                 40.7346               0.0194894   \n",
       "pickup_longitude   185744                -73.9911                0.012186   \n",
       "end_station_id     185744                 451.404                 375.448   \n",
       "dropoff_latitude   185744                 40.7344               0.0195297   \n",
       "dropoff_longitude  185744                -73.9911               0.0122976   \n",
       "bikeid             185744                 18157.5                 2119.99   \n",
       "gender             185744                  1.0906                0.550519   \n",
       "\n",
       "                               min              25%              50%  \\\n",
       "trip_time          0 days 00:01:00  0 days 00:06:41  0 days 00:10:40   \n",
       "start_station_id                72              304              405   \n",
       "pickup_latitude            40.6803          40.7217          40.7365   \n",
       "pickup_longitude          -74.0171         -73.9999         -73.9908   \n",
       "end_station_id                  72              303              404   \n",
       "dropoff_latitude           40.6803          40.7211          40.7362   \n",
       "dropoff_longitude         -74.0171              -74         -73.9909   \n",
       "bikeid                       14529            16315            18164   \n",
       "gender                           0                1                1   \n",
       "\n",
       "                               75%              max  \n",
       "trip_time          0 days 00:17:39  0 days 05:59:09  \n",
       "start_station_id               490             3002  \n",
       "pickup_latitude            40.7501          40.7715  \n",
       "pickup_longitude          -73.9821         -73.9538  \n",
       "end_station_id                 489             3002  \n",
       "dropoff_latitude           40.7497          40.7715  \n",
       "dropoff_longitude         -73.9821         -73.9538  \n",
       "bikeid                       20005            21679  \n",
       "gender                           1                2  "
      ]
     },
     "execution_count": 10,
     "metadata": {},
     "output_type": "execute_result"
    }
   ],
   "source": [
    "data.describe().transpose()"
   ]
  },
  {
   "cell_type": "code",
   "execution_count": 11,
   "metadata": {
    "collapsed": false
   },
   "outputs": [
    {
     "data": {
      "text/html": [
       "<div>\n",
       "<table border=\"1\" class=\"dataframe\">\n",
       "  <thead>\n",
       "    <tr style=\"text-align: right;\">\n",
       "      <th></th>\n",
       "      <th>trip_time</th>\n",
       "      <th>pickup_datetime</th>\n",
       "      <th>dropoff_datetime</th>\n",
       "      <th>start_station_id</th>\n",
       "      <th>start_station_name</th>\n",
       "      <th>pickup_latitude</th>\n",
       "      <th>pickup_longitude</th>\n",
       "      <th>end_station_id</th>\n",
       "      <th>end_station_name</th>\n",
       "      <th>dropoff_latitude</th>\n",
       "      <th>dropoff_longitude</th>\n",
       "      <th>bikeid</th>\n",
       "      <th>usertype</th>\n",
       "      <th>birth year</th>\n",
       "      <th>gender</th>\n",
       "    </tr>\n",
       "  </thead>\n",
       "  <tbody>\n",
       "    <tr>\n",
       "      <th>0</th>\n",
       "      <td>00:04:49</td>\n",
       "      <td>2014-05-05 00:00:14</td>\n",
       "      <td>2014-05-05 00:05:03</td>\n",
       "      <td>495</td>\n",
       "      <td>W 47 St &amp; 10 Ave</td>\n",
       "      <td>40.762699</td>\n",
       "      <td>-73.993012</td>\n",
       "      <td>469</td>\n",
       "      <td>Broadway &amp; W 53 St</td>\n",
       "      <td>40.763441</td>\n",
       "      <td>-73.982681</td>\n",
       "      <td>17039</td>\n",
       "      <td>Subscriber</td>\n",
       "      <td>1986</td>\n",
       "      <td>1</td>\n",
       "    </tr>\n",
       "    <tr>\n",
       "      <th>1</th>\n",
       "      <td>00:17:31</td>\n",
       "      <td>2014-05-05 00:00:19</td>\n",
       "      <td>2014-05-05 00:17:50</td>\n",
       "      <td>281</td>\n",
       "      <td>Grand Army Plaza &amp; Central Park S</td>\n",
       "      <td>40.764397</td>\n",
       "      <td>-73.973715</td>\n",
       "      <td>236</td>\n",
       "      <td>St Marks Pl &amp; 2 Ave</td>\n",
       "      <td>40.728419</td>\n",
       "      <td>-73.987140</td>\n",
       "      <td>17875</td>\n",
       "      <td>Subscriber</td>\n",
       "      <td>1985</td>\n",
       "      <td>1</td>\n",
       "    </tr>\n",
       "    <tr>\n",
       "      <th>2</th>\n",
       "      <td>00:03:57</td>\n",
       "      <td>2014-05-05 00:01:05</td>\n",
       "      <td>2014-05-05 00:05:02</td>\n",
       "      <td>309</td>\n",
       "      <td>Murray St &amp; West St</td>\n",
       "      <td>40.714979</td>\n",
       "      <td>-74.013012</td>\n",
       "      <td>3002</td>\n",
       "      <td>South End Ave &amp; Liberty St</td>\n",
       "      <td>40.711512</td>\n",
       "      <td>-74.015756</td>\n",
       "      <td>18008</td>\n",
       "      <td>Customer</td>\n",
       "      <td>\\N</td>\n",
       "      <td>0</td>\n",
       "    </tr>\n",
       "    <tr>\n",
       "      <th>3</th>\n",
       "      <td>00:08:54</td>\n",
       "      <td>2014-05-05 00:01:12</td>\n",
       "      <td>2014-05-05 00:10:06</td>\n",
       "      <td>151</td>\n",
       "      <td>Cleveland Pl &amp; Spring St</td>\n",
       "      <td>40.721816</td>\n",
       "      <td>-73.997203</td>\n",
       "      <td>345</td>\n",
       "      <td>W 13 St &amp; 6 Ave</td>\n",
       "      <td>40.736494</td>\n",
       "      <td>-73.997044</td>\n",
       "      <td>18237</td>\n",
       "      <td>Subscriber</td>\n",
       "      <td>1983</td>\n",
       "      <td>1</td>\n",
       "    </tr>\n",
       "    <tr>\n",
       "      <th>4</th>\n",
       "      <td>00:04:35</td>\n",
       "      <td>2014-05-05 00:01:16</td>\n",
       "      <td>2014-05-05 00:05:51</td>\n",
       "      <td>173</td>\n",
       "      <td>Broadway &amp; W 49 St</td>\n",
       "      <td>40.760647</td>\n",
       "      <td>-73.984427</td>\n",
       "      <td>449</td>\n",
       "      <td>W 52 St &amp; 9 Ave</td>\n",
       "      <td>40.764618</td>\n",
       "      <td>-73.987895</td>\n",
       "      <td>16607</td>\n",
       "      <td>Subscriber</td>\n",
       "      <td>1985</td>\n",
       "      <td>1</td>\n",
       "    </tr>\n",
       "  </tbody>\n",
       "</table>\n",
       "</div>"
      ],
      "text/plain": [
       "   trip_time     pickup_datetime    dropoff_datetime  start_station_id  \\\n",
       "0   00:04:49 2014-05-05 00:00:14 2014-05-05 00:05:03               495   \n",
       "1   00:17:31 2014-05-05 00:00:19 2014-05-05 00:17:50               281   \n",
       "2   00:03:57 2014-05-05 00:01:05 2014-05-05 00:05:02               309   \n",
       "3   00:08:54 2014-05-05 00:01:12 2014-05-05 00:10:06               151   \n",
       "4   00:04:35 2014-05-05 00:01:16 2014-05-05 00:05:51               173   \n",
       "\n",
       "                  start_station_name  pickup_latitude  pickup_longitude  \\\n",
       "0                   W 47 St & 10 Ave        40.762699        -73.993012   \n",
       "1  Grand Army Plaza & Central Park S        40.764397        -73.973715   \n",
       "2                Murray St & West St        40.714979        -74.013012   \n",
       "3           Cleveland Pl & Spring St        40.721816        -73.997203   \n",
       "4                 Broadway & W 49 St        40.760647        -73.984427   \n",
       "\n",
       "   end_station_id            end_station_name  dropoff_latitude  \\\n",
       "0             469          Broadway & W 53 St         40.763441   \n",
       "1             236         St Marks Pl & 2 Ave         40.728419   \n",
       "2            3002  South End Ave & Liberty St         40.711512   \n",
       "3             345             W 13 St & 6 Ave         40.736494   \n",
       "4             449             W 52 St & 9 Ave         40.764618   \n",
       "\n",
       "   dropoff_longitude  bikeid    usertype birth year  gender  \n",
       "0         -73.982681   17039  Subscriber       1986       1  \n",
       "1         -73.987140   17875  Subscriber       1985       1  \n",
       "2         -74.015756   18008    Customer         \\N       0  \n",
       "3         -73.997044   18237  Subscriber       1983       1  \n",
       "4         -73.987895   16607  Subscriber       1985       1  "
      ]
     },
     "execution_count": 11,
     "metadata": {},
     "output_type": "execute_result"
    }
   ],
   "source": [
    "data.head()"
   ]
  },
  {
   "cell_type": "code",
   "execution_count": 12,
   "metadata": {
    "collapsed": false
   },
   "outputs": [
    {
     "name": "stdout",
     "output_type": "stream",
     "text": [
      "<class 'pandas.core.frame.DataFrame'>\n",
      "Int64Index: 185744 entries, 0 to 185743\n",
      "Data columns (total 15 columns):\n",
      "trip_time             185744 non-null timedelta64[ns]\n",
      "pickup_datetime       185744 non-null datetime64[ns]\n",
      "dropoff_datetime      185744 non-null datetime64[ns]\n",
      "start_station_id      185744 non-null int64\n",
      "start_station_name    185744 non-null object\n",
      "pickup_latitude       185744 non-null float64\n",
      "pickup_longitude      185744 non-null float64\n",
      "end_station_id        185744 non-null int64\n",
      "end_station_name      185744 non-null object\n",
      "dropoff_latitude      185744 non-null float64\n",
      "dropoff_longitude     185744 non-null float64\n",
      "bikeid                185744 non-null int64\n",
      "usertype              185744 non-null object\n",
      "birth year            185744 non-null object\n",
      "gender                185744 non-null int64\n",
      "dtypes: datetime64[ns](2), float64(4), int64(4), object(4), timedelta64[ns](1)\n",
      "memory usage: 22.7+ MB\n"
     ]
    }
   ],
   "source": [
    "data.info()"
   ]
  },
  {
   "cell_type": "code",
   "execution_count": 13,
   "metadata": {
    "collapsed": false
   },
   "outputs": [
    {
     "name": "stdout",
     "output_type": "stream",
     "text": [
      "Amount of stations: 326\n"
     ]
    },
    {
     "data": {
      "text/plain": [
       "<matplotlib.text.Text at 0x7f85da3323c8>"
      ]
     },
     "execution_count": 13,
     "metadata": {},
     "output_type": "execute_result"
    },
    {
     "data": {
      "image/png": "[encoded data removed]",
      "text/plain": [
       "<matplotlib.figure.Figure at 0x7f85db2879b0>"
      ]
     },
     "metadata": {},
     "output_type": "display_data"
    }
   ],
   "source": [
    "group_by_start = data.groupby(data.start_station_id, )\n",
    "usage_freq = group_by_start.trip_time.count()\n",
    "print('Amount of stations: ' + str(len(usage_freq)))\n",
    "plt.hist(usage_freq, bins = 50)\n",
    "plt.title('Frequency of starts from start stations')"
   ]
  },
  {
   "cell_type": "markdown",
   "metadata": {},
   "source": [
    "Return the most frequently visited stations."
   ]
  },
  {
   "cell_type": "code",
   "execution_count": 14,
   "metadata": {
    "collapsed": false
   },
   "outputs": [
    {
     "data": {
      "text/plain": [
       "Index(['Greenwich Ave & 8 Ave', 'Broadway & W 24 St', '8 Ave & W 33 St',\n",
       "       'Broadway & E 14 St', 'W 21 St & 6 Ave', 'West St & Chambers St',\n",
       "       'E 17 St & Broadway', 'Lafayette St & E 8 St', '8 Ave & W 31 St',\n",
       "       'E 42 St & Vanderbilt Ave'],\n",
       "      dtype='object', name='start_station_name')"
      ]
     },
     "execution_count": 14,
     "metadata": {},
     "output_type": "execute_result"
    }
   ],
   "source": [
    "group_by_start_name = data.groupby(data.start_station_name, )\n",
    "usage_freq_name = group_by_start_name.trip_time.count()\n",
    "usage_freq_name.sort_values().keys()[-10:]"
   ]
  },
  {
   "cell_type": "code",
   "execution_count": 15,
   "metadata": {
    "collapsed": false
   },
   "outputs": [
    {
     "data": {
      "text/plain": [
       "Index(['Clinton Ave & Flushing Ave', 'Railroad Ave & Kay Ave',\n",
       "       'Hanover Pl & Livingston St', 'Park Ave & St Edwards St',\n",
       "       'Monroe St & Classon Ave', 'Sands St & Navy St',\n",
       "       'Bedford Ave & S 9th St', 'DeKalb Ave & Skillman St',\n",
       "       'Carlton Ave & Park Ave', 'Gallatin Pl & Livingston St',\n",
       "       ...\n",
       "       'Greenwich Ave & 8 Ave', 'Broadway & W 24 St', '8 Ave & W 33 St',\n",
       "       'Broadway & E 14 St', 'W 21 St & 6 Ave', 'West St & Chambers St',\n",
       "       'E 17 St & Broadway', 'Lafayette St & E 8 St', '8 Ave & W 31 St',\n",
       "       'E 42 St & Vanderbilt Ave'],\n",
       "      dtype='object', name='start_station_name', length=326)"
      ]
     },
     "execution_count": 15,
     "metadata": {},
     "output_type": "execute_result"
    }
   ],
   "source": [
    "usage_freq_name.sort_values().keys()"
   ]
  },
  {
   "cell_type": "markdown",
   "metadata": {},
   "source": [
    "So we have 326 different start stations."
   ]
  },
  {
   "cell_type": "code",
   "execution_count": 16,
   "metadata": {
    "collapsed": false
   },
   "outputs": [
    {
     "data": {
      "text/plain": [
       "Index(['Railroad Ave & Kay Ave', 'Clinton Ave & Flushing Ave',\n",
       "       'Greenwich St & N Moore St', 'Hanover Pl & Livingston St',\n",
       "       'Park Ave & St Edwards St', 'Sands St & Navy St',\n",
       "       'Monroe St & Classon Ave', 'Bedford Ave & S 9th St',\n",
       "       'Carlton Ave & Park Ave', 'E 4 St & 2 Ave',\n",
       "       ...\n",
       "       'Broadway & W 24 St', 'Broadway & W 60 St', 'University Pl & E 14 St',\n",
       "       'Greenwich Ave & 8 Ave', 'W 21 St & 6 Ave', 'E 42 St & Vanderbilt Ave',\n",
       "       'West St & Chambers St', 'Lafayette St & E 8 St', 'E 17 St & Broadway',\n",
       "       '8 Ave & W 31 St'],\n",
       "      dtype='object', name='end_station_name', length=326)"
      ]
     },
     "execution_count": 16,
     "metadata": {},
     "output_type": "execute_result"
    }
   ],
   "source": [
    "group_by_end_name = data.groupby(data.end_station_name, )\n",
    "usage_freq_name = group_by_end_name.trip_time.count()\n",
    "usage_freq_name.sort_values().keys()"
   ]
  },
  {
   "cell_type": "markdown",
   "metadata": {},
   "source": [
    "We have 326 different end stations, too. But are all end_stations contained in start_stations and vive versa? "
   ]
  },
  {
   "cell_type": "code",
   "execution_count": 17,
   "metadata": {
    "collapsed": false
   },
   "outputs": [
    {
     "data": {
      "text/plain": [
       "326"
      ]
     },
     "execution_count": 17,
     "metadata": {},
     "output_type": "execute_result"
    }
   ],
   "source": [
    "group_by_start_id = data.groupby(data.start_station_id, )\n",
    "start_ids = group_by_start_id.trip_time.count().sort_values().keys()\n",
    "group_by_end_id = data.groupby(data.end_station_id, )\n",
    "end_ids = group_by_end_id.trip_time.count().sort_values().keys()\n",
    "len(set(start_ids).intersection(end_ids))"
   ]
  },
  {
   "cell_type": "markdown",
   "metadata": {},
   "source": [
    "So this is the proof, that all stations are used as start and end stations."
   ]
  },
  {
   "cell_type": "markdown",
   "metadata": {},
   "source": [
    "# Check for missing and false data:"
   ]
  },
  {
   "cell_type": "code",
   "execution_count": 18,
   "metadata": {
    "collapsed": false
   },
   "outputs": [
    {
     "data": {
      "text/plain": [
       "trip_time             0\n",
       "pickup_datetime       0\n",
       "dropoff_datetime      0\n",
       "start_station_id      0\n",
       "start_station_name    0\n",
       "pickup_latitude       0\n",
       "pickup_longitude      0\n",
       "end_station_id        0\n",
       "end_station_name      0\n",
       "dropoff_latitude      0\n",
       "dropoff_longitude     0\n",
       "bikeid                0\n",
       "usertype              0\n",
       "birth year            0\n",
       "gender                0\n",
       "dtype: int64"
      ]
     },
     "execution_count": 18,
     "metadata": {},
     "output_type": "execute_result"
    }
   ],
   "source": [
    "data.isnull().sum()"
   ]
  },
  {
   "cell_type": "markdown",
   "metadata": {},
   "source": [
    "So there is not that much data missing. That's quite surprising, maybe it's wrong."
   ]
  },
  {
   "cell_type": "code",
   "execution_count": 19,
   "metadata": {
    "collapsed": false
   },
   "outputs": [
    {
     "data": {
      "text/plain": [
       "trip_time                 0\n",
       "pickup_datetime           0\n",
       "dropoff_datetime          0\n",
       "start_station_id          0\n",
       "start_station_name        0\n",
       "pickup_latitude           0\n",
       "pickup_longitude          0\n",
       "end_station_id            0\n",
       "end_station_name          0\n",
       "dropoff_latitude          0\n",
       "dropoff_longitude         0\n",
       "bikeid                    0\n",
       "usertype                  0\n",
       "birth year                0\n",
       "gender                20495\n",
       "dtype: int64"
      ]
     },
     "execution_count": 19,
     "metadata": {},
     "output_type": "execute_result"
    }
   ],
   "source": [
    "(data==0).sum()"
   ]
  },
  {
   "cell_type": "markdown",
   "metadata": {},
   "source": [
    "So we only have many zeros in the gender-feature. But gender is a binary variable, therefore a 0 is not equal to NA."
   ]
  },
  {
   "cell_type": "markdown",
   "metadata": {},
   "source": [
    "Quick pverview about the trip_times"
   ]
  },
  {
   "cell_type": "code",
   "execution_count": 20,
   "metadata": {
    "collapsed": false
   },
   "outputs": [
    {
     "data": {
      "image/png": "[encoded data removed]",
      "text/plain": [
       "<matplotlib.figure.Figure at 0x7f861054e518>"
      ]
     },
     "metadata": {},
     "output_type": "display_data"
    }
   ],
   "source": [
    "plt.hist((data['trip_time'] / np.timedelta64(1, 'm')), bins=30, range=[0, 100])\n",
    "plt.title('Distribution of trip_time in minutes')\n",
    "plt.xlabel('trip_time')\n",
    "plt.ylabel('frequency')\n",
    "plt.savefig('figures/bike_trip_time.png', format='png', dpi=300)"
   ]
  },
  {
   "cell_type": "markdown",
   "metadata": {},
   "source": [
    "We are interested in the trip time in minutes."
   ]
  },
  {
   "cell_type": "code",
   "execution_count": 21,
   "metadata": {
    "collapsed": false
   },
   "outputs": [
    {
     "data": {
      "text/plain": [
       "<matplotlib.axes._subplots.AxesSubplot at 0x7f85d9f30dd8>"
      ]
     },
     "execution_count": 21,
     "metadata": {},
     "output_type": "execute_result"
    },
    {
     "data": {
      "image/png": "[encoded data removed]",
      "text/plain": [
       "<matplotlib.figure.Figure at 0x7f85d9f58c50>"
      ]
     },
     "metadata": {},
     "output_type": "display_data"
    }
   ],
   "source": [
    "sns.boxplot((data['trip_time'] / np.timedelta64(1, 'm')))"
   ]
  },
  {
   "cell_type": "markdown",
   "metadata": {},
   "source": [
    "We have lots of outliers."
   ]
  },
  {
   "cell_type": "markdown",
   "metadata": {},
   "source": [
    "So as we can see, we have many outliers."
   ]
  },
  {
   "cell_type": "code",
   "execution_count": 22,
   "metadata": {
    "collapsed": false
   },
   "outputs": [
    {
     "data": {
      "text/plain": [
       "0.01          00:01:59\n",
       "0.05          00:03:25\n",
       "0.10          00:04:25\n",
       "0.25          00:06:41\n",
       "0.50          00:10:40\n",
       "0.75          00:17:39\n",
       "0.90          00:26:54\n",
       "0.95          00:33:56\n",
       "0.99   01:08:57.570000\n",
       "Name: trip_time, dtype: timedelta64[ns]"
      ]
     },
     "execution_count": 22,
     "metadata": {},
     "output_type": "execute_result"
    }
   ],
   "source": [
    "data.trip_time.quantile([0.01, 0.05, 0.1, 0.25, 0.5, 0.75, 0.9, 0.95, 0.99])"
   ]
  },
  {
   "cell_type": "code",
   "execution_count": 23,
   "metadata": {
    "collapsed": false
   },
   "outputs": [
    {
     "data": {
      "text/plain": [
       "5353"
      ]
     },
     "execution_count": 23,
     "metadata": {},
     "output_type": "execute_result"
    }
   ],
   "source": [
    "len(data.trip_time.value_counts().values)"
   ]
  },
  {
   "cell_type": "markdown",
   "metadata": {},
   "source": [
    "Identify the the cases without geo data and remove them from our data to be processed."
   ]
  },
  {
   "cell_type": "code",
   "execution_count": 24,
   "metadata": {
    "collapsed": true
   },
   "outputs": [],
   "source": [
    "anomaly = data.loc[(data['dropoff_longitude'].isnull()) | (data['dropoff_latitude'].isnull()) | \n",
    "                       (data['pickup_longitude'].isnull()) | (data['pickup_latitude'].isnull())]\n",
    "data = data.drop(anomaly.index)"
   ]
  },
  {
   "cell_type": "code",
   "execution_count": 25,
   "metadata": {
    "collapsed": true
   },
   "outputs": [],
   "source": [
    "anomaly['flag'] = 'geo_NA'"
   ]
  },
  {
   "cell_type": "code",
   "execution_count": 26,
   "metadata": {
    "collapsed": false
   },
   "outputs": [
    {
     "data": {
      "text/plain": [
       "trip_time             0\n",
       "pickup_datetime       0\n",
       "dropoff_datetime      0\n",
       "start_station_id      0\n",
       "start_station_name    0\n",
       "pickup_latitude       0\n",
       "pickup_longitude      0\n",
       "end_station_id        0\n",
       "end_station_name      0\n",
       "dropoff_latitude      0\n",
       "dropoff_longitude     0\n",
       "bikeid                0\n",
       "usertype              0\n",
       "birth year            0\n",
       "gender                0\n",
       "dtype: int64"
      ]
     },
     "execution_count": 26,
     "metadata": {},
     "output_type": "execute_result"
    }
   ],
   "source": [
    "data.isnull().sum()"
   ]
  },
  {
   "cell_type": "markdown",
   "metadata": {},
   "source": [
    "So how many percent of data are left to be processed?"
   ]
  },
  {
   "cell_type": "code",
   "execution_count": 27,
   "metadata": {
    "collapsed": false
   },
   "outputs": [
    {
     "data": {
      "text/plain": [
       "1.0"
      ]
     },
     "execution_count": 27,
     "metadata": {},
     "output_type": "execute_result"
    }
   ],
   "source": [
    "len(data)/(len(data)+len(anomaly))"
   ]
  },
  {
   "cell_type": "code",
   "execution_count": 28,
   "metadata": {
    "collapsed": false
   },
   "outputs": [
    {
     "data": {
      "text/html": [
       "<div>\n",
       "<table border=\"1\" class=\"dataframe\">\n",
       "  <thead>\n",
       "    <tr style=\"text-align: right;\">\n",
       "      <th></th>\n",
       "      <th>trip_time</th>\n",
       "      <th>pickup_datetime</th>\n",
       "      <th>dropoff_datetime</th>\n",
       "      <th>start_station_id</th>\n",
       "      <th>start_station_name</th>\n",
       "      <th>pickup_latitude</th>\n",
       "      <th>pickup_longitude</th>\n",
       "      <th>end_station_id</th>\n",
       "      <th>end_station_name</th>\n",
       "      <th>dropoff_latitude</th>\n",
       "      <th>dropoff_longitude</th>\n",
       "      <th>bikeid</th>\n",
       "      <th>usertype</th>\n",
       "      <th>birth year</th>\n",
       "      <th>gender</th>\n",
       "      <th>flag</th>\n",
       "    </tr>\n",
       "  </thead>\n",
       "  <tbody>\n",
       "  </tbody>\n",
       "</table>\n",
       "</div>"
      ],
      "text/plain": [
       "Empty DataFrame\n",
       "Columns: [trip_time, pickup_datetime, dropoff_datetime, start_station_id, start_station_name, pickup_latitude, pickup_longitude, end_station_id, end_station_name, dropoff_latitude, dropoff_longitude, bikeid, usertype, birth year, gender, flag]\n",
       "Index: []"
      ]
     },
     "execution_count": 28,
     "metadata": {},
     "output_type": "execute_result"
    }
   ],
   "source": [
    "anomaly.tail()"
   ]
  },
  {
   "cell_type": "markdown",
   "metadata": {},
   "source": [
    "# <font color = 'blue'> So we dropped nothing because of missing geo tags. </font color>"
   ]
  },
  {
   "cell_type": "code",
   "execution_count": 29,
   "metadata": {
    "collapsed": false
   },
   "outputs": [
    {
     "data": {
      "text/plain": [
       "(array([  1886.,  12429.,  23265.,  25474.,  22858.,  18987.,  14736.,\n",
       "         11772.,   9414.,   7721.,   6635.,   5540.,   4620.,   3809.,\n",
       "          3101.,   2403.,   1852.,   1427.,   1223.,    958.,    755.,\n",
       "           558.,    395.,    337.,    307.,    247.,    231.,    180.,\n",
       "           141.,    134.,    124.,    122.,    134.,     72.,     84.,\n",
       "            67.,     79.,     63.,     59.,     71.,     61.,     59.,\n",
       "            42.,     47.,     37.,     37.,     41.,     47.,     38.,\n",
       "            43.]),\n",
       " array([   0.,    2.,    4.,    6.,    8.,   10.,   12.,   14.,   16.,\n",
       "          18.,   20.,   22.,   24.,   26.,   28.,   30.,   32.,   34.,\n",
       "          36.,   38.,   40.,   42.,   44.,   46.,   48.,   50.,   52.,\n",
       "          54.,   56.,   58.,   60.,   62.,   64.,   66.,   68.,   70.,\n",
       "          72.,   74.,   76.,   78.,   80.,   82.,   84.,   86.,   88.,\n",
       "          90.,   92.,   94.,   96.,   98.,  100.]),\n",
       " <a list of 50 Patch objects>)"
      ]
     },
     "execution_count": 29,
     "metadata": {},
     "output_type": "execute_result"
    },
    {
     "data": {
      "image/png": "[encoded data removed]",
      "text/plain": [
       "<matplotlib.figure.Figure at 0x7f85dbb98748>"
      ]
     },
     "metadata": {},
     "output_type": "display_data"
    }
   ],
   "source": [
    "plt.hist(data.trip_time.values / np.timedelta64(1, 'm'), bins=50, range=[0,100])"
   ]
  },
  {
   "cell_type": "markdown",
   "metadata": {},
   "source": [
    "# We sometimes have some unreasonably small trip_times."
   ]
  },
  {
   "cell_type": "markdown",
   "metadata": {},
   "source": [
    "Calculate the distance of a trip. Use the difference of lon / lat data and parse it to metrics."
   ]
  },
  {
   "cell_type": "code",
   "execution_count": 30,
   "metadata": {
    "collapsed": true
   },
   "outputs": [],
   "source": [
    "data['trip_dist'] = -1 # Init trip_dist"
   ]
  },
  {
   "cell_type": "code",
   "execution_count": 31,
   "metadata": {
    "collapsed": false
   },
   "outputs": [],
   "source": [
    "# inpout for vincenty:(location.latitude, location.longitude)\n",
    "from geopy.distance import vincenty\n",
    "for i in range(0, (len(data)-1)):\n",
    "    pickup = (data.iloc[i]['pickup_latitude'], data.iloc[i]['pickup_longitude'])\n",
    "    dropoff = (data.iloc[i]['dropoff_latitude'], data.iloc[i]['dropoff_longitude'])\n",
    "    data.set_value(i, 'trip_dist', vincenty(pickup,dropoff).meters)"
   ]
  },
  {
   "cell_type": "markdown",
   "metadata": {},
   "source": [
    "# <font color = 'red'> This operation is quite slow! </font color>"
   ]
  },
  {
   "cell_type": "code",
   "execution_count": 32,
   "metadata": {
    "collapsed": false
   },
   "outputs": [
    {
     "data": {
      "text/plain": [
       "0          876\n",
       "1         4153\n",
       "2          449\n",
       "3         1630\n",
       "4          529\n",
       "5          760\n",
       "6         1332\n",
       "7         2297\n",
       "8          689\n",
       "9         1371\n",
       "10        2358\n",
       "11         558\n",
       "12        4488\n",
       "13        2146\n",
       "14        2803\n",
       "15        1291\n",
       "16         446\n",
       "17        1721\n",
       "18        2882\n",
       "19         674\n",
       "20         927\n",
       "21        3635\n",
       "22        2168\n",
       "23         887\n",
       "24         810\n",
       "25         706\n",
       "26         810\n",
       "27        1491\n",
       "28        1003\n",
       "29         935\n",
       "          ... \n",
       "185714       0\n",
       "185715     552\n",
       "185716    2067\n",
       "185717    1646\n",
       "185718     535\n",
       "185719     722\n",
       "185720     366\n",
       "185721     565\n",
       "185722    1839\n",
       "185723     809\n",
       "185724       0\n",
       "185725    1682\n",
       "185726    1348\n",
       "185727    1244\n",
       "185728     739\n",
       "185729    1314\n",
       "185730    1154\n",
       "185731    1694\n",
       "185732    1896\n",
       "185733    1061\n",
       "185734    1208\n",
       "185735     919\n",
       "185736    1187\n",
       "185737     285\n",
       "185738     285\n",
       "185739     831\n",
       "185740     908\n",
       "185741    1273\n",
       "185742     906\n",
       "185743      -1\n",
       "Name: trip_dist, dtype: int64"
      ]
     },
     "execution_count": 32,
     "metadata": {},
     "output_type": "execute_result"
    }
   ],
   "source": [
    "data.trip_dist"
   ]
  },
  {
   "cell_type": "markdown",
   "metadata": {},
   "source": [
    "We cannot use miles because vincenty ceils / floors the results"
   ]
  },
  {
   "cell_type": "code",
   "execution_count": 33,
   "metadata": {
    "collapsed": false
   },
   "outputs": [
    {
     "data": {
      "text/plain": [
       "Index(['trip_time', 'pickup_datetime', 'dropoff_datetime', 'start_station_id',\n",
       "       'start_station_name', 'pickup_latitude', 'pickup_longitude',\n",
       "       'end_station_id', 'end_station_name', 'dropoff_latitude',\n",
       "       'dropoff_longitude', 'bikeid', 'usertype', 'birth year', 'gender',\n",
       "       'trip_dist'],\n",
       "      dtype='object')"
      ]
     },
     "execution_count": 33,
     "metadata": {},
     "output_type": "execute_result"
    }
   ],
   "source": [
    "data.columns"
   ]
  },
  {
   "cell_type": "markdown",
   "metadata": {},
   "source": [
    "Check if new column is present"
   ]
  },
  {
   "cell_type": "code",
   "execution_count": 34,
   "metadata": {
    "collapsed": true
   },
   "outputs": [],
   "source": [
    "data.to_csv('data/bike_20140505_with_dist.csv')"
   ]
  },
  {
   "cell_type": "code",
   "execution_count": 35,
   "metadata": {
    "collapsed": false
   },
   "outputs": [],
   "source": [
    "data['avg_velocity'] = data.trip_dist.values/(data.trip_time / (np.timedelta64(1, 'h')))"
   ]
  },
  {
   "cell_type": "code",
   "execution_count": 36,
   "metadata": {
    "collapsed": false
   },
   "outputs": [
    {
     "data": {
      "text/plain": [
       "0         10912.110727\n",
       "1         14225.309229\n",
       "2          6820.253165\n",
       "3         10988.764045\n",
       "4          6925.090909\n",
       "5          8658.227848\n",
       "6         12787.200000\n",
       "7         13713.432836\n",
       "8          9119.117647\n",
       "9          7466.868381\n",
       "10         7867.284523\n",
       "11         9611.483254\n",
       "12        10785.580774\n",
       "13         6966.275924\n",
       "14         9628.625954\n",
       "15        11199.036145\n",
       "16         9122.727273\n",
       "17        11388.970588\n",
       "18        13963.930013\n",
       "19         8543.661972\n",
       "20        13565.853659\n",
       "21        11061.707523\n",
       "22        11086.363636\n",
       "23         5357.718121\n",
       "24         9112.500000\n",
       "25         7241.025641\n",
       "26         9286.624204\n",
       "27         3029.119639\n",
       "28        13035.379061\n",
       "29         9402.234637\n",
       "              ...     \n",
       "185714        0.000000\n",
       "185715     4445.637584\n",
       "185716    11554.658385\n",
       "185717     8417.045455\n",
       "185718     8754.545455\n",
       "185719     6203.341289\n",
       "185720    11870.270270\n",
       "185721     6647.058824\n",
       "185722     8631.551499\n",
       "185723     8321.142857\n",
       "185724        0.000000\n",
       "185725    12883.404255\n",
       "185726    11637.410072\n",
       "185727     8514.068441\n",
       "185728     6964.397906\n",
       "185729    13751.162791\n",
       "185730    12861.919505\n",
       "185731    11818.604651\n",
       "185732    11376.000000\n",
       "185733    10493.406593\n",
       "185734    10090.023202\n",
       "185735    10603.846154\n",
       "185736    14102.970297\n",
       "185737     4909.090909\n",
       "185738     5428.571429\n",
       "185739     7404.950495\n",
       "185740    16763.076923\n",
       "185741    13639.285714\n",
       "185742     9678.338279\n",
       "185743      -10.495627\n",
       "Name: avg_velocity, dtype: float64"
      ]
     },
     "execution_count": 36,
     "metadata": {},
     "output_type": "execute_result"
    }
   ],
   "source": [
    "data.avg_velocity"
   ]
  },
  {
   "cell_type": "markdown",
   "metadata": {},
   "source": [
    "Parse to km/h"
   ]
  },
  {
   "cell_type": "code",
   "execution_count": 37,
   "metadata": {
    "collapsed": false
   },
   "outputs": [],
   "source": [
    "data.avg_velocity = data.avg_velocity/1000"
   ]
  },
  {
   "cell_type": "code",
   "execution_count": 38,
   "metadata": {
    "collapsed": false
   },
   "outputs": [
    {
     "data": {
      "text/plain": [
       "0         10.912111\n",
       "1         14.225309\n",
       "2          6.820253\n",
       "3         10.988764\n",
       "4          6.925091\n",
       "5          8.658228\n",
       "6         12.787200\n",
       "7         13.713433\n",
       "8          9.119118\n",
       "9          7.466868\n",
       "10         7.867285\n",
       "11         9.611483\n",
       "12        10.785581\n",
       "13         6.966276\n",
       "14         9.628626\n",
       "15        11.199036\n",
       "16         9.122727\n",
       "17        11.388971\n",
       "18        13.963930\n",
       "19         8.543662\n",
       "20        13.565854\n",
       "21        11.061708\n",
       "22        11.086364\n",
       "23         5.357718\n",
       "24         9.112500\n",
       "25         7.241026\n",
       "26         9.286624\n",
       "27         3.029120\n",
       "28        13.035379\n",
       "29         9.402235\n",
       "            ...    \n",
       "185714     0.000000\n",
       "185715     4.445638\n",
       "185716    11.554658\n",
       "185717     8.417045\n",
       "185718     8.754545\n",
       "185719     6.203341\n",
       "185720    11.870270\n",
       "185721     6.647059\n",
       "185722     8.631551\n",
       "185723     8.321143\n",
       "185724     0.000000\n",
       "185725    12.883404\n",
       "185726    11.637410\n",
       "185727     8.514068\n",
       "185728     6.964398\n",
       "185729    13.751163\n",
       "185730    12.861920\n",
       "185731    11.818605\n",
       "185732    11.376000\n",
       "185733    10.493407\n",
       "185734    10.090023\n",
       "185735    10.603846\n",
       "185736    14.102970\n",
       "185737     4.909091\n",
       "185738     5.428571\n",
       "185739     7.404950\n",
       "185740    16.763077\n",
       "185741    13.639286\n",
       "185742     9.678338\n",
       "185743    -0.010496\n",
       "Name: avg_velocity, dtype: float64"
      ]
     },
     "execution_count": 38,
     "metadata": {},
     "output_type": "execute_result"
    }
   ],
   "source": [
    "data.avg_velocity"
   ]
  },
  {
   "cell_type": "markdown",
   "metadata": {},
   "source": [
    "Convert avg_velocity from km/h to miles/h. (1km = 0,621371 miles)"
   ]
  },
  {
   "cell_type": "code",
   "execution_count": 39,
   "metadata": {
    "collapsed": true
   },
   "outputs": [],
   "source": [
    "data['avg_velocity'] = data.avg_velocity*0.627371"
   ]
  },
  {
   "cell_type": "code",
   "execution_count": 40,
   "metadata": {
    "collapsed": true
   },
   "outputs": [],
   "source": [
    "data.to_csv('data/bike_20140505_with_dist_and_avg_velo.csv')"
   ]
  },
  {
   "cell_type": "code",
   "execution_count": 41,
   "metadata": {
    "collapsed": false
   },
   "outputs": [
    {
     "data": {
      "image/png": "[encoded data removed]",
      "text/plain": [
       "<matplotlib.figure.Figure at 0x7f85db9cea20>"
      ]
     },
     "metadata": {},
     "output_type": "display_data"
    }
   ],
   "source": [
    "plt.hist(data.avg_velocity, bins=60, range=[0,15])\n",
    "plt.title('Distribution of avg_velocity in mph')\n",
    "plt.xlabel('avg_velocity')\n",
    "plt.ylabel('frequency')\n",
    "plt.savefig('figures/bike_avg_vel.png', format='png', dpi=300)"
   ]
  },
  {
   "cell_type": "code",
   "execution_count": 42,
   "metadata": {
    "collapsed": false
   },
   "outputs": [
    {
     "data": {
      "text/plain": [
       "count    185744.000000\n",
       "mean          5.149069\n",
       "std           2.023218\n",
       "min          -0.006585\n",
       "25%           4.068203\n",
       "50%           5.306131\n",
       "75%           6.457503\n",
       "max          29.006050\n",
       "Name: avg_velocity, dtype: float64"
      ]
     },
     "execution_count": 42,
     "metadata": {},
     "output_type": "execute_result"
    }
   ],
   "source": [
    "data.avg_velocity.describe() # in mph"
   ]
  },
  {
   "cell_type": "code",
   "execution_count": 43,
   "metadata": {
    "collapsed": false
   },
   "outputs": [
    {
     "data": {
      "text/html": [
       "<div>\n",
       "<table border=\"1\" class=\"dataframe\">\n",
       "  <thead>\n",
       "    <tr style=\"text-align: right;\">\n",
       "      <th></th>\n",
       "      <th>trip_time</th>\n",
       "      <th>pickup_datetime</th>\n",
       "      <th>dropoff_datetime</th>\n",
       "      <th>start_station_id</th>\n",
       "      <th>start_station_name</th>\n",
       "      <th>pickup_latitude</th>\n",
       "      <th>pickup_longitude</th>\n",
       "      <th>end_station_id</th>\n",
       "      <th>end_station_name</th>\n",
       "      <th>dropoff_latitude</th>\n",
       "      <th>dropoff_longitude</th>\n",
       "      <th>bikeid</th>\n",
       "      <th>usertype</th>\n",
       "      <th>birth year</th>\n",
       "      <th>gender</th>\n",
       "      <th>trip_dist</th>\n",
       "      <th>avg_velocity</th>\n",
       "    </tr>\n",
       "  </thead>\n",
       "  <tbody>\n",
       "    <tr>\n",
       "      <th>0</th>\n",
       "      <td>00:04:49</td>\n",
       "      <td>2014-05-05 00:00:14</td>\n",
       "      <td>2014-05-05 00:05:03</td>\n",
       "      <td>495</td>\n",
       "      <td>W 47 St &amp; 10 Ave</td>\n",
       "      <td>40.762699</td>\n",
       "      <td>-73.993012</td>\n",
       "      <td>469</td>\n",
       "      <td>Broadway &amp; W 53 St</td>\n",
       "      <td>40.763441</td>\n",
       "      <td>-73.982681</td>\n",
       "      <td>17039</td>\n",
       "      <td>Subscriber</td>\n",
       "      <td>1986</td>\n",
       "      <td>1</td>\n",
       "      <td>876</td>\n",
       "      <td>6.845942</td>\n",
       "    </tr>\n",
       "    <tr>\n",
       "      <th>1</th>\n",
       "      <td>00:17:31</td>\n",
       "      <td>2014-05-05 00:00:19</td>\n",
       "      <td>2014-05-05 00:17:50</td>\n",
       "      <td>281</td>\n",
       "      <td>Grand Army Plaza &amp; Central Park S</td>\n",
       "      <td>40.764397</td>\n",
       "      <td>-73.973715</td>\n",
       "      <td>236</td>\n",
       "      <td>St Marks Pl &amp; 2 Ave</td>\n",
       "      <td>40.728419</td>\n",
       "      <td>-73.987140</td>\n",
       "      <td>17875</td>\n",
       "      <td>Subscriber</td>\n",
       "      <td>1985</td>\n",
       "      <td>1</td>\n",
       "      <td>4153</td>\n",
       "      <td>8.924546</td>\n",
       "    </tr>\n",
       "    <tr>\n",
       "      <th>2</th>\n",
       "      <td>00:03:57</td>\n",
       "      <td>2014-05-05 00:01:05</td>\n",
       "      <td>2014-05-05 00:05:02</td>\n",
       "      <td>309</td>\n",
       "      <td>Murray St &amp; West St</td>\n",
       "      <td>40.714979</td>\n",
       "      <td>-74.013012</td>\n",
       "      <td>3002</td>\n",
       "      <td>South End Ave &amp; Liberty St</td>\n",
       "      <td>40.711512</td>\n",
       "      <td>-74.015756</td>\n",
       "      <td>18008</td>\n",
       "      <td>Customer</td>\n",
       "      <td>\\N</td>\n",
       "      <td>0</td>\n",
       "      <td>449</td>\n",
       "      <td>4.278829</td>\n",
       "    </tr>\n",
       "    <tr>\n",
       "      <th>3</th>\n",
       "      <td>00:08:54</td>\n",
       "      <td>2014-05-05 00:01:12</td>\n",
       "      <td>2014-05-05 00:10:06</td>\n",
       "      <td>151</td>\n",
       "      <td>Cleveland Pl &amp; Spring St</td>\n",
       "      <td>40.721816</td>\n",
       "      <td>-73.997203</td>\n",
       "      <td>345</td>\n",
       "      <td>W 13 St &amp; 6 Ave</td>\n",
       "      <td>40.736494</td>\n",
       "      <td>-73.997044</td>\n",
       "      <td>18237</td>\n",
       "      <td>Subscriber</td>\n",
       "      <td>1983</td>\n",
       "      <td>1</td>\n",
       "      <td>1630</td>\n",
       "      <td>6.894032</td>\n",
       "    </tr>\n",
       "    <tr>\n",
       "      <th>4</th>\n",
       "      <td>00:04:35</td>\n",
       "      <td>2014-05-05 00:01:16</td>\n",
       "      <td>2014-05-05 00:05:51</td>\n",
       "      <td>173</td>\n",
       "      <td>Broadway &amp; W 49 St</td>\n",
       "      <td>40.760647</td>\n",
       "      <td>-73.984427</td>\n",
       "      <td>449</td>\n",
       "      <td>W 52 St &amp; 9 Ave</td>\n",
       "      <td>40.764618</td>\n",
       "      <td>-73.987895</td>\n",
       "      <td>16607</td>\n",
       "      <td>Subscriber</td>\n",
       "      <td>1985</td>\n",
       "      <td>1</td>\n",
       "      <td>529</td>\n",
       "      <td>4.344601</td>\n",
       "    </tr>\n",
       "  </tbody>\n",
       "</table>\n",
       "</div>"
      ],
      "text/plain": [
       "   trip_time     pickup_datetime    dropoff_datetime  start_station_id  \\\n",
       "0   00:04:49 2014-05-05 00:00:14 2014-05-05 00:05:03               495   \n",
       "1   00:17:31 2014-05-05 00:00:19 2014-05-05 00:17:50               281   \n",
       "2   00:03:57 2014-05-05 00:01:05 2014-05-05 00:05:02               309   \n",
       "3   00:08:54 2014-05-05 00:01:12 2014-05-05 00:10:06               151   \n",
       "4   00:04:35 2014-05-05 00:01:16 2014-05-05 00:05:51               173   \n",
       "\n",
       "                  start_station_name  pickup_latitude  pickup_longitude  \\\n",
       "0                   W 47 St & 10 Ave        40.762699        -73.993012   \n",
       "1  Grand Army Plaza & Central Park S        40.764397        -73.973715   \n",
       "2                Murray St & West St        40.714979        -74.013012   \n",
       "3           Cleveland Pl & Spring St        40.721816        -73.997203   \n",
       "4                 Broadway & W 49 St        40.760647        -73.984427   \n",
       "\n",
       "   end_station_id            end_station_name  dropoff_latitude  \\\n",
       "0             469          Broadway & W 53 St         40.763441   \n",
       "1             236         St Marks Pl & 2 Ave         40.728419   \n",
       "2            3002  South End Ave & Liberty St         40.711512   \n",
       "3             345             W 13 St & 6 Ave         40.736494   \n",
       "4             449             W 52 St & 9 Ave         40.764618   \n",
       "\n",
       "   dropoff_longitude  bikeid    usertype birth year  gender  trip_dist  \\\n",
       "0         -73.982681   17039  Subscriber       1986       1        876   \n",
       "1         -73.987140   17875  Subscriber       1985       1       4153   \n",
       "2         -74.015756   18008    Customer         \\N       0        449   \n",
       "3         -73.997044   18237  Subscriber       1983       1       1630   \n",
       "4         -73.987895   16607  Subscriber       1985       1        529   \n",
       "\n",
       "   avg_velocity  \n",
       "0      6.845942  \n",
       "1      8.924546  \n",
       "2      4.278829  \n",
       "3      6.894032  \n",
       "4      4.344601  "
      ]
     },
     "execution_count": 43,
     "metadata": {},
     "output_type": "execute_result"
    }
   ],
   "source": [
    "data.head()"
   ]
  },
  {
   "cell_type": "code",
   "execution_count": 44,
   "metadata": {
    "collapsed": false
   },
   "outputs": [
    {
     "data": {
      "text/plain": [
       "0.0001     0.000000\n",
       "0.0100     0.000000\n",
       "0.5000     5.306131\n",
       "0.7500     6.457503\n",
       "0.9500     8.198881\n",
       "0.9750     8.802942\n",
       "0.9900     9.514220\n",
       "0.9950    10.012335\n",
       "Name: avg_velocity, dtype: float64"
      ]
     },
     "execution_count": 44,
     "metadata": {},
     "output_type": "execute_result"
    }
   ],
   "source": [
    "data.avg_velocity.quantile([.0001,.01, .5, .75, .95, .975, .99, .995])"
   ]
  },
  {
   "cell_type": "markdown",
   "metadata": {},
   "source": [
    "# Be aware: We calculated the avg_velocity based on the euclidean distance. A real driver would never drive that fast. We take all avg_velos >= 5mph (approx. >5%-quantile) into account. We use an upper bound, too. It might not be possible to drive \"too fast\". If someone drives too fast, the technology has had a malfunction."
   ]
  },
  {
   "cell_type": "code",
   "execution_count": 45,
   "metadata": {
    "collapsed": false
   },
   "outputs": [
    {
     "name": "stdout",
     "output_type": "stream",
     "text": [
      "0.42908519252304245\n"
     ]
    },
    {
     "name": "stderr",
     "output_type": "stream",
     "text": [
      "/home/niklas/anaconda3/lib/python3.5/site-packages/pandas/core/indexing.py:284: SettingWithCopyWarning: \n",
      "A value is trying to be set on a copy of a slice from a DataFrame.\n",
      "Try using .loc[row_indexer,col_indexer] = value instead\n",
      "\n",
      "See the caveats in the documentation: http://pandas.pydata.org/pandas-docs/stable/indexing.html#indexing-view-versus-copy\n",
      "  self.obj[key] = _infer_fill_value(value)\n",
      "/home/niklas/anaconda3/lib/python3.5/site-packages/pandas/core/indexing.py:461: SettingWithCopyWarning: \n",
      "A value is trying to be set on a copy of a slice from a DataFrame.\n",
      "Try using .loc[row_indexer,col_indexer] = value instead\n",
      "\n",
      "See the caveats in the documentation: http://pandas.pydata.org/pandas-docs/stable/indexing.html#indexing-view-versus-copy\n",
      "  self.obj[item] = s\n"
     ]
    }
   ],
   "source": [
    "lb = 5\n",
    "ub = 15\n",
    "anomaly = data.loc[(data['avg_velocity'] < lb) | (data['avg_velocity'] > ub)] \n",
    "\n",
    "# be careful! Maybe adjust to append.\n",
    "#anomaly.loc[\n",
    "anomaly.loc[data.loc[(data['avg_velocity'] < lb)].index,'flag'] = 'too_slow'\n",
    "anomaly.loc[data.loc[(data['avg_velocity'] > ub)].index,'flag'] = 'too_fast'\n",
    "data = data.drop(anomaly.index, errors='ignore') # ignore uncontained labels / indices\n",
    "print(1-len(data)/(len(data)+len(anomaly)))"
   ]
  },
  {
   "cell_type": "markdown",
   "metadata": {},
   "source": [
    "# We dropped about 42% of the data!"
   ]
  },
  {
   "cell_type": "code",
   "execution_count": 46,
   "metadata": {
    "collapsed": false
   },
   "outputs": [
    {
     "data": {
      "text/plain": [
       "count    106044.000000\n",
       "mean          6.502750\n",
       "std           1.133101\n",
       "min           5.000057\n",
       "25%           5.616168\n",
       "50%           6.269582\n",
       "75%           7.142086\n",
       "max          14.099118\n",
       "Name: avg_velocity, dtype: float64"
      ]
     },
     "execution_count": 46,
     "metadata": {},
     "output_type": "execute_result"
    }
   ],
   "source": [
    "data.avg_velocity.describe()"
   ]
  },
  {
   "cell_type": "code",
   "execution_count": 47,
   "metadata": {
    "collapsed": false
   },
   "outputs": [
    {
     "data": {
      "text/html": [
       "<div>\n",
       "<table border=\"1\" class=\"dataframe\">\n",
       "  <thead>\n",
       "    <tr style=\"text-align: right;\">\n",
       "      <th></th>\n",
       "      <th>trip_time</th>\n",
       "      <th>pickup_datetime</th>\n",
       "      <th>dropoff_datetime</th>\n",
       "      <th>start_station_id</th>\n",
       "      <th>start_station_name</th>\n",
       "      <th>pickup_latitude</th>\n",
       "      <th>pickup_longitude</th>\n",
       "      <th>end_station_id</th>\n",
       "      <th>end_station_name</th>\n",
       "      <th>dropoff_latitude</th>\n",
       "      <th>dropoff_longitude</th>\n",
       "      <th>bikeid</th>\n",
       "      <th>usertype</th>\n",
       "      <th>birth year</th>\n",
       "      <th>gender</th>\n",
       "      <th>trip_dist</th>\n",
       "      <th>avg_velocity</th>\n",
       "      <th>flag</th>\n",
       "    </tr>\n",
       "  </thead>\n",
       "  <tbody>\n",
       "    <tr>\n",
       "      <th>185728</th>\n",
       "      <td>00:06:22</td>\n",
       "      <td>2014-05-11 23:47:22</td>\n",
       "      <td>2014-05-11 23:53:44</td>\n",
       "      <td>308</td>\n",
       "      <td>St James Pl &amp; Oliver St</td>\n",
       "      <td>40.713079</td>\n",
       "      <td>-73.998512</td>\n",
       "      <td>307</td>\n",
       "      <td>Canal St &amp; Rutgers St</td>\n",
       "      <td>40.714275</td>\n",
       "      <td>-73.989900</td>\n",
       "      <td>19916</td>\n",
       "      <td>Subscriber</td>\n",
       "      <td>1983</td>\n",
       "      <td>1</td>\n",
       "      <td>739</td>\n",
       "      <td>4.369261</td>\n",
       "      <td>too_slow</td>\n",
       "    </tr>\n",
       "    <tr>\n",
       "      <th>185737</th>\n",
       "      <td>00:03:29</td>\n",
       "      <td>2014-05-11 23:50:54</td>\n",
       "      <td>2014-05-11 23:54:23</td>\n",
       "      <td>526</td>\n",
       "      <td>E 33 St &amp; 5 Ave</td>\n",
       "      <td>40.747659</td>\n",
       "      <td>-73.984907</td>\n",
       "      <td>498</td>\n",
       "      <td>Broadway &amp; W 32 St</td>\n",
       "      <td>40.748549</td>\n",
       "      <td>-73.988084</td>\n",
       "      <td>16197</td>\n",
       "      <td>Customer</td>\n",
       "      <td>\\N</td>\n",
       "      <td>0</td>\n",
       "      <td>285</td>\n",
       "      <td>3.079821</td>\n",
       "      <td>too_slow</td>\n",
       "    </tr>\n",
       "    <tr>\n",
       "      <th>185738</th>\n",
       "      <td>00:03:09</td>\n",
       "      <td>2014-05-11 23:51:22</td>\n",
       "      <td>2014-05-11 23:54:31</td>\n",
       "      <td>526</td>\n",
       "      <td>E 33 St &amp; 5 Ave</td>\n",
       "      <td>40.747659</td>\n",
       "      <td>-73.984907</td>\n",
       "      <td>498</td>\n",
       "      <td>Broadway &amp; W 32 St</td>\n",
       "      <td>40.748549</td>\n",
       "      <td>-73.988084</td>\n",
       "      <td>14714</td>\n",
       "      <td>Customer</td>\n",
       "      <td>\\N</td>\n",
       "      <td>0</td>\n",
       "      <td>285</td>\n",
       "      <td>3.405728</td>\n",
       "      <td>too_slow</td>\n",
       "    </tr>\n",
       "    <tr>\n",
       "      <th>185739</th>\n",
       "      <td>00:06:44</td>\n",
       "      <td>2014-05-11 23:52:29</td>\n",
       "      <td>2014-05-11 23:59:13</td>\n",
       "      <td>369</td>\n",
       "      <td>Washington Pl &amp; 6 Ave</td>\n",
       "      <td>40.732241</td>\n",
       "      <td>-74.000264</td>\n",
       "      <td>293</td>\n",
       "      <td>Lafayette St &amp; E 8 St</td>\n",
       "      <td>40.730287</td>\n",
       "      <td>-73.990765</td>\n",
       "      <td>14617</td>\n",
       "      <td>Subscriber</td>\n",
       "      <td>1962</td>\n",
       "      <td>1</td>\n",
       "      <td>831</td>\n",
       "      <td>4.645651</td>\n",
       "      <td>too_slow</td>\n",
       "    </tr>\n",
       "    <tr>\n",
       "      <th>185743</th>\n",
       "      <td>00:05:43</td>\n",
       "      <td>2014-05-11 23:53:44</td>\n",
       "      <td>2014-05-11 23:59:27</td>\n",
       "      <td>439</td>\n",
       "      <td>E 4 St &amp; 2 Ave</td>\n",
       "      <td>40.726281</td>\n",
       "      <td>-73.989780</td>\n",
       "      <td>393</td>\n",
       "      <td>E 5 St &amp; Avenue C</td>\n",
       "      <td>40.722992</td>\n",
       "      <td>-73.979955</td>\n",
       "      <td>15825</td>\n",
       "      <td>Customer</td>\n",
       "      <td>\\N</td>\n",
       "      <td>0</td>\n",
       "      <td>-1</td>\n",
       "      <td>-0.006585</td>\n",
       "      <td>too_slow</td>\n",
       "    </tr>\n",
       "  </tbody>\n",
       "</table>\n",
       "</div>"
      ],
      "text/plain": [
       "        trip_time     pickup_datetime    dropoff_datetime  start_station_id  \\\n",
       "185728   00:06:22 2014-05-11 23:47:22 2014-05-11 23:53:44               308   \n",
       "185737   00:03:29 2014-05-11 23:50:54 2014-05-11 23:54:23               526   \n",
       "185738   00:03:09 2014-05-11 23:51:22 2014-05-11 23:54:31               526   \n",
       "185739   00:06:44 2014-05-11 23:52:29 2014-05-11 23:59:13               369   \n",
       "185743   00:05:43 2014-05-11 23:53:44 2014-05-11 23:59:27               439   \n",
       "\n",
       "             start_station_name  pickup_latitude  pickup_longitude  \\\n",
       "185728  St James Pl & Oliver St        40.713079        -73.998512   \n",
       "185737          E 33 St & 5 Ave        40.747659        -73.984907   \n",
       "185738          E 33 St & 5 Ave        40.747659        -73.984907   \n",
       "185739    Washington Pl & 6 Ave        40.732241        -74.000264   \n",
       "185743           E 4 St & 2 Ave        40.726281        -73.989780   \n",
       "\n",
       "        end_station_id       end_station_name  dropoff_latitude  \\\n",
       "185728             307  Canal St & Rutgers St         40.714275   \n",
       "185737             498     Broadway & W 32 St         40.748549   \n",
       "185738             498     Broadway & W 32 St         40.748549   \n",
       "185739             293  Lafayette St & E 8 St         40.730287   \n",
       "185743             393      E 5 St & Avenue C         40.722992   \n",
       "\n",
       "        dropoff_longitude  bikeid    usertype birth year  gender  trip_dist  \\\n",
       "185728         -73.989900   19916  Subscriber       1983       1        739   \n",
       "185737         -73.988084   16197    Customer         \\N       0        285   \n",
       "185738         -73.988084   14714    Customer         \\N       0        285   \n",
       "185739         -73.990765   14617  Subscriber       1962       1        831   \n",
       "185743         -73.979955   15825    Customer         \\N       0         -1   \n",
       "\n",
       "        avg_velocity      flag  \n",
       "185728      4.369261  too_slow  \n",
       "185737      3.079821  too_slow  \n",
       "185738      3.405728  too_slow  \n",
       "185739      4.645651  too_slow  \n",
       "185743     -0.006585  too_slow  "
      ]
     },
     "execution_count": 47,
     "metadata": {},
     "output_type": "execute_result"
    }
   ],
   "source": [
    "anomaly.tail()"
   ]
  },
  {
   "cell_type": "markdown",
   "metadata": {},
   "source": [
    "# A little drawing"
   ]
  },
  {
   "cell_type": "code",
   "execution_count": 48,
   "metadata": {
    "collapsed": false
   },
   "outputs": [
    {
     "data": {
      "text/plain": [
       "<matplotlib.figure.Figure at 0x7f85dbb6c4a8>"
      ]
     },
     "metadata": {},
     "output_type": "display_data"
    },
    {
     "data": {
      "image/png": "[encoded data removed]",
      "text/plain": [
       "<matplotlib.figure.Figure at 0x7f85daed0b70>"
      ]
     },
     "metadata": {},
     "output_type": "display_data"
    }
   ],
   "source": [
    "x = data.pickup_longitude\n",
    "y = data.pickup_latitude\n",
    "\n",
    "bins = 100;\n",
    "#H, xedges, yedges = np.histogram2d(x, y, bins=100, range=[ [x.quantile(.05), x.quantile(.95)], \n",
    "#        [y.quantile(.05), y.quantile(.95)]], normed=False, weights=None)\n",
    "H, xedges, yedges = np.histogram2d(x, y, bins=bins)\n",
    "\n",
    "plt.jet()\n",
    "fig = plt.figure(figsize=(20, 10))\n",
    "#ax.set_title('pcolormesh: exact bin edges')\n",
    "#mesh = plt.pcolormesh(X, Y, H)\n",
    "plt.hist2d(x,y,bins=bins)\n",
    "plt.colorbar()\n",
    "plt.scatter(xedges[79], yedges[61], marker='x')\n",
    "ax = fig.gca()\n",
    "ax.grid(False)\n",
    "plt.xlabel('Longitude')\n",
    "plt.ylabel('Latitude')\n",
    "plt.title('Pickup Frequency')\n",
    "#ax.set_aspect('equal')\n",
    "#plt.savefig('figure.pdf', format='pdf')\n",
    "#plt.savefig('figure.png', format='png')\n",
    "plt.savefig('figures/bike_stations.png', format='png', dpi=300)"
   ]
  },
  {
   "cell_type": "markdown",
   "metadata": {},
   "source": [
    "Where is a pickup maximum?"
   ]
  },
  {
   "cell_type": "code",
   "execution_count": 49,
   "metadata": {
    "collapsed": false
   },
   "outputs": [
    {
     "data": {
      "text/plain": [
       "2001.0"
      ]
     },
     "execution_count": 49,
     "metadata": {},
     "output_type": "execute_result"
    }
   ],
   "source": [
    "np.amax(H)"
   ]
  },
  {
   "cell_type": "code",
   "execution_count": 50,
   "metadata": {
    "collapsed": false
   },
   "outputs": [
    {
     "data": {
      "text/plain": [
       "(array([61]), array([79]))"
      ]
     },
     "execution_count": 50,
     "metadata": {},
     "output_type": "execute_result"
    }
   ],
   "source": [
    "np.where(H==2001)"
   ]
  },
  {
   "cell_type": "markdown",
   "metadata": {},
   "source": [
    "The area with the maximum pickups is around the Grand Central Terminal. Not very surprising."
   ]
  },
  {
   "cell_type": "code",
   "execution_count": 51,
   "metadata": {
    "collapsed": false
   },
   "outputs": [
    {
     "data": {
      "text/plain": [
       "(40.752374288829998, -73.978505949899997)"
      ]
     },
     "execution_count": 51,
     "metadata": {},
     "output_type": "execute_result"
    }
   ],
   "source": [
    "yedges[79],xedges[61], "
   ]
  },
  {
   "cell_type": "code",
   "execution_count": 52,
   "metadata": {
    "collapsed": false
   },
   "outputs": [
    {
     "data": {
      "text/plain": [
       "numpy.ndarray"
      ]
     },
     "execution_count": 52,
     "metadata": {},
     "output_type": "execute_result"
    }
   ],
   "source": [
    "type(H)"
   ]
  },
  {
   "cell_type": "code",
   "execution_count": 53,
   "metadata": {
    "collapsed": false
   },
   "outputs": [
    {
     "name": "stdout",
     "output_type": "stream",
     "text": [
      "(100, 100)\n",
      "10000\n",
      "2001.0\n"
     ]
    }
   ],
   "source": [
    "print(H.shape)\n",
    "print(H.size)\n",
    "print(H.max())"
   ]
  },
  {
   "cell_type": "code",
   "execution_count": 54,
   "metadata": {
    "collapsed": false
   },
   "outputs": [
    {
     "name": "stdout",
     "output_type": "stream",
     "text": [
      "Current bin width:\n",
      "76.03394282270413\n"
     ]
    }
   ],
   "source": [
    "print('Current bin width:')\n",
    "print(vincenty((xedges[0], yedges[0]), (xedges[1], yedges[1])).meters)"
   ]
  },
  {
   "cell_type": "code",
   "execution_count": 55,
   "metadata": {
    "collapsed": false
   },
   "outputs": [],
   "source": [
    "distances = (-1)*np.ones(len(xedges)-1)\n",
    "for x in range(0,len(xedges)-1, 1):\n",
    "    distances[x] = vincenty((xedges[x], yedges[x]), (xedges[x+1], yedges[x+1])).meters"
   ]
  },
  {
   "cell_type": "code",
   "execution_count": 56,
   "metadata": {
    "collapsed": false
   },
   "outputs": [
    {
     "name": "stdout",
     "output_type": "stream",
     "text": [
      "Sizes of all bins in meters:\n"
     ]
    },
    {
     "data": {
      "text/plain": [
       "array([ 76.03394282,  76.03433763,  76.03473245,  76.03512728,\n",
       "        76.03552212,  76.03591697,  76.03631184,  76.03670672,\n",
       "        76.03710161,  76.03749651,  76.03789143,  76.03828635,\n",
       "        76.03868129,  76.03907624,  76.0394712 ,  76.03986618,\n",
       "        76.04026116,  76.04065616,  76.04105117,  76.04144619,\n",
       "        76.04184122,  76.04223627,  76.04263132,  76.04302639,\n",
       "        76.04342148,  76.04381656,  76.04421167,  76.04460679,\n",
       "        76.04500191,  76.04539706,  76.04579221,  76.04618737,\n",
       "        76.04658255,  76.04697773,  76.04737294,  76.04776815,\n",
       "        76.04816337,  76.04855861,  76.04895385,  76.04934911,\n",
       "        76.04974438,  76.05013966,  76.05053496,  76.05093027,\n",
       "        76.05132558,  76.05172091,  76.05211626,  76.05251161,\n",
       "        76.05290698,  76.05330235,  76.05369774,  76.05409315,\n",
       "        76.05448856,  76.05488398,  76.05527942,  76.05567487,\n",
       "        76.05607033,  76.05646581,  76.05686129,  76.05725679,\n",
       "        76.05765229,  76.05804782,  76.05844335,  76.05883889,\n",
       "        76.05923445,  76.05963002,  76.0600256 ,  76.06042119,\n",
       "        76.06081679,  76.06121241,  76.06160804,  76.06200367,\n",
       "        76.06239932,  76.06279499,  76.06319066,  76.06358635,\n",
       "        76.06398205,  76.06437776,  76.06477348,  76.06516922,\n",
       "        76.06556496,  76.06596072,  76.06635649,  76.06675227,\n",
       "        76.06714807,  76.06754387,  76.06793969,  76.06833552,\n",
       "        76.06873136,  76.06912721,  76.06952308,  76.06991895,\n",
       "        76.07031484,  76.07071074,  76.07110665,  76.07150258,\n",
       "        76.07189851,  76.07229446,  76.07269042,  76.07308639])"
      ]
     },
     "execution_count": 56,
     "metadata": {},
     "output_type": "execute_result"
    }
   ],
   "source": [
    "print('Sizes of all bins in meters:')\n",
    "distances"
   ]
  },
  {
   "cell_type": "code",
   "execution_count": 57,
   "metadata": {
    "collapsed": false
   },
   "outputs": [
    {
     "name": "stdout",
     "output_type": "stream",
     "text": [
      "40.771522,-73.95380904\n",
      "40.771522,-73.95380904\n"
     ]
    }
   ],
   "source": [
    "print(str(max(data.pickup_latitude)) +','+ str(max(data.pickup_longitude)))\n",
    "print(str(max(data.dropoff_latitude)) +','+ str(max(data.dropoff_longitude)))"
   ]
  },
  {
   "cell_type": "markdown",
   "metadata": {},
   "source": [
    "About 97% if the bins have no pickups (not surprising)."
   ]
  },
  {
   "cell_type": "code",
   "execution_count": 58,
   "metadata": {
    "collapsed": false
   },
   "outputs": [
    {
     "data": {
      "text/plain": [
       "0.96750000000000003"
      ]
     },
     "execution_count": 58,
     "metadata": {},
     "output_type": "execute_result"
    }
   ],
   "source": [
    "(H==0).sum()/H.size"
   ]
  },
  {
   "cell_type": "markdown",
   "metadata": {},
   "source": [
    "# Only look at trips in a given bounding box\n"
   ]
  },
  {
   "cell_type": "code",
   "execution_count": 59,
   "metadata": {
    "collapsed": false
   },
   "outputs": [],
   "source": [
    "jfk_geodata = (40.641547, -73.778118)\n",
    "ridgefield_geodata = (40.856406, -74.020642)\n",
    "data_in_box = data.loc[(data['dropoff_latitude'] > jfk_geodata[0]) & \n",
    "                       (data['dropoff_longitude'] < jfk_geodata[1]) &\n",
    "                       (data['dropoff_latitude'] < ridgefield_geodata[0]) & \n",
    "                       (data['dropoff_longitude'] > ridgefield_geodata[1]) & \n",
    "                       (data['pickup_latitude'] > jfk_geodata[0]) & \n",
    "                       (data['pickup_longitude'] < jfk_geodata[1]) &\n",
    "                       (data['pickup_latitude'] < ridgefield_geodata[0]) & \n",
    "                       (data['pickup_longitude'] > ridgefield_geodata[1])         \n",
    "                       ]\n",
    "# taxidata = taxidata.drop(anomaly.index)"
   ]
  },
  {
   "cell_type": "code",
   "execution_count": 60,
   "metadata": {
    "collapsed": false
   },
   "outputs": [
    {
     "data": {
      "text/plain": [
       "1.0"
      ]
     },
     "execution_count": 60,
     "metadata": {},
     "output_type": "execute_result"
    }
   ],
   "source": [
    "len(data_in_box)/len(data)"
   ]
  },
  {
   "cell_type": "markdown",
   "metadata": {},
   "source": [
    "# We lost no trips through the bounding box."
   ]
  },
  {
   "cell_type": "code",
   "execution_count": 61,
   "metadata": {
    "collapsed": false
   },
   "outputs": [
    {
     "data": {
      "text/html": [
       "<div>\n",
       "<table border=\"1\" class=\"dataframe\">\n",
       "  <thead>\n",
       "    <tr style=\"text-align: right;\">\n",
       "      <th></th>\n",
       "      <th>trip_time</th>\n",
       "      <th>pickup_datetime</th>\n",
       "      <th>dropoff_datetime</th>\n",
       "      <th>start_station_id</th>\n",
       "      <th>start_station_name</th>\n",
       "      <th>pickup_latitude</th>\n",
       "      <th>pickup_longitude</th>\n",
       "      <th>end_station_id</th>\n",
       "      <th>end_station_name</th>\n",
       "      <th>dropoff_latitude</th>\n",
       "      <th>dropoff_longitude</th>\n",
       "      <th>bikeid</th>\n",
       "      <th>usertype</th>\n",
       "      <th>birth year</th>\n",
       "      <th>gender</th>\n",
       "      <th>trip_dist</th>\n",
       "      <th>avg_velocity</th>\n",
       "    </tr>\n",
       "  </thead>\n",
       "  <tbody>\n",
       "    <tr>\n",
       "      <th>0</th>\n",
       "      <td>00:04:49</td>\n",
       "      <td>2014-05-05 00:00:14</td>\n",
       "      <td>2014-05-05 00:05:03</td>\n",
       "      <td>495</td>\n",
       "      <td>W 47 St &amp; 10 Ave</td>\n",
       "      <td>40.762699</td>\n",
       "      <td>-73.993012</td>\n",
       "      <td>469</td>\n",
       "      <td>Broadway &amp; W 53 St</td>\n",
       "      <td>40.763441</td>\n",
       "      <td>-73.982681</td>\n",
       "      <td>17039</td>\n",
       "      <td>Subscriber</td>\n",
       "      <td>1986</td>\n",
       "      <td>1</td>\n",
       "      <td>876</td>\n",
       "      <td>6.845942</td>\n",
       "    </tr>\n",
       "    <tr>\n",
       "      <th>1</th>\n",
       "      <td>00:17:31</td>\n",
       "      <td>2014-05-05 00:00:19</td>\n",
       "      <td>2014-05-05 00:17:50</td>\n",
       "      <td>281</td>\n",
       "      <td>Grand Army Plaza &amp; Central Park S</td>\n",
       "      <td>40.764397</td>\n",
       "      <td>-73.973715</td>\n",
       "      <td>236</td>\n",
       "      <td>St Marks Pl &amp; 2 Ave</td>\n",
       "      <td>40.728419</td>\n",
       "      <td>-73.987140</td>\n",
       "      <td>17875</td>\n",
       "      <td>Subscriber</td>\n",
       "      <td>1985</td>\n",
       "      <td>1</td>\n",
       "      <td>4153</td>\n",
       "      <td>8.924546</td>\n",
       "    </tr>\n",
       "    <tr>\n",
       "      <th>3</th>\n",
       "      <td>00:08:54</td>\n",
       "      <td>2014-05-05 00:01:12</td>\n",
       "      <td>2014-05-05 00:10:06</td>\n",
       "      <td>151</td>\n",
       "      <td>Cleveland Pl &amp; Spring St</td>\n",
       "      <td>40.721816</td>\n",
       "      <td>-73.997203</td>\n",
       "      <td>345</td>\n",
       "      <td>W 13 St &amp; 6 Ave</td>\n",
       "      <td>40.736494</td>\n",
       "      <td>-73.997044</td>\n",
       "      <td>18237</td>\n",
       "      <td>Subscriber</td>\n",
       "      <td>1983</td>\n",
       "      <td>1</td>\n",
       "      <td>1630</td>\n",
       "      <td>6.894032</td>\n",
       "    </tr>\n",
       "    <tr>\n",
       "      <th>5</th>\n",
       "      <td>00:05:16</td>\n",
       "      <td>2014-05-05 00:01:22</td>\n",
       "      <td>2014-05-05 00:06:38</td>\n",
       "      <td>294</td>\n",
       "      <td>Washington Square E</td>\n",
       "      <td>40.730494</td>\n",
       "      <td>-73.995721</td>\n",
       "      <td>237</td>\n",
       "      <td>E 11 St &amp; 2 Ave</td>\n",
       "      <td>40.730473</td>\n",
       "      <td>-73.986724</td>\n",
       "      <td>15545</td>\n",
       "      <td>Subscriber</td>\n",
       "      <td>1983</td>\n",
       "      <td>2</td>\n",
       "      <td>760</td>\n",
       "      <td>5.431921</td>\n",
       "    </tr>\n",
       "    <tr>\n",
       "      <th>6</th>\n",
       "      <td>00:06:15</td>\n",
       "      <td>2014-05-05 00:01:48</td>\n",
       "      <td>2014-05-05 00:08:03</td>\n",
       "      <td>346</td>\n",
       "      <td>Bank St &amp; Hudson St</td>\n",
       "      <td>40.736529</td>\n",
       "      <td>-74.006180</td>\n",
       "      <td>375</td>\n",
       "      <td>Mercer St &amp; Bleecker St</td>\n",
       "      <td>40.726795</td>\n",
       "      <td>-73.996951</td>\n",
       "      <td>18794</td>\n",
       "      <td>Subscriber</td>\n",
       "      <td>1973</td>\n",
       "      <td>1</td>\n",
       "      <td>1332</td>\n",
       "      <td>8.022318</td>\n",
       "    </tr>\n",
       "  </tbody>\n",
       "</table>\n",
       "</div>"
      ],
      "text/plain": [
       "   trip_time     pickup_datetime    dropoff_datetime  start_station_id  \\\n",
       "0   00:04:49 2014-05-05 00:00:14 2014-05-05 00:05:03               495   \n",
       "1   00:17:31 2014-05-05 00:00:19 2014-05-05 00:17:50               281   \n",
       "3   00:08:54 2014-05-05 00:01:12 2014-05-05 00:10:06               151   \n",
       "5   00:05:16 2014-05-05 00:01:22 2014-05-05 00:06:38               294   \n",
       "6   00:06:15 2014-05-05 00:01:48 2014-05-05 00:08:03               346   \n",
       "\n",
       "                  start_station_name  pickup_latitude  pickup_longitude  \\\n",
       "0                   W 47 St & 10 Ave        40.762699        -73.993012   \n",
       "1  Grand Army Plaza & Central Park S        40.764397        -73.973715   \n",
       "3           Cleveland Pl & Spring St        40.721816        -73.997203   \n",
       "5                Washington Square E        40.730494        -73.995721   \n",
       "6                Bank St & Hudson St        40.736529        -74.006180   \n",
       "\n",
       "   end_station_id         end_station_name  dropoff_latitude  \\\n",
       "0             469       Broadway & W 53 St         40.763441   \n",
       "1             236      St Marks Pl & 2 Ave         40.728419   \n",
       "3             345          W 13 St & 6 Ave         40.736494   \n",
       "5             237          E 11 St & 2 Ave         40.730473   \n",
       "6             375  Mercer St & Bleecker St         40.726795   \n",
       "\n",
       "   dropoff_longitude  bikeid    usertype birth year  gender  trip_dist  \\\n",
       "0         -73.982681   17039  Subscriber       1986       1        876   \n",
       "1         -73.987140   17875  Subscriber       1985       1       4153   \n",
       "3         -73.997044   18237  Subscriber       1983       1       1630   \n",
       "5         -73.986724   15545  Subscriber       1983       2        760   \n",
       "6         -73.996951   18794  Subscriber       1973       1       1332   \n",
       "\n",
       "   avg_velocity  \n",
       "0      6.845942  \n",
       "1      8.924546  \n",
       "3      6.894032  \n",
       "5      5.431921  \n",
       "6      8.022318  "
      ]
     },
     "execution_count": 61,
     "metadata": {},
     "output_type": "execute_result"
    }
   ],
   "source": [
    "data_in_box.head()"
   ]
  },
  {
   "cell_type": "markdown",
   "metadata": {},
   "source": [
    "# So we know that about 97% of the bins have 0 pickups in it. This was expected, because we have static stations only."
   ]
  },
  {
   "cell_type": "markdown",
   "metadata": {},
   "source": [
    "Let's take a first look at the distribution of the cleaned target variable which we want to estimate:"
   ]
  },
  {
   "cell_type": "code",
   "execution_count": 62,
   "metadata": {
    "collapsed": false
   },
   "outputs": [
    {
     "data": {
      "image/png": "[encoded data removed]",
      "text/plain": [
       "<matplotlib.figure.Figure at 0x7f85dbb125c0>"
      ]
     },
     "metadata": {},
     "output_type": "display_data"
    }
   ],
   "source": [
    "h = data_in_box.avg_velocity.values\n",
    "plt.figure(figsize=(20,10))\n",
    "plt.hist(h, normed=False,  bins=150)\n",
    "    #, histtype='stepfilled')\n",
    "#plt.yscale('log')\n",
    "#plt.ylabel('log(freq x)', fontsize=40)\n",
    "#plt.xlabel('x = avg_amount_per_minute', fontsize=40)\n",
    "#print('Min:' +  str(min(h)) + '\\nMax:' +  str(max(h)))\n",
    "#plt.locator_params(axis = 'x', nbins = 20)\n",
    "plt.show()"
   ]
  },
  {
   "cell_type": "code",
   "execution_count": 63,
   "metadata": {
    "collapsed": false
   },
   "outputs": [
    {
     "data": {
      "text/html": [
       "<div>\n",
       "<table border=\"1\" class=\"dataframe\">\n",
       "  <thead>\n",
       "    <tr style=\"text-align: right;\">\n",
       "      <th></th>\n",
       "      <th>trip_time</th>\n",
       "      <th>pickup_datetime</th>\n",
       "      <th>dropoff_datetime</th>\n",
       "      <th>start_station_id</th>\n",
       "      <th>start_station_name</th>\n",
       "      <th>pickup_latitude</th>\n",
       "      <th>pickup_longitude</th>\n",
       "      <th>end_station_id</th>\n",
       "      <th>end_station_name</th>\n",
       "      <th>dropoff_latitude</th>\n",
       "      <th>dropoff_longitude</th>\n",
       "      <th>bikeid</th>\n",
       "      <th>usertype</th>\n",
       "      <th>birth year</th>\n",
       "      <th>gender</th>\n",
       "      <th>trip_dist</th>\n",
       "      <th>avg_velocity</th>\n",
       "    </tr>\n",
       "  </thead>\n",
       "  <tbody>\n",
       "    <tr>\n",
       "      <th>0</th>\n",
       "      <td>00:04:49</td>\n",
       "      <td>2014-05-05 00:00:14</td>\n",
       "      <td>2014-05-05 00:05:03</td>\n",
       "      <td>495</td>\n",
       "      <td>W 47 St &amp; 10 Ave</td>\n",
       "      <td>40.762699</td>\n",
       "      <td>-73.993012</td>\n",
       "      <td>469</td>\n",
       "      <td>Broadway &amp; W 53 St</td>\n",
       "      <td>40.763441</td>\n",
       "      <td>-73.982681</td>\n",
       "      <td>17039</td>\n",
       "      <td>Subscriber</td>\n",
       "      <td>1986</td>\n",
       "      <td>1</td>\n",
       "      <td>876</td>\n",
       "      <td>6.845942</td>\n",
       "    </tr>\n",
       "    <tr>\n",
       "      <th>1</th>\n",
       "      <td>00:17:31</td>\n",
       "      <td>2014-05-05 00:00:19</td>\n",
       "      <td>2014-05-05 00:17:50</td>\n",
       "      <td>281</td>\n",
       "      <td>Grand Army Plaza &amp; Central Park S</td>\n",
       "      <td>40.764397</td>\n",
       "      <td>-73.973715</td>\n",
       "      <td>236</td>\n",
       "      <td>St Marks Pl &amp; 2 Ave</td>\n",
       "      <td>40.728419</td>\n",
       "      <td>-73.987140</td>\n",
       "      <td>17875</td>\n",
       "      <td>Subscriber</td>\n",
       "      <td>1985</td>\n",
       "      <td>1</td>\n",
       "      <td>4153</td>\n",
       "      <td>8.924546</td>\n",
       "    </tr>\n",
       "    <tr>\n",
       "      <th>3</th>\n",
       "      <td>00:08:54</td>\n",
       "      <td>2014-05-05 00:01:12</td>\n",
       "      <td>2014-05-05 00:10:06</td>\n",
       "      <td>151</td>\n",
       "      <td>Cleveland Pl &amp; Spring St</td>\n",
       "      <td>40.721816</td>\n",
       "      <td>-73.997203</td>\n",
       "      <td>345</td>\n",
       "      <td>W 13 St &amp; 6 Ave</td>\n",
       "      <td>40.736494</td>\n",
       "      <td>-73.997044</td>\n",
       "      <td>18237</td>\n",
       "      <td>Subscriber</td>\n",
       "      <td>1983</td>\n",
       "      <td>1</td>\n",
       "      <td>1630</td>\n",
       "      <td>6.894032</td>\n",
       "    </tr>\n",
       "    <tr>\n",
       "      <th>5</th>\n",
       "      <td>00:05:16</td>\n",
       "      <td>2014-05-05 00:01:22</td>\n",
       "      <td>2014-05-05 00:06:38</td>\n",
       "      <td>294</td>\n",
       "      <td>Washington Square E</td>\n",
       "      <td>40.730494</td>\n",
       "      <td>-73.995721</td>\n",
       "      <td>237</td>\n",
       "      <td>E 11 St &amp; 2 Ave</td>\n",
       "      <td>40.730473</td>\n",
       "      <td>-73.986724</td>\n",
       "      <td>15545</td>\n",
       "      <td>Subscriber</td>\n",
       "      <td>1983</td>\n",
       "      <td>2</td>\n",
       "      <td>760</td>\n",
       "      <td>5.431921</td>\n",
       "    </tr>\n",
       "    <tr>\n",
       "      <th>6</th>\n",
       "      <td>00:06:15</td>\n",
       "      <td>2014-05-05 00:01:48</td>\n",
       "      <td>2014-05-05 00:08:03</td>\n",
       "      <td>346</td>\n",
       "      <td>Bank St &amp; Hudson St</td>\n",
       "      <td>40.736529</td>\n",
       "      <td>-74.006180</td>\n",
       "      <td>375</td>\n",
       "      <td>Mercer St &amp; Bleecker St</td>\n",
       "      <td>40.726795</td>\n",
       "      <td>-73.996951</td>\n",
       "      <td>18794</td>\n",
       "      <td>Subscriber</td>\n",
       "      <td>1973</td>\n",
       "      <td>1</td>\n",
       "      <td>1332</td>\n",
       "      <td>8.022318</td>\n",
       "    </tr>\n",
       "  </tbody>\n",
       "</table>\n",
       "</div>"
      ],
      "text/plain": [
       "   trip_time     pickup_datetime    dropoff_datetime  start_station_id  \\\n",
       "0   00:04:49 2014-05-05 00:00:14 2014-05-05 00:05:03               495   \n",
       "1   00:17:31 2014-05-05 00:00:19 2014-05-05 00:17:50               281   \n",
       "3   00:08:54 2014-05-05 00:01:12 2014-05-05 00:10:06               151   \n",
       "5   00:05:16 2014-05-05 00:01:22 2014-05-05 00:06:38               294   \n",
       "6   00:06:15 2014-05-05 00:01:48 2014-05-05 00:08:03               346   \n",
       "\n",
       "                  start_station_name  pickup_latitude  pickup_longitude  \\\n",
       "0                   W 47 St & 10 Ave        40.762699        -73.993012   \n",
       "1  Grand Army Plaza & Central Park S        40.764397        -73.973715   \n",
       "3           Cleveland Pl & Spring St        40.721816        -73.997203   \n",
       "5                Washington Square E        40.730494        -73.995721   \n",
       "6                Bank St & Hudson St        40.736529        -74.006180   \n",
       "\n",
       "   end_station_id         end_station_name  dropoff_latitude  \\\n",
       "0             469       Broadway & W 53 St         40.763441   \n",
       "1             236      St Marks Pl & 2 Ave         40.728419   \n",
       "3             345          W 13 St & 6 Ave         40.736494   \n",
       "5             237          E 11 St & 2 Ave         40.730473   \n",
       "6             375  Mercer St & Bleecker St         40.726795   \n",
       "\n",
       "   dropoff_longitude  bikeid    usertype birth year  gender  trip_dist  \\\n",
       "0         -73.982681   17039  Subscriber       1986       1        876   \n",
       "1         -73.987140   17875  Subscriber       1985       1       4153   \n",
       "3         -73.997044   18237  Subscriber       1983       1       1630   \n",
       "5         -73.986724   15545  Subscriber       1983       2        760   \n",
       "6         -73.996951   18794  Subscriber       1973       1       1332   \n",
       "\n",
       "   avg_velocity  \n",
       "0      6.845942  \n",
       "1      8.924546  \n",
       "3      6.894032  \n",
       "5      5.431921  \n",
       "6      8.022318  "
      ]
     },
     "execution_count": 63,
     "metadata": {},
     "output_type": "execute_result"
    }
   ],
   "source": [
    "data_in_box.head()"
   ]
  },
  {
   "cell_type": "markdown",
   "metadata": {},
   "source": [
    "# Make a new dataframe with features and targets"
   ]
  },
  {
   "cell_type": "code",
   "execution_count": 64,
   "metadata": {
    "collapsed": false
   },
   "outputs": [],
   "source": [
    "time_regression_df = pd.DataFrame([ #data_in_box['pickup_datetime'].dt.day, # leave this out\n",
    "                          data_in_box['pickup_datetime'].dt.dayofweek,\n",
    "                          data_in_box['pickup_datetime'].dt.hour,\n",
    "                          data_in_box['pickup_latitude'],\n",
    "                          data_in_box['pickup_longitude'],\n",
    "                          data_in_box['dropoff_latitude'],\n",
    "                          data_in_box['dropoff_longitude'],\n",
    "                          np.ceil(data_in_box['avg_velocity'])\n",
    "                         ]).T"
   ]
  },
  {
   "cell_type": "code",
   "execution_count": 65,
   "metadata": {
    "collapsed": false
   },
   "outputs": [],
   "source": [
    "time_regression_df.columns = [#'pickup_datetime_day', \n",
    "                              'pickup_datetime_dayofweek', 'pickup_datetime_hour',\n",
    "                                 'pickup_latitude', 'pickup_longitude', 'dropoff_latitude', 'dropoff_longitude',\n",
    "                                 'avg_velocity_mph']"
   ]
  },
  {
   "cell_type": "markdown",
   "metadata": {},
   "source": [
    "Use minutes for prediction instead of seconds (ceil the time). Definitley more robust than seconds!"
   ]
  },
  {
   "cell_type": "code",
   "execution_count": 66,
   "metadata": {
    "collapsed": false
   },
   "outputs": [
    {
     "data": {
      "text/html": [
       "<div>\n",
       "<table border=\"1\" class=\"dataframe\">\n",
       "  <thead>\n",
       "    <tr style=\"text-align: right;\">\n",
       "      <th></th>\n",
       "      <th>pickup_datetime_dayofweek</th>\n",
       "      <th>pickup_datetime_hour</th>\n",
       "      <th>pickup_latitude</th>\n",
       "      <th>pickup_longitude</th>\n",
       "      <th>dropoff_latitude</th>\n",
       "      <th>dropoff_longitude</th>\n",
       "      <th>avg_velocity_mph</th>\n",
       "    </tr>\n",
       "  </thead>\n",
       "  <tbody>\n",
       "    <tr>\n",
       "      <th>0</th>\n",
       "      <td>0.0</td>\n",
       "      <td>0.0</td>\n",
       "      <td>40.762699</td>\n",
       "      <td>-73.993012</td>\n",
       "      <td>40.763441</td>\n",
       "      <td>-73.982681</td>\n",
       "      <td>7.0</td>\n",
       "    </tr>\n",
       "    <tr>\n",
       "      <th>1</th>\n",
       "      <td>0.0</td>\n",
       "      <td>0.0</td>\n",
       "      <td>40.764397</td>\n",
       "      <td>-73.973715</td>\n",
       "      <td>40.728419</td>\n",
       "      <td>-73.987140</td>\n",
       "      <td>9.0</td>\n",
       "    </tr>\n",
       "    <tr>\n",
       "      <th>3</th>\n",
       "      <td>0.0</td>\n",
       "      <td>0.0</td>\n",
       "      <td>40.721816</td>\n",
       "      <td>-73.997203</td>\n",
       "      <td>40.736494</td>\n",
       "      <td>-73.997044</td>\n",
       "      <td>7.0</td>\n",
       "    </tr>\n",
       "    <tr>\n",
       "      <th>5</th>\n",
       "      <td>0.0</td>\n",
       "      <td>0.0</td>\n",
       "      <td>40.730494</td>\n",
       "      <td>-73.995721</td>\n",
       "      <td>40.730473</td>\n",
       "      <td>-73.986724</td>\n",
       "      <td>6.0</td>\n",
       "    </tr>\n",
       "    <tr>\n",
       "      <th>6</th>\n",
       "      <td>0.0</td>\n",
       "      <td>0.0</td>\n",
       "      <td>40.736529</td>\n",
       "      <td>-74.006180</td>\n",
       "      <td>40.726795</td>\n",
       "      <td>-73.996951</td>\n",
       "      <td>9.0</td>\n",
       "    </tr>\n",
       "  </tbody>\n",
       "</table>\n",
       "</div>"
      ],
      "text/plain": [
       "   pickup_datetime_dayofweek  pickup_datetime_hour  pickup_latitude  \\\n",
       "0                        0.0                   0.0        40.762699   \n",
       "1                        0.0                   0.0        40.764397   \n",
       "3                        0.0                   0.0        40.721816   \n",
       "5                        0.0                   0.0        40.730494   \n",
       "6                        0.0                   0.0        40.736529   \n",
       "\n",
       "   pickup_longitude  dropoff_latitude  dropoff_longitude  avg_velocity_mph  \n",
       "0        -73.993012         40.763441         -73.982681               7.0  \n",
       "1        -73.973715         40.728419         -73.987140               9.0  \n",
       "3        -73.997203         40.736494         -73.997044               7.0  \n",
       "5        -73.995721         40.730473         -73.986724               6.0  \n",
       "6        -74.006180         40.726795         -73.996951               9.0  "
      ]
     },
     "execution_count": 66,
     "metadata": {},
     "output_type": "execute_result"
    }
   ],
   "source": [
    "time_regression_df.head()"
   ]
  },
  {
   "cell_type": "code",
   "execution_count": 67,
   "metadata": {
    "collapsed": false
   },
   "outputs": [
    {
     "data": {
      "text/html": [
       "<div>\n",
       "<table border=\"1\" class=\"dataframe\">\n",
       "  <thead>\n",
       "    <tr style=\"text-align: right;\">\n",
       "      <th></th>\n",
       "      <th>pickup_datetime_dayofweek</th>\n",
       "      <th>pickup_datetime_hour</th>\n",
       "      <th>pickup_latitude</th>\n",
       "      <th>pickup_longitude</th>\n",
       "      <th>dropoff_latitude</th>\n",
       "      <th>dropoff_longitude</th>\n",
       "      <th>avg_velocity_mph</th>\n",
       "    </tr>\n",
       "  </thead>\n",
       "  <tbody>\n",
       "    <tr>\n",
       "      <th>185735</th>\n",
       "      <td>6.0</td>\n",
       "      <td>23.0</td>\n",
       "      <td>40.692395</td>\n",
       "      <td>-73.993379</td>\n",
       "      <td>40.688070</td>\n",
       "      <td>-73.984106</td>\n",
       "      <td>7.0</td>\n",
       "    </tr>\n",
       "    <tr>\n",
       "      <th>185736</th>\n",
       "      <td>6.0</td>\n",
       "      <td>23.0</td>\n",
       "      <td>40.707065</td>\n",
       "      <td>-74.007319</td>\n",
       "      <td>40.717488</td>\n",
       "      <td>-74.010455</td>\n",
       "      <td>9.0</td>\n",
       "    </tr>\n",
       "    <tr>\n",
       "      <th>185740</th>\n",
       "      <td>6.0</td>\n",
       "      <td>23.0</td>\n",
       "      <td>40.729170</td>\n",
       "      <td>-73.998102</td>\n",
       "      <td>40.721655</td>\n",
       "      <td>-74.002347</td>\n",
       "      <td>11.0</td>\n",
       "    </tr>\n",
       "    <tr>\n",
       "      <th>185741</th>\n",
       "      <td>6.0</td>\n",
       "      <td>23.0</td>\n",
       "      <td>40.734232</td>\n",
       "      <td>-73.986923</td>\n",
       "      <td>40.742909</td>\n",
       "      <td>-73.977061</td>\n",
       "      <td>9.0</td>\n",
       "    </tr>\n",
       "    <tr>\n",
       "      <th>185742</th>\n",
       "      <td>6.0</td>\n",
       "      <td>23.0</td>\n",
       "      <td>40.726281</td>\n",
       "      <td>-73.989780</td>\n",
       "      <td>40.722992</td>\n",
       "      <td>-73.979955</td>\n",
       "      <td>7.0</td>\n",
       "    </tr>\n",
       "  </tbody>\n",
       "</table>\n",
       "</div>"
      ],
      "text/plain": [
       "        pickup_datetime_dayofweek  pickup_datetime_hour  pickup_latitude  \\\n",
       "185735                        6.0                  23.0        40.692395   \n",
       "185736                        6.0                  23.0        40.707065   \n",
       "185740                        6.0                  23.0        40.729170   \n",
       "185741                        6.0                  23.0        40.734232   \n",
       "185742                        6.0                  23.0        40.726281   \n",
       "\n",
       "        pickup_longitude  dropoff_latitude  dropoff_longitude  \\\n",
       "185735        -73.993379         40.688070         -73.984106   \n",
       "185736        -74.007319         40.717488         -74.010455   \n",
       "185740        -73.998102         40.721655         -74.002347   \n",
       "185741        -73.986923         40.742909         -73.977061   \n",
       "185742        -73.989780         40.722992         -73.979955   \n",
       "\n",
       "        avg_velocity_mph  \n",
       "185735               7.0  \n",
       "185736               9.0  \n",
       "185740              11.0  \n",
       "185741               9.0  \n",
       "185742               7.0  "
      ]
     },
     "execution_count": 67,
     "metadata": {},
     "output_type": "execute_result"
    }
   ],
   "source": [
    "time_regression_df.tail()"
   ]
  },
  {
   "cell_type": "code",
   "execution_count": 68,
   "metadata": {
    "collapsed": false
   },
   "outputs": [
    {
     "data": {
      "text/html": [
       "<div>\n",
       "<table border=\"1\" class=\"dataframe\">\n",
       "  <thead>\n",
       "    <tr style=\"text-align: right;\">\n",
       "      <th></th>\n",
       "      <th>pickup_datetime_dayofweek</th>\n",
       "      <th>pickup_datetime_hour</th>\n",
       "      <th>pickup_latitude</th>\n",
       "      <th>pickup_longitude</th>\n",
       "      <th>dropoff_latitude</th>\n",
       "      <th>dropoff_longitude</th>\n",
       "      <th>avg_velocity_mph</th>\n",
       "    </tr>\n",
       "  </thead>\n",
       "  <tbody>\n",
       "    <tr>\n",
       "      <th>count</th>\n",
       "      <td>106044.000000</td>\n",
       "      <td>106044.000000</td>\n",
       "      <td>106044.000000</td>\n",
       "      <td>106044.000000</td>\n",
       "      <td>106044.000000</td>\n",
       "      <td>106044.000000</td>\n",
       "      <td>106044.000000</td>\n",
       "    </tr>\n",
       "    <tr>\n",
       "      <th>mean</th>\n",
       "      <td>2.603636</td>\n",
       "      <td>13.969918</td>\n",
       "      <td>40.735199</td>\n",
       "      <td>-73.990941</td>\n",
       "      <td>40.734848</td>\n",
       "      <td>-73.991118</td>\n",
       "      <td>7.036636</td>\n",
       "    </tr>\n",
       "    <tr>\n",
       "      <th>std</th>\n",
       "      <td>1.972009</td>\n",
       "      <td>4.992480</td>\n",
       "      <td>0.019369</td>\n",
       "      <td>0.012164</td>\n",
       "      <td>0.019295</td>\n",
       "      <td>0.012357</td>\n",
       "      <td>1.125662</td>\n",
       "    </tr>\n",
       "    <tr>\n",
       "      <th>min</th>\n",
       "      <td>0.000000</td>\n",
       "      <td>0.000000</td>\n",
       "      <td>40.680342</td>\n",
       "      <td>-74.017134</td>\n",
       "      <td>40.680342</td>\n",
       "      <td>-74.017134</td>\n",
       "      <td>6.000000</td>\n",
       "    </tr>\n",
       "    <tr>\n",
       "      <th>25%</th>\n",
       "      <td>1.000000</td>\n",
       "      <td>9.000000</td>\n",
       "      <td>40.722174</td>\n",
       "      <td>-73.999733</td>\n",
       "      <td>40.722174</td>\n",
       "      <td>-74.000264</td>\n",
       "      <td>6.000000</td>\n",
       "    </tr>\n",
       "    <tr>\n",
       "      <th>50%</th>\n",
       "      <td>2.000000</td>\n",
       "      <td>15.000000</td>\n",
       "      <td>40.737050</td>\n",
       "      <td>-73.990765</td>\n",
       "      <td>40.737050</td>\n",
       "      <td>-73.990931</td>\n",
       "      <td>7.000000</td>\n",
       "    </tr>\n",
       "    <tr>\n",
       "      <th>75%</th>\n",
       "      <td>4.000000</td>\n",
       "      <td>18.000000</td>\n",
       "      <td>40.750200</td>\n",
       "      <td>-73.981948</td>\n",
       "      <td>40.749718</td>\n",
       "      <td>-73.982050</td>\n",
       "      <td>8.000000</td>\n",
       "    </tr>\n",
       "    <tr>\n",
       "      <th>max</th>\n",
       "      <td>6.000000</td>\n",
       "      <td>23.000000</td>\n",
       "      <td>40.771522</td>\n",
       "      <td>-73.953809</td>\n",
       "      <td>40.771522</td>\n",
       "      <td>-73.953809</td>\n",
       "      <td>15.000000</td>\n",
       "    </tr>\n",
       "  </tbody>\n",
       "</table>\n",
       "</div>"
      ],
      "text/plain": [
       "       pickup_datetime_dayofweek  pickup_datetime_hour  pickup_latitude  \\\n",
       "count              106044.000000         106044.000000    106044.000000   \n",
       "mean                    2.603636             13.969918        40.735199   \n",
       "std                     1.972009              4.992480         0.019369   \n",
       "min                     0.000000              0.000000        40.680342   \n",
       "25%                     1.000000              9.000000        40.722174   \n",
       "50%                     2.000000             15.000000        40.737050   \n",
       "75%                     4.000000             18.000000        40.750200   \n",
       "max                     6.000000             23.000000        40.771522   \n",
       "\n",
       "       pickup_longitude  dropoff_latitude  dropoff_longitude  avg_velocity_mph  \n",
       "count     106044.000000     106044.000000      106044.000000     106044.000000  \n",
       "mean         -73.990941         40.734848         -73.991118          7.036636  \n",
       "std            0.012164          0.019295           0.012357          1.125662  \n",
       "min          -74.017134         40.680342         -74.017134          6.000000  \n",
       "25%          -73.999733         40.722174         -74.000264          6.000000  \n",
       "50%          -73.990765         40.737050         -73.990931          7.000000  \n",
       "75%          -73.981948         40.749718         -73.982050          8.000000  \n",
       "max          -73.953809         40.771522         -73.953809         15.000000  "
      ]
     },
     "execution_count": 68,
     "metadata": {},
     "output_type": "execute_result"
    }
   ],
   "source": [
    "time_regression_df.ix[:,0:7].describe()"
   ]
  },
  {
   "cell_type": "code",
   "execution_count": 69,
   "metadata": {
    "collapsed": false,
    "scrolled": true
   },
   "outputs": [
    {
     "name": "stdout",
     "output_type": "stream",
     "text": [
      "6.0     42576\n",
      "7.0     33360\n",
      "8.0     18609\n",
      "9.0      7849\n",
      "10.0     2705\n",
      "11.0      740\n",
      "12.0      162\n",
      "13.0       34\n",
      "14.0        7\n",
      "15.0        2\n",
      "Name: avg_velocity_mph, dtype: int64\n",
      "10\n"
     ]
    }
   ],
   "source": [
    "print(time_regression_df.avg_velocity_mph.value_counts())\n",
    "print(len(time_regression_df.avg_velocity_mph.value_counts()))"
   ]
  },
  {
   "cell_type": "markdown",
   "metadata": {},
   "source": [
    "So we hace 10 different velocities to predict."
   ]
  },
  {
   "cell_type": "markdown",
   "metadata": {},
   "source": [
    "# Split the data into a training dataset and a test dataset. Evaluate the performance of the decision tree on the test data"
   ]
  },
  {
   "cell_type": "code",
   "execution_count": 70,
   "metadata": {
    "collapsed": false
   },
   "outputs": [],
   "source": [
    "from sklearn import cross_validation as cv\n",
    "y = time_regression_df['avg_velocity_mph']\n",
    "X = time_regression_df.ix[:,0:6]\n",
    "X_train, X_test, y_train, y_test = cv.train_test_split(X, y,test_size=0.05,random_state=0) "
   ]
  },
  {
   "cell_type": "code",
   "execution_count": 71,
   "metadata": {
    "collapsed": true
   },
   "outputs": [],
   "source": [
    "from sklearn import cross_validation as cv\n",
    "time_regression_df_train, time_regression_df_test = cv.train_test_split(time_regression_df, test_size=0.05, random_state=99)\n",
    "y_train = time_regression_df_train['avg_velocity_mph']\n",
    "x_train = time_regression_df_train.ix[:, 0:6]\n",
    "y_test = time_regression_df_test['avg_velocity_mph']\n",
    "x_test = time_regression_df_test.ix[:, 0:6]"
   ]
  },
  {
   "cell_type": "markdown",
   "metadata": {},
   "source": [
    "# Changed test size to 5%"
   ]
  },
  {
   "cell_type": "code",
   "execution_count": 72,
   "metadata": {
    "collapsed": false
   },
   "outputs": [
    {
     "data": {
      "text/html": [
       "<div>\n",
       "<table border=\"1\" class=\"dataframe\">\n",
       "  <thead>\n",
       "    <tr style=\"text-align: right;\">\n",
       "      <th></th>\n",
       "      <th>pickup_datetime_dayofweek</th>\n",
       "      <th>pickup_datetime_hour</th>\n",
       "      <th>pickup_latitude</th>\n",
       "      <th>pickup_longitude</th>\n",
       "      <th>dropoff_latitude</th>\n",
       "      <th>dropoff_longitude</th>\n",
       "    </tr>\n",
       "  </thead>\n",
       "  <tbody>\n",
       "    <tr>\n",
       "      <th>38284</th>\n",
       "      <td>1.0</td>\n",
       "      <td>9.0</td>\n",
       "      <td>40.760203</td>\n",
       "      <td>-73.964785</td>\n",
       "      <td>40.756014</td>\n",
       "      <td>-73.967416</td>\n",
       "    </tr>\n",
       "    <tr>\n",
       "      <th>129690</th>\n",
       "      <td>4.0</td>\n",
       "      <td>17.0</td>\n",
       "      <td>40.757952</td>\n",
       "      <td>-73.977876</td>\n",
       "      <td>40.754557</td>\n",
       "      <td>-73.965930</td>\n",
       "    </tr>\n",
       "    <tr>\n",
       "      <th>109201</th>\n",
       "      <td>3.0</td>\n",
       "      <td>19.0</td>\n",
       "      <td>40.741444</td>\n",
       "      <td>-73.975361</td>\n",
       "      <td>40.725029</td>\n",
       "      <td>-73.990697</td>\n",
       "    </tr>\n",
       "    <tr>\n",
       "      <th>120605</th>\n",
       "      <td>4.0</td>\n",
       "      <td>11.0</td>\n",
       "      <td>40.722293</td>\n",
       "      <td>-73.991475</td>\n",
       "      <td>40.747659</td>\n",
       "      <td>-73.984907</td>\n",
       "    </tr>\n",
       "    <tr>\n",
       "      <th>89672</th>\n",
       "      <td>2.0</td>\n",
       "      <td>19.0</td>\n",
       "      <td>40.686919</td>\n",
       "      <td>-73.976682</td>\n",
       "      <td>40.683178</td>\n",
       "      <td>-73.965964</td>\n",
       "    </tr>\n",
       "  </tbody>\n",
       "</table>\n",
       "</div>"
      ],
      "text/plain": [
       "        pickup_datetime_dayofweek  pickup_datetime_hour  pickup_latitude  \\\n",
       "38284                         1.0                   9.0        40.760203   \n",
       "129690                        4.0                  17.0        40.757952   \n",
       "109201                        3.0                  19.0        40.741444   \n",
       "120605                        4.0                  11.0        40.722293   \n",
       "89672                         2.0                  19.0        40.686919   \n",
       "\n",
       "        pickup_longitude  dropoff_latitude  dropoff_longitude  \n",
       "38284         -73.964785         40.756014         -73.967416  \n",
       "129690        -73.977876         40.754557         -73.965930  \n",
       "109201        -73.975361         40.725029         -73.990697  \n",
       "120605        -73.991475         40.747659         -73.984907  \n",
       "89672         -73.976682         40.683178         -73.965964  "
      ]
     },
     "execution_count": 72,
     "metadata": {},
     "output_type": "execute_result"
    }
   ],
   "source": [
    "x_test.head()"
   ]
  },
  {
   "cell_type": "code",
   "execution_count": 73,
   "metadata": {
    "collapsed": false
   },
   "outputs": [
    {
     "data": {
      "text/plain": [
       "38284     7.0\n",
       "129690    8.0\n",
       "109201    8.0\n",
       "120605    7.0\n",
       "89672     6.0\n",
       "Name: avg_velocity_mph, dtype: float64"
      ]
     },
     "execution_count": 73,
     "metadata": {},
     "output_type": "execute_result"
    }
   ],
   "source": [
    "y_test.head()"
   ]
  },
  {
   "cell_type": "code",
   "execution_count": 74,
   "metadata": {
    "collapsed": false
   },
   "outputs": [],
   "source": [
    "xy_test = pd.concat([x_test, y_test], axis=1)"
   ]
  },
  {
   "cell_type": "code",
   "execution_count": 75,
   "metadata": {
    "collapsed": false
   },
   "outputs": [
    {
     "data": {
      "text/html": [
       "<div>\n",
       "<table border=\"1\" class=\"dataframe\">\n",
       "  <thead>\n",
       "    <tr style=\"text-align: right;\">\n",
       "      <th></th>\n",
       "      <th>pickup_datetime_dayofweek</th>\n",
       "      <th>pickup_datetime_hour</th>\n",
       "      <th>pickup_latitude</th>\n",
       "      <th>pickup_longitude</th>\n",
       "      <th>dropoff_latitude</th>\n",
       "      <th>dropoff_longitude</th>\n",
       "      <th>avg_velocity_mph</th>\n",
       "    </tr>\n",
       "  </thead>\n",
       "  <tbody>\n",
       "    <tr>\n",
       "      <th>38284</th>\n",
       "      <td>1.0</td>\n",
       "      <td>9.0</td>\n",
       "      <td>40.760203</td>\n",
       "      <td>-73.964785</td>\n",
       "      <td>40.756014</td>\n",
       "      <td>-73.967416</td>\n",
       "      <td>7.0</td>\n",
       "    </tr>\n",
       "    <tr>\n",
       "      <th>129690</th>\n",
       "      <td>4.0</td>\n",
       "      <td>17.0</td>\n",
       "      <td>40.757952</td>\n",
       "      <td>-73.977876</td>\n",
       "      <td>40.754557</td>\n",
       "      <td>-73.965930</td>\n",
       "      <td>8.0</td>\n",
       "    </tr>\n",
       "    <tr>\n",
       "      <th>109201</th>\n",
       "      <td>3.0</td>\n",
       "      <td>19.0</td>\n",
       "      <td>40.741444</td>\n",
       "      <td>-73.975361</td>\n",
       "      <td>40.725029</td>\n",
       "      <td>-73.990697</td>\n",
       "      <td>8.0</td>\n",
       "    </tr>\n",
       "    <tr>\n",
       "      <th>120605</th>\n",
       "      <td>4.0</td>\n",
       "      <td>11.0</td>\n",
       "      <td>40.722293</td>\n",
       "      <td>-73.991475</td>\n",
       "      <td>40.747659</td>\n",
       "      <td>-73.984907</td>\n",
       "      <td>7.0</td>\n",
       "    </tr>\n",
       "    <tr>\n",
       "      <th>89672</th>\n",
       "      <td>2.0</td>\n",
       "      <td>19.0</td>\n",
       "      <td>40.686919</td>\n",
       "      <td>-73.976682</td>\n",
       "      <td>40.683178</td>\n",
       "      <td>-73.965964</td>\n",
       "      <td>6.0</td>\n",
       "    </tr>\n",
       "  </tbody>\n",
       "</table>\n",
       "</div>"
      ],
      "text/plain": [
       "        pickup_datetime_dayofweek  pickup_datetime_hour  pickup_latitude  \\\n",
       "38284                         1.0                   9.0        40.760203   \n",
       "129690                        4.0                  17.0        40.757952   \n",
       "109201                        3.0                  19.0        40.741444   \n",
       "120605                        4.0                  11.0        40.722293   \n",
       "89672                         2.0                  19.0        40.686919   \n",
       "\n",
       "        pickup_longitude  dropoff_latitude  dropoff_longitude  \\\n",
       "38284         -73.964785         40.756014         -73.967416   \n",
       "129690        -73.977876         40.754557         -73.965930   \n",
       "109201        -73.975361         40.725029         -73.990697   \n",
       "120605        -73.991475         40.747659         -73.984907   \n",
       "89672         -73.976682         40.683178         -73.965964   \n",
       "\n",
       "        avg_velocity_mph  \n",
       "38284                7.0  \n",
       "129690               8.0  \n",
       "109201               8.0  \n",
       "120605               7.0  \n",
       "89672                6.0  "
      ]
     },
     "execution_count": 75,
     "metadata": {},
     "output_type": "execute_result"
    }
   ],
   "source": [
    "xy_test.head()"
   ]
  },
  {
   "cell_type": "markdown",
   "metadata": {},
   "source": [
    "If you want to export something..."
   ]
  },
  {
   "cell_type": "code",
   "execution_count": 76,
   "metadata": {
    "collapsed": true
   },
   "outputs": [],
   "source": [
    "#Xy_test.to_csv('taxi_tree_test_Xy_20130506-12.csv')\n",
    "#X_test.to_csv('taxi_tree_test_X_20130506-12.csv')\n",
    "#y_test.to_csv('taxi_tree_test_y_20130506-12.csv')\n",
    "# Xy_test.to_csv('bike_tree_test_Xy_20140505-11.csv')\n",
    "# X_test.to_csv('bike_tree_test_X_20140505-11.csv')\n",
    "# y_test.to_csv('bike_tree_test_y_20140506-11.csv')"
   ]
  },
  {
   "cell_type": "code",
   "execution_count": 77,
   "metadata": {
    "collapsed": true
   },
   "outputs": [],
   "source": [
    "# Xy_test_sample = Xy_test.sample(10000, random_state=99)"
   ]
  },
  {
   "cell_type": "code",
   "execution_count": 78,
   "metadata": {
    "collapsed": true
   },
   "outputs": [],
   "source": [
    "# Xy_test_sample.to_csv('taxi_tree_test_Xy_sample.csv')"
   ]
  },
  {
   "cell_type": "code",
   "execution_count": 79,
   "metadata": {
    "collapsed": false
   },
   "outputs": [],
   "source": [
    "# Xy_test_sample.head()"
   ]
  },
  {
   "cell_type": "markdown",
   "metadata": {},
   "source": [
    "Just to be sure"
   ]
  },
  {
   "cell_type": "code",
   "execution_count": 80,
   "metadata": {
    "collapsed": false
   },
   "outputs": [
    {
     "name": "stdout",
     "output_type": "stream",
     "text": [
      "(100741, 6)\n",
      "604446\n",
      "(5303, 6)\n",
      "106044\n"
     ]
    }
   ],
   "source": [
    "print(x_train.shape)\n",
    "print(x_train.size)\n",
    "print(x_test.shape)\n",
    "print(x_train.shape[0]+x_test.shape[0])"
   ]
  },
  {
   "cell_type": "code",
   "execution_count": 81,
   "metadata": {
    "collapsed": false
   },
   "outputs": [
    {
     "name": "stdout",
     "output_type": "stream",
     "text": [
      "Automatically created module for IPython interactive environment\n"
     ]
    }
   ],
   "source": [
    "print(__doc__)\n",
    "import time\n",
    "# Import the necessary modules and libraries\n",
    "from sklearn.tree import DecisionTreeRegressor\n",
    "import numpy as np\n",
    "import matplotlib.pyplot as plt"
   ]
  },
  {
   "cell_type": "code",
   "execution_count": 82,
   "metadata": {
    "collapsed": false
   },
   "outputs": [
    {
     "data": {
      "text/plain": [
       "0.11912472409623709"
      ]
     },
     "execution_count": 82,
     "metadata": {},
     "output_type": "execute_result"
    }
   ],
   "source": [
    "regtree = DecisionTreeRegressor(min_samples_split=100, random_state=99, max_depth=20)# formerly 15. 15 is reasonable\n",
    "                                                                                     # random states: 99\n",
    "regtree.fit(x_train, y_train)\n",
    "\n",
    "regtree.score(x_test, y_test)\n"
   ]
  },
  {
   "cell_type": "code",
   "execution_count": 83,
   "metadata": {
    "collapsed": false
   },
   "outputs": [
    {
     "name": "stdout",
     "output_type": "stream",
     "text": [
      "Perzentile(%):  [1, 5, 10, 15, 25, 50, 75, 90, 95, 99] \n",
      " [-3.10410581 -1.99446494 -1.4        -1.13986047 -0.56306818  0.19925743\n",
      "  0.74845592  1.16598639  1.41176471  1.9564538 ]\n",
      "Absolute time deviation (in 1k):  4.488221403\n"
     ]
    },
    {
     "data": {
      "image/png": "[encoded data removed]",
      "text/plain": [
       "<matplotlib.figure.Figure at 0x7f85dad3fa90>"
      ]
     },
     "metadata": {},
     "output_type": "display_data"
    }
   ],
   "source": [
    "y_pred = regtree.predict(x_test)\n",
    "diff_regtree = (y_pred-y_test)\n",
    "# plt.figure(figsize=(12,10)) # not needed. set values globally\n",
    "plt.hist(diff_regtree.values, bins=100, range=[-6,6])\n",
    "print('Perzentile(%): ', [1,5,10,15,25,50,75,90,95,99], '\\n', np.percentile(diff_regtree.values, [1,5,10,15,25,50,75,90,95,99]))\n",
    "print('Absolute time deviation (in 1k): ', sum(abs(diff_regtree))/1000)\n",
    "plt.title('Simple Decision Tree Regressor')\n",
    "plt.xlabel('deviation in mph')\n",
    "plt.ylabel('frequency')\n",
    "plt.savefig('figures/bike_tree.png', format='png', dpi=300)"
   ]
  },
  {
   "cell_type": "code",
   "execution_count": null,
   "metadata": {
    "collapsed": false
   },
   "outputs": [
    {
     "data": {
      "text/plain": [
       "count    5303.000000\n",
       "mean        0.003596\n",
       "std         1.065819\n",
       "min        -7.033333\n",
       "25%        -0.563068\n",
       "50%         0.199257\n",
       "75%         0.748456\n",
       "max         4.125000\n",
       "Name: avg_velocity_mph, dtype: float64"
      ]
     },
     "execution_count": 84,
     "metadata": {},
     "output_type": "execute_result"
    }
   ],
   "source": [
    "diff_regtree.describe()"
   ]
  },
  {
   "cell_type": "markdown",
   "metadata": {},
   "source": [
    "# So this is a bad result. Let's try random forest now."
   ]
  },
  {
   "cell_type": "markdown",
   "metadata": {},
   "source": [
    "## Train several random forests and look at their scores"
   ]
  },
  {
   "cell_type": "code",
   "execution_count": null,
   "metadata": {
    "collapsed": false
   },
   "outputs": [],
   "source": [
    "from sklearn.ensemble import RandomForestRegressor\n",
    "n_est_list = list(range(2,32,8))\n",
    "min_sam_leaf_list = [2,50,100,150]\n",
    "max_depth_list = list(range(2,32,8))\n",
    "results = np.empty([0,4])\n",
    "for n_est in n_est_list:\n",
    "    for min_sam_leaf in min_sam_leaf_list:\n",
    "        for max_depth in max_depth_list:\n",
    "            rd_regtree = RandomForestRegressor(n_estimators=n_est,n_jobs=6,min_samples_leaf=min_sam_leaf, random_state=99, max_depth=max_depth)\n",
    "            rd_regtree.fit(x_train, y_train)\n",
    "            score = rd_regtree.score(x_test, y_test)\n",
    "            results = np.vstack((results, [n_est, min_sam_leaf, max_depth,score]))"
   ]
  },
  {
   "cell_type": "code",
   "execution_count": null,
   "metadata": {
    "collapsed": false
   },
   "outputs": [],
   "source": [
    "best = np.where(results == max(results[:,3]))[0]\n",
    "results[best,:]"
   ]
  },
  {
   "cell_type": "markdown",
   "metadata": {},
   "source": [
    "Watch at the best results."
   ]
  },
  {
   "cell_type": "code",
   "execution_count": null,
   "metadata": {
    "collapsed": false
   },
   "outputs": [],
   "source": [
    "results[np.argsort(results[:, 3])][-10:,:]"
   ]
  },
  {
   "cell_type": "code",
   "execution_count": null,
   "metadata": {
    "collapsed": false
   },
   "outputs": [],
   "source": [
    "results = np.vstack((results, [n_est, min_sam_leaf, max_depth,score]))\n",
    "#results = np.vstack((results, [n_est, min_sam_leaf, max_depth,score]))\n",
    "#results = np.vstack((results, [n_est, min_sam_leaf, max_depth,score]))\n",
    "results[:,3]"
   ]
  },
  {
   "cell_type": "markdown",
   "metadata": {},
   "source": [
    "# Train the best random forest again seperately"
   ]
  },
  {
   "cell_type": "code",
   "execution_count": null,
   "metadata": {
    "collapsed": false
   },
   "outputs": [],
   "source": [
    "from sklearn.ensemble import RandomForestRegressor\n",
    "\n",
    "#rd_regtree = RandomForestRegressor(n_estimators=10,n_jobs=6,min_samples_leaf=4, random_state=99, max_depth=20)\n",
    "rd_regtree = RandomForestRegressor(n_estimators=26,n_jobs=6,min_samples_leaf=2, random_state=99, max_depth=26)\n",
    "#total sum of diff: 1132\n",
    "#rd_regtree = RandomForestRegressor(n_estimators=40,n_jobs=-1,min_samples_split=3, random_state=99, max_depth=11)\n",
    "#total sum of diff: 1129\n",
    "rd_regtree.fit(x_train, y_train)\n",
    "print('R²: ', rd_regtree.score(x_test, y_test))"
   ]
  },
  {
   "cell_type": "code",
   "execution_count": null,
   "metadata": {
    "collapsed": false
   },
   "outputs": [],
   "source": [
    "rd_regtree.feature_importances_"
   ]
  },
  {
   "cell_type": "code",
   "execution_count": null,
   "metadata": {
    "collapsed": false
   },
   "outputs": [],
   "source": [
    "tree_list = rd_regtree.estimators_\n",
    "for i in range(0,len(tree_list)):\n",
    "    print((tree_list[i].feature_importances_))\n"
   ]
  },
  {
   "cell_type": "code",
   "execution_count": null,
   "metadata": {
    "collapsed": false
   },
   "outputs": [],
   "source": [
    "from mpl_toolkits.mplot3d import Axes3D\n",
    "fig = plt.figure()\n",
    "ax = fig.add_subplot(111, projection='3d')\n",
    "ax.scatter(results[:,0],results[:,2],results[:,3], marker='o')\n",
    "plt.show()"
   ]
  },
  {
   "cell_type": "code",
   "execution_count": null,
   "metadata": {
    "collapsed": false
   },
   "outputs": [],
   "source": [
    "y_pred = rd_regtree.predict(x_test)\n",
    "np.linalg.norm(np.ceil(y_pred)-y_test)\n",
    "diff_rd = (y_pred-y_test)\n",
    "# plt.figure(figsize=(12,10)) # not needed. set values globally\n",
    "plt.hist(diff_rd.values, bins=100, range=[-6,6])\n",
    "print('Perzentile(%): ', [1,5,10,15,25,50,75,90,95,99], '\\n', np.percentile(diff_rd.values, [1,5,10,15,25,50,75,90,95,99]))\n",
    "print('Absolute time deviation (in 1k): ', sum(abs(diff_rd))/1000)\n",
    "plt.title('Random Forest Regressor')\n",
    "plt.xlabel('deviation in mph')\n",
    "plt.ylabel('frequency')\n",
    "plt.savefig('figures/bike_randomforest.png', format='png', dpi=150)"
   ]
  },
  {
   "cell_type": "code",
   "execution_count": null,
   "metadata": {
    "collapsed": false
   },
   "outputs": [],
   "source": [
    "diff_rd.describe()"
   ]
  },
  {
   "cell_type": "markdown",
   "metadata": {},
   "source": [
    "# Dump the best random forest..."
   ]
  },
  {
   "cell_type": "code",
   "execution_count": 408,
   "metadata": {
    "collapsed": false
   },
   "outputs": [
    {
     "data": {
      "text/plain": [
       "['randforlib/bike_regtree_10x_depth_20_PY27.pkl.pkl',\n",
       " 'randforlib/bike_regtree_10x_depth_20_PY27.pkl.pkl_01.npy',\n",
       " 'randforlib/bike_regtree_10x_depth_20_PY27.pkl.pkl_02.npy',\n",
       " 'randforlib/bike_regtree_10x_depth_20_PY27.pkl.pkl_03.npy',\n",
       " 'randforlib/bike_regtree_10x_depth_20_PY27.pkl.pkl_04.npy',\n",
       " 'randforlib/bike_regtree_10x_depth_20_PY27.pkl.pkl_05.npy',\n",
       " 'randforlib/bike_regtree_10x_depth_20_PY27.pkl.pkl_06.npy',\n",
       " 'randforlib/bike_regtree_10x_depth_20_PY27.pkl.pkl_07.npy',\n",
       " 'randforlib/bike_regtree_10x_depth_20_PY27.pkl.pkl_08.npy',\n",
       " 'randforlib/bike_regtree_10x_depth_20_PY27.pkl.pkl_09.npy',\n",
       " 'randforlib/bike_regtree_10x_depth_20_PY27.pkl.pkl_10.npy',\n",
       " 'randforlib/bike_regtree_10x_depth_20_PY27.pkl.pkl_11.npy',\n",
       " 'randforlib/bike_regtree_10x_depth_20_PY27.pkl.pkl_12.npy',\n",
       " 'randforlib/bike_regtree_10x_depth_20_PY27.pkl.pkl_13.npy',\n",
       " 'randforlib/bike_regtree_10x_depth_20_PY27.pkl.pkl_14.npy',\n",
       " 'randforlib/bike_regtree_10x_depth_20_PY27.pkl.pkl_15.npy',\n",
       " 'randforlib/bike_regtree_10x_depth_20_PY27.pkl.pkl_16.npy',\n",
       " 'randforlib/bike_regtree_10x_depth_20_PY27.pkl.pkl_17.npy',\n",
       " 'randforlib/bike_regtree_10x_depth_20_PY27.pkl.pkl_18.npy',\n",
       " 'randforlib/bike_regtree_10x_depth_20_PY27.pkl.pkl_19.npy',\n",
       " 'randforlib/bike_regtree_10x_depth_20_PY27.pkl.pkl_20.npy',\n",
       " 'randforlib/bike_regtree_10x_depth_20_PY27.pkl.pkl_21.npy',\n",
       " 'randforlib/bike_regtree_10x_depth_20_PY27.pkl.pkl_22.npy',\n",
       " 'randforlib/bike_regtree_10x_depth_20_PY27.pkl.pkl_23.npy',\n",
       " 'randforlib/bike_regtree_10x_depth_20_PY27.pkl.pkl_24.npy',\n",
       " 'randforlib/bike_regtree_10x_depth_20_PY27.pkl.pkl_25.npy',\n",
       " 'randforlib/bike_regtree_10x_depth_20_PY27.pkl.pkl_26.npy',\n",
       " 'randforlib/bike_regtree_10x_depth_20_PY27.pkl.pkl_27.npy',\n",
       " 'randforlib/bike_regtree_10x_depth_20_PY27.pkl.pkl_28.npy',\n",
       " 'randforlib/bike_regtree_10x_depth_20_PY27.pkl.pkl_29.npy',\n",
       " 'randforlib/bike_regtree_10x_depth_20_PY27.pkl.pkl_30.npy']"
      ]
     },
     "execution_count": 408,
     "metadata": {},
     "output_type": "execute_result"
    }
   ],
   "source": [
    "from sklearn.externals import joblib\n",
    "joblib.dump(rd_regtree, 'randforlib/bike_regtree_10x_depth_20_PY27.pkl.pkl', protocol=2)"
   ]
  },
  {
   "cell_type": "code",
   "execution_count": 409,
   "metadata": {
    "collapsed": false
   },
   "outputs": [
    {
     "name": "stdout",
     "output_type": "stream",
     "text": [
      "  adding: bike_regtree_10x_depth_20_PY27.pkl.pkl (deflated 67%)\n",
      "  adding: bike_regtree_10x_depth_20_PY27.pkl.pkl_01.npy (deflated 19%)\n",
      "  adding: bike_regtree_10x_depth_20_PY27.pkl.pkl_02.npy (deflated 64%)\n",
      "  adding: bike_regtree_10x_depth_20_PY27.pkl.pkl_03.npy (deflated 77%)\n",
      "  adding: bike_regtree_10x_depth_20_PY27.pkl.pkl_04.npy (deflated 19%)\n",
      "  adding: bike_regtree_10x_depth_20_PY27.pkl.pkl_05.npy (deflated 65%)\n",
      "  adding: bike_regtree_10x_depth_20_PY27.pkl.pkl_06.npy (deflated 77%)\n",
      "  adding: bike_regtree_10x_depth_20_PY27.pkl.pkl_07.npy (deflated 19%)\n",
      "  adding: bike_regtree_10x_depth_20_PY27.pkl.pkl_08.npy (deflated 64%)\n",
      "  adding: bike_regtree_10x_depth_20_PY27.pkl.pkl_09.npy (deflated 77%)\n",
      "  adding: bike_regtree_10x_depth_20_PY27.pkl.pkl_10.npy (deflated 19%)\n",
      "  adding: bike_regtree_10x_depth_20_PY27.pkl.pkl_11.npy (deflated 64%)\n",
      "  adding: bike_regtree_10x_depth_20_PY27.pkl.pkl_12.npy (deflated 77%)\n",
      "  adding: bike_regtree_10x_depth_20_PY27.pkl.pkl_13.npy (deflated 19%)\n",
      "  adding: bike_regtree_10x_depth_20_PY27.pkl.pkl_14.npy (deflated 65%)\n",
      "  adding: bike_regtree_10x_depth_20_PY27.pkl.pkl_15.npy (deflated 77%)\n",
      "  adding: bike_regtree_10x_depth_20_PY27.pkl.pkl_16.npy (deflated 19%)\n",
      "  adding: bike_regtree_10x_depth_20_PY27.pkl.pkl_17.npy (deflated 64%)\n",
      "  adding: bike_regtree_10x_depth_20_PY27.pkl.pkl_18.npy (deflated 77%)\n",
      "  adding: bike_regtree_10x_depth_20_PY27.pkl.pkl_19.npy (deflated 19%)\n",
      "  adding: bike_regtree_10x_depth_20_PY27.pkl.pkl_20.npy (deflated 65%)\n",
      "  adding: bike_regtree_10x_depth_20_PY27.pkl.pkl_21.npy (deflated 78%)\n",
      "  adding: bike_regtree_10x_depth_20_PY27.pkl.pkl_22.npy (deflated 19%)\n",
      "  adding: bike_regtree_10x_depth_20_PY27.pkl.pkl_23.npy (deflated 65%)\n",
      "  adding: bike_regtree_10x_depth_20_PY27.pkl.pkl_24.npy (deflated 77%)\n",
      "  adding: bike_regtree_10x_depth_20_PY27.pkl.pkl_25.npy (deflated 19%)\n",
      "  adding: bike_regtree_10x_depth_20_PY27.pkl.pkl_26.npy (deflated 64%)\n",
      "  adding: bike_regtree_10x_depth_20_PY27.pkl.pkl_27.npy (deflated 77%)\n",
      "  adding: bike_regtree_10x_depth_20_PY27.pkl.pkl_28.npy (deflated 19%)\n",
      "  adding: bike_regtree_10x_depth_20_PY27.pkl.pkl_29.npy (deflated 65%)\n",
      "  adding: bike_regtree_10x_depth_20_PY27.pkl.pkl_30.npy (deflated 77%)\n"
     ]
    }
   ],
   "source": [
    "! cd randforlib && zip bike_regtree_10x_depth_20.zip bike_regtree_10x_depth_20_PY27.pkl.pkl*"
   ]
  }
 ],
 "metadata": {
  "kernelspec": {
   "display_name": "Python 3",
   "language": "python",
   "name": "python3"
  },
  "language_info": {
   "codemirror_mode": {
    "name": "ipython",
    "version": 3
   },
   "file_extension": ".py",
   "mimetype": "text/x-python",
   "name": "python",
   "nbconvert_exporter": "python",
   "pygments_lexer": "ipython3",
   "version": "3.5.1"
  }
 },
 "nbformat": 4,
 "nbformat_minor": 0
}
